{
 "cells": [
  {
   "cell_type": "code",
   "execution_count": 1,
   "metadata": {},
   "outputs": [],
   "source": [
    "from common import colors"
   ]
  },
  {
   "cell_type": "code",
   "execution_count": 2,
   "metadata": {},
   "outputs": [
    {
     "name": "stdout",
     "output_type": "stream",
     "text": [
      "/Users/eharkin/Documents/projects/5HTGIF\n"
     ]
    }
   ],
   "source": [
    "from __future__ import division\n",
    "\n",
    "import os; os.chdir(os.path.join('..', '..', '..'))\n",
    "print os.getcwd()"
   ]
  },
  {
   "cell_type": "code",
   "execution_count": 3,
   "metadata": {},
   "outputs": [],
   "source": [
    "import warnings\n",
    "import re\n",
    "\n",
    "import pandas as pd\n",
    "import matplotlib.pyplot as plt\n",
    "import matplotlib.gridspec as gs\n",
    "import seaborn as sns\n",
    "import numpy as np\n",
    "from sklearn.model_selection import ParameterGrid\n",
    "from scipy import stats\n",
    "\n",
    "from ezephys import pltools\n",
    "from statannot import add_stat_annotation\n",
    "\n",
    "from grr.Simulation import GIFnet_Simulation\n",
    "from grr.GainEstimator import GainEstimator\n",
    "from grr.Tools import raiseExpectedGot, timeToIndex, reprint\n",
    "from grr.Spiketrain import PSTH\n",
    "from grr.CurveFit import plot_linear_fit"
   ]
  },
  {
   "cell_type": "code",
   "execution_count": 4,
   "metadata": {},
   "outputs": [],
   "source": [
    "plt.style.use(os.path.join('figs', 'scripts', 'writeup', 'publication_figure_style.dms'))\n",
    "plt.rc('text', usetex=False)\n",
    "IMG_PATH = os.path.join('figs', 'ims', 'writeup', 'GIF_network')"
   ]
  },
  {
   "cell_type": "code",
   "execution_count": 5,
   "metadata": {},
   "outputs": [],
   "source": [
    "def infer_gaba_condition(dir_name):\n",
    "    regex_match = re.search(r'GABA_(.*)', dir_name)\n",
    "    if regex_match is not None:\n",
    "        condition = regex_match.groups()[-1]\n",
    "    elif 'endocannabinoid' == dir_name:\n",
    "        condition = 'endocannabinoid'\n",
    "    else:\n",
    "        raise ValueError('Unrecognized GABA condition {}'.format(dir_name))\n",
    "    return condition"
   ]
  },
  {
   "cell_type": "code",
   "execution_count": 6,
   "metadata": {},
   "outputs": [
    {
     "data": {
      "text/html": [
       "<div>\n",
       "<style scoped>\n",
       "    .dataframe tbody tr th:only-of-type {\n",
       "        vertical-align: middle;\n",
       "    }\n",
       "\n",
       "    .dataframe tbody tr th {\n",
       "        vertical-align: top;\n",
       "    }\n",
       "\n",
       "    .dataframe thead th {\n",
       "        text-align: right;\n",
       "    }\n",
       "</style>\n",
       "<table border=\"1\" class=\"dataframe\">\n",
       "  <thead>\n",
       "    <tr style=\"text-align: right;\">\n",
       "      <th></th>\n",
       "      <th>Circuit</th>\n",
       "      <th>Condition</th>\n",
       "      <th>Mod type</th>\n",
       "      <th>Model</th>\n",
       "      <th>Rep</th>\n",
       "    </tr>\n",
       "  </thead>\n",
       "  <tbody>\n",
       "    <tr>\n",
       "      <th>0</th>\n",
       "      <td>mPFC</td>\n",
       "      <td>KO</td>\n",
       "      <td>base</td>\n",
       "      <td>[ser]</td>\n",
       "      <td>0</td>\n",
       "    </tr>\n",
       "    <tr>\n",
       "      <th>1</th>\n",
       "      <td>mPFC</td>\n",
       "      <td>KO</td>\n",
       "      <td>base</td>\n",
       "      <td>[ser]</td>\n",
       "      <td>1</td>\n",
       "    </tr>\n",
       "    <tr>\n",
       "      <th>2</th>\n",
       "      <td>mPFC</td>\n",
       "      <td>KO</td>\n",
       "      <td>base</td>\n",
       "      <td>[ser]</td>\n",
       "      <td>2</td>\n",
       "    </tr>\n",
       "    <tr>\n",
       "      <th>3</th>\n",
       "      <td>mPFC</td>\n",
       "      <td>KO</td>\n",
       "      <td>base</td>\n",
       "      <td>[ser]</td>\n",
       "      <td>3</td>\n",
       "    </tr>\n",
       "    <tr>\n",
       "      <th>4</th>\n",
       "      <td>mPFC</td>\n",
       "      <td>KO</td>\n",
       "      <td>base</td>\n",
       "      <td>[ser]</td>\n",
       "      <td>4</td>\n",
       "    </tr>\n",
       "  </tbody>\n",
       "</table>\n",
       "</div>"
      ],
      "text/plain": [
       "  Circuit Condition Mod type  Model  Rep\n",
       "0    mPFC        KO     base  [ser]    0\n",
       "1    mPFC        KO     base  [ser]    1\n",
       "2    mPFC        KO     base  [ser]    2\n",
       "3    mPFC        KO     base  [ser]    3\n",
       "4    mPFC        KO     base  [ser]    4"
      ]
     },
     "execution_count": 6,
     "metadata": {},
     "output_type": "execute_result"
    }
   ],
   "source": [
    "DATA_PATH = os.path.join('data', 'simulations', 'GIF_network', 'step_input')\n",
    "\n",
    "sim_dict = {'Circuit': [], 'Mod type': [], 'Condition': [], 'Rep': [], 'Model': []}\n",
    "\n",
    "network_models = [\n",
    "    'DRN_homogenous_GABA_only',\n",
    "    'DRN_homogenous_adaptation_swap',\n",
    "    'DRN_homogenous_base',\n",
    "    'DRN_subsample_adaptation_swap',\n",
    "    'DRN_subsample_base',\n",
    "    'DRN_subsample_fixedIA',\n",
    "    'DRN_subsample_noIA',\n",
    "    'mPFC_base'\n",
    "]\n",
    "\n",
    "for network_model in network_models:\n",
    "    for gaba_condition in os.listdir(os.path.join(DATA_PATH, network_model)):\n",
    "        for fname in os.listdir(os.path.join(DATA_PATH, network_model, gaba_condition)):\n",
    "            if fname.endswith(('hdf5', 'h5')):\n",
    "\n",
    "                sim_dict['Circuit'].append(\n",
    "                    re.search(r'(DRN|mPFC)_(.*)', network_model).groups()[-2]\n",
    "                )\n",
    "                sim_dict['Mod type'].append(\n",
    "                    re.search(r'(DRN|mPFC)_(.*)', network_model).groups()[-1]\n",
    "                )\n",
    "                sim_dict['Condition'].append(infer_gaba_condition(gaba_condition))\n",
    "                sim_dict['Rep'].append(\n",
    "                    int(re.search(r'rep([0-9]+)', fname).groups()[-1])\n",
    "                )\n",
    "                sim_dict['Model'].append(\n",
    "                    GIFnet_Simulation(\n",
    "                        os.path.join(DATA_PATH, network_model, gaba_condition, fname), \n",
    "                        mode = 'r'\n",
    "                    )\n",
    "                )\n",
    "\n",
    "sim_df = pd.DataFrame(sim_dict).sort_values(['Mod type', 'Condition', 'Rep'])\n",
    "sim_df.reset_index(inplace=True, drop=True)\n",
    "sim_df.head()"
   ]
  },
  {
   "cell_type": "code",
   "execution_count": 7,
   "metadata": {},
   "outputs": [],
   "source": [
    "sim_df['Principal PSTH'] = None\n",
    "sim_df['Principal PSTH'] = sim_df['Principal PSTH'].astype(object)\n",
    "sim_df['GABA PSTH'] = None\n",
    "sim_df['GABA PSTH'] = sim_df['GABA PSTH'].astype(object)"
   ]
  },
  {
   "cell_type": "code",
   "execution_count": 8,
   "metadata": {},
   "outputs": [
    {
     "name": "stdout",
     "output_type": "stream",
     "text": [
      "Computing PSTH 99.8%\n",
      "Done!\n"
     ]
    }
   ],
   "source": [
    "PSTH_width = 50.\n",
    "\n",
    "for i in range(sim_df.shape[0]):\n",
    "    reprint('Computing PSTH {:.1f}%'.format(100. * i / sim_df.shape[0]))\n",
    "    \n",
    "    # Get PSTH from 5HT population.\n",
    "    sim_df.at[i, 'Principal PSTH'] = np.empty((\n",
    "        sim_df.loc[i, 'Model'].get_no_sweeps(), \n",
    "        sim_df.loc[i, 'Model'].get_no_timesteps()\n",
    "    ))\n",
    "    for sweep_no in range(sim_df.loc[i, 'Model'].get_no_sweeps()):\n",
    "        sim_df.loc[i, 'Principal PSTH'][sweep_no, :] = PSTH(\n",
    "            sim_df.loc[i, 'Model'].ser_spktrains[sweep_no, ...].sum(axis = 0),\n",
    "            PSTH_width,\n",
    "            sim_df.loc[i, 'Model'].get_no_ser_neurons()\n",
    "        )\n",
    "    \n",
    "    # Get PSTHs from GABA population.\n",
    "    if sim_df.loc[i, 'Condition'] != 'KO':\n",
    "        sim_df.at[i, 'GABA PSTH'] = np.empty((\n",
    "            sim_df.loc[i, 'Model'].get_no_sweeps(), \n",
    "            sim_df.loc[i, 'Model'].get_no_timesteps()\n",
    "        ))\n",
    "        for sweep_no in range(sim_df.loc[i, 'Model'].get_no_sweeps()):\n",
    "            sim_df.loc[i, 'GABA PSTH'][sweep_no, :] = PSTH(\n",
    "                sim_df.loc[i, 'Model'].gaba_spktrains[sweep_no, ...].sum(axis = 0),\n",
    "                PSTH_width,\n",
    "                sim_df.loc[i, 'Model'].get_no_gaba_neurons()\n",
    "            )\n",
    "    else:\n",
    "        sim_df.loc[i, 'GABA PSTH'] = None\n",
    "        continue\n",
    "\n",
    "print('\\nDone!')"
   ]
  },
  {
   "cell_type": "code",
   "execution_count": 9,
   "metadata": {},
   "outputs": [],
   "source": [
    "psth_dict = {'Circuit': [], 'Mod type': [], 'Condition': [], 'Principal PSTH': [], 'GABA PSTH': []}\n",
    "for circuit in sim_df['Circuit'].unique():\n",
    "    for modtype in sim_df.loc[sim_df['Circuit'] == circuit, 'Mod type'].unique():\n",
    "        for cond in sim_df.loc[(sim_df['Circuit'] == circuit) & (sim_df['Mod type'] == modtype), 'Condition'].unique():\n",
    "            psth_dict['Circuit'].append(circuit)\n",
    "            psth_dict['Mod type'].append(modtype)\n",
    "            psth_dict['Condition'].append(cond)\n",
    "            psth_dict['Principal PSTH'].append(np.array(\n",
    "                sim_df.loc[(sim_df['Circuit'] == circuit) & (sim_df['Condition'] == cond) & (sim_df['Mod type'] == modtype), 'Principal PSTH'].tolist()\n",
    "            ))\n",
    "            psth_dict['GABA PSTH'].append(np.array(\n",
    "                sim_df.loc[(sim_df['Circuit'] == circuit) & (sim_df['Condition'] == cond) & (sim_df['Mod type'] == modtype), 'GABA PSTH'].tolist()\n",
    "            ))\n",
    "psth_df = pd.DataFrame(psth_dict)\n",
    "del psth_dict"
   ]
  },
  {
   "cell_type": "code",
   "execution_count": 10,
   "metadata": {},
   "outputs": [
    {
     "data": {
      "text/html": [
       "<div>\n",
       "<style scoped>\n",
       "    .dataframe tbody tr th:only-of-type {\n",
       "        vertical-align: middle;\n",
       "    }\n",
       "\n",
       "    .dataframe tbody tr th {\n",
       "        vertical-align: top;\n",
       "    }\n",
       "\n",
       "    .dataframe thead th {\n",
       "        text-align: right;\n",
       "    }\n",
       "</style>\n",
       "<table border=\"1\" class=\"dataframe\">\n",
       "  <thead>\n",
       "    <tr style=\"text-align: right;\">\n",
       "      <th></th>\n",
       "      <th>Circuit</th>\n",
       "      <th>Condition</th>\n",
       "      <th>GABA PSTH</th>\n",
       "      <th>Mod type</th>\n",
       "      <th>Principal PSTH</th>\n",
       "    </tr>\n",
       "  </thead>\n",
       "  <tbody>\n",
       "    <tr>\n",
       "      <th>0</th>\n",
       "      <td>mPFC</td>\n",
       "      <td>KO</td>\n",
       "      <td>[None, None, None, None, None, None, None, Non...</td>\n",
       "      <td>base</td>\n",
       "      <td>[[[1.1333333333333335, 1.1333333333333335, 1.1...</td>\n",
       "    </tr>\n",
       "    <tr>\n",
       "      <th>1</th>\n",
       "      <td>DRN</td>\n",
       "      <td>KO</td>\n",
       "      <td>[None, None, None, None, None, None, None, Non...</td>\n",
       "      <td>homogenous_GABA_only</td>\n",
       "      <td>[[[0.06666666666666667, 0.06666666666666667, 0...</td>\n",
       "    </tr>\n",
       "    <tr>\n",
       "      <th>2</th>\n",
       "      <td>DRN</td>\n",
       "      <td>base</td>\n",
       "      <td>[[[0.1, 0.1, 0.1, 0.15000000000000002, 0.15000...</td>\n",
       "      <td>homogenous_GABA_only</td>\n",
       "      <td>[[[0.03333333333333333, 0.03333333333333333, 0...</td>\n",
       "    </tr>\n",
       "    <tr>\n",
       "      <th>3</th>\n",
       "      <td>DRN</td>\n",
       "      <td>endocannabinoid</td>\n",
       "      <td>[[[0.25, 0.25, 0.25, 0.25, 0.25, 0.25, 0.25, 0...</td>\n",
       "      <td>homogenous_GABA_only</td>\n",
       "      <td>[[[0.06666666666666667, 0.06666666666666667, 0...</td>\n",
       "    </tr>\n",
       "    <tr>\n",
       "      <th>4</th>\n",
       "      <td>DRN</td>\n",
       "      <td>KO</td>\n",
       "      <td>[None, None, None, None, None, None, None, Non...</td>\n",
       "      <td>homogenous_adaptation_swap</td>\n",
       "      <td>[[[0.06666666666666667, 0.06666666666666667, 0...</td>\n",
       "    </tr>\n",
       "  </tbody>\n",
       "</table>\n",
       "</div>"
      ],
      "text/plain": [
       "  Circuit        Condition                                          GABA PSTH  \\\n",
       "0    mPFC               KO  [None, None, None, None, None, None, None, Non...   \n",
       "1     DRN               KO  [None, None, None, None, None, None, None, Non...   \n",
       "2     DRN             base  [[[0.1, 0.1, 0.1, 0.15000000000000002, 0.15000...   \n",
       "3     DRN  endocannabinoid  [[[0.25, 0.25, 0.25, 0.25, 0.25, 0.25, 0.25, 0...   \n",
       "4     DRN               KO  [None, None, None, None, None, None, None, Non...   \n",
       "\n",
       "                     Mod type  \\\n",
       "0                        base   \n",
       "1        homogenous_GABA_only   \n",
       "2        homogenous_GABA_only   \n",
       "3        homogenous_GABA_only   \n",
       "4  homogenous_adaptation_swap   \n",
       "\n",
       "                                      Principal PSTH  \n",
       "0  [[[1.1333333333333335, 1.1333333333333335, 1.1...  \n",
       "1  [[[0.06666666666666667, 0.06666666666666667, 0...  \n",
       "2  [[[0.03333333333333333, 0.03333333333333333, 0...  \n",
       "3  [[[0.06666666666666667, 0.06666666666666667, 0...  \n",
       "4  [[[0.06666666666666667, 0.06666666666666667, 0...  "
      ]
     },
     "execution_count": 10,
     "metadata": {},
     "output_type": "execute_result"
    }
   ],
   "source": [
    "psth_df.head()"
   ]
  },
  {
   "cell_type": "code",
   "execution_count": 11,
   "metadata": {},
   "outputs": [],
   "source": [
    "def select_PSTH_dataset(dframe, circuit, condition, mod_type, psth_type='Principal PSTH'):\n",
    "    return dframe.loc[\n",
    "        (dframe['Circuit'] == circuit)\n",
    "        & (dframe['Condition'] == condition) \n",
    "        & (dframe['Mod type'] == mod_type), \n",
    "        psth_type\n",
    "    ].item()"
   ]
  },
  {
   "cell_type": "code",
   "execution_count": 12,
   "metadata": {},
   "outputs": [],
   "source": [
    "def get_step_amplitudes(simulation, step_start_time):\n",
    "    step_start_ind = timeToIndex(step_start_time, 0.1)[0]\n",
    "    baseline = simulation['ser/examples/I'][..., :step_start_ind].mean()\n",
    "    return simulation['ser/examples/I'][..., step_start_ind:].mean(axis=2).mean(axis=1) - baseline\n",
    "\n",
    "def get_pointwise_gain(psth_arr, step_amplitudes, baseline_start_time, step_start_time, cov=False, dt=0.1):\n",
    "    \"\"\"\n",
    "    Returns\n",
    "    -------\n",
    "    (gain, intercept) if cov = False, or (gain, intercept, parameter_covariance_matrix) if cov=True.\n",
    "    \n",
    "    \"\"\"\n",
    "    assert np.ndim(psth_arr) == 3\n",
    "    assert np.ndim(step_amplitudes) == 1\n",
    "    assert np.shape(psth_arr)[1] == len(step_amplitudes)\n",
    "    \n",
    "    step_start_ind = timeToIndex(step_start_time, dt)[0]\n",
    "    step_response = psth_arr[..., step_start_ind:]\n",
    "    mean_step_response = step_response.mean(axis=0)\n",
    "    \n",
    "    baseline_activity = psth_arr[..., timeToIndex(baseline_start_time, dt)[0]:step_start_ind]\n",
    "    mean_baseline_activity = baseline_activity.mean(axis=0).mean(axis=1)  # Average over sweeps and time.\n",
    "    assert np.ndim(mean_baseline_activity) == 1\n",
    "    assert len(mean_baseline_activity) == mean_step_response.shape[0]\n",
    "    \n",
    "    coeffs, V = np.polyfit(step_amplitudes, mean_step_response - mean_baseline_activity[:, np.newaxis], deg=1, cov=cov)\n",
    "    \n",
    "    if cov:\n",
    "        return coeffs[0, :], coeffs[1, :], V\n",
    "    else:\n",
    "        return coeffs[0, :], coeffs[1, :]"
   ]
  },
  {
   "cell_type": "code",
   "execution_count": 13,
   "metadata": {},
   "outputs": [],
   "source": [
    "step_amplitudes = get_step_amplitudes(sim_df.loc[0, 'Model'], 1000.)"
   ]
  },
  {
   "cell_type": "code",
   "execution_count": 14,
   "metadata": {
    "lines_to_next_cell": 1
   },
   "outputs": [],
   "source": [
    "def plot_lines_cmap(x, y, cmap, start=0., stop=1., ax=None, **pltargs):\n",
    "    if ax is None:\n",
    "        ax = plt.gca()\n",
    "    \n",
    "    colors = cmap(np.linspace(start, stop, np.shape(y)[1]))\n",
    "    for i in range(np.shape(y)[1]):\n",
    "        ax.plot(x, y[:, i], color=colors[i], **pltargs)"
   ]
  },
  {
   "cell_type": "code",
   "execution_count": 15,
   "metadata": {},
   "outputs": [],
   "source": [
    "class GainSimulationVisualizer(object):\n",
    "    def __init__(\n",
    "        self,\n",
    "        psth_dataframe,\n",
    "        step_amplitudes,\n",
    "        baseline_interval,\n",
    "        stimulus_interval,\n",
    "        dt=0.1,\n",
    "    ):\n",
    "        \"\"\"Initialize GainSimulationVisualizer.\n",
    "\n",
    "        Arguments\n",
    "        ---------\n",
    "        psth_dataframe : pandas.DataFrame\n",
    "        step_amplitudes : 1D float array\n",
    "        baseline_interval, stimulus_interval : pair of floats\n",
    "            Time window to extract baseline/stimulus (ms).\n",
    "        dt : float, default 0.1\n",
    "            Time step (ms).\n",
    "\n",
    "        \"\"\"\n",
    "        self.psth_dataframe = psth_dataframe\n",
    "        self.step_amplitudes = step_amplitudes\n",
    "        self.baseline_interval = baseline_interval\n",
    "        self.stimulus_interval = stimulus_interval\n",
    "        self.dt = dt\n",
    "\n",
    "    def plot_gain(\n",
    "        self, circuit, condition, mod_type, psth_type, ax=None, label=None, **pltargs\n",
    "    ):\n",
    "        \"\"\"Plot gain over time.\n",
    "\n",
    "        Wraps select_PSTH_dataset.\n",
    "\n",
    "        \"\"\"\n",
    "        if ax is None:\n",
    "            ax = plt.gca()\n",
    "\n",
    "        gain_estimator = self._fit_gain_estimator(\n",
    "            circuit, condition, mod_type, psth_type\n",
    "        )\n",
    "\n",
    "        ax.fill_between(\n",
    "            self._get_time_support(),\n",
    "            gain_estimator.gain - gain_estimator.gainUncertainty,\n",
    "            gain_estimator.gain + gain_estimator.gainUncertainty,\n",
    "            alpha=0.7,\n",
    "            lw=0,\n",
    "            **pltargs\n",
    "        )\n",
    "        ax.plot(self._get_time_support(), gain_estimator.gain, label=label, **pltargs)\n",
    "\n",
    "    def plot_intercept(\n",
    "        self, circuit, condition, mod_type, psth_type, ax=None, label=None, **pltargs\n",
    "    ):\n",
    "        \"\"\"Plot intercept over time.\n",
    "\n",
    "        Wraps select_PSTH_dataset.\n",
    "\n",
    "        \"\"\"\n",
    "        if ax is None:\n",
    "            ax = plt.gca()\n",
    "\n",
    "        gain_estimator = self._fit_gain_estimator(\n",
    "            circuit, condition, mod_type, psth_type\n",
    "        )\n",
    "\n",
    "        ax.fill_between(\n",
    "            self._get_time_support(),\n",
    "            gain_estimator.intercept - gain_estimator.interceptUncertainty,\n",
    "            gain_estimator.intercept + gain_estimator.interceptUncertainty,\n",
    "            alpha=0.7,\n",
    "            lw=0,\n",
    "            **pltargs\n",
    "        )\n",
    "        ax.plot(self._get_time_support(), gain_estimator.intercept, label=label, **pltargs)\n",
    "\n",
    "    def _fit_gain_estimator(self, circuit, condition, mod_type, psth_type):\n",
    "        dset = select_PSTH_dataset(\n",
    "            self.psth_dataframe, circuit, condition, mod_type, psth_type\n",
    "        )\n",
    "        gain_estimator = GainEstimator(self.dt)\n",
    "        gain_estimator.fit(\n",
    "            dset,\n",
    "            self.step_amplitudes,\n",
    "            self.baseline_interval,\n",
    "            self.stimulus_interval,\n",
    "        )\n",
    "        return gain_estimator\n",
    "    \n",
    "    def plot_psth(self, circuit, condition, mod_type, psth_type, sweeps, cmap, ax=None, label=None, **pltargs):\n",
    "        dset = select_PSTH_dataset(\n",
    "            self.psth_dataframe, circuit, condition, mod_type, psth_type\n",
    "        )\n",
    "        psth_mean = dset[..., self._get_stimulus_slice()].mean(axis=0)\n",
    "        psth_std = dset[..., self._get_stimulus_slice()].std(axis=0)\n",
    "        \n",
    "        if ax is None:\n",
    "            ax = plt.gca()\n",
    "        \n",
    "        colors = cmap(np.linspace(0.3, 1., psth_mean.shape[0]))\n",
    "        labeled_flag = False\n",
    "        for i in sweeps:\n",
    "            ax.fill_between(\n",
    "                self._get_time_support(), \n",
    "                psth_mean[i, :] - psth_std[i, :], \n",
    "                psth_mean[i, :] + psth_std[i, :], \n",
    "                color=colors[i], \n",
    "                alpha=0.7,\n",
    "                lw=0,\n",
    "                **pltargs\n",
    "            )\n",
    "            if not labeled_flag:\n",
    "                ax.plot(self._get_time_support(), psth_mean[i, :], color=colors[i], label=label, **pltargs)\n",
    "                labeled_flag = True\n",
    "            else:\n",
    "                ax.plot(self._get_time_support(), psth_mean[i, :], color=colors[i], **pltargs)\n",
    "    \n",
    "    def _get_stimulus_slice(self):\n",
    "        return slice(*timeToIndex(self.stimulus_interval, self.dt))\n",
    "\n",
    "    def _get_time_support(self):\n",
    "        return np.arange(\n",
    "            0.0,\n",
    "            (self.stimulus_interval[1] - self.stimulus_interval[0])\n",
    "            - 0.5 * self.dt,\n",
    "            self.dt,\n",
    "        )"
   ]
  },
  {
   "cell_type": "code",
   "execution_count": 16,
   "metadata": {},
   "outputs": [],
   "source": [
    "visualizer = GainSimulationVisualizer(psth_df, step_amplitudes, (800., 900.), (1000., 1900.))"
   ]
  },
  {
   "cell_type": "markdown",
   "metadata": {},
   "source": [
    "# Publication figures\n",
    "## Interpretation of network output"
   ]
  },
  {
   "cell_type": "code",
   "execution_count": 17,
   "metadata": {},
   "outputs": [
    {
     "data": {
      "image/png": "[encoded data removed]",
      "text/plain": [
       "<Figure size 720x180 with 3 Axes>"
      ]
     },
     "metadata": {
      "needs_background": "light"
     },
     "output_type": "display_data"
    }
   ],
   "source": [
    "ser_ctrl_psth = select_PSTH_dataset(psth_df, 'DRN', 'KO', 'subsample_base', 'Principal PSTH')\n",
    "\n",
    "ebar_params = {'ls': 'none', 'capsize': 3, 'ecolor': 'k', 'markersize': 3}\n",
    "markeredgecolor='gray'\n",
    "cmap = plt.get_cmap('Greys')\n",
    "stim_start_time = 1000.\n",
    "peak_ind = 10400\n",
    "steady_ind = 18500\n",
    "t_vec = sim_df['Model'][0].get_t_vec() - stim_start_time\n",
    "\n",
    "spec = gs.GridSpec(1, 3)\n",
    "\n",
    "plt.figure(figsize=(6, 1.5))\n",
    "\n",
    "plt.subplot(spec[:, 0])\n",
    "visualizer.plot_psth('DRN', 'KO', 'subsample_base', 'Principal PSTH', range(0, 10, 3), cmap)\n",
    "#plot_lines_cmap(t_vec, ser_ctrl_psth[0, ::3, :].T, cmap, start=0.1)\n",
    "plt.plot(\n",
    "    [peak_ind * 0.1 - stim_start_time] * 4, \n",
    "    ser_ctrl_psth[:, ::3, peak_ind].mean(axis=0), \n",
    "    'ko', label='Early', markeredgecolor=markeredgecolor\n",
    ")\n",
    "plt.plot(\n",
    "    [steady_ind * 0.1 - stim_start_time] * 4, \n",
    "    ser_ctrl_psth[:, ::3, steady_ind].mean(axis=0), \n",
    "    'ks', label='Late', markeredgecolor=markeredgecolor\n",
    ")\n",
    "plt.xlim(-100., 1000.)\n",
    "plt.xlabel('Time from step onset (ms)')\n",
    "plt.ylabel('5HT pop. firing rate\\n(Hz/neuron)')\n",
    "plt.legend()\n",
    "\n",
    "plt.subplot(spec[:, 1])\n",
    "plt.errorbar(\n",
    "    marker='o',\n",
    "    color='k',\n",
    "    markeredgecolor=markeredgecolor,\n",
    "    x=step_amplitudes,\n",
    "    y=ser_ctrl_psth[..., peak_ind].mean(axis=0), \n",
    "    yerr=ser_ctrl_psth[..., peak_ind].std(axis=0),\n",
    "    label='Early',\n",
    "    **ebar_params\n",
    ")\n",
    "plt.errorbar(\n",
    "    marker='s',\n",
    "    color='k',\n",
    "    markeredgecolor=markeredgecolor,\n",
    "    x=step_amplitudes,\n",
    "    y=ser_ctrl_psth[..., steady_ind].mean(axis=0), \n",
    "    yerr=ser_ctrl_psth[..., steady_ind].std(axis=0),\n",
    "    label='Late',\n",
    "    **ebar_params\n",
    ")\n",
    "plot_linear_fit(step_amplitudes, ser_ctrl_psth[..., peak_ind].mean(axis=0), zorder=-1, lw=2, ls='--', color='gray')\n",
    "plot_linear_fit(step_amplitudes, ser_ctrl_psth[..., steady_ind].mean(axis=0), zorder=-1, lw=2, ls='--', color='gray')\n",
    "plt.ylabel('5HT pop. firing rate\\n(Hz/neuron)')\n",
    "plt.xlabel('Step amplitude (nA)')\n",
    "plt.legend()\n",
    "\n",
    "plt.subplot(spec[:, 2])\n",
    "visualizer.plot_gain('DRN', 'KO', 'subsample_base', 'Principal PSTH', color='k')\n",
    "\n",
    "ser_gain = GainEstimator(0.1)\n",
    "ser_gain.fit(select_PSTH_dataset(psth_df, 'DRN', 'KO', 'subsample_base', 'Principal PSTH'), step_amplitudes, (800., 900.), (1000., 1900.))\n",
    "\n",
    "plt.plot(\n",
    "    [peak_ind * 0.1 - stim_start_time], \n",
    "    [ser_gain.gain[peak_ind - timeToIndex(stim_start_time, 0.1)[0]] ],\n",
    "    'ko',\n",
    "    markeredgecolor=markeredgecolor\n",
    ")\n",
    "plt.plot(\n",
    "    [steady_ind * 0.1 - stim_start_time], \n",
    "    [ser_gain.gain[steady_ind - timeToIndex(stim_start_time, 0.1)[0]]],\n",
    "    'ks',\n",
    "    markeredgecolor=markeredgecolor\n",
    ")\n",
    "plt.ylabel('Gain (Hz/nA)')\n",
    "plt.xlabel('Time (ms)')\n",
    "\n",
    "sns.despine(trim=True)\n",
    "\n",
    "plt.tight_layout()\n",
    "\n",
    "if IMG_PATH is not None:\n",
    "    plt.savefig(os.path.join(IMG_PATH, 'control_gain_illustration.png'))\n",
    "\n",
    "del ser_ctrl_psth, ser_gain"
   ]
  },
  {
   "cell_type": "markdown",
   "metadata": {},
   "source": [
    "## Effect of IA in network with GABA"
   ]
  },
  {
   "cell_type": "code",
   "execution_count": 18,
   "metadata": {},
   "outputs": [
    {
     "data": {
      "image/png": "[encoded data removed]",
      "text/plain": [
       "<Figure size 240x180 with 1 Axes>"
      ]
     },
     "metadata": {
      "needs_background": "light"
     },
     "output_type": "display_data"
    }
   ],
   "source": [
    "plt.figure(figsize=(2, 1.5))\n",
    "\n",
    "plt.subplot(111)\n",
    "visualizer.plot_gain('DRN', 'base', 'subsample_base', 'Principal PSTH', color=colors['ser'], label='Base model')\n",
    "visualizer.plot_gain('DRN', 'base', 'subsample_noIA', 'Principal PSTH', color=colors['4AP'], label=r'$\\bar{g}_A = 0$nS')\n",
    "visualizer.plot_gain('DRN', 'base', 'subsample_fixedIA', 'Principal PSTH', color='gray', label=r'$\\bar{g}_A$ increased')\n",
    "plt.xlabel('Time (ms)')\n",
    "plt.ylabel('Gain\\n(Hz neuron$^{-1}$ nA$^{-1}$)')\n",
    "plt.legend()\n",
    "\n",
    "sns.despine(trim=True)\n",
    "plt.tight_layout()\n",
    "\n",
    "if IMG_PATH is not None:\n",
    "    plt.savefig(os.path.join(IMG_PATH, 'IA_gain_illustration.png'))"
   ]
  },
  {
   "cell_type": "code",
   "execution_count": 19,
   "metadata": {},
   "outputs": [],
   "source": [
    "def get_gain_peak(circuit, condition, mod_type, psth_type):\n",
    "    gain = visualizer._fit_gain_estimator(circuit, condition, mod_type, psth_type).gainByRep\n",
    "    return gain.max(axis=1)\n",
    "\n",
    "def get_gain_ss(circuit, condition, mod_type, psth_type):\n",
    "    gain = visualizer._fit_gain_estimator(circuit, condition, mod_type, psth_type).gainByRep\n",
    "    return gain[:, -1000:].mean(axis=1)\n",
    "\n",
    "def get_gain_ratio(circuit, condition, mod_type, psth_type):\n",
    "    return get_gain_peak(circuit, condition, mod_type, psth_type) / get_gain_ss(circuit, condition, mod_type, psth_type)"
   ]
  },
  {
   "cell_type": "code",
   "execution_count": 20,
   "metadata": {},
   "outputs": [
    {
     "data": {
      "image/png": "[encoded data removed]",
      "text/plain": [
       "<Figure size 120x120 with 1 Axes>"
      ]
     },
     "metadata": {
      "needs_background": "light"
     },
     "output_type": "display_data"
    }
   ],
   "source": [
    "plt.figure(figsize=(1.0, 1))\n",
    "\n",
    "plt.subplot(111)\n",
    "ax = sns.barplot(\n",
    "    x='variable', \n",
    "    y='value', \n",
    "    data = pd.DataFrame({\n",
    "        'Base model': get_gain_peak('DRN', 'base', 'subsample_base', 'Principal PSTH'),\n",
    "        r'$\\bar{g}_A = 0$nS': get_gain_peak('DRN', 'base', 'subsample_noIA', 'Principal PSTH'),\n",
    "        r'$\\bar{g}_A$ increased': get_gain_peak('DRN', 'base', 'subsample_fixedIA', 'Principal PSTH')\n",
    "    }).melt(),\n",
    "    order=[r'$\\bar{g}_A = 0$nS', 'Base model', r'$\\bar{g}_A$ increased'],\n",
    "    palette = [colors['4AP'], colors['ser'], 'gray'],\n",
    "    ci='sd'\n",
    ")\n",
    "plt.ylabel('Peak gain\\n(Hz neuron$^{-1}$ nA$^{-1}$)')\n",
    "plt.xlabel('')\n",
    "plt.xticks([], rotation=45, ha='right')\n",
    "gain_barplot_ylim = plt.ylim()\n",
    "\n",
    "pltools.hide_border('trb', trim=True)\n",
    "\n",
    "plt.subplots_adjust(left=0.55, bottom=0.2, top=0.85, right=0.95)\n",
    "\n",
    "if IMG_PATH is not None:\n",
    "    plt.savefig(os.path.join(IMG_PATH, 'IA_and_peak_gain.png'))"
   ]
  },
  {
   "cell_type": "code",
   "execution_count": 21,
   "metadata": {},
   "outputs": [
    {
     "data": {
      "image/png": "[encoded data removed]",
      "text/plain": [
       "<Figure size 120x120 with 1 Axes>"
      ]
     },
     "metadata": {
      "needs_background": "light"
     },
     "output_type": "display_data"
    }
   ],
   "source": [
    "plt.figure(figsize=(1.0, 1))\n",
    "\n",
    "plt.subplot(111)\n",
    "sns.barplot(\n",
    "    x='variable', \n",
    "    y='value', \n",
    "    data = pd.DataFrame({\n",
    "        'Base model': get_gain_ss('DRN', 'base', 'subsample_base', 'Principal PSTH'),\n",
    "        r'$\\bar{g}_A = 0$nS': get_gain_ss('DRN', 'base', 'subsample_noIA', 'Principal PSTH'),\n",
    "        r'$\\bar{g}_A$ increased': get_gain_ss('DRN', 'base', 'subsample_fixedIA', 'Principal PSTH')\n",
    "    }).melt(),\n",
    "    order=[r'$\\bar{g}_A = 0$nS', 'Base model', r'$\\bar{g}_A$ increased'],\n",
    "    palette = [colors['4AP'], colors['ser'], 'gray'],\n",
    "    ci='sd'\n",
    ")\n",
    "plt.ylabel('Steady-state gain\\n(Hz neuron$^{-1}$ nA$^{-1}$)')\n",
    "plt.xlabel('')\n",
    "plt.xticks([], rotation=45, ha='right')\n",
    "plt.ylim(gain_barplot_ylim)\n",
    "\n",
    "pltools.hide_border('trb', trim=True)\n",
    "\n",
    "plt.subplots_adjust(left=0.55, bottom=0.2, top=0.85, right=0.95)\n",
    "\n",
    "if IMG_PATH is not None:\n",
    "    plt.savefig(os.path.join(IMG_PATH, 'IA_and_ss_gain.png'))"
   ]
  },
  {
   "cell_type": "code",
   "execution_count": 22,
   "metadata": {},
   "outputs": [
    {
     "data": {
      "image/png": "[encoded data removed]",
      "text/plain": [
       "<Figure size 120x120 with 1 Axes>"
      ]
     },
     "metadata": {
      "needs_background": "light"
     },
     "output_type": "display_data"
    }
   ],
   "source": [
    "plt.figure(figsize=(1.0, 1))\n",
    "\n",
    "plt.subplot(111)\n",
    "sns.barplot(\n",
    "    x='variable', \n",
    "    y='value', \n",
    "    data = pd.DataFrame({\n",
    "        'Base model': get_gain_ratio('DRN', 'base', 'subsample_base', 'Principal PSTH'),\n",
    "        r'$\\bar{g}_A = 0$nS': get_gain_ratio('DRN', 'base', 'subsample_noIA', 'Principal PSTH'),\n",
    "        r'$\\bar{g}_A$ increased': get_gain_ratio('DRN', 'base', 'subsample_fixedIA', 'Principal PSTH')\n",
    "    }).melt(),\n",
    "    order=[r'$\\bar{g}_A = 0$nS', 'Base model', r'$\\bar{g}_A$ increased'],\n",
    "    palette = [colors['4AP'], colors['ser'], 'gray'],\n",
    "    ci='sd'\n",
    ")\n",
    "plt.ylabel('Amplification\\nfactor')\n",
    "plt.xlabel('')\n",
    "plt.xticks([], rotation=45, ha='right')\n",
    "\n",
    "pltools.hide_border('trb', trim=True)\n",
    "\n",
    "plt.subplots_adjust(left=0.55, bottom=0.2, top=0.85, right=0.95)\n",
    "\n",
    "if IMG_PATH is not None:\n",
    "    plt.savefig(os.path.join(IMG_PATH, 'IA_and_gain_ratio.png'))"
   ]
  },
  {
   "cell_type": "markdown",
   "metadata": {},
   "source": [
    "# Effect of GABA in network with IA"
   ]
  },
  {
   "cell_type": "code",
   "execution_count": 23,
   "metadata": {},
   "outputs": [
    {
     "data": {
      "image/png": "[encoded data removed]",
      "text/plain": [
       "<Figure size 240x180 with 1 Axes>"
      ]
     },
     "metadata": {
      "needs_background": "light"
     },
     "output_type": "display_data"
    }
   ],
   "source": [
    "plt.figure(figsize=(2, 1.5))\n",
    "\n",
    "plt.subplot(111)\n",
    "visualizer.plot_gain('DRN', 'base', 'subsample_base', 'Principal PSTH', color=colors['ser'], label='Base model')\n",
    "visualizer.plot_gain('DRN', 'KO', 'subsample_base', 'Principal PSTH', color='red', label=r'GABA removed')\n",
    "visualizer.plot_gain('DRN', 'endocannabinoid', 'subsample_base', 'Principal PSTH', color='green', label=r'Endocannabinoid')\n",
    "plt.xlabel('Time (ms)')\n",
    "plt.ylabel('Gain\\n(Hz neuron$^{-1}$ nA$^{-1}$)')\n",
    "plt.legend()\n",
    "\n",
    "sns.despine(trim=True)\n",
    "plt.tight_layout()\n",
    "\n",
    "if IMG_PATH is not None:\n",
    "    plt.savefig(os.path.join(IMG_PATH, 'som_gain_illustration.png'))"
   ]
  },
  {
   "cell_type": "markdown",
   "metadata": {},
   "source": [
    "Notice that knocking out GABA and simply removing their input have essentially the same effect on 5HT output."
   ]
  },
  {
   "cell_type": "code",
   "execution_count": 24,
   "metadata": {},
   "outputs": [
    {
     "data": {
      "image/png": "[encoded data removed]",
      "text/plain": [
       "<Figure size 120x120 with 1 Axes>"
      ]
     },
     "metadata": {
      "needs_background": "light"
     },
     "output_type": "display_data"
    }
   ],
   "source": [
    "plt.figure(figsize=(1.0, 1))\n",
    "\n",
    "plt.subplot(111)\n",
    "sns.barplot(\n",
    "    x='variable', \n",
    "    y='value', \n",
    "    data = pd.DataFrame({\n",
    "        'Base model': get_gain_peak('DRN', 'base', 'subsample_base', 'Principal PSTH'),\n",
    "        'GABA removed': get_gain_peak('DRN', 'KO', 'subsample_base', 'Principal PSTH'),\n",
    "        'Endocannabinoid': get_gain_peak('DRN', 'endocannabinoid', 'subsample_base', 'Principal PSTH')\n",
    "    }).melt(),\n",
    "    order=['Base model', 'GABA removed', 'Endocannabinoid'],\n",
    "    palette = [colors['ser'], 'red', 'green'],\n",
    "    ci='sd'\n",
    ")\n",
    "plt.ylabel('Peak gain\\n(Hz neuron$^{-1}$ nA$^{-1}$)')\n",
    "plt.xlabel('')\n",
    "plt.xticks([], rotation=45, ha='right')\n",
    "gain_barplot_ylim = plt.ylim()\n",
    "\n",
    "pltools.hide_border('trb', trim=True)\n",
    "\n",
    "plt.subplots_adjust(left=0.55, bottom=0.2, top=0.85, right=0.95)\n",
    "\n",
    "if IMG_PATH is not None:\n",
    "    plt.savefig(os.path.join(IMG_PATH, 'som_and_peak_gain.png'))"
   ]
  },
  {
   "cell_type": "code",
   "execution_count": 25,
   "metadata": {},
   "outputs": [
    {
     "data": {
      "text/plain": [
       "MannwhitneyuResult(statistic=0.0, pvalue=6.795615128173358e-08)"
      ]
     },
     "execution_count": 25,
     "metadata": {},
     "output_type": "execute_result"
    }
   ],
   "source": [
    "stats.mannwhitneyu(\n",
    "    get_gain_peak('DRN', 'base', 'subsample_base', 'Principal PSTH'), \n",
    "    get_gain_peak('DRN', 'endocannabinoid', 'subsample_base', 'Principal PSTH'),\n",
    "    alternative='two-sided'\n",
    ")"
   ]
  },
  {
   "cell_type": "code",
   "execution_count": 26,
   "metadata": {},
   "outputs": [
    {
     "data": {
      "text/plain": [
       "MannwhitneyuResult(statistic=0.0, pvalue=6.795615128173358e-08)"
      ]
     },
     "execution_count": 26,
     "metadata": {},
     "output_type": "execute_result"
    }
   ],
   "source": [
    "stats.mannwhitneyu(\n",
    "    get_gain_peak('DRN', 'base', 'subsample_base', 'Principal PSTH'), \n",
    "    get_gain_peak('DRN', 'KO', 'subsample_base', 'Principal PSTH'),\n",
    "    alternative='two-sided'\n",
    ")"
   ]
  },
  {
   "cell_type": "code",
   "execution_count": 27,
   "metadata": {},
   "outputs": [
    {
     "data": {
      "text/plain": [
       "MannwhitneyuResult(statistic=0.0, pvalue=6.795615128173358e-08)"
      ]
     },
     "execution_count": 27,
     "metadata": {},
     "output_type": "execute_result"
    }
   ],
   "source": [
    "stats.mannwhitneyu(\n",
    "    get_gain_peak('DRN', 'endocannabinoid', 'subsample_base', 'Principal PSTH'), \n",
    "    get_gain_peak('DRN', 'KO', 'subsample_base', 'Principal PSTH'),\n",
    "    alternative='two-sided'\n",
    ")"
   ]
  },
  {
   "cell_type": "code",
   "execution_count": 28,
   "metadata": {},
   "outputs": [
    {
     "data": {
      "image/png": "[encoded data removed]",
      "text/plain": [
       "<Figure size 120x120 with 1 Axes>"
      ]
     },
     "metadata": {
      "needs_background": "light"
     },
     "output_type": "display_data"
    }
   ],
   "source": [
    "plt.figure(figsize=(1.0, 1))\n",
    "\n",
    "plt.subplot(111)\n",
    "sns.barplot(\n",
    "    x='variable', \n",
    "    y='value', \n",
    "    data = pd.DataFrame({\n",
    "        'Base model': get_gain_ss('DRN', 'base', 'subsample_base', 'Principal PSTH'),\n",
    "        'GABA removed': get_gain_ss('DRN', 'KO', 'subsample_base', 'Principal PSTH'),\n",
    "        'Endocannabinoid': get_gain_ss('DRN', 'endocannabinoid', 'subsample_base', 'Principal PSTH')\n",
    "    }).melt(),\n",
    "    order=['Base model', 'GABA removed', 'Endocannabinoid'],\n",
    "    palette = [colors['ser'], 'red', 'green'],\n",
    "    ci='sd'\n",
    ")\n",
    "plt.ylabel('Steady-state gain\\n(Hz neuron$^{-1}$ nA$^{-1}$)')\n",
    "plt.xlabel('')\n",
    "plt.xticks([], rotation=45, ha='right')\n",
    "plt.ylim(gain_barplot_ylim)\n",
    "\n",
    "pltools.hide_border('trb', trim=True)\n",
    "\n",
    "plt.subplots_adjust(left=0.55, bottom=0.2, top=0.85, right=0.95)\n",
    "\n",
    "if IMG_PATH is not None:\n",
    "    plt.savefig(os.path.join(IMG_PATH, 'som_and_ss_gain.png'))"
   ]
  },
  {
   "cell_type": "code",
   "execution_count": 29,
   "metadata": {},
   "outputs": [
    {
     "data": {
      "text/plain": [
       "MannwhitneyuResult(statistic=0.0, pvalue=6.795615128173358e-08)"
      ]
     },
     "execution_count": 29,
     "metadata": {},
     "output_type": "execute_result"
    }
   ],
   "source": [
    "stats.mannwhitneyu(\n",
    "    get_gain_ss('DRN', 'base', 'subsample_base', 'Principal PSTH'), \n",
    "    get_gain_ss('DRN', 'endocannabinoid', 'subsample_base', 'Principal PSTH'),\n",
    "    alternative='two-sided'\n",
    ")"
   ]
  },
  {
   "cell_type": "code",
   "execution_count": 30,
   "metadata": {},
   "outputs": [
    {
     "data": {
      "text/plain": [
       "MannwhitneyuResult(statistic=0.0, pvalue=6.795615128173358e-08)"
      ]
     },
     "execution_count": 30,
     "metadata": {},
     "output_type": "execute_result"
    }
   ],
   "source": [
    "stats.mannwhitneyu(\n",
    "    get_gain_ss('DRN', 'base', 'subsample_base', 'Principal PSTH'), \n",
    "    get_gain_ss('DRN', 'KO', 'subsample_base', 'Principal PSTH'),\n",
    "    alternative='two-sided'\n",
    ")"
   ]
  },
  {
   "cell_type": "code",
   "execution_count": 31,
   "metadata": {},
   "outputs": [
    {
     "data": {
      "text/plain": [
       "MannwhitneyuResult(statistic=0.0, pvalue=6.795615128173358e-08)"
      ]
     },
     "execution_count": 31,
     "metadata": {},
     "output_type": "execute_result"
    }
   ],
   "source": [
    "stats.mannwhitneyu(\n",
    "    get_gain_ss('DRN', 'endocannabinoid', 'subsample_base', 'Principal PSTH'), \n",
    "    get_gain_ss('DRN', 'KO', 'subsample_base', 'Principal PSTH'),\n",
    "    alternative='two-sided'\n",
    ")"
   ]
  },
  {
   "cell_type": "code",
   "execution_count": 32,
   "metadata": {},
   "outputs": [
    {
     "data": {
      "image/png": "[encoded data removed]",
      "text/plain": [
       "<Figure size 120x120 with 1 Axes>"
      ]
     },
     "metadata": {
      "needs_background": "light"
     },
     "output_type": "display_data"
    }
   ],
   "source": [
    "plt.figure(figsize=(1.0, 1))\n",
    "\n",
    "plt.subplot(111)\n",
    "sns.barplot(\n",
    "    x='variable', \n",
    "    y='value', \n",
    "    data = pd.DataFrame({\n",
    "        'Base model': get_gain_ratio('DRN', 'base', 'subsample_base', 'Principal PSTH'),\n",
    "        'GABA removed': get_gain_ratio('DRN', 'KO', 'subsample_base', 'Principal PSTH'),\n",
    "        'Endocannabinoid': get_gain_ratio('DRN', 'endocannabinoid', 'subsample_base', 'Principal PSTH')\n",
    "    }).melt(),\n",
    "    order=['Base model', 'GABA removed', 'Endocannabinoid'],\n",
    "    palette = [colors['ser'], 'red', 'green'],\n",
    "    ci='sd'\n",
    ")\n",
    "plt.ylabel('Amplification\\nfactor')\n",
    "plt.xlabel('')\n",
    "plt.xticks([], rotation=45, ha='right')\n",
    "\n",
    "pltools.hide_border('trb', trim=True)\n",
    "\n",
    "plt.subplots_adjust(left=0.55, bottom=0.2, top=0.85, right=0.95)\n",
    "\n",
    "if IMG_PATH is not None:\n",
    "    plt.savefig(os.path.join(IMG_PATH, 'som_and_gain_ratio.png'))"
   ]
  },
  {
   "cell_type": "code",
   "execution_count": 33,
   "metadata": {},
   "outputs": [
    {
     "data": {
      "text/plain": [
       "MannwhitneyuResult(statistic=68.0, pvalue=0.000374990409081374)"
      ]
     },
     "execution_count": 33,
     "metadata": {},
     "output_type": "execute_result"
    }
   ],
   "source": [
    "stats.mannwhitneyu(\n",
    "    get_gain_ratio('DRN', 'base', 'subsample_base', 'Principal PSTH'), \n",
    "    get_gain_ratio('DRN', 'endocannabinoid', 'subsample_base', 'Principal PSTH'),\n",
    "    alternative='two-sided'\n",
    ")"
   ]
  },
  {
   "cell_type": "code",
   "execution_count": 34,
   "metadata": {},
   "outputs": [
    {
     "data": {
      "text/plain": [
       "MannwhitneyuResult(statistic=71.0, pvalue=0.000509072918078457)"
      ]
     },
     "execution_count": 34,
     "metadata": {},
     "output_type": "execute_result"
    }
   ],
   "source": [
    "stats.mannwhitneyu(\n",
    "    get_gain_ratio('DRN', 'base', 'subsample_base', 'Principal PSTH'), \n",
    "    get_gain_ratio('DRN', 'KO', 'subsample_base', 'Principal PSTH'),\n",
    "    alternative='two-sided'\n",
    ")"
   ]
  },
  {
   "cell_type": "code",
   "execution_count": 35,
   "metadata": {},
   "outputs": [
    {
     "data": {
      "text/plain": [
       "MannwhitneyuResult(statistic=289.0, pvalue=0.016668798824275466)"
      ]
     },
     "execution_count": 35,
     "metadata": {},
     "output_type": "execute_result"
    }
   ],
   "source": [
    "stats.mannwhitneyu(\n",
    "    get_gain_ratio('DRN', 'endocannabinoid', 'subsample_base', 'Principal PSTH'), \n",
    "    get_gain_ratio('DRN', 'KO', 'subsample_base', 'Principal PSTH'),\n",
    "    alternative='two-sided'\n",
    ")"
   ]
  },
  {
   "cell_type": "markdown",
   "metadata": {},
   "source": [
    "## Cell type comparison"
   ]
  },
  {
   "cell_type": "code",
   "execution_count": 36,
   "metadata": {},
   "outputs": [
    {
     "data": {
      "image/png": "[encoded data removed]",
      "text/plain": [
       "<Figure size 240x180 with 1 Axes>"
      ]
     },
     "metadata": {
      "needs_background": "light"
     },
     "output_type": "display_data"
    }
   ],
   "source": [
    "plt.figure(figsize=(2, 1.5))\n",
    "\n",
    "plt.subplot(111)\n",
    "visualizer.plot_gain('DRN', 'KO', 'subsample_base', 'Principal PSTH', color=colors['ser'], label='5HT')\n",
    "visualizer.plot_gain('DRN', 'base', 'subsample_base', 'GABA PSTH', color=colors['som'], label='GABA')\n",
    "visualizer.plot_gain('mPFC', 'KO', 'base', 'Principal PSTH', color=colors['pyr'], label='mPFC pyr.')\n",
    "plt.xlabel('Time (ms)')\n",
    "plt.ylabel('Gain\\n(Hz neuron$^{-1}$ nA$^{-1}$)')\n",
    "plt.legend()\n",
    "\n",
    "sns.despine(trim=True)\n",
    "plt.tight_layout()\n",
    "\n",
    "if IMG_PATH is not None:\n",
    "    plt.savefig(os.path.join(IMG_PATH, 'celltype_gain_illustration.png'))"
   ]
  },
  {
   "cell_type": "code",
   "execution_count": 37,
   "metadata": {},
   "outputs": [
    {
     "data": {
      "image/png": "[encoded data removed]",
      "text/plain": [
       "<Figure size 120x120 with 1 Axes>"
      ]
     },
     "metadata": {
      "needs_background": "light"
     },
     "output_type": "display_data"
    }
   ],
   "source": [
    "plt.figure(figsize=(1.0, 1))\n",
    "\n",
    "plt.subplot(111)\n",
    "sns.barplot(\n",
    "    x='variable', \n",
    "    y='value', \n",
    "    data = pd.DataFrame({\n",
    "        '5HT': get_gain_peak('DRN', 'KO', 'subsample_base', 'Principal PSTH'),\n",
    "        'GABA': get_gain_peak('DRN', 'base', 'subsample_base', 'GABA PSTH'),\n",
    "        'mPFC pyr.': get_gain_peak('mPFC', 'KO', 'base', 'Principal PSTH')\n",
    "    }).melt(),\n",
    "    order=['5HT', 'GABA', 'mPFC pyr.'],\n",
    "    palette = [colors['ser'], colors['som'], colors['pyr']],\n",
    "    ci='sd'\n",
    ")\n",
    "plt.ylabel('Peak gain\\n(Hz neuron$^{-1}$ nA$^{-1}$)')\n",
    "plt.xlabel('')\n",
    "plt.xticks([], rotation=45, ha='right')\n",
    "gain_barplot_ylim = plt.ylim()\n",
    "\n",
    "pltools.hide_border('trb', trim=True)\n",
    "\n",
    "plt.subplots_adjust(left=0.55, bottom=0.2, top=0.85, right=0.95)\n",
    "\n",
    "if IMG_PATH is not None:\n",
    "    plt.savefig(os.path.join(IMG_PATH, 'celltype_and_peak_gain.png'))"
   ]
  },
  {
   "cell_type": "code",
   "execution_count": 38,
   "metadata": {},
   "outputs": [
    {
     "data": {
      "image/png": "[encoded data removed]",
      "text/plain": [
       "<Figure size 120x120 with 1 Axes>"
      ]
     },
     "metadata": {
      "needs_background": "light"
     },
     "output_type": "display_data"
    }
   ],
   "source": [
    "plt.figure(figsize=(1.0, 1))\n",
    "\n",
    "plt.subplot(111)\n",
    "sns.barplot(\n",
    "    x='variable', \n",
    "    y='value', \n",
    "    data = pd.DataFrame({\n",
    "        '5HT': get_gain_ss('DRN', 'KO', 'subsample_base', 'Principal PSTH'),\n",
    "        'GABA': get_gain_ss('DRN', 'base', 'subsample_base', 'GABA PSTH'),\n",
    "        'mPFC pyr.': get_gain_ss('mPFC', 'KO', 'base', 'Principal PSTH')\n",
    "    }).melt(),\n",
    "    order=['5HT', 'GABA', 'mPFC pyr.'],\n",
    "    palette = [colors['ser'], colors['som'], colors['pyr']],\n",
    "    ci='sd'\n",
    ")\n",
    "plt.ylabel('Steady-state gain\\n(Hz neuron$^{-1}$ nA$^{-1}$)')\n",
    "plt.xlabel('')\n",
    "plt.xticks([], rotation=45, ha='right')\n",
    "plt.ylim(gain_barplot_ylim)\n",
    "\n",
    "pltools.hide_border('trb', trim=True)\n",
    "\n",
    "plt.subplots_adjust(left=0.55, bottom=0.2, top=0.85, right=0.95)\n",
    "\n",
    "if IMG_PATH is not None:\n",
    "    plt.savefig(os.path.join(IMG_PATH, 'celltype_and_ss_gain.png'))"
   ]
  },
  {
   "cell_type": "code",
   "execution_count": 39,
   "metadata": {},
   "outputs": [
    {
     "data": {
      "image/png": "[encoded data removed]",
      "text/plain": [
       "<Figure size 120x120 with 1 Axes>"
      ]
     },
     "metadata": {
      "needs_background": "light"
     },
     "output_type": "display_data"
    }
   ],
   "source": [
    "plt.figure(figsize=(1.0, 1))\n",
    "\n",
    "plt.subplot(111)\n",
    "sns.barplot(\n",
    "    x='variable', \n",
    "    y='value', \n",
    "    data = pd.DataFrame({\n",
    "        '5HT': get_gain_ratio('DRN', 'KO', 'subsample_base', 'Principal PSTH'),\n",
    "        'GABA': get_gain_ratio('DRN', 'base', 'subsample_base', 'GABA PSTH'),\n",
    "        'mPFC pyr.': get_gain_ratio('mPFC', 'KO', 'base', 'Principal PSTH')\n",
    "    }).melt(),\n",
    "    order=['5HT', 'GABA', 'mPFC pyr.'],\n",
    "    palette = [colors['ser'], colors['som'], colors['pyr']],\n",
    "    ci='sd'\n",
    ")\n",
    "plt.ylabel('Amplification\\nfactor')\n",
    "plt.xlabel('')\n",
    "plt.xticks([], rotation=45, ha='right')\n",
    "\n",
    "pltools.hide_border('trb', trim=True)\n",
    "\n",
    "plt.subplots_adjust(left=0.55, bottom=0.2, top=0.85, right=0.95)\n",
    "\n",
    "if IMG_PATH is not None:\n",
    "    plt.savefig(os.path.join(IMG_PATH, 'celltype_and_gain_ratio.png'))"
   ]
  },
  {
   "cell_type": "markdown",
   "metadata": {},
   "source": [
    "## Adaptation effect"
   ]
  },
  {
   "cell_type": "code",
   "execution_count": 40,
   "metadata": {},
   "outputs": [
    {
     "data": {
      "image/png": "[encoded data removed]",
      "text/plain": [
       "<Figure size 240x180 with 1 Axes>"
      ]
     },
     "metadata": {
      "needs_background": "light"
     },
     "output_type": "display_data"
    }
   ],
   "source": [
    "plt.figure(figsize=(2, 1.5))\n",
    "\n",
    "plt.subplot(111)\n",
    "visualizer.plot_gain(\n",
    "    'DRN', \n",
    "    'KO', \n",
    "    'subsample_adaptation_swap', \n",
    "    'Principal PSTH', \n",
    "    color=colors['ser'], \n",
    "    label='5HT with GABA adaptation'\n",
    ")\n",
    "visualizer.plot_gain(\n",
    "    'DRN', \n",
    "    'base', \n",
    "    'subsample_adaptation_swap', \n",
    "    'GABA PSTH', \n",
    "    color=colors['som'], \n",
    "    label='GABA with 5HT adaptation'\n",
    ")\n",
    "plt.xlabel('Time (ms)')\n",
    "plt.ylabel('Gain\\n(Hz neuron$^{-1}$ nA$^{-1}$)')\n",
    "plt.legend()\n",
    "\n",
    "sns.despine(trim=True)\n",
    "plt.tight_layout()\n",
    "\n",
    "if IMG_PATH is not None:\n",
    "    plt.savefig(os.path.join(IMG_PATH, 'swapped_adaptation.png'))\n",
    "    plt.savefig(os.path.join(IMG_PATH, 'swapped_adaptation.svg'))"
   ]
  },
  {
   "cell_type": "code",
   "execution_count": 41,
   "metadata": {},
   "outputs": [
    {
     "data": {
      "image/png": "[encoded data removed]",
      "text/plain": [
       "<Figure size 120x120 with 1 Axes>"
      ]
     },
     "metadata": {
      "needs_background": "light"
     },
     "output_type": "display_data"
    }
   ],
   "source": [
    "plt.figure(figsize=(1.0, 1))\n",
    "\n",
    "plt.subplot(111)\n",
    "sns.barplot(\n",
    "    x='variable', \n",
    "    y='value', \n",
    "    data = pd.DataFrame({\n",
    "        '5HT': get_gain_peak('DRN', 'KO', 'subsample_adaptation_swap', 'Principal PSTH'),\n",
    "        'GABA': get_gain_peak('DRN', 'base', 'subsample_adaptation_swap', 'GABA PSTH')\n",
    "    }).melt(),\n",
    "    order=['5HT', 'GABA'],\n",
    "    palette = [colors['ser'], colors['som']],\n",
    "    ci='sd'\n",
    ")\n",
    "plt.ylabel('Peak gain\\n(Hz neuron$^{-1}$ nA$^{-1}$)')\n",
    "plt.xlabel('')\n",
    "plt.xticks([], rotation=45, ha='right')\n",
    "gain_barplot_ylim = plt.ylim()\n",
    "\n",
    "pltools.hide_border('trb', trim=True)\n",
    "\n",
    "plt.subplots_adjust(left=0.55, bottom=0.2, top=0.85, right=0.95)\n",
    "\n",
    "if IMG_PATH is not None:\n",
    "    plt.savefig(os.path.join(IMG_PATH, 'adaptation_swap_and_peak_gain.png'))"
   ]
  },
  {
   "cell_type": "code",
   "execution_count": 42,
   "metadata": {},
   "outputs": [
    {
     "data": {
      "image/png": "[encoded data removed]",
      "text/plain": [
       "<Figure size 120x120 with 1 Axes>"
      ]
     },
     "metadata": {
      "needs_background": "light"
     },
     "output_type": "display_data"
    }
   ],
   "source": [
    "plt.figure(figsize=(1.0, 1))\n",
    "\n",
    "plt.subplot(111)\n",
    "sns.barplot(\n",
    "    x='variable', \n",
    "    y='value', \n",
    "    data = pd.DataFrame({\n",
    "        '5HT': get_gain_ss('DRN', 'KO', 'subsample_adaptation_swap', 'Principal PSTH'),\n",
    "        'GABA': get_gain_ss('DRN', 'base', 'subsample_adaptation_swap', 'GABA PSTH')\n",
    "    }).melt(),\n",
    "    order=['5HT', 'GABA'],\n",
    "    palette = [colors['ser'], colors['som']],\n",
    "    ci='sd'\n",
    ")\n",
    "plt.ylabel('Steady-state gain\\n(Hz neuron$^{-1}$ nA$^{-1}$)')\n",
    "plt.xlabel('')\n",
    "plt.xticks([], rotation=45, ha='right')\n",
    "gain_barplot_ylim = plt.ylim()\n",
    "\n",
    "pltools.hide_border('trb', trim=True)\n",
    "\n",
    "plt.subplots_adjust(left=0.55, bottom=0.2, top=0.85, right=0.95)\n",
    "\n",
    "if IMG_PATH is not None:\n",
    "    plt.savefig(os.path.join(IMG_PATH, 'adaptation_swap_and_ss_gain.png'))"
   ]
  },
  {
   "cell_type": "code",
   "execution_count": 43,
   "metadata": {},
   "outputs": [
    {
     "data": {
      "image/png": "[encoded data removed]",
      "text/plain": [
       "<Figure size 120x120 with 1 Axes>"
      ]
     },
     "metadata": {
      "needs_background": "light"
     },
     "output_type": "display_data"
    }
   ],
   "source": [
    "plt.figure(figsize=(1.0, 1))\n",
    "\n",
    "plt.subplot(111)\n",
    "sns.barplot(\n",
    "    x='variable', \n",
    "    y='value', \n",
    "    data = pd.DataFrame({\n",
    "        '5HT': get_gain_ratio('DRN', 'KO', 'subsample_adaptation_swap', 'Principal PSTH'),\n",
    "        'GABA': get_gain_ratio('DRN', 'base', 'subsample_adaptation_swap', 'GABA PSTH')\n",
    "    }).melt(),\n",
    "    order=['5HT', 'GABA'],\n",
    "    palette = [colors['ser'], colors['som']],\n",
    "    ci='sd'\n",
    ")\n",
    "plt.ylabel('Amplification\\nfactor')\n",
    "plt.xlabel('')\n",
    "plt.xticks([], rotation=45, ha='right')\n",
    "gain_barplot_ylim = plt.ylim()\n",
    "\n",
    "pltools.hide_border('trb', trim=True)\n",
    "\n",
    "plt.subplots_adjust(left=0.55, bottom=0.2, top=0.85, right=0.95)\n",
    "\n",
    "if IMG_PATH is not None:\n",
    "    plt.savefig(os.path.join(IMG_PATH, 'adaptation_swap_and_gain_ratio.png'))"
   ]
  },
  {
   "cell_type": "markdown",
   "metadata": {},
   "source": [
    "## Homogeneity"
   ]
  },
  {
   "cell_type": "code",
   "execution_count": 44,
   "metadata": {},
   "outputs": [
    {
     "data": {
      "image/png": "[encoded data removed]",
      "text/plain": [
       "<Figure size 240x180 with 1 Axes>"
      ]
     },
     "metadata": {
      "needs_background": "light"
     },
     "output_type": "display_data"
    }
   ],
   "source": [
    "plt.figure(figsize=(2, 1.5))\n",
    "\n",
    "plt.subplot(111)\n",
    "visualizer.plot_gain(\n",
    "    'DRN', \n",
    "    'KO', \n",
    "    'homogenous_base', \n",
    "    'Principal PSTH', \n",
    "    color=colors['ser'], \n",
    "    label='Homogenous 5HT'\n",
    ")\n",
    "visualizer.plot_gain(\n",
    "    'DRN', \n",
    "    'base', \n",
    "    'homogenous_base', \n",
    "    'GABA PSTH', \n",
    "    color=colors['som'], \n",
    "    label='Homogenous GABA'\n",
    ")\n",
    "plt.xlabel('Time (ms)')\n",
    "plt.ylabel('Gain\\n(Hz neuron$^{-1}$ nA$^{-1}$)')\n",
    "plt.legend()\n",
    "\n",
    "sns.despine(trim=True)\n",
    "plt.tight_layout()\n",
    "\n",
    "if IMG_PATH is not None:\n",
    "    plt.savefig(os.path.join(IMG_PATH, 'homogenous_populations.png'))\n",
    "    plt.savefig(os.path.join(IMG_PATH, 'homogenous_populations.svg'))"
   ]
  },
  {
   "cell_type": "code",
   "execution_count": null,
   "metadata": {},
   "outputs": [],
   "source": []
  }
 ],
 "metadata": {
  "kernelspec": {
   "display_name": "Python 2",
   "language": "python",
   "name": "python2"
  },
  "language_info": {
   "codemirror_mode": {
    "name": "ipython",
    "version": 2
   },
   "file_extension": ".py",
   "mimetype": "text/x-python",
   "name": "python",
   "nbconvert_exporter": "python",
   "pygments_lexer": "ipython2",
   "version": "2.7.15"
  }
 },
 "nbformat": 4,
 "nbformat_minor": 2
}

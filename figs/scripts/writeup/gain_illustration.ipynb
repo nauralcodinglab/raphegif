{
 "cells": [
  {
   "cell_type": "code",
   "execution_count": 1,
   "metadata": {},
   "outputs": [
    {
     "name": "stdout",
     "output_type": "stream",
     "text": [
      "/Users/eharkin/Documents/projects/5HTGIF\n"
     ]
    }
   ],
   "source": [
    "from __future__ import division\n",
    "\n",
    "import os; os.chdir(os.path.join('..', '..', '..'))\n",
    "print os.getcwd()"
   ]
  },
  {
   "cell_type": "code",
   "execution_count": 2,
   "metadata": {},
   "outputs": [],
   "source": [
    "import warnings\n",
    "import re\n",
    "\n",
    "import pandas as pd\n",
    "import matplotlib.pyplot as plt\n",
    "import matplotlib.gridspec as gs\n",
    "import seaborn as sns\n",
    "import numpy as np\n",
    "from sklearn.model_selection import ParameterGrid\n",
    "\n",
    "from grr.Simulation import GIFnet_Simulation\n",
    "from grr.Tools import PSTH, raiseExpectedGot, timeToIndex, reprint\n",
    "from grr.CurveFit import plot_linear_fit"
   ]
  },
  {
   "cell_type": "code",
   "execution_count": 3,
   "metadata": {},
   "outputs": [],
   "source": [
    "plt.style.use(os.path.join('figs', 'scripts', 'writeup', 'publication_figure_style.dms'))\n",
    "plt.rc('text', usetex=False)\n",
    "IMG_PATH = os.path.join('figs', 'ims', 'writeup', 'GIF_network')"
   ]
  },
  {
   "cell_type": "code",
   "execution_count": 4,
   "metadata": {},
   "outputs": [
    {
     "data": {
      "text/html": [
       "<div>\n",
       "<style scoped>\n",
       "    .dataframe tbody tr th:only-of-type {\n",
       "        vertical-align: middle;\n",
       "    }\n",
       "\n",
       "    .dataframe tbody tr th {\n",
       "        vertical-align: top;\n",
       "    }\n",
       "\n",
       "    .dataframe thead th {\n",
       "        text-align: right;\n",
       "    }\n",
       "</style>\n",
       "<table border=\"1\" class=\"dataframe\">\n",
       "  <thead>\n",
       "    <tr style=\"text-align: right;\">\n",
       "      <th></th>\n",
       "      <th>Circuit</th>\n",
       "      <th>Condition</th>\n",
       "      <th>Mod type</th>\n",
       "      <th>Model</th>\n",
       "      <th>Rep</th>\n",
       "    </tr>\n",
       "  </thead>\n",
       "  <tbody>\n",
       "    <tr>\n",
       "      <th>0</th>\n",
       "      <td>DRN</td>\n",
       "      <td>KO</td>\n",
       "      <td>base</td>\n",
       "      <td>[ser]</td>\n",
       "      <td>0</td>\n",
       "    </tr>\n",
       "    <tr>\n",
       "      <th>1</th>\n",
       "      <td>mPFC</td>\n",
       "      <td>KO</td>\n",
       "      <td>base</td>\n",
       "      <td>[ser]</td>\n",
       "      <td>0</td>\n",
       "    </tr>\n",
       "    <tr>\n",
       "      <th>2</th>\n",
       "      <td>DRN</td>\n",
       "      <td>KO</td>\n",
       "      <td>base</td>\n",
       "      <td>[ser]</td>\n",
       "      <td>1</td>\n",
       "    </tr>\n",
       "    <tr>\n",
       "      <th>3</th>\n",
       "      <td>mPFC</td>\n",
       "      <td>KO</td>\n",
       "      <td>base</td>\n",
       "      <td>[ser]</td>\n",
       "      <td>1</td>\n",
       "    </tr>\n",
       "    <tr>\n",
       "      <th>4</th>\n",
       "      <td>DRN</td>\n",
       "      <td>KO</td>\n",
       "      <td>base</td>\n",
       "      <td>[ser]</td>\n",
       "      <td>2</td>\n",
       "    </tr>\n",
       "  </tbody>\n",
       "</table>\n",
       "</div>"
      ],
      "text/plain": [
       "  Circuit Condition Mod type  Model  Rep\n",
       "0     DRN        KO     base  [ser]    0\n",
       "1    mPFC        KO     base  [ser]    0\n",
       "2     DRN        KO     base  [ser]    1\n",
       "3    mPFC        KO     base  [ser]    1\n",
       "4     DRN        KO     base  [ser]    2"
      ]
     },
     "execution_count": 4,
     "metadata": {},
     "output_type": "execute_result"
    }
   ],
   "source": [
    "DATA_PATH = os.path.join('data', 'simulations', 'GIF_network', 'step_input')\n",
    "\n",
    "sim_dict = {'Circuit': [], 'Mod type': [], 'Condition': [], 'Rep': [], 'Model': []}\n",
    "\n",
    "for network_model in ['DRN_base', 'DRN_noIA', 'DRN_fixedIA', 'mPFC_base']:\n",
    "    for gaba_condition in os.listdir(os.path.join(DATA_PATH, network_model)):\n",
    "        for fname in os.listdir(os.path.join(DATA_PATH, network_model, gaba_condition)):\n",
    "            if fname.endswith(('hdf5', 'h5')):\n",
    "\n",
    "                sim_dict['Circuit'].append(\n",
    "                    re.search(r'(DRN|mPFC)_(.*)', network_model).groups()[-2]\n",
    "                )\n",
    "                sim_dict['Mod type'].append(\n",
    "                    re.search(r'(DRN|mPFC)_(.*)', network_model).groups()[-1]\n",
    "                )\n",
    "                sim_dict['Condition'].append(\n",
    "                    re.search(r'GABA_(.*)', gaba_condition).groups()[-1]\n",
    "                )\n",
    "                sim_dict['Rep'].append(\n",
    "                    int(re.search(r'rep([0-9]+)', fname).groups()[-1])\n",
    "                )\n",
    "                sim_dict['Model'].append(\n",
    "                    GIFnet_Simulation(\n",
    "                        os.path.join(DATA_PATH, network_model, gaba_condition, fname), \n",
    "                        mode = 'r'\n",
    "                    )\n",
    "                )\n",
    "\n",
    "sim_df = pd.DataFrame(sim_dict).sort_values(['Mod type', 'Condition', 'Rep'])\n",
    "sim_df.reset_index(inplace=True, drop=True)\n",
    "sim_df.head()"
   ]
  },
  {
   "cell_type": "code",
   "execution_count": 5,
   "metadata": {},
   "outputs": [],
   "source": [
    "sim_df['Principal PSTH'] = None\n",
    "sim_df['Principal PSTH'] = sim_df['Principal PSTH'].astype(object)\n",
    "sim_df['GABA PSTH'] = None\n",
    "sim_df['GABA PSTH'] = sim_df['GABA PSTH'].astype(object)"
   ]
  },
  {
   "cell_type": "code",
   "execution_count": 6,
   "metadata": {},
   "outputs": [
    {
     "name": "stdout",
     "output_type": "stream",
     "text": [
      "Computing PSTH 99.0%\n",
      "Done!\n"
     ]
    }
   ],
   "source": [
    "PSTH_width = 50.\n",
    "\n",
    "for i in range(sim_df.shape[0]):\n",
    "    reprint('Computing PSTH {:.1f}%'.format(100. * i / sim_df.shape[0]))\n",
    "    \n",
    "    # Get PSTH from 5HT population.\n",
    "    sim_df.at[i, 'Principal PSTH'] = np.empty((\n",
    "        sim_df.loc[i, 'Model'].get_no_sweeps(), \n",
    "        sim_df.loc[i, 'Model'].get_no_timesteps()\n",
    "    ))\n",
    "    for sweep_no in range(sim_df.loc[i, 'Model'].get_no_sweeps()):\n",
    "        sim_df.loc[i, 'Principal PSTH'][sweep_no, :] = PSTH(\n",
    "            sim_df.loc[i, 'Model'].ser_spktrains[sweep_no, ...].sum(axis = 0),\n",
    "            PSTH_width,\n",
    "            sim_df.loc[i, 'Model'].get_no_ser_neurons()\n",
    "        )\n",
    "    \n",
    "    # Get PSTHs from GABA population.\n",
    "    if sim_df.loc[i, 'Condition'] != 'KO':\n",
    "        sim_df.at[i, 'GABA PSTH'] = np.empty((\n",
    "            sim_df.loc[i, 'Model'].get_no_sweeps(), \n",
    "            sim_df.loc[i, 'Model'].get_no_timesteps()\n",
    "        ))\n",
    "        for sweep_no in range(sim_df.loc[i, 'Model'].get_no_sweeps()):\n",
    "            sim_df.loc[i, 'GABA PSTH'][sweep_no, :] = PSTH(\n",
    "                sim_df.loc[i, 'Model'].gaba_spktrains[sweep_no, ...].sum(axis = 0),\n",
    "                PSTH_width,\n",
    "                sim_df.loc[i, 'Model'].get_no_gaba_neurons()\n",
    "            )\n",
    "    else:\n",
    "        sim_df.loc[i, 'GABA PSTH'] = None\n",
    "        continue\n",
    "\n",
    "print('\\nDone!')"
   ]
  },
  {
   "cell_type": "code",
   "execution_count": 7,
   "metadata": {},
   "outputs": [],
   "source": [
    "psth_dict = {'Circuit': [], 'Mod type': [], 'Condition': [], 'Principal PSTH': [], 'GABA PSTH': []}\n",
    "for circuit in sim_df['Circuit'].unique():\n",
    "    for modtype in sim_df.loc[sim_df['Circuit'] == circuit, 'Mod type'].unique():\n",
    "        for cond in sim_df.loc[(sim_df['Circuit'] == circuit) & (sim_df['Mod type'] == modtype), 'Condition'].unique():\n",
    "            psth_dict['Circuit'].append(circuit)\n",
    "            psth_dict['Mod type'].append(modtype)\n",
    "            psth_dict['Condition'].append(cond)\n",
    "            psth_dict['Principal PSTH'].append(np.array(\n",
    "                sim_df.loc[(sim_df['Circuit'] == circuit) & (sim_df['Condition'] == cond) & (sim_df['Mod type'] == modtype), 'Principal PSTH'].tolist()\n",
    "            ))\n",
    "            psth_dict['GABA PSTH'].append(np.array(\n",
    "                sim_df.loc[(sim_df['Circuit'] == circuit) & (sim_df['Condition'] == cond) & (sim_df['Mod type'] == modtype), 'GABA PSTH'].tolist()\n",
    "            ))\n",
    "psth_df = pd.DataFrame(psth_dict)\n",
    "del psth_dict"
   ]
  },
  {
   "cell_type": "code",
   "execution_count": 8,
   "metadata": {},
   "outputs": [
    {
     "data": {
      "text/html": [
       "<div>\n",
       "<style scoped>\n",
       "    .dataframe tbody tr th:only-of-type {\n",
       "        vertical-align: middle;\n",
       "    }\n",
       "\n",
       "    .dataframe tbody tr th {\n",
       "        vertical-align: top;\n",
       "    }\n",
       "\n",
       "    .dataframe thead th {\n",
       "        text-align: right;\n",
       "    }\n",
       "</style>\n",
       "<table border=\"1\" class=\"dataframe\">\n",
       "  <thead>\n",
       "    <tr style=\"text-align: right;\">\n",
       "      <th></th>\n",
       "      <th>Circuit</th>\n",
       "      <th>Condition</th>\n",
       "      <th>GABA PSTH</th>\n",
       "      <th>Mod type</th>\n",
       "      <th>Principal PSTH</th>\n",
       "    </tr>\n",
       "  </thead>\n",
       "  <tbody>\n",
       "    <tr>\n",
       "      <th>0</th>\n",
       "      <td>DRN</td>\n",
       "      <td>KO</td>\n",
       "      <td>[None, None, None, None, None, None, None, Non...</td>\n",
       "      <td>base</td>\n",
       "      <td>[[[0.43333333333333335, 0.43333333333333335, 0...</td>\n",
       "    </tr>\n",
       "    <tr>\n",
       "      <th>1</th>\n",
       "      <td>DRN</td>\n",
       "      <td>base</td>\n",
       "      <td>[[[2.1, 2.1, 2.1, 2.1, 2.1, 2.1, 2.1, 2.1, 2.1...</td>\n",
       "      <td>base</td>\n",
       "      <td>[[[0.2, 0.23333333333333334, 0.233333333333333...</td>\n",
       "    </tr>\n",
       "    <tr>\n",
       "      <th>2</th>\n",
       "      <td>DRN</td>\n",
       "      <td>noinput</td>\n",
       "      <td>[[[1.7000000000000002, 1.7000000000000002, 1.7...</td>\n",
       "      <td>base</td>\n",
       "      <td>[[[0.2666666666666667, 0.2666666666666667, 0.2...</td>\n",
       "    </tr>\n",
       "    <tr>\n",
       "      <th>3</th>\n",
       "      <td>DRN</td>\n",
       "      <td>KO</td>\n",
       "      <td>[None, None, None, None, None, None, None, Non...</td>\n",
       "      <td>fixedIA</td>\n",
       "      <td>[[[0.2, 0.2, 0.23333333333333334, 0.2333333333...</td>\n",
       "    </tr>\n",
       "    <tr>\n",
       "      <th>4</th>\n",
       "      <td>DRN</td>\n",
       "      <td>base</td>\n",
       "      <td>[[[2.1, 2.1, 2.1, 2.1, 2.1, 2.1, 2.1, 2.1, 2.1...</td>\n",
       "      <td>fixedIA</td>\n",
       "      <td>[[[0.23333333333333334, 0.23333333333333334, 0...</td>\n",
       "    </tr>\n",
       "  </tbody>\n",
       "</table>\n",
       "</div>"
      ],
      "text/plain": [
       "  Circuit Condition                                          GABA PSTH  \\\n",
       "0     DRN        KO  [None, None, None, None, None, None, None, Non...   \n",
       "1     DRN      base  [[[2.1, 2.1, 2.1, 2.1, 2.1, 2.1, 2.1, 2.1, 2.1...   \n",
       "2     DRN   noinput  [[[1.7000000000000002, 1.7000000000000002, 1.7...   \n",
       "3     DRN        KO  [None, None, None, None, None, None, None, Non...   \n",
       "4     DRN      base  [[[2.1, 2.1, 2.1, 2.1, 2.1, 2.1, 2.1, 2.1, 2.1...   \n",
       "\n",
       "  Mod type                                     Principal PSTH  \n",
       "0     base  [[[0.43333333333333335, 0.43333333333333335, 0...  \n",
       "1     base  [[[0.2, 0.23333333333333334, 0.233333333333333...  \n",
       "2     base  [[[0.2666666666666667, 0.2666666666666667, 0.2...  \n",
       "3  fixedIA  [[[0.2, 0.2, 0.23333333333333334, 0.2333333333...  \n",
       "4  fixedIA  [[[0.23333333333333334, 0.23333333333333334, 0...  "
      ]
     },
     "execution_count": 8,
     "metadata": {},
     "output_type": "execute_result"
    }
   ],
   "source": [
    "psth_df.head()"
   ]
  },
  {
   "cell_type": "code",
   "execution_count": 9,
   "metadata": {},
   "outputs": [],
   "source": [
    "def select_PSTH_dataset(dframe, circuit, condition, mod_type, psth_type='Principal PSTH'):\n",
    "    return dframe.loc[\n",
    "        (dframe['Circuit'] == circuit)\n",
    "        & (dframe['Condition'] == condition) \n",
    "        & (dframe['Mod type'] == mod_type), \n",
    "        psth_type\n",
    "    ].item()"
   ]
  },
  {
   "cell_type": "code",
   "execution_count": 10,
   "metadata": {},
   "outputs": [],
   "source": [
    "def get_step_amplitudes(simulation, step_start_time):\n",
    "    step_start_ind = timeToIndex(step_start_time, 0.1)[0]\n",
    "    baseline = simulation['ser/examples/I'][..., :step_start_ind].mean()\n",
    "    return simulation['ser/examples/I'][..., step_start_ind:].mean(axis=2).mean(axis=1) - baseline\n",
    "\n",
    "def get_pointwise_gain(psth_arr, step_amplitudes, baseline_start_time, step_start_time, dt=0.1):\n",
    "    \"\"\"\n",
    "    Returns\n",
    "    -------\n",
    "    (gain, intercept)\n",
    "    \n",
    "    \"\"\"\n",
    "    assert np.ndim(psth_arr) == 3\n",
    "    assert np.ndim(step_amplitudes) == 1\n",
    "    assert np.shape(psth_arr)[1] == len(step_amplitudes)\n",
    "    \n",
    "    step_start_ind = timeToIndex(step_start_time, dt)[0]\n",
    "    step_response = psth_arr[..., step_start_ind:]\n",
    "    mean_step_response = step_response.mean(axis=0)\n",
    "    \n",
    "    baseline_activity = psth_arr[..., timeToIndex(baseline_start_time, dt)[0]:step_start_ind]\n",
    "    mean_baseline_activity = baseline_activity.mean(axis=0).mean(axis=1)  # Average over sweeps and time.\n",
    "    assert np.ndim(mean_baseline_activity) == 1\n",
    "    assert len(mean_baseline_activity) == mean_step_response.shape[0]\n",
    "    \n",
    "    coeffs = np.polyfit(step_amplitudes, mean_step_response - mean_baseline_activity[:, np.newaxis], deg=1)\n",
    "    \n",
    "    return coeffs[0, :], coeffs[1, :]"
   ]
  },
  {
   "cell_type": "code",
   "execution_count": 11,
   "metadata": {},
   "outputs": [],
   "source": [
    "step_amplitudes = get_step_amplitudes(sim_df.loc[0, 'Model'], 1000.)"
   ]
  },
  {
   "cell_type": "code",
   "execution_count": 12,
   "metadata": {},
   "outputs": [],
   "source": [
    "def plot_lines_cmap(x, y, cmap, start=0., stop=1., ax=None, **pltargs):\n",
    "    if ax is None:\n",
    "        ax = plt.gca()\n",
    "    \n",
    "    colors = cmap(np.linspace(start, stop, np.shape(y)[1]))\n",
    "    for i in range(np.shape(y)[1]):\n",
    "        ax.plot(x, y[:, i], color=colors[i], **pltargs)"
   ]
  },
  {
   "cell_type": "code",
   "execution_count": 13,
   "metadata": {},
   "outputs": [
    {
     "data": {
      "image/png": "[encoded data removed]",
      "text/plain": [
       "<Figure size 720x240 with 3 Axes>"
      ]
     },
     "metadata": {
      "needs_background": "light"
     },
     "output_type": "display_data"
    }
   ],
   "source": [
    "ser_ctrl_psth = select_PSTH_dataset(psth_df, 'DRN', 'KO', 'base', 'Principal PSTH')\n",
    "\n",
    "ebar_params = {'ls': 'none', 'capsize': 5, 'ecolor': 'k', 'markersize': 3}\n",
    "markeredgecolor='gray'\n",
    "cmap = plt.get_cmap('Greys')\n",
    "stim_start_time = 1000.\n",
    "peak_ind = 11000\n",
    "steady_ind = 18500\n",
    "t_vec = sim_df['Model'][0].get_t_vec() - stim_start_time\n",
    "\n",
    "spec = gs.GridSpec(1, 3)\n",
    "\n",
    "plt.figure(figsize=(6, 2))\n",
    "\n",
    "plt.subplot(spec[:, 0])\n",
    "plot_lines_cmap(t_vec, ser_ctrl_psth[0, ::3, :].T, cmap, start=0.1)\n",
    "plt.plot(\n",
    "    [peak_ind * 0.1 - stim_start_time] * 4, \n",
    "    ser_ctrl_psth[0, ::3, peak_ind], \n",
    "    'ko', label='Early', markeredgecolor=markeredgecolor\n",
    ")\n",
    "plt.plot(\n",
    "    [steady_ind * 0.1 - stim_start_time] * 4, \n",
    "    ser_ctrl_psth[0, ::3, steady_ind], \n",
    "    'ks', label='Late', markeredgecolor=markeredgecolor\n",
    ")\n",
    "plt.xlim(-100., 1000.)\n",
    "plt.xlabel('Time from step onset (ms)')\n",
    "plt.ylabel('5HT pop. firing rate (Hz)')\n",
    "plt.legend()\n",
    "\n",
    "plt.subplot(spec[:, 1])\n",
    "plt.errorbar(\n",
    "    marker='o',\n",
    "    color='k',\n",
    "    markeredgecolor=markeredgecolor,\n",
    "    x=step_amplitudes,\n",
    "    y=ser_ctrl_psth[..., peak_ind].mean(axis=0), \n",
    "    yerr=ser_ctrl_psth[..., peak_ind].std(axis=0)/np.sqrt(ser_ctrl_psth.shape[0]),\n",
    "    label='early',\n",
    "    **ebar_params\n",
    ")\n",
    "plt.errorbar(\n",
    "    marker='s',\n",
    "    color='k',\n",
    "    markeredgecolor=markeredgecolor,\n",
    "    x=step_amplitudes,\n",
    "    y=ser_ctrl_psth[..., steady_ind].mean(axis=0), \n",
    "    yerr=ser_ctrl_psth[..., steady_ind].std(axis=0)/np.sqrt(ser_ctrl_psth.shape[0]),\n",
    "    label='late',\n",
    "    **ebar_params\n",
    ")\n",
    "plot_linear_fit(step_amplitudes, ser_ctrl_psth[..., peak_ind].mean(axis=0), zorder=-1, lw=2, ls='--', color='gray')\n",
    "plot_linear_fit(step_amplitudes, ser_ctrl_psth[..., steady_ind].mean(axis=0), zorder=-1, lw=2, ls='--', color='gray')\n",
    "plt.ylabel('5HT pop. firing rate (Hz)')\n",
    "plt.xlabel('Step amplitude (nA)')\n",
    "plt.legend()\n",
    "\n",
    "plt.subplot(spec[:, 2])\n",
    "ser_gain = get_pointwise_gain(ser_ctrl_psth, step_amplitudes, 500., stim_start_time)[0]\n",
    "plt.plot(\n",
    "    t_vec[timeToIndex(stim_start_time, 0.1)[0]:], \n",
    "    ser_gain,\n",
    "    'k-'\n",
    ")\n",
    "plt.plot(\n",
    "    [peak_ind * 0.1 - stim_start_time], \n",
    "    [ser_gain[peak_ind - timeToIndex(stim_start_time, 0.1)[0]] ],\n",
    "    'ko',\n",
    "    markeredgecolor=markeredgecolor\n",
    ")\n",
    "plt.plot(\n",
    "    [steady_ind * 0.1 - stim_start_time], \n",
    "    [ser_gain[steady_ind - timeToIndex(stim_start_time, 0.1)[0]]],\n",
    "    'ks',\n",
    "    markeredgecolor=markeredgecolor\n",
    ")\n",
    "plt.ylabel('Gain (Hz/nA)')\n",
    "plt.xlabel('Time (ms)')\n",
    "\n",
    "sns.despine(trim=True)\n",
    "\n",
    "plt.tight_layout()\n",
    "\n",
    "if IMG_PATH is not None:\n",
    "    plt.savefig(os.path.join(IMG_PATH, 'control_gain_illustration.png'))\n",
    "\n",
    "del ser_ctrl_psth, ser_gain"
   ]
  },
  {
   "cell_type": "code",
   "execution_count": 14,
   "metadata": {},
   "outputs": [
    {
     "data": {
      "image/png": "[encoded data removed]",
      "text/plain": [
       "<Figure size 360x240 with 1 Axes>"
      ]
     },
     "metadata": {
      "needs_background": "light"
     },
     "output_type": "display_data"
    }
   ],
   "source": [
    "Base_gain = get_pointwise_gain(\n",
    "    select_PSTH_dataset(psth_df, 'DRN', 'KO', 'base', 'Principal PSTH'), \n",
    "    step_amplitudes, \n",
    "    500., \n",
    "    stim_start_time\n",
    ")[0]\n",
    "NoIA_gain = get_pointwise_gain(\n",
    "    select_PSTH_dataset(psth_df, 'DRN', 'KO', 'noIA', 'Principal PSTH'), \n",
    "    step_amplitudes, \n",
    "    500., \n",
    "    stim_start_time\n",
    ")[0]\n",
    "FixedIA_gain = get_pointwise_gain(\n",
    "    select_PSTH_dataset(psth_df, 'DRN', 'KO', 'fixedIA', 'Principal PSTH'), \n",
    "    step_amplitudes, \n",
    "    500., \n",
    "    stim_start_time\n",
    ")[0]\n",
    "\n",
    "plt.subplot(111)\n",
    "plt.plot(\n",
    "    t_vec[timeToIndex(stim_start_time, 0.1)[0]:], \n",
    "    Base_gain,\n",
    "    color='blue',\n",
    "    label='Control'\n",
    ")\n",
    "plt.plot(\n",
    "    t_vec[timeToIndex(stim_start_time, 0.1)[0]:], \n",
    "    NoIA_gain,\n",
    "    color='gray',\n",
    "    label='$I_A$ KO'\n",
    ")\n",
    "plt.plot(\n",
    "    t_vec[timeToIndex(stim_start_time, 0.1)[0]:], \n",
    "    FixedIA_gain,\n",
    "    color='blue',\n",
    "    ls='--',\n",
    "    label='High $I_A$'\n",
    ")\n",
    "plt.xlabel('Time (ms)')\n",
    "plt.ylabel('Gain (Hz/nA)')\n",
    "plt.legend()\n",
    "\n",
    "sns.despine(trim=True)\n",
    "plt.tight_layout()\n",
    "\n",
    "if IMG_PATH is not None:\n",
    "    plt.savefig(os.path.join(IMG_PATH, 'IA_gain_illustration.png'))\n",
    "\n",
    "del Base_gain, FixedIA_gain, NoIA_gain"
   ]
  },
  {
   "cell_type": "code",
   "execution_count": 15,
   "metadata": {},
   "outputs": [
    {
     "data": {
      "image/png": "[encoded data removed]",
      "text/plain": [
       "<Figure size 360x240 with 1 Axes>"
      ]
     },
     "metadata": {
      "needs_background": "light"
     },
     "output_type": "display_data"
    }
   ],
   "source": [
    "base_gain = get_pointwise_gain(\n",
    "    select_PSTH_dataset(psth_df, 'DRN', 'base', 'base', 'Principal PSTH'), \n",
    "    step_amplitudes, \n",
    "    500., \n",
    "    stim_start_time\n",
    ")[0]\n",
    "gaba_ko_gain = get_pointwise_gain(\n",
    "    select_PSTH_dataset(psth_df, 'DRN', 'KO', 'base', 'Principal PSTH'), \n",
    "    step_amplitudes, \n",
    "    500., \n",
    "    stim_start_time\n",
    ")[0]\n",
    "gaba_noinput_gain = get_pointwise_gain(\n",
    "    select_PSTH_dataset(psth_df, 'DRN', 'noinput', 'base', 'Principal PSTH'), \n",
    "    step_amplitudes, \n",
    "    500., \n",
    "    stim_start_time\n",
    ")[0]\n",
    "\n",
    "plt.subplot(111)\n",
    "plt.plot(\n",
    "    t_vec[timeToIndex(stim_start_time, 0.1)[0]:], \n",
    "    base_gain,\n",
    "    color='blue',\n",
    "    label='Control'\n",
    ")\n",
    "plt.plot(\n",
    "    t_vec[timeToIndex(stim_start_time, 0.1)[0]:], \n",
    "    gaba_ko_gain,\n",
    "    color='gray',\n",
    "    label='GABA KO'\n",
    ")\n",
    "plt.plot(\n",
    "    t_vec[timeToIndex(stim_start_time, 0.1)[0]:], \n",
    "    gaba_noinput_gain,\n",
    "    color='gray',\n",
    "    label='No GABA input'\n",
    ")\n",
    "plt.xlabel('Time (ms)')\n",
    "plt.ylabel('Gain (Hz/nA)')\n",
    "plt.legend()\n",
    "\n",
    "sns.despine(trim=True)\n",
    "plt.tight_layout()\n",
    "\n",
    "if IMG_PATH is not None:\n",
    "    plt.savefig(os.path.join(IMG_PATH, 'som_gain_illustration.png'))\n",
    "\n",
    "del base_gain, gaba_ko_gain"
   ]
  },
  {
   "cell_type": "markdown",
   "metadata": {},
   "source": [
    "# Inspect PFC"
   ]
  },
  {
   "cell_type": "code",
   "execution_count": 17,
   "metadata": {},
   "outputs": [
    {
     "data": {
      "image/png": "[encoded data removed]",
      "text/plain": [
       "<Figure size 360x240 with 1 Axes>"
      ]
     },
     "metadata": {
      "needs_background": "light"
     },
     "output_type": "display_data"
    }
   ],
   "source": [
    "mpfc_gain = get_pointwise_gain(\n",
    "    select_PSTH_dataset(psth_df, 'mPFC', 'KO', 'base', 'Principal PSTH'), \n",
    "    step_amplitudes, \n",
    "    500., \n",
    "    stim_start_time\n",
    ")[0]\n",
    "\n",
    "\n",
    "plt.subplot(111)\n",
    "plt.plot(\n",
    "    t_vec[timeToIndex(stim_start_time, 0.1)[0]:], \n",
    "    mpfc_gain,\n",
    "    color='k',\n",
    "    label='Control'\n",
    ")\n",
    "plt.xlabel('Time (ms)')\n",
    "plt.ylabel('Gain (Hz/nA)')\n",
    "plt.legend()\n",
    "\n",
    "sns.despine(trim=True)\n",
    "plt.tight_layout()\n",
    "\n",
    "if IMG_PATH is not None:\n",
    "    plt.savefig(os.path.join(IMG_PATH, 'mpfc_gain_illustration.png'))\n",
    "\n",
    "del mpfc_gain"
   ]
  },
  {
   "cell_type": "code",
   "execution_count": 18,
   "metadata": {},
   "outputs": [],
   "source": [
    "mpfc_psth = select_PSTH_dataset(psth_df, 'mPFC', 'KO', 'base', 'Principal PSTH')"
   ]
  },
  {
   "cell_type": "code",
   "execution_count": 19,
   "metadata": {},
   "outputs": [
    {
     "data": {
      "image/png": "[encoded data removed]",
      "text/plain": [
       "<Figure size 360x240 with 1 Axes>"
      ]
     },
     "metadata": {
      "needs_background": "light"
     },
     "output_type": "display_data"
    }
   ],
   "source": [
    "plot_lines_cmap(t_vec, mpfc_psth[0, ::3, :].T, cmap, start=0.3)"
   ]
  }
 ],
 "metadata": {
  "kernelspec": {
   "display_name": "Python 2",
   "language": "python",
   "name": "python2"
  },
  "language_info": {
   "codemirror_mode": {
    "name": "ipython",
    "version": 2
   },
   "file_extension": ".py",
   "mimetype": "text/x-python",
   "name": "python",
   "nbconvert_exporter": "python",
   "pygments_lexer": "ipython2",
   "version": "2.7.15"
  }
 },
 "nbformat": 4,
 "nbformat_minor": 2
}

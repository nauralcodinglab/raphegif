{
 "cells": [
  {
   "cell_type": "code",
   "execution_count": 1,
   "metadata": {},
   "outputs": [
    {
     "name": "stdout",
     "output_type": "stream",
     "text": [
      "/Users/eharkin/Documents/projects/5HTGIF\n"
     ]
    }
   ],
   "source": [
    "import os\n",
    "os.chdir(os.path.join('..', '..', '..'))\n",
    "print(os.getcwd())"
   ]
  },
  {
   "cell_type": "code",
   "execution_count": 2,
   "metadata": {},
   "outputs": [],
   "source": [
    "import pickle\n",
    "\n",
    "import matplotlib.pyplot as plt\n",
    "import matplotlib.gridspec as gs\n",
    "import seaborn as sns\n",
    "import numpy as np\n",
    "import pandas as pd\n",
    "from scipy import stats\n",
    "\n",
    "from grr.Tools import stripNan\n",
    "from ezephys import pltools\n",
    "import ezephys.stimtools as st"
   ]
  },
  {
   "cell_type": "code",
   "execution_count": 3,
   "metadata": {},
   "outputs": [],
   "source": [
    "plt.style.use(os.path.join('figs', 'scripts', 'writeup', 'publication_figure_style.dms'))\n",
    "plt.rc('text', usetex=False)\n",
    "IMG_PATH = os.path.join('figs', 'ims', 'GIF_individuals')"
   ]
  },
  {
   "cell_type": "markdown",
   "metadata": {},
   "source": [
    "# Load data\n",
    "\n",
    "Two datasets:\n",
    "1. `sample_traces.pkl`: Voltage and spike times from simulated neurons.\n",
    "2. `latency.csv`: Time to first spike for each cell, pre/post-pulse, replicate."
   ]
  },
  {
   "cell_type": "code",
   "execution_count": 4,
   "metadata": {},
   "outputs": [],
   "source": [
    "DATA_PATH = os.path.join('data', 'simulations', 'GIF_latency')\n",
    "\n",
    "with open(os.path.join(DATA_PATH, 'sample_traces.pkl'), 'rb') as f:\n",
    "    sample_traces = pickle.load(f)\n",
    "\n",
    "latencies = pd.read_csv(os.path.join(DATA_PATH, 'latency.csv'))"
   ]
  },
  {
   "cell_type": "markdown",
   "metadata": {},
   "source": [
    "## Inspect `sample_traces`"
   ]
  },
  {
   "cell_type": "code",
   "execution_count": 5,
   "metadata": {},
   "outputs": [
    {
     "data": {
      "text/html": [
       "<div>\n",
       "<style scoped>\n",
       "    .dataframe tbody tr th:only-of-type {\n",
       "        vertical-align: middle;\n",
       "    }\n",
       "\n",
       "    .dataframe tbody tr th {\n",
       "        vertical-align: top;\n",
       "    }\n",
       "\n",
       "    .dataframe thead th {\n",
       "        text-align: right;\n",
       "    }\n",
       "</style>\n",
       "<table border=\"1\" class=\"dataframe\">\n",
       "  <thead>\n",
       "    <tr style=\"text-align: right;\">\n",
       "      <th></th>\n",
       "      <th>cell</th>\n",
       "      <th>model</th>\n",
       "      <th>post_amplitude</th>\n",
       "      <th>pre_amplitude</th>\n",
       "      <th>trace</th>\n",
       "    </tr>\n",
       "  </thead>\n",
       "  <tbody>\n",
       "    <tr>\n",
       "      <th>0</th>\n",
       "      <td>DRN307</td>\n",
       "      <td>&lt;class 'grr.AugmentedGIF.AugmentedGIF'&gt;</td>\n",
       "      <td>0.01</td>\n",
       "      <td>-0.02</td>\n",
       "      <td>{u'spks': [16.5], u't': [0.0, 0.1, 0.2, 0.3000...</td>\n",
       "    </tr>\n",
       "    <tr>\n",
       "      <th>1</th>\n",
       "      <td>DRN307</td>\n",
       "      <td>&lt;class 'grr.AugmentedGIF.AugmentedGIF'&gt;</td>\n",
       "      <td>0.01</td>\n",
       "      <td>-0.05</td>\n",
       "      <td>{u'spks': [], u't': [0.0, 0.1, 0.2, 0.30000000...</td>\n",
       "    </tr>\n",
       "    <tr>\n",
       "      <th>2</th>\n",
       "      <td>DRN307</td>\n",
       "      <td>&lt;class 'grr.AugmentedGIF.AugmentedGIF'&gt;</td>\n",
       "      <td>0.01</td>\n",
       "      <td>0.10</td>\n",
       "      <td>{u'spks': [46.1, 113.5, 212.4, 348.90000000000...</td>\n",
       "    </tr>\n",
       "    <tr>\n",
       "      <th>3</th>\n",
       "      <td>DRN307</td>\n",
       "      <td>&lt;class 'grr.AugmentedGIF.AugmentedGIF'&gt;</td>\n",
       "      <td>0.02</td>\n",
       "      <td>-0.02</td>\n",
       "      <td>{u'spks': [2570.2000000000003], u't': [0.0, 0....</td>\n",
       "    </tr>\n",
       "    <tr>\n",
       "      <th>4</th>\n",
       "      <td>DRN307</td>\n",
       "      <td>&lt;class 'grr.AugmentedGIF.AugmentedGIF'&gt;</td>\n",
       "      <td>0.02</td>\n",
       "      <td>-0.05</td>\n",
       "      <td>{u'spks': [2181.7000000000003, 2962.5], u't': ...</td>\n",
       "    </tr>\n",
       "  </tbody>\n",
       "</table>\n",
       "</div>"
      ],
      "text/plain": [
       "     cell                                    model  post_amplitude  \\\n",
       "0  DRN307  <class 'grr.AugmentedGIF.AugmentedGIF'>            0.01   \n",
       "1  DRN307  <class 'grr.AugmentedGIF.AugmentedGIF'>            0.01   \n",
       "2  DRN307  <class 'grr.AugmentedGIF.AugmentedGIF'>            0.01   \n",
       "3  DRN307  <class 'grr.AugmentedGIF.AugmentedGIF'>            0.02   \n",
       "4  DRN307  <class 'grr.AugmentedGIF.AugmentedGIF'>            0.02   \n",
       "\n",
       "   pre_amplitude                                              trace  \n",
       "0          -0.02  {u'spks': [16.5], u't': [0.0, 0.1, 0.2, 0.3000...  \n",
       "1          -0.05  {u'spks': [], u't': [0.0, 0.1, 0.2, 0.30000000...  \n",
       "2           0.10  {u'spks': [46.1, 113.5, 212.4, 348.90000000000...  \n",
       "3          -0.02  {u'spks': [2570.2000000000003], u't': [0.0, 0....  \n",
       "4          -0.05  {u'spks': [2181.7000000000003, 2962.5], u't': ...  "
      ]
     },
     "execution_count": 5,
     "metadata": {},
     "output_type": "execute_result"
    }
   ],
   "source": [
    "sample_traces.head()"
   ]
  },
  {
   "cell_type": "code",
   "execution_count": 6,
   "metadata": {},
   "outputs": [
    {
     "data": {
      "text/plain": [
       "{'V': array([-58.83875107, -58.86595215, -58.89312454, ..., -54.79079787,\n",
       "        -54.79076709, -54.79073631]),\n",
       " 'spks': array([16.5]),\n",
       " 't': array([0.0000e+00, 1.0000e-01, 2.0000e-01, ..., 2.9997e+03, 2.9998e+03,\n",
       "        2.9999e+03])}"
      ]
     },
     "execution_count": 6,
     "metadata": {},
     "output_type": "execute_result"
    }
   ],
   "source": [
    "sample_traces.loc[0, 'trace']"
   ]
  },
  {
   "cell_type": "code",
   "execution_count": 7,
   "metadata": {},
   "outputs": [
    {
     "data": {
      "image/png": "[encoded data removed]",
      "text/plain": [
       "<Figure size 360x240 with 1 Axes>"
      ]
     },
     "metadata": {
      "needs_background": "light"
     },
     "output_type": "display_data"
    }
   ],
   "source": [
    "sample_trace_tmp = sample_traces.loc[3, 'trace']\n",
    "\n",
    "plt.figure()\n",
    "plt.subplot(111)\n",
    "plt.plot(sample_trace_tmp['t'], sample_trace_tmp['V'])\n",
    "plt.xlabel('Time (ms)')\n",
    "plt.ylabel('V (mV)')\n",
    "plt.show()\n",
    "\n",
    "del sample_trace_tmp"
   ]
  },
  {
   "cell_type": "markdown",
   "metadata": {},
   "source": [
    "Input is a hyperpolarizing pre-pulse followed by a depolarizing test-pulse."
   ]
  },
  {
   "cell_type": "markdown",
   "metadata": {},
   "source": [
    "## Inspect `latencies`"
   ]
  },
  {
   "cell_type": "code",
   "execution_count": 8,
   "metadata": {},
   "outputs": [
    {
     "data": {
      "text/html": [
       "<div>\n",
       "<style scoped>\n",
       "    .dataframe tbody tr th:only-of-type {\n",
       "        vertical-align: middle;\n",
       "    }\n",
       "\n",
       "    .dataframe tbody tr th {\n",
       "        vertical-align: top;\n",
       "    }\n",
       "\n",
       "    .dataframe thead th {\n",
       "        text-align: right;\n",
       "    }\n",
       "</style>\n",
       "<table border=\"1\" class=\"dataframe\">\n",
       "  <thead>\n",
       "    <tr style=\"text-align: right;\">\n",
       "      <th></th>\n",
       "      <th>cell</th>\n",
       "      <th>latency</th>\n",
       "      <th>model</th>\n",
       "      <th>post_amplitude</th>\n",
       "      <th>pre_amplitude</th>\n",
       "      <th>premature_spike</th>\n",
       "    </tr>\n",
       "  </thead>\n",
       "  <tbody>\n",
       "    <tr>\n",
       "      <th>0</th>\n",
       "      <td>DRN307</td>\n",
       "      <td>NaN</td>\n",
       "      <td>&lt;class 'grr.AugmentedGIF.AugmentedGIF'&gt;</td>\n",
       "      <td>0.01</td>\n",
       "      <td>-0.02</td>\n",
       "      <td>True</td>\n",
       "    </tr>\n",
       "    <tr>\n",
       "      <th>1</th>\n",
       "      <td>DRN307</td>\n",
       "      <td>NaN</td>\n",
       "      <td>&lt;class 'grr.AugmentedGIF.AugmentedGIF'&gt;</td>\n",
       "      <td>0.01</td>\n",
       "      <td>-0.02</td>\n",
       "      <td>False</td>\n",
       "    </tr>\n",
       "    <tr>\n",
       "      <th>2</th>\n",
       "      <td>DRN307</td>\n",
       "      <td>NaN</td>\n",
       "      <td>&lt;class 'grr.AugmentedGIF.AugmentedGIF'&gt;</td>\n",
       "      <td>0.01</td>\n",
       "      <td>-0.02</td>\n",
       "      <td>False</td>\n",
       "    </tr>\n",
       "    <tr>\n",
       "      <th>3</th>\n",
       "      <td>DRN307</td>\n",
       "      <td>NaN</td>\n",
       "      <td>&lt;class 'grr.AugmentedGIF.AugmentedGIF'&gt;</td>\n",
       "      <td>0.01</td>\n",
       "      <td>-0.02</td>\n",
       "      <td>False</td>\n",
       "    </tr>\n",
       "    <tr>\n",
       "      <th>4</th>\n",
       "      <td>DRN307</td>\n",
       "      <td>2347.5</td>\n",
       "      <td>&lt;class 'grr.AugmentedGIF.AugmentedGIF'&gt;</td>\n",
       "      <td>0.01</td>\n",
       "      <td>-0.02</td>\n",
       "      <td>False</td>\n",
       "    </tr>\n",
       "  </tbody>\n",
       "</table>\n",
       "</div>"
      ],
      "text/plain": [
       "     cell  latency                                    model  post_amplitude  \\\n",
       "0  DRN307      NaN  <class 'grr.AugmentedGIF.AugmentedGIF'>            0.01   \n",
       "1  DRN307      NaN  <class 'grr.AugmentedGIF.AugmentedGIF'>            0.01   \n",
       "2  DRN307      NaN  <class 'grr.AugmentedGIF.AugmentedGIF'>            0.01   \n",
       "3  DRN307      NaN  <class 'grr.AugmentedGIF.AugmentedGIF'>            0.01   \n",
       "4  DRN307   2347.5  <class 'grr.AugmentedGIF.AugmentedGIF'>            0.01   \n",
       "\n",
       "   pre_amplitude  premature_spike  \n",
       "0          -0.02             True  \n",
       "1          -0.02            False  \n",
       "2          -0.02            False  \n",
       "3          -0.02            False  \n",
       "4          -0.02            False  "
      ]
     },
     "execution_count": 8,
     "metadata": {},
     "output_type": "execute_result"
    }
   ],
   "source": [
    "latencies.head()"
   ]
  },
  {
   "cell_type": "markdown",
   "metadata": {},
   "source": [
    "Latency is the time of the first spike after the test pulse start (**TODO**: should be time *from* test pulse start). \n",
    "\n",
    "Latency can be `NaN` for two reasons:\n",
    "1. There are no spikes before the end of the simulation.\n",
    "2. There is at least one spike before the beginning of the test pulse.\n",
    "    - If this happens, `premature_spike` is `True`."
   ]
  },
  {
   "cell_type": "code",
   "execution_count": 9,
   "metadata": {},
   "outputs": [
    {
     "name": "stdout",
     "output_type": "stream",
     "text": [
      "Pre-pulse amplitudes: [-0.02 -0.05  0.1 ] \n",
      "Post-pulse amplitudes: [0.01 0.02 0.03]\n"
     ]
    }
   ],
   "source": [
    "print(\n",
    "    'Pre-pulse amplitudes: {pre} \\nPost-pulse amplitudes: {post}'.format(\n",
    "        pre=latencies['pre_amplitude'].unique(), \n",
    "        post=latencies['post_amplitude'].unique()\n",
    "    )\n",
    ")"
   ]
  },
  {
   "cell_type": "markdown",
   "metadata": {},
   "source": [
    "# Test whether IA model increases latency"
   ]
  },
  {
   "cell_type": "code",
   "execution_count": 10,
   "metadata": {},
   "outputs": [
    {
     "data": {
      "text/html": [
       "<div>\n",
       "<style scoped>\n",
       "    .dataframe tbody tr th:only-of-type {\n",
       "        vertical-align: middle;\n",
       "    }\n",
       "\n",
       "    .dataframe tbody tr th {\n",
       "        vertical-align: top;\n",
       "    }\n",
       "\n",
       "    .dataframe thead th {\n",
       "        text-align: right;\n",
       "    }\n",
       "</style>\n",
       "<table border=\"1\" class=\"dataframe\">\n",
       "  <thead>\n",
       "    <tr style=\"text-align: right;\">\n",
       "      <th></th>\n",
       "      <th>cell</th>\n",
       "      <th>latency</th>\n",
       "      <th>model</th>\n",
       "      <th>post_amplitude</th>\n",
       "      <th>pre_amplitude</th>\n",
       "    </tr>\n",
       "  </thead>\n",
       "  <tbody>\n",
       "    <tr>\n",
       "      <th>0</th>\n",
       "      <td>DRN307</td>\n",
       "      <td>[nan, 2284.9, nan, nan, nan, 2915.9, 2879.9, 2...</td>\n",
       "      <td>&lt;class 'grr.AugmentedGIF.AugmentedGIF'&gt;</td>\n",
       "      <td>0.01</td>\n",
       "      <td>-0.05</td>\n",
       "    </tr>\n",
       "    <tr>\n",
       "      <th>1</th>\n",
       "      <td>DRN307</td>\n",
       "      <td>[2181.7, 2629.1, 2494.9, 2388.3, 2371.7, 2357....</td>\n",
       "      <td>&lt;class 'grr.AugmentedGIF.AugmentedGIF'&gt;</td>\n",
       "      <td>0.02</td>\n",
       "      <td>-0.05</td>\n",
       "    </tr>\n",
       "    <tr>\n",
       "      <th>2</th>\n",
       "      <td>DRN307</td>\n",
       "      <td>[2201.6, 2240.3, 2326.6, 2339.5, 2235.8, 2258....</td>\n",
       "      <td>&lt;class 'grr.AugmentedGIF.AugmentedGIF'&gt;</td>\n",
       "      <td>0.03</td>\n",
       "      <td>-0.05</td>\n",
       "    </tr>\n",
       "    <tr>\n",
       "      <th>3</th>\n",
       "      <td>DRN307</td>\n",
       "      <td>[nan, nan, nan, nan, 2347.5, 2972.8, 2966.7, 2...</td>\n",
       "      <td>&lt;class 'grr.AugmentedGIF.AugmentedGIF'&gt;</td>\n",
       "      <td>0.01</td>\n",
       "      <td>-0.02</td>\n",
       "    </tr>\n",
       "    <tr>\n",
       "      <th>4</th>\n",
       "      <td>DRN307</td>\n",
       "      <td>[2570.2, 2508.1, 2507.2, 2649.9, 2314.8, 2487....</td>\n",
       "      <td>&lt;class 'grr.AugmentedGIF.AugmentedGIF'&gt;</td>\n",
       "      <td>0.02</td>\n",
       "      <td>-0.02</td>\n",
       "    </tr>\n",
       "  </tbody>\n",
       "</table>\n",
       "</div>"
      ],
      "text/plain": [
       "     cell                                            latency  \\\n",
       "0  DRN307  [nan, 2284.9, nan, nan, nan, 2915.9, 2879.9, 2...   \n",
       "1  DRN307  [2181.7, 2629.1, 2494.9, 2388.3, 2371.7, 2357....   \n",
       "2  DRN307  [2201.6, 2240.3, 2326.6, 2339.5, 2235.8, 2258....   \n",
       "3  DRN307  [nan, nan, nan, nan, 2347.5, 2972.8, 2966.7, 2...   \n",
       "4  DRN307  [2570.2, 2508.1, 2507.2, 2649.9, 2314.8, 2487....   \n",
       "\n",
       "                                     model  post_amplitude  pre_amplitude  \n",
       "0  <class 'grr.AugmentedGIF.AugmentedGIF'>            0.01          -0.05  \n",
       "1  <class 'grr.AugmentedGIF.AugmentedGIF'>            0.02          -0.05  \n",
       "2  <class 'grr.AugmentedGIF.AugmentedGIF'>            0.03          -0.05  \n",
       "3  <class 'grr.AugmentedGIF.AugmentedGIF'>            0.01          -0.02  \n",
       "4  <class 'grr.AugmentedGIF.AugmentedGIF'>            0.02          -0.02  "
      ]
     },
     "execution_count": 10,
     "metadata": {},
     "output_type": "execute_result"
    }
   ],
   "source": [
    "grouping_factors = ('cell', 'model', 'pre_amplitude', 'post_amplitude')\n",
    "grouped_data = {factor : [] for factor in grouping_factors}\n",
    "grouped_data['latency'] = []\n",
    "for grp in latencies.groupby(grouping_factors):\n",
    "    for i, factor in enumerate(grouping_factors):\n",
    "        grouped_data[factor].append(grp[0][i])\n",
    "    grouped_data['latency'].append(grp[1]['latency'].tolist())\n",
    "    \n",
    "grouped_data = pd.DataFrame(grouped_data)\n",
    "grouped_data.head()"
   ]
  },
  {
   "cell_type": "code",
   "execution_count": 11,
   "metadata": {},
   "outputs": [],
   "source": [
    "def get_sample_size(x):\n",
    "    return sum(~np.isnan(x))"
   ]
  },
  {
   "cell_type": "code",
   "execution_count": 12,
   "metadata": {},
   "outputs": [
    {
     "name": "stdout",
     "output_type": "stream",
     "text": [
      "Running U tests with Bonferroni-corrected significance threshold p = 0.00093\n",
      "\n",
      "0.010nA test pulse latencies\n",
      "============================\n",
      "DRN307 (280, 268) p = 0.0270 \n",
      "DRN308 (  4,   1) Skipped\n",
      "DRN317 (  3,   0) Skipped\n",
      "DRN318 ( 19,   2) Skipped\n",
      "DRN319 (233, 201) Skipped\n",
      "DRN320 (  3,   1) Skipped\n",
      "DRN321 (381, 452) p = 0.0001 *\n",
      "DRN324 (306, 273) p = 0.0195 \n",
      "DRN325 (267, 270) p = 0.0046 \n",
      "DRN327 ( 65,  17) Skipped\n",
      "DRN332 (121,  98) Skipped\n",
      "DRN384 (  4,   4) Skipped\n",
      "DRN385 (118,  65) Skipped\n",
      "DRN386 (265,  73) Skipped\n",
      "   JF3 ( 29,   6) Skipped\n",
      "   JF5 (  1,   0) Skipped\n",
      "   JF6 ( 80,  15) Skipped\n",
      "   JF7 (419, 486) p = 0.0000 *\n",
      "\n",
      "0.020nA test pulse latencies\n",
      "============================\n",
      "DRN307 (466, 490) p = 0.8297 \n",
      "DRN308 ( 31,   2) Skipped\n",
      "DRN317 ( 20,   0) Skipped\n",
      "DRN318 (101,  62) Skipped\n",
      "DRN319 (246, 201) Skipped\n",
      "DRN320 ( 19,   4) Skipped\n",
      "DRN321 (392, 449) p = 0.0024 \n",
      "DRN324 (492, 496) p = 0.0000 *\n",
      "DRN325 (408, 480) p = 0.2254 \n",
      "DRN327 (322, 482) p = 0.3260 \n",
      "DRN332 (357, 483) p = 0.0009 *\n",
      "DRN384 ( 49,  61) Skipped\n",
      "DRN385 (373, 350) p = 0.1353 \n",
      "DRN386 (457, 500) p = 0.0000 *\n",
      "   JF3 ( 85,  35) Skipped\n",
      "   JF5 ( 15,   0) Skipped\n",
      "   JF6 (417, 487) p = 0.0000 *\n",
      "   JF7 (492, 499) p = 0.0000 *\n",
      "\n",
      "0.030nA test pulse latencies\n",
      "============================\n",
      "DRN307 (485, 493) p = 0.6461 \n",
      "DRN308 (139,  57) Skipped\n",
      "DRN317 (118,   9) Skipped\n",
      "DRN318 (320, 499) p = 0.2062 \n",
      "DRN319 (243, 200) Skipped\n",
      "DRN320 (136,  78) Skipped\n",
      "DRN321 (391, 466) p = 0.0004 *\n",
      "DRN324 (489, 499) p = 0.0001 *\n",
      "DRN325 (425, 496) p = 0.0188 \n",
      "DRN327 (499, 500) p = 0.9828 \n",
      "DRN332 (483, 492) p = 1.0000 \n",
      "DRN384 (330, 309) p = 0.3719 \n",
      "DRN385 (499, 498) p = 0.8487 \n",
      "DRN386 (478, 498) p = 0.0000 *\n",
      "   JF3 (283, 158) Skipped\n",
      "   JF5 ( 60,  24) Skipped\n",
      "   JF6 (500, 500) p = 0.0000 *\n",
      "   JF7 (492, 500) p = 0.0000 *\n"
     ]
    }
   ],
   "source": [
    "post_amps = grouped_data['post_amplitude'].unique()\n",
    "num_trials = len(grouped_data['latency'][0])\n",
    "minimum_spikes = float(num_trials) / 2.  # Do not test if sample size is less than this in each group.\n",
    "p_crit_value = 0.05 / (len(post_amps) * len(latencies['cell'].unique()))  # Bonferroni corrected critical value.\n",
    "print('Running U tests with Bonferroni-corrected significance threshold p = {:.5f}'.format(p_crit_value))\n",
    "\n",
    "# TODO: get statistics for plotting.\n",
    "statistics = {\n",
    "    'cell' : [],\n",
    "    'AugmentedGIF_latencies': [],\n",
    "    'GIF_latencies': [],\n",
    "    'significance': [],\n",
    "    'AugmentedGIF_eligible_sweeps': [],\n",
    "    'GIF_eligible_sweeps': [],\n",
    "    'pre_amplitude': [],\n",
    "    'post_amplitude': []\n",
    "}\n",
    "\n",
    "for post_amp in post_amps:\n",
    "    lat_piv = grouped_data.loc[\n",
    "        (grouped_data['post_amplitude'] == post_amp) \n",
    "        & (grouped_data['pre_amplitude'] == -0.02), \n",
    "        :\n",
    "    ].pivot(index='cell', columns='model', values='latency')\n",
    "    \n",
    "    print('\\n{:.3f}nA test pulse latencies'.format(post_amp))\n",
    "    print('=' * 28)\n",
    "    for i in range(len(lat_piv)):\n",
    "        \n",
    "        if (\n",
    "            get_sample_size(lat_piv[\"<class 'grr.GIF.GIF'>\"][i]) > minimum_spikes\n",
    "            and \n",
    "            get_sample_size(lat_piv[\"<class 'grr.AugmentedGIF.AugmentedGIF'>\"][i]) > minimum_spikes\n",
    "        ):\n",
    "            p_val = stats.mannwhitneyu(\n",
    "                stripNan(lat_piv[\"<class 'grr.GIF.GIF'>\"][i]), \n",
    "                stripNan(lat_piv[\"<class 'grr.AugmentedGIF.AugmentedGIF'>\"][i]), \n",
    "                alternative='less'\n",
    "            )[1]\n",
    "            if p_val < p_crit_value:\n",
    "                sig_str = '*'\n",
    "            else:\n",
    "                sig_str = ''\n",
    "\n",
    "            print('{:>6} ({:>3}, {:>3}) p = {:.4f} {}'.format(\n",
    "                lat_piv.index[i], \n",
    "                get_sample_size(lat_piv[\"<class 'grr.GIF.GIF'>\"][i]),\n",
    "                get_sample_size(lat_piv[\"<class 'grr.AugmentedGIF.AugmentedGIF'>\"][i]), \n",
    "                p_val, \n",
    "                sig_str\n",
    "            ))\n",
    "        else:\n",
    "            print('{:>6} ({:>3}, {:>3}) Skipped'.format(\n",
    "                lat_piv.index[i],\n",
    "                get_sample_size(lat_piv[\"<class 'grr.GIF.GIF'>\"][i]),\n",
    "                get_sample_size(lat_piv[\"<class 'grr.AugmentedGIF.AugmentedGIF'>\"][i])\n",
    "            ))"
   ]
  },
  {
   "cell_type": "markdown",
   "metadata": {},
   "source": [
    "Cell ID (left), number of trials with spikes for `(GIF, AugmentedGIF)` out of 500, p-value for **one-sided** U-test that AugmentedGIF increases latency. Star indicates significance after Bonferroni correction. U-test is skipped if not enough trials have non-`NaN` latencies (see above for reasons why some latencies are `NaN`).\n",
    "\n",
    "**Conclusion:** Incorporating IA into the model increases spike latency in some cells under some conditions. \n",
    "\n",
    "Could imply:\n",
    "- change in latency is sometimes small/hard to detect\n",
    "- real effect of IA on *voltage dependence* of latency isn't captured by this analysis\n",
    "    - better analysis would be some kind of non-parametric two way ANOVA with pre-pulse amplitude and model as factors (is this possible?)\n",
    "- GIF can compensate somewhat for missing IA with other parameters\n",
    "- fitting algorithm underestimates IA so much that functional effect is often obscured"
   ]
  },
  {
   "cell_type": "markdown",
   "metadata": {},
   "source": [
    "# Latency plots\n",
    "Focus on simulations with -20pA pre-pulse and 20pA test pulse."
   ]
  },
  {
   "cell_type": "code",
   "execution_count": 13,
   "metadata": {},
   "outputs": [
    {
     "data": {
      "text/html": [
       "<div>\n",
       "<style scoped>\n",
       "    .dataframe tbody tr th:only-of-type {\n",
       "        vertical-align: middle;\n",
       "    }\n",
       "\n",
       "    .dataframe tbody tr th {\n",
       "        vertical-align: top;\n",
       "    }\n",
       "\n",
       "    .dataframe thead th {\n",
       "        text-align: right;\n",
       "    }\n",
       "</style>\n",
       "<table border=\"1\" class=\"dataframe\">\n",
       "  <thead>\n",
       "    <tr style=\"text-align: right;\">\n",
       "      <th>model</th>\n",
       "      <th>&lt;class 'grr.AugmentedGIF.AugmentedGIF'&gt;</th>\n",
       "      <th>&lt;class 'grr.GIF.GIF'&gt;</th>\n",
       "    </tr>\n",
       "    <tr>\n",
       "      <th>cell</th>\n",
       "      <th></th>\n",
       "      <th></th>\n",
       "    </tr>\n",
       "  </thead>\n",
       "  <tbody>\n",
       "    <tr>\n",
       "      <th>DRN307</th>\n",
       "      <td>[2570.2, 2508.1, 2507.2, 2649.9, 2314.8, 2487....</td>\n",
       "      <td>[2495.8, 2638.5, 2303.4, 2882.7, 2129.1, 2353....</td>\n",
       "    </tr>\n",
       "    <tr>\n",
       "      <th>DRN308</th>\n",
       "      <td>[nan, nan, nan, nan, nan, nan, nan, nan, nan, ...</td>\n",
       "      <td>[nan, nan, nan, nan, nan, nan, nan, nan, nan, ...</td>\n",
       "    </tr>\n",
       "    <tr>\n",
       "      <th>DRN317</th>\n",
       "      <td>[nan, nan, nan, nan, nan, nan, nan, nan, nan, ...</td>\n",
       "      <td>[nan, nan, nan, 2562.3, nan, nan, nan, nan, na...</td>\n",
       "    </tr>\n",
       "    <tr>\n",
       "      <th>DRN318</th>\n",
       "      <td>[nan, nan, nan, nan, 2790.2, 2487.9, nan, 2343...</td>\n",
       "      <td>[nan, nan, nan, nan, nan, 2533.2, nan, nan, na...</td>\n",
       "    </tr>\n",
       "    <tr>\n",
       "      <th>DRN319</th>\n",
       "      <td>[nan, 2198.2, nan, nan, nan, nan, 2056.0, nan,...</td>\n",
       "      <td>[nan, 2124.0, nan, nan, nan, 2058.9, 2090.3, n...</td>\n",
       "    </tr>\n",
       "  </tbody>\n",
       "</table>\n",
       "</div>"
      ],
      "text/plain": [
       "model             <class 'grr.AugmentedGIF.AugmentedGIF'>  \\\n",
       "cell                                                        \n",
       "DRN307  [2570.2, 2508.1, 2507.2, 2649.9, 2314.8, 2487....   \n",
       "DRN308  [nan, nan, nan, nan, nan, nan, nan, nan, nan, ...   \n",
       "DRN317  [nan, nan, nan, nan, nan, nan, nan, nan, nan, ...   \n",
       "DRN318  [nan, nan, nan, nan, 2790.2, 2487.9, nan, 2343...   \n",
       "DRN319  [nan, 2198.2, nan, nan, nan, nan, 2056.0, nan,...   \n",
       "\n",
       "model                               <class 'grr.GIF.GIF'>  \n",
       "cell                                                       \n",
       "DRN307  [2495.8, 2638.5, 2303.4, 2882.7, 2129.1, 2353....  \n",
       "DRN308  [nan, nan, nan, nan, nan, nan, nan, nan, nan, ...  \n",
       "DRN317  [nan, nan, nan, 2562.3, nan, nan, nan, nan, na...  \n",
       "DRN318  [nan, nan, nan, nan, nan, 2533.2, nan, nan, na...  \n",
       "DRN319  [nan, 2124.0, nan, nan, nan, 2058.9, 2090.3, n...  "
      ]
     },
     "execution_count": 13,
     "metadata": {},
     "output_type": "execute_result"
    }
   ],
   "source": [
    "lat_piv = grouped_data.loc[\n",
    "    (grouped_data['post_amplitude'] == 0.02) \n",
    "    & (grouped_data['pre_amplitude'] == -0.02), \n",
    "    :\n",
    "].pivot(index='cell', columns='model', values='latency')\n",
    "\n",
    "lat_piv.head()"
   ]
  },
  {
   "cell_type": "code",
   "execution_count": 14,
   "metadata": {},
   "outputs": [],
   "source": [
    "def hist_contrast_plot(models, ax=None, bins='auto', **pltargs):\n",
    "    if ax is None:\n",
    "        ax = plt.gca()\n",
    "    \n",
    "    for mod in models:\n",
    "        ax.hist(models[mod], bins=bins, density=True, histtype='step', label=mod, **pltargs)\n",
    "    \n",
    "    ax.legend()\n",
    "\n",
    "def cumulative_distribution(x):\n",
    "    x_sorted = np.sort(x)\n",
    "    cumulative_proba = np.linspace(1./len(x_sorted), 1., len(x_sorted))\n",
    "    return x_sorted, cumulative_proba\n",
    "\n",
    "def cumulative_distribution_pct_reduction(model_base, model_alt):\n",
    "    \"\"\"Percent difference in cumulative distributions.\"\"\"\n",
    "    base_x, base_y = cumulative_distribution(model_base)\n",
    "    alt_x, alt_y = cumulative_distribution(model_alt)\n",
    "    union_x = np.sort(np.union1d(base_x, alt_x))\n",
    "\n",
    "    base_interpolated_y = np.interp(union_x, base_x, base_y, left=0.)\n",
    "    alt_interpolated_y = np.interp(union_x, alt_x, alt_y, left=0.)\n",
    "\n",
    "    pct_change = (alt_interpolated_y - base_interpolated_y) / base_interpolated_y\n",
    "\n",
    "    return union_x, pct_change  \n",
    "\n",
    "def cumulative_distribution_plot(models, ax=None, omit_label=False, **pltargs):\n",
    "    if ax is None:\n",
    "        ax = plt.gca()\n",
    "    \n",
    "    color_cycle = ('r', 'k')\n",
    "    for i, mod in enumerate(models):\n",
    "        x, y = cumulative_distribution(models[mod])\n",
    "        if not omit_label:\n",
    "            ax.plot(x, y, label=mod, color=color_cycle[i%len(color_cycle)], **pltargs)\n",
    "        else:\n",
    "            ax.plot(x, y, color=color_cycle[i%len(color_cycle)], **pltargs)"
   ]
  },
  {
   "cell_type": "code",
   "execution_count": 15,
   "metadata": {},
   "outputs": [
    {
     "name": "stderr",
     "output_type": "stream",
     "text": [
      "/miniconda3/envs/neopozz/lib/python2.7/site-packages/numpy/lib/histograms.py:823: RuntimeWarning: invalid value encountered in true_divide\n",
      "  return n/db/n.sum(), bin_edges\n"
     ]
    },
    {
     "data": {
      "image/png": "[encoded data removed]",
      "text/plain": [
       "<Figure size 1200x480 with 2 Axes>"
      ]
     },
     "metadata": {
      "needs_background": "light"
     },
     "output_type": "display_data"
    }
   ],
   "source": [
    "step_start_time = 2000.\n",
    "bins = np.linspace(0., 1000., 10)\n",
    "\n",
    "spec = gs.GridSpec(1, 2)\n",
    "\n",
    "plt.figure(figsize=(10, 4))\n",
    "\n",
    "plt.subplot(spec[0, 0])\n",
    "hist_vals = {\n",
    "    'AugmentedGIF': [],\n",
    "    'GIF': []\n",
    "}\n",
    "hist_edges = np.linspace(0., 1000., 10)\n",
    "for i in range(len(lat_piv)):\n",
    "    hist_vals_tmp, _ = np.histogram(\n",
    "        stripNan(lat_piv[\"<class 'grr.AugmentedGIF.AugmentedGIF'>\"][i]) - step_start_time, \n",
    "        bins=hist_edges,\n",
    "        density=True\n",
    "    )\n",
    "    hist_vals['AugmentedGIF'].append(hist_vals_tmp)\n",
    "    hist_vals_tmp, _ = np.histogram(\n",
    "        stripNan(lat_piv[\"<class 'grr.GIF.GIF'>\"][i]) - step_start_time, \n",
    "        bins=hist_edges,\n",
    "        density=True\n",
    "    )\n",
    "    hist_vals['GIF'].append(hist_vals_tmp)\n",
    "    \n",
    "    del hist_vals_tmp\n",
    "    \n",
    "hist_vals = {key: np.array(hist_vals[key]) for key in hist_vals}\n",
    "\n",
    "plt.errorbar(\n",
    "    x=(hist_edges[:-1] + hist_edges[1:])/2., \n",
    "    y=np.nanmean(hist_vals['AugmentedGIF'], axis=0), \n",
    "    yerr=np.nanstd(hist_vals['AugmentedGIF'], axis=0),\n",
    "    color='r',\n",
    "    ecolor='r',\n",
    "    capsize=2.,\n",
    "    label='AugmentedGIF'\n",
    ")\n",
    "plt.errorbar(\n",
    "    x=(hist_edges[:-1] + hist_edges[1:])/2., \n",
    "    y=np.nanmean(hist_vals['GIF'], axis=0), \n",
    "    yerr=np.nanstd(hist_vals['GIF'], axis=0),\n",
    "    color='k',\n",
    "    ecolor='k',\n",
    "    capsize=2.,\n",
    "    label='GIF'\n",
    ")\n",
    "plt.xlim(0, 1000.)\n",
    "plt.xlabel('Spike latency (ms)')\n",
    "plt.ylabel('Probability density')\n",
    "plt.legend()\n",
    "\n",
    "plt.subplot(spec[0, 1])\n",
    "for i in range(len(lat_piv)):\n",
    "    try:\n",
    "        if i == 0:\n",
    "            cumulative_distribution_plot(\n",
    "                {\n",
    "                    'AugmentedGIF': np.asarray(lat_piv[\"<class 'grr.AugmentedGIF.AugmentedGIF'>\"][i]) - step_start_time,\n",
    "                    'GIF': np.asarray(lat_piv[\"<class 'grr.GIF.GIF'>\"][i]) - step_start_time\n",
    "                }\n",
    "            )\n",
    "        else:\n",
    "            cumulative_distribution_plot(\n",
    "                {\n",
    "                    'AugmentedGIF': np.asarray(lat_piv[\"<class 'grr.AugmentedGIF.AugmentedGIF'>\"][i]) - step_start_time,\n",
    "                    'GIF': np.asarray(lat_piv[\"<class 'grr.GIF.GIF'>\"][i]) - step_start_time\n",
    "                },\n",
    "                omit_label=True\n",
    "            )\n",
    "\n",
    "    except ValueError:\n",
    "        continue\n",
    "plt.gca().set_yscale('log')\n",
    "plt.xlabel('Spike latency (ms)')\n",
    "plt.ylabel('Cumulative probability')\n",
    "plt.legend()\n",
    "\n",
    "plt.tight_layout()\n",
    "plt.show()"
   ]
  },
  {
   "cell_type": "markdown",
   "metadata": {},
   "source": [
    "Average normalized histogram (left) and cumulative distribution of spike latencies for each cell (right). (Not all cumulative distributions to go 1 because of `NaN` latencies; see above for reasons `NaN`s are introduced.)\n",
    "\n",
    "Pretty hard to see how IA is affecting latency this way."
   ]
  },
  {
   "cell_type": "markdown",
   "metadata": {},
   "source": [
    "# Individual latency histograms\n",
    "\n",
    "One plot with both models for each cell. Vertical lines indicate median latency for each model. Test pulse starts at 2000ms."
   ]
  },
  {
   "cell_type": "code",
   "execution_count": 16,
   "metadata": {
    "scrolled": false
   },
   "outputs": [
    {
     "data": {
      "image/png": "[encoded data removed]",
      "text/plain": [
       "<Figure size 360x240 with 1 Axes>"
      ]
     },
     "metadata": {
      "needs_background": "light"
     },
     "output_type": "display_data"
    },
    {
     "data": {
      "image/png": "[encoded data removed]",
      "text/plain": [
       "<Figure size 360x240 with 1 Axes>"
      ]
     },
     "metadata": {
      "needs_background": "light"
     },
     "output_type": "display_data"
    },
    {
     "name": "stderr",
     "output_type": "stream",
     "text": [
      "/miniconda3/envs/neopozz/lib/python2.7/site-packages/numpy/lib/function_base.py:3250: RuntimeWarning: All-NaN slice encountered\n",
      "  r = func(a, **kwargs)\n"
     ]
    },
    {
     "data": {
      "image/png": "[encoded data removed]",
      "text/plain": [
       "<Figure size 360x240 with 1 Axes>"
      ]
     },
     "metadata": {
      "needs_background": "light"
     },
     "output_type": "display_data"
    },
    {
     "data": {
      "image/png": "[encoded data removed]",
      "text/plain": [
       "<Figure size 360x240 with 1 Axes>"
      ]
     },
     "metadata": {
      "needs_background": "light"
     },
     "output_type": "display_data"
    },
    {
     "data": {
      "image/png": "[encoded data removed]",
      "text/plain": [
       "<Figure size 360x240 with 1 Axes>"
      ]
     },
     "metadata": {
      "needs_background": "light"
     },
     "output_type": "display_data"
    },
    {
     "data": {
      "image/png": "[encoded data removed]",
      "text/plain": [
       "<Figure size 360x240 with 1 Axes>"
      ]
     },
     "metadata": {
      "needs_background": "light"
     },
     "output_type": "display_data"
    },
    {
     "data": {
      "image/png": "[encoded data removed]",
      "text/plain": [
       "<Figure size 360x240 with 1 Axes>"
      ]
     },
     "metadata": {
      "needs_background": "light"
     },
     "output_type": "display_data"
    },
    {
     "data": {
      "image/png": "[encoded data removed]",
      "text/plain": [
       "<Figure size 360x240 with 1 Axes>"
      ]
     },
     "metadata": {
      "needs_background": "light"
     },
     "output_type": "display_data"
    },
    {
     "data": {
      "image/png": "[encoded data removed]",
      "text/plain": [
       "<Figure size 360x240 with 1 Axes>"
      ]
     },
     "metadata": {
      "needs_background": "light"
     },
     "output_type": "display_data"
    },
    {
     "data": {
      "image/png": "[encoded data removed]",
      "text/plain": [
       "<Figure size 360x240 with 1 Axes>"
      ]
     },
     "metadata": {
      "needs_background": "light"
     },
     "output_type": "display_data"
    },
    {
     "data": {
      "image/png": "[encoded data removed]",
      "text/plain": [
       "<Figure size 360x240 with 1 Axes>"
      ]
     },
     "metadata": {
      "needs_background": "light"
     },
     "output_type": "display_data"
    },
    {
     "data": {
      "image/png": "[encoded data removed]",
      "text/plain": [
       "<Figure size 360x240 with 1 Axes>"
      ]
     },
     "metadata": {
      "needs_background": "light"
     },
     "output_type": "display_data"
    },
    {
     "data": {
      "image/png": "[encoded data removed]",
      "text/plain": [
       "<Figure size 360x240 with 1 Axes>"
      ]
     },
     "metadata": {
      "needs_background": "light"
     },
     "output_type": "display_data"
    },
    {
     "data": {
      "image/png": "[encoded data removed]",
      "text/plain": [
       "<Figure size 360x240 with 1 Axes>"
      ]
     },
     "metadata": {
      "needs_background": "light"
     },
     "output_type": "display_data"
    },
    {
     "data": {
      "image/png": "[encoded data removed]",
      "text/plain": [
       "<Figure size 360x240 with 1 Axes>"
      ]
     },
     "metadata": {
      "needs_background": "light"
     },
     "output_type": "display_data"
    },
    {
     "data": {
      "image/png": "[encoded data removed]",
      "text/plain": [
       "<Figure size 360x240 with 1 Axes>"
      ]
     },
     "metadata": {
      "needs_background": "light"
     },
     "output_type": "display_data"
    },
    {
     "data": {
      "image/png": "[encoded data removed]",
      "text/plain": [
       "<Figure size 360x240 with 1 Axes>"
      ]
     },
     "metadata": {
      "needs_background": "light"
     },
     "output_type": "display_data"
    },
    {
     "data": {
      "image/png": "[encoded data removed]",
      "text/plain": [
       "<Figure size 360x240 with 1 Axes>"
      ]
     },
     "metadata": {
      "needs_background": "light"
     },
     "output_type": "display_data"
    }
   ],
   "source": [
    "for i in range(len(lat_piv)):\n",
    "    plt.figure()\n",
    "    \n",
    "    plt.hist(\n",
    "        np.asarray(lat_piv[\"<class 'grr.GIF.GIF'>\"][i])[~np.isnan(lat_piv[\"<class 'grr.GIF.GIF'>\"][i])],\n",
    "        range=(2000, 3000),\n",
    "        label='GIF'\n",
    "    )\n",
    "    plt.axvline(np.nanmedian(lat_piv[\"<class 'grr.GIF.GIF'>\"][i]))\n",
    "    plt.hist(\n",
    "        np.asarray(lat_piv[\"<class 'grr.AugmentedGIF.AugmentedGIF'>\"][i])[~np.isnan(lat_piv[\"<class 'grr.AugmentedGIF.AugmentedGIF'>\"][i])], \n",
    "        range=(2000, 3000),\n",
    "        alpha=0.7,\n",
    "        color='orange',\n",
    "        label='AugmentedGIF'\n",
    "    )\n",
    "    plt.axvline(np.nanmedian(lat_piv[\"<class 'grr.AugmentedGIF.AugmentedGIF'>\"][i]), color='orange')\n",
    "    plt.legend()\n",
    "    \n",
    "    plt.show()"
   ]
  },
  {
   "cell_type": "markdown",
   "metadata": {},
   "source": [
    "The median latency of the AugmentedGIF (orange vertical line) seems consistenly longer than that of the GIF (blue vertical line)."
   ]
  },
  {
   "cell_type": "markdown",
   "metadata": {},
   "source": [
    "# Publication plots"
   ]
  },
  {
   "cell_type": "code",
   "execution_count": 17,
   "metadata": {},
   "outputs": [
    {
     "data": {
      "text/html": [
       "<div>\n",
       "<style scoped>\n",
       "    .dataframe tbody tr th:only-of-type {\n",
       "        vertical-align: middle;\n",
       "    }\n",
       "\n",
       "    .dataframe tbody tr th {\n",
       "        vertical-align: top;\n",
       "    }\n",
       "\n",
       "    .dataframe thead th {\n",
       "        text-align: right;\n",
       "    }\n",
       "</style>\n",
       "<table border=\"1\" class=\"dataframe\">\n",
       "  <thead>\n",
       "    <tr style=\"text-align: right;\">\n",
       "      <th></th>\n",
       "      <th>cell</th>\n",
       "      <th>model</th>\n",
       "      <th>post_amplitude</th>\n",
       "      <th>pre_amplitude</th>\n",
       "      <th>trace</th>\n",
       "    </tr>\n",
       "  </thead>\n",
       "  <tbody>\n",
       "    <tr>\n",
       "      <th>0</th>\n",
       "      <td>DRN307</td>\n",
       "      <td>&lt;class 'grr.AugmentedGIF.AugmentedGIF'&gt;</td>\n",
       "      <td>0.01</td>\n",
       "      <td>-0.02</td>\n",
       "      <td>{u'spks': [16.5], u't': [0.0, 0.1, 0.2, 0.3000...</td>\n",
       "    </tr>\n",
       "    <tr>\n",
       "      <th>1</th>\n",
       "      <td>DRN307</td>\n",
       "      <td>&lt;class 'grr.AugmentedGIF.AugmentedGIF'&gt;</td>\n",
       "      <td>0.01</td>\n",
       "      <td>-0.05</td>\n",
       "      <td>{u'spks': [], u't': [0.0, 0.1, 0.2, 0.30000000...</td>\n",
       "    </tr>\n",
       "    <tr>\n",
       "      <th>2</th>\n",
       "      <td>DRN307</td>\n",
       "      <td>&lt;class 'grr.AugmentedGIF.AugmentedGIF'&gt;</td>\n",
       "      <td>0.01</td>\n",
       "      <td>0.10</td>\n",
       "      <td>{u'spks': [46.1, 113.5, 212.4, 348.90000000000...</td>\n",
       "    </tr>\n",
       "    <tr>\n",
       "      <th>3</th>\n",
       "      <td>DRN307</td>\n",
       "      <td>&lt;class 'grr.AugmentedGIF.AugmentedGIF'&gt;</td>\n",
       "      <td>0.02</td>\n",
       "      <td>-0.02</td>\n",
       "      <td>{u'spks': [2570.2000000000003], u't': [0.0, 0....</td>\n",
       "    </tr>\n",
       "    <tr>\n",
       "      <th>4</th>\n",
       "      <td>DRN307</td>\n",
       "      <td>&lt;class 'grr.AugmentedGIF.AugmentedGIF'&gt;</td>\n",
       "      <td>0.02</td>\n",
       "      <td>-0.05</td>\n",
       "      <td>{u'spks': [2181.7000000000003, 2962.5], u't': ...</td>\n",
       "    </tr>\n",
       "  </tbody>\n",
       "</table>\n",
       "</div>"
      ],
      "text/plain": [
       "     cell                                    model  post_amplitude  \\\n",
       "0  DRN307  <class 'grr.AugmentedGIF.AugmentedGIF'>            0.01   \n",
       "1  DRN307  <class 'grr.AugmentedGIF.AugmentedGIF'>            0.01   \n",
       "2  DRN307  <class 'grr.AugmentedGIF.AugmentedGIF'>            0.01   \n",
       "3  DRN307  <class 'grr.AugmentedGIF.AugmentedGIF'>            0.02   \n",
       "4  DRN307  <class 'grr.AugmentedGIF.AugmentedGIF'>            0.02   \n",
       "\n",
       "   pre_amplitude                                              trace  \n",
       "0          -0.02  {u'spks': [16.5], u't': [0.0, 0.1, 0.2, 0.3000...  \n",
       "1          -0.05  {u'spks': [], u't': [0.0, 0.1, 0.2, 0.30000000...  \n",
       "2           0.10  {u'spks': [46.1, 113.5, 212.4, 348.90000000000...  \n",
       "3          -0.02  {u'spks': [2570.2000000000003], u't': [0.0, 0....  \n",
       "4          -0.05  {u'spks': [2181.7000000000003, 2962.5], u't': ...  "
      ]
     },
     "execution_count": 17,
     "metadata": {},
     "output_type": "execute_result"
    }
   ],
   "source": [
    "sample_traces.head()"
   ]
  },
  {
   "cell_type": "code",
   "execution_count": 18,
   "metadata": {},
   "outputs": [
    {
     "data": {
      "text/plain": [
       "array(['DRN307', 'DRN308', 'DRN317', 'DRN318', 'DRN319', 'DRN320',\n",
       "       'DRN321', 'DRN324', 'DRN325', 'DRN327', 'DRN332', 'DRN384',\n",
       "       'DRN385', 'DRN386', 'JF3', 'JF5', 'JF6', 'JF7'], dtype=object)"
      ]
     },
     "execution_count": 18,
     "metadata": {},
     "output_type": "execute_result"
    }
   ],
   "source": [
    "sample_traces['cell'].unique()"
   ]
  },
  {
   "cell_type": "code",
   "execution_count": 19,
   "metadata": {},
   "outputs": [],
   "source": [
    "sample_cell = 'DRN386'\n",
    "sample_amplitudes = {\n",
    "    'pre': -0.020,\n",
    "    'post': 0.030\n",
    "}\n",
    "\n",
    "sample_trace_vecs = {\n",
    "    'GIF': sample_traces.loc[\n",
    "        (sample_traces['cell'] == sample_cell) \n",
    "        & (sample_traces['post_amplitude'] == sample_amplitudes['post']) \n",
    "        & (sample_traces['pre_amplitude'] == sample_amplitudes['pre'])\n",
    "        & (['GIF.GIF' in str(mod) for mod in sample_traces['model']]), \n",
    "        'trace'\n",
    "    ].item(),\n",
    "    'AugmentedGIF': sample_traces.loc[\n",
    "        (sample_traces['cell'] == sample_cell) \n",
    "        & (sample_traces['post_amplitude'] == sample_amplitudes['post']) \n",
    "        & (sample_traces['pre_amplitude'] == sample_amplitudes['pre'])\n",
    "        & (['AugmentedGIF.AugmentedGIF' in str(mod) for mod in sample_traces['model']]), \n",
    "        'trace'\n",
    "    ].item()\n",
    "}\n",
    "\n",
    "sample_trace_vecs['GIF']['latencies'] = np.asarray(\n",
    "    grouped_data.loc[\n",
    "        (grouped_data['cell'] == sample_cell)\n",
    "        & (grouped_data['post_amplitude'] == sample_amplitudes['post']) \n",
    "        & (grouped_data['pre_amplitude'] == sample_amplitudes['pre'])\n",
    "        & ['GIF.GIF' in str(mod) for mod in grouped_data['model']],\n",
    "        'latency'\n",
    "    ].item()\n",
    ") - step_start_time\n",
    "\n",
    "sample_trace_vecs['AugmentedGIF']['latencies'] = np.asarray(\n",
    "    grouped_data.loc[\n",
    "        (grouped_data['cell'] == sample_cell)\n",
    "        & (grouped_data['post_amplitude'] == sample_amplitudes['post']) \n",
    "        & (grouped_data['pre_amplitude'] == sample_amplitudes['pre'])\n",
    "        & ['AugmentedGIF.AugmentedGIF' in str(mod) for mod in grouped_data['model']],\n",
    "        'latency'\n",
    "    ].item()\n",
    ") - step_start_time"
   ]
  },
  {
   "cell_type": "code",
   "execution_count": 20,
   "metadata": {},
   "outputs": [],
   "source": [
    "grouped_data['median_latency'] = grouped_data['latency'].map(\n",
    "    lambda x: np.nanmedian(x) - step_start_time if np.sum(~np.isnan(x)) > minimum_spikes else np.nan\n",
    ")"
   ]
  },
  {
   "cell_type": "code",
   "execution_count": 21,
   "metadata": {},
   "outputs": [],
   "source": [
    "grouped_data['model_label'] = grouped_data['model'].map(\n",
    "    lambda x: 'GIF' if 'GIF.GIF' in str(x) else 'AugmentedGIF'\n",
    ")"
   ]
  },
  {
   "cell_type": "code",
   "execution_count": 22,
   "metadata": {},
   "outputs": [
    {
     "data": {
      "text/html": [
       "<div>\n",
       "<style scoped>\n",
       "    .dataframe tbody tr th:only-of-type {\n",
       "        vertical-align: middle;\n",
       "    }\n",
       "\n",
       "    .dataframe tbody tr th {\n",
       "        vertical-align: top;\n",
       "    }\n",
       "\n",
       "    .dataframe thead th {\n",
       "        text-align: right;\n",
       "    }\n",
       "</style>\n",
       "<table border=\"1\" class=\"dataframe\">\n",
       "  <thead>\n",
       "    <tr style=\"text-align: right;\">\n",
       "      <th></th>\n",
       "      <th>cell</th>\n",
       "      <th>latency</th>\n",
       "      <th>model</th>\n",
       "      <th>post_amplitude</th>\n",
       "      <th>pre_amplitude</th>\n",
       "      <th>median_latency</th>\n",
       "      <th>model_label</th>\n",
       "    </tr>\n",
       "  </thead>\n",
       "  <tbody>\n",
       "    <tr>\n",
       "      <th>5</th>\n",
       "      <td>DRN307</td>\n",
       "      <td>[2209.0, 2159.1, 2196.6, 2191.5, 2156.8, 2268....</td>\n",
       "      <td>&lt;class 'grr.AugmentedGIF.AugmentedGIF'&gt;</td>\n",
       "      <td>0.03</td>\n",
       "      <td>-0.02</td>\n",
       "      <td>216.70</td>\n",
       "      <td>AugmentedGIF</td>\n",
       "    </tr>\n",
       "    <tr>\n",
       "      <th>14</th>\n",
       "      <td>DRN307</td>\n",
       "      <td>[2146.0, 2215.1, 2263.2, 2112.0, 2135.4, 2200....</td>\n",
       "      <td>&lt;class 'grr.GIF.GIF'&gt;</td>\n",
       "      <td>0.03</td>\n",
       "      <td>-0.02</td>\n",
       "      <td>207.30</td>\n",
       "      <td>GIF</td>\n",
       "    </tr>\n",
       "    <tr>\n",
       "      <th>23</th>\n",
       "      <td>DRN308</td>\n",
       "      <td>[nan, nan, nan, 2737.4, nan, nan, nan, nan, 26...</td>\n",
       "      <td>&lt;class 'grr.AugmentedGIF.AugmentedGIF'&gt;</td>\n",
       "      <td>0.03</td>\n",
       "      <td>-0.02</td>\n",
       "      <td>NaN</td>\n",
       "      <td>AugmentedGIF</td>\n",
       "    </tr>\n",
       "    <tr>\n",
       "      <th>32</th>\n",
       "      <td>DRN308</td>\n",
       "      <td>[nan, nan, nan, nan, 2614.1, nan, nan, 2299.7,...</td>\n",
       "      <td>&lt;class 'grr.GIF.GIF'&gt;</td>\n",
       "      <td>0.03</td>\n",
       "      <td>-0.02</td>\n",
       "      <td>NaN</td>\n",
       "      <td>GIF</td>\n",
       "    </tr>\n",
       "    <tr>\n",
       "      <th>41</th>\n",
       "      <td>DRN317</td>\n",
       "      <td>[nan, nan, nan, nan, nan, nan, nan, nan, 2828....</td>\n",
       "      <td>&lt;class 'grr.AugmentedGIF.AugmentedGIF'&gt;</td>\n",
       "      <td>0.03</td>\n",
       "      <td>-0.02</td>\n",
       "      <td>NaN</td>\n",
       "      <td>AugmentedGIF</td>\n",
       "    </tr>\n",
       "    <tr>\n",
       "      <th>50</th>\n",
       "      <td>DRN317</td>\n",
       "      <td>[nan, nan, 2523.4, nan, nan, 2070.1, nan, nan,...</td>\n",
       "      <td>&lt;class 'grr.GIF.GIF'&gt;</td>\n",
       "      <td>0.03</td>\n",
       "      <td>-0.02</td>\n",
       "      <td>NaN</td>\n",
       "      <td>GIF</td>\n",
       "    </tr>\n",
       "    <tr>\n",
       "      <th>59</th>\n",
       "      <td>DRN318</td>\n",
       "      <td>[2496.1, 2245.1, 2480.5, 2428.8, 2464.9, 2801....</td>\n",
       "      <td>&lt;class 'grr.AugmentedGIF.AugmentedGIF'&gt;</td>\n",
       "      <td>0.03</td>\n",
       "      <td>-0.02</td>\n",
       "      <td>504.30</td>\n",
       "      <td>AugmentedGIF</td>\n",
       "    </tr>\n",
       "    <tr>\n",
       "      <th>68</th>\n",
       "      <td>DRN318</td>\n",
       "      <td>[2558.3, nan, 2978.8, 2307.7, nan, nan, nan, 2...</td>\n",
       "      <td>&lt;class 'grr.GIF.GIF'&gt;</td>\n",
       "      <td>0.03</td>\n",
       "      <td>-0.02</td>\n",
       "      <td>482.85</td>\n",
       "      <td>GIF</td>\n",
       "    </tr>\n",
       "    <tr>\n",
       "      <th>77</th>\n",
       "      <td>DRN319</td>\n",
       "      <td>[2064.8, 2107.5, nan, 2080.0, 2087.0, nan, nan...</td>\n",
       "      <td>&lt;class 'grr.AugmentedGIF.AugmentedGIF'&gt;</td>\n",
       "      <td>0.03</td>\n",
       "      <td>-0.02</td>\n",
       "      <td>NaN</td>\n",
       "      <td>AugmentedGIF</td>\n",
       "    </tr>\n",
       "    <tr>\n",
       "      <th>86</th>\n",
       "      <td>DRN319</td>\n",
       "      <td>[2119.6, 2018.0, nan, nan, nan, 2093.7, 2130.4...</td>\n",
       "      <td>&lt;class 'grr.GIF.GIF'&gt;</td>\n",
       "      <td>0.03</td>\n",
       "      <td>-0.02</td>\n",
       "      <td>NaN</td>\n",
       "      <td>GIF</td>\n",
       "    </tr>\n",
       "    <tr>\n",
       "      <th>95</th>\n",
       "      <td>DRN320</td>\n",
       "      <td>[nan, 2559.8, nan, nan, 2450.9, nan, nan, nan,...</td>\n",
       "      <td>&lt;class 'grr.AugmentedGIF.AugmentedGIF'&gt;</td>\n",
       "      <td>0.03</td>\n",
       "      <td>-0.02</td>\n",
       "      <td>NaN</td>\n",
       "      <td>AugmentedGIF</td>\n",
       "    </tr>\n",
       "    <tr>\n",
       "      <th>104</th>\n",
       "      <td>DRN320</td>\n",
       "      <td>[2486.6, nan, nan, 2930.4, 2772.3, nan, nan, n...</td>\n",
       "      <td>&lt;class 'grr.GIF.GIF'&gt;</td>\n",
       "      <td>0.03</td>\n",
       "      <td>-0.02</td>\n",
       "      <td>NaN</td>\n",
       "      <td>GIF</td>\n",
       "    </tr>\n",
       "    <tr>\n",
       "      <th>113</th>\n",
       "      <td>DRN321</td>\n",
       "      <td>[nan, 2131.0, 2076.0, 2087.7, nan, 2151.2, 212...</td>\n",
       "      <td>&lt;class 'grr.AugmentedGIF.AugmentedGIF'&gt;</td>\n",
       "      <td>0.03</td>\n",
       "      <td>-0.02</td>\n",
       "      <td>123.85</td>\n",
       "      <td>AugmentedGIF</td>\n",
       "    </tr>\n",
       "    <tr>\n",
       "      <th>122</th>\n",
       "      <td>DRN321</td>\n",
       "      <td>[2087.5, nan, 2103.0, 2126.8, nan, 2114.6, nan...</td>\n",
       "      <td>&lt;class 'grr.GIF.GIF'&gt;</td>\n",
       "      <td>0.03</td>\n",
       "      <td>-0.02</td>\n",
       "      <td>112.70</td>\n",
       "      <td>GIF</td>\n",
       "    </tr>\n",
       "    <tr>\n",
       "      <th>131</th>\n",
       "      <td>DRN324</td>\n",
       "      <td>[2091.3, 2139.6, 2085.9, 2120.9, 2084.7, 2076....</td>\n",
       "      <td>&lt;class 'grr.AugmentedGIF.AugmentedGIF'&gt;</td>\n",
       "      <td>0.03</td>\n",
       "      <td>-0.02</td>\n",
       "      <td>123.20</td>\n",
       "      <td>AugmentedGIF</td>\n",
       "    </tr>\n",
       "    <tr>\n",
       "      <th>140</th>\n",
       "      <td>DRN324</td>\n",
       "      <td>[2143.0, 2108.9, 2173.9, nan, 2036.3, 2085.7, ...</td>\n",
       "      <td>&lt;class 'grr.GIF.GIF'&gt;</td>\n",
       "      <td>0.03</td>\n",
       "      <td>-0.02</td>\n",
       "      <td>113.10</td>\n",
       "      <td>GIF</td>\n",
       "    </tr>\n",
       "    <tr>\n",
       "      <th>149</th>\n",
       "      <td>DRN325</td>\n",
       "      <td>[2097.7, 2118.0, 2224.7, 2067.4, 2184.7, 2450....</td>\n",
       "      <td>&lt;class 'grr.AugmentedGIF.AugmentedGIF'&gt;</td>\n",
       "      <td>0.03</td>\n",
       "      <td>-0.02</td>\n",
       "      <td>210.15</td>\n",
       "      <td>AugmentedGIF</td>\n",
       "    </tr>\n",
       "    <tr>\n",
       "      <th>158</th>\n",
       "      <td>DRN325</td>\n",
       "      <td>[2295.9, 2154.7, 2641.1, 2227.5, nan, 2169.6, ...</td>\n",
       "      <td>&lt;class 'grr.GIF.GIF'&gt;</td>\n",
       "      <td>0.03</td>\n",
       "      <td>-0.02</td>\n",
       "      <td>184.00</td>\n",
       "      <td>GIF</td>\n",
       "    </tr>\n",
       "    <tr>\n",
       "      <th>167</th>\n",
       "      <td>DRN327</td>\n",
       "      <td>[2278.7, 2248.4, 2249.3, 2235.9, 2209.6, 2273....</td>\n",
       "      <td>&lt;class 'grr.AugmentedGIF.AugmentedGIF'&gt;</td>\n",
       "      <td>0.03</td>\n",
       "      <td>-0.02</td>\n",
       "      <td>233.40</td>\n",
       "      <td>AugmentedGIF</td>\n",
       "    </tr>\n",
       "    <tr>\n",
       "      <th>176</th>\n",
       "      <td>DRN327</td>\n",
       "      <td>[2177.3, 2152.8, 2453.8, 2267.8, 2107.6, 2367....</td>\n",
       "      <td>&lt;class 'grr.GIF.GIF'&gt;</td>\n",
       "      <td>0.03</td>\n",
       "      <td>-0.02</td>\n",
       "      <td>235.80</td>\n",
       "      <td>GIF</td>\n",
       "    </tr>\n",
       "    <tr>\n",
       "      <th>185</th>\n",
       "      <td>DRN332</td>\n",
       "      <td>[2336.0, 2309.0, 2398.0, 2344.2, 2317.6, 2238....</td>\n",
       "      <td>&lt;class 'grr.AugmentedGIF.AugmentedGIF'&gt;</td>\n",
       "      <td>0.03</td>\n",
       "      <td>-0.02</td>\n",
       "      <td>304.00</td>\n",
       "      <td>AugmentedGIF</td>\n",
       "    </tr>\n",
       "    <tr>\n",
       "      <th>194</th>\n",
       "      <td>DRN332</td>\n",
       "      <td>[2202.6, 2525.1, 2261.0, 2535.0, 2631.3, 2328....</td>\n",
       "      <td>&lt;class 'grr.GIF.GIF'&gt;</td>\n",
       "      <td>0.03</td>\n",
       "      <td>-0.02</td>\n",
       "      <td>338.20</td>\n",
       "      <td>GIF</td>\n",
       "    </tr>\n",
       "    <tr>\n",
       "      <th>203</th>\n",
       "      <td>DRN384</td>\n",
       "      <td>[2237.2, nan, nan, 2633.4, 2284.5, nan, nan, 2...</td>\n",
       "      <td>&lt;class 'grr.AugmentedGIF.AugmentedGIF'&gt;</td>\n",
       "      <td>0.03</td>\n",
       "      <td>-0.02</td>\n",
       "      <td>608.20</td>\n",
       "      <td>AugmentedGIF</td>\n",
       "    </tr>\n",
       "    <tr>\n",
       "      <th>212</th>\n",
       "      <td>DRN384</td>\n",
       "      <td>[nan, nan, 2559.1, nan, nan, nan, 2647.5, 2489...</td>\n",
       "      <td>&lt;class 'grr.GIF.GIF'&gt;</td>\n",
       "      <td>0.03</td>\n",
       "      <td>-0.02</td>\n",
       "      <td>605.75</td>\n",
       "      <td>GIF</td>\n",
       "    </tr>\n",
       "    <tr>\n",
       "      <th>221</th>\n",
       "      <td>DRN385</td>\n",
       "      <td>[2290.7, 2215.8, 2312.7, 2361.0, 2398.6, nan, ...</td>\n",
       "      <td>&lt;class 'grr.AugmentedGIF.AugmentedGIF'&gt;</td>\n",
       "      <td>0.03</td>\n",
       "      <td>-0.02</td>\n",
       "      <td>274.55</td>\n",
       "      <td>AugmentedGIF</td>\n",
       "    </tr>\n",
       "    <tr>\n",
       "      <th>230</th>\n",
       "      <td>DRN385</td>\n",
       "      <td>[2244.4, 2094.8, 2283.5, 2373.3, 2166.9, 2168....</td>\n",
       "      <td>&lt;class 'grr.GIF.GIF'&gt;</td>\n",
       "      <td>0.03</td>\n",
       "      <td>-0.02</td>\n",
       "      <td>279.80</td>\n",
       "      <td>GIF</td>\n",
       "    </tr>\n",
       "    <tr>\n",
       "      <th>239</th>\n",
       "      <td>DRN386</td>\n",
       "      <td>[2240.4, 2246.5, 2258.7, 2244.0, 2265.9, 2267....</td>\n",
       "      <td>&lt;class 'grr.AugmentedGIF.AugmentedGIF'&gt;</td>\n",
       "      <td>0.03</td>\n",
       "      <td>-0.02</td>\n",
       "      <td>239.35</td>\n",
       "      <td>AugmentedGIF</td>\n",
       "    </tr>\n",
       "    <tr>\n",
       "      <th>248</th>\n",
       "      <td>DRN386</td>\n",
       "      <td>[2129.2, 2292.7, 2263.8, 2171.3, 2205.3, 2174....</td>\n",
       "      <td>&lt;class 'grr.GIF.GIF'&gt;</td>\n",
       "      <td>0.03</td>\n",
       "      <td>-0.02</td>\n",
       "      <td>199.35</td>\n",
       "      <td>GIF</td>\n",
       "    </tr>\n",
       "    <tr>\n",
       "      <th>257</th>\n",
       "      <td>JF3</td>\n",
       "      <td>[nan, nan, 2291.0, 2174.4, nan, nan, nan, nan,...</td>\n",
       "      <td>&lt;class 'grr.AugmentedGIF.AugmentedGIF'&gt;</td>\n",
       "      <td>0.03</td>\n",
       "      <td>-0.02</td>\n",
       "      <td>NaN</td>\n",
       "      <td>AugmentedGIF</td>\n",
       "    </tr>\n",
       "    <tr>\n",
       "      <th>266</th>\n",
       "      <td>JF3</td>\n",
       "      <td>[2571.8, 2484.9, nan, 2389.8, nan, nan, 2360.5...</td>\n",
       "      <td>&lt;class 'grr.GIF.GIF'&gt;</td>\n",
       "      <td>0.03</td>\n",
       "      <td>-0.02</td>\n",
       "      <td>483.80</td>\n",
       "      <td>GIF</td>\n",
       "    </tr>\n",
       "    <tr>\n",
       "      <th>275</th>\n",
       "      <td>JF5</td>\n",
       "      <td>[nan, nan, nan, nan, nan, nan, nan, nan, 2705....</td>\n",
       "      <td>&lt;class 'grr.AugmentedGIF.AugmentedGIF'&gt;</td>\n",
       "      <td>0.03</td>\n",
       "      <td>-0.02</td>\n",
       "      <td>NaN</td>\n",
       "      <td>AugmentedGIF</td>\n",
       "    </tr>\n",
       "    <tr>\n",
       "      <th>284</th>\n",
       "      <td>JF5</td>\n",
       "      <td>[nan, nan, nan, nan, nan, nan, nan, nan, nan, ...</td>\n",
       "      <td>&lt;class 'grr.GIF.GIF'&gt;</td>\n",
       "      <td>0.03</td>\n",
       "      <td>-0.02</td>\n",
       "      <td>NaN</td>\n",
       "      <td>GIF</td>\n",
       "    </tr>\n",
       "    <tr>\n",
       "      <th>293</th>\n",
       "      <td>JF6</td>\n",
       "      <td>[2244.4, 2156.2, 2172.0, 2234.0, 2130.0, 2092....</td>\n",
       "      <td>&lt;class 'grr.AugmentedGIF.AugmentedGIF'&gt;</td>\n",
       "      <td>0.03</td>\n",
       "      <td>-0.02</td>\n",
       "      <td>193.75</td>\n",
       "      <td>AugmentedGIF</td>\n",
       "    </tr>\n",
       "    <tr>\n",
       "      <th>302</th>\n",
       "      <td>JF6</td>\n",
       "      <td>[2339.0, 2218.5, 2110.4, 2148.4, 2156.3, 2112....</td>\n",
       "      <td>&lt;class 'grr.GIF.GIF'&gt;</td>\n",
       "      <td>0.03</td>\n",
       "      <td>-0.02</td>\n",
       "      <td>135.00</td>\n",
       "      <td>GIF</td>\n",
       "    </tr>\n",
       "    <tr>\n",
       "      <th>311</th>\n",
       "      <td>JF7</td>\n",
       "      <td>[2121.7, 2103.0, 2173.9, 2104.0, 2070.1, 2107....</td>\n",
       "      <td>&lt;class 'grr.AugmentedGIF.AugmentedGIF'&gt;</td>\n",
       "      <td>0.03</td>\n",
       "      <td>-0.02</td>\n",
       "      <td>94.70</td>\n",
       "      <td>AugmentedGIF</td>\n",
       "    </tr>\n",
       "    <tr>\n",
       "      <th>320</th>\n",
       "      <td>JF7</td>\n",
       "      <td>[2069.2, 2042.6, 2098.2, 2067.6, 2085.6, 2079....</td>\n",
       "      <td>&lt;class 'grr.GIF.GIF'&gt;</td>\n",
       "      <td>0.03</td>\n",
       "      <td>-0.02</td>\n",
       "      <td>74.55</td>\n",
       "      <td>GIF</td>\n",
       "    </tr>\n",
       "  </tbody>\n",
       "</table>\n",
       "</div>"
      ],
      "text/plain": [
       "       cell                                            latency  \\\n",
       "5    DRN307  [2209.0, 2159.1, 2196.6, 2191.5, 2156.8, 2268....   \n",
       "14   DRN307  [2146.0, 2215.1, 2263.2, 2112.0, 2135.4, 2200....   \n",
       "23   DRN308  [nan, nan, nan, 2737.4, nan, nan, nan, nan, 26...   \n",
       "32   DRN308  [nan, nan, nan, nan, 2614.1, nan, nan, 2299.7,...   \n",
       "41   DRN317  [nan, nan, nan, nan, nan, nan, nan, nan, 2828....   \n",
       "50   DRN317  [nan, nan, 2523.4, nan, nan, 2070.1, nan, nan,...   \n",
       "59   DRN318  [2496.1, 2245.1, 2480.5, 2428.8, 2464.9, 2801....   \n",
       "68   DRN318  [2558.3, nan, 2978.8, 2307.7, nan, nan, nan, 2...   \n",
       "77   DRN319  [2064.8, 2107.5, nan, 2080.0, 2087.0, nan, nan...   \n",
       "86   DRN319  [2119.6, 2018.0, nan, nan, nan, 2093.7, 2130.4...   \n",
       "95   DRN320  [nan, 2559.8, nan, nan, 2450.9, nan, nan, nan,...   \n",
       "104  DRN320  [2486.6, nan, nan, 2930.4, 2772.3, nan, nan, n...   \n",
       "113  DRN321  [nan, 2131.0, 2076.0, 2087.7, nan, 2151.2, 212...   \n",
       "122  DRN321  [2087.5, nan, 2103.0, 2126.8, nan, 2114.6, nan...   \n",
       "131  DRN324  [2091.3, 2139.6, 2085.9, 2120.9, 2084.7, 2076....   \n",
       "140  DRN324  [2143.0, 2108.9, 2173.9, nan, 2036.3, 2085.7, ...   \n",
       "149  DRN325  [2097.7, 2118.0, 2224.7, 2067.4, 2184.7, 2450....   \n",
       "158  DRN325  [2295.9, 2154.7, 2641.1, 2227.5, nan, 2169.6, ...   \n",
       "167  DRN327  [2278.7, 2248.4, 2249.3, 2235.9, 2209.6, 2273....   \n",
       "176  DRN327  [2177.3, 2152.8, 2453.8, 2267.8, 2107.6, 2367....   \n",
       "185  DRN332  [2336.0, 2309.0, 2398.0, 2344.2, 2317.6, 2238....   \n",
       "194  DRN332  [2202.6, 2525.1, 2261.0, 2535.0, 2631.3, 2328....   \n",
       "203  DRN384  [2237.2, nan, nan, 2633.4, 2284.5, nan, nan, 2...   \n",
       "212  DRN384  [nan, nan, 2559.1, nan, nan, nan, 2647.5, 2489...   \n",
       "221  DRN385  [2290.7, 2215.8, 2312.7, 2361.0, 2398.6, nan, ...   \n",
       "230  DRN385  [2244.4, 2094.8, 2283.5, 2373.3, 2166.9, 2168....   \n",
       "239  DRN386  [2240.4, 2246.5, 2258.7, 2244.0, 2265.9, 2267....   \n",
       "248  DRN386  [2129.2, 2292.7, 2263.8, 2171.3, 2205.3, 2174....   \n",
       "257     JF3  [nan, nan, 2291.0, 2174.4, nan, nan, nan, nan,...   \n",
       "266     JF3  [2571.8, 2484.9, nan, 2389.8, nan, nan, 2360.5...   \n",
       "275     JF5  [nan, nan, nan, nan, nan, nan, nan, nan, 2705....   \n",
       "284     JF5  [nan, nan, nan, nan, nan, nan, nan, nan, nan, ...   \n",
       "293     JF6  [2244.4, 2156.2, 2172.0, 2234.0, 2130.0, 2092....   \n",
       "302     JF6  [2339.0, 2218.5, 2110.4, 2148.4, 2156.3, 2112....   \n",
       "311     JF7  [2121.7, 2103.0, 2173.9, 2104.0, 2070.1, 2107....   \n",
       "320     JF7  [2069.2, 2042.6, 2098.2, 2067.6, 2085.6, 2079....   \n",
       "\n",
       "                                       model  post_amplitude  pre_amplitude  \\\n",
       "5    <class 'grr.AugmentedGIF.AugmentedGIF'>            0.03          -0.02   \n",
       "14                     <class 'grr.GIF.GIF'>            0.03          -0.02   \n",
       "23   <class 'grr.AugmentedGIF.AugmentedGIF'>            0.03          -0.02   \n",
       "32                     <class 'grr.GIF.GIF'>            0.03          -0.02   \n",
       "41   <class 'grr.AugmentedGIF.AugmentedGIF'>            0.03          -0.02   \n",
       "50                     <class 'grr.GIF.GIF'>            0.03          -0.02   \n",
       "59   <class 'grr.AugmentedGIF.AugmentedGIF'>            0.03          -0.02   \n",
       "68                     <class 'grr.GIF.GIF'>            0.03          -0.02   \n",
       "77   <class 'grr.AugmentedGIF.AugmentedGIF'>            0.03          -0.02   \n",
       "86                     <class 'grr.GIF.GIF'>            0.03          -0.02   \n",
       "95   <class 'grr.AugmentedGIF.AugmentedGIF'>            0.03          -0.02   \n",
       "104                    <class 'grr.GIF.GIF'>            0.03          -0.02   \n",
       "113  <class 'grr.AugmentedGIF.AugmentedGIF'>            0.03          -0.02   \n",
       "122                    <class 'grr.GIF.GIF'>            0.03          -0.02   \n",
       "131  <class 'grr.AugmentedGIF.AugmentedGIF'>            0.03          -0.02   \n",
       "140                    <class 'grr.GIF.GIF'>            0.03          -0.02   \n",
       "149  <class 'grr.AugmentedGIF.AugmentedGIF'>            0.03          -0.02   \n",
       "158                    <class 'grr.GIF.GIF'>            0.03          -0.02   \n",
       "167  <class 'grr.AugmentedGIF.AugmentedGIF'>            0.03          -0.02   \n",
       "176                    <class 'grr.GIF.GIF'>            0.03          -0.02   \n",
       "185  <class 'grr.AugmentedGIF.AugmentedGIF'>            0.03          -0.02   \n",
       "194                    <class 'grr.GIF.GIF'>            0.03          -0.02   \n",
       "203  <class 'grr.AugmentedGIF.AugmentedGIF'>            0.03          -0.02   \n",
       "212                    <class 'grr.GIF.GIF'>            0.03          -0.02   \n",
       "221  <class 'grr.AugmentedGIF.AugmentedGIF'>            0.03          -0.02   \n",
       "230                    <class 'grr.GIF.GIF'>            0.03          -0.02   \n",
       "239  <class 'grr.AugmentedGIF.AugmentedGIF'>            0.03          -0.02   \n",
       "248                    <class 'grr.GIF.GIF'>            0.03          -0.02   \n",
       "257  <class 'grr.AugmentedGIF.AugmentedGIF'>            0.03          -0.02   \n",
       "266                    <class 'grr.GIF.GIF'>            0.03          -0.02   \n",
       "275  <class 'grr.AugmentedGIF.AugmentedGIF'>            0.03          -0.02   \n",
       "284                    <class 'grr.GIF.GIF'>            0.03          -0.02   \n",
       "293  <class 'grr.AugmentedGIF.AugmentedGIF'>            0.03          -0.02   \n",
       "302                    <class 'grr.GIF.GIF'>            0.03          -0.02   \n",
       "311  <class 'grr.AugmentedGIF.AugmentedGIF'>            0.03          -0.02   \n",
       "320                    <class 'grr.GIF.GIF'>            0.03          -0.02   \n",
       "\n",
       "     median_latency   model_label  \n",
       "5            216.70  AugmentedGIF  \n",
       "14           207.30           GIF  \n",
       "23              NaN  AugmentedGIF  \n",
       "32              NaN           GIF  \n",
       "41              NaN  AugmentedGIF  \n",
       "50              NaN           GIF  \n",
       "59           504.30  AugmentedGIF  \n",
       "68           482.85           GIF  \n",
       "77              NaN  AugmentedGIF  \n",
       "86              NaN           GIF  \n",
       "95              NaN  AugmentedGIF  \n",
       "104             NaN           GIF  \n",
       "113          123.85  AugmentedGIF  \n",
       "122          112.70           GIF  \n",
       "131          123.20  AugmentedGIF  \n",
       "140          113.10           GIF  \n",
       "149          210.15  AugmentedGIF  \n",
       "158          184.00           GIF  \n",
       "167          233.40  AugmentedGIF  \n",
       "176          235.80           GIF  \n",
       "185          304.00  AugmentedGIF  \n",
       "194          338.20           GIF  \n",
       "203          608.20  AugmentedGIF  \n",
       "212          605.75           GIF  \n",
       "221          274.55  AugmentedGIF  \n",
       "230          279.80           GIF  \n",
       "239          239.35  AugmentedGIF  \n",
       "248          199.35           GIF  \n",
       "257             NaN  AugmentedGIF  \n",
       "266          483.80           GIF  \n",
       "275             NaN  AugmentedGIF  \n",
       "284             NaN           GIF  \n",
       "293          193.75  AugmentedGIF  \n",
       "302          135.00           GIF  \n",
       "311           94.70  AugmentedGIF  \n",
       "320           74.55           GIF  "
      ]
     },
     "execution_count": 22,
     "metadata": {},
     "output_type": "execute_result"
    }
   ],
   "source": [
    "median_latency_by_model = grouped_data.loc[\n",
    "    (grouped_data['post_amplitude'] == 0.03)\n",
    "    & (grouped_data['pre_amplitude'] == -0.02),\n",
    "    :\n",
    "]#.pivot(index='cell', columns='model', values='median_latency')\n",
    "\n",
    "median_latency_by_model"
   ]
  },
  {
   "cell_type": "code",
   "execution_count": 23,
   "metadata": {},
   "outputs": [],
   "source": [
    "colors = {\n",
    "    'GIF': 'k',\n",
    "    'AugmentedGIF': 'r'\n",
    "}"
   ]
  },
  {
   "cell_type": "code",
   "execution_count": 24,
   "metadata": {},
   "outputs": [
    {
     "data": {
      "text/html": [
       "<div>\n",
       "<style scoped>\n",
       "    .dataframe tbody tr th:only-of-type {\n",
       "        vertical-align: middle;\n",
       "    }\n",
       "\n",
       "    .dataframe tbody tr th {\n",
       "        vertical-align: top;\n",
       "    }\n",
       "\n",
       "    .dataframe thead th {\n",
       "        text-align: right;\n",
       "    }\n",
       "</style>\n",
       "<table border=\"1\" class=\"dataframe\">\n",
       "  <thead>\n",
       "    <tr style=\"text-align: right;\">\n",
       "      <th>model_label</th>\n",
       "      <th>AugmentedGIF</th>\n",
       "      <th>GIF</th>\n",
       "    </tr>\n",
       "    <tr>\n",
       "      <th>cell</th>\n",
       "      <th></th>\n",
       "      <th></th>\n",
       "    </tr>\n",
       "  </thead>\n",
       "  <tbody>\n",
       "    <tr>\n",
       "      <th>DRN307</th>\n",
       "      <td>216.70</td>\n",
       "      <td>207.30</td>\n",
       "    </tr>\n",
       "    <tr>\n",
       "      <th>DRN308</th>\n",
       "      <td>NaN</td>\n",
       "      <td>NaN</td>\n",
       "    </tr>\n",
       "    <tr>\n",
       "      <th>DRN317</th>\n",
       "      <td>NaN</td>\n",
       "      <td>NaN</td>\n",
       "    </tr>\n",
       "    <tr>\n",
       "      <th>DRN318</th>\n",
       "      <td>504.30</td>\n",
       "      <td>482.85</td>\n",
       "    </tr>\n",
       "    <tr>\n",
       "      <th>DRN319</th>\n",
       "      <td>NaN</td>\n",
       "      <td>NaN</td>\n",
       "    </tr>\n",
       "    <tr>\n",
       "      <th>DRN320</th>\n",
       "      <td>NaN</td>\n",
       "      <td>NaN</td>\n",
       "    </tr>\n",
       "    <tr>\n",
       "      <th>DRN321</th>\n",
       "      <td>123.85</td>\n",
       "      <td>112.70</td>\n",
       "    </tr>\n",
       "    <tr>\n",
       "      <th>DRN324</th>\n",
       "      <td>123.20</td>\n",
       "      <td>113.10</td>\n",
       "    </tr>\n",
       "    <tr>\n",
       "      <th>DRN325</th>\n",
       "      <td>210.15</td>\n",
       "      <td>184.00</td>\n",
       "    </tr>\n",
       "    <tr>\n",
       "      <th>DRN327</th>\n",
       "      <td>233.40</td>\n",
       "      <td>235.80</td>\n",
       "    </tr>\n",
       "    <tr>\n",
       "      <th>DRN332</th>\n",
       "      <td>304.00</td>\n",
       "      <td>338.20</td>\n",
       "    </tr>\n",
       "    <tr>\n",
       "      <th>DRN384</th>\n",
       "      <td>608.20</td>\n",
       "      <td>605.75</td>\n",
       "    </tr>\n",
       "    <tr>\n",
       "      <th>DRN385</th>\n",
       "      <td>274.55</td>\n",
       "      <td>279.80</td>\n",
       "    </tr>\n",
       "    <tr>\n",
       "      <th>DRN386</th>\n",
       "      <td>239.35</td>\n",
       "      <td>199.35</td>\n",
       "    </tr>\n",
       "    <tr>\n",
       "      <th>JF3</th>\n",
       "      <td>NaN</td>\n",
       "      <td>483.80</td>\n",
       "    </tr>\n",
       "    <tr>\n",
       "      <th>JF5</th>\n",
       "      <td>NaN</td>\n",
       "      <td>NaN</td>\n",
       "    </tr>\n",
       "    <tr>\n",
       "      <th>JF6</th>\n",
       "      <td>193.75</td>\n",
       "      <td>135.00</td>\n",
       "    </tr>\n",
       "    <tr>\n",
       "      <th>JF7</th>\n",
       "      <td>94.70</td>\n",
       "      <td>74.55</td>\n",
       "    </tr>\n",
       "  </tbody>\n",
       "</table>\n",
       "</div>"
      ],
      "text/plain": [
       "model_label  AugmentedGIF     GIF\n",
       "cell                             \n",
       "DRN307             216.70  207.30\n",
       "DRN308                NaN     NaN\n",
       "DRN317                NaN     NaN\n",
       "DRN318             504.30  482.85\n",
       "DRN319                NaN     NaN\n",
       "DRN320                NaN     NaN\n",
       "DRN321             123.85  112.70\n",
       "DRN324             123.20  113.10\n",
       "DRN325             210.15  184.00\n",
       "DRN327             233.40  235.80\n",
       "DRN332             304.00  338.20\n",
       "DRN384             608.20  605.75\n",
       "DRN385             274.55  279.80\n",
       "DRN386             239.35  199.35\n",
       "JF3                   NaN  483.80\n",
       "JF5                   NaN     NaN\n",
       "JF6                193.75  135.00\n",
       "JF7                 94.70   74.55"
      ]
     },
     "execution_count": 24,
     "metadata": {},
     "output_type": "execute_result"
    }
   ],
   "source": [
    "mlbm_pivot = median_latency_by_model.pivot(index='cell', columns='model_label', values='median_latency')\n",
    "mlbm_pivot"
   ]
  },
  {
   "cell_type": "code",
   "execution_count": 25,
   "metadata": {},
   "outputs": [
    {
     "data": {
      "text/plain": [
       "WilcoxonResult(statistic=14.0, pvalue=0.04986020375690694)"
      ]
     },
     "execution_count": 25,
     "metadata": {},
     "output_type": "execute_result"
    }
   ],
   "source": [
    "stats.wilcoxon(stripNan(mlbm_pivot['AugmentedGIF'] - mlbm_pivot['GIF']))"
   ]
  },
  {
   "cell_type": "markdown",
   "metadata": {},
   "source": [
    "AugmentedGIF has a significantly longer latency."
   ]
  },
  {
   "cell_type": "code",
   "execution_count": 26,
   "metadata": {},
   "outputs": [
    {
     "name": "stdout",
     "output_type": "stream",
     "text": [
      "Difference in latency: 13.146 +/- 6.771\n"
     ]
    }
   ],
   "source": [
    "print(\n",
    "    'Difference in latency: {:.3f} +/- {:.3f}'.format(\n",
    "        np.nanmean(mlbm_pivot['AugmentedGIF'] - mlbm_pivot['GIF']), \n",
    "        stats.sem(mlbm_pivot['AugmentedGIF'] - mlbm_pivot['GIF'], nan_policy='omit')\n",
    "    )\n",
    ")"
   ]
  },
  {
   "cell_type": "code",
   "execution_count": 27,
   "metadata": {},
   "outputs": [
    {
     "data": {
      "image/png": "[encoded data removed]",
      "text/plain": [
       "<Figure size 720x240 with 8 Axes>"
      ]
     },
     "metadata": {
      "needs_background": "light"
     },
     "output_type": "display_data"
    }
   ],
   "source": [
    "trace_spec = gs.GridSpec(3, 4, height_ratios=[0.2, 1.0, 0.6], hspace=0)\n",
    "\n",
    "plt.figure(figsize=(6, 2))\n",
    "\n",
    "plt.subplot(trace_spec[0, 0])\n",
    "plt.plot(\n",
    "    sample_trace_vecs['GIF']['t'] - step_start_time, \n",
    "    st.StepStimulus([2e3, 1e3], 1e3 * np.asarray([sample_amplitudes['pre'], sample_amplitudes['post']])).command,\n",
    "    color='gray'\n",
    ")\n",
    "plt.gca().set_yticks([0, 20])\n",
    "tr_xlim = (-200, 1000)\n",
    "plt.xlim(tr_xlim)\n",
    "pltools.hide_border('trb', trim=True)\n",
    "\n",
    "plt.subplot(trace_spec[1, 0])\n",
    "plt.plot(\n",
    "    sample_trace_vecs['GIF']['t'] - step_start_time, \n",
    "    sample_trace_vecs['GIF']['V'],\n",
    "    color=colors['GIF']\n",
    ")\n",
    "plt.xlim(tr_xlim)\n",
    "pltools.hide_border('trb', trim=True)\n",
    "\n",
    "plt.subplot(trace_spec[2, 0])\n",
    "plt.eventplot(stripNan(sample_trace_vecs['GIF']['latencies'])[:20, np.newaxis])\n",
    "plt.xlim(tr_xlim)\n",
    "pltools.hide_border('lrt', trim=True)\n",
    "\n",
    "plt.subplot(trace_spec[0, 1])\n",
    "plt.plot(\n",
    "    sample_trace_vecs['AugmentedGIF']['t'] - step_start_time, \n",
    "    st.StepStimulus([2e3, 1e3], 1e3 * np.asarray([sample_amplitudes['pre'], sample_amplitudes['post']])).command,\n",
    "    color='gray'\n",
    ")\n",
    "plt.gca().set_yticks([0, 20])\n",
    "tr_xlim = (-200, 1000)\n",
    "plt.xlim(tr_xlim)\n",
    "pltools.hide_border('trb', trim=True)\n",
    "\n",
    "plt.subplot(trace_spec[1, 1])\n",
    "plt.plot(\n",
    "    sample_trace_vecs['AugmentedGIF']['t'] - step_start_time, \n",
    "    sample_trace_vecs['AugmentedGIF']['V'],\n",
    "    color=colors['AugmentedGIF']\n",
    ")\n",
    "plt.xlim(tr_xlim)\n",
    "pltools.hide_border('trb', trim=True)\n",
    "\n",
    "plt.subplot(trace_spec[2, 1])\n",
    "plt.eventplot(stripNan(sample_trace_vecs['AugmentedGIF']['latencies'])[:20, np.newaxis])\n",
    "plt.xlim(tr_xlim)\n",
    "pltools.hide_border('lrt', trim=True)\n",
    "\n",
    "plt.subplot(trace_spec[:, 2])\n",
    "plt.hist(\n",
    "    stripNan(sample_trace_vecs['GIF']['latencies']), \n",
    "    range=(0, 1e3), \n",
    "    density=True, \n",
    "    histtype='step',\n",
    "    label='GIF',\n",
    "    color=colors['GIF']\n",
    ")\n",
    "plt.hist(\n",
    "    stripNan(sample_trace_vecs['AugmentedGIF']['latencies']), \n",
    "    range=(0, 1e3), \n",
    "    density=True, \n",
    "    histtype='step',\n",
    "    label='AugmentedGIF',\n",
    "    color=colors['AugmentedGIF']\n",
    ")\n",
    "pltools.hide_border('lrt', trim=True)\n",
    "plt.ylim((0, 1.7 * plt.ylim()[1]))\n",
    "plt.xlabel('Time from step onset (ms)')\n",
    "plt.legend()\n",
    "\n",
    "plt.subplot(trace_spec[:, 3])\n",
    "plt.ylim(0, 570)\n",
    "sns.swarmplot(\n",
    "    x='model_label', \n",
    "    y='median_latency', \n",
    "    data=median_latency_by_model, \n",
    "    order=['GIF', 'AugmentedGIF'], \n",
    "    palette=[colors[mod] for mod in ['GIF', 'AugmentedGIF']]\n",
    ")\n",
    "plt.plot(\n",
    "    [[0.2] * mlbm_pivot.shape[0], [0.8] * mlbm_pivot.shape[0]],\n",
    "    [mlbm_pivot['GIF'], mlbm_pivot['AugmentedGIF']],\n",
    "    color='gray'\n",
    ")\n",
    "plt.xticks(ha='right', rotation=45)\n",
    "plt.ylabel('Median latency (ms)')\n",
    "plt.xlabel('')\n",
    "pltools.hide_border('rt', trim=True)\n",
    "\n",
    "plt.tight_layout()\n",
    "\n",
    "if IMG_PATH is not None:\n",
    "    plt.savefig(os.path.join(IMG_PATH, 'ser_latency_comparison.png'))\n",
    "    \n",
    "plt.show()"
   ]
  },
  {
   "cell_type": "code",
   "execution_count": 28,
   "metadata": {},
   "outputs": [],
   "source": [
    "del mlbm_pivot"
   ]
  }
 ],
 "metadata": {
  "kernelspec": {
   "display_name": "Python 2",
   "language": "python",
   "name": "python2"
  },
  "language_info": {
   "codemirror_mode": {
    "name": "ipython",
    "version": 2
   },
   "file_extension": ".py",
   "mimetype": "text/x-python",
   "name": "python",
   "nbconvert_exporter": "python",
   "pygments_lexer": "ipython2",
   "version": "2.7.15"
  }
 },
 "nbformat": 4,
 "nbformat_minor": 2
}

{
 "cells": [
  {
   "cell_type": "code",
   "execution_count": 1,
   "metadata": {},
   "outputs": [],
   "source": [
    "from common import colors, sbarlw"
   ]
  },
  {
   "cell_type": "code",
   "execution_count": 2,
   "metadata": {},
   "outputs": [
    {
     "name": "stdout",
     "output_type": "stream",
     "text": [
      "/home/eharkin/projects/5HTGIF-dev\n"
     ]
    }
   ],
   "source": [
    "import os\n",
    "os.chdir(os.path.join('..', '..', '..'))\n",
    "print(os.getcwd())"
   ]
  },
  {
   "cell_type": "code",
   "execution_count": 3,
   "metadata": {},
   "outputs": [],
   "source": [
    "import re\n",
    "import pickle\n",
    "\n",
    "import matplotlib.pyplot as plt\n",
    "import matplotlib.gridspec as gs\n",
    "import numpy as np\n",
    "import pandas as pd\n",
    "from ezephys import pltools\n",
    "\n",
    "from grr.Spiketrain import PSTH\n",
    "from grr.Simulation import GIFnet_Simulation\n",
    "from grr.Tools import reprint"
   ]
  },
  {
   "cell_type": "code",
   "execution_count": 4,
   "metadata": {},
   "outputs": [],
   "source": [
    "plt.style.use(os.path.join('figs', 'scripts', 'writeup', 'publication_figure_style.dms'))\n",
    "IMG_PATH = os.path.join('figs', 'ims', 'writeup', 'GIF_network')"
   ]
  },
  {
   "cell_type": "code",
   "execution_count": 5,
   "metadata": {},
   "outputs": [],
   "source": [
    "def infer_gaba_condition(dir_name):\n",
    "    regex_match = re.search(r'GABA_(.*)', dir_name)\n",
    "    if regex_match is not None:\n",
    "        condition = regex_match.groups()[-1]\n",
    "    elif 'endocannabinoid' == dir_name:\n",
    "        condition = 'endocannabinoid'\n",
    "    else:\n",
    "        raise ValueError('Unrecognized GABA condition {}'.format(dir_name))\n",
    "    return condition"
   ]
  },
  {
   "cell_type": "code",
   "execution_count": 7,
   "metadata": {},
   "outputs": [
    {
     "data": {
      "text/html": [
       "<div>\n",
       "<style scoped>\n",
       "    .dataframe tbody tr th:only-of-type {\n",
       "        vertical-align: middle;\n",
       "    }\n",
       "\n",
       "    .dataframe tbody tr th {\n",
       "        vertical-align: top;\n",
       "    }\n",
       "\n",
       "    .dataframe thead th {\n",
       "        text-align: right;\n",
       "    }\n",
       "</style>\n",
       "<table border=\"1\" class=\"dataframe\">\n",
       "  <thead>\n",
       "    <tr style=\"text-align: right;\">\n",
       "      <th></th>\n",
       "      <th>Circuit</th>\n",
       "      <th>Condition</th>\n",
       "      <th>Mod type</th>\n",
       "      <th>Model</th>\n",
       "      <th>Rep</th>\n",
       "    </tr>\n",
       "  </thead>\n",
       "  <tbody>\n",
       "    <tr>\n",
       "      <th>0</th>\n",
       "      <td>mPFC</td>\n",
       "      <td>KO</td>\n",
       "      <td>base</td>\n",
       "      <td>[ser]</td>\n",
       "      <td>0</td>\n",
       "    </tr>\n",
       "    <tr>\n",
       "      <th>1</th>\n",
       "      <td>mPFC</td>\n",
       "      <td>KO</td>\n",
       "      <td>base</td>\n",
       "      <td>[ser]</td>\n",
       "      <td>1</td>\n",
       "    </tr>\n",
       "    <tr>\n",
       "      <th>2</th>\n",
       "      <td>mPFC</td>\n",
       "      <td>KO</td>\n",
       "      <td>base</td>\n",
       "      <td>[ser]</td>\n",
       "      <td>2</td>\n",
       "    </tr>\n",
       "    <tr>\n",
       "      <th>3</th>\n",
       "      <td>mPFC</td>\n",
       "      <td>KO</td>\n",
       "      <td>base</td>\n",
       "      <td>[ser]</td>\n",
       "      <td>3</td>\n",
       "    </tr>\n",
       "    <tr>\n",
       "      <th>4</th>\n",
       "      <td>mPFC</td>\n",
       "      <td>KO</td>\n",
       "      <td>base</td>\n",
       "      <td>[ser]</td>\n",
       "      <td>4</td>\n",
       "    </tr>\n",
       "  </tbody>\n",
       "</table>\n",
       "</div>"
      ],
      "text/plain": [
       "  Circuit Condition Mod type  Model  Rep\n",
       "0    mPFC        KO     base  [ser]    0\n",
       "1    mPFC        KO     base  [ser]    1\n",
       "2    mPFC        KO     base  [ser]    2\n",
       "3    mPFC        KO     base  [ser]    3\n",
       "4    mPFC        KO     base  [ser]    4"
      ]
     },
     "execution_count": 7,
     "metadata": {},
     "output_type": "execute_result"
    }
   ],
   "source": [
    "DATA_PATH = os.path.join('data', 'simulations', 'GIF_network', 'oscillation_input')\n",
    "\n",
    "sim_dict = {'Circuit': [], 'Mod type': [], 'Condition': [], 'Rep': [], 'Model': []}\n",
    "\n",
    "network_models = [\n",
    "    'DRN_subsample_base',\n",
    "    'mPFC_base'\n",
    "]\n",
    "\n",
    "for network_model in network_models:\n",
    "    for gaba_condition in os.listdir(os.path.join(DATA_PATH, network_model)):\n",
    "        for fname in os.listdir(os.path.join(DATA_PATH, network_model, gaba_condition)):\n",
    "            if fname.endswith(('hdf5', 'h5')):\n",
    "\n",
    "                sim_dict['Circuit'].append(\n",
    "                    re.search(r'(DRN|mPFC)_(.*)', network_model).groups()[-2]\n",
    "                )\n",
    "                sim_dict['Mod type'].append(\n",
    "                    re.search(r'(DRN|mPFC)_(.*)', network_model).groups()[-1]\n",
    "                )\n",
    "                sim_dict['Condition'].append(infer_gaba_condition(gaba_condition))\n",
    "                sim_dict['Rep'].append(\n",
    "                    int(re.search(r'rep([0-9]+)', fname).groups()[-1])\n",
    "                )\n",
    "                sim_dict['Model'].append(\n",
    "                    GIFnet_Simulation(\n",
    "                        os.path.join(DATA_PATH, network_model, gaba_condition, fname), \n",
    "                        mode = 'r'\n",
    "                    )\n",
    "                )\n",
    "\n",
    "sim_df = pd.DataFrame(sim_dict).sort_values(['Mod type', 'Condition', 'Rep'])\n",
    "sim_df.reset_index(inplace=True, drop=True)\n",
    "sim_df.head()"
   ]
  },
  {
   "cell_type": "code",
   "execution_count": 8,
   "metadata": {},
   "outputs": [],
   "source": [
    "sim_df['Principal PSTH'] = None\n",
    "sim_df['Principal PSTH'] = sim_df['Principal PSTH'].astype(object)\n",
    "sim_df['GABA PSTH'] = None\n",
    "sim_df['GABA PSTH'] = sim_df['GABA PSTH'].astype(object)"
   ]
  },
  {
   "cell_type": "code",
   "execution_count": 9,
   "metadata": {},
   "outputs": [],
   "source": [
    "with open(os.path.join(DATA_PATH, 'oscillation_input.dat'), 'rb') as f:\n",
    "    model_input = pickle.load(f)\n",
    "    f.close()"
   ]
  },
  {
   "cell_type": "code",
   "execution_count": 10,
   "metadata": {},
   "outputs": [
    {
     "name": "stdout",
     "output_type": "stream",
     "text": [
      "Computing PSTH 98.3%\n",
      "Done!\n"
     ]
    }
   ],
   "source": [
    "PSTH_width = 50.\n",
    "\n",
    "for i in range(sim_df.shape[0]):\n",
    "    reprint('Computing PSTH {:.1f}%'.format(100. * i / sim_df.shape[0]))\n",
    "    \n",
    "    # Get PSTH from 5HT population.\n",
    "    sim_df.at[i, 'Principal PSTH'] = np.empty((\n",
    "        sim_df.loc[i, 'Model'].get_no_sweeps(), \n",
    "        sim_df.loc[i, 'Model'].get_no_timesteps()\n",
    "    ))\n",
    "    for sweep_no in range(sim_df.loc[i, 'Model'].get_no_sweeps()):\n",
    "        sim_df.loc[i, 'Principal PSTH'][sweep_no, :] = PSTH(\n",
    "            sim_df.loc[i, 'Model'].ser_spktrains[sweep_no, ...].sum(axis = 0),\n",
    "            PSTH_width,\n",
    "            sim_df.loc[i, 'Model'].get_no_ser_neurons()\n",
    "        )\n",
    "    \n",
    "    # Get PSTHs from GABA population.\n",
    "    if sim_df.loc[i, 'Condition'] != 'KO':\n",
    "        sim_df.at[i, 'GABA PSTH'] = np.empty((\n",
    "            sim_df.loc[i, 'Model'].get_no_sweeps(), \n",
    "            sim_df.loc[i, 'Model'].get_no_timesteps()\n",
    "        ))\n",
    "        for sweep_no in range(sim_df.loc[i, 'Model'].get_no_sweeps()):\n",
    "            sim_df.loc[i, 'GABA PSTH'][sweep_no, :] = PSTH(\n",
    "                sim_df.loc[i, 'Model'].gaba_spktrains[sweep_no, ...].sum(axis = 0),\n",
    "                PSTH_width,\n",
    "                sim_df.loc[i, 'Model'].get_no_gaba_neurons()\n",
    "            )\n",
    "    else:\n",
    "        sim_df.loc[i, 'GABA PSTH'] = None\n",
    "        continue\n",
    "\n",
    "print('\\nDone!')"
   ]
  },
  {
   "cell_type": "code",
   "execution_count": 11,
   "metadata": {},
   "outputs": [],
   "source": [
    "def select_sample_dataset(dframe, circuit, condition, mod_type, rep_num):\n",
    "    return dframe.loc[\n",
    "        (dframe['Circuit'] == circuit)\n",
    "        & (dframe['Condition'] == condition) \n",
    "        & (dframe['Mod type'] == mod_type)\n",
    "        & (dframe['Rep'] == rep_num), \n",
    "        'Model'\n",
    "    ].item()"
   ]
  },
  {
   "cell_type": "code",
   "execution_count": 12,
   "metadata": {},
   "outputs": [],
   "source": [
    "def select_PSTH_dataset(dframe, circuit, condition, mod_type, psth_type='Principal PSTH'):\n",
    "    return dframe.loc[\n",
    "        (dframe['Circuit'] == circuit)\n",
    "        & (dframe['Condition'] == condition) \n",
    "        & (dframe['Mod type'] == mod_type), \n",
    "        psth_type\n",
    "    ].item()"
   ]
  },
  {
   "cell_type": "code",
   "execution_count": 13,
   "metadata": {},
   "outputs": [
    {
     "data": {
      "text/html": [
       "<div>\n",
       "<style scoped>\n",
       "    .dataframe tbody tr th:only-of-type {\n",
       "        vertical-align: middle;\n",
       "    }\n",
       "\n",
       "    .dataframe tbody tr th {\n",
       "        vertical-align: top;\n",
       "    }\n",
       "\n",
       "    .dataframe thead th {\n",
       "        text-align: right;\n",
       "    }\n",
       "</style>\n",
       "<table border=\"1\" class=\"dataframe\">\n",
       "  <thead>\n",
       "    <tr style=\"text-align: right;\">\n",
       "      <th></th>\n",
       "      <th>Circuit</th>\n",
       "      <th>Condition</th>\n",
       "      <th>Mod type</th>\n",
       "      <th>Model</th>\n",
       "      <th>Rep</th>\n",
       "      <th>Principal PSTH</th>\n",
       "      <th>GABA PSTH</th>\n",
       "    </tr>\n",
       "  </thead>\n",
       "  <tbody>\n",
       "    <tr>\n",
       "      <th>0</th>\n",
       "      <td>mPFC</td>\n",
       "      <td>KO</td>\n",
       "      <td>base</td>\n",
       "      <td>[ser]</td>\n",
       "      <td>0</td>\n",
       "      <td>[[1.1666666666666667, 1.1666666666666667, 1.20...</td>\n",
       "      <td>None</td>\n",
       "    </tr>\n",
       "    <tr>\n",
       "      <th>1</th>\n",
       "      <td>mPFC</td>\n",
       "      <td>KO</td>\n",
       "      <td>base</td>\n",
       "      <td>[ser]</td>\n",
       "      <td>1</td>\n",
       "      <td>[[1.4666666666666668, 1.5000000000000002, 1.50...</td>\n",
       "      <td>None</td>\n",
       "    </tr>\n",
       "    <tr>\n",
       "      <th>2</th>\n",
       "      <td>mPFC</td>\n",
       "      <td>KO</td>\n",
       "      <td>base</td>\n",
       "      <td>[ser]</td>\n",
       "      <td>2</td>\n",
       "      <td>[[1.2666666666666666, 1.2666666666666666, 1.33...</td>\n",
       "      <td>None</td>\n",
       "    </tr>\n",
       "    <tr>\n",
       "      <th>3</th>\n",
       "      <td>mPFC</td>\n",
       "      <td>KO</td>\n",
       "      <td>base</td>\n",
       "      <td>[ser]</td>\n",
       "      <td>3</td>\n",
       "      <td>[[1.3333333333333335, 1.3333333333333335, 1.33...</td>\n",
       "      <td>None</td>\n",
       "    </tr>\n",
       "    <tr>\n",
       "      <th>4</th>\n",
       "      <td>mPFC</td>\n",
       "      <td>KO</td>\n",
       "      <td>base</td>\n",
       "      <td>[ser]</td>\n",
       "      <td>4</td>\n",
       "      <td>[[1.3666666666666667, 1.4, 1.4, 1.433333333333...</td>\n",
       "      <td>None</td>\n",
       "    </tr>\n",
       "  </tbody>\n",
       "</table>\n",
       "</div>"
      ],
      "text/plain": [
       "  Circuit Condition Mod type  Model  Rep  \\\n",
       "0    mPFC        KO     base  [ser]    0   \n",
       "1    mPFC        KO     base  [ser]    1   \n",
       "2    mPFC        KO     base  [ser]    2   \n",
       "3    mPFC        KO     base  [ser]    3   \n",
       "4    mPFC        KO     base  [ser]    4   \n",
       "\n",
       "                                      Principal PSTH GABA PSTH  \n",
       "0  [[1.1666666666666667, 1.1666666666666667, 1.20...      None  \n",
       "1  [[1.4666666666666668, 1.5000000000000002, 1.50...      None  \n",
       "2  [[1.2666666666666666, 1.2666666666666666, 1.33...      None  \n",
       "3  [[1.3333333333333335, 1.3333333333333335, 1.33...      None  \n",
       "4  [[1.3666666666666667, 1.4, 1.4, 1.433333333333...      None  "
      ]
     },
     "execution_count": 13,
     "metadata": {},
     "output_type": "execute_result"
    }
   ],
   "source": [
    "sim_df.head()"
   ]
  },
  {
   "cell_type": "code",
   "execution_count": 14,
   "metadata": {},
   "outputs": [],
   "source": [
    "psth_dict = {'Circuit': [], 'Mod type': [], 'Condition': [], 'Principal PSTH': [], 'GABA PSTH': []}\n",
    "for circuit in sim_df['Circuit'].unique():\n",
    "    for modtype in sim_df.loc[sim_df['Circuit'] == circuit, 'Mod type'].unique():\n",
    "        for cond in sim_df.loc[(sim_df['Circuit'] == circuit) & (sim_df['Mod type'] == modtype), 'Condition'].unique():\n",
    "            psth_dict['Circuit'].append(circuit)\n",
    "            psth_dict['Mod type'].append(modtype)\n",
    "            psth_dict['Condition'].append(cond)\n",
    "            psth_dict['Principal PSTH'].append(np.array(\n",
    "                sim_df.loc[\n",
    "                    (sim_df['Circuit'] == circuit) \n",
    "                    & (sim_df['Condition'] == cond) \n",
    "                    & (sim_df['Mod type'] == modtype), \n",
    "                    'Principal PSTH'\n",
    "                ].tolist()\n",
    "            ))\n",
    "            psth_dict['GABA PSTH'].append(np.array(\n",
    "                sim_df.loc[\n",
    "                    (sim_df['Circuit'] == circuit) \n",
    "                    & (sim_df['Condition'] == cond) \n",
    "                    & (sim_df['Mod type'] == modtype), \n",
    "                    'GABA PSTH'\n",
    "                ].tolist()\n",
    "            ))\n",
    "psth_df = pd.DataFrame(psth_dict)\n",
    "del psth_dict"
   ]
  },
  {
   "cell_type": "code",
   "execution_count": 15,
   "metadata": {},
   "outputs": [],
   "source": [
    "def get_spike_times(spike_trains, dt):\n",
    "    spike_trains = np.asarray(spike_trains)\n",
    "    \n",
    "    spike_times = []\n",
    "    for train_ind in range(spike_trains.shape[0]):\n",
    "        spk_indices = np.where(spike_trains[train_ind, :] > 0.5)[0]\n",
    "        spike_times.append(spk_indices * dt)\n",
    "    \n",
    "    return spike_times"
   ]
  },
  {
   "cell_type": "code",
   "execution_count": 16,
   "metadata": {},
   "outputs": [],
   "source": [
    "def set_spike_apex(voltage_traces, spike_apex):\n",
    "    voltage_traces[voltage_traces == 0.] = spike_apex\n",
    "    return voltage_traces"
   ]
  },
  {
   "cell_type": "code",
   "execution_count": 17,
   "metadata": {},
   "outputs": [],
   "source": [
    "num_sample_neurons = 20"
   ]
  },
  {
   "cell_type": "code",
   "execution_count": 18,
   "metadata": {},
   "outputs": [],
   "source": [
    "dt = 1e-4\n",
    "\n",
    "sample_v_trace = select_sample_dataset(sim_df, 'DRN', 'KO', 'subsample_base', 0).ser_examples['V'][0, 1, :]\n",
    "sample_v_trace = set_spike_apex(sample_v_trace, 40.)\n",
    "\n",
    "t_vec = np.arange(0, (len(sample_v_trace) - 0.5) * dt, dt)\n",
    "\n",
    "raster_dset = select_sample_dataset(sim_df, 'DRN', 'KO', 'subsample_base', 0).ser_spktrains[0, :num_sample_neurons, :]\n",
    "spk_times = get_spike_times(raster_dset, dt)\n",
    "\n",
    "psth_dset = select_PSTH_dataset(psth_df, 'DRN', 'KO', 'subsample_base', 'Principal PSTH')[0, 0, :]"
   ]
  },
  {
   "cell_type": "code",
   "execution_count": 20,
   "metadata": {},
   "outputs": [
    {
     "data": {
      "image/png": "[encoded data removed]",
      "text/plain": [
       "<Figure size 240x180 with 4 Axes>"
      ]
     },
     "metadata": {
      "needs_background": "light"
     },
     "output_type": "display_data"
    }
   ],
   "source": [
    "spec = gs.GridSpec(4, 1, height_ratios=[0.2, 1, 0.5, 1], hspace=0.05, top=0.95, right=0.95, left=0.2)\n",
    "\n",
    "plt.figure(figsize=(2, 1.5))\n",
    "\n",
    "plt.subplot(spec[0, :])\n",
    "plt.plot(t_vec, model_input['ser_input'][0, 0, :], color=colors['input'])\n",
    "pltools.add_scalebar(y_units='nA', y_size=0.1, anchor=(0, 0.1), round=False, omit_x=True, linewidth=sbarlw)\n",
    "\n",
    "V_ax = plt.subplot(spec[1, :])\n",
    "plt.plot(t_vec, sample_v_trace, color=colors['ser'])\n",
    "pltools.add_scalebar('s', 'mV', x_size=1, anchor=(0.1, 0.5), bar_space=0, linewidth=sbarlw)\n",
    "\n",
    "plt.subplot(spec[2, :])\n",
    "plt.eventplot(spk_times, color=colors['ser'])\n",
    "plt.xlim(V_ax.get_xlim())\n",
    "pltools.hide_border('a')\n",
    "pltools.hide_ticks()\n",
    "\n",
    "plt.subplot(spec[3, :])\n",
    "plt.plot(t_vec, psth_dset, color=colors['ser'])\n",
    "plt.ylabel('Pop. firing rate\\n(Hz/neuron)')\n",
    "plt.xlim(V_ax.get_xlim())\n",
    "pltools.hide_border('trb', trim=True)\n",
    "\n",
    "if IMG_PATH is not None:\n",
    "    plt.savefig(os.path.join(IMG_PATH, 'ser_population_oscillation_sample.png'))\n",
    "    plt.savefig(os.path.join(IMG_PATH, 'ser_population_oscillation_sample.svg'))"
   ]
  },
  {
   "cell_type": "markdown",
   "metadata": {},
   "source": [
    "# SOM"
   ]
  },
  {
   "cell_type": "code",
   "execution_count": 21,
   "metadata": {},
   "outputs": [],
   "source": [
    "num_sample_neurons = 20"
   ]
  },
  {
   "cell_type": "code",
   "execution_count": 22,
   "metadata": {},
   "outputs": [],
   "source": [
    "dt = 1e-4\n",
    "\n",
    "sample_v_trace = select_sample_dataset(sim_df, 'DRN', 'base', 'subsample_base', 0).gaba_examples['V'][0, 5, :]\n",
    "sample_v_trace = set_spike_apex(sample_v_trace, 40.)\n",
    "\n",
    "t_vec = np.arange(0, (len(sample_v_trace) - 0.5) * dt, dt)\n",
    "\n",
    "raster_dset = select_sample_dataset(sim_df, 'DRN', 'base', 'subsample_base', 0).gaba_spktrains[0, :num_sample_neurons, :]\n",
    "spk_times = get_spike_times(raster_dset, dt)\n",
    "\n",
    "psth_dset = select_PSTH_dataset(psth_df, 'DRN', 'base', 'subsample_base', 'GABA PSTH')[0, 0, :]"
   ]
  },
  {
   "cell_type": "code",
   "execution_count": 24,
   "metadata": {
    "scrolled": true
   },
   "outputs": [
    {
     "data": {
      "image/png": "[encoded data removed]",
      "text/plain": [
       "<Figure size 240x180 with 4 Axes>"
      ]
     },
     "metadata": {
      "needs_background": "light"
     },
     "output_type": "display_data"
    }
   ],
   "source": [
    "spec = gs.GridSpec(4, 1, height_ratios=[0.2, 1, 0.5, 1], hspace=0.05, top=0.95, right=0.95, left=0.2)\n",
    "\n",
    "plt.figure(figsize=(2, 1.5))\n",
    "\n",
    "plt.subplot(spec[0, :])\n",
    "plt.plot(t_vec, model_input['gaba_input'][0, 0, :], color=colors['input'])\n",
    "pltools.add_scalebar(y_units='nA', y_size=0.1, anchor=(0, 0.1), round=False, omit_x=True, linewidth=sbarlw)\n",
    "\n",
    "V_ax = plt.subplot(spec[1, :])\n",
    "plt.plot(t_vec, sample_v_trace, color=colors['som'])\n",
    "pltools.add_scalebar('s', 'mV', x_size=1, anchor=(0.1, 0.5), bar_space=0, linewidth=sbarlw)\n",
    "\n",
    "plt.subplot(spec[2, :])\n",
    "plt.eventplot(spk_times, color=colors['som'])\n",
    "plt.xlim(V_ax.get_xlim())\n",
    "pltools.hide_border('a')\n",
    "pltools.hide_ticks()\n",
    "\n",
    "plt.subplot(spec[3, :])\n",
    "plt.plot(t_vec, psth_dset, color=colors['som'])\n",
    "plt.ylabel('Pop. firing rate\\n(Hz/neuron)')\n",
    "plt.xlim(V_ax.get_xlim())\n",
    "pltools.hide_border('trb', trim=True)\n",
    "\n",
    "if IMG_PATH is not None:\n",
    "    plt.savefig(os.path.join(IMG_PATH, 'som_population_oscillation_sample.png'))\n",
    "    plt.savefig(os.path.join(IMG_PATH, 'som_population_oscillation_sample.svg'))"
   ]
  },
  {
   "cell_type": "markdown",
   "metadata": {},
   "source": [
    "# mPFC"
   ]
  },
  {
   "cell_type": "code",
   "execution_count": 25,
   "metadata": {},
   "outputs": [],
   "source": [
    "num_sample_neurons = 20"
   ]
  },
  {
   "cell_type": "code",
   "execution_count": 26,
   "metadata": {},
   "outputs": [],
   "source": [
    "dt = 1e-4\n",
    "\n",
    "sample_v_trace = select_sample_dataset(sim_df, 'mPFC', 'KO', 'base', 0).ser_examples['V'][0, 1, :]\n",
    "sample_v_trace = set_spike_apex(sample_v_trace, 40.)\n",
    "\n",
    "t_vec = np.arange(0, (len(sample_v_trace) - 0.5) * dt, dt)\n",
    "\n",
    "raster_dset = select_sample_dataset(sim_df, 'mPFC', 'KO', 'base', 0).ser_spktrains[0, :num_sample_neurons, :]\n",
    "spk_times = get_spike_times(raster_dset, dt)\n",
    "\n",
    "psth_dset = select_PSTH_dataset(psth_df, 'mPFC', 'KO', 'base', 'Principal PSTH')[0, 0, :]"
   ]
  },
  {
   "cell_type": "code",
   "execution_count": 27,
   "metadata": {},
   "outputs": [
    {
     "data": {
      "image/png": "[encoded data removed]",
      "text/plain": [
       "<Figure size 240x180 with 4 Axes>"
      ]
     },
     "metadata": {
      "needs_background": "light"
     },
     "output_type": "display_data"
    }
   ],
   "source": [
    "spec = gs.GridSpec(4, 1, height_ratios=[0.2, 1, 0.5, 1], hspace=0.05, top=0.95, right=0.95, left=0.2)\n",
    "\n",
    "plt.figure(figsize=(2, 1.5))\n",
    "\n",
    "plt.subplot(spec[0, :])\n",
    "plt.plot(t_vec, model_input['ser_input'][0, 0, :], color=colors['input'])\n",
    "pltools.add_scalebar(y_units='nA', y_size=0.1, anchor=(0, 0.1), round=False, omit_x=True, linewidth=sbarlw)\n",
    "\n",
    "V_ax = plt.subplot(spec[1, :])\n",
    "plt.plot(t_vec, sample_v_trace, color=colors['pyr'])\n",
    "pltools.add_scalebar('s', 'mV', x_size=1, anchor=(0.1, 0.5), bar_space=0, linewidth=sbarlw)\n",
    "\n",
    "plt.subplot(spec[2, :])\n",
    "plt.eventplot(spk_times, color=colors['pyr'])\n",
    "plt.xlim(V_ax.get_xlim())\n",
    "pltools.hide_border('a')\n",
    "pltools.hide_ticks()\n",
    "\n",
    "plt.subplot(spec[3, :])\n",
    "plt.plot(t_vec, psth_dset, color=colors['pyr'])\n",
    "plt.yticks([0, 15, 30, 45])\n",
    "plt.ylim(0, 45)\n",
    "plt.ylabel('Pop. firing rate\\n(Hz/neuron)')\n",
    "plt.xlim(V_ax.get_xlim())\n",
    "pltools.hide_border('trb', trim=True)\n",
    "\n",
    "if IMG_PATH is not None:\n",
    "    plt.savefig(os.path.join(IMG_PATH, 'mPFC_population_oscillation_sample.png'))\n",
    "    plt.savefig(os.path.join(IMG_PATH, 'mPFC_population_oscillation_sample.svg'))"
   ]
  },
  {
   "cell_type": "code",
   "execution_count": 29,
   "metadata": {},
   "outputs": [],
   "source": [
    "dt = 1e-4\n",
    "\n",
    "sample_v_trace = select_sample_dataset(sim_df, 'mPFC', 'KO', 'base', 0, 'wave_input_baseline_offset').ser_examples['V'][0, 1, :]\n",
    "sample_v_trace = set_spike_apex(sample_v_trace, 40.)\n",
    "\n",
    "t_vec = np.arange(0, (len(sample_v_trace) - 0.5) * dt, dt)\n",
    "\n",
    "raster_dset = select_sample_dataset(sim_df, 'mPFC', 'KO', 'base', 0, 'wave_input_baseline_offset').ser_spktrains[0, :num_sample_neurons, :]\n",
    "spk_times = get_spike_times(raster_dset, dt)\n",
    "\n",
    "psth_dset = select_PSTH_dataset(psth_df, 'mPFC', 'KO', 'base', 'wave_input_baseline_offset', 'Principal PSTH')[0, 0, :]"
   ]
  },
  {
   "cell_type": "code",
   "execution_count": 30,
   "metadata": {},
   "outputs": [
    {
     "data": {
      "image/png": "[encoded data removed]",
      "text/plain": [
       "<Figure size 240x180 with 4 Axes>"
      ]
     },
     "metadata": {
      "needs_background": "light"
     },
     "output_type": "display_data"
    }
   ],
   "source": [
    "spec = gs.GridSpec(4, 1, height_ratios=[0.2, 1, 0.5, 1], hspace=0.05, top=0.95, right=0.95, left=0.2)\n",
    "\n",
    "plt.figure(figsize=(2, 1.5))\n",
    "\n",
    "plt.subplot(spec[0, :])\n",
    "plt.plot(t_vec, model_input['baseline_offset']['ser_input'][0, 0, :], color=colors['input'])\n",
    "pltools.add_scalebar(y_units='nA', y_size=0.1, anchor=(0, 0.1), round=False, omit_x=True, linewidth=sbarlw)\n",
    "\n",
    "V_ax = plt.subplot(spec[1, :])\n",
    "plt.plot(t_vec, sample_v_trace, color=colors['pyr'])\n",
    "pltools.add_scalebar('s', 'mV', x_size=1, anchor=(0.1, 0.5), bar_space=0, linewidth=sbarlw)\n",
    "\n",
    "plt.subplot(spec[2, :])\n",
    "plt.eventplot(spk_times, color=colors['pyr'])\n",
    "plt.xlim(V_ax.get_xlim())\n",
    "pltools.hide_border('a')\n",
    "pltools.hide_ticks()\n",
    "\n",
    "plt.subplot(spec[3, :])\n",
    "plt.plot(t_vec, psth_dset, color=colors['pyr'])\n",
    "plt.yticks([0, 15, 30, 45])\n",
    "plt.ylim(0, 45)\n",
    "plt.ylabel('Pop. firing rate\\n(Hz/neuron)')\n",
    "plt.xlim(V_ax.get_xlim())\n",
    "pltools.hide_border('trb', trim=True)\n",
    "\n",
    "if IMG_PATH is not None:\n",
    "    plt.savefig(os.path.join(IMG_PATH, 'mPFC_population_baseline_offset_sample.png'))\n",
    "    plt.savefig(os.path.join(IMG_PATH, 'mPFC_population_baseline_offset_sample.svg'))"
   ]
  }
 ],
 "metadata": {
  "kernelspec": {
   "display_name": "Python 2",
   "language": "python",
   "name": "python2"
  },
  "language_info": {
   "codemirror_mode": {
    "name": "ipython",
    "version": 2
   },
   "file_extension": ".py",
   "mimetype": "text/x-python",
   "name": "python",
   "nbconvert_exporter": "python",
   "pygments_lexer": "ipython2",
   "version": "2.7.15"
  }
 },
 "nbformat": 4,
 "nbformat_minor": 2
}

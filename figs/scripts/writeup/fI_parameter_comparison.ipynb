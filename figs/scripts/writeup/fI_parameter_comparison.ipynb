{
 "cells": [
  {
   "cell_type": "code",
   "execution_count": 1,
   "metadata": {},
   "outputs": [],
   "source": [
    "from common import colors, pvalue_thresholds, fliersize"
   ]
  },
  {
   "cell_type": "code",
   "execution_count": 2,
   "metadata": {},
   "outputs": [
    {
     "name": "stdout",
     "output_type": "stream",
     "text": [
      "/Users/eharkin/Documents/projects/5HTGIF\n"
     ]
    }
   ],
   "source": [
    "import os\n",
    "os.chdir(os.path.join('..', '..', '..'))\n",
    "print(os.getcwd())"
   ]
  },
  {
   "cell_type": "code",
   "execution_count": 3,
   "metadata": {},
   "outputs": [],
   "source": [
    "import pandas as pd\n",
    "import matplotlib.pyplot as plt\n",
    "import numpy as np\n",
    "import seaborn as sns\n",
    "from scipy import stats\n",
    "from ezephys import pltools\n",
    "from statannot import add_stat_annotation\n",
    "\n",
    "from grr.Tools import stripNan"
   ]
  },
  {
   "cell_type": "code",
   "execution_count": 4,
   "metadata": {},
   "outputs": [],
   "source": [
    "IMG_PATH = os.path.join('figs', 'ims', 'writeup', 'fig1')\n",
    "NOTEBOOK_PATH = os.path.join('figs', 'scripts', 'writeup')\n",
    "\n",
    "plt.style.use(os.path.join(NOTEBOOK_PATH, 'publication_figure_style.dms'))"
   ]
  },
  {
   "cell_type": "markdown",
   "metadata": {},
   "source": [
    "# Load $f/I$ parameters"
   ]
  },
  {
   "cell_type": "code",
   "execution_count": 5,
   "metadata": {},
   "outputs": [
    {
     "data": {
      "text/html": [
       "<div>\n",
       "<style scoped>\n",
       "    .dataframe tbody tr th:only-of-type {\n",
       "        vertical-align: middle;\n",
       "    }\n",
       "\n",
       "    .dataframe tbody tr th {\n",
       "        vertical-align: top;\n",
       "    }\n",
       "\n",
       "    .dataframe thead th {\n",
       "        text-align: right;\n",
       "    }\n",
       "</style>\n",
       "<table border=\"1\" class=\"dataframe\">\n",
       "  <thead>\n",
       "    <tr style=\"text-align: right;\">\n",
       "      <th></th>\n",
       "      <th>freq_at_50</th>\n",
       "      <th>freq_at_rheobase</th>\n",
       "      <th>gain</th>\n",
       "      <th>is_monotonic</th>\n",
       "      <th>rheobase</th>\n",
       "      <th>spearman_p</th>\n",
       "      <th>spearman_rho</th>\n",
       "      <th>cell_type</th>\n",
       "    </tr>\n",
       "  </thead>\n",
       "  <tbody>\n",
       "    <tr>\n",
       "      <th>0</th>\n",
       "      <td>4.039271</td>\n",
       "      <td>1.0</td>\n",
       "      <td>0.074977</td>\n",
       "      <td>True</td>\n",
       "      <td>8.766868</td>\n",
       "      <td>5.203924e-04</td>\n",
       "      <td>0.939827</td>\n",
       "      <td>5HT</td>\n",
       "    </tr>\n",
       "    <tr>\n",
       "      <th>1</th>\n",
       "      <td>0.540422</td>\n",
       "      <td>1.0</td>\n",
       "      <td>0.037190</td>\n",
       "      <td>True</td>\n",
       "      <td>54.663452</td>\n",
       "      <td>7.062569e-08</td>\n",
       "      <td>0.975217</td>\n",
       "      <td>5HT</td>\n",
       "    </tr>\n",
       "    <tr>\n",
       "      <th>2</th>\n",
       "      <td>0.010133</td>\n",
       "      <td>1.0</td>\n",
       "      <td>0.085683</td>\n",
       "      <td>True</td>\n",
       "      <td>60.045643</td>\n",
       "      <td>4.256164e-06</td>\n",
       "      <td>0.988024</td>\n",
       "      <td>5HT</td>\n",
       "    </tr>\n",
       "    <tr>\n",
       "      <th>3</th>\n",
       "      <td>0.000000</td>\n",
       "      <td>1.0</td>\n",
       "      <td>0.042441</td>\n",
       "      <td>True</td>\n",
       "      <td>64.524641</td>\n",
       "      <td>7.882961e-06</td>\n",
       "      <td>0.962950</td>\n",
       "      <td>5HT</td>\n",
       "    </tr>\n",
       "    <tr>\n",
       "      <th>4</th>\n",
       "      <td>4.242575</td>\n",
       "      <td>1.0</td>\n",
       "      <td>0.106712</td>\n",
       "      <td>True</td>\n",
       "      <td>16.735346</td>\n",
       "      <td>1.330989e-11</td>\n",
       "      <td>0.990100</td>\n",
       "      <td>5HT</td>\n",
       "    </tr>\n",
       "    <tr>\n",
       "      <th>5</th>\n",
       "      <td>0.029795</td>\n",
       "      <td>1.0</td>\n",
       "      <td>0.039304</td>\n",
       "      <td>True</td>\n",
       "      <td>59.471666</td>\n",
       "      <td>2.399471e-07</td>\n",
       "      <td>0.977008</td>\n",
       "      <td>5HT</td>\n",
       "    </tr>\n",
       "    <tr>\n",
       "      <th>6</th>\n",
       "      <td>2.000000</td>\n",
       "      <td>2.0</td>\n",
       "      <td>0.044860</td>\n",
       "      <td>True</td>\n",
       "      <td>44.279461</td>\n",
       "      <td>4.179468e-02</td>\n",
       "      <td>0.828079</td>\n",
       "      <td>5HT</td>\n",
       "    </tr>\n",
       "    <tr>\n",
       "      <th>7</th>\n",
       "      <td>5.000000</td>\n",
       "      <td>2.0</td>\n",
       "      <td>0.051668</td>\n",
       "      <td>True</td>\n",
       "      <td>8.477907</td>\n",
       "      <td>6.715554e-12</td>\n",
       "      <td>0.991170</td>\n",
       "      <td>5HT</td>\n",
       "    </tr>\n",
       "    <tr>\n",
       "      <th>8</th>\n",
       "      <td>1.826810</td>\n",
       "      <td>2.0</td>\n",
       "      <td>0.052506</td>\n",
       "      <td>True</td>\n",
       "      <td>50.878105</td>\n",
       "      <td>2.183923e-09</td>\n",
       "      <td>0.987686</td>\n",
       "      <td>5HT</td>\n",
       "    </tr>\n",
       "    <tr>\n",
       "      <th>9</th>\n",
       "      <td>2.884087</td>\n",
       "      <td>1.0</td>\n",
       "      <td>0.030544</td>\n",
       "      <td>True</td>\n",
       "      <td>30.874911</td>\n",
       "      <td>5.537728e-06</td>\n",
       "      <td>0.953463</td>\n",
       "      <td>5HT</td>\n",
       "    </tr>\n",
       "    <tr>\n",
       "      <th>10</th>\n",
       "      <td>6.880687</td>\n",
       "      <td>2.0</td>\n",
       "      <td>0.073380</td>\n",
       "      <td>True</td>\n",
       "      <td>0.511339</td>\n",
       "      <td>1.858669e-14</td>\n",
       "      <td>0.996698</td>\n",
       "      <td>5HT</td>\n",
       "    </tr>\n",
       "    <tr>\n",
       "      <th>11</th>\n",
       "      <td>4.793372</td>\n",
       "      <td>2.0</td>\n",
       "      <td>0.049064</td>\n",
       "      <td>True</td>\n",
       "      <td>11.563511</td>\n",
       "      <td>6.715554e-12</td>\n",
       "      <td>0.991170</td>\n",
       "      <td>5HT</td>\n",
       "    </tr>\n",
       "    <tr>\n",
       "      <th>12</th>\n",
       "      <td>1.804183</td>\n",
       "      <td>2.0</td>\n",
       "      <td>0.036683</td>\n",
       "      <td>True</td>\n",
       "      <td>50.991914</td>\n",
       "      <td>8.049893e-03</td>\n",
       "      <td>0.925820</td>\n",
       "      <td>5HT</td>\n",
       "    </tr>\n",
       "    <tr>\n",
       "      <th>13</th>\n",
       "      <td>2.000000</td>\n",
       "      <td>2.0</td>\n",
       "      <td>0.034894</td>\n",
       "      <td>True</td>\n",
       "      <td>32.528779</td>\n",
       "      <td>4.868324e-08</td>\n",
       "      <td>0.977008</td>\n",
       "      <td>5HT</td>\n",
       "    </tr>\n",
       "    <tr>\n",
       "      <th>14</th>\n",
       "      <td>3.000000</td>\n",
       "      <td>1.0</td>\n",
       "      <td>0.025223</td>\n",
       "      <td>True</td>\n",
       "      <td>14.484321</td>\n",
       "      <td>3.860835e-06</td>\n",
       "      <td>0.944250</td>\n",
       "      <td>5HT</td>\n",
       "    </tr>\n",
       "    <tr>\n",
       "      <th>15</th>\n",
       "      <td>6.908821</td>\n",
       "      <td>5.0</td>\n",
       "      <td>0.067748</td>\n",
       "      <td>True</td>\n",
       "      <td>25.816700</td>\n",
       "      <td>1.851030e-03</td>\n",
       "      <td>0.936975</td>\n",
       "      <td>5HT</td>\n",
       "    </tr>\n",
       "    <tr>\n",
       "      <th>16</th>\n",
       "      <td>1.800660</td>\n",
       "      <td>1.0</td>\n",
       "      <td>0.035285</td>\n",
       "      <td>True</td>\n",
       "      <td>39.880741</td>\n",
       "      <td>1.456125e-05</td>\n",
       "      <td>0.991031</td>\n",
       "      <td>5HT</td>\n",
       "    </tr>\n",
       "    <tr>\n",
       "      <th>17</th>\n",
       "      <td>15.237535</td>\n",
       "      <td>6.0</td>\n",
       "      <td>-0.055545</td>\n",
       "      <td>False</td>\n",
       "      <td>0.508996</td>\n",
       "      <td>1.300312e-02</td>\n",
       "      <td>-0.643629</td>\n",
       "      <td>GABA</td>\n",
       "    </tr>\n",
       "    <tr>\n",
       "      <th>18</th>\n",
       "      <td>2.000000</td>\n",
       "      <td>8.0</td>\n",
       "      <td>-0.042513</td>\n",
       "      <td>False</td>\n",
       "      <td>-4.507909</td>\n",
       "      <td>1.191486e-02</td>\n",
       "      <td>-0.753123</td>\n",
       "      <td>GABA</td>\n",
       "    </tr>\n",
       "    <tr>\n",
       "      <th>19</th>\n",
       "      <td>7.881604</td>\n",
       "      <td>2.0</td>\n",
       "      <td>0.080639</td>\n",
       "      <td>True</td>\n",
       "      <td>0.505605</td>\n",
       "      <td>3.630412e-04</td>\n",
       "      <td>0.924402</td>\n",
       "      <td>GABA</td>\n",
       "    </tr>\n",
       "    <tr>\n",
       "      <th>20</th>\n",
       "      <td>4.831990</td>\n",
       "      <td>2.0</td>\n",
       "      <td>-0.059880</td>\n",
       "      <td>False</td>\n",
       "      <td>-12.489766</td>\n",
       "      <td>1.647161e-01</td>\n",
       "      <td>-0.475619</td>\n",
       "      <td>GABA</td>\n",
       "    </tr>\n",
       "    <tr>\n",
       "      <th>21</th>\n",
       "      <td>3.161935</td>\n",
       "      <td>2.0</td>\n",
       "      <td>0.156894</td>\n",
       "      <td>True</td>\n",
       "      <td>46.084441</td>\n",
       "      <td>6.646897e-64</td>\n",
       "      <td>1.000000</td>\n",
       "      <td>GABA</td>\n",
       "    </tr>\n",
       "    <tr>\n",
       "      <th>22</th>\n",
       "      <td>3.000000</td>\n",
       "      <td>2.0</td>\n",
       "      <td>0.061702</td>\n",
       "      <td>False</td>\n",
       "      <td>15.714457</td>\n",
       "      <td>1.353451e-03</td>\n",
       "      <td>0.861606</td>\n",
       "      <td>GABA</td>\n",
       "    </tr>\n",
       "    <tr>\n",
       "      <th>23</th>\n",
       "      <td>8.804591</td>\n",
       "      <td>3.0</td>\n",
       "      <td>0.218902</td>\n",
       "      <td>True</td>\n",
       "      <td>20.592707</td>\n",
       "      <td>1.542446e-08</td>\n",
       "      <td>0.995825</td>\n",
       "      <td>GABA</td>\n",
       "    </tr>\n",
       "    <tr>\n",
       "      <th>24</th>\n",
       "      <td>4.000000</td>\n",
       "      <td>1.0</td>\n",
       "      <td>0.036083</td>\n",
       "      <td>True</td>\n",
       "      <td>7.604364</td>\n",
       "      <td>1.218105e-09</td>\n",
       "      <td>0.978898</td>\n",
       "      <td>GABA</td>\n",
       "    </tr>\n",
       "    <tr>\n",
       "      <th>25</th>\n",
       "      <td>14.101062</td>\n",
       "      <td>6.0</td>\n",
       "      <td>0.282292</td>\n",
       "      <td>True</td>\n",
       "      <td>22.696015</td>\n",
       "      <td>0.000000e+00</td>\n",
       "      <td>1.000000</td>\n",
       "      <td>GABA</td>\n",
       "    </tr>\n",
       "    <tr>\n",
       "      <th>26</th>\n",
       "      <td>6.485753</td>\n",
       "      <td>1.0</td>\n",
       "      <td>0.075049</td>\n",
       "      <td>True</td>\n",
       "      <td>4.613148</td>\n",
       "      <td>1.324698e-10</td>\n",
       "      <td>0.992982</td>\n",
       "      <td>GABA</td>\n",
       "    </tr>\n",
       "    <tr>\n",
       "      <th>27</th>\n",
       "      <td>18.374802</td>\n",
       "      <td>6.0</td>\n",
       "      <td>0.105530</td>\n",
       "      <td>False</td>\n",
       "      <td>7.578162</td>\n",
       "      <td>8.210943e-03</td>\n",
       "      <td>0.674010</td>\n",
       "      <td>GABA</td>\n",
       "    </tr>\n",
       "    <tr>\n",
       "      <th>28</th>\n",
       "      <td>7.691860</td>\n",
       "      <td>2.0</td>\n",
       "      <td>0.122145</td>\n",
       "      <td>True</td>\n",
       "      <td>22.777334</td>\n",
       "      <td>0.000000e+00</td>\n",
       "      <td>1.000000</td>\n",
       "      <td>GABA</td>\n",
       "    </tr>\n",
       "    <tr>\n",
       "      <th>29</th>\n",
       "      <td>2.000000</td>\n",
       "      <td>1.0</td>\n",
       "      <td>0.027845</td>\n",
       "      <td>False</td>\n",
       "      <td>30.939522</td>\n",
       "      <td>4.632527e-04</td>\n",
       "      <td>0.872170</td>\n",
       "      <td>GABA</td>\n",
       "    </tr>\n",
       "    <tr>\n",
       "      <th>30</th>\n",
       "      <td>16.696947</td>\n",
       "      <td>4.0</td>\n",
       "      <td>0.145443</td>\n",
       "      <td>False</td>\n",
       "      <td>-4.153042</td>\n",
       "      <td>2.376615e-03</td>\n",
       "      <td>0.763736</td>\n",
       "      <td>GABA</td>\n",
       "    </tr>\n",
       "  </tbody>\n",
       "</table>\n",
       "</div>"
      ],
      "text/plain": [
       "    freq_at_50  freq_at_rheobase      gain  is_monotonic   rheobase  \\\n",
       "0     4.039271               1.0  0.074977          True   8.766868   \n",
       "1     0.540422               1.0  0.037190          True  54.663452   \n",
       "2     0.010133               1.0  0.085683          True  60.045643   \n",
       "3     0.000000               1.0  0.042441          True  64.524641   \n",
       "4     4.242575               1.0  0.106712          True  16.735346   \n",
       "5     0.029795               1.0  0.039304          True  59.471666   \n",
       "6     2.000000               2.0  0.044860          True  44.279461   \n",
       "7     5.000000               2.0  0.051668          True   8.477907   \n",
       "8     1.826810               2.0  0.052506          True  50.878105   \n",
       "9     2.884087               1.0  0.030544          True  30.874911   \n",
       "10    6.880687               2.0  0.073380          True   0.511339   \n",
       "11    4.793372               2.0  0.049064          True  11.563511   \n",
       "12    1.804183               2.0  0.036683          True  50.991914   \n",
       "13    2.000000               2.0  0.034894          True  32.528779   \n",
       "14    3.000000               1.0  0.025223          True  14.484321   \n",
       "15    6.908821               5.0  0.067748          True  25.816700   \n",
       "16    1.800660               1.0  0.035285          True  39.880741   \n",
       "17   15.237535               6.0 -0.055545         False   0.508996   \n",
       "18    2.000000               8.0 -0.042513         False  -4.507909   \n",
       "19    7.881604               2.0  0.080639          True   0.505605   \n",
       "20    4.831990               2.0 -0.059880         False -12.489766   \n",
       "21    3.161935               2.0  0.156894          True  46.084441   \n",
       "22    3.000000               2.0  0.061702         False  15.714457   \n",
       "23    8.804591               3.0  0.218902          True  20.592707   \n",
       "24    4.000000               1.0  0.036083          True   7.604364   \n",
       "25   14.101062               6.0  0.282292          True  22.696015   \n",
       "26    6.485753               1.0  0.075049          True   4.613148   \n",
       "27   18.374802               6.0  0.105530         False   7.578162   \n",
       "28    7.691860               2.0  0.122145          True  22.777334   \n",
       "29    2.000000               1.0  0.027845         False  30.939522   \n",
       "30   16.696947               4.0  0.145443         False  -4.153042   \n",
       "\n",
       "      spearman_p  spearman_rho cell_type  \n",
       "0   5.203924e-04      0.939827       5HT  \n",
       "1   7.062569e-08      0.975217       5HT  \n",
       "2   4.256164e-06      0.988024       5HT  \n",
       "3   7.882961e-06      0.962950       5HT  \n",
       "4   1.330989e-11      0.990100       5HT  \n",
       "5   2.399471e-07      0.977008       5HT  \n",
       "6   4.179468e-02      0.828079       5HT  \n",
       "7   6.715554e-12      0.991170       5HT  \n",
       "8   2.183923e-09      0.987686       5HT  \n",
       "9   5.537728e-06      0.953463       5HT  \n",
       "10  1.858669e-14      0.996698       5HT  \n",
       "11  6.715554e-12      0.991170       5HT  \n",
       "12  8.049893e-03      0.925820       5HT  \n",
       "13  4.868324e-08      0.977008       5HT  \n",
       "14  3.860835e-06      0.944250       5HT  \n",
       "15  1.851030e-03      0.936975       5HT  \n",
       "16  1.456125e-05      0.991031       5HT  \n",
       "17  1.300312e-02     -0.643629      GABA  \n",
       "18  1.191486e-02     -0.753123      GABA  \n",
       "19  3.630412e-04      0.924402      GABA  \n",
       "20  1.647161e-01     -0.475619      GABA  \n",
       "21  6.646897e-64      1.000000      GABA  \n",
       "22  1.353451e-03      0.861606      GABA  \n",
       "23  1.542446e-08      0.995825      GABA  \n",
       "24  1.218105e-09      0.978898      GABA  \n",
       "25  0.000000e+00      1.000000      GABA  \n",
       "26  1.324698e-10      0.992982      GABA  \n",
       "27  8.210943e-03      0.674010      GABA  \n",
       "28  0.000000e+00      1.000000      GABA  \n",
       "29  4.632527e-04      0.872170      GABA  \n",
       "30  2.376615e-03      0.763736      GABA  "
      ]
     },
     "execution_count": 5,
     "metadata": {},
     "output_type": "execute_result"
    }
   ],
   "source": [
    "data = {\n",
    "    celltype: pd.read_csv(os.path.join('data', 'processed', celltype, 'current_steps_gain.csv'))\n",
    "    for celltype in ['5HT', 'GABA']\n",
    "}\n",
    "for celltype in data:\n",
    "    data[celltype]['cell_type'] = celltype\n",
    "param_df = pd.concat([data[celltype] for celltype in data], axis=0)\n",
    "param_df.reset_index(drop=True, inplace=True)\n",
    "\n",
    "param_df"
   ]
  },
  {
   "cell_type": "code",
   "execution_count": 6,
   "metadata": {},
   "outputs": [],
   "source": [
    "param_df['gain'] *= 1e3  # Convert to Hz/nA from Hz/pA"
   ]
  },
  {
   "cell_type": "markdown",
   "metadata": {},
   "source": [
    "## Summary statistics"
   ]
  },
  {
   "cell_type": "code",
   "execution_count": 7,
   "metadata": {},
   "outputs": [
    {
     "data": {
      "text/html": [
       "<div>\n",
       "<style scoped>\n",
       "    .dataframe tbody tr th:only-of-type {\n",
       "        vertical-align: middle;\n",
       "    }\n",
       "\n",
       "    .dataframe tbody tr th {\n",
       "        vertical-align: top;\n",
       "    }\n",
       "\n",
       "    .dataframe thead th {\n",
       "        text-align: right;\n",
       "    }\n",
       "</style>\n",
       "<table border=\"1\" class=\"dataframe\">\n",
       "  <thead>\n",
       "    <tr style=\"text-align: right;\">\n",
       "      <th></th>\n",
       "      <th>freq_at_50</th>\n",
       "      <th>freq_at_rheobase</th>\n",
       "      <th>gain</th>\n",
       "      <th>is_monotonic</th>\n",
       "      <th>rheobase</th>\n",
       "      <th>spearman_p</th>\n",
       "      <th>spearman_rho</th>\n",
       "    </tr>\n",
       "    <tr>\n",
       "      <th>cell_type</th>\n",
       "      <th></th>\n",
       "      <th></th>\n",
       "      <th></th>\n",
       "      <th></th>\n",
       "      <th></th>\n",
       "      <th></th>\n",
       "      <th></th>\n",
       "    </tr>\n",
       "  </thead>\n",
       "  <tbody>\n",
       "    <tr>\n",
       "      <th>5HT</th>\n",
       "      <td>2.809460</td>\n",
       "      <td>1.647059</td>\n",
       "      <td>52.244907</td>\n",
       "      <td>1.0</td>\n",
       "      <td>33.793841</td>\n",
       "      <td>0.003074</td>\n",
       "      <td>0.962146</td>\n",
       "    </tr>\n",
       "    <tr>\n",
       "      <th>GABA</th>\n",
       "      <td>8.162006</td>\n",
       "      <td>3.285714</td>\n",
       "      <td>82.470465</td>\n",
       "      <td>0.5</td>\n",
       "      <td>11.318860</td>\n",
       "      <td>0.014457</td>\n",
       "      <td>0.585090</td>\n",
       "    </tr>\n",
       "  </tbody>\n",
       "</table>\n",
       "</div>"
      ],
      "text/plain": [
       "           freq_at_50  freq_at_rheobase       gain  is_monotonic   rheobase  \\\n",
       "cell_type                                                                     \n",
       "5HT          2.809460          1.647059  52.244907           1.0  33.793841   \n",
       "GABA         8.162006          3.285714  82.470465           0.5  11.318860   \n",
       "\n",
       "           spearman_p  spearman_rho  \n",
       "cell_type                            \n",
       "5HT          0.003074      0.962146  \n",
       "GABA         0.014457      0.585090  "
      ]
     },
     "execution_count": 7,
     "metadata": {},
     "output_type": "execute_result"
    }
   ],
   "source": [
    "param_df.groupby('cell_type').mean()"
   ]
  },
  {
   "cell_type": "code",
   "execution_count": 8,
   "metadata": {},
   "outputs": [
    {
     "data": {
      "text/html": [
       "<div>\n",
       "<style scoped>\n",
       "    .dataframe tbody tr th:only-of-type {\n",
       "        vertical-align: middle;\n",
       "    }\n",
       "\n",
       "    .dataframe tbody tr th {\n",
       "        vertical-align: top;\n",
       "    }\n",
       "\n",
       "    .dataframe thead th {\n",
       "        text-align: right;\n",
       "    }\n",
       "</style>\n",
       "<table border=\"1\" class=\"dataframe\">\n",
       "  <thead>\n",
       "    <tr style=\"text-align: right;\">\n",
       "      <th></th>\n",
       "      <th>freq_at_50</th>\n",
       "      <th>freq_at_rheobase</th>\n",
       "      <th>gain</th>\n",
       "      <th>is_monotonic</th>\n",
       "      <th>rheobase</th>\n",
       "      <th>spearman_p</th>\n",
       "      <th>spearman_rho</th>\n",
       "    </tr>\n",
       "    <tr>\n",
       "      <th>cell_type</th>\n",
       "      <th></th>\n",
       "      <th></th>\n",
       "      <th></th>\n",
       "      <th></th>\n",
       "      <th></th>\n",
       "      <th></th>\n",
       "      <th></th>\n",
       "    </tr>\n",
       "  </thead>\n",
       "  <tbody>\n",
       "    <tr>\n",
       "      <th>5HT</th>\n",
       "      <td>2.216851</td>\n",
       "      <td>0.996317</td>\n",
       "      <td>22.186426</td>\n",
       "      <td>0.000000</td>\n",
       "      <td>21.020583</td>\n",
       "      <td>0.010169</td>\n",
       "      <td>0.041269</td>\n",
       "    </tr>\n",
       "    <tr>\n",
       "      <th>GABA</th>\n",
       "      <td>5.697525</td>\n",
       "      <td>2.301457</td>\n",
       "      <td>100.272971</td>\n",
       "      <td>0.518875</td>\n",
       "      <td>15.987811</td>\n",
       "      <td>0.043493</td>\n",
       "      <td>0.664837</td>\n",
       "    </tr>\n",
       "  </tbody>\n",
       "</table>\n",
       "</div>"
      ],
      "text/plain": [
       "           freq_at_50  freq_at_rheobase        gain  is_monotonic   rheobase  \\\n",
       "cell_type                                                                      \n",
       "5HT          2.216851          0.996317   22.186426      0.000000  21.020583   \n",
       "GABA         5.697525          2.301457  100.272971      0.518875  15.987811   \n",
       "\n",
       "           spearman_p  spearman_rho  \n",
       "cell_type                            \n",
       "5HT          0.010169      0.041269  \n",
       "GABA         0.043493      0.664837  "
      ]
     },
     "execution_count": 8,
     "metadata": {},
     "output_type": "execute_result"
    }
   ],
   "source": [
    "param_df.groupby('cell_type').std()"
   ]
  },
  {
   "cell_type": "code",
   "execution_count": 9,
   "metadata": {},
   "outputs": [
    {
     "data": {
      "text/html": [
       "<div>\n",
       "<style scoped>\n",
       "    .dataframe tbody tr th:only-of-type {\n",
       "        vertical-align: middle;\n",
       "    }\n",
       "\n",
       "    .dataframe tbody tr th {\n",
       "        vertical-align: top;\n",
       "    }\n",
       "\n",
       "    .dataframe thead th {\n",
       "        text-align: right;\n",
       "    }\n",
       "</style>\n",
       "<table border=\"1\" class=\"dataframe\">\n",
       "  <thead>\n",
       "    <tr style=\"text-align: right;\">\n",
       "      <th></th>\n",
       "      <th>freq_at_50</th>\n",
       "      <th>freq_at_rheobase</th>\n",
       "      <th>gain</th>\n",
       "      <th>is_monotonic</th>\n",
       "      <th>rheobase</th>\n",
       "      <th>spearman_p</th>\n",
       "      <th>spearman_rho</th>\n",
       "    </tr>\n",
       "    <tr>\n",
       "      <th>cell_type</th>\n",
       "      <th></th>\n",
       "      <th></th>\n",
       "      <th></th>\n",
       "      <th></th>\n",
       "      <th></th>\n",
       "      <th></th>\n",
       "      <th></th>\n",
       "    </tr>\n",
       "  </thead>\n",
       "  <tbody>\n",
       "    <tr>\n",
       "      <th>5HT</th>\n",
       "      <td>0.537665</td>\n",
       "      <td>0.241642</td>\n",
       "      <td>5.380999</td>\n",
       "      <td>0.000000</td>\n",
       "      <td>5.098240</td>\n",
       "      <td>0.002466</td>\n",
       "      <td>0.010009</td>\n",
       "    </tr>\n",
       "    <tr>\n",
       "      <th>GABA</th>\n",
       "      <td>1.522728</td>\n",
       "      <td>0.615090</td>\n",
       "      <td>26.799079</td>\n",
       "      <td>0.138675</td>\n",
       "      <td>4.272922</td>\n",
       "      <td>0.011624</td>\n",
       "      <td>0.177685</td>\n",
       "    </tr>\n",
       "  </tbody>\n",
       "</table>\n",
       "</div>"
      ],
      "text/plain": [
       "           freq_at_50  freq_at_rheobase       gain  is_monotonic  rheobase  \\\n",
       "cell_type                                                                    \n",
       "5HT          0.537665          0.241642   5.380999      0.000000  5.098240   \n",
       "GABA         1.522728          0.615090  26.799079      0.138675  4.272922   \n",
       "\n",
       "           spearman_p  spearman_rho  \n",
       "cell_type                            \n",
       "5HT          0.002466      0.010009  \n",
       "GABA         0.011624      0.177685  "
      ]
     },
     "execution_count": 9,
     "metadata": {},
     "output_type": "execute_result"
    }
   ],
   "source": [
    "param_df.groupby('cell_type').sem()"
   ]
  },
  {
   "cell_type": "code",
   "execution_count": 10,
   "metadata": {},
   "outputs": [
    {
     "data": {
      "text/html": [
       "<div>\n",
       "<style scoped>\n",
       "    .dataframe tbody tr th:only-of-type {\n",
       "        vertical-align: middle;\n",
       "    }\n",
       "\n",
       "    .dataframe tbody tr th {\n",
       "        vertical-align: top;\n",
       "    }\n",
       "\n",
       "    .dataframe thead th {\n",
       "        text-align: right;\n",
       "    }\n",
       "</style>\n",
       "<table border=\"1\" class=\"dataframe\">\n",
       "  <thead>\n",
       "    <tr style=\"text-align: right;\">\n",
       "      <th></th>\n",
       "      <th>freq_at_50</th>\n",
       "      <th>freq_at_rheobase</th>\n",
       "      <th>gain</th>\n",
       "      <th>is_monotonic</th>\n",
       "      <th>rheobase</th>\n",
       "      <th>spearman_p</th>\n",
       "      <th>spearman_rho</th>\n",
       "    </tr>\n",
       "    <tr>\n",
       "      <th>cell_type</th>\n",
       "      <th></th>\n",
       "      <th></th>\n",
       "      <th></th>\n",
       "      <th></th>\n",
       "      <th></th>\n",
       "      <th></th>\n",
       "      <th></th>\n",
       "    </tr>\n",
       "  </thead>\n",
       "  <tbody>\n",
       "    <tr>\n",
       "      <th>5HT</th>\n",
       "      <td>17</td>\n",
       "      <td>17</td>\n",
       "      <td>17</td>\n",
       "      <td>17</td>\n",
       "      <td>17</td>\n",
       "      <td>17</td>\n",
       "      <td>17</td>\n",
       "    </tr>\n",
       "    <tr>\n",
       "      <th>GABA</th>\n",
       "      <td>14</td>\n",
       "      <td>14</td>\n",
       "      <td>14</td>\n",
       "      <td>14</td>\n",
       "      <td>14</td>\n",
       "      <td>14</td>\n",
       "      <td>14</td>\n",
       "    </tr>\n",
       "  </tbody>\n",
       "</table>\n",
       "</div>"
      ],
      "text/plain": [
       "           freq_at_50  freq_at_rheobase  gain  is_monotonic  rheobase  \\\n",
       "cell_type                                                               \n",
       "5HT                17                17    17            17        17   \n",
       "GABA               14                14    14            14        14   \n",
       "\n",
       "           spearman_p  spearman_rho  \n",
       "cell_type                            \n",
       "5HT                17            17  \n",
       "GABA               14            14  "
      ]
     },
     "execution_count": 10,
     "metadata": {},
     "output_type": "execute_result"
    }
   ],
   "source": [
    "param_df.groupby('cell_type').count()"
   ]
  },
  {
   "cell_type": "code",
   "execution_count": 11,
   "metadata": {},
   "outputs": [
    {
     "data": {
      "text/html": [
       "<div>\n",
       "<style scoped>\n",
       "    .dataframe tbody tr th:only-of-type {\n",
       "        vertical-align: middle;\n",
       "    }\n",
       "\n",
       "    .dataframe tbody tr th {\n",
       "        vertical-align: top;\n",
       "    }\n",
       "\n",
       "    .dataframe thead th {\n",
       "        text-align: right;\n",
       "    }\n",
       "</style>\n",
       "<table border=\"1\" class=\"dataframe\">\n",
       "  <thead>\n",
       "    <tr style=\"text-align: right;\">\n",
       "      <th></th>\n",
       "      <th>freq_at_50</th>\n",
       "      <th>freq_at_rheobase</th>\n",
       "      <th>gain</th>\n",
       "      <th>is_monotonic</th>\n",
       "      <th>rheobase</th>\n",
       "      <th>spearman_p</th>\n",
       "      <th>spearman_rho</th>\n",
       "    </tr>\n",
       "    <tr>\n",
       "      <th>cell_type</th>\n",
       "      <th></th>\n",
       "      <th></th>\n",
       "      <th></th>\n",
       "      <th></th>\n",
       "      <th></th>\n",
       "      <th></th>\n",
       "      <th></th>\n",
       "    </tr>\n",
       "  </thead>\n",
       "  <tbody>\n",
       "    <tr>\n",
       "      <th>5HT</th>\n",
       "      <td>2.809460</td>\n",
       "      <td>1.647059</td>\n",
       "      <td>52.244907</td>\n",
       "      <td>True</td>\n",
       "      <td>33.793841</td>\n",
       "      <td>0.003074</td>\n",
       "      <td>0.962146</td>\n",
       "    </tr>\n",
       "    <tr>\n",
       "      <th>GABA</th>\n",
       "      <td>7.446686</td>\n",
       "      <td>2.428571</td>\n",
       "      <td>138.857784</td>\n",
       "      <td>True</td>\n",
       "      <td>17.839088</td>\n",
       "      <td>0.000052</td>\n",
       "      <td>0.984587</td>\n",
       "    </tr>\n",
       "  </tbody>\n",
       "</table>\n",
       "</div>"
      ],
      "text/plain": [
       "           freq_at_50  freq_at_rheobase        gain  is_monotonic   rheobase  \\\n",
       "cell_type                                                                      \n",
       "5HT          2.809460          1.647059   52.244907          True  33.793841   \n",
       "GABA         7.446686          2.428571  138.857784          True  17.839088   \n",
       "\n",
       "           spearman_p  spearman_rho  \n",
       "cell_type                            \n",
       "5HT          0.003074      0.962146  \n",
       "GABA         0.000052      0.984587  "
      ]
     },
     "execution_count": 11,
     "metadata": {},
     "output_type": "execute_result"
    }
   ],
   "source": [
    "param_df.loc[param_df['is_monotonic'], :].groupby('cell_type').mean()"
   ]
  },
  {
   "cell_type": "code",
   "execution_count": 12,
   "metadata": {},
   "outputs": [
    {
     "data": {
      "text/html": [
       "<div>\n",
       "<style scoped>\n",
       "    .dataframe tbody tr th:only-of-type {\n",
       "        vertical-align: middle;\n",
       "    }\n",
       "\n",
       "    .dataframe tbody tr th {\n",
       "        vertical-align: top;\n",
       "    }\n",
       "\n",
       "    .dataframe thead th {\n",
       "        text-align: right;\n",
       "    }\n",
       "</style>\n",
       "<table border=\"1\" class=\"dataframe\">\n",
       "  <thead>\n",
       "    <tr style=\"text-align: right;\">\n",
       "      <th></th>\n",
       "      <th>gain</th>\n",
       "    </tr>\n",
       "    <tr>\n",
       "      <th>cell_type</th>\n",
       "      <th></th>\n",
       "    </tr>\n",
       "  </thead>\n",
       "  <tbody>\n",
       "    <tr>\n",
       "      <th>5HT</th>\n",
       "      <td>52.244907</td>\n",
       "    </tr>\n",
       "    <tr>\n",
       "      <th>GABA</th>\n",
       "      <td>138.857784</td>\n",
       "    </tr>\n",
       "  </tbody>\n",
       "</table>\n",
       "</div>"
      ],
      "text/plain": [
       "                 gain\n",
       "cell_type            \n",
       "5HT         52.244907\n",
       "GABA       138.857784"
      ]
     },
     "execution_count": 12,
     "metadata": {},
     "output_type": "execute_result"
    }
   ],
   "source": [
    "param_df.loc[param_df['is_monotonic'], ['gain', 'cell_type']].groupby('cell_type').mean()"
   ]
  },
  {
   "cell_type": "markdown",
   "metadata": {},
   "source": [
    "# Figures"
   ]
  },
  {
   "cell_type": "code",
   "execution_count": 13,
   "metadata": {},
   "outputs": [],
   "source": [
    "figsize=(0.9, 1)"
   ]
  },
  {
   "cell_type": "markdown",
   "metadata": {},
   "source": [
    "## Gain"
   ]
  },
  {
   "cell_type": "code",
   "execution_count": 14,
   "metadata": {},
   "outputs": [
    {
     "name": "stdout",
     "output_type": "stream",
     "text": [
      "p-value annotation legend:\n",
      "ns: 1.00e-01 < p <= 1.00e+00\n",
      "o: 5.00e-02 < p <= 1.00e-01\n",
      "*: 1.00e-02 < p <= 5.00e-02\n",
      "**: 1.00e-03 < p <= 1.00e-02\n",
      "***: 1.00e-04 < p <= 1.00e-03\n",
      "****: p <= 1.00e-04\n",
      "()\n",
      "5HT v.s. GABA: Mann-Whitney-Wilcoxon test two-sided with Bonferroni correction, P_val=7.643e-03 U_stat=1.700e+01\n"
     ]
    },
    {
     "data": {
      "image/png": "[encoded data removed]",
      "text/plain": [
       "<Figure size 108x120 with 1 Axes>"
      ]
     },
     "metadata": {
      "needs_background": "light"
     },
     "output_type": "display_data"
    }
   ],
   "source": [
    "plt.figure(figsize=figsize)\n",
    "\n",
    "plt.subplot(111)\n",
    "plt.subplots_adjust(left=0.5, right=0.95, top=0.6, bottom=0.05)\n",
    "ax = sns.boxplot(\n",
    "    'cell_type', \n",
    "    'gain', \n",
    "    data=param_df.loc[param_df['is_monotonic'], :], \n",
    "    order=['5HT', 'GABA'], \n",
    "    palette=[colors['ser'], colors['som']]\n",
    ")\n",
    "plt.xlabel('')\n",
    "add_stat_annotation(\n",
    "    ax=ax,\n",
    "    x='cell_type', \n",
    "    y='gain', \n",
    "    data=param_df.loc[param_df['is_monotonic'], :], \n",
    "    order=['5HT', 'GABA'], \n",
    "    box_pairs=[('5HT', 'GABA')],\n",
    "    pvalue_thresholds=pvalue_thresholds,\n",
    "    comparisons_correction='bonferroni',\n",
    "    test='Mann-Whitney',\n",
    "    loc='outside'\n",
    ")\n",
    "plt.yticks([0, 100, 200, 300])\n",
    "plt.ylabel(r'Gain (Hz/nA)')\n",
    "plt.xticks([])\n",
    "pltools.hide_border('trb', trim=True)\n",
    "\n",
    "if IMG_PATH is not None:\n",
    "    plt.savefig(os.path.join(IMG_PATH, 'gain_comparison.png'))\n",
    "    plt.savefig(os.path.join(IMG_PATH, 'gain_comparison.svg'))"
   ]
  },
  {
   "cell_type": "code",
   "execution_count": 15,
   "metadata": {},
   "outputs": [
    {
     "data": {
      "text/plain": [
       "LeveneResult(statistic=13.255745588520066, pvalue=0.0014421769704643795)"
      ]
     },
     "execution_count": 15,
     "metadata": {},
     "output_type": "execute_result"
    }
   ],
   "source": [
    "metric = 'gain'\n",
    "stats.levene(\n",
    "    param_df.loc[(param_df['cell_type'] == '5HT') & param_df['is_monotonic'], metric],\n",
    "    param_df.loc[(param_df['cell_type'] == 'GABA') & param_df['is_monotonic'], metric], \n",
    "    center='median'\n",
    ")"
   ]
  },
  {
   "cell_type": "markdown",
   "metadata": {},
   "source": [
    "## Rheobase"
   ]
  },
  {
   "cell_type": "code",
   "execution_count": 16,
   "metadata": {},
   "outputs": [
    {
     "name": "stdout",
     "output_type": "stream",
     "text": [
      "p-value annotation legend:\n",
      "ns: 1.00e-01 < p <= 1.00e+00\n",
      "o: 5.00e-02 < p <= 1.00e-01\n",
      "*: 1.00e-02 < p <= 5.00e-02\n",
      "**: 1.00e-03 < p <= 1.00e-02\n",
      "***: 1.00e-04 < p <= 1.00e-03\n",
      "****: p <= 1.00e-04\n",
      "()\n",
      "5HT v.s. GABA: Mann-Whitney-Wilcoxon test two-sided with Bonferroni correction, P_val=3.528e-03 U_stat=1.930e+02\n"
     ]
    },
    {
     "data": {
      "image/png": "[encoded data removed]",
      "text/plain": [
       "<Figure size 108x120 with 1 Axes>"
      ]
     },
     "metadata": {
      "needs_background": "light"
     },
     "output_type": "display_data"
    }
   ],
   "source": [
    "plt.figure(figsize=figsize)\n",
    "\n",
    "plt.subplot(111)\n",
    "plt.subplots_adjust(left=0.5, right=0.95, top=0.6, bottom=0.05)\n",
    "ax = sns.boxplot(\n",
    "    'cell_type', \n",
    "    'rheobase', \n",
    "    data=param_df, \n",
    "    order=['5HT', 'GABA'], \n",
    "    palette=[colors['ser'], colors['som']]\n",
    ")\n",
    "plt.xlabel('')\n",
    "add_stat_annotation(\n",
    "    ax=ax,\n",
    "    x='cell_type', \n",
    "    y='rheobase', \n",
    "    data=param_df, \n",
    "    order=['5HT', 'GABA'], \n",
    "    box_pairs=[('5HT', 'GABA')],\n",
    "    pvalue_thresholds=pvalue_thresholds,\n",
    "    comparisons_correction='bonferroni',\n",
    "    test='Mann-Whitney',\n",
    "    loc='outside'\n",
    ")\n",
    "plt.ylabel(r'Rheobase (pA)')\n",
    "plt.yticks([0, 25, 50])\n",
    "plt.xticks([])\n",
    "pltools.hide_border('trb', trim=True)\n",
    "\n",
    "if IMG_PATH is not None:\n",
    "    plt.savefig(os.path.join(IMG_PATH, 'rheobase_comparison.png'))\n",
    "    plt.savefig(os.path.join(IMG_PATH, 'rheobase_comparison.svg'))"
   ]
  },
  {
   "cell_type": "code",
   "execution_count": 17,
   "metadata": {},
   "outputs": [
    {
     "data": {
      "text/plain": [
       "LeveneResult(statistic=2.4537711078032363, pvalue=0.1280911193090033)"
      ]
     },
     "execution_count": 17,
     "metadata": {},
     "output_type": "execute_result"
    }
   ],
   "source": [
    "metric = 'rheobase'\n",
    "stats.levene(\n",
    "    param_df.loc[param_df['cell_type'] == '5HT', metric],\n",
    "    param_df.loc[param_df['cell_type'] == 'GABA', metric], \n",
    "    center='median'\n",
    ")"
   ]
  },
  {
   "cell_type": "markdown",
   "metadata": {},
   "source": [
    "## Frequency at rheobase"
   ]
  },
  {
   "cell_type": "code",
   "execution_count": 18,
   "metadata": {},
   "outputs": [
    {
     "name": "stdout",
     "output_type": "stream",
     "text": [
      "p-value annotation legend:\n",
      "ns: 1.00e-01 < p <= 1.00e+00\n",
      "o: 5.00e-02 < p <= 1.00e-01\n",
      "*: 1.00e-02 < p <= 5.00e-02\n",
      "**: 1.00e-03 < p <= 1.00e-02\n",
      "***: 1.00e-04 < p <= 1.00e-03\n",
      "****: p <= 1.00e-04\n",
      "()\n",
      "5HT v.s. GABA: Mann-Whitney-Wilcoxon test two-sided with Bonferroni correction, P_val=1.706e-02 U_stat=6.200e+01\n"
     ]
    },
    {
     "data": {
      "image/png": "[encoded data removed]",
      "text/plain": [
       "<Figure size 108x120 with 1 Axes>"
      ]
     },
     "metadata": {
      "needs_background": "light"
     },
     "output_type": "display_data"
    }
   ],
   "source": [
    "plt.figure(figsize=figsize)\n",
    "\n",
    "plt.subplot(111)\n",
    "plt.subplots_adjust(left=0.5, right=0.95, top=0.6, bottom=0.05)\n",
    "ax = sns.boxplot(\n",
    "    'cell_type', \n",
    "    'freq_at_rheobase', \n",
    "    data=param_df, \n",
    "    order=['5HT', 'GABA'], \n",
    "    palette=[colors['ser'], colors['som']],\n",
    "    fliersize=fliersize\n",
    ")\n",
    "plt.xlabel('')\n",
    "add_stat_annotation(\n",
    "    ax=ax,\n",
    "    x='cell_type', \n",
    "    y='freq_at_rheobase', \n",
    "    data=param_df, \n",
    "    order=['5HT', 'GABA'], \n",
    "    box_pairs=[('5HT', 'GABA')],\n",
    "    pvalue_thresholds=pvalue_thresholds,\n",
    "    comparisons_correction='bonferroni',\n",
    "    test='Mann-Whitney',\n",
    "    loc='outside'\n",
    ")\n",
    "plt.ylim(0, plt.ylim()[1])\n",
    "plt.ylabel(r'Min. firing rate (Hz)')\n",
    "plt.xticks([])\n",
    "plt.yticks([0, 2.5, 5, 7.5])\n",
    "pltools.hide_border('trb', trim=True)\n",
    "\n",
    "if IMG_PATH is not None:\n",
    "    plt.savefig(os.path.join(IMG_PATH, 'frequency_at_rheobase_comparison.png'))\n",
    "    plt.savefig(os.path.join(IMG_PATH, 'frequency_at_rheobase_comparison.svg'))"
   ]
  },
  {
   "cell_type": "code",
   "execution_count": 19,
   "metadata": {},
   "outputs": [
    {
     "data": {
      "text/plain": [
       "LeveneResult(statistic=3.7996523180152875, pvalue=0.0609939287427635)"
      ]
     },
     "execution_count": 19,
     "metadata": {},
     "output_type": "execute_result"
    }
   ],
   "source": [
    "metric = 'freq_at_rheobase'\n",
    "stats.levene(\n",
    "    param_df.loc[param_df['cell_type'] == '5HT', metric],\n",
    "    param_df.loc[param_df['cell_type'] == 'GABA', metric], \n",
    "    center='median'\n",
    ")"
   ]
  },
  {
   "cell_type": "markdown",
   "metadata": {},
   "source": [
    "## Frequency at 50pA\n",
    "\n",
    "Interpolated."
   ]
  },
  {
   "cell_type": "code",
   "execution_count": 20,
   "metadata": {},
   "outputs": [
    {
     "name": "stdout",
     "output_type": "stream",
     "text": [
      "p-value annotation legend:\n",
      "ns: 1.00e-01 < p <= 1.00e+00\n",
      "o: 5.00e-02 < p <= 1.00e-01\n",
      "*: 1.00e-02 < p <= 5.00e-02\n",
      "**: 1.00e-03 < p <= 1.00e-02\n",
      "***: 1.00e-04 < p <= 1.00e-03\n",
      "****: p <= 1.00e-04\n",
      "()\n",
      "5HT v.s. GABA: Mann-Whitney-Wilcoxon test two-sided with Bonferroni correction, P_val=2.214e-03 U_stat=4.150e+01\n"
     ]
    },
    {
     "data": {
      "image/png": "[encoded data removed]",
      "text/plain": [
       "<Figure size 108x120 with 1 Axes>"
      ]
     },
     "metadata": {
      "needs_background": "light"
     },
     "output_type": "display_data"
    }
   ],
   "source": [
    "plt.figure(figsize=figsize)\n",
    "\n",
    "plt.subplot(111)\n",
    "plt.subplots_adjust(left=0.5, right=0.95, top=0.6, bottom=0.05)\n",
    "ax = sns.boxplot(\n",
    "    'cell_type', \n",
    "    'freq_at_50', \n",
    "    data=param_df, \n",
    "    order=['5HT', 'GABA'], \n",
    "    palette=[colors['ser'], colors['som']],\n",
    "    fliersize=fliersize\n",
    ")\n",
    "plt.xlabel('')\n",
    "add_stat_annotation(\n",
    "    ax=ax,\n",
    "    x='cell_type', \n",
    "    y='freq_at_50', \n",
    "    data=param_df, \n",
    "    order=['5HT', 'GABA'], \n",
    "    box_pairs=[('5HT', 'GABA')],\n",
    "    pvalue_thresholds=pvalue_thresholds,\n",
    "    comparisons_correction='bonferroni',\n",
    "    test='Mann-Whitney',\n",
    "    loc='outside'\n",
    ")\n",
    "plt.ylabel('Firing rate at\\n$50$ pA (Hz)')\n",
    "plt.xticks([])\n",
    "pltools.hide_border('trb', trim=True)\n",
    "\n",
    "if IMG_PATH is not None:\n",
    "    plt.savefig(os.path.join(IMG_PATH, 'frequency_at_50_comparison.png'))\n",
    "    plt.savefig(os.path.join(IMG_PATH, 'frequency_at_50_comparison.svg'))"
   ]
  },
  {
   "cell_type": "code",
   "execution_count": 21,
   "metadata": {},
   "outputs": [
    {
     "data": {
      "text/plain": [
       "LeveneResult(statistic=9.028800753189026, pvalue=0.005433750610301978)"
      ]
     },
     "execution_count": 21,
     "metadata": {},
     "output_type": "execute_result"
    }
   ],
   "source": [
    "metric = 'freq_at_50'\n",
    "stats.levene(\n",
    "    param_df.loc[param_df['cell_type'] == '5HT', metric],\n",
    "    param_df.loc[param_df['cell_type'] == 'GABA', metric], \n",
    "    center='median'\n",
    ")"
   ]
  },
  {
   "cell_type": "markdown",
   "metadata": {},
   "source": [
    "## Spearman rho"
   ]
  },
  {
   "cell_type": "code",
   "execution_count": 22,
   "metadata": {},
   "outputs": [
    {
     "name": "stdout",
     "output_type": "stream",
     "text": [
      "p-value annotation legend:\n",
      "ns: 1.00e-01 < p <= 1.00e+00\n",
      "o: 5.00e-02 < p <= 1.00e-01\n",
      "*: 1.00e-02 < p <= 5.00e-02\n",
      "**: 1.00e-03 < p <= 1.00e-02\n",
      "***: 1.00e-04 < p <= 1.00e-03\n",
      "****: p <= 1.00e-04\n",
      "()\n",
      "5HT v.s. GABA: Mann-Whitney-Wilcoxon test two-sided with Bonferroni correction, P_val=3.715e-01 U_stat=1.420e+02\n"
     ]
    },
    {
     "data": {
      "image/png": "[encoded data removed]",
      "text/plain": [
       "<Figure size 108x120 with 1 Axes>"
      ]
     },
     "metadata": {
      "needs_background": "light"
     },
     "output_type": "display_data"
    }
   ],
   "source": [
    "plt.figure(figsize=figsize)\n",
    "\n",
    "plt.subplot(111)\n",
    "plt.subplots_adjust(left=0.5, right=0.95, top=0.6, bottom=0.05)\n",
    "ax = sns.boxplot(\n",
    "    'cell_type', \n",
    "    'spearman_rho', \n",
    "    data=param_df, \n",
    "    order=['5HT', 'GABA'], \n",
    "    palette=[colors['ser'], colors['som']],\n",
    "    fliersize=fliersize\n",
    ")\n",
    "plt.xlabel('')\n",
    "add_stat_annotation(\n",
    "    ax=ax,\n",
    "    x='cell_type', \n",
    "    y='spearman_rho', \n",
    "    data=param_df, \n",
    "    order=['5HT', 'GABA'], \n",
    "    box_pairs=[('5HT', 'GABA')],\n",
    "    pvalue_thresholds=pvalue_thresholds,\n",
    "    comparisons_correction='bonferroni',\n",
    "    test='Mann-Whitney',\n",
    "    loc='outside'\n",
    ")\n",
    "plt.ylabel(r'Spearman $\\rho$')\n",
    "plt.yticks([-1, 0, 1])\n",
    "plt.xticks([])\n",
    "pltools.hide_border('trb', trim=True)\n",
    "\n",
    "if IMG_PATH is not None:\n",
    "    plt.savefig(os.path.join(IMG_PATH, 'spearman_comparison.png'))\n",
    "    plt.savefig(os.path.join(IMG_PATH, 'spearman_comparison.svg'))"
   ]
  },
  {
   "cell_type": "code",
   "execution_count": 23,
   "metadata": {},
   "outputs": [
    {
     "data": {
      "text/plain": [
       "LeveneResult(statistic=6.32439837359216, pvalue=0.017706983706007196)"
      ]
     },
     "execution_count": 23,
     "metadata": {},
     "output_type": "execute_result"
    }
   ],
   "source": [
    "metric = 'spearman_rho'\n",
    "stats.levene(\n",
    "    param_df.loc[param_df['cell_type'] == '5HT', metric],\n",
    "    param_df.loc[param_df['cell_type'] == 'GABA', metric], \n",
    "    center='median'\n",
    ")"
   ]
  },
  {
   "cell_type": "markdown",
   "metadata": {},
   "source": [
    "## Proportion of cells with monotonic $f/I$ curves"
   ]
  },
  {
   "cell_type": "code",
   "execution_count": 24,
   "metadata": {},
   "outputs": [
    {
     "data": {
      "image/png": "[encoded data removed]",
      "text/plain": [
       "<Figure size 120x120 with 1 Axes>"
      ]
     },
     "metadata": {
      "needs_background": "light"
     },
     "output_type": "display_data"
    }
   ],
   "source": [
    "plt.figure(figsize=(1, 1))\n",
    "\n",
    "plt.subplot(111)\n",
    "plt.subplots_adjust(left=0.5, right=0.95, top=0.6, bottom=0.05)\n",
    "sns.barplot(\n",
    "    'cell_type', \n",
    "    'is_monotonic', \n",
    "    data=param_df, \n",
    "    order=['5HT', 'GABA'], \n",
    "    palette=[colors['ser'], colors['som']], \n",
    "    ci=None\n",
    ")\n",
    "plt.ylabel('Proportion\\nmonotonic')\n",
    "plt.xlabel('')\n",
    "plt.xticks([])\n",
    "pltools.hide_border('trb', trim=True)\n",
    "\n",
    "if IMG_PATH is not None:\n",
    "    plt.savefig(os.path.join(IMG_PATH, 'monotonic_comparison.png'))\n",
    "    plt.savefig(os.path.join(IMG_PATH, 'monotonic_comparison.svg'))"
   ]
  },
  {
   "cell_type": "markdown",
   "metadata": {},
   "source": [
    "### Family-wise test\n",
    "\n",
    "First, test contingency between monotonicity and cell-type."
   ]
  },
  {
   "cell_type": "code",
   "execution_count": 25,
   "metadata": {},
   "outputs": [
    {
     "ename": "ValueError",
     "evalue": "The internally computed table of expected frequencies has a zero element at (2, 0).",
     "output_type": "error",
     "traceback": [
      "\u001b[0;31m---------------------------------------------------------------------------\u001b[0m",
      "\u001b[0;31mValueError\u001b[0m                                Traceback (most recent call last)",
      "\u001b[0;32m<ipython-input-25-66a0fce48d54>\u001b[0m in \u001b[0;36m<module>\u001b[0;34m()\u001b[0m\n\u001b[1;32m      7\u001b[0m     sum(~param_df.loc[param_df['cell_type'] == 'mPFC', 'is_monotonic'])],\n\u001b[1;32m      8\u001b[0m ]\n\u001b[0;32m----> 9\u001b[0;31m \u001b[0mstats\u001b[0m\u001b[0;34m.\u001b[0m\u001b[0mchi2_contingency\u001b[0m\u001b[0;34m(\u001b[0m\u001b[0mcontingency\u001b[0m\u001b[0;34m)\u001b[0m\u001b[0;34m\u001b[0m\u001b[0m\n\u001b[0m",
      "\u001b[0;32m/miniconda3/envs/neopozz/lib/python2.7/site-packages/scipy/stats/contingency.pyc\u001b[0m in \u001b[0;36mchi2_contingency\u001b[0;34m(observed, correction, lambda_)\u001b[0m\n\u001b[1;32m    252\u001b[0m         \u001b[0mzeropos\u001b[0m \u001b[0;34m=\u001b[0m \u001b[0mlist\u001b[0m\u001b[0;34m(\u001b[0m\u001b[0mzip\u001b[0m\u001b[0;34m(\u001b[0m\u001b[0;34m*\u001b[0m\u001b[0mnp\u001b[0m\u001b[0;34m.\u001b[0m\u001b[0mnonzero\u001b[0m\u001b[0;34m(\u001b[0m\u001b[0mexpected\u001b[0m \u001b[0;34m==\u001b[0m \u001b[0;36m0\u001b[0m\u001b[0;34m)\u001b[0m\u001b[0;34m)\u001b[0m\u001b[0;34m)\u001b[0m\u001b[0;34m[\u001b[0m\u001b[0;36m0\u001b[0m\u001b[0;34m]\u001b[0m\u001b[0;34m\u001b[0m\u001b[0m\n\u001b[1;32m    253\u001b[0m         raise ValueError(\"The internally computed table of expected \"\n\u001b[0;32m--> 254\u001b[0;31m                          \"frequencies has a zero element at %s.\" % (zeropos,))\n\u001b[0m\u001b[1;32m    255\u001b[0m \u001b[0;34m\u001b[0m\u001b[0m\n\u001b[1;32m    256\u001b[0m     \u001b[0;31m# The degrees of freedom\u001b[0m\u001b[0;34m\u001b[0m\u001b[0;34m\u001b[0m\u001b[0m\n",
      "\u001b[0;31mValueError\u001b[0m: The internally computed table of expected frequencies has a zero element at (2, 0)."
     ]
    }
   ],
   "source": [
    "contingency = [\n",
    "    [sum(param_df.loc[param_df['cell_type'] == '5HT', 'is_monotonic']),\n",
    "    sum(~param_df.loc[param_df['cell_type'] == '5HT', 'is_monotonic'])],\n",
    "    [sum(param_df.loc[param_df['cell_type'] == 'GABA', 'is_monotonic']),\n",
    "    sum(~param_df.loc[param_df['cell_type'] == 'GABA', 'is_monotonic'])],\n",
    "    [sum(param_df.loc[param_df['cell_type'] == 'mPFC', 'is_monotonic']),\n",
    "    sum(~param_df.loc[param_df['cell_type'] == 'mPFC', 'is_monotonic'])],\n",
    "]\n",
    "stats.chi2_contingency(contingency)"
   ]
  },
  {
   "cell_type": "markdown",
   "metadata": {},
   "source": [
    "Second number is the p-value."
   ]
  },
  {
   "cell_type": "markdown",
   "metadata": {},
   "source": [
    "### Pairwise tests"
   ]
  },
  {
   "cell_type": "code",
   "execution_count": null,
   "metadata": {},
   "outputs": [],
   "source": [
    "def generate_all_pairs(values):\n",
    "    pairs = []\n",
    "    for i in range(len(values) - 1):\n",
    "        for j in range(i + 1, len(values)):\n",
    "            pairs.append((values[i], values[j]))\n",
    "    return pairs\n",
    "\n",
    "generate_all_pairs(['one', 'two', 'three'])"
   ]
  },
  {
   "cell_type": "code",
   "execution_count": null,
   "metadata": {},
   "outputs": [],
   "source": [
    "def pairwise_proportion_test(grouping_variable, outcome_variable, data):\n",
    "    \"\"\"Bonferroni-corrected pairwise Chi^2 contingency tests.\"\"\"\n",
    "    pairs = generate_all_pairs(data[grouping_variable].unique())\n",
    "    p_values = []\n",
    "    for group1, group2 in pairs:\n",
    "        contingency = [\n",
    "            [sum(data.loc[data[grouping_variable] == group1, outcome_variable]),\n",
    "            sum(~data.loc[data[grouping_variable] == group1, outcome_variable])],\n",
    "            [sum(data.loc[data[grouping_variable] == group2, outcome_variable]),\n",
    "            sum(~data.loc[data[grouping_variable] == group2, outcome_variable])]\n",
    "        ]\n",
    "        pvalue = stats.chi2_contingency(contingency)[1]\n",
    "        p_values.append(pvalue * len(pairs))  # Bonferroni correction applied here.\n",
    "    result = pd.DataFrame({'pair': pairs, 'p_value': p_values})\n",
    "    return result"
   ]
  },
  {
   "cell_type": "code",
   "execution_count": null,
   "metadata": {},
   "outputs": [],
   "source": [
    "pairwise_proportion_test('cell_type', 'is_monotonic', param_df)"
   ]
  }
 ],
 "metadata": {
  "kernelspec": {
   "display_name": "Python 2",
   "language": "python",
   "name": "python2"
  },
  "language_info": {
   "codemirror_mode": {
    "name": "ipython",
    "version": 2
   },
   "file_extension": ".py",
   "mimetype": "text/x-python",
   "name": "python",
   "nbconvert_exporter": "python",
   "pygments_lexer": "ipython2",
   "version": "2.7.15"
  }
 },
 "nbformat": 4,
 "nbformat_minor": 2
}

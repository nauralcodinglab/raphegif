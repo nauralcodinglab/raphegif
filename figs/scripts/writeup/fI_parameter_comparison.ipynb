{
 "cells": [
  {
   "cell_type": "code",
   "execution_count": 1,
   "metadata": {},
   "outputs": [],
   "source": [
    "from common import colors, pvalue_thresholds"
   ]
  },
  {
   "cell_type": "code",
   "execution_count": 2,
   "metadata": {},
   "outputs": [
    {
     "name": "stdout",
     "output_type": "stream",
     "text": [
      "/Users/eharkin/Documents/projects/5HTGIF\n"
     ]
    }
   ],
   "source": [
    "import os\n",
    "os.chdir(os.path.join('..', '..', '..'))\n",
    "print(os.getcwd())"
   ]
  },
  {
   "cell_type": "code",
   "execution_count": 3,
   "metadata": {},
   "outputs": [],
   "source": [
    "import pandas as pd\n",
    "import matplotlib.pyplot as plt\n",
    "import numpy as np\n",
    "import seaborn as sns\n",
    "from scipy import stats\n",
    "from ezephys import pltools\n",
    "from statannot import add_stat_annotation\n",
    "\n",
    "from grr.Tools import stripNan"
   ]
  },
  {
   "cell_type": "code",
   "execution_count": 4,
   "metadata": {},
   "outputs": [],
   "source": [
    "IMG_PATH = os.path.join('figs', 'ims', 'writeup', 'fig1')\n",
    "NOTEBOOK_PATH = os.path.join('figs', 'scripts', 'writeup')\n",
    "\n",
    "plt.style.use(os.path.join(NOTEBOOK_PATH, 'publication_figure_style.dms'))"
   ]
  },
  {
   "cell_type": "markdown",
   "metadata": {},
   "source": [
    "# Load $f/I$ parameters"
   ]
  },
  {
   "cell_type": "code",
   "execution_count": 5,
   "metadata": {},
   "outputs": [
    {
     "data": {
      "text/html": [
       "<div>\n",
       "<style scoped>\n",
       "    .dataframe tbody tr th:only-of-type {\n",
       "        vertical-align: middle;\n",
       "    }\n",
       "\n",
       "    .dataframe tbody tr th {\n",
       "        vertical-align: top;\n",
       "    }\n",
       "\n",
       "    .dataframe thead th {\n",
       "        text-align: right;\n",
       "    }\n",
       "</style>\n",
       "<table border=\"1\" class=\"dataframe\">\n",
       "  <thead>\n",
       "    <tr style=\"text-align: right;\">\n",
       "      <th></th>\n",
       "      <th>gain</th>\n",
       "      <th>is_monotonic</th>\n",
       "      <th>rheobase</th>\n",
       "      <th>cell_type</th>\n",
       "    </tr>\n",
       "  </thead>\n",
       "  <tbody>\n",
       "    <tr>\n",
       "      <th>0</th>\n",
       "      <td>0.074977</td>\n",
       "      <td>True</td>\n",
       "      <td>8.766868</td>\n",
       "      <td>5HT</td>\n",
       "    </tr>\n",
       "    <tr>\n",
       "      <th>1</th>\n",
       "      <td>0.037190</td>\n",
       "      <td>True</td>\n",
       "      <td>54.663452</td>\n",
       "      <td>5HT</td>\n",
       "    </tr>\n",
       "    <tr>\n",
       "      <th>2</th>\n",
       "      <td>0.085683</td>\n",
       "      <td>True</td>\n",
       "      <td>60.045643</td>\n",
       "      <td>5HT</td>\n",
       "    </tr>\n",
       "    <tr>\n",
       "      <th>3</th>\n",
       "      <td>0.042441</td>\n",
       "      <td>True</td>\n",
       "      <td>64.524641</td>\n",
       "      <td>5HT</td>\n",
       "    </tr>\n",
       "    <tr>\n",
       "      <th>4</th>\n",
       "      <td>0.106712</td>\n",
       "      <td>True</td>\n",
       "      <td>16.735346</td>\n",
       "      <td>5HT</td>\n",
       "    </tr>\n",
       "    <tr>\n",
       "      <th>5</th>\n",
       "      <td>0.039304</td>\n",
       "      <td>True</td>\n",
       "      <td>59.471666</td>\n",
       "      <td>5HT</td>\n",
       "    </tr>\n",
       "    <tr>\n",
       "      <th>6</th>\n",
       "      <td>0.044860</td>\n",
       "      <td>True</td>\n",
       "      <td>44.279461</td>\n",
       "      <td>5HT</td>\n",
       "    </tr>\n",
       "    <tr>\n",
       "      <th>7</th>\n",
       "      <td>0.051668</td>\n",
       "      <td>True</td>\n",
       "      <td>8.477907</td>\n",
       "      <td>5HT</td>\n",
       "    </tr>\n",
       "    <tr>\n",
       "      <th>8</th>\n",
       "      <td>0.052506</td>\n",
       "      <td>True</td>\n",
       "      <td>50.878105</td>\n",
       "      <td>5HT</td>\n",
       "    </tr>\n",
       "    <tr>\n",
       "      <th>9</th>\n",
       "      <td>0.030544</td>\n",
       "      <td>True</td>\n",
       "      <td>30.874911</td>\n",
       "      <td>5HT</td>\n",
       "    </tr>\n",
       "    <tr>\n",
       "      <th>10</th>\n",
       "      <td>0.073380</td>\n",
       "      <td>True</td>\n",
       "      <td>0.511339</td>\n",
       "      <td>5HT</td>\n",
       "    </tr>\n",
       "    <tr>\n",
       "      <th>11</th>\n",
       "      <td>0.049064</td>\n",
       "      <td>True</td>\n",
       "      <td>11.563511</td>\n",
       "      <td>5HT</td>\n",
       "    </tr>\n",
       "    <tr>\n",
       "      <th>12</th>\n",
       "      <td>0.036683</td>\n",
       "      <td>True</td>\n",
       "      <td>50.991914</td>\n",
       "      <td>5HT</td>\n",
       "    </tr>\n",
       "    <tr>\n",
       "      <th>13</th>\n",
       "      <td>0.034894</td>\n",
       "      <td>True</td>\n",
       "      <td>32.528779</td>\n",
       "      <td>5HT</td>\n",
       "    </tr>\n",
       "    <tr>\n",
       "      <th>14</th>\n",
       "      <td>0.025223</td>\n",
       "      <td>True</td>\n",
       "      <td>14.484321</td>\n",
       "      <td>5HT</td>\n",
       "    </tr>\n",
       "    <tr>\n",
       "      <th>15</th>\n",
       "      <td>0.067748</td>\n",
       "      <td>True</td>\n",
       "      <td>25.816700</td>\n",
       "      <td>5HT</td>\n",
       "    </tr>\n",
       "    <tr>\n",
       "      <th>16</th>\n",
       "      <td>0.035285</td>\n",
       "      <td>True</td>\n",
       "      <td>39.880741</td>\n",
       "      <td>5HT</td>\n",
       "    </tr>\n",
       "    <tr>\n",
       "      <th>17</th>\n",
       "      <td>0.065241</td>\n",
       "      <td>True</td>\n",
       "      <td>53.728813</td>\n",
       "      <td>mPFC</td>\n",
       "    </tr>\n",
       "    <tr>\n",
       "      <th>18</th>\n",
       "      <td>0.060019</td>\n",
       "      <td>True</td>\n",
       "      <td>-20.294496</td>\n",
       "      <td>mPFC</td>\n",
       "    </tr>\n",
       "    <tr>\n",
       "      <th>19</th>\n",
       "      <td>0.069613</td>\n",
       "      <td>True</td>\n",
       "      <td>98.904689</td>\n",
       "      <td>mPFC</td>\n",
       "    </tr>\n",
       "    <tr>\n",
       "      <th>20</th>\n",
       "      <td>0.058592</td>\n",
       "      <td>True</td>\n",
       "      <td>66.837195</td>\n",
       "      <td>mPFC</td>\n",
       "    </tr>\n",
       "    <tr>\n",
       "      <th>21</th>\n",
       "      <td>NaN</td>\n",
       "      <td>False</td>\n",
       "      <td>56.535813</td>\n",
       "      <td>mPFC</td>\n",
       "    </tr>\n",
       "    <tr>\n",
       "      <th>22</th>\n",
       "      <td>NaN</td>\n",
       "      <td>False</td>\n",
       "      <td>19.251351</td>\n",
       "      <td>mPFC</td>\n",
       "    </tr>\n",
       "    <tr>\n",
       "      <th>23</th>\n",
       "      <td>0.052276</td>\n",
       "      <td>True</td>\n",
       "      <td>63.784819</td>\n",
       "      <td>mPFC</td>\n",
       "    </tr>\n",
       "    <tr>\n",
       "      <th>24</th>\n",
       "      <td>NaN</td>\n",
       "      <td>False</td>\n",
       "      <td>0.508996</td>\n",
       "      <td>GABA</td>\n",
       "    </tr>\n",
       "    <tr>\n",
       "      <th>25</th>\n",
       "      <td>NaN</td>\n",
       "      <td>False</td>\n",
       "      <td>-4.507909</td>\n",
       "      <td>GABA</td>\n",
       "    </tr>\n",
       "    <tr>\n",
       "      <th>26</th>\n",
       "      <td>0.080639</td>\n",
       "      <td>True</td>\n",
       "      <td>0.505605</td>\n",
       "      <td>GABA</td>\n",
       "    </tr>\n",
       "    <tr>\n",
       "      <th>27</th>\n",
       "      <td>NaN</td>\n",
       "      <td>False</td>\n",
       "      <td>-12.489766</td>\n",
       "      <td>GABA</td>\n",
       "    </tr>\n",
       "    <tr>\n",
       "      <th>28</th>\n",
       "      <td>0.156894</td>\n",
       "      <td>True</td>\n",
       "      <td>46.084441</td>\n",
       "      <td>GABA</td>\n",
       "    </tr>\n",
       "    <tr>\n",
       "      <th>29</th>\n",
       "      <td>NaN</td>\n",
       "      <td>False</td>\n",
       "      <td>15.714457</td>\n",
       "      <td>GABA</td>\n",
       "    </tr>\n",
       "    <tr>\n",
       "      <th>30</th>\n",
       "      <td>0.218902</td>\n",
       "      <td>True</td>\n",
       "      <td>20.592707</td>\n",
       "      <td>GABA</td>\n",
       "    </tr>\n",
       "    <tr>\n",
       "      <th>31</th>\n",
       "      <td>0.036083</td>\n",
       "      <td>True</td>\n",
       "      <td>7.604364</td>\n",
       "      <td>GABA</td>\n",
       "    </tr>\n",
       "    <tr>\n",
       "      <th>32</th>\n",
       "      <td>0.282292</td>\n",
       "      <td>True</td>\n",
       "      <td>22.696015</td>\n",
       "      <td>GABA</td>\n",
       "    </tr>\n",
       "    <tr>\n",
       "      <th>33</th>\n",
       "      <td>0.075049</td>\n",
       "      <td>True</td>\n",
       "      <td>4.613148</td>\n",
       "      <td>GABA</td>\n",
       "    </tr>\n",
       "    <tr>\n",
       "      <th>34</th>\n",
       "      <td>NaN</td>\n",
       "      <td>False</td>\n",
       "      <td>7.578162</td>\n",
       "      <td>GABA</td>\n",
       "    </tr>\n",
       "    <tr>\n",
       "      <th>35</th>\n",
       "      <td>0.122145</td>\n",
       "      <td>True</td>\n",
       "      <td>22.777334</td>\n",
       "      <td>GABA</td>\n",
       "    </tr>\n",
       "    <tr>\n",
       "      <th>36</th>\n",
       "      <td>NaN</td>\n",
       "      <td>False</td>\n",
       "      <td>30.939522</td>\n",
       "      <td>GABA</td>\n",
       "    </tr>\n",
       "    <tr>\n",
       "      <th>37</th>\n",
       "      <td>NaN</td>\n",
       "      <td>False</td>\n",
       "      <td>-4.153042</td>\n",
       "      <td>GABA</td>\n",
       "    </tr>\n",
       "  </tbody>\n",
       "</table>\n",
       "</div>"
      ],
      "text/plain": [
       "        gain  is_monotonic   rheobase cell_type\n",
       "0   0.074977          True   8.766868       5HT\n",
       "1   0.037190          True  54.663452       5HT\n",
       "2   0.085683          True  60.045643       5HT\n",
       "3   0.042441          True  64.524641       5HT\n",
       "4   0.106712          True  16.735346       5HT\n",
       "5   0.039304          True  59.471666       5HT\n",
       "6   0.044860          True  44.279461       5HT\n",
       "7   0.051668          True   8.477907       5HT\n",
       "8   0.052506          True  50.878105       5HT\n",
       "9   0.030544          True  30.874911       5HT\n",
       "10  0.073380          True   0.511339       5HT\n",
       "11  0.049064          True  11.563511       5HT\n",
       "12  0.036683          True  50.991914       5HT\n",
       "13  0.034894          True  32.528779       5HT\n",
       "14  0.025223          True  14.484321       5HT\n",
       "15  0.067748          True  25.816700       5HT\n",
       "16  0.035285          True  39.880741       5HT\n",
       "17  0.065241          True  53.728813      mPFC\n",
       "18  0.060019          True -20.294496      mPFC\n",
       "19  0.069613          True  98.904689      mPFC\n",
       "20  0.058592          True  66.837195      mPFC\n",
       "21       NaN         False  56.535813      mPFC\n",
       "22       NaN         False  19.251351      mPFC\n",
       "23  0.052276          True  63.784819      mPFC\n",
       "24       NaN         False   0.508996      GABA\n",
       "25       NaN         False  -4.507909      GABA\n",
       "26  0.080639          True   0.505605      GABA\n",
       "27       NaN         False -12.489766      GABA\n",
       "28  0.156894          True  46.084441      GABA\n",
       "29       NaN         False  15.714457      GABA\n",
       "30  0.218902          True  20.592707      GABA\n",
       "31  0.036083          True   7.604364      GABA\n",
       "32  0.282292          True  22.696015      GABA\n",
       "33  0.075049          True   4.613148      GABA\n",
       "34       NaN         False   7.578162      GABA\n",
       "35  0.122145          True  22.777334      GABA\n",
       "36       NaN         False  30.939522      GABA\n",
       "37       NaN         False  -4.153042      GABA"
      ]
     },
     "execution_count": 5,
     "metadata": {},
     "output_type": "execute_result"
    }
   ],
   "source": [
    "data = {\n",
    "    celltype: pd.read_csv(os.path.join('data', 'processed', celltype, 'current_steps_gain.csv'))\n",
    "    for celltype in ['5HT', 'GABA', 'mPFC']\n",
    "}\n",
    "for celltype in data:\n",
    "    data[celltype]['cell_type'] = celltype\n",
    "param_df = pd.concat([data[celltype] for celltype in data], axis=0)\n",
    "param_df.reset_index(drop=True, inplace=True)\n",
    "\n",
    "param_df"
   ]
  },
  {
   "cell_type": "code",
   "execution_count": 6,
   "metadata": {},
   "outputs": [],
   "source": [
    "param_df['gain'] *= 1e3  # Convert to Hz/nA from Hz/pA"
   ]
  },
  {
   "cell_type": "markdown",
   "metadata": {},
   "source": [
    "## Summary statistics"
   ]
  },
  {
   "cell_type": "code",
   "execution_count": 7,
   "metadata": {},
   "outputs": [
    {
     "data": {
      "text/html": [
       "<div>\n",
       "<style scoped>\n",
       "    .dataframe tbody tr th:only-of-type {\n",
       "        vertical-align: middle;\n",
       "    }\n",
       "\n",
       "    .dataframe tbody tr th {\n",
       "        vertical-align: top;\n",
       "    }\n",
       "\n",
       "    .dataframe thead th {\n",
       "        text-align: right;\n",
       "    }\n",
       "</style>\n",
       "<table border=\"1\" class=\"dataframe\">\n",
       "  <thead>\n",
       "    <tr style=\"text-align: right;\">\n",
       "      <th></th>\n",
       "      <th>gain</th>\n",
       "      <th>is_monotonic</th>\n",
       "      <th>rheobase</th>\n",
       "    </tr>\n",
       "    <tr>\n",
       "      <th>cell_type</th>\n",
       "      <th></th>\n",
       "      <th></th>\n",
       "      <th></th>\n",
       "    </tr>\n",
       "  </thead>\n",
       "  <tbody>\n",
       "    <tr>\n",
       "      <th>5HT</th>\n",
       "      <td>52.244907</td>\n",
       "      <td>1.000000</td>\n",
       "      <td>33.793841</td>\n",
       "    </tr>\n",
       "    <tr>\n",
       "      <th>GABA</th>\n",
       "      <td>138.857784</td>\n",
       "      <td>0.500000</td>\n",
       "      <td>11.318860</td>\n",
       "    </tr>\n",
       "    <tr>\n",
       "      <th>mPFC</th>\n",
       "      <td>61.148129</td>\n",
       "      <td>0.714286</td>\n",
       "      <td>48.392598</td>\n",
       "    </tr>\n",
       "  </tbody>\n",
       "</table>\n",
       "</div>"
      ],
      "text/plain": [
       "                 gain  is_monotonic   rheobase\n",
       "cell_type                                     \n",
       "5HT         52.244907      1.000000  33.793841\n",
       "GABA       138.857784      0.500000  11.318860\n",
       "mPFC        61.148129      0.714286  48.392598"
      ]
     },
     "execution_count": 7,
     "metadata": {},
     "output_type": "execute_result"
    }
   ],
   "source": [
    "param_df.groupby('cell_type').mean()"
   ]
  },
  {
   "cell_type": "code",
   "execution_count": 8,
   "metadata": {},
   "outputs": [
    {
     "data": {
      "text/html": [
       "<div>\n",
       "<style scoped>\n",
       "    .dataframe tbody tr th:only-of-type {\n",
       "        vertical-align: middle;\n",
       "    }\n",
       "\n",
       "    .dataframe tbody tr th {\n",
       "        vertical-align: top;\n",
       "    }\n",
       "\n",
       "    .dataframe thead th {\n",
       "        text-align: right;\n",
       "    }\n",
       "</style>\n",
       "<table border=\"1\" class=\"dataframe\">\n",
       "  <thead>\n",
       "    <tr style=\"text-align: right;\">\n",
       "      <th></th>\n",
       "      <th>gain</th>\n",
       "      <th>is_monotonic</th>\n",
       "      <th>rheobase</th>\n",
       "    </tr>\n",
       "    <tr>\n",
       "      <th>cell_type</th>\n",
       "      <th></th>\n",
       "      <th></th>\n",
       "      <th></th>\n",
       "    </tr>\n",
       "  </thead>\n",
       "  <tbody>\n",
       "    <tr>\n",
       "      <th>5HT</th>\n",
       "      <td>22.186426</td>\n",
       "      <td>0.000000</td>\n",
       "      <td>21.020583</td>\n",
       "    </tr>\n",
       "    <tr>\n",
       "      <th>GABA</th>\n",
       "      <td>87.186306</td>\n",
       "      <td>0.518875</td>\n",
       "      <td>15.987811</td>\n",
       "    </tr>\n",
       "    <tr>\n",
       "      <th>mPFC</th>\n",
       "      <td>6.612934</td>\n",
       "      <td>0.487950</td>\n",
       "      <td>38.276432</td>\n",
       "    </tr>\n",
       "  </tbody>\n",
       "</table>\n",
       "</div>"
      ],
      "text/plain": [
       "                gain  is_monotonic   rheobase\n",
       "cell_type                                    \n",
       "5HT        22.186426      0.000000  21.020583\n",
       "GABA       87.186306      0.518875  15.987811\n",
       "mPFC        6.612934      0.487950  38.276432"
      ]
     },
     "execution_count": 8,
     "metadata": {},
     "output_type": "execute_result"
    }
   ],
   "source": [
    "param_df.groupby('cell_type').std()"
   ]
  },
  {
   "cell_type": "code",
   "execution_count": 9,
   "metadata": {},
   "outputs": [
    {
     "data": {
      "text/html": [
       "<div>\n",
       "<style scoped>\n",
       "    .dataframe tbody tr th:only-of-type {\n",
       "        vertical-align: middle;\n",
       "    }\n",
       "\n",
       "    .dataframe tbody tr th {\n",
       "        vertical-align: top;\n",
       "    }\n",
       "\n",
       "    .dataframe thead th {\n",
       "        text-align: right;\n",
       "    }\n",
       "</style>\n",
       "<table border=\"1\" class=\"dataframe\">\n",
       "  <thead>\n",
       "    <tr style=\"text-align: right;\">\n",
       "      <th></th>\n",
       "      <th>gain</th>\n",
       "      <th>is_monotonic</th>\n",
       "      <th>rheobase</th>\n",
       "    </tr>\n",
       "    <tr>\n",
       "      <th>cell_type</th>\n",
       "      <th></th>\n",
       "      <th></th>\n",
       "      <th></th>\n",
       "    </tr>\n",
       "  </thead>\n",
       "  <tbody>\n",
       "    <tr>\n",
       "      <th>5HT</th>\n",
       "      <td>5.380999</td>\n",
       "      <td>0.000000</td>\n",
       "      <td>5.098240</td>\n",
       "    </tr>\n",
       "    <tr>\n",
       "      <th>GABA</th>\n",
       "      <td>32.953326</td>\n",
       "      <td>0.138675</td>\n",
       "      <td>4.272922</td>\n",
       "    </tr>\n",
       "    <tr>\n",
       "      <th>mPFC</th>\n",
       "      <td>2.957394</td>\n",
       "      <td>0.184428</td>\n",
       "      <td>14.467131</td>\n",
       "    </tr>\n",
       "  </tbody>\n",
       "</table>\n",
       "</div>"
      ],
      "text/plain": [
       "                gain  is_monotonic   rheobase\n",
       "cell_type                                    \n",
       "5HT         5.380999      0.000000   5.098240\n",
       "GABA       32.953326      0.138675   4.272922\n",
       "mPFC        2.957394      0.184428  14.467131"
      ]
     },
     "execution_count": 9,
     "metadata": {},
     "output_type": "execute_result"
    }
   ],
   "source": [
    "param_df.groupby('cell_type').sem()"
   ]
  },
  {
   "cell_type": "code",
   "execution_count": 10,
   "metadata": {},
   "outputs": [
    {
     "data": {
      "text/html": [
       "<div>\n",
       "<style scoped>\n",
       "    .dataframe tbody tr th:only-of-type {\n",
       "        vertical-align: middle;\n",
       "    }\n",
       "\n",
       "    .dataframe tbody tr th {\n",
       "        vertical-align: top;\n",
       "    }\n",
       "\n",
       "    .dataframe thead th {\n",
       "        text-align: right;\n",
       "    }\n",
       "</style>\n",
       "<table border=\"1\" class=\"dataframe\">\n",
       "  <thead>\n",
       "    <tr style=\"text-align: right;\">\n",
       "      <th></th>\n",
       "      <th>gain</th>\n",
       "      <th>is_monotonic</th>\n",
       "      <th>rheobase</th>\n",
       "    </tr>\n",
       "    <tr>\n",
       "      <th>cell_type</th>\n",
       "      <th></th>\n",
       "      <th></th>\n",
       "      <th></th>\n",
       "    </tr>\n",
       "  </thead>\n",
       "  <tbody>\n",
       "    <tr>\n",
       "      <th>5HT</th>\n",
       "      <td>17</td>\n",
       "      <td>17</td>\n",
       "      <td>17</td>\n",
       "    </tr>\n",
       "    <tr>\n",
       "      <th>GABA</th>\n",
       "      <td>7</td>\n",
       "      <td>14</td>\n",
       "      <td>14</td>\n",
       "    </tr>\n",
       "    <tr>\n",
       "      <th>mPFC</th>\n",
       "      <td>5</td>\n",
       "      <td>7</td>\n",
       "      <td>7</td>\n",
       "    </tr>\n",
       "  </tbody>\n",
       "</table>\n",
       "</div>"
      ],
      "text/plain": [
       "           gain  is_monotonic  rheobase\n",
       "cell_type                              \n",
       "5HT          17            17        17\n",
       "GABA          7            14        14\n",
       "mPFC          5             7         7"
      ]
     },
     "execution_count": 10,
     "metadata": {},
     "output_type": "execute_result"
    }
   ],
   "source": [
    "param_df.groupby('cell_type').count()"
   ]
  },
  {
   "cell_type": "markdown",
   "metadata": {},
   "source": [
    "# Figures"
   ]
  },
  {
   "cell_type": "code",
   "execution_count": 9,
   "metadata": {},
   "outputs": [],
   "source": [
    "figsize=(0.9, 1)"
   ]
  },
  {
   "cell_type": "markdown",
   "metadata": {},
   "source": [
    "## Gain\n",
    "\n",
    "First, test whether gain depends on cell type to decide whether pairwise comparisons are warranted."
   ]
  },
  {
   "cell_type": "code",
   "execution_count": 10,
   "metadata": {},
   "outputs": [
    {
     "data": {
      "text/plain": [
       "KruskalResult(statistic=8.950449145175313, pvalue=0.011387664480056054)"
      ]
     },
     "execution_count": 10,
     "metadata": {},
     "output_type": "execute_result"
    }
   ],
   "source": [
    "stats.kruskal(\n",
    "    stripNan(param_df.loc[param_df['cell_type'] == '5HT', 'gain']),\n",
    "    stripNan(param_df.loc[param_df['cell_type'] == 'GABA', 'gain']),\n",
    "    stripNan(param_df.loc[param_df['cell_type'] == 'mPFC', 'gain']),\n",
    ")"
   ]
  },
  {
   "cell_type": "code",
   "execution_count": 11,
   "metadata": {},
   "outputs": [
    {
     "name": "stdout",
     "output_type": "stream",
     "text": [
      "p-value annotation legend:\n",
      "ns: 1.00e-01 < p <= 1.00e+00\n",
      "o: 5.00e-02 < p <= 1.00e-01\n",
      "*: 1.00e-02 < p <= 5.00e-02\n",
      "**: 1.00e-03 < p <= 1.00e-02\n",
      "***: 1.00e-04 < p <= 1.00e-03\n",
      "****: p <= 1.00e-04\n",
      "()\n",
      "5HT v.s. GABA: Mann-Whitney-Wilcoxon test two-sided with Bonferroni correction, P_val=2.293e-02 U_stat=1.700e+01\n",
      "GABA v.s. mPFC: Mann-Whitney-Wilcoxon test two-sided with Bonferroni correction, P_val=1.540e-01 U_stat=3.000e+01\n",
      "5HT v.s. mPFC: Mann-Whitney-Wilcoxon test two-sided with Bonferroni correction, P_val=5.487e-01 U_stat=2.500e+01\n"
     ]
    },
    {
     "data": {
      "image/png": "[encoded data removed]",
      "text/plain": [
       "<Figure size 108x120 with 1 Axes>"
      ]
     },
     "metadata": {
      "needs_background": "light"
     },
     "output_type": "display_data"
    }
   ],
   "source": [
    "plt.figure(figsize=figsize)\n",
    "\n",
    "plt.subplot(111)\n",
    "plt.subplots_adjust(left=0.5, right=0.95, top=0.6, bottom=0.05)\n",
    "ax = sns.boxplot(\n",
    "    'cell_type', \n",
    "    'gain', \n",
    "    data=param_df, \n",
    "    order=['5HT', 'GABA', 'mPFC'], \n",
    "    palette=[colors['ser'], colors['som'], colors['pyr']]\n",
    ")\n",
    "plt.xlabel('')\n",
    "add_stat_annotation(\n",
    "    ax=ax,\n",
    "    x='cell_type', \n",
    "    y='gain', \n",
    "    data=param_df, \n",
    "    order=['5HT', 'GABA', 'mPFC'], \n",
    "    box_pairs=[('5HT', 'GABA'), ('5HT', 'mPFC'), ('GABA', 'mPFC')],\n",
    "    pvalue_thresholds=pvalue_thresholds,\n",
    "    comparisons_correction='bonferroni',\n",
    "    test='Mann-Whitney',\n",
    "    loc='outside'\n",
    ")\n",
    "plt.ylim(0, plt.ylim()[1])\n",
    "plt.ylabel(r'Gain (Hz/nA)')\n",
    "plt.xticks([])\n",
    "pltools.hide_border('trb', trim=True)\n",
    "\n",
    "if IMG_PATH is not None:\n",
    "    plt.savefig(os.path.join(IMG_PATH, 'gain_comparison.png'))\n",
    "    plt.savefig(os.path.join(IMG_PATH, 'gain_comparison.svg'))"
   ]
  },
  {
   "cell_type": "markdown",
   "metadata": {},
   "source": [
    "## Rheobase"
   ]
  },
  {
   "cell_type": "code",
   "execution_count": 12,
   "metadata": {},
   "outputs": [
    {
     "data": {
      "text/plain": [
       "KruskalResult(statistic=10.78120640968939, pvalue=0.004559222361101637)"
      ]
     },
     "execution_count": 12,
     "metadata": {},
     "output_type": "execute_result"
    }
   ],
   "source": [
    "stats.kruskal(\n",
    "    stripNan(param_df.loc[param_df['cell_type'] == '5HT', 'rheobase']),\n",
    "    stripNan(param_df.loc[param_df['cell_type'] == 'GABA', 'rheobase']),\n",
    "    stripNan(param_df.loc[param_df['cell_type'] == 'mPFC', 'rheobase']),\n",
    ")"
   ]
  },
  {
   "cell_type": "code",
   "execution_count": 13,
   "metadata": {},
   "outputs": [
    {
     "name": "stdout",
     "output_type": "stream",
     "text": [
      "p-value annotation legend:\n",
      "ns: 1.00e-01 < p <= 1.00e+00\n",
      "o: 5.00e-02 < p <= 1.00e-01\n",
      "*: 1.00e-02 < p <= 5.00e-02\n",
      "**: 1.00e-03 < p <= 1.00e-02\n",
      "***: 1.00e-04 < p <= 1.00e-03\n",
      "****: p <= 1.00e-04\n",
      "()\n",
      "5HT v.s. GABA: Mann-Whitney-Wilcoxon test two-sided with Bonferroni correction, P_val=1.058e-02 U_stat=1.930e+02\n",
      "GABA v.s. mPFC: Mann-Whitney-Wilcoxon test two-sided with Bonferroni correction, P_val=8.324e-02 U_stat=1.900e+01\n",
      "5HT v.s. mPFC: Mann-Whitney-Wilcoxon test two-sided with Bonferroni correction, P_val=4.323e-01 U_stat=3.600e+01\n"
     ]
    },
    {
     "data": {
      "image/png": "[encoded data removed]",
      "text/plain": [
       "<Figure size 108x120 with 1 Axes>"
      ]
     },
     "metadata": {
      "needs_background": "light"
     },
     "output_type": "display_data"
    }
   ],
   "source": [
    "plt.figure(figsize=figsize)\n",
    "\n",
    "plt.subplot(111)\n",
    "plt.subplots_adjust(left=0.5, right=0.95, top=0.6, bottom=0.05)\n",
    "ax = sns.boxplot(\n",
    "    'cell_type', \n",
    "    'rheobase', \n",
    "    data=param_df, \n",
    "    order=['5HT', 'GABA', 'mPFC'], \n",
    "    palette=[colors['ser'], colors['som'], colors['pyr']]\n",
    ")\n",
    "plt.xlabel('')\n",
    "add_stat_annotation(\n",
    "    ax=ax,\n",
    "    x='cell_type', \n",
    "    y='rheobase', \n",
    "    data=param_df, \n",
    "    order=['5HT', 'GABA', 'mPFC'], \n",
    "    box_pairs=[('5HT', 'GABA'), ('5HT', 'mPFC'), ('GABA', 'mPFC')],\n",
    "    pvalue_thresholds=pvalue_thresholds,\n",
    "    comparisons_correction='bonferroni',\n",
    "    test='Mann-Whitney',\n",
    "    loc='outside'\n",
    ")\n",
    "plt.ylabel(r'Rheobase (pA)')\n",
    "plt.xticks([])\n",
    "pltools.hide_border('trb', trim=True)\n",
    "\n",
    "if IMG_PATH is not None:\n",
    "    plt.savefig(os.path.join(IMG_PATH, 'rheobase_comparison.png'))\n",
    "    plt.savefig(os.path.join(IMG_PATH, 'rheobase_comparison.svg'))"
   ]
  },
  {
   "cell_type": "markdown",
   "metadata": {},
   "source": [
    "## Proportion of cells with monotonic $f/I$ curves"
   ]
  },
  {
   "cell_type": "code",
   "execution_count": 14,
   "metadata": {},
   "outputs": [
    {
     "data": {
      "image/png": "[encoded data removed]",
      "text/plain": [
       "<Figure size 120x120 with 1 Axes>"
      ]
     },
     "metadata": {
      "needs_background": "light"
     },
     "output_type": "display_data"
    }
   ],
   "source": [
    "plt.figure(figsize=(1, 1))\n",
    "\n",
    "plt.subplot(111)\n",
    "plt.subplots_adjust(left=0.5, right=0.95, top=0.6, bottom=0.05)\n",
    "sns.barplot(\n",
    "    'cell_type', \n",
    "    'is_monotonic', \n",
    "    data=param_df, \n",
    "    order=['5HT', 'GABA', 'mPFC'], \n",
    "    palette=[colors['ser'], colors['som'], colors['pyr']], \n",
    "    ci=None\n",
    ")\n",
    "plt.ylabel('Proportion\\nmonotonic')\n",
    "plt.xlabel('')\n",
    "plt.xticks([])\n",
    "pltools.hide_border('trb', trim=True)\n",
    "\n",
    "if IMG_PATH is not None:\n",
    "    plt.savefig(os.path.join(IMG_PATH, 'monotonic_comparison.png'))\n",
    "    plt.savefig(os.path.join(IMG_PATH, 'monotonic_comparison.svg'))"
   ]
  },
  {
   "cell_type": "markdown",
   "metadata": {},
   "source": [
    "### Family-wise test\n",
    "\n",
    "First, test contingency between monotonicity and cell-type."
   ]
  },
  {
   "cell_type": "code",
   "execution_count": 15,
   "metadata": {},
   "outputs": [
    {
     "data": {
      "text/plain": [
       "(10.732348111658457,\n",
       " 0.0046719718635579895,\n",
       " 2,\n",
       " array([[12.97368421,  4.02631579],\n",
       "        [10.68421053,  3.31578947],\n",
       "        [ 5.34210526,  1.65789474]]))"
      ]
     },
     "execution_count": 15,
     "metadata": {},
     "output_type": "execute_result"
    }
   ],
   "source": [
    "contingency = [\n",
    "    [sum(param_df.loc[param_df['cell_type'] == '5HT', 'is_monotonic']),\n",
    "    sum(~param_df.loc[param_df['cell_type'] == '5HT', 'is_monotonic'])],\n",
    "    [sum(param_df.loc[param_df['cell_type'] == 'GABA', 'is_monotonic']),\n",
    "    sum(~param_df.loc[param_df['cell_type'] == 'GABA', 'is_monotonic'])],\n",
    "    [sum(param_df.loc[param_df['cell_type'] == 'mPFC', 'is_monotonic']),\n",
    "    sum(~param_df.loc[param_df['cell_type'] == 'mPFC', 'is_monotonic'])],\n",
    "]\n",
    "stats.chi2_contingency(contingency)"
   ]
  },
  {
   "cell_type": "markdown",
   "metadata": {},
   "source": [
    "Second number is the p-value."
   ]
  },
  {
   "cell_type": "markdown",
   "metadata": {},
   "source": [
    "### Pairwise tests"
   ]
  },
  {
   "cell_type": "code",
   "execution_count": 16,
   "metadata": {},
   "outputs": [
    {
     "data": {
      "text/plain": [
       "[('one', 'two'), ('one', 'three'), ('two', 'three')]"
      ]
     },
     "execution_count": 16,
     "metadata": {},
     "output_type": "execute_result"
    }
   ],
   "source": [
    "def generate_all_pairs(values):\n",
    "    pairs = []\n",
    "    for i in range(len(values) - 1):\n",
    "        for j in range(i + 1, len(values)):\n",
    "            pairs.append((values[i], values[j]))\n",
    "    return pairs\n",
    "\n",
    "generate_all_pairs(['one', 'two', 'three'])"
   ]
  },
  {
   "cell_type": "code",
   "execution_count": 17,
   "metadata": {},
   "outputs": [],
   "source": [
    "def pairwise_proportion_test(grouping_variable, outcome_variable, data):\n",
    "    \"\"\"Bonferroni-corrected pairwise Chi^2 contingency tests.\"\"\"\n",
    "    pairs = generate_all_pairs(data[grouping_variable].unique())\n",
    "    p_values = []\n",
    "    for group1, group2 in pairs:\n",
    "        contingency = [\n",
    "            [sum(data.loc[data[grouping_variable] == group1, outcome_variable]),\n",
    "            sum(~data.loc[data[grouping_variable] == group1, outcome_variable])],\n",
    "            [sum(data.loc[data[grouping_variable] == group2, outcome_variable]),\n",
    "            sum(~data.loc[data[grouping_variable] == group2, outcome_variable])]\n",
    "        ]\n",
    "        pvalue = stats.chi2_contingency(contingency)[1]\n",
    "        p_values.append(pvalue * len(pairs))  # Bonferroni correction applied here.\n",
    "    result = pd.DataFrame({'pair': pairs, 'p_value': p_values})\n",
    "    return result"
   ]
  },
  {
   "cell_type": "code",
   "execution_count": 18,
   "metadata": {},
   "outputs": [
    {
     "data": {
      "text/html": [
       "<div>\n",
       "<style scoped>\n",
       "    .dataframe tbody tr th:only-of-type {\n",
       "        vertical-align: middle;\n",
       "    }\n",
       "\n",
       "    .dataframe tbody tr th {\n",
       "        vertical-align: top;\n",
       "    }\n",
       "\n",
       "    .dataframe thead th {\n",
       "        text-align: right;\n",
       "    }\n",
       "</style>\n",
       "<table border=\"1\" class=\"dataframe\">\n",
       "  <thead>\n",
       "    <tr style=\"text-align: right;\">\n",
       "      <th></th>\n",
       "      <th>p_value</th>\n",
       "      <th>pair</th>\n",
       "    </tr>\n",
       "  </thead>\n",
       "  <tbody>\n",
       "    <tr>\n",
       "      <th>0</th>\n",
       "      <td>0.409100</td>\n",
       "      <td>(5HT, mPFC)</td>\n",
       "    </tr>\n",
       "    <tr>\n",
       "      <th>1</th>\n",
       "      <td>0.011859</td>\n",
       "      <td>(5HT, GABA)</td>\n",
       "    </tr>\n",
       "    <tr>\n",
       "      <th>2</th>\n",
       "      <td>1.919982</td>\n",
       "      <td>(mPFC, GABA)</td>\n",
       "    </tr>\n",
       "  </tbody>\n",
       "</table>\n",
       "</div>"
      ],
      "text/plain": [
       "    p_value          pair\n",
       "0  0.409100   (5HT, mPFC)\n",
       "1  0.011859   (5HT, GABA)\n",
       "2  1.919982  (mPFC, GABA)"
      ]
     },
     "execution_count": 18,
     "metadata": {},
     "output_type": "execute_result"
    }
   ],
   "source": [
    "pairwise_proportion_test('cell_type', 'is_monotonic', param_df)"
   ]
  }
 ],
 "metadata": {
  "kernelspec": {
   "display_name": "Python 2",
   "language": "python",
   "name": "python2"
  },
  "language_info": {
   "codemirror_mode": {
    "name": "ipython",
    "version": 2
   },
   "file_extension": ".py",
   "mimetype": "text/x-python",
   "name": "python",
   "nbconvert_exporter": "python",
   "pygments_lexer": "ipython2",
   "version": "2.7.15"
  }
 },
 "nbformat": 4,
 "nbformat_minor": 2
}

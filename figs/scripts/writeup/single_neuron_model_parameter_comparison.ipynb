{
 "cells": [
  {
   "cell_type": "code",
   "execution_count": 1,
   "metadata": {},
   "outputs": [],
   "source": [
    "from common import colors, pvalue_thresholds"
   ]
  },
  {
   "cell_type": "code",
   "execution_count": 2,
   "metadata": {},
   "outputs": [
    {
     "name": "stdout",
     "output_type": "stream",
     "text": [
      "/Users/eharkin/Documents/projects/5HTGIF\n"
     ]
    }
   ],
   "source": [
    "import os\n",
    "os.chdir(os.path.join('..', '..', '..'))\n",
    "print(os.getcwd())"
   ]
  },
  {
   "cell_type": "code",
   "execution_count": 3,
   "metadata": {},
   "outputs": [],
   "source": [
    "import re\n",
    "\n",
    "import numpy as np\n",
    "import pandas as pd\n",
    "import matplotlib.pyplot as plt\n",
    "from mpl_toolkits.axes_grid1.inset_locator import mark_inset\n",
    "import seaborn as sns\n",
    "from scipy import stats\n",
    "from sklearn.decomposition import SparsePCA, FastICA\n",
    "from sklearn.svm import LinearSVC\n",
    "from sklearn.neighbors import LocalOutlierFactor\n",
    "from statannot import add_stat_annotation\n",
    "from ezephys import pltools"
   ]
  },
  {
   "cell_type": "code",
   "execution_count": 4,
   "metadata": {},
   "outputs": [],
   "source": [
    "plt.style.use(os.path.join('figs', 'scripts', 'writeup', 'publication_figure_style.dms'))\n",
    "plt.rc('text', usetex = False)"
   ]
  },
  {
   "cell_type": "code",
   "execution_count": 5,
   "metadata": {},
   "outputs": [],
   "source": [
    "IMG_PATH = os.path.join('figs', 'ims', 'writeup', 'GIF_parameters')"
   ]
  },
  {
   "cell_type": "markdown",
   "metadata": {},
   "source": [
    "# Load data"
   ]
  },
  {
   "cell_type": "code",
   "execution_count": 6,
   "metadata": {},
   "outputs": [
    {
     "name": "stdout",
     "output_type": "stream",
     "text": [
      "(156, 36)\n"
     ]
    }
   ],
   "source": [
    "params = pd.read_csv(os.path.join('analysis', 'model_clustering', 'model_params.csv'))\n",
    "print(params.shape)"
   ]
  },
  {
   "cell_type": "code",
   "execution_count": 7,
   "metadata": {},
   "outputs": [
    {
     "data": {
      "text/html": [
       "<div>\n",
       "<style scoped>\n",
       "    .dataframe tbody tr th:only-of-type {\n",
       "        vertical-align: middle;\n",
       "    }\n",
       "\n",
       "    .dataframe tbody tr th {\n",
       "        vertical-align: top;\n",
       "    }\n",
       "\n",
       "    .dataframe thead th {\n",
       "        text-align: right;\n",
       "    }\n",
       "</style>\n",
       "<table border=\"1\" class=\"dataframe\">\n",
       "  <thead>\n",
       "    <tr style=\"text-align: right;\">\n",
       "      <th></th>\n",
       "      <th>C</th>\n",
       "      <th>DV</th>\n",
       "      <th>E_K</th>\n",
       "      <th>El</th>\n",
       "      <th>Tref</th>\n",
       "      <th>Vr</th>\n",
       "      <th>Vt_star</th>\n",
       "      <th>cell_type</th>\n",
       "      <th>dt</th>\n",
       "      <th>eta_10.0</th>\n",
       "      <th>...</th>\n",
       "      <th>h_tau</th>\n",
       "      <th>lambda0</th>\n",
       "      <th>m_A</th>\n",
       "      <th>m_Vhalf</th>\n",
       "      <th>m_k</th>\n",
       "      <th>n_A</th>\n",
       "      <th>n_Vhalf</th>\n",
       "      <th>n_k</th>\n",
       "      <th>name</th>\n",
       "      <th>type</th>\n",
       "    </tr>\n",
       "  </thead>\n",
       "  <tbody>\n",
       "    <tr>\n",
       "      <th>0</th>\n",
       "      <td>0.094361</td>\n",
       "      <td>5.151288</td>\n",
       "      <td>-101.0</td>\n",
       "      <td>-58.838751</td>\n",
       "      <td>6.5</td>\n",
       "      <td>-53.551984</td>\n",
       "      <td>-54.175906</td>\n",
       "      <td>5HT</td>\n",
       "      <td>0.1</td>\n",
       "      <td>0.017711</td>\n",
       "      <td>...</td>\n",
       "      <td>33.0</td>\n",
       "      <td>1.0</td>\n",
       "      <td>1.61</td>\n",
       "      <td>-23.7</td>\n",
       "      <td>0.0985</td>\n",
       "      <td>1.55</td>\n",
       "      <td>-24.3</td>\n",
       "      <td>0.216</td>\n",
       "      <td>DRN307</td>\n",
       "      <td>AugmentedGIF</td>\n",
       "    </tr>\n",
       "    <tr>\n",
       "      <th>1</th>\n",
       "      <td>0.114852</td>\n",
       "      <td>3.100761</td>\n",
       "      <td>-101.0</td>\n",
       "      <td>-78.706007</td>\n",
       "      <td>6.5</td>\n",
       "      <td>-54.555621</td>\n",
       "      <td>-52.020721</td>\n",
       "      <td>5HT</td>\n",
       "      <td>0.1</td>\n",
       "      <td>0.031279</td>\n",
       "      <td>...</td>\n",
       "      <td>33.0</td>\n",
       "      <td>1.0</td>\n",
       "      <td>1.61</td>\n",
       "      <td>-23.7</td>\n",
       "      <td>0.0985</td>\n",
       "      <td>1.55</td>\n",
       "      <td>-24.3</td>\n",
       "      <td>0.216</td>\n",
       "      <td>DRN308</td>\n",
       "      <td>AugmentedGIF</td>\n",
       "    </tr>\n",
       "    <tr>\n",
       "      <th>2</th>\n",
       "      <td>0.112754</td>\n",
       "      <td>1.247224</td>\n",
       "      <td>-101.0</td>\n",
       "      <td>-63.624398</td>\n",
       "      <td>6.5</td>\n",
       "      <td>-56.135385</td>\n",
       "      <td>-46.530925</td>\n",
       "      <td>5HT</td>\n",
       "      <td>0.1</td>\n",
       "      <td>0.070692</td>\n",
       "      <td>...</td>\n",
       "      <td>61.0</td>\n",
       "      <td>1.0</td>\n",
       "      <td>1.61</td>\n",
       "      <td>-23.7</td>\n",
       "      <td>0.0985</td>\n",
       "      <td>1.55</td>\n",
       "      <td>-24.3</td>\n",
       "      <td>0.216</td>\n",
       "      <td>DRN317</td>\n",
       "      <td>AugmentedGIF</td>\n",
       "    </tr>\n",
       "    <tr>\n",
       "      <th>3</th>\n",
       "      <td>0.087860</td>\n",
       "      <td>2.369712</td>\n",
       "      <td>-101.0</td>\n",
       "      <td>-59.121382</td>\n",
       "      <td>6.5</td>\n",
       "      <td>-55.919281</td>\n",
       "      <td>-44.936669</td>\n",
       "      <td>5HT</td>\n",
       "      <td>0.1</td>\n",
       "      <td>0.022100</td>\n",
       "      <td>...</td>\n",
       "      <td>82.0</td>\n",
       "      <td>1.0</td>\n",
       "      <td>1.61</td>\n",
       "      <td>-23.7</td>\n",
       "      <td>0.0985</td>\n",
       "      <td>1.55</td>\n",
       "      <td>-24.3</td>\n",
       "      <td>0.216</td>\n",
       "      <td>DRN318</td>\n",
       "      <td>AugmentedGIF</td>\n",
       "    </tr>\n",
       "    <tr>\n",
       "      <th>4</th>\n",
       "      <td>0.121158</td>\n",
       "      <td>4.977856</td>\n",
       "      <td>-101.0</td>\n",
       "      <td>-50.061295</td>\n",
       "      <td>6.5</td>\n",
       "      <td>-49.185461</td>\n",
       "      <td>-58.738916</td>\n",
       "      <td>5HT</td>\n",
       "      <td>0.1</td>\n",
       "      <td>0.048414</td>\n",
       "      <td>...</td>\n",
       "      <td>33.0</td>\n",
       "      <td>1.0</td>\n",
       "      <td>1.61</td>\n",
       "      <td>-23.7</td>\n",
       "      <td>0.0985</td>\n",
       "      <td>1.55</td>\n",
       "      <td>-24.3</td>\n",
       "      <td>0.216</td>\n",
       "      <td>DRN319</td>\n",
       "      <td>AugmentedGIF</td>\n",
       "    </tr>\n",
       "  </tbody>\n",
       "</table>\n",
       "<p>5 rows × 36 columns</p>\n",
       "</div>"
      ],
      "text/plain": [
       "          C        DV    E_K         El  Tref         Vr    Vt_star cell_type  \\\n",
       "0  0.094361  5.151288 -101.0 -58.838751   6.5 -53.551984 -54.175906       5HT   \n",
       "1  0.114852  3.100761 -101.0 -78.706007   6.5 -54.555621 -52.020721       5HT   \n",
       "2  0.112754  1.247224 -101.0 -63.624398   6.5 -56.135385 -46.530925       5HT   \n",
       "3  0.087860  2.369712 -101.0 -59.121382   6.5 -55.919281 -44.936669       5HT   \n",
       "4  0.121158  4.977856 -101.0 -50.061295   6.5 -49.185461 -58.738916       5HT   \n",
       "\n",
       "    dt  eta_10.0      ...       h_tau  lambda0   m_A  m_Vhalf     m_k   n_A  \\\n",
       "0  0.1  0.017711      ...        33.0      1.0  1.61    -23.7  0.0985  1.55   \n",
       "1  0.1  0.031279      ...        33.0      1.0  1.61    -23.7  0.0985  1.55   \n",
       "2  0.1  0.070692      ...        61.0      1.0  1.61    -23.7  0.0985  1.55   \n",
       "3  0.1  0.022100      ...        82.0      1.0  1.61    -23.7  0.0985  1.55   \n",
       "4  0.1  0.048414      ...        33.0      1.0  1.61    -23.7  0.0985  1.55   \n",
       "\n",
       "   n_Vhalf    n_k    name          type  \n",
       "0    -24.3  0.216  DRN307  AugmentedGIF  \n",
       "1    -24.3  0.216  DRN308  AugmentedGIF  \n",
       "2    -24.3  0.216  DRN317  AugmentedGIF  \n",
       "3    -24.3  0.216  DRN318  AugmentedGIF  \n",
       "4    -24.3  0.216  DRN319  AugmentedGIF  \n",
       "\n",
       "[5 rows x 36 columns]"
      ]
     },
     "execution_count": 7,
     "metadata": {},
     "output_type": "execute_result"
    }
   ],
   "source": [
    "params.head()"
   ]
  },
  {
   "cell_type": "code",
   "execution_count": 8,
   "metadata": {},
   "outputs": [
    {
     "data": {
      "text/plain": [
       "Index([u'C', u'DV', u'E_K', u'El', u'Tref', u'Vr', u'Vt_star', u'cell_type',\n",
       "       u'dt', u'eta_10.0', u'eta_100.0', u'eta_1000.0', u'eta_3.0',\n",
       "       u'eta_30.0', u'eta_300.0', u'eta_3000.0', u'gamma_3.0', u'gamma_30.0',\n",
       "       u'gamma_300.0', u'gamma_3000.0', u'gbar_K1', u'gbar_K2', u'gl', u'h_A',\n",
       "       u'h_Vhalf', u'h_k', u'h_tau', u'lambda0', u'm_A', u'm_Vhalf', u'm_k',\n",
       "       u'n_A', u'n_Vhalf', u'n_k', u'name', u'type'],\n",
       "      dtype='object')"
      ]
     },
     "execution_count": 8,
     "metadata": {},
     "output_type": "execute_result"
    }
   ],
   "source": [
    "params.columns"
   ]
  },
  {
   "cell_type": "markdown",
   "metadata": {},
   "source": [
    "# Compute additional features\n",
    "\n",
    "- Time constant\n",
    "- Distance to threshold\n",
    "- Spike triggered current integral\n",
    "- Spike triggered threshold movement integral"
   ]
  },
  {
   "cell_type": "code",
   "execution_count": 9,
   "metadata": {},
   "outputs": [],
   "source": [
    "params['thresh_dist'] = params['Vt_star'] - params['El']\n",
    "params['time_const'] = params['C'] / params['gl']"
   ]
  },
  {
   "cell_type": "code",
   "execution_count": 10,
   "metadata": {},
   "outputs": [],
   "source": [
    "def get_kernel_integral(model_param_df, kernel_name):\n",
    "    integrals = np.zeros(model_param_df.shape[0], dtype=np.float64)\n",
    "    \n",
    "    for colname in model_param_df.columns:\n",
    "        match = re.search('{}_(.*)'.format(kernel_name), colname)\n",
    "        if match is not None:\n",
    "            timescale = float(match.groups()[0])\n",
    "            integrals += model_param_df[colname] * timescale\n",
    "    \n",
    "    return integrals"
   ]
  },
  {
   "cell_type": "code",
   "execution_count": 11,
   "metadata": {
    "scrolled": false
   },
   "outputs": [],
   "source": [
    "params['gamma_integral'] = get_kernel_integral(params, 'gamma')\n",
    "params['eta_integral'] = get_kernel_integral(params, 'eta')"
   ]
  },
  {
   "cell_type": "markdown",
   "metadata": {},
   "source": [
    "# Select GIFs and remove unnecessary features"
   ]
  },
  {
   "cell_type": "code",
   "execution_count": 12,
   "metadata": {},
   "outputs": [
    {
     "data": {
      "text/html": [
       "<div>\n",
       "<style scoped>\n",
       "    .dataframe tbody tr th:only-of-type {\n",
       "        vertical-align: middle;\n",
       "    }\n",
       "\n",
       "    .dataframe tbody tr th {\n",
       "        vertical-align: top;\n",
       "    }\n",
       "\n",
       "    .dataframe thead th {\n",
       "        text-align: right;\n",
       "    }\n",
       "</style>\n",
       "<table border=\"1\" class=\"dataframe\">\n",
       "  <thead>\n",
       "    <tr style=\"text-align: right;\">\n",
       "      <th></th>\n",
       "      <th>C</th>\n",
       "      <th>DV</th>\n",
       "      <th>El</th>\n",
       "      <th>Vr</th>\n",
       "      <th>Vt_star</th>\n",
       "      <th>eta_10.0</th>\n",
       "      <th>eta_100.0</th>\n",
       "      <th>eta_1000.0</th>\n",
       "      <th>eta_3.0</th>\n",
       "      <th>eta_30.0</th>\n",
       "      <th>...</th>\n",
       "      <th>eta_3000.0</th>\n",
       "      <th>gamma_3.0</th>\n",
       "      <th>gamma_30.0</th>\n",
       "      <th>gamma_300.0</th>\n",
       "      <th>gamma_3000.0</th>\n",
       "      <th>gl</th>\n",
       "      <th>thresh_dist</th>\n",
       "      <th>time_const</th>\n",
       "      <th>gamma_integral</th>\n",
       "      <th>eta_integral</th>\n",
       "    </tr>\n",
       "  </thead>\n",
       "  <tbody>\n",
       "    <tr>\n",
       "      <th>18</th>\n",
       "      <td>0.099165</td>\n",
       "      <td>6.537423</td>\n",
       "      <td>-64.456700</td>\n",
       "      <td>-53.551984</td>\n",
       "      <td>-55.723169</td>\n",
       "      <td>0.008590</td>\n",
       "      <td>0.028477</td>\n",
       "      <td>0.002652</td>\n",
       "      <td>0.055727</td>\n",
       "      <td>-0.003865</td>\n",
       "      <td>...</td>\n",
       "      <td>0.000670</td>\n",
       "      <td>68849.738479</td>\n",
       "      <td>-46.686658</td>\n",
       "      <td>6.983622</td>\n",
       "      <td>5.327227</td>\n",
       "      <td>0.001101</td>\n",
       "      <td>8.733531</td>\n",
       "      <td>90.054878</td>\n",
       "      <td>223225.384589</td>\n",
       "      <td>7.579120</td>\n",
       "    </tr>\n",
       "    <tr>\n",
       "      <th>19</th>\n",
       "      <td>0.121812</td>\n",
       "      <td>4.442023</td>\n",
       "      <td>-80.402978</td>\n",
       "      <td>-54.555621</td>\n",
       "      <td>-54.317823</td>\n",
       "      <td>0.024262</td>\n",
       "      <td>0.038746</td>\n",
       "      <td>0.008135</td>\n",
       "      <td>0.079653</td>\n",
       "      <td>-0.013658</td>\n",
       "      <td>...</td>\n",
       "      <td>-0.003254</td>\n",
       "      <td>-63.497849</td>\n",
       "      <td>60.990898</td>\n",
       "      <td>37.533114</td>\n",
       "      <td>2.546485</td>\n",
       "      <td>0.001341</td>\n",
       "      <td>26.085155</td>\n",
       "      <td>90.832064</td>\n",
       "      <td>20538.624021</td>\n",
       "      <td>4.586777</td>\n",
       "    </tr>\n",
       "    <tr>\n",
       "      <th>20</th>\n",
       "      <td>0.115125</td>\n",
       "      <td>2.417979</td>\n",
       "      <td>-64.851407</td>\n",
       "      <td>-56.135385</td>\n",
       "      <td>-49.111013</td>\n",
       "      <td>0.068537</td>\n",
       "      <td>0.055866</td>\n",
       "      <td>0.002841</td>\n",
       "      <td>-0.025442</td>\n",
       "      <td>-0.022652</td>\n",
       "      <td>...</td>\n",
       "      <td>-0.001052</td>\n",
       "      <td>-94.415131</td>\n",
       "      <td>91.663755</td>\n",
       "      <td>10.192265</td>\n",
       "      <td>0.146151</td>\n",
       "      <td>0.002272</td>\n",
       "      <td>15.740394</td>\n",
       "      <td>50.667949</td>\n",
       "      <td>5962.801084</td>\n",
       "      <td>7.146159</td>\n",
       "    </tr>\n",
       "    <tr>\n",
       "      <th>21</th>\n",
       "      <td>0.094173</td>\n",
       "      <td>3.813900</td>\n",
       "      <td>-63.565351</td>\n",
       "      <td>-55.919281</td>\n",
       "      <td>-46.181507</td>\n",
       "      <td>0.017409</td>\n",
       "      <td>0.057299</td>\n",
       "      <td>0.003776</td>\n",
       "      <td>-0.016150</td>\n",
       "      <td>-0.002213</td>\n",
       "      <td>...</td>\n",
       "      <td>-0.000593</td>\n",
       "      <td>-176.953457</td>\n",
       "      <td>185.704229</td>\n",
       "      <td>6.839458</td>\n",
       "      <td>-0.171109</td>\n",
       "      <td>0.001654</td>\n",
       "      <td>17.383844</td>\n",
       "      <td>56.950148</td>\n",
       "      <td>6578.775802</td>\n",
       "      <td>6.587509</td>\n",
       "    </tr>\n",
       "    <tr>\n",
       "      <th>22</th>\n",
       "      <td>0.105769</td>\n",
       "      <td>4.568117</td>\n",
       "      <td>-54.186544</td>\n",
       "      <td>-49.185461</td>\n",
       "      <td>-59.392968</td>\n",
       "      <td>0.030981</td>\n",
       "      <td>0.007375</td>\n",
       "      <td>0.007067</td>\n",
       "      <td>-0.067469</td>\n",
       "      <td>0.026209</td>\n",
       "      <td>...</td>\n",
       "      <td>-0.006007</td>\n",
       "      <td>807.045568</td>\n",
       "      <td>-1.874450</td>\n",
       "      <td>0.443651</td>\n",
       "      <td>2.199422</td>\n",
       "      <td>0.001898</td>\n",
       "      <td>-5.206423</td>\n",
       "      <td>55.714262</td>\n",
       "      <td>9096.264619</td>\n",
       "      <td>-9.254869</td>\n",
       "    </tr>\n",
       "  </tbody>\n",
       "</table>\n",
       "<p>5 rows × 21 columns</p>\n",
       "</div>"
      ],
      "text/plain": [
       "           C        DV         El         Vr    Vt_star  eta_10.0  eta_100.0  \\\n",
       "18  0.099165  6.537423 -64.456700 -53.551984 -55.723169  0.008590   0.028477   \n",
       "19  0.121812  4.442023 -80.402978 -54.555621 -54.317823  0.024262   0.038746   \n",
       "20  0.115125  2.417979 -64.851407 -56.135385 -49.111013  0.068537   0.055866   \n",
       "21  0.094173  3.813900 -63.565351 -55.919281 -46.181507  0.017409   0.057299   \n",
       "22  0.105769  4.568117 -54.186544 -49.185461 -59.392968  0.030981   0.007375   \n",
       "\n",
       "    eta_1000.0   eta_3.0  eta_30.0      ...       eta_3000.0     gamma_3.0  \\\n",
       "18    0.002652  0.055727 -0.003865      ...         0.000670  68849.738479   \n",
       "19    0.008135  0.079653 -0.013658      ...        -0.003254    -63.497849   \n",
       "20    0.002841 -0.025442 -0.022652      ...        -0.001052    -94.415131   \n",
       "21    0.003776 -0.016150 -0.002213      ...        -0.000593   -176.953457   \n",
       "22    0.007067 -0.067469  0.026209      ...        -0.006007    807.045568   \n",
       "\n",
       "    gamma_30.0  gamma_300.0  gamma_3000.0        gl  thresh_dist  time_const  \\\n",
       "18  -46.686658     6.983622      5.327227  0.001101     8.733531   90.054878   \n",
       "19   60.990898    37.533114      2.546485  0.001341    26.085155   90.832064   \n",
       "20   91.663755    10.192265      0.146151  0.002272    15.740394   50.667949   \n",
       "21  185.704229     6.839458     -0.171109  0.001654    17.383844   56.950148   \n",
       "22   -1.874450     0.443651      2.199422  0.001898    -5.206423   55.714262   \n",
       "\n",
       "    gamma_integral  eta_integral  \n",
       "18   223225.384589      7.579120  \n",
       "19    20538.624021      4.586777  \n",
       "20     5962.801084      7.146159  \n",
       "21     6578.775802      6.587509  \n",
       "22     9096.264619     -9.254869  \n",
       "\n",
       "[5 rows x 21 columns]"
      ]
     },
     "execution_count": 12,
     "metadata": {},
     "output_type": "execute_result"
    }
   ],
   "source": [
    "params_cleaned = params.copy()\n",
    "params_cleaned.drop(columns=[\n",
    "    'Tref', 'dt', 'E_K', 'gbar_K1', 'gbar_K2', 'h_A', 'h_Vhalf', \n",
    "    'h_k', 'lambda0', 'm_A', 'm_Vhalf', 'm_k', 'n_A', 'n_Vhalf', \n",
    "    'n_k', 'h_tau',\n",
    "], inplace=True)\n",
    "params_cleaned = params_cleaned.loc[params_cleaned['type'] == 'GIF', :]\n",
    "params_cleaned.drop(columns=['name', 'type'], inplace=True)\n",
    "\n",
    "cell_types = params_cleaned['cell_type']\n",
    "params_cleaned.drop(columns=['cell_type'], inplace=True)\n",
    "\n",
    "params_cleaned.head()"
   ]
  },
  {
   "cell_type": "code",
   "execution_count": 13,
   "metadata": {},
   "outputs": [
    {
     "name": "stdout",
     "output_type": "stream",
     "text": [
      "Index([u'C', u'DV', u'El', u'Vr', u'Vt_star', u'eta_10.0', u'eta_100.0',\n",
      "       u'eta_1000.0', u'eta_3.0', u'eta_30.0', u'eta_300.0', u'eta_3000.0',\n",
      "       u'gamma_3.0', u'gamma_30.0', u'gamma_300.0', u'gamma_3000.0', u'gl',\n",
      "       u'thresh_dist', u'time_const', u'gamma_integral', u'eta_integral'],\n",
      "      dtype='object')\n"
     ]
    }
   ],
   "source": [
    "print(params_cleaned.columns)"
   ]
  },
  {
   "cell_type": "code",
   "execution_count": 14,
   "metadata": {},
   "outputs": [
    {
     "name": "stdout",
     "output_type": "stream",
     "text": [
      "(39, 21)\n"
     ]
    }
   ],
   "source": [
    "print(params_cleaned.shape)"
   ]
  },
  {
   "cell_type": "markdown",
   "metadata": {},
   "source": [
    "# Functions for rescaling variables"
   ]
  },
  {
   "cell_type": "code",
   "execution_count": 15,
   "metadata": {},
   "outputs": [],
   "source": [
    "def rescale_variables(x):\n",
    "    \"\"\"Subtract mean and normalize to SD for each column of a dataframe or array.\n",
    "    Returns a copy.\n",
    "    \"\"\"\n",
    "    output = x.copy()\n",
    "    \n",
    "    try:\n",
    "        # Method for pd.DataFrames\n",
    "        output.iloc # Test if x is DataFrame-like\n",
    "        \n",
    "        for colname in output:\n",
    "            output[colname] = output[colname] - np.mean(output[colname])\n",
    "            output[colname] = output[colname] / np.std(output[colname])\n",
    "    \n",
    "    except AttributeError:\n",
    "        # Method for np.arrays.\n",
    "        output[0, 0] # Test if x is array-like\n",
    "        \n",
    "        output -= output.mean(axis = 0)\n",
    "        output /= output.std(axis = 0)\n",
    "        \n",
    "    return output"
   ]
  },
  {
   "cell_type": "code",
   "execution_count": 16,
   "metadata": {},
   "outputs": [],
   "source": [
    "def rescale_variables_nonparametric(x):\n",
    "    \"\"\"Subtract median and divide by interquartile range for each column of x.\"\"\"\n",
    "    output = x.copy()\n",
    "    \n",
    "    try:\n",
    "        # Method for pd.DataFrames\n",
    "        output.iloc # Test if x is DataFrame-like\n",
    "        \n",
    "        for colname in output:\n",
    "            output[colname] = output[colname] - np.median(output[colname])\n",
    "            output[colname] = output[colname] / stats.iqr(output[colname])\n",
    "    \n",
    "    except AttributeError:\n",
    "        # Method for np.arrays.\n",
    "        output[0, 0] # Test if x is array-like\n",
    "        \n",
    "        output -= output.median(axis = 0)\n",
    "        output /= stats.iqr(output, axis=0)\n",
    "        \n",
    "    return output"
   ]
  },
  {
   "cell_type": "code",
   "execution_count": 17,
   "metadata": {},
   "outputs": [],
   "source": [
    "rescaled = rescale_variables_nonparametric(params_cleaned)"
   ]
  },
  {
   "cell_type": "code",
   "execution_count": 18,
   "metadata": {},
   "outputs": [
    {
     "data": {
      "image/png": "[encoded data removed]",
      "text/plain": [
       "<Figure size 480x240 with 1 Axes>"
      ]
     },
     "metadata": {
      "needs_background": "light"
     },
     "output_type": "display_data"
    }
   ],
   "source": [
    "plt.figure(figsize=(4, 2))\n",
    "sns.boxplot(\n",
    "    x='variable', y='value', hue='cell_type', \n",
    "    data=pd.concat([rescaled, cell_types], axis=1).melt(id_vars='cell_type'),\n",
    "    order = ['gl', 'time_const', 'thresh_dist', 'eta_integral', 'gamma_integral']\n",
    ")\n",
    "plt.ylim(-50, 50)\n",
    "tick_locs, tick_labs = plt.xticks()\n",
    "plt.xticks(*plt.xticks(), rotation=45, ha='right')\n",
    "plt.ylabel('Z-score')\n",
    "plt.tight_layout()"
   ]
  },
  {
   "cell_type": "code",
   "execution_count": 19,
   "metadata": {},
   "outputs": [],
   "source": [
    "figsize=(1, 1.2)"
   ]
  },
  {
   "cell_type": "code",
   "execution_count": 20,
   "metadata": {},
   "outputs": [
    {
     "name": "stdout",
     "output_type": "stream",
     "text": [
      "p-value annotation legend:\n",
      "ns: 1.00e-01 < p <= 1.00e+00\n",
      "o: 5.00e-02 < p <= 1.00e-01\n",
      "*: 1.00e-02 < p <= 5.00e-02\n",
      "**: 1.00e-03 < p <= 1.00e-02\n",
      "***: 1.00e-04 < p <= 1.00e-03\n",
      "****: p <= 1.00e-04\n",
      "()\n",
      "thresh_dist_5HT v.s. thresh_dist_GABA: Mann-Whitney-Wilcoxon test two-sided with Bonferroni correction, P_val=4.284e-02 U_stat=1.910e+02\n",
      "thresh_dist_GABA v.s. thresh_dist_mPFC: Mann-Whitney-Wilcoxon test two-sided with Bonferroni correction, P_val=1.000e+00 U_stat=4.700e+01\n",
      "thresh_dist_5HT v.s. thresh_dist_mPFC: Mann-Whitney-Wilcoxon test two-sided with Bonferroni correction, P_val=1.476e-01 U_stat=9.600e+01\n"
     ]
    },
    {
     "data": {
      "image/png": "[encoded data removed]",
      "text/plain": [
       "<Figure size 120x144 with 1 Axes>"
      ]
     },
     "metadata": {
      "needs_background": "light"
     },
     "output_type": "display_data"
    }
   ],
   "source": [
    "plt.figure(figsize=figsize)\n",
    "\n",
    "gamma_ax = plt.subplot(111)\n",
    "sns.boxplot(\n",
    "    x='variable', y='value', hue='cell_type', \n",
    "    data=pd.concat([params_cleaned, cell_types], axis=1).melt(id_vars='cell_type'),\n",
    "    order = ['thresh_dist'],\n",
    "    fliersize=2\n",
    ")\n",
    "add_stat_annotation(\n",
    "    gamma_ax,\n",
    "    x='variable', y='value', hue='cell_type', \n",
    "    data=pd.concat([params_cleaned, cell_types], axis=1).melt(id_vars='cell_type'),\n",
    "    order = ['thresh_dist'],\n",
    "    loc='outside',\n",
    "    test='Mann-Whitney',\n",
    "    comparisons_correction='bonferroni',\n",
    "    pvalue_thresholds=pvalue_thresholds,\n",
    "    box_pairs = [\n",
    "        (('thresh_dist', '5HT'), ('thresh_dist', 'GABA')),\n",
    "        (('thresh_dist', 'mPFC'), ('thresh_dist', 'GABA')),\n",
    "        (('thresh_dist', '5HT'), ('thresh_dist', 'mPFC'))\n",
    "    ]\n",
    ")\n",
    "plt.ylabel('Distance\\nto threshold (mV)')\n",
    "pltools.hide_border('trb', trim=True)\n",
    "plt.xlabel('')\n",
    "plt.xticks([])\n",
    "plt.gca().get_legend().remove()\n",
    "\n",
    "plt.subplots_adjust(left=0.45, top=0.7, bottom=0.05, right=0.95)\n",
    "\n",
    "if IMG_PATH is not None:\n",
    "    plt.savefig(os.path.join(IMG_PATH, 'thresh_dist.png'))\n",
    "    plt.savefig(os.path.join(IMG_PATH, 'thresh_dist.svg'))"
   ]
  },
  {
   "cell_type": "code",
   "execution_count": 21,
   "metadata": {},
   "outputs": [
    {
     "name": "stdout",
     "output_type": "stream",
     "text": [
      "p-value annotation legend:\n",
      "ns: 1.00e-01 < p <= 1.00e+00\n",
      "o: 5.00e-02 < p <= 1.00e-01\n",
      "*: 1.00e-02 < p <= 5.00e-02\n",
      "**: 1.00e-03 < p <= 1.00e-02\n",
      "***: 1.00e-04 < p <= 1.00e-03\n",
      "****: p <= 1.00e-04\n",
      "()\n",
      "DV_5HT v.s. DV_GABA: Mann-Whitney-Wilcoxon test two-sided with Bonferroni correction, P_val=3.460e-02 U_stat=1.930e+02\n",
      "DV_GABA v.s. DV_mPFC: Mann-Whitney-Wilcoxon test two-sided with Bonferroni correction, P_val=1.000e+00 U_stat=5.000e+01\n",
      "DV_5HT v.s. DV_mPFC: Mann-Whitney-Wilcoxon test two-sided with Bonferroni correction, P_val=1.476e-01 U_stat=9.600e+01\n"
     ]
    },
    {
     "data": {
      "image/png": "[encoded data removed]",
      "text/plain": [
       "<Figure size 120x144 with 1 Axes>"
      ]
     },
     "metadata": {
      "needs_background": "light"
     },
     "output_type": "display_data"
    }
   ],
   "source": [
    "plt.figure(figsize=figsize)\n",
    "\n",
    "gamma_ax = plt.subplot(111)\n",
    "sns.boxplot(\n",
    "    x='variable', y='value', hue='cell_type', \n",
    "    data=pd.concat([params_cleaned, cell_types], axis=1).melt(id_vars='cell_type'),\n",
    "    order = ['DV'],\n",
    "    fliersize=2\n",
    ")\n",
    "add_stat_annotation(\n",
    "    gamma_ax,\n",
    "    x='variable', y='value', hue='cell_type', \n",
    "    data=pd.concat([params_cleaned, cell_types], axis=1).melt(id_vars='cell_type'),\n",
    "    order = ['DV'],\n",
    "    loc='outside',\n",
    "    test='Mann-Whitney',\n",
    "    comparisons_correction='bonferroni',\n",
    "    pvalue_thresholds=pvalue_thresholds,\n",
    "    box_pairs = [\n",
    "        (('DV', '5HT'), ('DV', 'GABA')),\n",
    "        (('DV', 'mPFC'), ('DV', 'GABA')),\n",
    "        (('DV', '5HT'), ('DV', 'mPFC'))\n",
    "    ]\n",
    ")\n",
    "plt.ylabel(r'$\\Delta V$ (mV)')\n",
    "pltools.hide_border('trb', trim=True)\n",
    "plt.xlabel('')\n",
    "plt.xticks([])\n",
    "plt.gca().get_legend().remove()\n",
    "\n",
    "plt.subplots_adjust(left=0.45, top=0.7, bottom=0.05, right=0.95)\n",
    "\n",
    "if IMG_PATH is not None:\n",
    "    plt.savefig(os.path.join(IMG_PATH, 'thresh_width.png'))\n",
    "    plt.savefig(os.path.join(IMG_PATH, 'thresh_width.svg'))"
   ]
  },
  {
   "cell_type": "code",
   "execution_count": 22,
   "metadata": {},
   "outputs": [
    {
     "name": "stdout",
     "output_type": "stream",
     "text": [
      "p-value annotation legend:\n",
      "ns: 1.00e-01 < p <= 1.00e+00\n",
      "o: 5.00e-02 < p <= 1.00e-01\n",
      "*: 1.00e-02 < p <= 5.00e-02\n",
      "**: 1.00e-03 < p <= 1.00e-02\n",
      "***: 1.00e-04 < p <= 1.00e-03\n",
      "****: p <= 1.00e-04\n",
      "()\n",
      "time_const_5HT v.s. time_const_GABA: Mann-Whitney-Wilcoxon test two-sided with Bonferroni correction, P_val=5.886e-03 U_stat=2.080e+02\n",
      "time_const_GABA v.s. time_const_mPFC: Mann-Whitney-Wilcoxon test two-sided with Bonferroni correction, P_val=1.000e+00 U_stat=5.000e+01\n",
      "time_const_5HT v.s. time_const_mPFC: Mann-Whitney-Wilcoxon test two-sided with Bonferroni correction, P_val=9.501e-02 U_stat=9.900e+01\n"
     ]
    },
    {
     "data": {
      "image/png": "[encoded data removed]",
      "text/plain": [
       "<Figure size 120x144 with 1 Axes>"
      ]
     },
     "metadata": {
      "needs_background": "light"
     },
     "output_type": "display_data"
    }
   ],
   "source": [
    "plt.figure(figsize=figsize)\n",
    "\n",
    "gamma_ax = plt.subplot(111)\n",
    "sns.boxplot(\n",
    "    x='variable', y='value', hue='cell_type', \n",
    "    data=pd.concat([params_cleaned, cell_types], axis=1).melt(id_vars='cell_type'),\n",
    "    order = ['time_const'],\n",
    "    fliersize=2\n",
    ")\n",
    "add_stat_annotation(\n",
    "    gamma_ax,\n",
    "    x='variable', y='value', hue='cell_type', \n",
    "    data=pd.concat([params_cleaned, cell_types], axis=1).melt(id_vars='cell_type'),\n",
    "    order = ['time_const'],\n",
    "    loc='outside',\n",
    "    test='Mann-Whitney',\n",
    "    comparisons_correction='bonferroni',\n",
    "    pvalue_thresholds=pvalue_thresholds,\n",
    "    box_pairs = [\n",
    "        (('time_const', '5HT'), ('time_const', 'GABA')),\n",
    "        (('time_const', 'mPFC'), ('time_const', 'GABA')),\n",
    "        (('time_const', '5HT'), ('time_const', 'mPFC'))\n",
    "    ]\n",
    ")\n",
    "plt.ylabel(r'$\\tau$ (ms)')\n",
    "pltools.hide_border('trb', trim=True)\n",
    "plt.xlabel('')\n",
    "plt.xticks([])\n",
    "plt.gca().get_legend().remove()\n",
    "\n",
    "plt.subplots_adjust(left=0.45, top=0.7, bottom=0.05, right=0.95)\n",
    "\n",
    "if IMG_PATH is not None:\n",
    "    plt.savefig(os.path.join(IMG_PATH, 'time_const.png'))\n",
    "    plt.savefig(os.path.join(IMG_PATH, 'time_const.svg'))"
   ]
  },
  {
   "cell_type": "code",
   "execution_count": 23,
   "metadata": {},
   "outputs": [
    {
     "name": "stdout",
     "output_type": "stream",
     "text": [
      "p-value annotation legend:\n",
      "ns: 1.00e-01 < p <= 1.00e+00\n",
      "o: 5.00e-02 < p <= 1.00e-01\n",
      "*: 1.00e-02 < p <= 5.00e-02\n",
      "**: 1.00e-03 < p <= 1.00e-02\n",
      "***: 1.00e-04 < p <= 1.00e-03\n",
      "****: p <= 1.00e-04\n",
      "()\n",
      "eta_integral_5HT v.s. eta_integral_GABA: Mann-Whitney-Wilcoxon test two-sided with Bonferroni correction, P_val=7.399e-04 U_stat=2.230e+02\n",
      "eta_integral_GABA v.s. eta_integral_mPFC: Mann-Whitney-Wilcoxon test two-sided with Bonferroni correction, P_val=2.426e-02 U_stat=1.300e+01\n",
      "eta_integral_5HT v.s. eta_integral_mPFC: Mann-Whitney-Wilcoxon test two-sided with Bonferroni correction, P_val=5.046e-02 U_stat=1.030e+02\n"
     ]
    },
    {
     "data": {
      "image/png": "[encoded data removed]",
      "text/plain": [
       "<Figure size 120x144 with 1 Axes>"
      ]
     },
     "metadata": {
      "needs_background": "light"
     },
     "output_type": "display_data"
    }
   ],
   "source": [
    "plt.figure(figsize=figsize)\n",
    "\n",
    "eta_ax = plt.subplot(111)\n",
    "sns.boxplot(\n",
    "    x='variable', y='value', hue='cell_type', \n",
    "    data=pd.concat([params_cleaned, cell_types], axis=1).melt(id_vars='cell_type'),\n",
    "    order = ['eta_integral'],\n",
    "    fliersize=2\n",
    ")\n",
    "add_stat_annotation(\n",
    "    eta_ax,\n",
    "    x='variable', y='value', hue='cell_type', \n",
    "    data=pd.concat([params_cleaned, cell_types], axis=1).melt(id_vars='cell_type'),\n",
    "    order = ['eta_integral'],\n",
    "    loc='outside',\n",
    "    test='Mann-Whitney',\n",
    "    comparisons_correction='bonferroni',\n",
    "    pvalue_thresholds=pvalue_thresholds,\n",
    "    box_pairs = [\n",
    "        (('eta_integral', '5HT'), ('eta_integral', 'GABA')),\n",
    "        (('eta_integral', 'mPFC'), ('eta_integral', 'GABA')),\n",
    "        (('eta_integral', '5HT'), ('eta_integral', 'mPFC'))\n",
    "    ]\n",
    ")\n",
    "plt.ylabel('$\\eta$ integral (nA ms)')\n",
    "pltools.hide_border('trb', trim=True)\n",
    "plt.xlabel('')\n",
    "plt.xticks([])\n",
    "plt.gca().get_legend().remove()\n",
    "\n",
    "plt.subplots_adjust(left=0.45, top=0.7, bottom=0.05, right=0.95)\n",
    "\n",
    "if IMG_PATH is not None:\n",
    "    plt.savefig(os.path.join(IMG_PATH, 'eta_integral.png'))\n",
    "    plt.savefig(os.path.join(IMG_PATH, 'eta_integral.svg'))"
   ]
  },
  {
   "cell_type": "code",
   "execution_count": 24,
   "metadata": {},
   "outputs": [
    {
     "name": "stdout",
     "output_type": "stream",
     "text": [
      "p-value annotation legend:\n",
      "ns: 1.00e-01 < p <= 1.00e+00\n",
      "o: 5.00e-02 < p <= 1.00e-01\n",
      "*: 1.00e-02 < p <= 5.00e-02\n",
      "**: 1.00e-03 < p <= 1.00e-02\n",
      "***: 1.00e-04 < p <= 1.00e-03\n",
      "****: p <= 1.00e-04\n",
      "()\n",
      "gamma_integral_5HT v.s. gamma_integral_GABA: Mann-Whitney-Wilcoxon test two-sided with Bonferroni correction, P_val=4.094e-05 U_stat=2.410e+02\n",
      "gamma_integral_GABA v.s. gamma_integral_mPFC: Mann-Whitney-Wilcoxon test two-sided with Bonferroni correction, P_val=4.372e-01 U_stat=6.900e+01\n",
      "gamma_integral_5HT v.s. gamma_integral_mPFC: Mann-Whitney-Wilcoxon test two-sided with Bonferroni correction, P_val=7.519e-04 U_stat=1.240e+02\n"
     ]
    },
    {
     "data": {
      "image/png": "[encoded data removed]",
      "text/plain": [
       "<Figure size 240x144 with 2 Axes>"
      ]
     },
     "metadata": {
      "needs_background": "light"
     },
     "output_type": "display_data"
    }
   ],
   "source": [
    "plt.figure(figsize=(2, figsize[1]))\n",
    "\n",
    "gamma_ax = plt.subplot(121)\n",
    "sns.boxplot(\n",
    "    x='variable', y='value', hue='cell_type', \n",
    "    data=pd.concat([params_cleaned, cell_types], axis=1).melt(id_vars='cell_type'),\n",
    "    order = ['gamma_integral']\n",
    ")\n",
    "plt.ylabel('$\\gamma$ integral (mV ms)')\n",
    "pltools.hide_border('trb', trim=True)\n",
    "plt.xlabel('')\n",
    "plt.xticks([])\n",
    "plt.gca().get_legend().remove()\n",
    "\n",
    "gamma_ins = plt.subplot(122)\n",
    "sns.boxplot(\n",
    "    x='variable', y='value', hue='cell_type', \n",
    "    data=pd.concat([params_cleaned, cell_types], axis=1).melt(id_vars='cell_type'),\n",
    "    order = ['gamma_integral'],\n",
    "    hue_order=['5HT', 'GABA', 'mPFC']\n",
    ")\n",
    "plt.ylim(0, 22000)\n",
    "plt.ylabel('')\n",
    "plt.xlabel('')\n",
    "plt.xticks([])\n",
    "add_stat_annotation(\n",
    "    gamma_ins,\n",
    "    x='variable', y='value', hue='cell_type', \n",
    "    data=pd.concat([params_cleaned, cell_types], axis=1).melt(id_vars='cell_type'),\n",
    "    order = ['gamma_integral'],\n",
    "    loc='outside',\n",
    "    test='Mann-Whitney',\n",
    "    comparisons_correction='bonferroni',\n",
    "    pvalue_thresholds=pvalue_thresholds,\n",
    "    box_pairs = [\n",
    "        (('gamma_integral', '5HT'), ('gamma_integral', 'GABA')),\n",
    "        (('gamma_integral', 'mPFC'), ('gamma_integral', 'GABA')),\n",
    "        (('gamma_integral', '5HT'), ('gamma_integral', 'mPFC'))\n",
    "    ]\n",
    ")\n",
    "pltools.hide_border('trb')\n",
    "plt.legend(bbox_to_anchor=(1, 1), loc='upper left')\n",
    "\n",
    "mark_inset(gamma_ax, gamma_ins, 2, 3)\n",
    "\n",
    "plt.subplots_adjust(left=0.45, top=0.7, bottom=0.05, right=0.95)\n",
    "\n",
    "if IMG_PATH is not None:\n",
    "    plt.savefig(os.path.join(IMG_PATH, 'gamma_integral.png'))\n",
    "    plt.savefig(os.path.join(IMG_PATH, 'gamma_integral.svg'))"
   ]
  }
 ],
 "metadata": {
  "kernelspec": {
   "display_name": "Python 2",
   "language": "python",
   "name": "python2"
  },
  "language_info": {
   "codemirror_mode": {
    "name": "ipython",
    "version": 2
   },
   "file_extension": ".py",
   "mimetype": "text/x-python",
   "name": "python",
   "nbconvert_exporter": "python",
   "pygments_lexer": "ipython2",
   "version": "2.7.15"
  }
 },
 "nbformat": 4,
 "nbformat_minor": 2
}

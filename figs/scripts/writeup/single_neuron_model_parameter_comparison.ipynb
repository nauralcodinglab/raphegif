{
 "cells": [
  {
   "cell_type": "code",
   "execution_count": 1,
   "metadata": {},
   "outputs": [],
   "source": [
    "from common import colors, pvalue_thresholds, insetlw"
   ]
  },
  {
   "cell_type": "code",
   "execution_count": 2,
   "metadata": {},
   "outputs": [
    {
     "name": "stdout",
     "output_type": "stream",
     "text": [
      "/home/eharkin/projects/5HTGIF-dev\n"
     ]
    }
   ],
   "source": [
    "import os\n",
    "os.chdir(os.path.join('..', '..', '..'))\n",
    "print(os.getcwd())"
   ]
  },
  {
   "cell_type": "code",
   "execution_count": 3,
   "metadata": {},
   "outputs": [],
   "source": [
    "import re\n",
    "\n",
    "import numpy as np\n",
    "import pandas as pd\n",
    "import matplotlib.pyplot as plt\n",
    "import matplotlib.gridspec as gs\n",
    "from mpl_toolkits.axes_grid1.inset_locator import mark_inset\n",
    "import seaborn as sns\n",
    "from scipy import stats\n",
    "from sklearn.manifold import TSNE\n",
    "from statannot import add_stat_annotation\n",
    "from ezephys import pltools"
   ]
  },
  {
   "cell_type": "code",
   "execution_count": 4,
   "metadata": {},
   "outputs": [],
   "source": [
    "plt.style.use(os.path.join('figs', 'scripts', 'writeup', 'publication_figure_style.dms'))"
   ]
  },
  {
   "cell_type": "code",
   "execution_count": 5,
   "metadata": {},
   "outputs": [],
   "source": [
    "IMG_PATH = os.path.join('figs', 'ims', 'writeup', 'GIF_parameters')"
   ]
  },
  {
   "cell_type": "markdown",
   "metadata": {},
   "source": [
    "# Load data"
   ]
  },
  {
   "cell_type": "code",
   "execution_count": 6,
   "metadata": {},
   "outputs": [
    {
     "name": "stdout",
     "output_type": "stream",
     "text": [
      "(156, 37)\n"
     ]
    }
   ],
   "source": [
    "params = pd.read_csv(os.path.join('analysis', 'model_clustering', 'model_params.csv'))\n",
    "print(params.shape)"
   ]
  },
  {
   "cell_type": "code",
   "execution_count": 7,
   "metadata": {},
   "outputs": [
    {
     "data": {
      "text/html": [
       "<div>\n",
       "<style scoped>\n",
       "    .dataframe tbody tr th:only-of-type {\n",
       "        vertical-align: middle;\n",
       "    }\n",
       "\n",
       "    .dataframe tbody tr th {\n",
       "        vertical-align: top;\n",
       "    }\n",
       "\n",
       "    .dataframe thead th {\n",
       "        text-align: right;\n",
       "    }\n",
       "</style>\n",
       "<table border=\"1\" class=\"dataframe\">\n",
       "  <thead>\n",
       "    <tr style=\"text-align: right;\">\n",
       "      <th></th>\n",
       "      <th>C</th>\n",
       "      <th>DV</th>\n",
       "      <th>E_K</th>\n",
       "      <th>El</th>\n",
       "      <th>Tref</th>\n",
       "      <th>Vr</th>\n",
       "      <th>Vt_star</th>\n",
       "      <th>cell_type</th>\n",
       "      <th>dt</th>\n",
       "      <th>eta_10.0</th>\n",
       "      <th>...</th>\n",
       "      <th>lambda0</th>\n",
       "      <th>m_A</th>\n",
       "      <th>m_Vhalf</th>\n",
       "      <th>m_k</th>\n",
       "      <th>n_A</th>\n",
       "      <th>n_Vhalf</th>\n",
       "      <th>n_k</th>\n",
       "      <th>name</th>\n",
       "      <th>resting_potential</th>\n",
       "      <th>type</th>\n",
       "    </tr>\n",
       "  </thead>\n",
       "  <tbody>\n",
       "    <tr>\n",
       "      <th>0</th>\n",
       "      <td>0.099165</td>\n",
       "      <td>6.537423</td>\n",
       "      <td>NaN</td>\n",
       "      <td>-64.456700</td>\n",
       "      <td>6.5</td>\n",
       "      <td>-53.551984</td>\n",
       "      <td>-55.723169</td>\n",
       "      <td>5HT</td>\n",
       "      <td>0.1</td>\n",
       "      <td>0.008590</td>\n",
       "      <td>...</td>\n",
       "      <td>1.0</td>\n",
       "      <td>NaN</td>\n",
       "      <td>NaN</td>\n",
       "      <td>NaN</td>\n",
       "      <td>NaN</td>\n",
       "      <td>NaN</td>\n",
       "      <td>NaN</td>\n",
       "      <td>DRN307</td>\n",
       "      <td>-64.456703</td>\n",
       "      <td>GIF</td>\n",
       "    </tr>\n",
       "    <tr>\n",
       "      <th>1</th>\n",
       "      <td>0.121812</td>\n",
       "      <td>4.442023</td>\n",
       "      <td>NaN</td>\n",
       "      <td>-80.402978</td>\n",
       "      <td>6.5</td>\n",
       "      <td>-54.555621</td>\n",
       "      <td>-54.317823</td>\n",
       "      <td>5HT</td>\n",
       "      <td>0.1</td>\n",
       "      <td>0.024262</td>\n",
       "      <td>...</td>\n",
       "      <td>1.0</td>\n",
       "      <td>NaN</td>\n",
       "      <td>NaN</td>\n",
       "      <td>NaN</td>\n",
       "      <td>NaN</td>\n",
       "      <td>NaN</td>\n",
       "      <td>NaN</td>\n",
       "      <td>DRN308</td>\n",
       "      <td>-80.402977</td>\n",
       "      <td>GIF</td>\n",
       "    </tr>\n",
       "    <tr>\n",
       "      <th>2</th>\n",
       "      <td>0.115125</td>\n",
       "      <td>2.417979</td>\n",
       "      <td>NaN</td>\n",
       "      <td>-64.851407</td>\n",
       "      <td>6.5</td>\n",
       "      <td>-56.135385</td>\n",
       "      <td>-49.111013</td>\n",
       "      <td>5HT</td>\n",
       "      <td>0.1</td>\n",
       "      <td>0.068537</td>\n",
       "      <td>...</td>\n",
       "      <td>1.0</td>\n",
       "      <td>NaN</td>\n",
       "      <td>NaN</td>\n",
       "      <td>NaN</td>\n",
       "      <td>NaN</td>\n",
       "      <td>NaN</td>\n",
       "      <td>NaN</td>\n",
       "      <td>DRN317</td>\n",
       "      <td>-64.851410</td>\n",
       "      <td>GIF</td>\n",
       "    </tr>\n",
       "    <tr>\n",
       "      <th>3</th>\n",
       "      <td>0.094173</td>\n",
       "      <td>3.813900</td>\n",
       "      <td>NaN</td>\n",
       "      <td>-63.565351</td>\n",
       "      <td>6.5</td>\n",
       "      <td>-55.919281</td>\n",
       "      <td>-46.181507</td>\n",
       "      <td>5HT</td>\n",
       "      <td>0.1</td>\n",
       "      <td>0.017409</td>\n",
       "      <td>...</td>\n",
       "      <td>1.0</td>\n",
       "      <td>NaN</td>\n",
       "      <td>NaN</td>\n",
       "      <td>NaN</td>\n",
       "      <td>NaN</td>\n",
       "      <td>NaN</td>\n",
       "      <td>NaN</td>\n",
       "      <td>DRN318</td>\n",
       "      <td>-63.565350</td>\n",
       "      <td>GIF</td>\n",
       "    </tr>\n",
       "    <tr>\n",
       "      <th>4</th>\n",
       "      <td>0.105769</td>\n",
       "      <td>4.568117</td>\n",
       "      <td>NaN</td>\n",
       "      <td>-54.186544</td>\n",
       "      <td>6.5</td>\n",
       "      <td>-49.185461</td>\n",
       "      <td>-59.392968</td>\n",
       "      <td>5HT</td>\n",
       "      <td>0.1</td>\n",
       "      <td>0.030981</td>\n",
       "      <td>...</td>\n",
       "      <td>1.0</td>\n",
       "      <td>NaN</td>\n",
       "      <td>NaN</td>\n",
       "      <td>NaN</td>\n",
       "      <td>NaN</td>\n",
       "      <td>NaN</td>\n",
       "      <td>NaN</td>\n",
       "      <td>DRN319</td>\n",
       "      <td>-54.186543</td>\n",
       "      <td>GIF</td>\n",
       "    </tr>\n",
       "  </tbody>\n",
       "</table>\n",
       "<p>5 rows × 37 columns</p>\n",
       "</div>"
      ],
      "text/plain": [
       "          C        DV  E_K         El  Tref         Vr    Vt_star cell_type  \\\n",
       "0  0.099165  6.537423  NaN -64.456700   6.5 -53.551984 -55.723169       5HT   \n",
       "1  0.121812  4.442023  NaN -80.402978   6.5 -54.555621 -54.317823       5HT   \n",
       "2  0.115125  2.417979  NaN -64.851407   6.5 -56.135385 -49.111013       5HT   \n",
       "3  0.094173  3.813900  NaN -63.565351   6.5 -55.919281 -46.181507       5HT   \n",
       "4  0.105769  4.568117  NaN -54.186544   6.5 -49.185461 -59.392968       5HT   \n",
       "\n",
       "    dt  eta_10.0  ...   lambda0  m_A  m_Vhalf  m_k  n_A  n_Vhalf  n_k    name  \\\n",
       "0  0.1  0.008590  ...       1.0  NaN      NaN  NaN  NaN      NaN  NaN  DRN307   \n",
       "1  0.1  0.024262  ...       1.0  NaN      NaN  NaN  NaN      NaN  NaN  DRN308   \n",
       "2  0.1  0.068537  ...       1.0  NaN      NaN  NaN  NaN      NaN  NaN  DRN317   \n",
       "3  0.1  0.017409  ...       1.0  NaN      NaN  NaN  NaN      NaN  NaN  DRN318   \n",
       "4  0.1  0.030981  ...       1.0  NaN      NaN  NaN  NaN      NaN  NaN  DRN319   \n",
       "\n",
       "   resting_potential  type  \n",
       "0         -64.456703   GIF  \n",
       "1         -80.402977   GIF  \n",
       "2         -64.851410   GIF  \n",
       "3         -63.565350   GIF  \n",
       "4         -54.186543   GIF  \n",
       "\n",
       "[5 rows x 37 columns]"
      ]
     },
     "execution_count": 7,
     "metadata": {},
     "output_type": "execute_result"
    }
   ],
   "source": [
    "params.head()"
   ]
  },
  {
   "cell_type": "code",
   "execution_count": 8,
   "metadata": {},
   "outputs": [
    {
     "data": {
      "text/plain": [
       "Index([u'C', u'DV', u'E_K', u'El', u'Tref', u'Vr', u'Vt_star', u'cell_type',\n",
       "       u'dt', u'eta_10.0', u'eta_100.0', u'eta_1000.0', u'eta_3.0',\n",
       "       u'eta_30.0', u'eta_300.0', u'eta_3000.0', u'gamma_3.0', u'gamma_30.0',\n",
       "       u'gamma_300.0', u'gamma_3000.0', u'gbar_K1', u'gbar_K2', u'gl', u'h_A',\n",
       "       u'h_Vhalf', u'h_k', u'h_tau', u'lambda0', u'm_A', u'm_Vhalf', u'm_k',\n",
       "       u'n_A', u'n_Vhalf', u'n_k', u'name', u'resting_potential', u'type'],\n",
       "      dtype='object')"
      ]
     },
     "execution_count": 8,
     "metadata": {},
     "output_type": "execute_result"
    }
   ],
   "source": [
    "params.columns"
   ]
  },
  {
   "cell_type": "markdown",
   "metadata": {},
   "source": [
    "# Compute additional features\n",
    "\n",
    "- Time constant\n",
    "- Distance to threshold\n",
    "- Spike triggered current integral\n",
    "- Spike triggered threshold movement integral"
   ]
  },
  {
   "cell_type": "code",
   "execution_count": 9,
   "metadata": {},
   "outputs": [],
   "source": [
    "params['thresh_dist'] = params['Vt_star'] - params['resting_potential']\n",
    "params['time_const'] = params['C'] / params['gl']"
   ]
  },
  {
   "cell_type": "code",
   "execution_count": 10,
   "metadata": {},
   "outputs": [],
   "source": [
    "def get_kernel_integral(model_param_df, kernel_name):\n",
    "    integrals = np.zeros(model_param_df.shape[0], dtype=np.float64)\n",
    "    \n",
    "    for colname in model_param_df.columns:\n",
    "        match = re.search('{}_(.*)'.format(kernel_name), colname)\n",
    "        if match is not None:\n",
    "            try:\n",
    "                timescale = float(match.groups()[0])\n",
    "                integrals += model_param_df[colname] * timescale\n",
    "            except ValueError:\n",
    "                pass\n",
    "    \n",
    "    return integrals\n",
    "\n",
    "def _monoexponential_integral(scale, tau, start, end):\n",
    "    \"\"\"Evaluate the integral of scale * e^{-t/tau} from t=start to end.\"\"\"\n",
    "    return scale * tau * (np.exp(-start / tau) - np.exp(-end / tau))\n",
    "\n",
    "def get_kernel_integral_over_range(model_param_df, kernel_name, start, end):\n",
    "    integrals = np.zeros(model_param_df.shape[0], dtype=np.float64)\n",
    "    \n",
    "    for colname in model_param_df.columns:\n",
    "        match = re.search('{}_(.*)'.format(kernel_name), colname)\n",
    "        if match is not None:\n",
    "            try:\n",
    "                timescale = float(match.groups()[0])\n",
    "                integrals += _monoexponential_integral(model_param_df[colname], timescale, start, end)\n",
    "            except ValueError:\n",
    "                # ValueError if match cannot be converted to float.\n",
    "                pass\n",
    "    \n",
    "    return integrals"
   ]
  },
  {
   "cell_type": "code",
   "execution_count": 11,
   "metadata": {},
   "outputs": [
    {
     "name": "stdout",
     "output_type": "stream",
     "text": [
      "27.221368927734513\n",
      "27.17605034748375\n"
     ]
    }
   ],
   "source": [
    "y = 2 * np.exp(-np.arange(10, 40, 0.1) / 30.)\n",
    "print(y.sum() * 0.1)\n",
    "print(_monoexponential_integral(2., 30., 10., 40.))"
   ]
  },
  {
   "cell_type": "code",
   "execution_count": 12,
   "metadata": {
    "scrolled": false
   },
   "outputs": [],
   "source": [
    "params['gamma_integral'] = get_kernel_integral(params, 'gamma')\n",
    "params['gamma_integral_100_300'] = get_kernel_integral_over_range(params, 'gamma', 100., 300.)\n",
    "params['eta_integral'] = get_kernel_integral(params, 'eta')\n",
    "params['eta_integral_100_300'] = get_kernel_integral_over_range(params, 'eta', 100., 300.)"
   ]
  },
  {
   "cell_type": "markdown",
   "metadata": {},
   "source": [
    "# Select models for each cell type and remove unnecessary features\n",
    "\n",
    "Based on performance, use\n",
    "- AugmentdGIF for 5HT\n",
    "- iGIF for GABA\n",
    "- GIF for mPFC"
   ]
  },
  {
   "cell_type": "code",
   "execution_count": 13,
   "metadata": {},
   "outputs": [
    {
     "data": {
      "text/html": [
       "<div>\n",
       "<style scoped>\n",
       "    .dataframe tbody tr th:only-of-type {\n",
       "        vertical-align: middle;\n",
       "    }\n",
       "\n",
       "    .dataframe tbody tr th {\n",
       "        vertical-align: top;\n",
       "    }\n",
       "\n",
       "    .dataframe thead th {\n",
       "        text-align: right;\n",
       "    }\n",
       "</style>\n",
       "<table border=\"1\" class=\"dataframe\">\n",
       "  <thead>\n",
       "    <tr style=\"text-align: right;\">\n",
       "      <th></th>\n",
       "      <th>C</th>\n",
       "      <th>DV</th>\n",
       "      <th>El</th>\n",
       "      <th>Vr</th>\n",
       "      <th>Vt_star</th>\n",
       "      <th>eta_10.0</th>\n",
       "      <th>eta_100.0</th>\n",
       "      <th>eta_1000.0</th>\n",
       "      <th>eta_3.0</th>\n",
       "      <th>eta_30.0</th>\n",
       "      <th>...</th>\n",
       "      <th>gamma_300.0</th>\n",
       "      <th>gamma_3000.0</th>\n",
       "      <th>gl</th>\n",
       "      <th>resting_potential</th>\n",
       "      <th>thresh_dist</th>\n",
       "      <th>time_const</th>\n",
       "      <th>gamma_integral</th>\n",
       "      <th>gamma_integral_100_300</th>\n",
       "      <th>eta_integral</th>\n",
       "      <th>eta_integral_100_300</th>\n",
       "    </tr>\n",
       "  </thead>\n",
       "  <tbody>\n",
       "    <tr>\n",
       "      <th>18</th>\n",
       "      <td>0.094361</td>\n",
       "      <td>5.151440</td>\n",
       "      <td>-58.844484</td>\n",
       "      <td>-53.551984</td>\n",
       "      <td>-54.177859</td>\n",
       "      <td>0.017686</td>\n",
       "      <td>0.034300</td>\n",
       "      <td>0.002096</td>\n",
       "      <td>0.049526</td>\n",
       "      <td>-0.008602</td>\n",
       "      <td>...</td>\n",
       "      <td>9.210687</td>\n",
       "      <td>4.043286</td>\n",
       "      <td>0.000861</td>\n",
       "      <td>-63.878241</td>\n",
       "      <td>9.700382</td>\n",
       "      <td>109.628596</td>\n",
       "      <td>172547.065174</td>\n",
       "      <td>1679.887241</td>\n",
       "      <td>7.464355</td>\n",
       "      <td>1.501455</td>\n",
       "    </tr>\n",
       "    <tr>\n",
       "      <th>19</th>\n",
       "      <td>0.114845</td>\n",
       "      <td>3.100222</td>\n",
       "      <td>-78.704060</td>\n",
       "      <td>-54.555621</td>\n",
       "      <td>-52.019543</td>\n",
       "      <td>0.031297</td>\n",
       "      <td>0.044008</td>\n",
       "      <td>0.006359</td>\n",
       "      <td>0.075099</td>\n",
       "      <td>-0.015408</td>\n",
       "      <td>...</td>\n",
       "      <td>33.070279</td>\n",
       "      <td>1.567952</td>\n",
       "      <td>0.000922</td>\n",
       "      <td>-80.044693</td>\n",
       "      <td>28.025150</td>\n",
       "      <td>124.519142</td>\n",
       "      <td>16828.467756</td>\n",
       "      <td>3841.221900</td>\n",
       "      <td>5.351770</td>\n",
       "      <td>2.791997</td>\n",
       "    </tr>\n",
       "    <tr>\n",
       "      <th>20</th>\n",
       "      <td>0.112719</td>\n",
       "      <td>1.243869</td>\n",
       "      <td>-63.613946</td>\n",
       "      <td>-56.135385</td>\n",
       "      <td>-46.521983</td>\n",
       "      <td>0.070731</td>\n",
       "      <td>0.060428</td>\n",
       "      <td>0.001838</td>\n",
       "      <td>-0.027645</td>\n",
       "      <td>-0.023487</td>\n",
       "      <td>...</td>\n",
       "      <td>10.527019</td>\n",
       "      <td>-0.196059</td>\n",
       "      <td>0.001880</td>\n",
       "      <td>-65.250572</td>\n",
       "      <td>18.728589</td>\n",
       "      <td>59.967890</td>\n",
       "      <td>5389.795788</td>\n",
       "      <td>1177.382551</td>\n",
       "      <td>6.968573</td>\n",
       "      <td>2.615805</td>\n",
       "    </tr>\n",
       "    <tr>\n",
       "      <th>21</th>\n",
       "      <td>0.087793</td>\n",
       "      <td>2.370314</td>\n",
       "      <td>-59.092437</td>\n",
       "      <td>-55.919281</td>\n",
       "      <td>-44.941785</td>\n",
       "      <td>0.022294</td>\n",
       "      <td>0.063337</td>\n",
       "      <td>0.001827</td>\n",
       "      <td>-0.016180</td>\n",
       "      <td>-0.006967</td>\n",
       "      <td>...</td>\n",
       "      <td>15.640274</td>\n",
       "      <td>-0.849952</td>\n",
       "      <td>0.001260</td>\n",
       "      <td>-62.917251</td>\n",
       "      <td>17.975466</td>\n",
       "      <td>69.652951</td>\n",
       "      <td>2565.942361</td>\n",
       "      <td>1494.445527</td>\n",
       "      <td>7.327677</td>\n",
       "      <td>2.056429</td>\n",
       "    </tr>\n",
       "    <tr>\n",
       "      <th>22</th>\n",
       "      <td>0.121158</td>\n",
       "      <td>4.977856</td>\n",
       "      <td>-50.061295</td>\n",
       "      <td>-49.185461</td>\n",
       "      <td>-58.738916</td>\n",
       "      <td>0.048414</td>\n",
       "      <td>0.021002</td>\n",
       "      <td>0.005247</td>\n",
       "      <td>-0.085554</td>\n",
       "      <td>0.010993</td>\n",
       "      <td>...</td>\n",
       "      <td>0.173663</td>\n",
       "      <td>2.356287</td>\n",
       "      <td>0.001390</td>\n",
       "      <td>-50.061295</td>\n",
       "      <td>-8.677622</td>\n",
       "      <td>87.132521</td>\n",
       "      <td>10313.230576</td>\n",
       "      <td>451.370729</td>\n",
       "      <td>-6.387377</td>\n",
       "      <td>0.578642</td>\n",
       "    </tr>\n",
       "  </tbody>\n",
       "</table>\n",
       "<p>5 rows × 24 columns</p>\n",
       "</div>"
      ],
      "text/plain": [
       "           C        DV         El         Vr    Vt_star  eta_10.0  eta_100.0  \\\n",
       "18  0.094361  5.151440 -58.844484 -53.551984 -54.177859  0.017686   0.034300   \n",
       "19  0.114845  3.100222 -78.704060 -54.555621 -52.019543  0.031297   0.044008   \n",
       "20  0.112719  1.243869 -63.613946 -56.135385 -46.521983  0.070731   0.060428   \n",
       "21  0.087793  2.370314 -59.092437 -55.919281 -44.941785  0.022294   0.063337   \n",
       "22  0.121158  4.977856 -50.061295 -49.185461 -58.738916  0.048414   0.021002   \n",
       "\n",
       "    eta_1000.0   eta_3.0  eta_30.0          ...           gamma_300.0  \\\n",
       "18    0.002096  0.049526 -0.008602          ...              9.210687   \n",
       "19    0.006359  0.075099 -0.015408          ...             33.070279   \n",
       "20    0.001838 -0.027645 -0.023487          ...             10.527019   \n",
       "21    0.001827 -0.016180 -0.006967          ...             15.640274   \n",
       "22    0.005247 -0.085554  0.010993          ...              0.173663   \n",
       "\n",
       "    gamma_3000.0        gl  resting_potential  thresh_dist  time_const  \\\n",
       "18      4.043286  0.000861         -63.878241     9.700382  109.628596   \n",
       "19      1.567952  0.000922         -80.044693    28.025150  124.519142   \n",
       "20     -0.196059  0.001880         -65.250572    18.728589   59.967890   \n",
       "21     -0.849952  0.001260         -62.917251    17.975466   69.652951   \n",
       "22      2.356287  0.001390         -50.061295    -8.677622   87.132521   \n",
       "\n",
       "    gamma_integral  gamma_integral_100_300  eta_integral  eta_integral_100_300  \n",
       "18   172547.065174             1679.887241      7.464355              1.501455  \n",
       "19    16828.467756             3841.221900      5.351770              2.791997  \n",
       "20     5389.795788             1177.382551      6.968573              2.615805  \n",
       "21     2565.942361             1494.445527      7.327677              2.056429  \n",
       "22    10313.230576              451.370729     -6.387377              0.578642  \n",
       "\n",
       "[5 rows x 24 columns]"
      ]
     },
     "execution_count": 13,
     "metadata": {},
     "output_type": "execute_result"
    }
   ],
   "source": [
    "params_cleaned = params.copy()\n",
    "params_cleaned.drop(columns=[\n",
    "    'Tref', 'dt', 'E_K', 'gbar_K1', 'gbar_K2', 'h_A', 'h_Vhalf', \n",
    "    'h_k', 'lambda0', 'm_A', 'm_Vhalf', 'm_k', 'n_A', 'n_Vhalf', \n",
    "    'n_k', 'h_tau',\n",
    "], inplace=True)\n",
    "params_cleaned = params_cleaned.loc[\n",
    "    ((params_cleaned['cell_type'] == 'mPFC') & (params_cleaned['type'] == 'GIF'))\n",
    "    | ((params_cleaned['cell_type'] == '5HT') & (params_cleaned['type'] == 'AugmentedGIF'))\n",
    "    | ((params_cleaned['cell_type'] == 'GABA') & (params_cleaned['type'] == 'iGIF_NP')),\n",
    "    :\n",
    "]\n",
    "params_cleaned.drop(columns=['name', 'type'], inplace=True)\n",
    "\n",
    "cell_types = params_cleaned['cell_type']\n",
    "params_cleaned.drop(columns=['cell_type'], inplace=True)\n",
    "\n",
    "params_cleaned.head()"
   ]
  },
  {
   "cell_type": "code",
   "execution_count": 14,
   "metadata": {},
   "outputs": [
    {
     "name": "stdout",
     "output_type": "stream",
     "text": [
      "Index([u'C', u'DV', u'El', u'Vr', u'Vt_star', u'eta_10.0', u'eta_100.0',\n",
      "       u'eta_1000.0', u'eta_3.0', u'eta_30.0', u'eta_300.0', u'eta_3000.0',\n",
      "       u'gamma_3.0', u'gamma_30.0', u'gamma_300.0', u'gamma_3000.0', u'gl',\n",
      "       u'resting_potential', u'thresh_dist', u'time_const', u'gamma_integral',\n",
      "       u'gamma_integral_100_300', u'eta_integral', u'eta_integral_100_300'],\n",
      "      dtype='object')\n"
     ]
    }
   ],
   "source": [
    "print(params_cleaned.columns)"
   ]
  },
  {
   "cell_type": "code",
   "execution_count": 15,
   "metadata": {},
   "outputs": [
    {
     "name": "stdout",
     "output_type": "stream",
     "text": [
      "(39, 24)\n"
     ]
    }
   ],
   "source": [
    "print(params_cleaned.shape)"
   ]
  },
  {
   "cell_type": "code",
   "execution_count": 16,
   "metadata": {},
   "outputs": [
    {
     "data": {
      "text/html": [
       "<div>\n",
       "<style scoped>\n",
       "    .dataframe tbody tr th:only-of-type {\n",
       "        vertical-align: middle;\n",
       "    }\n",
       "\n",
       "    .dataframe tbody tr th {\n",
       "        vertical-align: top;\n",
       "    }\n",
       "\n",
       "    .dataframe thead th {\n",
       "        text-align: right;\n",
       "    }\n",
       "</style>\n",
       "<table border=\"1\" class=\"dataframe\">\n",
       "  <thead>\n",
       "    <tr style=\"text-align: right;\">\n",
       "      <th></th>\n",
       "      <th>thresh_dist</th>\n",
       "      <th>time_const</th>\n",
       "      <th>gamma_integral</th>\n",
       "      <th>gamma_integral_100_300</th>\n",
       "      <th>eta_integral</th>\n",
       "      <th>eta_integral_100_300</th>\n",
       "    </tr>\n",
       "    <tr>\n",
       "      <th>cell_type</th>\n",
       "      <th></th>\n",
       "      <th></th>\n",
       "      <th></th>\n",
       "      <th></th>\n",
       "      <th></th>\n",
       "      <th></th>\n",
       "    </tr>\n",
       "  </thead>\n",
       "  <tbody>\n",
       "    <tr>\n",
       "      <th>5HT</th>\n",
       "      <td>15.104393</td>\n",
       "      <td>82.605473</td>\n",
       "      <td>8.435214e+06</td>\n",
       "      <td>121346.071593</td>\n",
       "      <td>6.165346</td>\n",
       "      <td>2.113692</td>\n",
       "    </tr>\n",
       "    <tr>\n",
       "      <th>GABA</th>\n",
       "      <td>7.486579</td>\n",
       "      <td>37.816230</td>\n",
       "      <td>7.953363e+02</td>\n",
       "      <td>159.205748</td>\n",
       "      <td>0.215101</td>\n",
       "      <td>0.069758</td>\n",
       "    </tr>\n",
       "    <tr>\n",
       "      <th>mPFC</th>\n",
       "      <td>3.977571</td>\n",
       "      <td>41.955724</td>\n",
       "      <td>8.707739e+02</td>\n",
       "      <td>60.442295</td>\n",
       "      <td>2.747578</td>\n",
       "      <td>0.146596</td>\n",
       "    </tr>\n",
       "  </tbody>\n",
       "</table>\n",
       "</div>"
      ],
      "text/plain": [
       "           thresh_dist  time_const  gamma_integral  gamma_integral_100_300  \\\n",
       "cell_type                                                                    \n",
       "5HT          15.104393   82.605473    8.435214e+06           121346.071593   \n",
       "GABA          7.486579   37.816230    7.953363e+02              159.205748   \n",
       "mPFC          3.977571   41.955724    8.707739e+02               60.442295   \n",
       "\n",
       "           eta_integral  eta_integral_100_300  \n",
       "cell_type                                      \n",
       "5HT            6.165346              2.113692  \n",
       "GABA           0.215101              0.069758  \n",
       "mPFC           2.747578              0.146596  "
      ]
     },
     "execution_count": 16,
     "metadata": {},
     "output_type": "execute_result"
    }
   ],
   "source": [
    "params_cleaned.groupby(cell_types).mean().loc[:, [\n",
    "    'thresh_dist', 'time_const', 'gamma_integral', 'gamma_integral_100_300', 'eta_integral', 'eta_integral_100_300'\n",
    "]]"
   ]
  },
  {
   "cell_type": "code",
   "execution_count": 17,
   "metadata": {},
   "outputs": [
    {
     "data": {
      "text/html": [
       "<div>\n",
       "<style scoped>\n",
       "    .dataframe tbody tr th:only-of-type {\n",
       "        vertical-align: middle;\n",
       "    }\n",
       "\n",
       "    .dataframe tbody tr th {\n",
       "        vertical-align: top;\n",
       "    }\n",
       "\n",
       "    .dataframe thead th {\n",
       "        text-align: right;\n",
       "    }\n",
       "</style>\n",
       "<table border=\"1\" class=\"dataframe\">\n",
       "  <thead>\n",
       "    <tr style=\"text-align: right;\">\n",
       "      <th></th>\n",
       "      <th>thresh_dist</th>\n",
       "      <th>time_const</th>\n",
       "      <th>gamma_integral</th>\n",
       "      <th>gamma_integral_100_300</th>\n",
       "      <th>eta_integral</th>\n",
       "      <th>eta_integral_100_300</th>\n",
       "    </tr>\n",
       "    <tr>\n",
       "      <th>cell_type</th>\n",
       "      <th></th>\n",
       "      <th></th>\n",
       "      <th></th>\n",
       "      <th></th>\n",
       "      <th></th>\n",
       "      <th></th>\n",
       "    </tr>\n",
       "  </thead>\n",
       "  <tbody>\n",
       "    <tr>\n",
       "      <th>5HT</th>\n",
       "      <td>16.373741</td>\n",
       "      <td>81.205174</td>\n",
       "      <td>10427.344125</td>\n",
       "      <td>1417.645199</td>\n",
       "      <td>6.931264</td>\n",
       "      <td>2.145208</td>\n",
       "    </tr>\n",
       "    <tr>\n",
       "      <th>GABA</th>\n",
       "      <td>8.730338</td>\n",
       "      <td>34.141340</td>\n",
       "      <td>444.253968</td>\n",
       "      <td>121.665851</td>\n",
       "      <td>-0.083192</td>\n",
       "      <td>0.029879</td>\n",
       "    </tr>\n",
       "    <tr>\n",
       "      <th>mPFC</th>\n",
       "      <td>8.402660</td>\n",
       "      <td>30.006071</td>\n",
       "      <td>604.657659</td>\n",
       "      <td>44.120746</td>\n",
       "      <td>2.665248</td>\n",
       "      <td>0.310253</td>\n",
       "    </tr>\n",
       "  </tbody>\n",
       "</table>\n",
       "</div>"
      ],
      "text/plain": [
       "           thresh_dist  time_const  gamma_integral  gamma_integral_100_300  \\\n",
       "cell_type                                                                    \n",
       "5HT          16.373741   81.205174    10427.344125             1417.645199   \n",
       "GABA          8.730338   34.141340      444.253968              121.665851   \n",
       "mPFC          8.402660   30.006071      604.657659               44.120746   \n",
       "\n",
       "           eta_integral  eta_integral_100_300  \n",
       "cell_type                                      \n",
       "5HT            6.931264              2.145208  \n",
       "GABA          -0.083192              0.029879  \n",
       "mPFC           2.665248              0.310253  "
      ]
     },
     "execution_count": 17,
     "metadata": {},
     "output_type": "execute_result"
    }
   ],
   "source": [
    "params_cleaned.groupby(cell_types).median().loc[:, [\n",
    "    'thresh_dist', 'time_const', 'gamma_integral', 'gamma_integral_100_300', 'eta_integral', 'eta_integral_100_300'\n",
    "]]"
   ]
  },
  {
   "cell_type": "code",
   "execution_count": 18,
   "metadata": {},
   "outputs": [
    {
     "data": {
      "text/html": [
       "<div>\n",
       "<style scoped>\n",
       "    .dataframe tbody tr th:only-of-type {\n",
       "        vertical-align: middle;\n",
       "    }\n",
       "\n",
       "    .dataframe tbody tr th {\n",
       "        vertical-align: top;\n",
       "    }\n",
       "\n",
       "    .dataframe thead th {\n",
       "        text-align: right;\n",
       "    }\n",
       "</style>\n",
       "<table border=\"1\" class=\"dataframe\">\n",
       "  <thead>\n",
       "    <tr style=\"text-align: right;\">\n",
       "      <th></th>\n",
       "      <th>thresh_dist</th>\n",
       "      <th>time_const</th>\n",
       "      <th>gamma_integral</th>\n",
       "      <th>gamma_integral_100_300</th>\n",
       "      <th>eta_integral</th>\n",
       "      <th>eta_integral_100_300</th>\n",
       "    </tr>\n",
       "    <tr>\n",
       "      <th>cell_type</th>\n",
       "      <th></th>\n",
       "      <th></th>\n",
       "      <th></th>\n",
       "      <th></th>\n",
       "      <th></th>\n",
       "      <th></th>\n",
       "    </tr>\n",
       "  </thead>\n",
       "  <tbody>\n",
       "    <tr>\n",
       "      <th>5HT</th>\n",
       "      <td>9.853692</td>\n",
       "      <td>30.984394</td>\n",
       "      <td>2.165077e+07</td>\n",
       "      <td>506367.956224</td>\n",
       "      <td>4.314922</td>\n",
       "      <td>0.924551</td>\n",
       "    </tr>\n",
       "    <tr>\n",
       "      <th>GABA</th>\n",
       "      <td>9.355018</td>\n",
       "      <td>21.807854</td>\n",
       "      <td>7.796334e+02</td>\n",
       "      <td>149.337098</td>\n",
       "      <td>2.084112</td>\n",
       "      <td>0.355123</td>\n",
       "    </tr>\n",
       "    <tr>\n",
       "      <th>mPFC</th>\n",
       "      <td>10.266718</td>\n",
       "      <td>34.308788</td>\n",
       "      <td>7.180134e+02</td>\n",
       "      <td>47.757383</td>\n",
       "      <td>1.832729</td>\n",
       "      <td>0.434836</td>\n",
       "    </tr>\n",
       "  </tbody>\n",
       "</table>\n",
       "</div>"
      ],
      "text/plain": [
       "           thresh_dist  time_const  gamma_integral  gamma_integral_100_300  \\\n",
       "cell_type                                                                    \n",
       "5HT           9.853692   30.984394    2.165077e+07           506367.956224   \n",
       "GABA          9.355018   21.807854    7.796334e+02              149.337098   \n",
       "mPFC         10.266718   34.308788    7.180134e+02               47.757383   \n",
       "\n",
       "           eta_integral  eta_integral_100_300  \n",
       "cell_type                                      \n",
       "5HT            4.314922              0.924551  \n",
       "GABA           2.084112              0.355123  \n",
       "mPFC           1.832729              0.434836  "
      ]
     },
     "execution_count": 18,
     "metadata": {},
     "output_type": "execute_result"
    }
   ],
   "source": [
    "params_cleaned.groupby(cell_types).std().loc[:, [\n",
    "    'thresh_dist', 'time_const', 'gamma_integral', 'gamma_integral_100_300', 'eta_integral', 'eta_integral_100_300'\n",
    "]]"
   ]
  },
  {
   "cell_type": "code",
   "execution_count": 19,
   "metadata": {},
   "outputs": [
    {
     "data": {
      "text/html": [
       "<div>\n",
       "<style scoped>\n",
       "    .dataframe tbody tr th:only-of-type {\n",
       "        vertical-align: middle;\n",
       "    }\n",
       "\n",
       "    .dataframe tbody tr th {\n",
       "        vertical-align: top;\n",
       "    }\n",
       "\n",
       "    .dataframe thead th {\n",
       "        text-align: right;\n",
       "    }\n",
       "</style>\n",
       "<table border=\"1\" class=\"dataframe\">\n",
       "  <thead>\n",
       "    <tr style=\"text-align: right;\">\n",
       "      <th></th>\n",
       "      <th>thresh_dist</th>\n",
       "      <th>time_const</th>\n",
       "      <th>gamma_integral</th>\n",
       "      <th>gamma_integral_100_300</th>\n",
       "      <th>eta_integral</th>\n",
       "      <th>eta_integral_100_300</th>\n",
       "    </tr>\n",
       "    <tr>\n",
       "      <th>cell_type</th>\n",
       "      <th></th>\n",
       "      <th></th>\n",
       "      <th></th>\n",
       "      <th></th>\n",
       "      <th></th>\n",
       "      <th></th>\n",
       "    </tr>\n",
       "  </thead>\n",
       "  <tbody>\n",
       "    <tr>\n",
       "      <th>5HT</th>\n",
       "      <td>18</td>\n",
       "      <td>18</td>\n",
       "      <td>18</td>\n",
       "      <td>18</td>\n",
       "      <td>18</td>\n",
       "      <td>18</td>\n",
       "    </tr>\n",
       "    <tr>\n",
       "      <th>GABA</th>\n",
       "      <td>14</td>\n",
       "      <td>14</td>\n",
       "      <td>14</td>\n",
       "      <td>14</td>\n",
       "      <td>14</td>\n",
       "      <td>14</td>\n",
       "    </tr>\n",
       "    <tr>\n",
       "      <th>mPFC</th>\n",
       "      <td>7</td>\n",
       "      <td>7</td>\n",
       "      <td>7</td>\n",
       "      <td>7</td>\n",
       "      <td>7</td>\n",
       "      <td>7</td>\n",
       "    </tr>\n",
       "  </tbody>\n",
       "</table>\n",
       "</div>"
      ],
      "text/plain": [
       "           thresh_dist  time_const  gamma_integral  gamma_integral_100_300  \\\n",
       "cell_type                                                                    \n",
       "5HT                 18          18              18                      18   \n",
       "GABA                14          14              14                      14   \n",
       "mPFC                 7           7               7                       7   \n",
       "\n",
       "           eta_integral  eta_integral_100_300  \n",
       "cell_type                                      \n",
       "5HT                  18                    18  \n",
       "GABA                 14                    14  \n",
       "mPFC                  7                     7  "
      ]
     },
     "execution_count": 19,
     "metadata": {},
     "output_type": "execute_result"
    }
   ],
   "source": [
    "params_cleaned.groupby(cell_types).count().loc[:, [\n",
    "    'thresh_dist', 'time_const', 'gamma_integral', 'gamma_integral_100_300', 'eta_integral', 'eta_integral_100_300'\n",
    "]]"
   ]
  },
  {
   "cell_type": "markdown",
   "metadata": {},
   "source": [
    "# Functions for rescaling variables"
   ]
  },
  {
   "cell_type": "code",
   "execution_count": 20,
   "metadata": {},
   "outputs": [],
   "source": [
    "def rescale_variables(x):\n",
    "    \"\"\"Subtract mean and normalize to SD for each column of a dataframe or array.\n",
    "    Returns a copy.\n",
    "    \"\"\"\n",
    "    output = x.copy()\n",
    "    \n",
    "    try:\n",
    "        # Method for pd.DataFrames\n",
    "        output.iloc # Test if x is DataFrame-like\n",
    "        \n",
    "        for colname in output:\n",
    "            output[colname] = output[colname] - np.mean(output[colname])\n",
    "            output[colname] = output[colname] / np.std(output[colname])\n",
    "    \n",
    "    except AttributeError:\n",
    "        # Method for np.arrays.\n",
    "        output[0, 0] # Test if x is array-like\n",
    "        \n",
    "        output -= output.mean(axis = 0)\n",
    "        output /= output.std(axis = 0)\n",
    "        \n",
    "    return output"
   ]
  },
  {
   "cell_type": "code",
   "execution_count": 21,
   "metadata": {},
   "outputs": [],
   "source": [
    "def rescale_variables_nonparametric(x):\n",
    "    \"\"\"Subtract median and divide by interquartile range for each column of x.\"\"\"\n",
    "    output = x.copy()\n",
    "    \n",
    "    try:\n",
    "        # Method for pd.DataFrames\n",
    "        output.iloc # Test if x is DataFrame-like\n",
    "        \n",
    "        for colname in output:\n",
    "            output[colname] = output[colname] - np.median(output[colname])\n",
    "            output[colname] = output[colname] / stats.iqr(output[colname])\n",
    "    \n",
    "    except AttributeError:\n",
    "        # Method for np.arrays.\n",
    "        output[0, 0] # Test if x is array-like\n",
    "        \n",
    "        output -= output.median(axis = 0)\n",
    "        output /= stats.iqr(output, axis=0)\n",
    "        \n",
    "    return output"
   ]
  },
  {
   "cell_type": "code",
   "execution_count": 22,
   "metadata": {},
   "outputs": [],
   "source": [
    "rescaled = rescale_variables_nonparametric(params_cleaned)"
   ]
  },
  {
   "cell_type": "code",
   "execution_count": 23,
   "metadata": {},
   "outputs": [
    {
     "data": {
      "image/png": "[encoded data removed]",
      "text/plain": [
       "<Figure size 480x240 with 1 Axes>"
      ]
     },
     "metadata": {
      "needs_background": "light"
     },
     "output_type": "display_data"
    }
   ],
   "source": [
    "plt.figure(figsize=(4, 2))\n",
    "sns.boxplot(\n",
    "    x='variable', y='value', hue='cell_type', \n",
    "    data=pd.concat([rescaled, cell_types], axis=1).melt(id_vars='cell_type'),\n",
    "    order = ['gl', 'time_const', 'thresh_dist', 'eta_integral', 'gamma_integral']\n",
    ")\n",
    "plt.ylim(-50, 50)\n",
    "tick_locs, tick_labs = plt.xticks()\n",
    "plt.xticks(*plt.xticks(), rotation=45, ha='right')\n",
    "plt.ylabel('IQRs from median')\n",
    "plt.tight_layout()"
   ]
  },
  {
   "cell_type": "code",
   "execution_count": 24,
   "metadata": {},
   "outputs": [
    {
     "data": {
      "text/plain": [
       "<matplotlib.axes._subplots.AxesSubplot at 0x7efdaf586990>"
      ]
     },
     "execution_count": 24,
     "metadata": {},
     "output_type": "execute_result"
    },
    {
     "data": {
      "image/png": "[encoded data removed]",
      "text/plain": [
       "<Figure size 360x240 with 1 Axes>"
      ]
     },
     "metadata": {
      "needs_background": "light"
     },
     "output_type": "display_data"
    }
   ],
   "source": [
    "tsne = TSNE(perplexity=7, random_state=43)\n",
    "projected = tsne.fit_transform(rescaled.loc[:, ['time_const', 'thresh_dist', 'eta_integral', 'gamma_integral']])\n",
    "\n",
    "sns.scatterplot(x=projected[:, 0], y=projected[:, 1], hue=cell_types)"
   ]
  },
  {
   "cell_type": "code",
   "execution_count": 54,
   "metadata": {},
   "outputs": [],
   "source": [
    "jointspec = gs.GridSpec(\n",
    "    2, 2, height_ratios=[0.2, 1], width_ratios=[1, 0.2], \n",
    "    top=0.95, right=0.95, bottom=0.2, left=0.2\n",
    ")"
   ]
  },
  {
   "cell_type": "code",
   "execution_count": 66,
   "metadata": {},
   "outputs": [],
   "source": [
    "def jointplot(x, y, figsize=(2, 2)):\n",
    "    plt.figure(figsize=figsize)\n",
    "\n",
    "    scatter_ax = plt.subplot(jointspec[1, 0])\n",
    "    sns.scatterplot(\n",
    "        x=x, \n",
    "        y=y, \n",
    "        hue=cell_types,\n",
    "        hue_order=['5HT', 'GABA', 'mPFC'],\n",
    "        palette=[colors['ser'], colors['som'], colors['pyr']],\n",
    "    )\n",
    "    pltools.hide_border('tr', trim=True)\n",
    "    scatter_ax.legend().remove()\n",
    "\n",
    "    top_marginal_ax = plt.subplot(jointspec[0, 0])\n",
    "    sns.boxplot(\n",
    "        x, cell_types, orient='h', fliersize=2,\n",
    "        hue_order=['5HT', 'GABA', 'mPFC'],\n",
    "        palette=[colors['ser'], colors['som'], colors['pyr']],\n",
    "    )\n",
    "    plt.xlim(scatter_ax.get_xlim())\n",
    "    pltools.hide_border('a')\n",
    "    plt.ylabel('')\n",
    "    plt.xlabel('')\n",
    "    plt.legend().remove()\n",
    "\n",
    "    right_marginal_ax = plt.subplot(jointspec[1, 1])\n",
    "    sns.boxplot(\n",
    "        cell_types, y, fliersize=2,\n",
    "        hue_order=['5HT', 'GABA', 'mPFC'],\n",
    "        palette=[colors['ser'], colors['som'], colors['pyr']],\n",
    "    )\n",
    "    plt.ylim(scatter_ax.get_ylim())\n",
    "    pltools.hide_border('a')\n",
    "    plt.ylabel('')\n",
    "    plt.xlabel('')\n",
    "    plt.legend().remove()\n",
    "    \n",
    "    return {\n",
    "        'scatter_ax': scatter_ax,\n",
    "        'top_marginal_ax': top_marginal_ax,\n",
    "        'right_marginal_ax': right_marginal_ax\n",
    "    }"
   ]
  },
  {
   "cell_type": "code",
   "execution_count": 67,
   "metadata": {},
   "outputs": [
    {
     "data": {
      "image/png": "[encoded data removed]",
      "text/plain": [
       "<Figure size 240x240 with 3 Axes>"
      ]
     },
     "metadata": {
      "needs_background": "light"
     },
     "output_type": "display_data"
    }
   ],
   "source": [
    "axes = jointplot(params_cleaned['eta_integral'], np.log10(params_cleaned['gamma_integral']))\n",
    "axes['scatter_ax'].set_yticklabels(['$10^{{{:.0f}}}$'.format(y) for y in axes['scatter_ax'].get_yticks()])\n",
    "axes['scatter_ax'].set_ylabel('$\\gamma$ integral (mV ms)')\n",
    "axes['scatter_ax'].set_xlabel('$\\eta$ integral (nA ms)')\n",
    "\n",
    "if IMG_PATH is not None:\n",
    "    plt.savefig(os.path.join(IMG_PATH, 'joint_adaptation_params.png'))\n",
    "    plt.savefig(os.path.join(IMG_PATH, 'joint_adaptation_params.svg'))"
   ]
  },
  {
   "cell_type": "code",
   "execution_count": 68,
   "metadata": {},
   "outputs": [
    {
     "data": {
      "image/png": "[encoded data removed]",
      "text/plain": [
       "<Figure size 240x240 with 3 Axes>"
      ]
     },
     "metadata": {
      "needs_background": "light"
     },
     "output_type": "display_data"
    }
   ],
   "source": [
    "axes = jointplot(params_cleaned['thresh_dist'], params_cleaned['DV'])\n",
    "axes['scatter_ax'].set_ylabel('Threshold width (mV)')\n",
    "axes['scatter_ax'].set_xlabel('Distance to\\nthreshold (mV)')\n",
    "\n",
    "if IMG_PATH is not None:\n",
    "    plt.savefig(os.path.join(IMG_PATH, 'joint_thresh_params.png'))\n",
    "    plt.savefig(os.path.join(IMG_PATH, 'joint_thresh_params.svg'))"
   ]
  },
  {
   "cell_type": "code",
   "execution_count": 52,
   "metadata": {},
   "outputs": [],
   "source": [
    "figsize=(1, 1.2)"
   ]
  },
  {
   "cell_type": "code",
   "execution_count": 25,
   "metadata": {},
   "outputs": [
    {
     "name": "stdout",
     "output_type": "stream",
     "text": [
      "p-value annotation legend:\n",
      "ns: 1.00e-01 < p <= 1.00e+00\n",
      "o: 5.00e-02 < p <= 1.00e-01\n",
      "*: 1.00e-02 < p <= 5.00e-02\n",
      "**: 1.00e-03 < p <= 1.00e-02\n",
      "***: 1.00e-04 < p <= 1.00e-03\n",
      "****: p <= 1.00e-04\n",
      "()\n",
      "thresh_dist_5HT v.s. thresh_dist_GABA: Mann-Whitney-Wilcoxon test two-sided with Bonferroni correction, P_val=1.264e-01 U_stat=1.800e+02\n",
      "thresh_dist_GABA v.s. thresh_dist_mPFC: Mann-Whitney-Wilcoxon test two-sided with Bonferroni correction, P_val=1.000e+00 U_stat=5.600e+01\n",
      "thresh_dist_5HT v.s. thresh_dist_mPFC: Mann-Whitney-Wilcoxon test two-sided with Bonferroni correction, P_val=6.969e-02 U_stat=1.010e+02\n"
     ]
    },
    {
     "data": {
      "image/png": "[encoded data removed]",
      "text/plain": [
       "<Figure size 120x144 with 1 Axes>"
      ]
     },
     "metadata": {
      "needs_background": "light"
     },
     "output_type": "display_data"
    }
   ],
   "source": [
    "plt.figure(figsize=figsize)\n",
    "\n",
    "gamma_ax = plt.subplot(111)\n",
    "sns.boxplot(\n",
    "    x='variable', y='value', hue='cell_type', \n",
    "    data=pd.concat([params_cleaned, cell_types], axis=1).melt(id_vars='cell_type'),\n",
    "    order = ['thresh_dist'],\n",
    "    hue_order=['5HT', 'GABA', 'mPFC'],\n",
    "    palette=[colors['ser'], colors['som'], colors['pyr']],\n",
    "    fliersize=2\n",
    ")\n",
    "add_stat_annotation(\n",
    "    gamma_ax,\n",
    "    x='variable', y='value', hue='cell_type', \n",
    "    data=pd.concat([params_cleaned, cell_types], axis=1).melt(id_vars='cell_type'),\n",
    "    order = ['thresh_dist'],\n",
    "    hue_order=['5HT', 'GABA', 'mPFC'],\n",
    "    loc='outside',\n",
    "    test='Mann-Whitney',\n",
    "    comparisons_correction='bonferroni',\n",
    "    pvalue_thresholds=pvalue_thresholds,\n",
    "    box_pairs = [\n",
    "        (('thresh_dist', '5HT'), ('thresh_dist', 'GABA')),\n",
    "        (('thresh_dist', 'mPFC'), ('thresh_dist', 'GABA')),\n",
    "        (('thresh_dist', '5HT'), ('thresh_dist', 'mPFC'))\n",
    "    ]\n",
    ")\n",
    "plt.ylabel('Distance\\nto threshold (mV)')\n",
    "pltools.hide_border('trb', trim=True)\n",
    "plt.xlabel('')\n",
    "plt.xticks([])\n",
    "plt.gca().get_legend().remove()\n",
    "\n",
    "plt.subplots_adjust(left=0.45, top=0.7, bottom=0.05, right=0.95)\n",
    "\n",
    "if IMG_PATH is not None:\n",
    "    plt.savefig(os.path.join(IMG_PATH, 'thresh_dist.png'))\n",
    "    plt.savefig(os.path.join(IMG_PATH, 'thresh_dist.svg'))"
   ]
  },
  {
   "cell_type": "code",
   "execution_count": 26,
   "metadata": {},
   "outputs": [
    {
     "name": "stdout",
     "output_type": "stream",
     "text": [
      "p-value annotation legend:\n",
      "ns: 1.00e-01 < p <= 1.00e+00\n",
      "o: 5.00e-02 < p <= 1.00e-01\n",
      "*: 1.00e-02 < p <= 5.00e-02\n",
      "**: 1.00e-03 < p <= 1.00e-02\n",
      "***: 1.00e-04 < p <= 1.00e-03\n",
      "****: p <= 1.00e-04\n",
      "()\n",
      "DV_5HT v.s. DV_GABA: Mann-Whitney-Wilcoxon test two-sided with Bonferroni correction, P_val=6.374e-04 U_stat=2.240e+02\n",
      "DV_GABA v.s. DV_mPFC: Mann-Whitney-Wilcoxon test two-sided with Bonferroni correction, P_val=4.597e-02 U_stat=1.600e+01\n",
      "DV_5HT v.s. DV_mPFC: Mann-Whitney-Wilcoxon test two-sided with Bonferroni correction, P_val=1.000e+00 U_stat=7.300e+01\n"
     ]
    },
    {
     "data": {
      "image/png": "[encoded data removed]",
      "text/plain": [
       "<Figure size 120x144 with 1 Axes>"
      ]
     },
     "metadata": {
      "needs_background": "light"
     },
     "output_type": "display_data"
    }
   ],
   "source": [
    "plt.figure(figsize=figsize)\n",
    "\n",
    "gamma_ax = plt.subplot(111)\n",
    "sns.boxplot(\n",
    "    x='variable', y='value', hue='cell_type', \n",
    "    data=pd.concat([params_cleaned, cell_types], axis=1).melt(id_vars='cell_type'),\n",
    "    order = ['DV'],\n",
    "    hue_order=['5HT', 'GABA', 'mPFC'],\n",
    "    palette=[colors['ser'], colors['som'], colors['pyr']],\n",
    "    fliersize=2\n",
    ")\n",
    "add_stat_annotation(\n",
    "    gamma_ax,\n",
    "    x='variable', y='value', hue='cell_type', \n",
    "    data=pd.concat([params_cleaned, cell_types], axis=1).melt(id_vars='cell_type'),\n",
    "    order = ['DV'],\n",
    "    hue_order=['5HT', 'GABA', 'mPFC'],\n",
    "    loc='outside',\n",
    "    test='Mann-Whitney',\n",
    "    comparisons_correction='bonferroni',\n",
    "    pvalue_thresholds=pvalue_thresholds,\n",
    "    box_pairs = [\n",
    "        (('DV', '5HT'), ('DV', 'GABA')),\n",
    "        (('DV', 'mPFC'), ('DV', 'GABA')),\n",
    "        (('DV', '5HT'), ('DV', 'mPFC'))\n",
    "    ]\n",
    ")\n",
    "plt.ylabel(r'$\\Delta V$ (mV)')\n",
    "plt.yticks([0, 2, 4, 6, 8, 10])\n",
    "pltools.hide_border('trb', trim=True)\n",
    "plt.xlabel('')\n",
    "plt.xticks([])\n",
    "plt.gca().get_legend().remove()\n",
    "\n",
    "plt.subplots_adjust(left=0.45, top=0.7, bottom=0.05, right=0.95)\n",
    "\n",
    "if IMG_PATH is not None:\n",
    "    plt.savefig(os.path.join(IMG_PATH, 'thresh_width.png'))\n",
    "    plt.savefig(os.path.join(IMG_PATH, 'thresh_width.svg'))"
   ]
  },
  {
   "cell_type": "code",
   "execution_count": 69,
   "metadata": {},
   "outputs": [
    {
     "name": "stdout",
     "output_type": "stream",
     "text": [
      "p-value annotation legend:\n",
      "ns: 1.00e-01 < p <= 1.00e+00\n",
      "o: 5.00e-02 < p <= 1.00e-01\n",
      "*: 1.00e-02 < p <= 5.00e-02\n",
      "**: 1.00e-03 < p <= 1.00e-02\n",
      "***: 1.00e-04 < p <= 1.00e-03\n",
      "****: p <= 1.00e-04\n",
      "()\n",
      "time_const_5HT v.s. time_const_GABA: Mann-Whitney-Wilcoxon test two-sided with Bonferroni correction, P_val=6.374e-04 U_stat=2.240e+02\n",
      "time_const_GABA v.s. time_const_mPFC: Mann-Whitney-Wilcoxon test two-sided with Bonferroni correction, P_val=1.000e+00 U_stat=5.000e+01\n",
      "time_const_5HT v.s. time_const_mPFC: Mann-Whitney-Wilcoxon test two-sided with Bonferroni correction, P_val=3.031e-02 U_stat=1.060e+02\n"
     ]
    },
    {
     "data": {
      "image/png": "[encoded data removed]",
      "text/plain": [
       "<Figure size 120x144 with 1 Axes>"
      ]
     },
     "metadata": {
      "needs_background": "light"
     },
     "output_type": "display_data"
    }
   ],
   "source": [
    "plt.figure(figsize=figsize)\n",
    "\n",
    "gamma_ax = plt.subplot(111)\n",
    "sns.boxplot(\n",
    "    x='variable', y='value', hue='cell_type', \n",
    "    data=pd.concat([params_cleaned, cell_types], axis=1).melt(id_vars='cell_type'),\n",
    "    order = ['time_const'],\n",
    "    hue_order=['5HT', 'GABA', 'mPFC'],\n",
    "    palette=[colors['ser'], colors['som'], colors['pyr']],\n",
    "    fliersize=2\n",
    ")\n",
    "add_stat_annotation(\n",
    "    gamma_ax,\n",
    "    x='variable', y='value', hue='cell_type', \n",
    "    data=pd.concat([params_cleaned, cell_types], axis=1).melt(id_vars='cell_type'),\n",
    "    order = ['time_const'],\n",
    "    hue_order=['5HT', 'GABA', 'mPFC'],\n",
    "    loc='outside',\n",
    "    test='Mann-Whitney',\n",
    "    comparisons_correction='bonferroni',\n",
    "    pvalue_thresholds=pvalue_thresholds,\n",
    "    box_pairs = [\n",
    "        (('time_const', '5HT'), ('time_const', 'GABA')),\n",
    "        (('time_const', 'mPFC'), ('time_const', 'GABA')),\n",
    "        (('time_const', '5HT'), ('time_const', 'mPFC'))\n",
    "    ]\n",
    ")\n",
    "plt.ylabel(r'$\\tau$ (ms)')\n",
    "plt.yticks([0, 50, 100, 150])\n",
    "pltools.hide_border('trb', trim=True)\n",
    "plt.xlabel('')\n",
    "plt.xticks([])\n",
    "plt.legend(loc='upper left', bbox_to_anchor=(1, 1))\n",
    "legend_labels = plt.legend(bbox_to_anchor=(1, 1), loc='upper left').get_texts()\n",
    "legend_labels[0].set_text(legend_labels[0].get_text() + ' aGIF')\n",
    "legend_labels[1].set_text(legend_labels[1].get_text() + ' iGIF')\n",
    "legend_labels[2].set_text(legend_labels[2].get_text() + ' GIF')\n",
    "\n",
    "plt.subplots_adjust(left=0.45, top=0.7, bottom=0.05, right=0.95)\n",
    "\n",
    "if IMG_PATH is not None:\n",
    "    plt.savefig(os.path.join(IMG_PATH, 'time_const.png'))\n",
    "    plt.savefig(os.path.join(IMG_PATH, 'time_const.svg'))"
   ]
  },
  {
   "cell_type": "code",
   "execution_count": 28,
   "metadata": {},
   "outputs": [
    {
     "name": "stdout",
     "output_type": "stream",
     "text": [
      "p-value annotation legend:\n",
      "ns: 1.00e-01 < p <= 1.00e+00\n",
      "o: 5.00e-02 < p <= 1.00e-01\n",
      "*: 1.00e-02 < p <= 5.00e-02\n",
      "**: 1.00e-03 < p <= 1.00e-02\n",
      "***: 1.00e-04 < p <= 1.00e-03\n",
      "****: p <= 1.00e-04\n",
      "()\n",
      "eta_integral_5HT v.s. eta_integral_GABA: Mann-Whitney-Wilcoxon test two-sided with Bonferroni correction, P_val=5.483e-04 U_stat=2.250e+02\n",
      "eta_integral_GABA v.s. eta_integral_mPFC: Mann-Whitney-Wilcoxon test two-sided with Bonferroni correction, P_val=2.426e-02 U_stat=1.300e+01\n",
      "eta_integral_5HT v.s. eta_integral_mPFC: Mann-Whitney-Wilcoxon test two-sided with Bonferroni correction, P_val=2.123e-02 U_stat=1.080e+02\n"
     ]
    },
    {
     "data": {
      "image/png": "[encoded data removed]",
      "text/plain": [
       "<Figure size 120x144 with 1 Axes>"
      ]
     },
     "metadata": {
      "needs_background": "light"
     },
     "output_type": "display_data"
    }
   ],
   "source": [
    "plt.figure(figsize=figsize)\n",
    "\n",
    "eta_ax = plt.subplot(111)\n",
    "sns.boxplot(\n",
    "    x='variable', y='value', hue='cell_type', \n",
    "    data=pd.concat([params_cleaned, cell_types], axis=1).melt(id_vars='cell_type'),\n",
    "    order = ['eta_integral'],\n",
    "    hue_order=['5HT', 'GABA', 'mPFC'],\n",
    "    palette=[colors['ser'], colors['som'], colors['pyr']],\n",
    "    fliersize=2\n",
    ")\n",
    "add_stat_annotation(\n",
    "    eta_ax,\n",
    "    x='variable', y='value', hue='cell_type', \n",
    "    data=pd.concat([params_cleaned, cell_types], axis=1).melt(id_vars='cell_type'),\n",
    "    order = ['eta_integral'],\n",
    "    hue_order=['5HT', 'GABA', 'mPFC'],\n",
    "    loc='outside',\n",
    "    test='Mann-Whitney',\n",
    "    comparisons_correction='bonferroni',\n",
    "    pvalue_thresholds=pvalue_thresholds,\n",
    "    box_pairs = [\n",
    "        (('eta_integral', '5HT'), ('eta_integral', 'GABA')),\n",
    "        (('eta_integral', 'mPFC'), ('eta_integral', 'GABA')),\n",
    "        (('eta_integral', '5HT'), ('eta_integral', 'mPFC'))\n",
    "    ]\n",
    ")\n",
    "plt.ylabel('$\\eta$ integral (nA ms)')\n",
    "pltools.hide_border('trb', trim=True)\n",
    "plt.xlabel('')\n",
    "plt.xticks([])\n",
    "plt.gca().get_legend().remove()\n",
    "\n",
    "plt.subplots_adjust(left=0.45, top=0.7, bottom=0.05, right=0.95)\n",
    "\n",
    "if IMG_PATH is not None:\n",
    "    plt.savefig(os.path.join(IMG_PATH, 'eta_integral.png'))\n",
    "    plt.savefig(os.path.join(IMG_PATH, 'eta_integral.svg'))"
   ]
  },
  {
   "cell_type": "markdown",
   "metadata": {},
   "source": [
    "Some 5HT neurons have **huge** moving thresholds. For clarity, we won't plot these."
   ]
  },
  {
   "cell_type": "code",
   "execution_count": 29,
   "metadata": {},
   "outputs": [],
   "source": [
    "assert all(params_cleaned['gamma_integral'] > 0)"
   ]
  },
  {
   "cell_type": "code",
   "execution_count": 30,
   "metadata": {},
   "outputs": [
    {
     "name": "stdout",
     "output_type": "stream",
     "text": [
      "p-value annotation legend:\n",
      "ns: 1.00e-01 < p <= 1.00e+00\n",
      "o: 5.00e-02 < p <= 1.00e-01\n",
      "*: 1.00e-02 < p <= 5.00e-02\n",
      "**: 1.00e-03 < p <= 1.00e-02\n",
      "***: 1.00e-04 < p <= 1.00e-03\n",
      "****: p <= 1.00e-04\n",
      "()\n",
      "gamma_integral_5HT v.s. gamma_integral_GABA: Mann-Whitney-Wilcoxon test two-sided with Bonferroni correction, P_val=6.840e-05 U_stat=2.380e+02\n",
      "gamma_integral_GABA v.s. gamma_integral_mPFC: Mann-Whitney-Wilcoxon test two-sided with Bonferroni correction, P_val=1.000e+00 U_stat=4.200e+01\n",
      "gamma_integral_5HT v.s. gamma_integral_mPFC: Mann-Whitney-Wilcoxon test two-sided with Bonferroni correction, P_val=1.882e-03 U_stat=1.200e+02\n"
     ]
    },
    {
     "data": {
      "image/png": "[encoded data removed]",
      "text/plain": [
       "<Figure size 180x144 with 1 Axes>"
      ]
     },
     "metadata": {
      "needs_background": "light"
     },
     "output_type": "display_data"
    }
   ],
   "source": [
    "gamma_integrals = pd.concat([params_cleaned, cell_types], axis=1).melt(id_vars='cell_type')\n",
    "\n",
    "plt.figure(figsize=(1.5, figsize[1]))\n",
    "\n",
    "gamma_ax = plt.subplot(111)\n",
    "gamma_ax.set_yscale('log')\n",
    "sns.boxplot(\n",
    "    x='variable', y='value', hue='cell_type', \n",
    "    data=gamma_integrals,\n",
    "    order = ['gamma_integral'],\n",
    "    hue_order=['5HT', 'GABA', 'mPFC'],\n",
    "    palette=[colors['ser'], colors['som'], colors['pyr']],\n",
    "    fliersize=2\n",
    ")\n",
    "add_stat_annotation(\n",
    "    gamma_ax,\n",
    "    x='variable', y='value', hue='cell_type', \n",
    "    data=gamma_integrals,\n",
    "    order = ['gamma_integral'],\n",
    "    hue_order=['5HT', 'GABA', 'mPFC'],\n",
    "    loc='outside',\n",
    "    test='Mann-Whitney',\n",
    "    comparisons_correction='bonferroni',\n",
    "    pvalue_thresholds=pvalue_thresholds,\n",
    "    box_pairs = [\n",
    "        (('gamma_integral', '5HT'), ('gamma_integral', 'GABA')),\n",
    "        (('gamma_integral', 'mPFC'), ('gamma_integral', 'GABA')),\n",
    "        (('gamma_integral', '5HT'), ('gamma_integral', 'mPFC'))\n",
    "    ],\n",
    "    line_height=0.5\n",
    ")\n",
    "plt.ylabel('$\\gamma$ integral (mV ms)')\n",
    "pltools.hide_border('trb', trim=True)\n",
    "plt.xlabel('')\n",
    "plt.xticks([])\n",
    "pltools.hide_border('trb')\n",
    "legend_labels = plt.legend(bbox_to_anchor=(1, 1), loc='upper left').get_texts()\n",
    "legend_labels[0].set_text(legend_labels[0].get_text() + ' aGIF')\n",
    "legend_labels[1].set_text(legend_labels[1].get_text() + ' iGIF')\n",
    "legend_labels[2].set_text(legend_labels[2].get_text() + ' GIF')\n",
    "\n",
    "\n",
    "plt.subplots_adjust(left=0.2, top=0.7, bottom=0.05, right=0.6)\n",
    "\n",
    "if IMG_PATH is not None:\n",
    "    plt.savefig(os.path.join(IMG_PATH, 'gamma_integral.png'))\n",
    "    plt.savefig(os.path.join(IMG_PATH, 'gamma_integral.svg'))"
   ]
  },
  {
   "cell_type": "code",
   "execution_count": 31,
   "metadata": {},
   "outputs": [
    {
     "name": "stdout",
     "output_type": "stream",
     "text": [
      "p-value annotation legend:\n",
      "ns: 1.00e-01 < p <= 1.00e+00\n",
      "o: 5.00e-02 < p <= 1.00e-01\n",
      "*: 1.00e-02 < p <= 5.00e-02\n",
      "**: 1.00e-03 < p <= 1.00e-02\n",
      "***: 1.00e-04 < p <= 1.00e-03\n",
      "****: p <= 1.00e-04\n",
      "()\n",
      "gamma_integral_100_300_5HT v.s. gamma_integral_100_300_GABA: Mann-Whitney-Wilcoxon test two-sided with Bonferroni correction, P_val=9.796e-06 U_stat=2.490e+02\n",
      "gamma_integral_100_300_GABA v.s. gamma_integral_100_300_mPFC: Mann-Whitney-Wilcoxon test two-sided with Bonferroni correction, P_val=1.441e-01 U_stat=7.600e+01\n",
      "gamma_integral_100_300_5HT v.s. gamma_integral_100_300_mPFC: Mann-Whitney-Wilcoxon test two-sided with Bonferroni correction, P_val=4.655e-04 U_stat=1.260e+02\n"
     ]
    },
    {
     "data": {
      "image/png": "[encoded data removed]",
      "text/plain": [
       "<Figure size 180x144 with 1 Axes>"
      ]
     },
     "metadata": {
      "needs_background": "light"
     },
     "output_type": "display_data"
    }
   ],
   "source": [
    "gamma_integrals = pd.concat([params_cleaned, cell_types], axis=1).melt(id_vars='cell_type')\n",
    "\n",
    "plt.figure(figsize=(1.5, figsize[1]))\n",
    "\n",
    "gamma_ax = plt.subplot(111)\n",
    "gamma_ax.set_yscale('log')\n",
    "sns.boxplot(\n",
    "    x='variable', y='value', hue='cell_type', \n",
    "    data=gamma_integrals,\n",
    "    order = ['gamma_integral_100_300'],\n",
    "    hue_order=['5HT', 'GABA', 'mPFC'],\n",
    "    palette=[colors['ser'], colors['som'], colors['pyr']],\n",
    "    fliersize=2\n",
    ")\n",
    "add_stat_annotation(\n",
    "    gamma_ax,\n",
    "    x='variable', y='value', hue='cell_type', \n",
    "    data=gamma_integrals,\n",
    "    order = ['gamma_integral_100_300'],\n",
    "    hue_order=['5HT', 'GABA', 'mPFC'],\n",
    "    loc='outside',\n",
    "    test='Mann-Whitney',\n",
    "    comparisons_correction='bonferroni',\n",
    "    pvalue_thresholds=pvalue_thresholds,\n",
    "    box_pairs = [\n",
    "        (('gamma_integral_100_300', '5HT'), ('gamma_integral_100_300', 'GABA')),\n",
    "        (('gamma_integral_100_300', 'mPFC'), ('gamma_integral_100_300', 'GABA')),\n",
    "        (('gamma_integral_100_300', '5HT'), ('gamma_integral_100_300', 'mPFC'))\n",
    "    ],\n",
    "    line_height=0.5\n",
    ")\n",
    "plt.ylabel('$\\gamma$ integral (mV ms)')\n",
    "pltools.hide_border('trb', trim=True)\n",
    "plt.xlabel('')\n",
    "plt.xticks([])\n",
    "pltools.hide_border('trb')\n",
    "legend_labels = plt.legend(bbox_to_anchor=(1, 1), loc='upper left').get_texts()\n",
    "legend_labels[0].set_text(legend_labels[0].get_text() + ' aGIF')\n",
    "legend_labels[1].set_text(legend_labels[1].get_text() + ' iGIF')\n",
    "legend_labels[2].set_text(legend_labels[2].get_text() + ' GIF')\n",
    "\n",
    "\n",
    "plt.subplots_adjust(left=0.2, top=0.7, bottom=0.05, right=0.6)\n",
    "\n",
    "if IMG_PATH is not None:\n",
    "    plt.savefig(os.path.join(IMG_PATH, 'gamma_integral_100_300.png'))\n",
    "    plt.savefig(os.path.join(IMG_PATH, 'gamma_integral_100_300.svg'))"
   ]
  },
  {
   "cell_type": "code",
   "execution_count": null,
   "metadata": {},
   "outputs": [],
   "source": []
  }
 ],
 "metadata": {
  "kernelspec": {
   "display_name": "Python 2",
   "language": "python",
   "name": "python2"
  },
  "language_info": {
   "codemirror_mode": {
    "name": "ipython",
    "version": 2
   },
   "file_extension": ".py",
   "mimetype": "text/x-python",
   "name": "python",
   "nbconvert_exporter": "python",
   "pygments_lexer": "ipython2",
   "version": "2.7.15"
  }
 },
 "nbformat": 4,
 "nbformat_minor": 2
}

{
 "cells": [
  {
   "cell_type": "code",
   "execution_count": 1,
   "metadata": {},
   "outputs": [],
   "source": [
    "from common import colors, sbarlw"
   ]
  },
  {
   "cell_type": "code",
   "execution_count": 2,
   "metadata": {},
   "outputs": [
    {
     "name": "stdout",
     "output_type": "stream",
     "text": [
      "/Users/eharkin/Documents/projects/5HTGIF\n"
     ]
    }
   ],
   "source": [
    "import os\n",
    "os.chdir(os.path.join('..', '..', '..'))\n",
    "print(os.getcwd())"
   ]
  },
  {
   "cell_type": "code",
   "execution_count": 3,
   "metadata": {
    "lines_to_next_cell": 2,
    "title": "IMPORT MODULES"
   },
   "outputs": [],
   "source": [
    "from __future__ import division\n",
    "\n",
    "import sys\n",
    "sys.path.append('./analysis/spk_timing/IA_mod')\n",
    "sys.path.append('./figs/scripts')\n",
    "\n",
    "import pickle\n",
    "\n",
    "import numpy as np\n",
    "import matplotlib.pyplot as plt\n",
    "import matplotlib.gridspec as gs\n",
    "\n",
    "import IAmod\n",
    "from grr import pltools"
   ]
  },
  {
   "cell_type": "code",
   "execution_count": 4,
   "metadata": {
    "title": "INITIALIZE MODELS & PERFORM SIMULATIONS"
   },
   "outputs": [
    {
     "name": "stdout",
     "output_type": "stream",
     "text": [
      "Running simulations. . . Done!\n"
     ]
    }
   ],
   "source": [
    "Vin = np.empty((10000, 600))\n",
    "Vin[:1000, :] = 0\n",
    "Vin[1000:, :] = 60.2\n",
    "\n",
    "low_IA_mod = IAmod.IAmod(5, 1.2, 4)\n",
    "hi_IA_mod = IAmod.IAmod(10, 1.2, 4)\n",
    "ohmic_mod = IAmod.IAmod(0, 1.2, 4)\n",
    "\n",
    "print 'Running simulations.',\n",
    "low_IA_sim = IAmod.Simulation(low_IA_mod, low_IA_mod.El, Vin)\n",
    "print '.',\n",
    "hi_IA_sim = IAmod.Simulation(hi_IA_mod, hi_IA_mod.El, Vin)\n",
    "print '.',\n",
    "ohmic_sim = IAmod.Simulation(ohmic_mod, ohmic_mod.El, Vin)\n",
    "print('Done!')"
   ]
  },
  {
   "cell_type": "code",
   "execution_count": 31,
   "metadata": {
    "title": "MAKE PLOT"
   },
   "outputs": [
    {
     "data": {
      "image/png": "[encoded data removed]",
      "text/plain": [
       "<Figure size 480x180 with 7 Axes>"
      ]
     },
     "metadata": {
      "needs_background": "light"
     },
     "output_type": "display_data"
    }
   ],
   "source": [
    "neurons_to_show = 20\n",
    "hi_IA_color = (0.2, 0.2, 0.9)\n",
    "low_IA_color = (0.07, 0.07, 0.3)\n",
    "\n",
    "plt.style.use('./figs/scripts/writeup/publication_figure_style.dms')\n",
    "\n",
    "IMG_PATH = './figs/ims/defence/'\n",
    "\n",
    "spec_outer = gs.GridSpec(1, 3, hspace = 0.5, left = 0.05, right = 0.95, top=0.95, bottom=0.2)\n",
    "spec_low_traces = gs.GridSpecFromSubplotSpec(3, 1, spec_outer[0, 0], height_ratios = [0.2, 1, 0.4])\n",
    "spec_hi_traces = gs.GridSpecFromSubplotSpec(3, 1, spec_outer[0, 1], height_ratios = [0.2, 1, 0.4])\n",
    "\n",
    "plt.figure(figsize = (4, 1.5))\n",
    "\n",
    "low_ax = plt.subplot(spec_low_traces[0, :])\n",
    "plt.plot(\n",
    "    ohmic_sim.t_vec,\n",
    "    Vin[:, 0],\n",
    "    color = 'gray', lw = 0.5\n",
    ")\n",
    "plt.annotate('$0$ mV', (0.5, 2), ha = 'center')\n",
    "plt.annotate('$+60.2$ mV', (9, 58), ha = 'right', va = 'top')\n",
    "pltools.hide_border()\n",
    "pltools.hide_ticks()\n",
    "\n",
    "low_vtrace_ax = plt.subplot(spec_low_traces[1, :], sharex = low_ax)\n",
    "plt.axhline(-20, color = 'k', lw = 0.5, ls = '--', dashes = (10, 10))\n",
    "plt.plot(\n",
    "    ohmic_sim.t_vec,\n",
    "    ohmic_sim.V[:, :neurons_to_show],\n",
    "    color = colors['4AP'], lw = 0.5, alpha = 0.1\n",
    ")\n",
    "pltools.add_scalebar(y_units = 'mV', y_size=20, omit_x = True, anchor = (0, 0.3), linewidth=sbarlw)\n",
    "\n",
    "plt.subplot(spec_low_traces[2, :], sharex = low_ax)\n",
    "for i in range(neurons_to_show):\n",
    "    first_spk = 1e-3 * np.min(np.where(ohmic_sim.spks[:, i])[0])\n",
    "    plt.plot(\n",
    "        first_spk,\n",
    "        i,\n",
    "        '|', color=colors['4AP'], markersize = 2\n",
    "    )\n",
    "pltools.add_scalebar(\n",
    "    x_units = '$\\\\tau_{{\\mathrm{{mem}}}}$', omit_y = True, x_size = 1,\n",
    "    anchor = (0.8, -0.05), x_label_space = -0.1, linewidth=sbarlw\n",
    ")\n",
    "\n",
    "\n",
    "hi_ax = plt.subplot(spec_hi_traces[0, :])\n",
    "plt.plot(\n",
    "    hi_IA_sim.t_vec,\n",
    "    Vin[:, 0],\n",
    "    color = colors['input'], lw = 0.5\n",
    ")\n",
    "pltools.hide_border()\n",
    "pltools.hide_ticks()\n",
    "\n",
    "plt.subplot(spec_hi_traces[1, :], sharex = hi_ax, sharey=low_vtrace_ax)\n",
    "plt.axhline(-20, color = 'k', lw = 0.5, ls = '--', dashes = (10, 10))\n",
    "plt.plot(\n",
    "    hi_IA_sim.t_vec,\n",
    "    hi_IA_sim.V[:, :neurons_to_show],\n",
    "    color = colors['ser'], lw = 0.5, alpha = 0.1\n",
    ")\n",
    "pltools.hide_border('a')\n",
    "pltools.add_scalebar(omit_x=True, omit_y=True)\n",
    "plt.annotate('Spike threshold', (10, -19), ha = 'right')\n",
    "\n",
    "plt.subplot(spec_hi_traces[2, :], sharex = hi_ax)\n",
    "for i in range(neurons_to_show):\n",
    "    spk_inds = np.where(hi_IA_sim.spks[:, i])[0]\n",
    "    if len(spk_inds) < 1:\n",
    "        continue\n",
    "    first_spk = 1e-3 * np.min(spk_inds)\n",
    "    plt.plot(\n",
    "        first_spk,\n",
    "        i,\n",
    "        '|', color=colors['ser'], markersize = 2\n",
    "    )\n",
    "pltools.add_scalebar(\n",
    "    x_units = '$\\\\tau_{{\\mathrm{{mem}}}}$', omit_y = True,\n",
    "    x_size = 1, anchor = (0.8, -0.05), x_label_space = -0.1,\n",
    "    linewidth=sbarlw\n",
    ")\n",
    "\n",
    "bins = np.linspace(0, 8, 20)\n",
    "plt.subplot(spec_outer[0, 2])\n",
    "plt.hist(\n",
    "    hi_IA_sim.get_spk_latencies()[~np.isnan(hi_IA_sim.get_spk_latencies())] - 1,\n",
    "    edgecolor = 'none', facecolor = colors['ser'], bins = bins,\n",
    "    label = 'LIF + 100% $I_A$'\n",
    ")\n",
    "plt.hist(\n",
    "    low_IA_sim.get_spk_latencies()[~np.isnan(low_IA_sim.get_spk_latencies())] - 1,\n",
    "    edgecolor = 'none', facecolor = 'green', bins=bins, alpha=0.8,\n",
    "    label = 'LIF + 50% $I_A$'\n",
    ")\n",
    "plt.hist(\n",
    "    ohmic_sim.get_spk_latencies()[~np.isnan(ohmic_sim.get_spk_latencies())] - 1,\n",
    "    edgecolor='none', facecolor=colors['4AP'], bins=bins, label='LIF'\n",
    ")\n",
    "plt.xlim(0, plt.xlim()[1])\n",
    "plt.ylim(0, plt.ylim()[1] * 1.3)\n",
    "plt.xlabel('Latency ($\\\\tau_{{\\mathrm{{mem}}}}$)')\n",
    "pltools.hide_border('ltr')\n",
    "plt.yticks([])\n",
    "plt.legend(loc='upper right', bbox_to_anchor=(1.1, 1))\n",
    "\n",
    "\n",
    "if IMG_PATH is not None:\n",
    "    plt.savefig(IMG_PATH + 'IA_jitter_theory.png', dpi = 300)\n",
    "    plt.savefig(IMG_PATH + 'IA_jitter_theory.svg')\n",
    "\n",
    "plt.show()"
   ]
  },
  {
   "cell_type": "code",
   "execution_count": null,
   "metadata": {},
   "outputs": [],
   "source": []
  }
 ],
 "metadata": {
  "jupytext": {
   "cell_metadata_filter": "title,-all",
   "main_language": "python",
   "notebook_metadata_filter": "-all"
  },
  "kernelspec": {
   "display_name": "Python 2",
   "language": "python",
   "name": "python2"
  },
  "language_info": {
   "codemirror_mode": {
    "name": "ipython",
    "version": 2
   },
   "file_extension": ".py",
   "mimetype": "text/x-python",
   "name": "python",
   "nbconvert_exporter": "python",
   "pygments_lexer": "ipython2",
   "version": "2.7.15"
  }
 },
 "nbformat": 4,
 "nbformat_minor": 2
}

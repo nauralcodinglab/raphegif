{
 "cells": [
  {
   "cell_type": "code",
   "execution_count": 1,
   "metadata": {},
   "outputs": [],
   "source": [
    "from colorscheme import colors"
   ]
  },
  {
   "cell_type": "code",
   "execution_count": 2,
   "metadata": {},
   "outputs": [
    {
     "name": "stdout",
     "output_type": "stream",
     "text": [
      "/Users/eharkin/Documents/projects/5HTGIF\n"
     ]
    }
   ],
   "source": [
    "import os\n",
    "os.chdir(os.path.join('..', '..', '..'))\n",
    "print(os.getcwd())"
   ]
  },
  {
   "cell_type": "code",
   "execution_count": 3,
   "metadata": {},
   "outputs": [],
   "source": [
    "import pickle\n",
    "\n",
    "import re\n",
    "import warnings\n",
    "\n",
    "import pandas as pd\n",
    "import matplotlib.pyplot as plt\n",
    "import matplotlib.gridspec as gs\n",
    "import seaborn as sns\n",
    "from scipy import stats\n",
    "from ezephys import pltools"
   ]
  },
  {
   "cell_type": "code",
   "execution_count": 4,
   "metadata": {},
   "outputs": [],
   "source": [
    "plt.style.use(os.path.join('figs', 'scripts', 'writeup', 'publication_figure_style.dms'))\n",
    "plt.rc('text', usetex = False)\n",
    "IMG_PATH = os.path.join('figs', 'ims', 'writeup', 'GIF_benchmarks')\n",
    "MOD_PATH = os.path.join('data', 'models')"
   ]
  },
  {
   "cell_type": "markdown",
   "metadata": {},
   "source": [
    "# Benchmarks"
   ]
  },
  {
   "cell_type": "code",
   "execution_count": 5,
   "metadata": {},
   "outputs": [],
   "source": [
    "def strip_string_from_col_names(dframe, string):\n",
    "    newdframe = dframe.rename(columns=lambda x: re.sub(string, '', x))\n",
    "    return newdframe"
   ]
  },
  {
   "cell_type": "code",
   "execution_count": 6,
   "metadata": {},
   "outputs": [],
   "source": [
    "benchmarks = {}\n",
    "\n",
    "for celltype in ['5HT', 'GABA', 'mPFC']:\n",
    "    try:\n",
    "        benchmarks[celltype] = {}\n",
    "        for benchtype in ['Md_8', 'R2_V', 'R2_dV']:\n",
    "            benchmarks[celltype][benchtype] = pd.read_csv(\n",
    "                os.path.join(MOD_PATH, celltype, '{}_goodcellsbenchmark_{}.csv'.format(celltype, benchtype))\n",
    "            )\n",
    "            minified_bench = pd.read_csv(\n",
    "                os.path.join(MOD_PATH, celltype, '{}_minified_goodcellsbenchmark_{}.csv'.format(celltype, benchtype))\n",
    "            )\n",
    "            benchmarks[celltype][benchtype]['minified'] = False\n",
    "            minified_bench = strip_string_from_col_names(minified_bench, '_minified')\n",
    "            minified_bench['minified'] = True\n",
    "            benchmarks[celltype][benchtype] = benchmarks[celltype][benchtype].append(minified_bench, ignore_index=True)\n",
    "    except IOError:\n",
    "        warnings.warn('IOError trying to collect {} benchmarks. Skipping.'.format(celltype))\n",
    "\n",
    "del minified_bench"
   ]
  },
  {
   "cell_type": "markdown",
   "metadata": {},
   "source": [
    "# Md* benchmarks"
   ]
  },
  {
   "cell_type": "markdown",
   "metadata": {},
   "source": [
    "## mPFC"
   ]
  },
  {
   "cell_type": "code",
   "execution_count": 7,
   "metadata": {},
   "outputs": [],
   "source": [
    "piv = benchmarks['mPFC']['Md_8'].melt(\n",
    "    value_vars=['mPFC_AugmentedGIFs', 'mPFC_GIFs', 'mPFC_iGIF_NPs', 'mPFC_iGIF_VRs'],\n",
    "    id_vars=['minified', 'Cell'],\n",
    "    var_name='model',\n",
    "    value_name='Md_8'\n",
    ")"
   ]
  },
  {
   "cell_type": "code",
   "execution_count": 8,
   "metadata": {},
   "outputs": [
    {
     "data": {
      "text/html": [
       "<div>\n",
       "<style scoped>\n",
       "    .dataframe tbody tr th:only-of-type {\n",
       "        vertical-align: middle;\n",
       "    }\n",
       "\n",
       "    .dataframe tbody tr th {\n",
       "        vertical-align: top;\n",
       "    }\n",
       "\n",
       "    .dataframe thead th {\n",
       "        text-align: right;\n",
       "    }\n",
       "</style>\n",
       "<table border=\"1\" class=\"dataframe\">\n",
       "  <thead>\n",
       "    <tr style=\"text-align: right;\">\n",
       "      <th></th>\n",
       "      <th>Md_8</th>\n",
       "    </tr>\n",
       "    <tr>\n",
       "      <th>model</th>\n",
       "      <th></th>\n",
       "    </tr>\n",
       "  </thead>\n",
       "  <tbody>\n",
       "    <tr>\n",
       "      <th>mPFC_AugmentedGIFs</th>\n",
       "      <td>0.741915</td>\n",
       "    </tr>\n",
       "    <tr>\n",
       "      <th>mPFC_GIFs</th>\n",
       "      <td>0.783135</td>\n",
       "    </tr>\n",
       "    <tr>\n",
       "      <th>mPFC_iGIF_NPs</th>\n",
       "      <td>0.826606</td>\n",
       "    </tr>\n",
       "    <tr>\n",
       "      <th>mPFC_iGIF_VRs</th>\n",
       "      <td>0.829239</td>\n",
       "    </tr>\n",
       "  </tbody>\n",
       "</table>\n",
       "</div>"
      ],
      "text/plain": [
       "                        Md_8\n",
       "model                       \n",
       "mPFC_AugmentedGIFs  0.741915\n",
       "mPFC_GIFs           0.783135\n",
       "mPFC_iGIF_NPs       0.826606\n",
       "mPFC_iGIF_VRs       0.829239"
      ]
     },
     "execution_count": 8,
     "metadata": {},
     "output_type": "execute_result"
    }
   ],
   "source": [
    "piv.loc[piv['minified'] == False, ['Md_8', 'model']].groupby('model').mean()"
   ]
  },
  {
   "cell_type": "code",
   "execution_count": 9,
   "metadata": {},
   "outputs": [
    {
     "data": {
      "text/html": [
       "<div>\n",
       "<style scoped>\n",
       "    .dataframe tbody tr th:only-of-type {\n",
       "        vertical-align: middle;\n",
       "    }\n",
       "\n",
       "    .dataframe tbody tr th {\n",
       "        vertical-align: top;\n",
       "    }\n",
       "\n",
       "    .dataframe thead th {\n",
       "        text-align: right;\n",
       "    }\n",
       "</style>\n",
       "<table border=\"1\" class=\"dataframe\">\n",
       "  <thead>\n",
       "    <tr style=\"text-align: right;\">\n",
       "      <th></th>\n",
       "      <th>Md_8</th>\n",
       "    </tr>\n",
       "    <tr>\n",
       "      <th>model</th>\n",
       "      <th></th>\n",
       "    </tr>\n",
       "  </thead>\n",
       "  <tbody>\n",
       "    <tr>\n",
       "      <th>mPFC_AugmentedGIFs</th>\n",
       "      <td>0.067907</td>\n",
       "    </tr>\n",
       "    <tr>\n",
       "      <th>mPFC_GIFs</th>\n",
       "      <td>0.050759</td>\n",
       "    </tr>\n",
       "    <tr>\n",
       "      <th>mPFC_iGIF_NPs</th>\n",
       "      <td>0.054927</td>\n",
       "    </tr>\n",
       "    <tr>\n",
       "      <th>mPFC_iGIF_VRs</th>\n",
       "      <td>0.054074</td>\n",
       "    </tr>\n",
       "  </tbody>\n",
       "</table>\n",
       "</div>"
      ],
      "text/plain": [
       "                        Md_8\n",
       "model                       \n",
       "mPFC_AugmentedGIFs  0.067907\n",
       "mPFC_GIFs           0.050759\n",
       "mPFC_iGIF_NPs       0.054927\n",
       "mPFC_iGIF_VRs       0.054074"
      ]
     },
     "execution_count": 9,
     "metadata": {},
     "output_type": "execute_result"
    }
   ],
   "source": [
    "piv.loc[piv['minified'] == False, ['Md_8', 'model']].groupby('model').sem()"
   ]
  },
  {
   "cell_type": "code",
   "execution_count": 10,
   "metadata": {},
   "outputs": [
    {
     "name": "stderr",
     "output_type": "stream",
     "text": [
      "/miniconda3/envs/neopozz/lib/python2.7/site-packages/scipy/stats/morestats.py:2778: UserWarning: Warning: sample size too small for normal approximation.\n",
      "  warnings.warn(\"Warning: sample size too small for normal approximation.\")\n"
     ]
    },
    {
     "data": {
      "text/plain": [
       "WilcoxonResult(statistic=7.0, pvalue=0.27189871081964834)"
      ]
     },
     "execution_count": 10,
     "metadata": {},
     "output_type": "execute_result"
    }
   ],
   "source": [
    "stats.wilcoxon(\n",
    "    benchmarks['mPFC']['Md_8'].loc[benchmarks['mPFC']['Md_8']['minified'] == False, 'mPFC_AugmentedGIFs'],\n",
    "    benchmarks['mPFC']['Md_8'].loc[benchmarks['mPFC']['Md_8']['minified'] == False, 'mPFC_GIFs'],\n",
    "    correction=True\n",
    ")"
   ]
  },
  {
   "cell_type": "code",
   "execution_count": 11,
   "metadata": {},
   "outputs": [
    {
     "data": {
      "text/plain": [
       "WilcoxonResult(statistic=3.0, pvalue=0.07592696298255763)"
      ]
     },
     "execution_count": 11,
     "metadata": {},
     "output_type": "execute_result"
    }
   ],
   "source": [
    "stats.wilcoxon(\n",
    "    benchmarks['mPFC']['Md_8'].loc[benchmarks['mPFC']['Md_8']['minified'] == False, 'mPFC_AugmentedGIFs'],\n",
    "    benchmarks['mPFC']['Md_8'].loc[benchmarks['mPFC']['Md_8']['minified'] == False, 'mPFC_iGIF_NPs'],\n",
    "    correction=True\n",
    ")"
   ]
  },
  {
   "cell_type": "code",
   "execution_count": 12,
   "metadata": {},
   "outputs": [
    {
     "data": {
      "text/plain": [
       "WilcoxonResult(statistic=3.0, pvalue=0.07592696298255763)"
      ]
     },
     "execution_count": 12,
     "metadata": {},
     "output_type": "execute_result"
    }
   ],
   "source": [
    "stats.wilcoxon(\n",
    "    benchmarks['mPFC']['Md_8'].loc[benchmarks['mPFC']['Md_8']['minified'] == False, 'mPFC_GIFs'],\n",
    "    benchmarks['mPFC']['Md_8'].loc[benchmarks['mPFC']['Md_8']['minified'] == False, 'mPFC_iGIF_NPs'],\n",
    "    correction=True\n",
    ")"
   ]
  },
  {
   "cell_type": "code",
   "execution_count": 13,
   "metadata": {},
   "outputs": [
    {
     "data": {
      "image/png": "[encoded data removed]",
      "text/plain": [
       "<Figure size 120x120 with 1 Axes>"
      ]
     },
     "metadata": {
      "needs_background": "light"
     },
     "output_type": "display_data"
    }
   ],
   "source": [
    "plt.figure(figsize=(1, 1))\n",
    "\n",
    "plt.subplot(111)\n",
    "sns.boxplot(\n",
    "    x='model', \n",
    "    y='Md_8', \n",
    "    data=piv.loc[piv['minified'] == False, :], \n",
    "    order=['mPFC_GIFs', 'mPFC_AugmentedGIFs', 'mPFC_iGIF_NPs', 'mPFC_iGIF_VRs']\n",
    ")\n",
    "plt.ylim(0, 1)\n",
    "plt.xticks([0, 1, 2, 3], ['GIFs', 'AugmentedGIFs', 'iGIF N.P.', 'iGIF V.R.'], rotation=45, ha='right')\n",
    "plt.yticks([0, 0.5, 1])\n",
    "plt.xlabel('')\n",
    "plt.ylabel('$M_d^*$ $8$ms precision')\n",
    "pltools.hide_border('tr', trim=True)\n",
    "\n",
    "plt.subplots_adjust(left=0.35, bottom=0.25, top=0.95, right=0.97)\n",
    "\n",
    "if IMG_PATH is not None:\n",
    "    plt.savefig(os.path.join(IMG_PATH, 'mPFC_md_benchmark.png'))\n",
    "    plt.savefig(os.path.join(IMG_PATH, 'mPFC_md_benchmark.svg'))"
   ]
  },
  {
   "cell_type": "markdown",
   "metadata": {},
   "source": [
    "## 5HT"
   ]
  },
  {
   "cell_type": "code",
   "execution_count": 14,
   "metadata": {},
   "outputs": [
    {
     "name": "stderr",
     "output_type": "stream",
     "text": [
      "/miniconda3/envs/neopozz/lib/python2.7/site-packages/pandas/core/reshape/reshape.py:731: FutureWarning: \n",
      "Passing list-likes to .loc or [] with any missing label will raise\n",
      "KeyError in the future, you can use .reindex() as an alternative.\n",
      "\n",
      "See the documentation here:\n",
      "http://pandas.pydata.org/pandas-docs/stable/indexing.html#deprecate-loc-reindex-listlike\n",
      "  frame = frame.loc[:, id_vars + value_vars]\n",
      "/miniconda3/envs/neopozz/lib/python2.7/site-packages/pandas/core/indexing.py:1367: FutureWarning: \n",
      "Passing list-likes to .loc or [] with any missing label will raise\n",
      "KeyError in the future, you can use .reindex() as an alternative.\n",
      "\n",
      "See the documentation here:\n",
      "http://pandas.pydata.org/pandas-docs/stable/indexing.html#deprecate-loc-reindex-listlike\n",
      "  return self._getitem_tuple(key)\n"
     ]
    }
   ],
   "source": [
    "piv = benchmarks['5HT']['Md_8'].melt(\n",
    "    value_vars=['5HT_AugmentedGIFs', '5HT_GIFs', '5HT_iGIF_NPs', '5HT_iGIF_VRs'],\n",
    "    id_vars=['minified', 'Cell'],\n",
    "    var_name='model',\n",
    "    value_name='Md_8'\n",
    ")"
   ]
  },
  {
   "cell_type": "code",
   "execution_count": 15,
   "metadata": {},
   "outputs": [
    {
     "data": {
      "text/html": [
       "<div>\n",
       "<style scoped>\n",
       "    .dataframe tbody tr th:only-of-type {\n",
       "        vertical-align: middle;\n",
       "    }\n",
       "\n",
       "    .dataframe tbody tr th {\n",
       "        vertical-align: top;\n",
       "    }\n",
       "\n",
       "    .dataframe thead th {\n",
       "        text-align: right;\n",
       "    }\n",
       "</style>\n",
       "<table border=\"1\" class=\"dataframe\">\n",
       "  <thead>\n",
       "    <tr style=\"text-align: right;\">\n",
       "      <th></th>\n",
       "      <th>Md_8</th>\n",
       "    </tr>\n",
       "    <tr>\n",
       "      <th>model</th>\n",
       "      <th></th>\n",
       "    </tr>\n",
       "  </thead>\n",
       "  <tbody>\n",
       "    <tr>\n",
       "      <th>5HT_AugmentedGIFs</th>\n",
       "      <td>0.483158</td>\n",
       "    </tr>\n",
       "    <tr>\n",
       "      <th>5HT_GIFs</th>\n",
       "      <td>0.344406</td>\n",
       "    </tr>\n",
       "    <tr>\n",
       "      <th>5HT_iGIF_NPs</th>\n",
       "      <td>0.530943</td>\n",
       "    </tr>\n",
       "    <tr>\n",
       "      <th>5HT_iGIF_VRs</th>\n",
       "      <td>NaN</td>\n",
       "    </tr>\n",
       "  </tbody>\n",
       "</table>\n",
       "</div>"
      ],
      "text/plain": [
       "                       Md_8\n",
       "model                      \n",
       "5HT_AugmentedGIFs  0.483158\n",
       "5HT_GIFs           0.344406\n",
       "5HT_iGIF_NPs       0.530943\n",
       "5HT_iGIF_VRs            NaN"
      ]
     },
     "execution_count": 15,
     "metadata": {},
     "output_type": "execute_result"
    }
   ],
   "source": [
    "piv.loc[piv['minified'] == False, ['Md_8', 'model']].groupby('model').mean()"
   ]
  },
  {
   "cell_type": "code",
   "execution_count": 16,
   "metadata": {},
   "outputs": [
    {
     "data": {
      "text/html": [
       "<div>\n",
       "<style scoped>\n",
       "    .dataframe tbody tr th:only-of-type {\n",
       "        vertical-align: middle;\n",
       "    }\n",
       "\n",
       "    .dataframe tbody tr th {\n",
       "        vertical-align: top;\n",
       "    }\n",
       "\n",
       "    .dataframe thead th {\n",
       "        text-align: right;\n",
       "    }\n",
       "</style>\n",
       "<table border=\"1\" class=\"dataframe\">\n",
       "  <thead>\n",
       "    <tr style=\"text-align: right;\">\n",
       "      <th></th>\n",
       "      <th>Md_8</th>\n",
       "    </tr>\n",
       "    <tr>\n",
       "      <th>model</th>\n",
       "      <th></th>\n",
       "    </tr>\n",
       "  </thead>\n",
       "  <tbody>\n",
       "    <tr>\n",
       "      <th>5HT_AugmentedGIFs</th>\n",
       "      <td>0.034789</td>\n",
       "    </tr>\n",
       "    <tr>\n",
       "      <th>5HT_GIFs</th>\n",
       "      <td>0.027324</td>\n",
       "    </tr>\n",
       "    <tr>\n",
       "      <th>5HT_iGIF_NPs</th>\n",
       "      <td>0.036166</td>\n",
       "    </tr>\n",
       "    <tr>\n",
       "      <th>5HT_iGIF_VRs</th>\n",
       "      <td>NaN</td>\n",
       "    </tr>\n",
       "  </tbody>\n",
       "</table>\n",
       "</div>"
      ],
      "text/plain": [
       "                       Md_8\n",
       "model                      \n",
       "5HT_AugmentedGIFs  0.034789\n",
       "5HT_GIFs           0.027324\n",
       "5HT_iGIF_NPs       0.036166\n",
       "5HT_iGIF_VRs            NaN"
      ]
     },
     "execution_count": 16,
     "metadata": {},
     "output_type": "execute_result"
    }
   ],
   "source": [
    "piv.loc[piv['minified'] == False, ['Md_8', 'model']].groupby('model').sem()"
   ]
  },
  {
   "cell_type": "code",
   "execution_count": 17,
   "metadata": {},
   "outputs": [
    {
     "data": {
      "text/plain": [
       "WilcoxonResult(statistic=2.0, pvalue=0.00030071938552091605)"
      ]
     },
     "execution_count": 17,
     "metadata": {},
     "output_type": "execute_result"
    }
   ],
   "source": [
    "stats.wilcoxon(\n",
    "    benchmarks['5HT']['Md_8'].loc[benchmarks['5HT']['Md_8']['minified'] == False, '5HT_AugmentedGIFs'],\n",
    "    benchmarks['5HT']['Md_8'].loc[benchmarks['5HT']['Md_8']['minified'] == False, '5HT_GIFs'],\n",
    "    correction=True\n",
    ")"
   ]
  },
  {
   "cell_type": "code",
   "execution_count": 18,
   "metadata": {},
   "outputs": [
    {
     "data": {
      "text/plain": [
       "WilcoxonResult(statistic=60.0, pvalue=0.276260224405267)"
      ]
     },
     "execution_count": 18,
     "metadata": {},
     "output_type": "execute_result"
    }
   ],
   "source": [
    "stats.wilcoxon(\n",
    "    benchmarks['5HT']['Md_8'].loc[benchmarks['5HT']['Md_8']['minified'] == False, '5HT_AugmentedGIFs'],\n",
    "    benchmarks['5HT']['Md_8'].loc[benchmarks['5HT']['Md_8']['minified'] == False, '5HT_iGIF_NPs'],\n",
    "    correction=True\n",
    ")"
   ]
  },
  {
   "cell_type": "code",
   "execution_count": 19,
   "metadata": {},
   "outputs": [
    {
     "data": {
      "text/plain": [
       "WilcoxonResult(statistic=0.0, pvalue=0.00021409202584601804)"
      ]
     },
     "execution_count": 19,
     "metadata": {},
     "output_type": "execute_result"
    }
   ],
   "source": [
    "stats.wilcoxon(\n",
    "    benchmarks['5HT']['Md_8'].loc[benchmarks['5HT']['Md_8']['minified'] == False, '5HT_GIFs'],\n",
    "    benchmarks['5HT']['Md_8'].loc[benchmarks['5HT']['Md_8']['minified'] == False, '5HT_iGIF_NPs'],\n",
    "    correction=True\n",
    ")"
   ]
  },
  {
   "cell_type": "code",
   "execution_count": 20,
   "metadata": {},
   "outputs": [
    {
     "data": {
      "image/png": "[encoded data removed]",
      "text/plain": [
       "<Figure size 120x120 with 1 Axes>"
      ]
     },
     "metadata": {
      "needs_background": "light"
     },
     "output_type": "display_data"
    }
   ],
   "source": [
    "plt.figure(figsize=(1, 1))\n",
    "\n",
    "plt.subplot(111)\n",
    "sns.boxplot(\n",
    "    x='model', \n",
    "    y='Md_8', \n",
    "    data=piv.loc[piv['minified'] == False, :], \n",
    "    order=['5HT_GIFs', '5HT_AugmentedGIFs', '5HT_iGIF_NPs', '5HT_iGIF_VRs']\n",
    ")\n",
    "plt.ylim(0, 1)\n",
    "plt.xticks([0, 1, 2, 3], ['GIFs', 'AugmentedGIFs', 'iGIF N.P.', 'iGIF V.R.'], rotation=45, ha='right')\n",
    "plt.yticks([0, 0.5, 1])\n",
    "plt.xlabel('')\n",
    "plt.ylabel('$M_d^*$ $8$ms precision')\n",
    "pltools.hide_border('tr', trim=True)\n",
    "\n",
    "plt.subplots_adjust(left=0.35, bottom=0.25, top=0.95, right=0.97)\n",
    "\n",
    "if IMG_PATH is not None:\n",
    "    plt.savefig(os.path.join(IMG_PATH, '5HT_md_benchmark.png'))\n",
    "    plt.savefig(os.path.join(IMG_PATH, '5HT_md_benchmark.svg'))"
   ]
  },
  {
   "cell_type": "markdown",
   "metadata": {},
   "source": [
    "## SOM"
   ]
  },
  {
   "cell_type": "code",
   "execution_count": 21,
   "metadata": {},
   "outputs": [],
   "source": [
    "piv = benchmarks['GABA']['Md_8'].melt(\n",
    "    value_vars=['GABA_AugmentedGIFs', 'GABA_GIFs', 'GABA_iGIF_NPs', 'GABA_iGIF_VRs'],\n",
    "    id_vars=['minified', 'Cell'],\n",
    "    var_name='model',\n",
    "    value_name='Md_8'\n",
    ")"
   ]
  },
  {
   "cell_type": "code",
   "execution_count": 22,
   "metadata": {},
   "outputs": [
    {
     "data": {
      "text/html": [
       "<div>\n",
       "<style scoped>\n",
       "    .dataframe tbody tr th:only-of-type {\n",
       "        vertical-align: middle;\n",
       "    }\n",
       "\n",
       "    .dataframe tbody tr th {\n",
       "        vertical-align: top;\n",
       "    }\n",
       "\n",
       "    .dataframe thead th {\n",
       "        text-align: right;\n",
       "    }\n",
       "</style>\n",
       "<table border=\"1\" class=\"dataframe\">\n",
       "  <thead>\n",
       "    <tr style=\"text-align: right;\">\n",
       "      <th></th>\n",
       "      <th>Md_8</th>\n",
       "    </tr>\n",
       "    <tr>\n",
       "      <th>model</th>\n",
       "      <th></th>\n",
       "    </tr>\n",
       "  </thead>\n",
       "  <tbody>\n",
       "    <tr>\n",
       "      <th>GABA_AugmentedGIFs</th>\n",
       "      <td>0.838775</td>\n",
       "    </tr>\n",
       "    <tr>\n",
       "      <th>GABA_GIFs</th>\n",
       "      <td>0.818593</td>\n",
       "    </tr>\n",
       "    <tr>\n",
       "      <th>GABA_iGIF_NPs</th>\n",
       "      <td>0.892530</td>\n",
       "    </tr>\n",
       "    <tr>\n",
       "      <th>GABA_iGIF_VRs</th>\n",
       "      <td>0.887952</td>\n",
       "    </tr>\n",
       "  </tbody>\n",
       "</table>\n",
       "</div>"
      ],
      "text/plain": [
       "                        Md_8\n",
       "model                       \n",
       "GABA_AugmentedGIFs  0.838775\n",
       "GABA_GIFs           0.818593\n",
       "GABA_iGIF_NPs       0.892530\n",
       "GABA_iGIF_VRs       0.887952"
      ]
     },
     "execution_count": 22,
     "metadata": {},
     "output_type": "execute_result"
    }
   ],
   "source": [
    "piv.loc[piv['minified'] == False, ['Md_8', 'model']].groupby('model').mean()"
   ]
  },
  {
   "cell_type": "code",
   "execution_count": 23,
   "metadata": {},
   "outputs": [
    {
     "data": {
      "text/html": [
       "<div>\n",
       "<style scoped>\n",
       "    .dataframe tbody tr th:only-of-type {\n",
       "        vertical-align: middle;\n",
       "    }\n",
       "\n",
       "    .dataframe tbody tr th {\n",
       "        vertical-align: top;\n",
       "    }\n",
       "\n",
       "    .dataframe thead th {\n",
       "        text-align: right;\n",
       "    }\n",
       "</style>\n",
       "<table border=\"1\" class=\"dataframe\">\n",
       "  <thead>\n",
       "    <tr style=\"text-align: right;\">\n",
       "      <th></th>\n",
       "      <th>Md_8</th>\n",
       "    </tr>\n",
       "    <tr>\n",
       "      <th>model</th>\n",
       "      <th></th>\n",
       "    </tr>\n",
       "  </thead>\n",
       "  <tbody>\n",
       "    <tr>\n",
       "      <th>GABA_AugmentedGIFs</th>\n",
       "      <td>0.031503</td>\n",
       "    </tr>\n",
       "    <tr>\n",
       "      <th>GABA_GIFs</th>\n",
       "      <td>0.039294</td>\n",
       "    </tr>\n",
       "    <tr>\n",
       "      <th>GABA_iGIF_NPs</th>\n",
       "      <td>0.025148</td>\n",
       "    </tr>\n",
       "    <tr>\n",
       "      <th>GABA_iGIF_VRs</th>\n",
       "      <td>0.025613</td>\n",
       "    </tr>\n",
       "  </tbody>\n",
       "</table>\n",
       "</div>"
      ],
      "text/plain": [
       "                        Md_8\n",
       "model                       \n",
       "GABA_AugmentedGIFs  0.031503\n",
       "GABA_GIFs           0.039294\n",
       "GABA_iGIF_NPs       0.025148\n",
       "GABA_iGIF_VRs       0.025613"
      ]
     },
     "execution_count": 23,
     "metadata": {},
     "output_type": "execute_result"
    }
   ],
   "source": [
    "piv.loc[piv['minified'] == False, ['Md_8', 'model']].groupby('model').sem()"
   ]
  },
  {
   "cell_type": "code",
   "execution_count": 24,
   "metadata": {},
   "outputs": [
    {
     "data": {
      "text/plain": [
       "WilcoxonResult(statistic=26.0, pvalue=0.10263977557690805)"
      ]
     },
     "execution_count": 24,
     "metadata": {},
     "output_type": "execute_result"
    }
   ],
   "source": [
    "stats.wilcoxon(\n",
    "    benchmarks['GABA']['Md_8'].loc[benchmarks['GABA']['Md_8']['minified'] == False, 'GABA_AugmentedGIFs'],\n",
    "    benchmarks['GABA']['Md_8'].loc[benchmarks['GABA']['Md_8']['minified'] == False, 'GABA_GIFs'],\n",
    "    correction=True\n",
    ")"
   ]
  },
  {
   "cell_type": "code",
   "execution_count": 25,
   "metadata": {},
   "outputs": [
    {
     "data": {
      "text/plain": [
       "WilcoxonResult(statistic=2.0, pvalue=0.0016962723599764757)"
      ]
     },
     "execution_count": 25,
     "metadata": {},
     "output_type": "execute_result"
    }
   ],
   "source": [
    "stats.wilcoxon(\n",
    "    benchmarks['GABA']['Md_8'].loc[benchmarks['GABA']['Md_8']['minified'] == False, 'GABA_AugmentedGIFs'],\n",
    "    benchmarks['GABA']['Md_8'].loc[benchmarks['GABA']['Md_8']['minified'] == False, 'GABA_iGIF_NPs'],\n",
    "    correction=True\n",
    ")"
   ]
  },
  {
   "cell_type": "code",
   "execution_count": 26,
   "metadata": {
    "lines_to_next_cell": 2
   },
   "outputs": [
    {
     "data": {
      "text/plain": [
       "WilcoxonResult(statistic=0.0, pvalue=0.0010970505857231026)"
      ]
     },
     "execution_count": 26,
     "metadata": {},
     "output_type": "execute_result"
    }
   ],
   "source": [
    "stats.wilcoxon(\n",
    "    benchmarks['GABA']['Md_8'].loc[benchmarks['GABA']['Md_8']['minified'] == False, 'GABA_GIFs'],\n",
    "    benchmarks['GABA']['Md_8'].loc[benchmarks['GABA']['Md_8']['minified'] == False, 'GABA_iGIF_NPs'],\n",
    "    correction=True\n",
    ")"
   ]
  },
  {
   "cell_type": "code",
   "execution_count": 27,
   "metadata": {
    "scrolled": true
   },
   "outputs": [
    {
     "data": {
      "image/png": "[encoded data removed]",
      "text/plain": [
       "<Figure size 120x120 with 1 Axes>"
      ]
     },
     "metadata": {
      "needs_background": "light"
     },
     "output_type": "display_data"
    }
   ],
   "source": [
    "plt.figure(figsize=(1, 1))\n",
    "\n",
    "plt.subplot(111)\n",
    "sns.boxplot(\n",
    "    x='model', \n",
    "    y='Md_8', \n",
    "    data=piv.loc[piv['minified'] == False, :], \n",
    "    order=['GABA_GIFs', 'GABA_AugmentedGIFs', 'GABA_iGIF_NPs', 'GABA_iGIF_VRs']\n",
    ")\n",
    "plt.ylim(0, 1)\n",
    "plt.xticks([0, 1, 2, 3], ['GIFs', 'AugmentedGIFs', 'iGIF N.P.', 'iGIF V.R.'], rotation=45, ha='right')\n",
    "plt.yticks([0, 0.5, 1])\n",
    "plt.xlabel('')\n",
    "plt.ylabel('$M_d^*$ $8$ms precision')\n",
    "pltools.hide_border('tr', trim=True)\n",
    "\n",
    "plt.subplots_adjust(left=0.35, bottom=0.25, top=0.95, right=0.97)\n",
    "\n",
    "if IMG_PATH is not None:\n",
    "    plt.savefig(os.path.join(IMG_PATH, 'GABA_md_benchmark.png'))\n",
    "    plt.savefig(os.path.join(IMG_PATH, 'GABA_md_benchmark.svg'))"
   ]
  },
  {
   "cell_type": "markdown",
   "metadata": {},
   "source": [
    "# R^2 benchmarks"
   ]
  },
  {
   "cell_type": "markdown",
   "metadata": {},
   "source": [
    "## mPFC"
   ]
  },
  {
   "cell_type": "code",
   "execution_count": 28,
   "metadata": {},
   "outputs": [],
   "source": [
    "piv = benchmarks['mPFC']['R2_V'].melt(\n",
    "    value_vars=['mPFC_AugmentedGIFs', 'mPFC_GIFs', 'mPFC_iGIF_NPs', 'mPFC_iGIF_VRs'],\n",
    "    id_vars=['minified', 'Cell'],\n",
    "    var_name='model',\n",
    "    value_name='R2_V'\n",
    ")"
   ]
  },
  {
   "cell_type": "code",
   "execution_count": 29,
   "metadata": {},
   "outputs": [
    {
     "data": {
      "text/html": [
       "<div>\n",
       "<style scoped>\n",
       "    .dataframe tbody tr th:only-of-type {\n",
       "        vertical-align: middle;\n",
       "    }\n",
       "\n",
       "    .dataframe tbody tr th {\n",
       "        vertical-align: top;\n",
       "    }\n",
       "\n",
       "    .dataframe thead th {\n",
       "        text-align: right;\n",
       "    }\n",
       "</style>\n",
       "<table border=\"1\" class=\"dataframe\">\n",
       "  <thead>\n",
       "    <tr style=\"text-align: right;\">\n",
       "      <th></th>\n",
       "      <th>R2_V</th>\n",
       "    </tr>\n",
       "    <tr>\n",
       "      <th>model</th>\n",
       "      <th></th>\n",
       "    </tr>\n",
       "  </thead>\n",
       "  <tbody>\n",
       "    <tr>\n",
       "      <th>mPFC_AugmentedGIFs</th>\n",
       "      <td>0.818511</td>\n",
       "    </tr>\n",
       "    <tr>\n",
       "      <th>mPFC_GIFs</th>\n",
       "      <td>0.872893</td>\n",
       "    </tr>\n",
       "    <tr>\n",
       "      <th>mPFC_iGIF_NPs</th>\n",
       "      <td>0.872893</td>\n",
       "    </tr>\n",
       "    <tr>\n",
       "      <th>mPFC_iGIF_VRs</th>\n",
       "      <td>0.857089</td>\n",
       "    </tr>\n",
       "  </tbody>\n",
       "</table>\n",
       "</div>"
      ],
      "text/plain": [
       "                        R2_V\n",
       "model                       \n",
       "mPFC_AugmentedGIFs  0.818511\n",
       "mPFC_GIFs           0.872893\n",
       "mPFC_iGIF_NPs       0.872893\n",
       "mPFC_iGIF_VRs       0.857089"
      ]
     },
     "execution_count": 29,
     "metadata": {},
     "output_type": "execute_result"
    }
   ],
   "source": [
    "piv.loc[piv['minified'] == False, ['R2_V', 'model']].groupby('model').mean()"
   ]
  },
  {
   "cell_type": "code",
   "execution_count": 30,
   "metadata": {},
   "outputs": [
    {
     "data": {
      "text/html": [
       "<div>\n",
       "<style scoped>\n",
       "    .dataframe tbody tr th:only-of-type {\n",
       "        vertical-align: middle;\n",
       "    }\n",
       "\n",
       "    .dataframe tbody tr th {\n",
       "        vertical-align: top;\n",
       "    }\n",
       "\n",
       "    .dataframe thead th {\n",
       "        text-align: right;\n",
       "    }\n",
       "</style>\n",
       "<table border=\"1\" class=\"dataframe\">\n",
       "  <thead>\n",
       "    <tr style=\"text-align: right;\">\n",
       "      <th></th>\n",
       "      <th>R2_V</th>\n",
       "    </tr>\n",
       "    <tr>\n",
       "      <th>model</th>\n",
       "      <th></th>\n",
       "    </tr>\n",
       "  </thead>\n",
       "  <tbody>\n",
       "    <tr>\n",
       "      <th>mPFC_AugmentedGIFs</th>\n",
       "      <td>0.077205</td>\n",
       "    </tr>\n",
       "    <tr>\n",
       "      <th>mPFC_GIFs</th>\n",
       "      <td>0.038106</td>\n",
       "    </tr>\n",
       "    <tr>\n",
       "      <th>mPFC_iGIF_NPs</th>\n",
       "      <td>0.038106</td>\n",
       "    </tr>\n",
       "    <tr>\n",
       "      <th>mPFC_iGIF_VRs</th>\n",
       "      <td>0.040063</td>\n",
       "    </tr>\n",
       "  </tbody>\n",
       "</table>\n",
       "</div>"
      ],
      "text/plain": [
       "                        R2_V\n",
       "model                       \n",
       "mPFC_AugmentedGIFs  0.077205\n",
       "mPFC_GIFs           0.038106\n",
       "mPFC_iGIF_NPs       0.038106\n",
       "mPFC_iGIF_VRs       0.040063"
      ]
     },
     "execution_count": 30,
     "metadata": {},
     "output_type": "execute_result"
    }
   ],
   "source": [
    "piv.loc[piv['minified'] == False, ['R2_V', 'model']].groupby('model').sem()"
   ]
  },
  {
   "cell_type": "code",
   "execution_count": 31,
   "metadata": {},
   "outputs": [
    {
     "data": {
      "text/plain": [
       "WilcoxonResult(statistic=8.0, pvalue=0.3516806827985527)"
      ]
     },
     "execution_count": 31,
     "metadata": {},
     "output_type": "execute_result"
    }
   ],
   "source": [
    "stats.wilcoxon(\n",
    "    benchmarks['mPFC']['R2_V'].loc[benchmarks['mPFC']['R2_V']['minified'] == False, 'mPFC_AugmentedGIFs'],\n",
    "    benchmarks['mPFC']['R2_V'].loc[benchmarks['mPFC']['R2_V']['minified'] == False, 'mPFC_GIFs'],\n",
    "    correction=True\n",
    ")"
   ]
  },
  {
   "cell_type": "code",
   "execution_count": 32,
   "metadata": {},
   "outputs": [
    {
     "data": {
      "text/plain": [
       "WilcoxonResult(statistic=8.0, pvalue=0.3516806827985527)"
      ]
     },
     "execution_count": 32,
     "metadata": {},
     "output_type": "execute_result"
    }
   ],
   "source": [
    "stats.wilcoxon(\n",
    "    benchmarks['mPFC']['R2_V'].loc[benchmarks['mPFC']['R2_V']['minified'] == False, 'mPFC_AugmentedGIFs'],\n",
    "    benchmarks['mPFC']['R2_V'].loc[benchmarks['mPFC']['R2_V']['minified'] == False, 'mPFC_iGIF_NPs'],\n",
    "    correction=True\n",
    ")"
   ]
  },
  {
   "cell_type": "code",
   "execution_count": 33,
   "metadata": {
    "lines_to_next_cell": 2
   },
   "outputs": [
    {
     "name": "stderr",
     "output_type": "stream",
     "text": [
      "/miniconda3/envs/neopozz/lib/python2.7/site-packages/scipy/stats/morestats.py:2803: RuntimeWarning: invalid value encountered in double_scalars\n",
      "  z = (T - mn - correction) / se\n"
     ]
    },
    {
     "data": {
      "text/plain": [
       "WilcoxonResult(statistic=0.0, pvalue=nan)"
      ]
     },
     "execution_count": 33,
     "metadata": {},
     "output_type": "execute_result"
    }
   ],
   "source": [
    "stats.wilcoxon(\n",
    "    benchmarks['mPFC']['R2_V'].loc[benchmarks['mPFC']['R2_V']['minified'] == False, 'mPFC_GIFs'],\n",
    "    benchmarks['mPFC']['R2_V'].loc[benchmarks['mPFC']['R2_V']['minified'] == False, 'mPFC_iGIF_NPs'],\n",
    "    correction=True\n",
    ")"
   ]
  },
  {
   "cell_type": "code",
   "execution_count": 34,
   "metadata": {},
   "outputs": [
    {
     "data": {
      "image/png": "[encoded data removed]",
      "text/plain": [
       "<Figure size 120x120 with 1 Axes>"
      ]
     },
     "metadata": {
      "needs_background": "light"
     },
     "output_type": "display_data"
    }
   ],
   "source": [
    "plt.figure(figsize=(1, 1))\n",
    "\n",
    "plt.subplot(111)\n",
    "sns.boxplot(\n",
    "    x='model', \n",
    "    y='R2_V', \n",
    "    data=piv.loc[piv['minified'] == False, :], \n",
    "    order=['mPFC_GIFs', 'mPFC_AugmentedGIFs', 'mPFC_iGIF_NPs', 'mPFC_iGIF_VRs']\n",
    ")\n",
    "plt.ylim(0, 1)\n",
    "plt.xticks([0, 1, 2, 3], ['GIFs', 'AugmentedGIFs', 'iGIF N.P.', 'iGIF V.R.'], rotation=45, ha='right')\n",
    "plt.yticks([0, 0.5, 1])\n",
    "plt.xlabel('')\n",
    "plt.ylabel('$R^2$ on $V$')\n",
    "pltools.hide_border('tr', trim=True)\n",
    "\n",
    "plt.subplots_adjust(left=0.35, bottom=0.25, top=0.95, right=0.97)\n",
    "\n",
    "if IMG_PATH is not None:\n",
    "    plt.savefig(os.path.join(IMG_PATH, 'mPFC_r2_benchmark.png'))\n",
    "    plt.savefig(os.path.join(IMG_PATH, 'mPFC_r2_benchmark.svg'))"
   ]
  },
  {
   "cell_type": "markdown",
   "metadata": {},
   "source": [
    "## 5HT"
   ]
  },
  {
   "cell_type": "code",
   "execution_count": 35,
   "metadata": {},
   "outputs": [],
   "source": [
    "piv = benchmarks['5HT']['R2_V'].melt(\n",
    "    value_vars=['5HT_AugmentedGIFs', '5HT_GIFs', '5HT_iGIF_NPs', '5HT_iGIF_VRs'],\n",
    "    id_vars=['minified', 'Cell'],\n",
    "    var_name='model',\n",
    "    value_name='R2_V'\n",
    ")"
   ]
  },
  {
   "cell_type": "code",
   "execution_count": 36,
   "metadata": {},
   "outputs": [
    {
     "data": {
      "text/html": [
       "<div>\n",
       "<style scoped>\n",
       "    .dataframe tbody tr th:only-of-type {\n",
       "        vertical-align: middle;\n",
       "    }\n",
       "\n",
       "    .dataframe tbody tr th {\n",
       "        vertical-align: top;\n",
       "    }\n",
       "\n",
       "    .dataframe thead th {\n",
       "        text-align: right;\n",
       "    }\n",
       "</style>\n",
       "<table border=\"1\" class=\"dataframe\">\n",
       "  <thead>\n",
       "    <tr style=\"text-align: right;\">\n",
       "      <th></th>\n",
       "      <th>R2_V</th>\n",
       "    </tr>\n",
       "    <tr>\n",
       "      <th>model</th>\n",
       "      <th></th>\n",
       "    </tr>\n",
       "  </thead>\n",
       "  <tbody>\n",
       "    <tr>\n",
       "      <th>5HT_AugmentedGIFs</th>\n",
       "      <td>0.896878</td>\n",
       "    </tr>\n",
       "    <tr>\n",
       "      <th>5HT_GIFs</th>\n",
       "      <td>0.906710</td>\n",
       "    </tr>\n",
       "    <tr>\n",
       "      <th>5HT_iGIF_NPs</th>\n",
       "      <td>0.906710</td>\n",
       "    </tr>\n",
       "    <tr>\n",
       "      <th>5HT_iGIF_VRs</th>\n",
       "      <td>NaN</td>\n",
       "    </tr>\n",
       "  </tbody>\n",
       "</table>\n",
       "</div>"
      ],
      "text/plain": [
       "                       R2_V\n",
       "model                      \n",
       "5HT_AugmentedGIFs  0.896878\n",
       "5HT_GIFs           0.906710\n",
       "5HT_iGIF_NPs       0.906710\n",
       "5HT_iGIF_VRs            NaN"
      ]
     },
     "execution_count": 36,
     "metadata": {},
     "output_type": "execute_result"
    }
   ],
   "source": [
    "piv.loc[piv['minified'] == False, ['R2_V', 'model']].groupby('model').mean()"
   ]
  },
  {
   "cell_type": "code",
   "execution_count": 37,
   "metadata": {},
   "outputs": [
    {
     "data": {
      "text/html": [
       "<div>\n",
       "<style scoped>\n",
       "    .dataframe tbody tr th:only-of-type {\n",
       "        vertical-align: middle;\n",
       "    }\n",
       "\n",
       "    .dataframe tbody tr th {\n",
       "        vertical-align: top;\n",
       "    }\n",
       "\n",
       "    .dataframe thead th {\n",
       "        text-align: right;\n",
       "    }\n",
       "</style>\n",
       "<table border=\"1\" class=\"dataframe\">\n",
       "  <thead>\n",
       "    <tr style=\"text-align: right;\">\n",
       "      <th></th>\n",
       "      <th>R2_V</th>\n",
       "    </tr>\n",
       "    <tr>\n",
       "      <th>model</th>\n",
       "      <th></th>\n",
       "    </tr>\n",
       "  </thead>\n",
       "  <tbody>\n",
       "    <tr>\n",
       "      <th>5HT_AugmentedGIFs</th>\n",
       "      <td>0.023140</td>\n",
       "    </tr>\n",
       "    <tr>\n",
       "      <th>5HT_GIFs</th>\n",
       "      <td>0.015665</td>\n",
       "    </tr>\n",
       "    <tr>\n",
       "      <th>5HT_iGIF_NPs</th>\n",
       "      <td>0.015665</td>\n",
       "    </tr>\n",
       "    <tr>\n",
       "      <th>5HT_iGIF_VRs</th>\n",
       "      <td>NaN</td>\n",
       "    </tr>\n",
       "  </tbody>\n",
       "</table>\n",
       "</div>"
      ],
      "text/plain": [
       "                       R2_V\n",
       "model                      \n",
       "5HT_AugmentedGIFs  0.023140\n",
       "5HT_GIFs           0.015665\n",
       "5HT_iGIF_NPs       0.015665\n",
       "5HT_iGIF_VRs            NaN"
      ]
     },
     "execution_count": 37,
     "metadata": {},
     "output_type": "execute_result"
    }
   ],
   "source": [
    "piv.loc[piv['minified'] == False, ['R2_V', 'model']].groupby('model').sem()"
   ]
  },
  {
   "cell_type": "code",
   "execution_count": 38,
   "metadata": {},
   "outputs": [
    {
     "data": {
      "text/plain": [
       "WilcoxonResult(statistic=66.0, pvalue=0.4079782223524976)"
      ]
     },
     "execution_count": 38,
     "metadata": {},
     "output_type": "execute_result"
    }
   ],
   "source": [
    "stats.wilcoxon(\n",
    "    benchmarks['5HT']['R2_V'].loc[benchmarks['5HT']['R2_V']['minified'] == False, '5HT_AugmentedGIFs'],\n",
    "    benchmarks['5HT']['R2_V'].loc[benchmarks['5HT']['R2_V']['minified'] == False, '5HT_GIFs'],\n",
    "    correction=True\n",
    ")"
   ]
  },
  {
   "cell_type": "code",
   "execution_count": 39,
   "metadata": {},
   "outputs": [
    {
     "data": {
      "text/plain": [
       "WilcoxonResult(statistic=66.0, pvalue=0.4079782223524976)"
      ]
     },
     "execution_count": 39,
     "metadata": {},
     "output_type": "execute_result"
    }
   ],
   "source": [
    "stats.wilcoxon(\n",
    "    benchmarks['5HT']['R2_V'].loc[benchmarks['5HT']['R2_V']['minified'] == False, '5HT_AugmentedGIFs'],\n",
    "    benchmarks['5HT']['R2_V'].loc[benchmarks['5HT']['R2_V']['minified'] == False, '5HT_iGIF_NPs'],\n",
    "    correction=True\n",
    ")"
   ]
  },
  {
   "cell_type": "code",
   "execution_count": 40,
   "metadata": {},
   "outputs": [
    {
     "data": {
      "text/plain": [
       "WilcoxonResult(statistic=0.0, pvalue=nan)"
      ]
     },
     "execution_count": 40,
     "metadata": {},
     "output_type": "execute_result"
    }
   ],
   "source": [
    "stats.wilcoxon(\n",
    "    benchmarks['5HT']['R2_V'].loc[benchmarks['5HT']['R2_V']['minified'] == False, '5HT_GIFs'],\n",
    "    benchmarks['5HT']['R2_V'].loc[benchmarks['5HT']['R2_V']['minified'] == False, '5HT_iGIF_NPs'],\n",
    "    correction=True\n",
    ")"
   ]
  },
  {
   "cell_type": "code",
   "execution_count": 41,
   "metadata": {},
   "outputs": [
    {
     "data": {
      "image/png": "[encoded data removed]",
      "text/plain": [
       "<Figure size 120x120 with 1 Axes>"
      ]
     },
     "metadata": {
      "needs_background": "light"
     },
     "output_type": "display_data"
    }
   ],
   "source": [
    "plt.figure(figsize=(1, 1))\n",
    "\n",
    "plt.subplot(111)\n",
    "sns.boxplot(\n",
    "    x='model', \n",
    "    y='R2_V', \n",
    "    data=piv.loc[piv['minified'] == False, :], \n",
    "    order=['5HT_GIFs', '5HT_AugmentedGIFs', '5HT_iGIF_NPs', '5HT_iGIF_VRs']\n",
    ")\n",
    "plt.ylim(0, 1)\n",
    "plt.xticks([0, 1, 2, 3], ['GIFs', 'AugmentedGIFs', 'iGIF N.P.', 'iGIF V.R.'], rotation=45, ha='right')\n",
    "plt.yticks([0, 0.5, 1])\n",
    "plt.xlabel('')\n",
    "plt.ylabel('$R^2$ on $V$')\n",
    "pltools.hide_border('tr', trim=True)\n",
    "\n",
    "plt.subplots_adjust(left=0.35, bottom=0.25, top=0.95, right=0.97)\n",
    "\n",
    "if IMG_PATH is not None:\n",
    "    plt.savefig(os.path.join(IMG_PATH, '5HT_r2_benchmark.png'))\n",
    "    plt.savefig(os.path.join(IMG_PATH, '5HT_r2_benchmark.svg'))"
   ]
  },
  {
   "cell_type": "markdown",
   "metadata": {},
   "source": [
    "## SOM"
   ]
  },
  {
   "cell_type": "code",
   "execution_count": 42,
   "metadata": {},
   "outputs": [],
   "source": [
    "piv = benchmarks['GABA']['R2_V'].melt(\n",
    "    value_vars=['GABA_AugmentedGIFs', 'GABA_GIFs', 'GABA_iGIF_NPs', 'GABA_iGIF_VRs'],\n",
    "    id_vars=['minified', 'Cell'],\n",
    "    var_name='model',\n",
    "    value_name='R2_V'\n",
    ")"
   ]
  },
  {
   "cell_type": "code",
   "execution_count": 43,
   "metadata": {},
   "outputs": [
    {
     "data": {
      "text/html": [
       "<div>\n",
       "<style scoped>\n",
       "    .dataframe tbody tr th:only-of-type {\n",
       "        vertical-align: middle;\n",
       "    }\n",
       "\n",
       "    .dataframe tbody tr th {\n",
       "        vertical-align: top;\n",
       "    }\n",
       "\n",
       "    .dataframe thead th {\n",
       "        text-align: right;\n",
       "    }\n",
       "</style>\n",
       "<table border=\"1\" class=\"dataframe\">\n",
       "  <thead>\n",
       "    <tr style=\"text-align: right;\">\n",
       "      <th></th>\n",
       "      <th>R2_V</th>\n",
       "    </tr>\n",
       "    <tr>\n",
       "      <th>model</th>\n",
       "      <th></th>\n",
       "    </tr>\n",
       "  </thead>\n",
       "  <tbody>\n",
       "    <tr>\n",
       "      <th>GABA_AugmentedGIFs</th>\n",
       "      <td>0.944784</td>\n",
       "    </tr>\n",
       "    <tr>\n",
       "      <th>GABA_GIFs</th>\n",
       "      <td>0.940889</td>\n",
       "    </tr>\n",
       "    <tr>\n",
       "      <th>GABA_iGIF_NPs</th>\n",
       "      <td>0.940889</td>\n",
       "    </tr>\n",
       "    <tr>\n",
       "      <th>GABA_iGIF_VRs</th>\n",
       "      <td>0.929410</td>\n",
       "    </tr>\n",
       "  </tbody>\n",
       "</table>\n",
       "</div>"
      ],
      "text/plain": [
       "                        R2_V\n",
       "model                       \n",
       "GABA_AugmentedGIFs  0.944784\n",
       "GABA_GIFs           0.940889\n",
       "GABA_iGIF_NPs       0.940889\n",
       "GABA_iGIF_VRs       0.929410"
      ]
     },
     "execution_count": 43,
     "metadata": {},
     "output_type": "execute_result"
    }
   ],
   "source": [
    "piv.loc[piv['minified'] == False, ['R2_V', 'model']].groupby('model').mean()"
   ]
  },
  {
   "cell_type": "code",
   "execution_count": 44,
   "metadata": {},
   "outputs": [
    {
     "data": {
      "text/html": [
       "<div>\n",
       "<style scoped>\n",
       "    .dataframe tbody tr th:only-of-type {\n",
       "        vertical-align: middle;\n",
       "    }\n",
       "\n",
       "    .dataframe tbody tr th {\n",
       "        vertical-align: top;\n",
       "    }\n",
       "\n",
       "    .dataframe thead th {\n",
       "        text-align: right;\n",
       "    }\n",
       "</style>\n",
       "<table border=\"1\" class=\"dataframe\">\n",
       "  <thead>\n",
       "    <tr style=\"text-align: right;\">\n",
       "      <th></th>\n",
       "      <th>R2_V</th>\n",
       "    </tr>\n",
       "    <tr>\n",
       "      <th>model</th>\n",
       "      <th></th>\n",
       "    </tr>\n",
       "  </thead>\n",
       "  <tbody>\n",
       "    <tr>\n",
       "      <th>GABA_AugmentedGIFs</th>\n",
       "      <td>0.004840</td>\n",
       "    </tr>\n",
       "    <tr>\n",
       "      <th>GABA_GIFs</th>\n",
       "      <td>0.004800</td>\n",
       "    </tr>\n",
       "    <tr>\n",
       "      <th>GABA_iGIF_NPs</th>\n",
       "      <td>0.004800</td>\n",
       "    </tr>\n",
       "    <tr>\n",
       "      <th>GABA_iGIF_VRs</th>\n",
       "      <td>0.007402</td>\n",
       "    </tr>\n",
       "  </tbody>\n",
       "</table>\n",
       "</div>"
      ],
      "text/plain": [
       "                        R2_V\n",
       "model                       \n",
       "GABA_AugmentedGIFs  0.004840\n",
       "GABA_GIFs           0.004800\n",
       "GABA_iGIF_NPs       0.004800\n",
       "GABA_iGIF_VRs       0.007402"
      ]
     },
     "execution_count": 44,
     "metadata": {},
     "output_type": "execute_result"
    }
   ],
   "source": [
    "piv.loc[piv['minified'] == False, ['R2_V', 'model']].groupby('model').sem()"
   ]
  },
  {
   "cell_type": "code",
   "execution_count": 45,
   "metadata": {},
   "outputs": [
    {
     "data": {
      "text/plain": [
       "WilcoxonResult(statistic=23.0, pvalue=0.06868016073035406)"
      ]
     },
     "execution_count": 45,
     "metadata": {},
     "output_type": "execute_result"
    }
   ],
   "source": [
    "stats.wilcoxon(\n",
    "    benchmarks['GABA']['R2_V'].loc[benchmarks['GABA']['R2_V']['minified'] == False, 'GABA_AugmentedGIFs'],\n",
    "    benchmarks['GABA']['R2_V'].loc[benchmarks['GABA']['R2_V']['minified'] == False, 'GABA_GIFs'],\n",
    "    correction=True\n",
    ")"
   ]
  },
  {
   "cell_type": "code",
   "execution_count": 46,
   "metadata": {},
   "outputs": [
    {
     "data": {
      "text/plain": [
       "WilcoxonResult(statistic=23.0, pvalue=0.06868016073035406)"
      ]
     },
     "execution_count": 46,
     "metadata": {},
     "output_type": "execute_result"
    }
   ],
   "source": [
    "stats.wilcoxon(\n",
    "    benchmarks['GABA']['R2_V'].loc[benchmarks['GABA']['R2_V']['minified'] == False, 'GABA_AugmentedGIFs'],\n",
    "    benchmarks['GABA']['R2_V'].loc[benchmarks['GABA']['R2_V']['minified'] == False, 'GABA_iGIF_NPs'],\n",
    "    correction=True\n",
    ")"
   ]
  },
  {
   "cell_type": "code",
   "execution_count": 47,
   "metadata": {},
   "outputs": [
    {
     "data": {
      "text/plain": [
       "WilcoxonResult(statistic=0.0, pvalue=nan)"
      ]
     },
     "execution_count": 47,
     "metadata": {},
     "output_type": "execute_result"
    }
   ],
   "source": [
    "stats.wilcoxon(\n",
    "    benchmarks['GABA']['R2_V'].loc[benchmarks['GABA']['R2_V']['minified'] == False, 'GABA_GIFs'],\n",
    "    benchmarks['GABA']['R2_V'].loc[benchmarks['GABA']['R2_V']['minified'] == False, 'GABA_iGIF_NPs'],\n",
    "    correction=True\n",
    ")"
   ]
  },
  {
   "cell_type": "code",
   "execution_count": 48,
   "metadata": {},
   "outputs": [
    {
     "data": {
      "image/png": "[encoded data removed]",
      "text/plain": [
       "<Figure size 120x120 with 1 Axes>"
      ]
     },
     "metadata": {
      "needs_background": "light"
     },
     "output_type": "display_data"
    }
   ],
   "source": [
    "plt.figure(figsize=(1, 1))\n",
    "\n",
    "plt.subplot(111)\n",
    "sns.boxplot(\n",
    "    x='model', \n",
    "    y='R2_V', \n",
    "    data=piv.loc[piv['minified'] == False, :], \n",
    "    order=['GABA_GIFs', 'GABA_AugmentedGIFs', 'GABA_iGIF_NPs', 'GABA_iGIF_VRs']\n",
    ")\n",
    "plt.ylim(0, 1)\n",
    "plt.xticks([0, 1, 2, 3], ['GIFs', 'AugmentedGIFs', 'iGIF N.P.', 'iGIF V.R.'], rotation=45, ha='right')\n",
    "plt.yticks([0, 0.5, 1])\n",
    "plt.xlabel('')\n",
    "plt.ylabel('$R^2$ on $V$')\n",
    "pltools.hide_border('tr', trim=True)\n",
    "\n",
    "plt.subplots_adjust(left=0.35, bottom=0.25, top=0.95, right=0.97)\n",
    "\n",
    "if IMG_PATH is not None:\n",
    "    plt.savefig(os.path.join(IMG_PATH, 'GABA_r2_benchmark.png'))\n",
    "    plt.savefig(os.path.join(IMG_PATH, 'GABA_r2_benchmark.svg'))"
   ]
  }
 ],
 "metadata": {
  "kernelspec": {
   "display_name": "Python 2",
   "language": "python",
   "name": "python2"
  },
  "language_info": {
   "codemirror_mode": {
    "name": "ipython",
    "version": 2
   },
   "file_extension": ".py",
   "mimetype": "text/x-python",
   "name": "python",
   "nbconvert_exporter": "python",
   "pygments_lexer": "ipython2",
   "version": "2.7.15"
  }
 },
 "nbformat": 4,
 "nbformat_minor": 2
}

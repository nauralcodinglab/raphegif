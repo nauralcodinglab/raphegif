{
 "cells": [
  {
   "cell_type": "code",
   "execution_count": 1,
   "metadata": {},
   "outputs": [
    {
     "name": "stdout",
     "output_type": "stream",
     "text": [
      "/Users/eharkin/Documents/projects/5HTGIF\n"
     ]
    }
   ],
   "source": [
    "import os\n",
    "os.chdir(os.path.join('..', '..', '..'))\n",
    "print(os.getcwd())"
   ]
  },
  {
   "cell_type": "code",
   "execution_count": 2,
   "metadata": {},
   "outputs": [],
   "source": [
    "import pandas as pd\n",
    "import seaborn as sns\n",
    "import matplotlib.pyplot as plt\n",
    "from scipy import stats\n",
    "from ezephys import pltools\n",
    "\n",
    "from grr.Tools import stripNan"
   ]
  },
  {
   "cell_type": "code",
   "execution_count": 3,
   "metadata": {},
   "outputs": [],
   "source": [
    "IMG_PATH = os.path.join('figs', 'ims', 'writeup', 'fig1')\n",
    "NOTEBOOK_PATH = os.path.join('figs', 'scripts', 'writeup')\n",
    "\n",
    "plt.style.use(os.path.join(NOTEBOOK_PATH, 'publication_figure_style.dms'))"
   ]
  },
  {
   "cell_type": "code",
   "execution_count": 4,
   "metadata": {},
   "outputs": [
    {
     "data": {
      "text/html": [
       "<div>\n",
       "<style scoped>\n",
       "    .dataframe tbody tr th:only-of-type {\n",
       "        vertical-align: middle;\n",
       "    }\n",
       "\n",
       "    .dataframe tbody tr th {\n",
       "        vertical-align: top;\n",
       "    }\n",
       "\n",
       "    .dataframe thead th {\n",
       "        text-align: right;\n",
       "    }\n",
       "</style>\n",
       "<table border=\"1\" class=\"dataframe\">\n",
       "  <thead>\n",
       "    <tr style=\"text-align: right;\">\n",
       "      <th></th>\n",
       "      <th>inactivation_taus</th>\n",
       "      <th>peak_conductance</th>\n",
       "      <th>peak_exists</th>\n",
       "      <th>peak_latencies</th>\n",
       "      <th>steady_state_amplitudes</th>\n",
       "      <th>steady_state_conductance</th>\n",
       "      <th>cell_type</th>\n",
       "    </tr>\n",
       "  </thead>\n",
       "  <tbody>\n",
       "    <tr>\n",
       "      <th>0</th>\n",
       "      <td>39.280178</td>\n",
       "      <td>12.320388</td>\n",
       "      <td>True</td>\n",
       "      <td>7.7</td>\n",
       "      <td>97.607349</td>\n",
       "      <td>1.952147</td>\n",
       "      <td>5HT</td>\n",
       "    </tr>\n",
       "    <tr>\n",
       "      <th>1</th>\n",
       "      <td>28.866688</td>\n",
       "      <td>18.423373</td>\n",
       "      <td>True</td>\n",
       "      <td>6.3</td>\n",
       "      <td>107.386440</td>\n",
       "      <td>2.147729</td>\n",
       "      <td>5HT</td>\n",
       "    </tr>\n",
       "    <tr>\n",
       "      <th>2</th>\n",
       "      <td>32.445161</td>\n",
       "      <td>18.709428</td>\n",
       "      <td>True</td>\n",
       "      <td>5.8</td>\n",
       "      <td>170.499481</td>\n",
       "      <td>3.409990</td>\n",
       "      <td>5HT</td>\n",
       "    </tr>\n",
       "    <tr>\n",
       "      <th>3</th>\n",
       "      <td>40.782865</td>\n",
       "      <td>17.101626</td>\n",
       "      <td>True</td>\n",
       "      <td>8.3</td>\n",
       "      <td>220.519097</td>\n",
       "      <td>4.410382</td>\n",
       "      <td>5HT</td>\n",
       "    </tr>\n",
       "    <tr>\n",
       "      <th>4</th>\n",
       "      <td>57.185123</td>\n",
       "      <td>25.747945</td>\n",
       "      <td>True</td>\n",
       "      <td>7.9</td>\n",
       "      <td>155.052318</td>\n",
       "      <td>3.101046</td>\n",
       "      <td>5HT</td>\n",
       "    </tr>\n",
       "    <tr>\n",
       "      <th>5</th>\n",
       "      <td>44.690907</td>\n",
       "      <td>19.047869</td>\n",
       "      <td>True</td>\n",
       "      <td>7.5</td>\n",
       "      <td>62.802801</td>\n",
       "      <td>1.256056</td>\n",
       "      <td>5HT</td>\n",
       "    </tr>\n",
       "    <tr>\n",
       "      <th>6</th>\n",
       "      <td>27.602526</td>\n",
       "      <td>14.981558</td>\n",
       "      <td>True</td>\n",
       "      <td>7.8</td>\n",
       "      <td>151.887616</td>\n",
       "      <td>3.037752</td>\n",
       "      <td>5HT</td>\n",
       "    </tr>\n",
       "    <tr>\n",
       "      <th>7</th>\n",
       "      <td>37.392290</td>\n",
       "      <td>21.523440</td>\n",
       "      <td>True</td>\n",
       "      <td>8.0</td>\n",
       "      <td>160.327488</td>\n",
       "      <td>3.206550</td>\n",
       "      <td>5HT</td>\n",
       "    </tr>\n",
       "    <tr>\n",
       "      <th>8</th>\n",
       "      <td>49.518003</td>\n",
       "      <td>11.536979</td>\n",
       "      <td>True</td>\n",
       "      <td>7.7</td>\n",
       "      <td>89.449190</td>\n",
       "      <td>1.788984</td>\n",
       "      <td>5HT</td>\n",
       "    </tr>\n",
       "    <tr>\n",
       "      <th>9</th>\n",
       "      <td>49.753422</td>\n",
       "      <td>21.112850</td>\n",
       "      <td>True</td>\n",
       "      <td>7.8</td>\n",
       "      <td>167.120445</td>\n",
       "      <td>3.342409</td>\n",
       "      <td>5HT</td>\n",
       "    </tr>\n",
       "    <tr>\n",
       "      <th>10</th>\n",
       "      <td>46.934444</td>\n",
       "      <td>25.830568</td>\n",
       "      <td>True</td>\n",
       "      <td>8.0</td>\n",
       "      <td>190.159522</td>\n",
       "      <td>3.803190</td>\n",
       "      <td>5HT</td>\n",
       "    </tr>\n",
       "    <tr>\n",
       "      <th>11</th>\n",
       "      <td>49.629096</td>\n",
       "      <td>11.567524</td>\n",
       "      <td>True</td>\n",
       "      <td>6.6</td>\n",
       "      <td>166.533216</td>\n",
       "      <td>3.330664</td>\n",
       "      <td>5HT</td>\n",
       "    </tr>\n",
       "    <tr>\n",
       "      <th>12</th>\n",
       "      <td>53.203598</td>\n",
       "      <td>23.562261</td>\n",
       "      <td>True</td>\n",
       "      <td>7.6</td>\n",
       "      <td>103.943496</td>\n",
       "      <td>2.078870</td>\n",
       "      <td>5HT</td>\n",
       "    </tr>\n",
       "    <tr>\n",
       "      <th>13</th>\n",
       "      <td>NaN</td>\n",
       "      <td>NaN</td>\n",
       "      <td>False</td>\n",
       "      <td>NaN</td>\n",
       "      <td>151.655669</td>\n",
       "      <td>3.033113</td>\n",
       "      <td>GABA</td>\n",
       "    </tr>\n",
       "    <tr>\n",
       "      <th>14</th>\n",
       "      <td>464.036324</td>\n",
       "      <td>9.133500</td>\n",
       "      <td>True</td>\n",
       "      <td>40.1</td>\n",
       "      <td>92.942349</td>\n",
       "      <td>1.858847</td>\n",
       "      <td>GABA</td>\n",
       "    </tr>\n",
       "    <tr>\n",
       "      <th>15</th>\n",
       "      <td>210.027287</td>\n",
       "      <td>7.689953</td>\n",
       "      <td>True</td>\n",
       "      <td>27.7</td>\n",
       "      <td>53.716685</td>\n",
       "      <td>1.074334</td>\n",
       "      <td>GABA</td>\n",
       "    </tr>\n",
       "    <tr>\n",
       "      <th>16</th>\n",
       "      <td>NaN</td>\n",
       "      <td>NaN</td>\n",
       "      <td>False</td>\n",
       "      <td>NaN</td>\n",
       "      <td>79.775869</td>\n",
       "      <td>1.595517</td>\n",
       "      <td>GABA</td>\n",
       "    </tr>\n",
       "    <tr>\n",
       "      <th>17</th>\n",
       "      <td>NaN</td>\n",
       "      <td>NaN</td>\n",
       "      <td>False</td>\n",
       "      <td>NaN</td>\n",
       "      <td>228.903793</td>\n",
       "      <td>4.578076</td>\n",
       "      <td>GABA</td>\n",
       "    </tr>\n",
       "    <tr>\n",
       "      <th>18</th>\n",
       "      <td>28.294171</td>\n",
       "      <td>7.231721</td>\n",
       "      <td>True</td>\n",
       "      <td>10.8</td>\n",
       "      <td>231.581185</td>\n",
       "      <td>4.631624</td>\n",
       "      <td>GABA</td>\n",
       "    </tr>\n",
       "    <tr>\n",
       "      <th>19</th>\n",
       "      <td>27.541058</td>\n",
       "      <td>8.153308</td>\n",
       "      <td>True</td>\n",
       "      <td>6.7</td>\n",
       "      <td>286.250889</td>\n",
       "      <td>5.725018</td>\n",
       "      <td>GABA</td>\n",
       "    </tr>\n",
       "    <tr>\n",
       "      <th>20</th>\n",
       "      <td>605.888044</td>\n",
       "      <td>14.342512</td>\n",
       "      <td>True</td>\n",
       "      <td>55.8</td>\n",
       "      <td>236.838729</td>\n",
       "      <td>4.736775</td>\n",
       "      <td>GABA</td>\n",
       "    </tr>\n",
       "    <tr>\n",
       "      <th>21</th>\n",
       "      <td>361.753412</td>\n",
       "      <td>18.129512</td>\n",
       "      <td>True</td>\n",
       "      <td>35.9</td>\n",
       "      <td>231.494019</td>\n",
       "      <td>4.629880</td>\n",
       "      <td>GABA</td>\n",
       "    </tr>\n",
       "    <tr>\n",
       "      <th>22</th>\n",
       "      <td>53.673408</td>\n",
       "      <td>11.878504</td>\n",
       "      <td>True</td>\n",
       "      <td>10.5</td>\n",
       "      <td>115.581109</td>\n",
       "      <td>2.311622</td>\n",
       "      <td>GABA</td>\n",
       "    </tr>\n",
       "    <tr>\n",
       "      <th>23</th>\n",
       "      <td>127.778882</td>\n",
       "      <td>9.263334</td>\n",
       "      <td>True</td>\n",
       "      <td>30.1</td>\n",
       "      <td>103.821622</td>\n",
       "      <td>2.076432</td>\n",
       "      <td>GABA</td>\n",
       "    </tr>\n",
       "  </tbody>\n",
       "</table>\n",
       "</div>"
      ],
      "text/plain": [
       "    inactivation_taus  peak_conductance  peak_exists  peak_latencies  \\\n",
       "0           39.280178         12.320388         True             7.7   \n",
       "1           28.866688         18.423373         True             6.3   \n",
       "2           32.445161         18.709428         True             5.8   \n",
       "3           40.782865         17.101626         True             8.3   \n",
       "4           57.185123         25.747945         True             7.9   \n",
       "5           44.690907         19.047869         True             7.5   \n",
       "6           27.602526         14.981558         True             7.8   \n",
       "7           37.392290         21.523440         True             8.0   \n",
       "8           49.518003         11.536979         True             7.7   \n",
       "9           49.753422         21.112850         True             7.8   \n",
       "10          46.934444         25.830568         True             8.0   \n",
       "11          49.629096         11.567524         True             6.6   \n",
       "12          53.203598         23.562261         True             7.6   \n",
       "13                NaN               NaN        False             NaN   \n",
       "14         464.036324          9.133500         True            40.1   \n",
       "15         210.027287          7.689953         True            27.7   \n",
       "16                NaN               NaN        False             NaN   \n",
       "17                NaN               NaN        False             NaN   \n",
       "18          28.294171          7.231721         True            10.8   \n",
       "19          27.541058          8.153308         True             6.7   \n",
       "20         605.888044         14.342512         True            55.8   \n",
       "21         361.753412         18.129512         True            35.9   \n",
       "22          53.673408         11.878504         True            10.5   \n",
       "23         127.778882          9.263334         True            30.1   \n",
       "\n",
       "    steady_state_amplitudes  steady_state_conductance cell_type  \n",
       "0                 97.607349                  1.952147       5HT  \n",
       "1                107.386440                  2.147729       5HT  \n",
       "2                170.499481                  3.409990       5HT  \n",
       "3                220.519097                  4.410382       5HT  \n",
       "4                155.052318                  3.101046       5HT  \n",
       "5                 62.802801                  1.256056       5HT  \n",
       "6                151.887616                  3.037752       5HT  \n",
       "7                160.327488                  3.206550       5HT  \n",
       "8                 89.449190                  1.788984       5HT  \n",
       "9                167.120445                  3.342409       5HT  \n",
       "10               190.159522                  3.803190       5HT  \n",
       "11               166.533216                  3.330664       5HT  \n",
       "12               103.943496                  2.078870       5HT  \n",
       "13               151.655669                  3.033113      GABA  \n",
       "14                92.942349                  1.858847      GABA  \n",
       "15                53.716685                  1.074334      GABA  \n",
       "16                79.775869                  1.595517      GABA  \n",
       "17               228.903793                  4.578076      GABA  \n",
       "18               231.581185                  4.631624      GABA  \n",
       "19               286.250889                  5.725018      GABA  \n",
       "20               236.838729                  4.736775      GABA  \n",
       "21               231.494019                  4.629880      GABA  \n",
       "22               115.581109                  2.311622      GABA  \n",
       "23               103.821622                  2.076432      GABA  "
      ]
     },
     "execution_count": 4,
     "metadata": {},
     "output_type": "execute_result"
    }
   ],
   "source": [
    "data = {\n",
    "    celltype: pd.read_csv(os.path.join('data', 'processed', celltype, 'transient_current_parameters.csv'))\n",
    "    for celltype in ['5HT', 'GABA']\n",
    "}\n",
    "for celltype in data:\n",
    "    data[celltype]['cell_type'] = celltype\n",
    "param_df = pd.concat([data[celltype] for celltype in data], axis=0)\n",
    "param_df.reset_index(drop=True, inplace=True)\n",
    "\n",
    "param_df"
   ]
  },
  {
   "cell_type": "code",
   "execution_count": 5,
   "metadata": {},
   "outputs": [
    {
     "data": {
      "text/html": [
       "<div>\n",
       "<style scoped>\n",
       "    .dataframe tbody tr th:only-of-type {\n",
       "        vertical-align: middle;\n",
       "    }\n",
       "\n",
       "    .dataframe tbody tr th {\n",
       "        vertical-align: top;\n",
       "    }\n",
       "\n",
       "    .dataframe thead th {\n",
       "        text-align: right;\n",
       "    }\n",
       "</style>\n",
       "<table border=\"1\" class=\"dataframe\">\n",
       "  <thead>\n",
       "    <tr style=\"text-align: right;\">\n",
       "      <th></th>\n",
       "      <th>inactivation_taus</th>\n",
       "      <th>peak_conductance</th>\n",
       "      <th>peak_exists</th>\n",
       "      <th>peak_latencies</th>\n",
       "      <th>steady_state_amplitudes</th>\n",
       "      <th>steady_state_conductance</th>\n",
       "    </tr>\n",
       "    <tr>\n",
       "      <th>cell_type</th>\n",
       "      <th></th>\n",
       "      <th></th>\n",
       "      <th></th>\n",
       "      <th></th>\n",
       "      <th></th>\n",
       "      <th></th>\n",
       "    </tr>\n",
       "  </thead>\n",
       "  <tbody>\n",
       "    <tr>\n",
       "      <th>5HT</th>\n",
       "      <td>42.868023</td>\n",
       "      <td>18.574293</td>\n",
       "      <td>1.000000</td>\n",
       "      <td>7.461538</td>\n",
       "      <td>141.791420</td>\n",
       "      <td>2.835828</td>\n",
       "    </tr>\n",
       "    <tr>\n",
       "      <th>GABA</th>\n",
       "      <td>234.874073</td>\n",
       "      <td>10.727793</td>\n",
       "      <td>0.727273</td>\n",
       "      <td>27.200000</td>\n",
       "      <td>164.778356</td>\n",
       "      <td>3.295567</td>\n",
       "    </tr>\n",
       "  </tbody>\n",
       "</table>\n",
       "</div>"
      ],
      "text/plain": [
       "           inactivation_taus  peak_conductance  peak_exists  peak_latencies  \\\n",
       "cell_type                                                                     \n",
       "5HT                42.868023         18.574293     1.000000        7.461538   \n",
       "GABA              234.874073         10.727793     0.727273       27.200000   \n",
       "\n",
       "           steady_state_amplitudes  steady_state_conductance  \n",
       "cell_type                                                     \n",
       "5HT                     141.791420                  2.835828  \n",
       "GABA                    164.778356                  3.295567  "
      ]
     },
     "execution_count": 5,
     "metadata": {},
     "output_type": "execute_result"
    }
   ],
   "source": [
    "param_df.groupby('cell_type').mean()"
   ]
  },
  {
   "cell_type": "code",
   "execution_count": 6,
   "metadata": {},
   "outputs": [
    {
     "data": {
      "text/html": [
       "<div>\n",
       "<style scoped>\n",
       "    .dataframe tbody tr th:only-of-type {\n",
       "        vertical-align: middle;\n",
       "    }\n",
       "\n",
       "    .dataframe tbody tr th {\n",
       "        vertical-align: top;\n",
       "    }\n",
       "\n",
       "    .dataframe thead th {\n",
       "        text-align: right;\n",
       "    }\n",
       "</style>\n",
       "<table border=\"1\" class=\"dataframe\">\n",
       "  <thead>\n",
       "    <tr style=\"text-align: right;\">\n",
       "      <th></th>\n",
       "      <th>inactivation_taus</th>\n",
       "      <th>peak_conductance</th>\n",
       "      <th>peak_exists</th>\n",
       "      <th>peak_latencies</th>\n",
       "      <th>steady_state_amplitudes</th>\n",
       "      <th>steady_state_conductance</th>\n",
       "    </tr>\n",
       "    <tr>\n",
       "      <th>cell_type</th>\n",
       "      <th></th>\n",
       "      <th></th>\n",
       "      <th></th>\n",
       "      <th></th>\n",
       "      <th></th>\n",
       "      <th></th>\n",
       "    </tr>\n",
       "  </thead>\n",
       "  <tbody>\n",
       "    <tr>\n",
       "      <th>5HT</th>\n",
       "      <td>2.599209</td>\n",
       "      <td>1.380283</td>\n",
       "      <td>0.000000</td>\n",
       "      <td>0.207098</td>\n",
       "      <td>12.604453</td>\n",
       "      <td>0.252089</td>\n",
       "    </tr>\n",
       "    <tr>\n",
       "      <th>GABA</th>\n",
       "      <td>77.557321</td>\n",
       "      <td>1.349214</td>\n",
       "      <td>0.140836</td>\n",
       "      <td>6.030903</td>\n",
       "      <td>24.121429</td>\n",
       "      <td>0.482429</td>\n",
       "    </tr>\n",
       "  </tbody>\n",
       "</table>\n",
       "</div>"
      ],
      "text/plain": [
       "           inactivation_taus  peak_conductance  peak_exists  peak_latencies  \\\n",
       "cell_type                                                                     \n",
       "5HT                 2.599209          1.380283     0.000000        0.207098   \n",
       "GABA               77.557321          1.349214     0.140836        6.030903   \n",
       "\n",
       "           steady_state_amplitudes  steady_state_conductance  \n",
       "cell_type                                                     \n",
       "5HT                      12.604453                  0.252089  \n",
       "GABA                     24.121429                  0.482429  "
      ]
     },
     "execution_count": 6,
     "metadata": {},
     "output_type": "execute_result"
    }
   ],
   "source": [
    "param_df.groupby('cell_type').sem()"
   ]
  },
  {
   "cell_type": "code",
   "execution_count": 7,
   "metadata": {},
   "outputs": [],
   "source": [
    "figsize=(0.7, 1)"
   ]
  },
  {
   "cell_type": "code",
   "execution_count": 8,
   "metadata": {},
   "outputs": [
    {
     "data": {
      "image/png": "[encoded data removed]",
      "text/plain": [
       "<Figure size 84x120 with 1 Axes>"
      ]
     },
     "metadata": {
      "needs_background": "light"
     },
     "output_type": "display_data"
    }
   ],
   "source": [
    "plt.figure(figsize=figsize)\n",
    "\n",
    "plt.subplot(111)\n",
    "plt.subplots_adjust(left=0.4, right=0.95, top=0.97, bottom=0.25)\n",
    "plt.ylim(0, 28)\n",
    "sns.boxplot('cell_type', 'peak_conductance', data=param_df)\n",
    "plt.xlabel('')\n",
    "plt.ylabel(r'$g_\\mathrm{max}$ (nS)')\n",
    "plt.xticks(rotation=45, ha='right')\n",
    "pltools.hide_border('tr', trim=True)\n",
    "\n",
    "if IMG_PATH is not None:\n",
    "    plt.savefig(os.path.join(IMG_PATH, 'peak_conductance_comparison.png'))\n",
    "    plt.savefig(os.path.join(IMG_PATH, 'peak_conductance_comparison.svg'))"
   ]
  },
  {
   "cell_type": "code",
   "execution_count": 9,
   "metadata": {},
   "outputs": [
    {
     "data": {
      "text/plain": [
       "MannwhitneyuResult(statistic=94.0, pvalue=0.00265180936101545)"
      ]
     },
     "execution_count": 9,
     "metadata": {},
     "output_type": "execute_result"
    }
   ],
   "source": [
    "stats.mannwhitneyu(\n",
    "    stripNan(param_df.loc[param_df['cell_type'] == '5HT', 'peak_conductance']),\n",
    "    stripNan(param_df.loc[param_df['cell_type'] == 'GABA', 'peak_conductance']),\n",
    "    alternative='two-sided'\n",
    ")"
   ]
  },
  {
   "cell_type": "code",
   "execution_count": 10,
   "metadata": {},
   "outputs": [
    {
     "data": {
      "image/png": "[encoded data removed]",
      "text/plain": [
       "<Figure size 84x120 with 1 Axes>"
      ]
     },
     "metadata": {
      "needs_background": "light"
     },
     "output_type": "display_data"
    }
   ],
   "source": [
    "plt.figure(figsize=figsize)\n",
    "\n",
    "plt.subplot(111)\n",
    "plt.subplots_adjust(left=0.4, right=0.95, top=0.97, bottom=0.25)\n",
    "plt.ylim(0, 59)\n",
    "sns.boxplot('cell_type', 'peak_latencies', data=param_df, fliersize=2)\n",
    "plt.xlabel('')\n",
    "plt.ylabel('Time to peak (ms)')\n",
    "plt.xticks(rotation=45, ha='right')\n",
    "pltools.hide_border('tr', trim=True)\n",
    "\n",
    "if IMG_PATH is not None:\n",
    "    plt.savefig(os.path.join(IMG_PATH, 'peak_latency_comparison.png'))\n",
    "    plt.savefig(os.path.join(IMG_PATH, 'peak_latency_comparison.svg'))"
   ]
  },
  {
   "cell_type": "code",
   "execution_count": 11,
   "metadata": {},
   "outputs": [
    {
     "data": {
      "text/plain": [
       "MannwhitneyuResult(statistic=10.0, pvalue=0.002626358604564202)"
      ]
     },
     "execution_count": 11,
     "metadata": {},
     "output_type": "execute_result"
    }
   ],
   "source": [
    "stats.mannwhitneyu(\n",
    "    stripNan(param_df.loc[param_df['cell_type'] == '5HT', 'peak_latencies']),\n",
    "    stripNan(param_df.loc[param_df['cell_type'] == 'GABA', 'peak_latencies']),\n",
    "    alternative='two-sided'\n",
    ")"
   ]
  },
  {
   "cell_type": "code",
   "execution_count": 12,
   "metadata": {},
   "outputs": [
    {
     "data": {
      "image/png": "[encoded data removed]",
      "text/plain": [
       "<Figure size 84x120 with 1 Axes>"
      ]
     },
     "metadata": {
      "needs_background": "light"
     },
     "output_type": "display_data"
    }
   ],
   "source": [
    "plt.figure(figsize=figsize)\n",
    "\n",
    "plt.subplot(111)\n",
    "plt.subplots_adjust(left=0.5, right=0.95, top=0.95, bottom=0.25)\n",
    "plt.ylim(0, 620)\n",
    "sns.boxplot('cell_type', 'inactivation_taus', data=param_df)\n",
    "plt.xlabel('')\n",
    "plt.ylabel(r'Inactivation $\\tau$ (ms)')\n",
    "plt.xticks(rotation=45, ha='right')\n",
    "pltools.hide_border('tr', trim=True)\n",
    "\n",
    "if IMG_PATH is not None:\n",
    "    plt.savefig(os.path.join(IMG_PATH, 'inactivation_comparison.png'))\n",
    "    plt.savefig(os.path.join(IMG_PATH, 'inactivation_comparison.svg'))"
   ]
  },
  {
   "cell_type": "code",
   "execution_count": 13,
   "metadata": {},
   "outputs": [
    {
     "data": {
      "text/plain": [
       "MannwhitneyuResult(statistic=26.0, pvalue=0.06478665817862032)"
      ]
     },
     "execution_count": 13,
     "metadata": {},
     "output_type": "execute_result"
    }
   ],
   "source": [
    "stats.mannwhitneyu(\n",
    "    stripNan(param_df.loc[param_df['cell_type'] == '5HT', 'inactivation_taus']),\n",
    "    stripNan(param_df.loc[param_df['cell_type'] == 'GABA', 'inactivation_taus']),\n",
    "    alternative='two-sided'\n",
    ")"
   ]
  },
  {
   "cell_type": "code",
   "execution_count": 14,
   "metadata": {},
   "outputs": [
    {
     "data": {
      "image/png": "[encoded data removed]",
      "text/plain": [
       "<Figure size 120x120 with 1 Axes>"
      ]
     },
     "metadata": {
      "needs_background": "light"
     },
     "output_type": "display_data"
    }
   ],
   "source": [
    "plt.figure(figsize=(1, 1))\n",
    "\n",
    "plt.subplot(111)\n",
    "plt.subplots_adjust(left=0.5, right=0.95, top=0.95, bottom=0.25)\n",
    "sns.barplot('cell_type', 'peak_exists', data=param_df, ci=None)\n",
    "plt.xlabel('')\n",
    "plt.ylabel('Proportion\\nwith peak')\n",
    "plt.xticks(rotation=45, ha='right')\n",
    "pltools.hide_border('tr', trim=True)\n",
    "\n",
    "if IMG_PATH is not None:\n",
    "    plt.savefig(os.path.join(IMG_PATH, 'peak_proportion_comparison.png'))\n",
    "    plt.savefig(os.path.join(IMG_PATH, 'peak_proportion_comparison.svg'))"
   ]
  },
  {
   "cell_type": "code",
   "execution_count": 15,
   "metadata": {},
   "outputs": [
    {
     "data": {
      "text/plain": [
       "(1.942057942057942, 0.16344526009542953, 1, array([[11.375,  1.625],\n",
       "        [ 9.625,  1.375]]))"
      ]
     },
     "execution_count": 15,
     "metadata": {},
     "output_type": "execute_result"
    }
   ],
   "source": [
    "contingency = [\n",
    "    [sum(param_df.loc[param_df['cell_type'] == '5HT', 'peak_exists']),\n",
    "    sum(~param_df.loc[param_df['cell_type'] == '5HT', 'peak_exists'])],\n",
    "    [sum(param_df.loc[param_df['cell_type'] == 'GABA', 'peak_exists']),\n",
    "    sum(~param_df.loc[param_df['cell_type'] == 'GABA', 'peak_exists'])],\n",
    "]\n",
    "stats.chi2_contingency(contingency)"
   ]
  },
  {
   "cell_type": "code",
   "execution_count": 16,
   "metadata": {},
   "outputs": [
    {
     "data": {
      "image/png": "[encoded data removed]",
      "text/plain": [
       "<Figure size 84x120 with 1 Axes>"
      ]
     },
     "metadata": {
      "needs_background": "light"
     },
     "output_type": "display_data"
    }
   ],
   "source": [
    "plt.figure(figsize=figsize)\n",
    "\n",
    "plt.subplot(111)\n",
    "plt.subplots_adjust(left=0.4, right=0.95, top=0.97, bottom=0.25)\n",
    "plt.ylim(0, 6.5)\n",
    "sns.boxplot('cell_type', 'steady_state_conductance', data=param_df)\n",
    "plt.xlabel('')\n",
    "plt.ylabel(r'$g_\\mathrm{ss}$ (nS)')\n",
    "plt.xticks(rotation=45, ha='right')\n",
    "pltools.hide_border('tr', trim=True)\n",
    "\n",
    "if IMG_PATH is not None:\n",
    "    plt.savefig(os.path.join(IMG_PATH, 'steady_state_comparison.png'))\n",
    "    plt.savefig(os.path.join(IMG_PATH, 'steady_state_comparison.svg'))"
   ]
  },
  {
   "cell_type": "code",
   "execution_count": 17,
   "metadata": {},
   "outputs": [
    {
     "data": {
      "text/plain": [
       "MannwhitneyuResult(statistic=62.0, pvalue=0.602068013998415)"
      ]
     },
     "execution_count": 17,
     "metadata": {},
     "output_type": "execute_result"
    }
   ],
   "source": [
    "stats.mannwhitneyu(\n",
    "    stripNan(param_df.loc[param_df['cell_type'] == '5HT', 'steady_state_conductance']),\n",
    "    stripNan(param_df.loc[param_df['cell_type'] == 'GABA', 'steady_state_conductance']),\n",
    "    alternative='two-sided'\n",
    ")"
   ]
  }
 ],
 "metadata": {
  "kernelspec": {
   "display_name": "Python 2",
   "language": "python",
   "name": "python2"
  },
  "language_info": {
   "codemirror_mode": {
    "name": "ipython",
    "version": 2
   },
   "file_extension": ".py",
   "mimetype": "text/x-python",
   "name": "python",
   "nbconvert_exporter": "python",
   "pygments_lexer": "ipython2",
   "version": "2.7.15"
  }
 },
 "nbformat": 4,
 "nbformat_minor": 2
}

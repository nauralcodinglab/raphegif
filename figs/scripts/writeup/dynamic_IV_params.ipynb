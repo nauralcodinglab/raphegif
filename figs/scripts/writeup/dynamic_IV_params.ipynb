{
 "cells": [
  {
   "cell_type": "code",
   "execution_count": 1,
   "metadata": {},
   "outputs": [
    {
     "name": "stdout",
     "output_type": "stream",
     "text": [
      "/Users/eharkin/Documents/projects/5HTGIF\n"
     ]
    }
   ],
   "source": [
    "import os\n",
    "os.chdir(os.path.join('..', '..', '..'))\n",
    "print(os.getcwd())"
   ]
  },
  {
   "cell_type": "code",
   "execution_count": 2,
   "metadata": {},
   "outputs": [],
   "source": [
    "import matplotlib.pyplot as plt\n",
    "import seaborn as sns\n",
    "import pandas as pd\n",
    "from scipy import stats\n",
    "from ezephys.pltools import hide_border"
   ]
  },
  {
   "cell_type": "code",
   "execution_count": 3,
   "metadata": {},
   "outputs": [],
   "source": [
    "IMG_PATH = os.path.join('figs', 'ims', 'writeup', 'dynamicIV')\n",
    "NOTEBOOK_PATH = os.path.join('figs', 'scripts', 'writeup')\n",
    "\n",
    "plt.style.use(os.path.join(NOTEBOOK_PATH, 'publication_figure_style.dms'))"
   ]
  },
  {
   "cell_type": "markdown",
   "metadata": {},
   "source": [
    "# Load parameter estimates from Alexandre's DynamicIV fits"
   ]
  },
  {
   "cell_type": "code",
   "execution_count": 4,
   "metadata": {},
   "outputs": [],
   "source": [
    "DATA_PATH = os.path.join('data', 'processed')\n",
    "dynamic_iv_params = pd.read_csv(os.path.join(DATA_PATH, '5HT', 'dynamicIV_params_5HT.csv'))\n",
    "dynamic_iv_params['CellType'] = '5HT'\n",
    "tmp_params = pd.read_csv(os.path.join(DATA_PATH, 'GABA', 'dynamicIV_params_GABA.csv'))\n",
    "tmp_params['CellType'] = 'GABA'\n",
    "dynamic_iv_params = pd.concat([dynamic_iv_params, tmp_params], axis=0)\n",
    "dynamic_iv_params.reset_index(drop=True, inplace=True)\n",
    "del tmp_params"
   ]
  },
  {
   "cell_type": "code",
   "execution_count": 5,
   "metadata": {},
   "outputs": [
    {
     "data": {
      "text/html": [
       "<div>\n",
       "<style scoped>\n",
       "    .dataframe tbody tr th:only-of-type {\n",
       "        vertical-align: middle;\n",
       "    }\n",
       "\n",
       "    .dataframe tbody tr th {\n",
       "        vertical-align: top;\n",
       "    }\n",
       "\n",
       "    .dataframe thead th {\n",
       "        text-align: right;\n",
       "    }\n",
       "</style>\n",
       "<table border=\"1\" class=\"dataframe\">\n",
       "  <thead>\n",
       "    <tr style=\"text-align: right;\">\n",
       "      <th></th>\n",
       "      <th>Cell</th>\n",
       "      <th>C</th>\n",
       "      <th>El</th>\n",
       "      <th>gl</th>\n",
       "      <th>Vt_star</th>\n",
       "      <th>DeltaT</th>\n",
       "      <th>FitSuccessful</th>\n",
       "      <th>CellType</th>\n",
       "    </tr>\n",
       "  </thead>\n",
       "  <tbody>\n",
       "    <tr>\n",
       "      <th>0</th>\n",
       "      <td>DRN307</td>\n",
       "      <td>0.090325</td>\n",
       "      <td>-6.577346e+01</td>\n",
       "      <td>9.400180e-04</td>\n",
       "      <td>-4.351563e+01</td>\n",
       "      <td>2.741119</td>\n",
       "      <td>1</td>\n",
       "      <td>5HT</td>\n",
       "    </tr>\n",
       "    <tr>\n",
       "      <th>1</th>\n",
       "      <td>DRN308</td>\n",
       "      <td>0.106965</td>\n",
       "      <td>-8.289795e+01</td>\n",
       "      <td>1.128526e-03</td>\n",
       "      <td>-4.394335e+01</td>\n",
       "      <td>2.324268</td>\n",
       "      <td>1</td>\n",
       "      <td>5HT</td>\n",
       "    </tr>\n",
       "    <tr>\n",
       "      <th>2</th>\n",
       "      <td>DRN317</td>\n",
       "      <td>0.112054</td>\n",
       "      <td>-6.544831e+01</td>\n",
       "      <td>2.076320e-03</td>\n",
       "      <td>-4.404316e+01</td>\n",
       "      <td>1.757330</td>\n",
       "      <td>1</td>\n",
       "      <td>5HT</td>\n",
       "    </tr>\n",
       "    <tr>\n",
       "      <th>3</th>\n",
       "      <td>DRN318</td>\n",
       "      <td>0.090269</td>\n",
       "      <td>-6.418180e+01</td>\n",
       "      <td>1.515088e-03</td>\n",
       "      <td>-4.118352e+01</td>\n",
       "      <td>1.742107</td>\n",
       "      <td>1</td>\n",
       "      <td>5HT</td>\n",
       "    </tr>\n",
       "    <tr>\n",
       "      <th>4</th>\n",
       "      <td>DRN319</td>\n",
       "      <td>0.112589</td>\n",
       "      <td>-4.525981e+01</td>\n",
       "      <td>1.215336e-03</td>\n",
       "      <td>-4.602100e+01</td>\n",
       "      <td>2.232644</td>\n",
       "      <td>1</td>\n",
       "      <td>5HT</td>\n",
       "    </tr>\n",
       "    <tr>\n",
       "      <th>5</th>\n",
       "      <td>DRN320</td>\n",
       "      <td>0.095270</td>\n",
       "      <td>-8.164882e+01</td>\n",
       "      <td>1.098988e-03</td>\n",
       "      <td>-2.451900e+02</td>\n",
       "      <td>-5.374126</td>\n",
       "      <td>0</td>\n",
       "      <td>5HT</td>\n",
       "    </tr>\n",
       "    <tr>\n",
       "      <th>6</th>\n",
       "      <td>DRN321</td>\n",
       "      <td>0.066209</td>\n",
       "      <td>-6.002340e+01</td>\n",
       "      <td>8.030860e-04</td>\n",
       "      <td>-4.422056e+01</td>\n",
       "      <td>1.856605</td>\n",
       "      <td>1</td>\n",
       "      <td>5HT</td>\n",
       "    </tr>\n",
       "    <tr>\n",
       "      <th>7</th>\n",
       "      <td>DRN324</td>\n",
       "      <td>0.051241</td>\n",
       "      <td>-6.152399e+01</td>\n",
       "      <td>1.125950e-03</td>\n",
       "      <td>-4.177009e+01</td>\n",
       "      <td>1.959069</td>\n",
       "      <td>1</td>\n",
       "      <td>5HT</td>\n",
       "    </tr>\n",
       "    <tr>\n",
       "      <th>8</th>\n",
       "      <td>DRN325</td>\n",
       "      <td>0.050948</td>\n",
       "      <td>-6.310973e+01</td>\n",
       "      <td>1.107788e-03</td>\n",
       "      <td>-4.023437e+01</td>\n",
       "      <td>1.287305</td>\n",
       "      <td>1</td>\n",
       "      <td>5HT</td>\n",
       "    </tr>\n",
       "    <tr>\n",
       "      <th>9</th>\n",
       "      <td>DRN327</td>\n",
       "      <td>0.074549</td>\n",
       "      <td>-6.173340e+01</td>\n",
       "      <td>1.194042e-03</td>\n",
       "      <td>-4.113569e+01</td>\n",
       "      <td>1.751605</td>\n",
       "      <td>1</td>\n",
       "      <td>5HT</td>\n",
       "    </tr>\n",
       "    <tr>\n",
       "      <th>10</th>\n",
       "      <td>DRN332</td>\n",
       "      <td>0.081893</td>\n",
       "      <td>-7.714480e+12</td>\n",
       "      <td>-2.970000e-11</td>\n",
       "      <td>-4.410466e+06</td>\n",
       "      <td>256109.090800</td>\n",
       "      <td>0</td>\n",
       "      <td>5HT</td>\n",
       "    </tr>\n",
       "    <tr>\n",
       "      <th>11</th>\n",
       "      <td>DRN384</td>\n",
       "      <td>0.116013</td>\n",
       "      <td>-8.941337e+01</td>\n",
       "      <td>1.032371e-03</td>\n",
       "      <td>-5.213585e+01</td>\n",
       "      <td>4.632625</td>\n",
       "      <td>1</td>\n",
       "      <td>5HT</td>\n",
       "    </tr>\n",
       "    <tr>\n",
       "      <th>12</th>\n",
       "      <td>DRN385</td>\n",
       "      <td>0.096546</td>\n",
       "      <td>-6.960766e+01</td>\n",
       "      <td>1.260212e-03</td>\n",
       "      <td>-4.733207e+01</td>\n",
       "      <td>2.566324</td>\n",
       "      <td>1</td>\n",
       "      <td>5HT</td>\n",
       "    </tr>\n",
       "    <tr>\n",
       "      <th>13</th>\n",
       "      <td>DRN386</td>\n",
       "      <td>0.066396</td>\n",
       "      <td>-7.490055e+01</td>\n",
       "      <td>1.174919e-03</td>\n",
       "      <td>-4.272072e+01</td>\n",
       "      <td>2.590049</td>\n",
       "      <td>1</td>\n",
       "      <td>5HT</td>\n",
       "    </tr>\n",
       "    <tr>\n",
       "      <th>14</th>\n",
       "      <td>JF3</td>\n",
       "      <td>0.083676</td>\n",
       "      <td>-8.154683e+01</td>\n",
       "      <td>1.228014e-03</td>\n",
       "      <td>-4.365793e+01</td>\n",
       "      <td>1.417646</td>\n",
       "      <td>1</td>\n",
       "      <td>5HT</td>\n",
       "    </tr>\n",
       "    <tr>\n",
       "      <th>15</th>\n",
       "      <td>JF5</td>\n",
       "      <td>0.071352</td>\n",
       "      <td>-7.016258e+01</td>\n",
       "      <td>1.501956e-03</td>\n",
       "      <td>-3.845709e+01</td>\n",
       "      <td>1.287196</td>\n",
       "      <td>1</td>\n",
       "      <td>5HT</td>\n",
       "    </tr>\n",
       "    <tr>\n",
       "      <th>16</th>\n",
       "      <td>JF6</td>\n",
       "      <td>0.042841</td>\n",
       "      <td>-6.251097e+01</td>\n",
       "      <td>1.151072e-03</td>\n",
       "      <td>-3.968713e+01</td>\n",
       "      <td>2.713552</td>\n",
       "      <td>1</td>\n",
       "      <td>5HT</td>\n",
       "    </tr>\n",
       "    <tr>\n",
       "      <th>17</th>\n",
       "      <td>JF7</td>\n",
       "      <td>0.047976</td>\n",
       "      <td>-4.857723e+01</td>\n",
       "      <td>1.507961e-03</td>\n",
       "      <td>-3.685023e+01</td>\n",
       "      <td>1.303899</td>\n",
       "      <td>1</td>\n",
       "      <td>5HT</td>\n",
       "    </tr>\n",
       "    <tr>\n",
       "      <th>18</th>\n",
       "      <td>DRN351</td>\n",
       "      <td>0.048399</td>\n",
       "      <td>-3.952715e+01</td>\n",
       "      <td>5.334329e-04</td>\n",
       "      <td>-5.022896e+01</td>\n",
       "      <td>2.161193</td>\n",
       "      <td>1</td>\n",
       "      <td>GABA</td>\n",
       "    </tr>\n",
       "    <tr>\n",
       "      <th>19</th>\n",
       "      <td>DRN354</td>\n",
       "      <td>0.057419</td>\n",
       "      <td>-6.207501e+01</td>\n",
       "      <td>2.271675e-03</td>\n",
       "      <td>-6.069967e+01</td>\n",
       "      <td>4.223702</td>\n",
       "      <td>1</td>\n",
       "      <td>GABA</td>\n",
       "    </tr>\n",
       "    <tr>\n",
       "      <th>20</th>\n",
       "      <td>DRN355</td>\n",
       "      <td>0.042721</td>\n",
       "      <td>-4.234116e+01</td>\n",
       "      <td>9.754689e-04</td>\n",
       "      <td>-4.891213e+01</td>\n",
       "      <td>2.185522</td>\n",
       "      <td>1</td>\n",
       "      <td>GABA</td>\n",
       "    </tr>\n",
       "    <tr>\n",
       "      <th>21</th>\n",
       "      <td>DRN356</td>\n",
       "      <td>0.065526</td>\n",
       "      <td>-6.836047e+01</td>\n",
       "      <td>3.100759e-03</td>\n",
       "      <td>-4.637129e+01</td>\n",
       "      <td>1.663261</td>\n",
       "      <td>1</td>\n",
       "      <td>GABA</td>\n",
       "    </tr>\n",
       "    <tr>\n",
       "      <th>22</th>\n",
       "      <td>DRN357</td>\n",
       "      <td>0.075817</td>\n",
       "      <td>-6.754031e+01</td>\n",
       "      <td>2.504010e-03</td>\n",
       "      <td>-6.019896e+01</td>\n",
       "      <td>2.626111</td>\n",
       "      <td>1</td>\n",
       "      <td>GABA</td>\n",
       "    </tr>\n",
       "    <tr>\n",
       "      <th>23</th>\n",
       "      <td>SOM_6_LW</td>\n",
       "      <td>0.032049</td>\n",
       "      <td>-6.350564e+01</td>\n",
       "      <td>1.756024e-04</td>\n",
       "      <td>-6.488170e+01</td>\n",
       "      <td>2.396476</td>\n",
       "      <td>1</td>\n",
       "      <td>GABA</td>\n",
       "    </tr>\n",
       "    <tr>\n",
       "      <th>24</th>\n",
       "      <td>SOM_9_LW</td>\n",
       "      <td>0.058933</td>\n",
       "      <td>-7.756390e+01</td>\n",
       "      <td>2.103312e-03</td>\n",
       "      <td>-5.655470e+01</td>\n",
       "      <td>2.950500</td>\n",
       "      <td>1</td>\n",
       "      <td>GABA</td>\n",
       "    </tr>\n",
       "    <tr>\n",
       "      <th>25</th>\n",
       "      <td>SOM_14_LW</td>\n",
       "      <td>0.030170</td>\n",
       "      <td>2.565055e+05</td>\n",
       "      <td>-2.948539e-04</td>\n",
       "      <td>7.075338e+04</td>\n",
       "      <td>-36115.911200</td>\n",
       "      <td>0</td>\n",
       "      <td>GABA</td>\n",
       "    </tr>\n",
       "    <tr>\n",
       "      <th>26</th>\n",
       "      <td>DRN415</td>\n",
       "      <td>0.134577</td>\n",
       "      <td>-8.064614e+01</td>\n",
       "      <td>4.795674e-03</td>\n",
       "      <td>-5.655268e+01</td>\n",
       "      <td>2.397270</td>\n",
       "      <td>1</td>\n",
       "      <td>GABA</td>\n",
       "    </tr>\n",
       "    <tr>\n",
       "      <th>27</th>\n",
       "      <td>DRN416</td>\n",
       "      <td>0.067075</td>\n",
       "      <td>-5.463504e+01</td>\n",
       "      <td>1.032505e-03</td>\n",
       "      <td>-4.180342e+01</td>\n",
       "      <td>4.593779</td>\n",
       "      <td>1</td>\n",
       "      <td>GABA</td>\n",
       "    </tr>\n",
       "    <tr>\n",
       "      <th>28</th>\n",
       "      <td>DRN419</td>\n",
       "      <td>0.081965</td>\n",
       "      <td>-4.221162e+01</td>\n",
       "      <td>1.106054e-03</td>\n",
       "      <td>-4.183313e+01</td>\n",
       "      <td>1.839617</td>\n",
       "      <td>1</td>\n",
       "      <td>GABA</td>\n",
       "    </tr>\n",
       "    <tr>\n",
       "      <th>29</th>\n",
       "      <td>DRN421</td>\n",
       "      <td>0.074466</td>\n",
       "      <td>-6.506549e+01</td>\n",
       "      <td>1.363779e-03</td>\n",
       "      <td>-3.768767e+01</td>\n",
       "      <td>0.964064</td>\n",
       "      <td>1</td>\n",
       "      <td>GABA</td>\n",
       "    </tr>\n",
       "    <tr>\n",
       "      <th>30</th>\n",
       "      <td>DRN422</td>\n",
       "      <td>0.073284</td>\n",
       "      <td>-1.014627e+02</td>\n",
       "      <td>3.805192e-04</td>\n",
       "      <td>-7.058522e+04</td>\n",
       "      <td>-3842.945327</td>\n",
       "      <td>0</td>\n",
       "      <td>GABA</td>\n",
       "    </tr>\n",
       "    <tr>\n",
       "      <th>31</th>\n",
       "      <td>DRN424</td>\n",
       "      <td>0.032984</td>\n",
       "      <td>-5.488307e+01</td>\n",
       "      <td>6.009248e-04</td>\n",
       "      <td>-4.401874e+01</td>\n",
       "      <td>2.104633</td>\n",
       "      <td>1</td>\n",
       "      <td>GABA</td>\n",
       "    </tr>\n",
       "  </tbody>\n",
       "</table>\n",
       "</div>"
      ],
      "text/plain": [
       "         Cell         C            El            gl       Vt_star  \\\n",
       "0      DRN307  0.090325 -6.577346e+01  9.400180e-04 -4.351563e+01   \n",
       "1      DRN308  0.106965 -8.289795e+01  1.128526e-03 -4.394335e+01   \n",
       "2      DRN317  0.112054 -6.544831e+01  2.076320e-03 -4.404316e+01   \n",
       "3      DRN318  0.090269 -6.418180e+01  1.515088e-03 -4.118352e+01   \n",
       "4      DRN319  0.112589 -4.525981e+01  1.215336e-03 -4.602100e+01   \n",
       "5      DRN320  0.095270 -8.164882e+01  1.098988e-03 -2.451900e+02   \n",
       "6      DRN321  0.066209 -6.002340e+01  8.030860e-04 -4.422056e+01   \n",
       "7      DRN324  0.051241 -6.152399e+01  1.125950e-03 -4.177009e+01   \n",
       "8      DRN325  0.050948 -6.310973e+01  1.107788e-03 -4.023437e+01   \n",
       "9      DRN327  0.074549 -6.173340e+01  1.194042e-03 -4.113569e+01   \n",
       "10     DRN332  0.081893 -7.714480e+12 -2.970000e-11 -4.410466e+06   \n",
       "11     DRN384  0.116013 -8.941337e+01  1.032371e-03 -5.213585e+01   \n",
       "12     DRN385  0.096546 -6.960766e+01  1.260212e-03 -4.733207e+01   \n",
       "13     DRN386  0.066396 -7.490055e+01  1.174919e-03 -4.272072e+01   \n",
       "14        JF3  0.083676 -8.154683e+01  1.228014e-03 -4.365793e+01   \n",
       "15        JF5  0.071352 -7.016258e+01  1.501956e-03 -3.845709e+01   \n",
       "16        JF6  0.042841 -6.251097e+01  1.151072e-03 -3.968713e+01   \n",
       "17        JF7  0.047976 -4.857723e+01  1.507961e-03 -3.685023e+01   \n",
       "18     DRN351  0.048399 -3.952715e+01  5.334329e-04 -5.022896e+01   \n",
       "19     DRN354  0.057419 -6.207501e+01  2.271675e-03 -6.069967e+01   \n",
       "20     DRN355  0.042721 -4.234116e+01  9.754689e-04 -4.891213e+01   \n",
       "21     DRN356  0.065526 -6.836047e+01  3.100759e-03 -4.637129e+01   \n",
       "22     DRN357  0.075817 -6.754031e+01  2.504010e-03 -6.019896e+01   \n",
       "23   SOM_6_LW  0.032049 -6.350564e+01  1.756024e-04 -6.488170e+01   \n",
       "24   SOM_9_LW  0.058933 -7.756390e+01  2.103312e-03 -5.655470e+01   \n",
       "25  SOM_14_LW  0.030170  2.565055e+05 -2.948539e-04  7.075338e+04   \n",
       "26     DRN415  0.134577 -8.064614e+01  4.795674e-03 -5.655268e+01   \n",
       "27     DRN416  0.067075 -5.463504e+01  1.032505e-03 -4.180342e+01   \n",
       "28     DRN419  0.081965 -4.221162e+01  1.106054e-03 -4.183313e+01   \n",
       "29     DRN421  0.074466 -6.506549e+01  1.363779e-03 -3.768767e+01   \n",
       "30     DRN422  0.073284 -1.014627e+02  3.805192e-04 -7.058522e+04   \n",
       "31     DRN424  0.032984 -5.488307e+01  6.009248e-04 -4.401874e+01   \n",
       "\n",
       "           DeltaT  FitSuccessful CellType  \n",
       "0        2.741119              1      5HT  \n",
       "1        2.324268              1      5HT  \n",
       "2        1.757330              1      5HT  \n",
       "3        1.742107              1      5HT  \n",
       "4        2.232644              1      5HT  \n",
       "5       -5.374126              0      5HT  \n",
       "6        1.856605              1      5HT  \n",
       "7        1.959069              1      5HT  \n",
       "8        1.287305              1      5HT  \n",
       "9        1.751605              1      5HT  \n",
       "10  256109.090800              0      5HT  \n",
       "11       4.632625              1      5HT  \n",
       "12       2.566324              1      5HT  \n",
       "13       2.590049              1      5HT  \n",
       "14       1.417646              1      5HT  \n",
       "15       1.287196              1      5HT  \n",
       "16       2.713552              1      5HT  \n",
       "17       1.303899              1      5HT  \n",
       "18       2.161193              1     GABA  \n",
       "19       4.223702              1     GABA  \n",
       "20       2.185522              1     GABA  \n",
       "21       1.663261              1     GABA  \n",
       "22       2.626111              1     GABA  \n",
       "23       2.396476              1     GABA  \n",
       "24       2.950500              1     GABA  \n",
       "25  -36115.911200              0     GABA  \n",
       "26       2.397270              1     GABA  \n",
       "27       4.593779              1     GABA  \n",
       "28       1.839617              1     GABA  \n",
       "29       0.964064              1     GABA  \n",
       "30   -3842.945327              0     GABA  \n",
       "31       2.104633              1     GABA  "
      ]
     },
     "execution_count": 5,
     "metadata": {},
     "output_type": "execute_result"
    }
   ],
   "source": [
    "dynamic_iv_params"
   ]
  },
  {
   "cell_type": "code",
   "execution_count": 6,
   "metadata": {},
   "outputs": [],
   "source": [
    "dynamic_iv_params_cleaned = dynamic_iv_params.loc[dynamic_iv_params['FitSuccessful'] == 1, :]"
   ]
  },
  {
   "cell_type": "code",
   "execution_count": 7,
   "metadata": {
    "scrolled": true
   },
   "outputs": [
    {
     "name": "stderr",
     "output_type": "stream",
     "text": [
      "/miniconda3/envs/neopozz/lib/python2.7/site-packages/ipykernel_launcher.py:1: SettingWithCopyWarning: \n",
      "A value is trying to be set on a copy of a slice from a DataFrame.\n",
      "Try using .loc[row_indexer,col_indexer] = value instead\n",
      "\n",
      "See the caveats in the documentation: http://pandas.pydata.org/pandas-docs/stable/indexing.html#indexing-view-versus-copy\n",
      "  \"\"\"Entry point for launching an IPython kernel.\n"
     ]
    }
   ],
   "source": [
    "dynamic_iv_params_cleaned['tau'] = dynamic_iv_params_cleaned['C'] / dynamic_iv_params_cleaned['gl']"
   ]
  },
  {
   "cell_type": "code",
   "execution_count": 8,
   "metadata": {},
   "outputs": [
    {
     "name": "stderr",
     "output_type": "stream",
     "text": [
      "/miniconda3/envs/neopozz/lib/python2.7/site-packages/ipykernel_launcher.py:1: SettingWithCopyWarning: \n",
      "A value is trying to be set on a copy of a slice from a DataFrame.\n",
      "Try using .loc[row_indexer,col_indexer] = value instead\n",
      "\n",
      "See the caveats in the documentation: http://pandas.pydata.org/pandas-docs/stable/indexing.html#indexing-view-versus-copy\n",
      "  \"\"\"Entry point for launching an IPython kernel.\n"
     ]
    }
   ],
   "source": [
    "dynamic_iv_params_cleaned['ThresholdDistance'] = dynamic_iv_params_cleaned['Vt_star'] - dynamic_iv_params_cleaned['El']"
   ]
  },
  {
   "cell_type": "markdown",
   "metadata": {},
   "source": [
    "# Summary statistics"
   ]
  },
  {
   "cell_type": "code",
   "execution_count": 9,
   "metadata": {},
   "outputs": [
    {
     "data": {
      "text/html": [
       "<div>\n",
       "<style scoped>\n",
       "    .dataframe tbody tr th:only-of-type {\n",
       "        vertical-align: middle;\n",
       "    }\n",
       "\n",
       "    .dataframe tbody tr th {\n",
       "        vertical-align: top;\n",
       "    }\n",
       "\n",
       "    .dataframe thead th {\n",
       "        text-align: right;\n",
       "    }\n",
       "</style>\n",
       "<table border=\"1\" class=\"dataframe\">\n",
       "  <thead>\n",
       "    <tr style=\"text-align: right;\">\n",
       "      <th></th>\n",
       "      <th>C</th>\n",
       "      <th>El</th>\n",
       "      <th>gl</th>\n",
       "      <th>Vt_star</th>\n",
       "      <th>DeltaT</th>\n",
       "      <th>FitSuccessful</th>\n",
       "      <th>tau</th>\n",
       "      <th>ThresholdDistance</th>\n",
       "    </tr>\n",
       "    <tr>\n",
       "      <th>CellType</th>\n",
       "      <th></th>\n",
       "      <th></th>\n",
       "      <th></th>\n",
       "      <th></th>\n",
       "      <th></th>\n",
       "      <th></th>\n",
       "      <th></th>\n",
       "      <th></th>\n",
       "    </tr>\n",
       "  </thead>\n",
       "  <tbody>\n",
       "    <tr>\n",
       "      <th>5HT</th>\n",
       "      <td>0.079997</td>\n",
       "      <td>-66.666940</td>\n",
       "      <td>0.001248</td>\n",
       "      <td>-42.931773</td>\n",
       "      <td>2.135209</td>\n",
       "      <td>1</td>\n",
       "      <td>66.475810</td>\n",
       "      <td>23.735167</td>\n",
       "    </tr>\n",
       "    <tr>\n",
       "      <th>GABA</th>\n",
       "      <td>0.064328</td>\n",
       "      <td>-59.862917</td>\n",
       "      <td>0.001714</td>\n",
       "      <td>-50.811921</td>\n",
       "      <td>2.508844</td>\n",
       "      <td>1</td>\n",
       "      <td>58.197169</td>\n",
       "      <td>9.050995</td>\n",
       "    </tr>\n",
       "  </tbody>\n",
       "</table>\n",
       "</div>"
      ],
      "text/plain": [
       "                 C         El        gl    Vt_star    DeltaT  FitSuccessful  \\\n",
       "CellType                                                                      \n",
       "5HT       0.079997 -66.666940  0.001248 -42.931773  2.135209              1   \n",
       "GABA      0.064328 -59.862917  0.001714 -50.811921  2.508844              1   \n",
       "\n",
       "                tau  ThresholdDistance  \n",
       "CellType                                \n",
       "5HT       66.475810          23.735167  \n",
       "GABA      58.197169           9.050995  "
      ]
     },
     "execution_count": 9,
     "metadata": {},
     "output_type": "execute_result"
    }
   ],
   "source": [
    "dynamic_iv_params_cleaned.groupby('CellType').mean()"
   ]
  },
  {
   "cell_type": "code",
   "execution_count": 10,
   "metadata": {},
   "outputs": [
    {
     "data": {
      "text/html": [
       "<div>\n",
       "<style scoped>\n",
       "    .dataframe tbody tr th:only-of-type {\n",
       "        vertical-align: middle;\n",
       "    }\n",
       "\n",
       "    .dataframe tbody tr th {\n",
       "        vertical-align: top;\n",
       "    }\n",
       "\n",
       "    .dataframe thead th {\n",
       "        text-align: right;\n",
       "    }\n",
       "</style>\n",
       "<table border=\"1\" class=\"dataframe\">\n",
       "  <thead>\n",
       "    <tr style=\"text-align: right;\">\n",
       "      <th></th>\n",
       "      <th>C</th>\n",
       "      <th>El</th>\n",
       "      <th>gl</th>\n",
       "      <th>Vt_star</th>\n",
       "      <th>DeltaT</th>\n",
       "      <th>FitSuccessful</th>\n",
       "      <th>tau</th>\n",
       "      <th>ThresholdDistance</th>\n",
       "    </tr>\n",
       "    <tr>\n",
       "      <th>CellType</th>\n",
       "      <th></th>\n",
       "      <th></th>\n",
       "      <th></th>\n",
       "      <th></th>\n",
       "      <th></th>\n",
       "      <th></th>\n",
       "      <th></th>\n",
       "      <th></th>\n",
       "    </tr>\n",
       "  </thead>\n",
       "  <tbody>\n",
       "    <tr>\n",
       "      <th>5HT</th>\n",
       "      <td>0.024725</td>\n",
       "      <td>11.575061</td>\n",
       "      <td>0.000294</td>\n",
       "      <td>3.659660</td>\n",
       "      <td>0.839596</td>\n",
       "      <td>0.0</td>\n",
       "      <td>23.700937</td>\n",
       "      <td>10.311582</td>\n",
       "    </tr>\n",
       "    <tr>\n",
       "      <th>GABA</th>\n",
       "      <td>0.027488</td>\n",
       "      <td>13.503873</td>\n",
       "      <td>0.001315</td>\n",
       "      <td>8.809146</td>\n",
       "      <td>1.020676</td>\n",
       "      <td>0.0</td>\n",
       "      <td>44.821208</td>\n",
       "      <td>12.685416</td>\n",
       "    </tr>\n",
       "  </tbody>\n",
       "</table>\n",
       "</div>"
      ],
      "text/plain": [
       "                 C         El        gl   Vt_star    DeltaT  FitSuccessful  \\\n",
       "CellType                                                                     \n",
       "5HT       0.024725  11.575061  0.000294  3.659660  0.839596            0.0   \n",
       "GABA      0.027488  13.503873  0.001315  8.809146  1.020676            0.0   \n",
       "\n",
       "                tau  ThresholdDistance  \n",
       "CellType                                \n",
       "5HT       23.700937          10.311582  \n",
       "GABA      44.821208          12.685416  "
      ]
     },
     "execution_count": 10,
     "metadata": {},
     "output_type": "execute_result"
    }
   ],
   "source": [
    "dynamic_iv_params_cleaned.groupby('CellType').std()"
   ]
  },
  {
   "cell_type": "code",
   "execution_count": 11,
   "metadata": {},
   "outputs": [
    {
     "data": {
      "text/html": [
       "<div>\n",
       "<style scoped>\n",
       "    .dataframe tbody tr th:only-of-type {\n",
       "        vertical-align: middle;\n",
       "    }\n",
       "\n",
       "    .dataframe tbody tr th {\n",
       "        vertical-align: top;\n",
       "    }\n",
       "\n",
       "    .dataframe thead th {\n",
       "        text-align: right;\n",
       "    }\n",
       "</style>\n",
       "<table border=\"1\" class=\"dataframe\">\n",
       "  <thead>\n",
       "    <tr style=\"text-align: right;\">\n",
       "      <th></th>\n",
       "      <th>C</th>\n",
       "      <th>Cell</th>\n",
       "      <th>DeltaT</th>\n",
       "      <th>El</th>\n",
       "      <th>FitSuccessful</th>\n",
       "      <th>ThresholdDistance</th>\n",
       "      <th>Vt_star</th>\n",
       "      <th>gl</th>\n",
       "      <th>tau</th>\n",
       "    </tr>\n",
       "    <tr>\n",
       "      <th>CellType</th>\n",
       "      <th></th>\n",
       "      <th></th>\n",
       "      <th></th>\n",
       "      <th></th>\n",
       "      <th></th>\n",
       "      <th></th>\n",
       "      <th></th>\n",
       "      <th></th>\n",
       "      <th></th>\n",
       "    </tr>\n",
       "  </thead>\n",
       "  <tbody>\n",
       "    <tr>\n",
       "      <th>5HT</th>\n",
       "      <td>0.006181</td>\n",
       "      <td>NaN</td>\n",
       "      <td>0.209899</td>\n",
       "      <td>2.893765</td>\n",
       "      <td>0.0</td>\n",
       "      <td>2.577896</td>\n",
       "      <td>0.914915</td>\n",
       "      <td>0.000074</td>\n",
       "      <td>5.925234</td>\n",
       "    </tr>\n",
       "    <tr>\n",
       "      <th>GABA</th>\n",
       "      <td>0.007935</td>\n",
       "      <td>NaN</td>\n",
       "      <td>0.294644</td>\n",
       "      <td>3.898232</td>\n",
       "      <td>0.0</td>\n",
       "      <td>3.661964</td>\n",
       "      <td>2.542981</td>\n",
       "      <td>0.000379</td>\n",
       "      <td>12.938768</td>\n",
       "    </tr>\n",
       "  </tbody>\n",
       "</table>\n",
       "</div>"
      ],
      "text/plain": [
       "                 C  Cell    DeltaT        El  FitSuccessful  \\\n",
       "CellType                                                      \n",
       "5HT       0.006181   NaN  0.209899  2.893765            0.0   \n",
       "GABA      0.007935   NaN  0.294644  3.898232            0.0   \n",
       "\n",
       "          ThresholdDistance   Vt_star        gl        tau  \n",
       "CellType                                                    \n",
       "5HT                2.577896  0.914915  0.000074   5.925234  \n",
       "GABA               3.661964  2.542981  0.000379  12.938768  "
      ]
     },
     "execution_count": 11,
     "metadata": {},
     "output_type": "execute_result"
    }
   ],
   "source": [
    "dynamic_iv_params_cleaned.groupby('CellType').sem()"
   ]
  },
  {
   "cell_type": "markdown",
   "metadata": {},
   "source": [
    "# Plots and pairwise comparisons"
   ]
  },
  {
   "cell_type": "code",
   "execution_count": 11,
   "metadata": {},
   "outputs": [
    {
     "data": {
      "image/png": "[encoded data removed]",
      "text/plain": [
       "<Figure size 120x180 with 1 Axes>"
      ]
     },
     "metadata": {
      "needs_background": "light"
     },
     "output_type": "display_data"
    }
   ],
   "source": [
    "plt.figure(figsize=(1, 1.5))\n",
    "plt.subplot(111)\n",
    "plt.subplots_adjust(left=0.3, right=0.95)\n",
    "sns.swarmplot(y='DeltaT', x='CellType', data=dynamic_iv_params_cleaned, clip_on=False)\n",
    "plt.yticks([0, 2, 4])\n",
    "hide_border('tr', trim=True)\n",
    "plt.ylabel('Threshold width (mV)')\n",
    "plt.xlabel('')\n",
    "\n",
    "if IMG_PATH is not None:\n",
    "    plt.savefig(os.path.join(IMG_PATH, 'threshold_width.png'))"
   ]
  },
  {
   "cell_type": "code",
   "execution_count": 12,
   "metadata": {},
   "outputs": [
    {
     "data": {
      "text/plain": [
       "MannwhitneyuResult(statistic=74.0, pvalue=0.31822483718735983)"
      ]
     },
     "execution_count": 12,
     "metadata": {},
     "output_type": "execute_result"
    }
   ],
   "source": [
    "stats.mannwhitneyu(\n",
    "    dynamic_iv_params_cleaned.loc[dynamic_iv_params_cleaned['CellType'] == '5HT', 'DeltaT'],\n",
    "    dynamic_iv_params_cleaned.loc[dynamic_iv_params_cleaned['CellType'] == 'GABA', 'DeltaT'],\n",
    "    alternative='two-sided'\n",
    ")"
   ]
  },
  {
   "cell_type": "code",
   "execution_count": 13,
   "metadata": {},
   "outputs": [
    {
     "data": {
      "image/png": "[encoded data removed]",
      "text/plain": [
       "<Figure size 120x180 with 1 Axes>"
      ]
     },
     "metadata": {
      "needs_background": "light"
     },
     "output_type": "display_data"
    }
   ],
   "source": [
    "plt.figure(figsize=(1, 1.5))\n",
    "plt.subplot(111)\n",
    "plt.subplots_adjust(left=0.4, right=0.95)\n",
    "sns.swarmplot(y='Vt_star', x='CellType', data=dynamic_iv_params_cleaned, clip_on=False)\n",
    "hide_border('tr', trim=True)\n",
    "plt.ylabel('Threshold (mV)')\n",
    "plt.xlabel('')\n",
    "\n",
    "if IMG_PATH is not None:\n",
    "    plt.savefig(os.path.join(IMG_PATH, 'static_threshold.png'))"
   ]
  },
  {
   "cell_type": "code",
   "execution_count": 14,
   "metadata": {},
   "outputs": [
    {
     "data": {
      "text/plain": [
       "MannwhitneyuResult(statistic=150.0, pvalue=0.013003437031519488)"
      ]
     },
     "execution_count": 14,
     "metadata": {},
     "output_type": "execute_result"
    }
   ],
   "source": [
    "stats.mannwhitneyu(\n",
    "    dynamic_iv_params_cleaned.loc[dynamic_iv_params_cleaned['CellType'] == '5HT', 'Vt_star'],\n",
    "    dynamic_iv_params_cleaned.loc[dynamic_iv_params_cleaned['CellType'] == 'GABA', 'Vt_star'],\n",
    "    alternative='two-sided'\n",
    ")"
   ]
  },
  {
   "cell_type": "code",
   "execution_count": 15,
   "metadata": {},
   "outputs": [
    {
     "data": {
      "image/png": "[encoded data removed]",
      "text/plain": [
       "<Figure size 120x180 with 1 Axes>"
      ]
     },
     "metadata": {
      "needs_background": "light"
     },
     "output_type": "display_data"
    }
   ],
   "source": [
    "plt.figure(figsize=(1, 1.5))\n",
    "plt.subplot(111)\n",
    "plt.subplots_adjust(left=0.4, right=0.95)\n",
    "sns.swarmplot(y='El', x='CellType', data=dynamic_iv_params_cleaned, clip_on=False)\n",
    "hide_border('tr', trim=True)\n",
    "plt.ylabel('Equilibrium potential (mV)')\n",
    "plt.xlabel('')\n",
    "\n",
    "if IMG_PATH is not None:\n",
    "    plt.savefig(os.path.join(IMG_PATH, 'equilibrium_potential.png'))"
   ]
  },
  {
   "cell_type": "code",
   "execution_count": 16,
   "metadata": {},
   "outputs": [
    {
     "data": {
      "text/plain": [
       "MannwhitneyuResult(statistic=70.0, pvalue=0.2364891614598833)"
      ]
     },
     "execution_count": 16,
     "metadata": {},
     "output_type": "execute_result"
    }
   ],
   "source": [
    "stats.mannwhitneyu(\n",
    "    dynamic_iv_params_cleaned.loc[dynamic_iv_params_cleaned['CellType'] == '5HT', 'El'],\n",
    "    dynamic_iv_params_cleaned.loc[dynamic_iv_params_cleaned['CellType'] == 'GABA', 'El'],\n",
    "    alternative='two-sided'\n",
    ")"
   ]
  },
  {
   "cell_type": "code",
   "execution_count": 17,
   "metadata": {},
   "outputs": [
    {
     "data": {
      "image/png": "[encoded data removed]",
      "text/plain": [
       "<Figure size 120x180 with 1 Axes>"
      ]
     },
     "metadata": {
      "needs_background": "light"
     },
     "output_type": "display_data"
    }
   ],
   "source": [
    "plt.figure(figsize=(1, 1.5))\n",
    "plt.subplot(111)\n",
    "plt.subplots_adjust(left=0.4, right=0.95)\n",
    "sns.swarmplot(y='ThresholdDistance', x='CellType', data=dynamic_iv_params_cleaned, clip_on=False)\n",
    "hide_border('tr', trim=True)\n",
    "plt.ylabel('Distance to threshold (mV)')\n",
    "plt.xlabel('')\n",
    "\n",
    "if IMG_PATH is not None:\n",
    "    plt.savefig(os.path.join(IMG_PATH, 'distance_to_threshold.png'))"
   ]
  },
  {
   "cell_type": "code",
   "execution_count": 18,
   "metadata": {},
   "outputs": [
    {
     "data": {
      "text/plain": [
       "MannwhitneyuResult(statistic=153.0, pvalue=0.008717292121027226)"
      ]
     },
     "execution_count": 18,
     "metadata": {},
     "output_type": "execute_result"
    }
   ],
   "source": [
    "stats.mannwhitneyu(\n",
    "    dynamic_iv_params_cleaned.loc[dynamic_iv_params_cleaned['CellType'] == '5HT', 'ThresholdDistance'],\n",
    "    dynamic_iv_params_cleaned.loc[dynamic_iv_params_cleaned['CellType'] == 'GABA', 'ThresholdDistance'],\n",
    "    alternative='two-sided'\n",
    ")"
   ]
  },
  {
   "cell_type": "code",
   "execution_count": 19,
   "metadata": {},
   "outputs": [
    {
     "data": {
      "image/png": "[encoded data removed]",
      "text/plain": [
       "<Figure size 120x180 with 1 Axes>"
      ]
     },
     "metadata": {
      "needs_background": "light"
     },
     "output_type": "display_data"
    }
   ],
   "source": [
    "plt.figure(figsize=(1, 1.5))\n",
    "plt.subplot(111)\n",
    "plt.subplots_adjust(left=0.4, right=0.95)\n",
    "sns.swarmplot(\n",
    "    y=dynamic_iv_params_cleaned['tau'], \n",
    "    x=dynamic_iv_params_cleaned['CellType'],\n",
    "    clip_on=False\n",
    ")\n",
    "hide_border('tr', trim=True)\n",
    "plt.ylabel('Time constant (ms)')\n",
    "plt.xlabel('')\n",
    "\n",
    "if IMG_PATH is not None:\n",
    "    plt.savefig(os.path.join(IMG_PATH, 'time_constant.png'))"
   ]
  },
  {
   "cell_type": "code",
   "execution_count": 20,
   "metadata": {},
   "outputs": [
    {
     "data": {
      "text/plain": [
       "MannwhitneyuResult(statistic=131.0, pvalue=0.1092391583165495)"
      ]
     },
     "execution_count": 20,
     "metadata": {},
     "output_type": "execute_result"
    }
   ],
   "source": [
    "stats.mannwhitneyu(\n",
    "    dynamic_iv_params_cleaned.loc[dynamic_iv_params_cleaned['CellType'] == '5HT', 'tau'],\n",
    "    dynamic_iv_params_cleaned.loc[dynamic_iv_params_cleaned['CellType'] == 'GABA', 'tau'],\n",
    "    alternative='two-sided'\n",
    ")"
   ]
  }
 ],
 "metadata": {
  "kernelspec": {
   "display_name": "Python 2",
   "language": "python",
   "name": "python2"
  },
  "language_info": {
   "codemirror_mode": {
    "name": "ipython",
    "version": 2
   },
   "file_extension": ".py",
   "mimetype": "text/x-python",
   "name": "python",
   "nbconvert_exporter": "python",
   "pygments_lexer": "ipython2",
   "version": "2.7.15"
  }
 },
 "nbformat": 4,
 "nbformat_minor": 2
}

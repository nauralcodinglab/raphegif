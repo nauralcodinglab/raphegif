{
 "cells": [
  {
   "cell_type": "code",
   "execution_count": 1,
   "metadata": {},
   "outputs": [
    {
     "name": "stdout",
     "output_type": "stream",
     "text": [
      "/Users/eharkin/Documents/projects/5HTGIF\n"
     ]
    }
   ],
   "source": [
    "import os; os.chdir(os.path.join('..', '..', '..'))\n",
    "print os.getcwd()"
   ]
  },
  {
   "cell_type": "code",
   "execution_count": 2,
   "metadata": {},
   "outputs": [],
   "source": [
    "import pickle\n",
    "\n",
    "import matplotlib.pyplot as plt\n",
    "import matplotlib.gridspec as gs\n",
    "from mpl_toolkits.axes_grid1.inset_locator import inset_axes, mark_inset\n",
    "import seaborn as sns\n",
    "import numpy as np\n",
    "\n",
    "from grr import pltools\n",
    "from grr.Tools import dashedBorder, raiseExpectedGot, assertAllAlmostSame\n",
    "from grr.cell_class import Cell, Recording, max_normalize_channel"
   ]
  },
  {
   "cell_type": "code",
   "execution_count": 3,
   "metadata": {},
   "outputs": [],
   "source": [
    "DATA_PATH = os.path.join('data', 'processed', 'gating')\n",
    "IMG_PATH = os.path.join('figs', 'ims', 'writeup', 'fig1')\n",
    "NOTEBOOK_PATH = os.path.join('figs', 'scripts', 'writeup')\n",
    "\n",
    "plt.style.use(os.path.join(NOTEBOOK_PATH, 'publication_figure_style.dms'))"
   ]
  },
  {
   "cell_type": "markdown",
   "metadata": {},
   "source": [
    "Load curves."
   ]
  },
  {
   "cell_type": "code",
   "execution_count": 4,
   "metadata": {},
   "outputs": [],
   "source": [
    "pdata = {}\n",
    "for fname in os.listdir(DATA_PATH):\n",
    "    if 'pdata' in fname:\n",
    "        with open(os.path.join(DATA_PATH, fname), 'rb') as f:\n",
    "            pdata[fname.split('_')[0]] = pickle.load(f)\n",
    "            f.close()\n",
    "    else:\n",
    "        continue\n",
    "\n",
    "fittedpts = {}\n",
    "for fname in os.listdir(DATA_PATH):\n",
    "    if 'fittedpts' in fname:\n",
    "        with open(os.path.join(DATA_PATH, fname), 'rb') as f:\n",
    "            fittedpts[fname.split('_')[0]] = pickle.load(f)\n",
    "            f.close()\n",
    "    else:\n",
    "        continue\n",
    "        \n",
    "with open(os.path.join(DATA_PATH, 'gating_params.dat'), 'rb') as f:\n",
    "    params = pickle.load(f)\n",
    "    f.close()"
   ]
  },
  {
   "cell_type": "markdown",
   "metadata": {},
   "source": [
    "Load sample trace."
   ]
  },
  {
   "cell_type": "code",
   "execution_count": 5,
   "metadata": {},
   "outputs": [],
   "source": [
    "TRACE_PATH = './data/raw/5HT/gating/'\n",
    "\n",
    "beautiful_gating_1 = Cell().read_ABF([TRACE_PATH + '18619018.abf',\n",
    "                                      TRACE_PATH + '18619019.abf',\n",
    "                                      TRACE_PATH + '18619020.abf'])\n",
    "beautiful_gating_1 = Recording(np.array(beautiful_gating_1).mean(axis = 0))\n",
    "beautiful_gating_1.set_dt(0.1)"
   ]
  },
  {
   "cell_type": "markdown",
   "metadata": {},
   "source": [
    "# Trace plot"
   ]
  },
  {
   "cell_type": "code",
   "execution_count": 6,
   "metadata": {},
   "outputs": [
    {
     "name": "stderr",
     "output_type": "stream",
     "text": [
      "/miniconda3/envs/neopozz/lib/python2.7/site-packages/matplotlib/figure.py:2267: UserWarning: This figure includes Axes that are not compatible with tight_layout, so results might be incorrect.\n",
      "  warnings.warn(\"This figure includes Axes that are not compatible \"\n"
     ]
    },
    {
     "data": {
      "image/png": "[encoded data removed]",
      "text/plain": [
       "<Figure size 360x240 with 4 Axes>"
      ]
     },
     "metadata": {
      "needs_background": "light"
     },
     "output_type": "display_data"
    }
   ],
   "source": [
    "spec_trace = gs.GridSpec(2, 1, height_ratios=[1, 0.2])\n",
    "\n",
    "plt.figure(figsize=(3, 2))\n",
    "\n",
    "act_ax = plt.subplot(spec_trace[0, :])\n",
    "Kslow_xlim = (2450, 8500)\n",
    "plt.plot(\n",
    "    beautiful_gating_1.t_mat[0, :, -2::-3],\n",
    "    beautiful_gating_1[0, :, -2::-3], 'k-',\n",
    "    linewidth = 0.5\n",
    ")\n",
    "plt.text(4500, 200, '+TTX', ha = 'center', va = 'center', size = 'small')\n",
    "plt.annotate(\n",
    "    '$n$', (5500, 170),\n",
    "    xytext = (-10, 20), textcoords = 'offset points', ha = 'center',\n",
    "    arrowprops = {'arrowstyle': '->'}\n",
    ")\n",
    "plt.xlim(Kslow_xlim)\n",
    "plt.ylim(-100, 800)\n",
    "pltools.add_scalebar(\n",
    "    'ms', 'pA', anchor = (0.8, 0.1),\n",
    "    x_label_space = -0.02, y_size = 100, x_size = 500, bar_space = 0\n",
    ")\n",
    "\n",
    "act_ins = inset_axes(act_ax, '20%', '40%', loc = 'upper left', borderpad = 2)\n",
    "act_ins.plot(\n",
    "    beautiful_gating_1.t_mat[0, :, -2::-3],\n",
    "    beautiful_gating_1[0, :, -2::-3], 'k-',\n",
    "    linewidth = 0.5\n",
    ")\n",
    "plt.annotate(\n",
    "    '$m$', (2625, 705),\n",
    "    xytext = (15, -10), textcoords = 'offset points',\n",
    "    arrowprops = {'arrowstyle': '->'}\n",
    ")\n",
    "dashedBorder(act_ins)\n",
    "#pltools.add_scalebar(y_units = 'pA', x_units = 'ms', remove_frame = False, ax = act_ins)\n",
    "pltools.hide_ticks()\n",
    "plt.xlim(2590, 2750)\n",
    "plt.ylim(-50, 780)\n",
    "mark_inset(act_ax, act_ins, loc1 = 1, loc2 = 4, ls = '--', color = 'gray', lw = 0.5)\n",
    "\n",
    "inact_ins = inset_axes(act_ax, '20%', '40%', loc = 'upper right', borderpad = 2)\n",
    "inact_ins.plot(\n",
    "    beautiful_gating_1.t_mat[0, :, -3::-3],\n",
    "    beautiful_gating_1[0, :, -3::-3], 'k-',\n",
    "    linewidth = 0.5\n",
    ")\n",
    "plt.annotate(\n",
    "    '$h$', (5630, 600),\n",
    "    xytext = (15, -10), textcoords = 'offset points',\n",
    "    arrowprops = {'arrowstyle': '->'}\n",
    ")\n",
    "dashedBorder(inact_ins)\n",
    "#pltools.add_scalebar(y_units = 'pA', x_units = 'ms', remove_frame = False, ax = inact_ins)\n",
    "pltools.hide_ticks()\n",
    "plt.xlim(5550, 5800)\n",
    "plt.ylim(-50, 750)\n",
    "mark_inset(act_ax, inact_ins, loc1 = 1, loc2 = 4, ls = '--', color = 'gray', lw = 0.5)\n",
    "\n",
    "plt.subplot(spec_trace[1, :])\n",
    "plt.plot(\n",
    "    beautiful_gating_1.t_mat[1, :, -2::-3],\n",
    "    beautiful_gating_1[1, :, -2::-3], '-',\n",
    "    color = 'gray', linewidth = 0.5\n",
    ")\n",
    "plt.xlim(Kslow_xlim)\n",
    "plt.text(Kslow_xlim[1], -22, '$-20$mV', ha = 'right', va = 'top', size = 'small')\n",
    "pltools.add_scalebar(y_units = 'mV', omit_x = True, anchor = (0.8, 0.1))\n",
    "\n",
    "plt.tight_layout()\n",
    "\n",
    "if IMG_PATH is not None:\n",
    "    plt.savefig(os.path.join(IMG_PATH, 'ser_gating_experiment.png'))"
   ]
  },
  {
   "cell_type": "markdown",
   "metadata": {},
   "source": [
    "Normalize conductance values."
   ]
  },
  {
   "cell_type": "code",
   "execution_count": 7,
   "metadata": {},
   "outputs": [],
   "source": [
    "for key in pdata:\n",
    "    pdata[key][0, ...] = max_normalize_channel(pdata[key][0, ...])"
   ]
  },
  {
   "cell_type": "markdown",
   "metadata": {},
   "source": [
    "# Gating plot"
   ]
  },
  {
   "cell_type": "code",
   "execution_count": 8,
   "metadata": {},
   "outputs": [],
   "source": [
    "def get_plot_coordinates_with_error(pdata, error_type='sem'):\n",
    "    if error_type not in ['std', 'sem']:\n",
    "        raiseExpectedGot('`std` or `sem`', 'argument `error_type`', error_type)\n",
    "        \n",
    "    # Ensure voltages are same for all observations.\n",
    "    for i in range(pdata.shape[1]):\n",
    "        assertAllAlmostSame(pdata[1, i, :])  # Voltage channel should be [1, :, :]\n",
    "    \n",
    "    x = pdata[1, ...].mean(axis=1)\n",
    "    y_mean = pdata[0, ...].mean(axis=1)\n",
    "    y_std = pdata[0, ...].std(axis=1)\n",
    "    if error_type == 'sem':\n",
    "        y_err = y_std / np.sqrt(pdata.shape[2])\n",
    "    elif error_type == 'std':\n",
    "        y_err = y_std\n",
    "    else:\n",
    "        raise RuntimeError('Unexpectedly reached end of switch.')\n",
    "    \n",
    "    return {'x': x, 'y': y_mean, 'yerr': y_err}"
   ]
  },
  {
   "cell_type": "code",
   "execution_count": 9,
   "metadata": {},
   "outputs": [
    {
     "data": {
      "image/png": "[encoded data removed]",
      "text/plain": [
       "<Figure size 360x240 with 1 Axes>"
      ]
     },
     "metadata": {
      "needs_background": "light"
     },
     "output_type": "display_data"
    }
   ],
   "source": [
    "plt_params = {'ls': 'none', 'capsize': 5, 'ecolor': 'k', 'markersize': 3}\n",
    "\n",
    "plt.figure(figsize=(3, 2))\n",
    "\n",
    "plt.errorbar(\n",
    "    marker='o', label='$m$', \n",
    "    **dict(plt_params, **get_plot_coordinates_with_error(pdata['peakact']))\n",
    ")\n",
    "plt.errorbar(\n",
    "    marker='s', label='$h$', \n",
    "    **dict(plt_params, **get_plot_coordinates_with_error(pdata['peakinact']))\n",
    ")\n",
    "plt.errorbar(\n",
    "    marker='^', label='$n$', \n",
    "    **dict(plt_params, **get_plot_coordinates_with_error(pdata['ss']))\n",
    ")\n",
    "for key in fittedpts:\n",
    "    plt.plot(fittedpts[key][1, :], fittedpts[key][0, :], '--', color='gray', dashes=(10, 10))\n",
    "plt.yticks([0, 0.25, 0.5, 0.75, 1])\n",
    "plt.xlabel('$V$ (mV)')\n",
    "plt.ylabel(r'$g/g_{\\mathrm{max}}$')\n",
    "plt.legend(loc='upper center')\n",
    "\n",
    "sns.despine(trim=True)\n",
    "\n",
    "plt.tight_layout()\n",
    "\n",
    "if IMG_PATH is not None:\n",
    "    plt.savefig(os.path.join(IMG_PATH, 'ser_gating_curves.png'))"
   ]
  }
 ],
 "metadata": {
  "kernelspec": {
   "display_name": "Python 2",
   "language": "python",
   "name": "python2"
  },
  "language_info": {
   "codemirror_mode": {
    "name": "ipython",
    "version": 2
   },
   "file_extension": ".py",
   "mimetype": "text/x-python",
   "name": "python",
   "nbconvert_exporter": "python",
   "pygments_lexer": "ipython2",
   "version": "2.7.15"
  }
 },
 "nbformat": 4,
 "nbformat_minor": 2
}

{
 "cells": [
  {
   "cell_type": "code",
   "execution_count": 1,
   "metadata": {},
   "outputs": [],
   "source": [
    "from common import colors, sbarlw, insetlw"
   ]
  },
  {
   "cell_type": "code",
   "execution_count": 2,
   "metadata": {},
   "outputs": [
    {
     "name": "stdout",
     "output_type": "stream",
     "text": [
      "/Users/eharkin/Documents/projects/5HTGIF\n"
     ]
    }
   ],
   "source": [
    "import os; os.chdir(os.path.join('..', '..', '..'))\n",
    "print os.getcwd()"
   ]
  },
  {
   "cell_type": "code",
   "execution_count": 3,
   "metadata": {},
   "outputs": [],
   "source": [
    "import pickle\n",
    "\n",
    "import matplotlib.pyplot as plt\n",
    "import matplotlib.gridspec as gs\n",
    "from mpl_toolkits.axes_grid1.inset_locator import inset_axes, mark_inset\n",
    "import seaborn as sns\n",
    "import numpy as np\n",
    "\n",
    "from ezephys import pltools\n",
    "from grr.Tools import dashedBorder, raiseExpectedGot, assertAllAlmostSame\n",
    "from grr.cell_class import Cell, Recording, max_normalize_channel"
   ]
  },
  {
   "cell_type": "code",
   "execution_count": 4,
   "metadata": {},
   "outputs": [],
   "source": [
    "DATA_PATH = os.path.join('data', 'processed', 'gating')\n",
    "IMG_PATH = os.path.join('figs', 'ims', 'writeup', 'fig1')\n",
    "NOTEBOOK_PATH = os.path.join('figs', 'scripts', 'writeup')\n",
    "\n",
    "plt.style.use(os.path.join(NOTEBOOK_PATH, 'publication_figure_style.dms'))"
   ]
  },
  {
   "cell_type": "markdown",
   "metadata": {},
   "source": [
    "Load curves."
   ]
  },
  {
   "cell_type": "code",
   "execution_count": 5,
   "metadata": {},
   "outputs": [],
   "source": [
    "pdata = {}\n",
    "for fname in os.listdir(DATA_PATH):\n",
    "    if 'pdata' in fname:\n",
    "        with open(os.path.join(DATA_PATH, fname), 'rb') as f:\n",
    "            pdata[fname.split('_')[0]] = pickle.load(f)\n",
    "            f.close()\n",
    "    else:\n",
    "        continue\n",
    "\n",
    "fittedpts = {}\n",
    "for fname in os.listdir(DATA_PATH):\n",
    "    if 'fittedpts' in fname:\n",
    "        with open(os.path.join(DATA_PATH, fname), 'rb') as f:\n",
    "            fittedpts[fname.split('_')[0]] = pickle.load(f)\n",
    "            f.close()\n",
    "    else:\n",
    "        continue\n",
    "        \n",
    "with open(os.path.join(DATA_PATH, 'gating_params.dat'), 'rb') as f:\n",
    "    params = pickle.load(f)\n",
    "    f.close()"
   ]
  },
  {
   "cell_type": "code",
   "execution_count": 6,
   "metadata": {},
   "outputs": [
    {
     "data": {
      "text/html": [
       "<div>\n",
       "<style scoped>\n",
       "    .dataframe tbody tr th:only-of-type {\n",
       "        vertical-align: middle;\n",
       "    }\n",
       "\n",
       "    .dataframe tbody tr th {\n",
       "        vertical-align: top;\n",
       "    }\n",
       "\n",
       "    .dataframe thead th {\n",
       "        text-align: right;\n",
       "    }\n",
       "</style>\n",
       "<table border=\"1\" class=\"dataframe\">\n",
       "  <thead>\n",
       "    <tr style=\"text-align: right;\">\n",
       "      <th></th>\n",
       "      <th>h</th>\n",
       "      <th>m</th>\n",
       "      <th>n</th>\n",
       "    </tr>\n",
       "  </thead>\n",
       "  <tbody>\n",
       "    <tr>\n",
       "      <th>A</th>\n",
       "      <td>1.025027</td>\n",
       "      <td>1.612950</td>\n",
       "      <td>1.547850</td>\n",
       "    </tr>\n",
       "    <tr>\n",
       "      <th>k</th>\n",
       "      <td>-0.164914</td>\n",
       "      <td>0.098484</td>\n",
       "      <td>0.216088</td>\n",
       "    </tr>\n",
       "    <tr>\n",
       "      <th>V_half</th>\n",
       "      <td>-59.193314</td>\n",
       "      <td>-23.675046</td>\n",
       "      <td>-24.303697</td>\n",
       "    </tr>\n",
       "  </tbody>\n",
       "</table>\n",
       "</div>"
      ],
      "text/plain": [
       "                h          m          n\n",
       "A        1.025027   1.612950   1.547850\n",
       "k       -0.164914   0.098484   0.216088\n",
       "V_half -59.193314 -23.675046 -24.303697"
      ]
     },
     "execution_count": 6,
     "metadata": {},
     "output_type": "execute_result"
    }
   ],
   "source": [
    "params"
   ]
  },
  {
   "cell_type": "markdown",
   "metadata": {},
   "source": [
    "Load sample trace."
   ]
  },
  {
   "cell_type": "code",
   "execution_count": 7,
   "metadata": {},
   "outputs": [],
   "source": [
    "TRACE_PATH = './data/raw/5HT/gating/'\n",
    "\n",
    "beautiful_gating_1 = Cell().read_ABF([TRACE_PATH + '18619018.abf',\n",
    "                                      TRACE_PATH + '18619019.abf',\n",
    "                                      TRACE_PATH + '18619020.abf'])\n",
    "beautiful_gating_1 = Recording(np.array(beautiful_gating_1).mean(axis = 0))\n",
    "beautiful_gating_1.set_dt(0.1)"
   ]
  },
  {
   "cell_type": "markdown",
   "metadata": {},
   "source": [
    "# Trace plot"
   ]
  },
  {
   "cell_type": "code",
   "execution_count": 8,
   "metadata": {},
   "outputs": [
    {
     "name": "stderr",
     "output_type": "stream",
     "text": [
      "/miniconda3/envs/neopozz/lib/python2.7/site-packages/matplotlib/figure.py:2267: UserWarning: This figure includes Axes that are not compatible with tight_layout, so results might be incorrect.\n",
      "  warnings.warn(\"This figure includes Axes that are not compatible \"\n"
     ]
    },
    {
     "data": {
      "image/png": "[encoded data removed]",
      "text/plain": [
       "<Figure size 204x120 with 4 Axes>"
      ]
     },
     "metadata": {
      "needs_background": "light"
     },
     "output_type": "display_data"
    }
   ],
   "source": [
    "spec_trace = gs.GridSpec(2, 1, height_ratios=[1, 0.2], hspace=0, left=0.05, bottom=0.05, right=0.9, top=0.95)\n",
    "\n",
    "plt.figure(figsize=(1.7, 1))\n",
    "\n",
    "act_ax = plt.subplot(spec_trace[0, :])\n",
    "Kslow_xlim = (2450, 8500)\n",
    "plt.plot(\n",
    "    beautiful_gating_1.t_mat[0, :, -2::-3],\n",
    "    beautiful_gating_1[0, :, -2::-3], '-',\n",
    "    linewidth = 0.7, color=colors['ser']\n",
    ")\n",
    "plt.annotate(\n",
    "    r'$n_\\infty$', (5500, 170),\n",
    "    xytext = (-10, 10), textcoords = 'offset points', ha = 'center',\n",
    "    arrowprops = {'arrowstyle': '->'},\n",
    "    color=colors['n']\n",
    ")\n",
    "plt.xlim(Kslow_xlim)\n",
    "plt.ylim(-100, 850)\n",
    "pltools.add_scalebar(\n",
    "    'ms', 'pA', anchor = (0.9, 0.15),\n",
    "    x_label_space = -0.02, y_label_space=-0.05, y_size = 100, x_size = 500, bar_space = 0,\n",
    "    linewidth=sbarlw\n",
    ")\n",
    "\n",
    "act_ins = inset_axes(act_ax, '20%', '40%', loc = 'upper left', borderpad = 1.1)\n",
    "act_ins.plot(\n",
    "    beautiful_gating_1.t_mat[0, :, -2::-3],\n",
    "    beautiful_gating_1[0, :, -2::-3], '-',\n",
    "    linewidth = 0.7, color=colors['ser']\n",
    ")\n",
    "plt.annotate(\n",
    "    r'$m_\\infty$', (2625, 705),\n",
    "    xytext = (5, -5), textcoords = 'offset points',\n",
    "    arrowprops = {'arrowstyle': '->'},\n",
    "    color=colors['m']\n",
    ")\n",
    "dashedBorder(act_ins, lw=insetlw)\n",
    "pltools.hide_ticks()\n",
    "plt.xlim(2590, 2850)\n",
    "plt.ylim(-50, 850)\n",
    "mark_inset(act_ax, act_ins, loc1 = 1, loc2 = 4, ls = '--', color = 'gray', lw = insetlw)\n",
    "\n",
    "inact_ins = inset_axes(act_ax, '20%', '40%', loc = 'upper right', borderpad = 1.1)\n",
    "inact_ins.plot(\n",
    "    beautiful_gating_1.t_mat[0, :, -3::-3],\n",
    "    beautiful_gating_1[0, :, -3::-3], '-',\n",
    "    linewidth = 0.7, color=colors['ser']\n",
    ")\n",
    "plt.annotate(\n",
    "    r'$h_\\infty$', (5630, 600),\n",
    "    xytext = (5, -5), textcoords = 'offset points',\n",
    "    arrowprops = {'arrowstyle': '->'},\n",
    "    color=colors['h']\n",
    ")\n",
    "dashedBorder(inact_ins, lw=insetlw)\n",
    "#pltools.add_scalebar(y_units = 'pA', x_units = 'ms', remove_frame = False, ax = inact_ins)\n",
    "pltools.hide_ticks()\n",
    "plt.xlim(5550, 5900)\n",
    "plt.ylim(-50, 800)\n",
    "mark_inset(act_ax, inact_ins, loc1 = 1, loc2 = 4, ls = '--', color = 'gray', lw = insetlw)\n",
    "\n",
    "plt.subplot(spec_trace[1, :])\n",
    "plt.plot(\n",
    "    beautiful_gating_1.t_mat[1, :, -2::-3],\n",
    "    beautiful_gating_1[1, :, -2::-3], '-',\n",
    "    color = 'gray'\n",
    ")\n",
    "plt.xlim(Kslow_xlim)\n",
    "plt.text(Kslow_xlim[1], -22, '$-20$mV', ha = 'right', va = 'top', size = 'small')\n",
    "pltools.add_scalebar(y_units = 'mV', omit_x = True, anchor = (0.8, 0.1), linewidth=sbarlw)\n",
    "\n",
    "plt.tight_layout()\n",
    "\n",
    "if IMG_PATH is not None:\n",
    "    plt.savefig(os.path.join(IMG_PATH, 'ser_gating_experiment.png'))\n",
    "    plt.savefig(os.path.join(IMG_PATH, 'ser_gating_experiment.svg'))"
   ]
  },
  {
   "cell_type": "code",
   "execution_count": 9,
   "metadata": {},
   "outputs": [
    {
     "data": {
      "image/png": "[encoded data removed]",
      "text/plain": [
       "<Figure size 204x120 with 1 Axes>"
      ]
     },
     "metadata": {
      "needs_background": "light"
     },
     "output_type": "display_data"
    }
   ],
   "source": [
    "plt.figure(figsize=(1.7, 1))\n",
    "\n",
    "plt.subplot(111)\n",
    "plt.plot(pdata['peakact'][1, :, 0], pdata['peakact'][0, :, 0], color=colors['m'], label=r'$m_\\infty$')\n",
    "plt.plot(pdata['peakact'][1, :, 1:], pdata['peakact'][0, :, 1:], color=colors['m'])\n",
    "\n",
    "plt.plot(pdata['peakinact'][1, :, 0], pdata['peakinact'][0, :, 0], color=colors['h'], label=r'$h_\\infty$')\n",
    "plt.plot(pdata['peakinact'][1, :, 1:], pdata['peakinact'][0, :, 1:], color=colors['h'])\n",
    "\n",
    "plt.plot(pdata['ss'][1, :, 0], pdata['ss'][0, :, 0], color=colors['n'], label=r'$n_\\infty$')\n",
    "plt.plot(pdata['ss'][1, :, 1:], pdata['ss'][0, :, 1:], color=colors['n'])\n",
    "\n",
    "plt.yticks([0, 5, 10, 15])\n",
    "plt.ylabel('$g$ (nS)')\n",
    "plt.xlabel('$V$ (mV)')\n",
    "\n",
    "plt.legend(loc='upper center')\n",
    "pltools.hide_border('tr', trim=True)\n",
    "\n",
    "plt.subplots_adjust(left=0.2, bottom=0.25, top=0.95, right=0.95)\n",
    "\n",
    "if IMG_PATH is not None:\n",
    "    plt.savefig(os.path.join(IMG_PATH, 'ser_unnormalized_gating_curves.png'))\n",
    "    plt.savefig(os.path.join(IMG_PATH, 'ser_unnormalized_gating_curves.svg'))"
   ]
  },
  {
   "cell_type": "markdown",
   "metadata": {},
   "source": [
    "Normalize conductance values."
   ]
  },
  {
   "cell_type": "code",
   "execution_count": 10,
   "metadata": {},
   "outputs": [],
   "source": [
    "for key in pdata:\n",
    "    pdata[key][0, ...] = max_normalize_channel(pdata[key][0, ...])"
   ]
  },
  {
   "cell_type": "markdown",
   "metadata": {},
   "source": [
    "# Gating plot"
   ]
  },
  {
   "cell_type": "code",
   "execution_count": 11,
   "metadata": {},
   "outputs": [],
   "source": [
    "def get_plot_coordinates_with_error(pdata, error_type='sem'):\n",
    "    if error_type not in ['std', 'sem']:\n",
    "        raiseExpectedGot('`std` or `sem`', 'argument `error_type`', error_type)\n",
    "        \n",
    "    # Ensure voltages are same for all observations.\n",
    "    for i in range(pdata.shape[1]):\n",
    "        assertAllAlmostSame(pdata[1, i, :])  # Voltage channel should be [1, :, :]\n",
    "    \n",
    "    x = pdata[1, ...].mean(axis=1)\n",
    "    y_mean = pdata[0, ...].mean(axis=1)\n",
    "    y_std = pdata[0, ...].std(axis=1)\n",
    "    if error_type == 'sem':\n",
    "        y_err = y_std / np.sqrt(pdata.shape[2])\n",
    "    elif error_type == 'std':\n",
    "        y_err = y_std\n",
    "    else:\n",
    "        raise RuntimeError('Unexpectedly reached end of switch.')\n",
    "    \n",
    "    return {'x': x, 'y': y_mean, 'yerr': y_err}"
   ]
  },
  {
   "cell_type": "code",
   "execution_count": 12,
   "metadata": {},
   "outputs": [
    {
     "data": {
      "image/png": "[encoded data removed]",
      "text/plain": [
       "<Figure size 204x120 with 1 Axes>"
      ]
     },
     "metadata": {
      "needs_background": "light"
     },
     "output_type": "display_data"
    }
   ],
   "source": [
    "plt_params = {'ls': 'none', 'capsize': 2, 'ecolor': 'gray', 'markersize': 3, 'markeredgecolor': 'none'}\n",
    "\n",
    "plt.figure(figsize=(1.7, 1))\n",
    "\n",
    "plt.errorbar(\n",
    "    marker='o', label='$m_\\infty$', color=colors['m'],\n",
    "    **dict(plt_params, **get_plot_coordinates_with_error(pdata['peakact']))\n",
    ")\n",
    "plt.errorbar(\n",
    "    marker='s', label='$h_\\infty$', color=colors['h'],\n",
    "    **dict(plt_params, **get_plot_coordinates_with_error(pdata['peakinact']))\n",
    ")\n",
    "plt.errorbar(\n",
    "    marker='^', label='$n_\\infty$', color=colors['n'],\n",
    "    **dict(plt_params, **get_plot_coordinates_with_error(pdata['ss']))\n",
    ")\n",
    "for key in fittedpts:\n",
    "    plt.plot(\n",
    "        fittedpts[key][1, :], \n",
    "        fittedpts[key][0, :], \n",
    "        '--', \n",
    "        color=colors['fit'],\n",
    "        alpha=0.8,\n",
    "        lw=1, \n",
    "        dashes=(5, 2), \n",
    "        zorder=100\n",
    "    )\n",
    "plt.yticks([0, 0.5, 1])\n",
    "plt.xlabel('$V$ (mV)')\n",
    "plt.ylabel(r'$g/g_{-20 \\mathrm{mV}}$')\n",
    "plt.legend(loc='upper center')\n",
    "\n",
    "sns.despine(trim=True)\n",
    "\n",
    "plt.subplots_adjust(left=0.2, bottom=0.26, top=0.95, right=0.95)\n",
    "\n",
    "if IMG_PATH is not None:\n",
    "    plt.savefig(os.path.join(IMG_PATH, 'ser_gating_curves.png'))\n",
    "    plt.savefig(os.path.join(IMG_PATH, 'ser_gating_curves.svg'))"
   ]
  }
 ],
 "metadata": {
  "kernelspec": {
   "display_name": "Python 2",
   "language": "python",
   "name": "python2"
  },
  "language_info": {
   "codemirror_mode": {
    "name": "ipython",
    "version": 2
   },
   "file_extension": ".py",
   "mimetype": "text/x-python",
   "name": "python",
   "nbconvert_exporter": "python",
   "pygments_lexer": "ipython2",
   "version": "2.7.15"
  }
 },
 "nbformat": 4,
 "nbformat_minor": 2
}

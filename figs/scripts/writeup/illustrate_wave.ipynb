{
 "cells": [
  {
   "cell_type": "code",
   "execution_count": 1,
   "metadata": {},
   "outputs": [],
   "source": [
    "from common import colors, sbarlw, savefig"
   ]
  },
  {
   "cell_type": "code",
   "execution_count": 2,
   "metadata": {},
   "outputs": [
    {
     "name": "stdout",
     "output_type": "stream",
     "text": [
      "/home/eharkin/projects/5HTGIF-dev\n"
     ]
    }
   ],
   "source": [
    "import os\n",
    "os.chdir(os.path.join('..', '..', '..'))\n",
    "print(os.getcwd())"
   ]
  },
  {
   "cell_type": "code",
   "execution_count": 3,
   "metadata": {},
   "outputs": [],
   "source": [
    "import re\n",
    "import pickle\n",
    "\n",
    "import matplotlib.pyplot as plt\n",
    "import matplotlib.gridspec as gs\n",
    "import numpy as np\n",
    "import pandas as pd\n",
    "from ezephys import pltools\n",
    "\n",
    "from grr.Spiketrain import PSTH\n",
    "from grr.Simulation import GIFnet_Simulation\n",
    "from grr.Tools import reprint"
   ]
  },
  {
   "cell_type": "code",
   "execution_count": 4,
   "metadata": {},
   "outputs": [],
   "source": [
    "plt.style.use(os.path.join('figs', 'scripts', 'writeup', 'publication_figure_style.dms'))\n",
    "IMG_PATH = os.path.join('figs', 'ims', 'writeup', 'GIF_network')"
   ]
  },
  {
   "cell_type": "code",
   "execution_count": 5,
   "metadata": {},
   "outputs": [],
   "source": [
    "def infer_gaba_condition(dir_name):\n",
    "    regex_match = re.search(r'GABA_(.*)', dir_name)\n",
    "    if regex_match is not None:\n",
    "        condition = regex_match.groups()[-1]\n",
    "    elif 'endocannabinoid' == dir_name:\n",
    "        condition = 'endocannabinoid'\n",
    "    else:\n",
    "        raise ValueError('Unrecognized GABA condition {}'.format(dir_name))\n",
    "    return condition"
   ]
  },
  {
   "cell_type": "code",
   "execution_count": 6,
   "metadata": {},
   "outputs": [
    {
     "data": {
      "text/html": [
       "<div>\n",
       "<style scoped>\n",
       "    .dataframe tbody tr th:only-of-type {\n",
       "        vertical-align: middle;\n",
       "    }\n",
       "\n",
       "    .dataframe tbody tr th {\n",
       "        vertical-align: top;\n",
       "    }\n",
       "\n",
       "    .dataframe thead th {\n",
       "        text-align: right;\n",
       "    }\n",
       "</style>\n",
       "<table border=\"1\" class=\"dataframe\">\n",
       "  <thead>\n",
       "    <tr style=\"text-align: right;\">\n",
       "      <th></th>\n",
       "      <th>Circuit</th>\n",
       "      <th>Condition</th>\n",
       "      <th>Experiment</th>\n",
       "      <th>Mod type</th>\n",
       "      <th>Model</th>\n",
       "      <th>Rep</th>\n",
       "    </tr>\n",
       "  </thead>\n",
       "  <tbody>\n",
       "    <tr>\n",
       "      <th>0</th>\n",
       "      <td>mPFC</td>\n",
       "      <td>KO</td>\n",
       "      <td>wave_input</td>\n",
       "      <td>base</td>\n",
       "      <td>[ser]</td>\n",
       "      <td>0</td>\n",
       "    </tr>\n",
       "    <tr>\n",
       "      <th>1</th>\n",
       "      <td>mPFC</td>\n",
       "      <td>KO</td>\n",
       "      <td>wave_input_baseline_offset</td>\n",
       "      <td>base</td>\n",
       "      <td>[ser]</td>\n",
       "      <td>0</td>\n",
       "    </tr>\n",
       "    <tr>\n",
       "      <th>2</th>\n",
       "      <td>mPFC</td>\n",
       "      <td>KO</td>\n",
       "      <td>wave_input</td>\n",
       "      <td>base</td>\n",
       "      <td>[ser]</td>\n",
       "      <td>1</td>\n",
       "    </tr>\n",
       "    <tr>\n",
       "      <th>3</th>\n",
       "      <td>mPFC</td>\n",
       "      <td>KO</td>\n",
       "      <td>wave_input_baseline_offset</td>\n",
       "      <td>base</td>\n",
       "      <td>[ser]</td>\n",
       "      <td>1</td>\n",
       "    </tr>\n",
       "    <tr>\n",
       "      <th>4</th>\n",
       "      <td>mPFC</td>\n",
       "      <td>KO</td>\n",
       "      <td>wave_input</td>\n",
       "      <td>base</td>\n",
       "      <td>[ser]</td>\n",
       "      <td>2</td>\n",
       "    </tr>\n",
       "  </tbody>\n",
       "</table>\n",
       "</div>"
      ],
      "text/plain": [
       "  Circuit Condition                  Experiment Mod type  Model  Rep\n",
       "0    mPFC        KO                  wave_input     base  [ser]    0\n",
       "1    mPFC        KO  wave_input_baseline_offset     base  [ser]    0\n",
       "2    mPFC        KO                  wave_input     base  [ser]    1\n",
       "3    mPFC        KO  wave_input_baseline_offset     base  [ser]    1\n",
       "4    mPFC        KO                  wave_input     base  [ser]    2"
      ]
     },
     "execution_count": 6,
     "metadata": {},
     "output_type": "execute_result"
    }
   ],
   "source": [
    "DATA_PATH = os.path.join('data', 'simulations', 'GIF_network')\n",
    "\n",
    "sim_dict = {'Circuit': [], 'Mod type': [], 'Condition': [], 'Rep': [], 'Model': [], 'Experiment': []}\n",
    "\n",
    "experiments = ['wave_input', 'wave_input_baseline_offset']\n",
    "network_models = [\n",
    "    'DRN_subsample_base',\n",
    "    'mPFC_base'\n",
    "]\n",
    "\n",
    "for experiment in experiments:\n",
    "    for network_model in network_models:\n",
    "        for gaba_condition in os.listdir(os.path.join(DATA_PATH, experiment, network_model)):\n",
    "            for fname in os.listdir(os.path.join(DATA_PATH, experiment, network_model, gaba_condition)):\n",
    "                if fname.endswith(('hdf5', 'h5')):\n",
    "\n",
    "                    sim_dict['Experiment'].append(experiment)\n",
    "                    sim_dict['Circuit'].append(\n",
    "                        re.search(r'(DRN|mPFC)_(.*)', network_model).groups()[-2]\n",
    "                    )\n",
    "                    sim_dict['Mod type'].append(\n",
    "                        re.search(r'(DRN|mPFC)_(.*)', network_model).groups()[-1]\n",
    "                    )\n",
    "                    sim_dict['Condition'].append(infer_gaba_condition(gaba_condition))\n",
    "                    sim_dict['Rep'].append(\n",
    "                        int(re.search(r'rep([0-9]+)', fname).groups()[-1])\n",
    "                    )\n",
    "                    sim_dict['Model'].append(\n",
    "                        GIFnet_Simulation(\n",
    "                            os.path.join(DATA_PATH, experiment, network_model, gaba_condition, fname), \n",
    "                            mode = 'r'\n",
    "                        )\n",
    "                    )\n",
    "\n",
    "sim_df = pd.DataFrame(sim_dict).sort_values(['Mod type', 'Condition', 'Rep'])\n",
    "sim_df.reset_index(inplace=True, drop=True)\n",
    "sim_df.head()"
   ]
  },
  {
   "cell_type": "code",
   "execution_count": 7,
   "metadata": {},
   "outputs": [],
   "source": [
    "sim_df['Principal PSTH'] = None\n",
    "sim_df['Principal PSTH'] = sim_df['Principal PSTH'].astype(object)\n",
    "sim_df['GABA PSTH'] = None\n",
    "sim_df['GABA PSTH'] = sim_df['GABA PSTH'].astype(object)"
   ]
  },
  {
   "cell_type": "code",
   "execution_count": 8,
   "metadata": {},
   "outputs": [],
   "source": [
    "model_input = {}\n",
    "\n",
    "with open(os.path.join(DATA_PATH, 'wave_input', 'wave_input.dat'), 'rb') as f:\n",
    "    model_input['baseline'] = pickle.load(f)\n",
    "    f.close()\n",
    "    \n",
    "with open(os.path.join(DATA_PATH, 'wave_input_baseline_offset', 'wave_input.dat'), 'rb') as f:\n",
    "    model_input['baseline_offset'] = pickle.load(f)\n",
    "    f.close()"
   ]
  },
  {
   "cell_type": "code",
   "execution_count": 9,
   "metadata": {},
   "outputs": [
    {
     "name": "stdout",
     "output_type": "stream",
     "text": [
      "Computing PSTH 99.2%\n",
      "Done!\n"
     ]
    }
   ],
   "source": [
    "PSTH_width = 50.\n",
    "\n",
    "for i in range(sim_df.shape[0]):\n",
    "    reprint('Computing PSTH {:.1f}%'.format(100. * i / sim_df.shape[0]))\n",
    "    \n",
    "    # Get PSTH from 5HT population.\n",
    "    sim_df.at[i, 'Principal PSTH'] = np.empty((\n",
    "        sim_df.loc[i, 'Model'].get_no_sweeps(), \n",
    "        sim_df.loc[i, 'Model'].get_no_timesteps()\n",
    "    ))\n",
    "    for sweep_no in range(sim_df.loc[i, 'Model'].get_no_sweeps()):\n",
    "        sim_df.loc[i, 'Principal PSTH'][sweep_no, :] = PSTH(\n",
    "            sim_df.loc[i, 'Model'].ser_spktrains[sweep_no, ...].sum(axis = 0),\n",
    "            PSTH_width,\n",
    "            sim_df.loc[i, 'Model'].get_no_ser_neurons()\n",
    "        )\n",
    "    \n",
    "    # Get PSTHs from GABA population.\n",
    "    if sim_df.loc[i, 'Condition'] != 'KO':\n",
    "        sim_df.at[i, 'GABA PSTH'] = np.empty((\n",
    "            sim_df.loc[i, 'Model'].get_no_sweeps(), \n",
    "            sim_df.loc[i, 'Model'].get_no_timesteps()\n",
    "        ))\n",
    "        for sweep_no in range(sim_df.loc[i, 'Model'].get_no_sweeps()):\n",
    "            sim_df.loc[i, 'GABA PSTH'][sweep_no, :] = PSTH(\n",
    "                sim_df.loc[i, 'Model'].gaba_spktrains[sweep_no, ...].sum(axis = 0),\n",
    "                PSTH_width,\n",
    "                sim_df.loc[i, 'Model'].get_no_gaba_neurons()\n",
    "            )\n",
    "    else:\n",
    "        sim_df.loc[i, 'GABA PSTH'] = None\n",
    "        continue\n",
    "\n",
    "print('\\nDone!')"
   ]
  },
  {
   "cell_type": "code",
   "execution_count": 10,
   "metadata": {},
   "outputs": [],
   "source": [
    "def select_sample_dataset(dframe, circuit, condition, mod_type, rep_num, experiment):\n",
    "    return dframe.loc[\n",
    "        (dframe['Circuit'] == circuit)\n",
    "        & (dframe['Condition'] == condition) \n",
    "        & (dframe['Mod type'] == mod_type)\n",
    "        & (dframe['Rep'] == rep_num)\n",
    "        & (dframe['Experiment'] == experiment), \n",
    "        'Model'\n",
    "    ].item()"
   ]
  },
  {
   "cell_type": "code",
   "execution_count": 11,
   "metadata": {},
   "outputs": [],
   "source": [
    "def select_PSTH_dataset(dframe, circuit, condition, mod_type, experiment, psth_type='Principal PSTH'):\n",
    "    return dframe.loc[\n",
    "        (dframe['Circuit'] == circuit)\n",
    "        & (dframe['Condition'] == condition) \n",
    "        & (dframe['Mod type'] == mod_type)\n",
    "        & (dframe['Experiment'] == experiment), \n",
    "        psth_type\n",
    "    ].item()"
   ]
  },
  {
   "cell_type": "code",
   "execution_count": 12,
   "metadata": {},
   "outputs": [
    {
     "data": {
      "text/html": [
       "<div>\n",
       "<style scoped>\n",
       "    .dataframe tbody tr th:only-of-type {\n",
       "        vertical-align: middle;\n",
       "    }\n",
       "\n",
       "    .dataframe tbody tr th {\n",
       "        vertical-align: top;\n",
       "    }\n",
       "\n",
       "    .dataframe thead th {\n",
       "        text-align: right;\n",
       "    }\n",
       "</style>\n",
       "<table border=\"1\" class=\"dataframe\">\n",
       "  <thead>\n",
       "    <tr style=\"text-align: right;\">\n",
       "      <th></th>\n",
       "      <th>Circuit</th>\n",
       "      <th>Condition</th>\n",
       "      <th>Experiment</th>\n",
       "      <th>Mod type</th>\n",
       "      <th>Model</th>\n",
       "      <th>Rep</th>\n",
       "      <th>Principal PSTH</th>\n",
       "      <th>GABA PSTH</th>\n",
       "    </tr>\n",
       "  </thead>\n",
       "  <tbody>\n",
       "    <tr>\n",
       "      <th>0</th>\n",
       "      <td>mPFC</td>\n",
       "      <td>KO</td>\n",
       "      <td>wave_input</td>\n",
       "      <td>base</td>\n",
       "      <td>[ser]</td>\n",
       "      <td>0</td>\n",
       "      <td>[[1.1333333333333335, 1.1333333333333335, 1.13...</td>\n",
       "      <td>None</td>\n",
       "    </tr>\n",
       "    <tr>\n",
       "      <th>1</th>\n",
       "      <td>mPFC</td>\n",
       "      <td>KO</td>\n",
       "      <td>wave_input_baseline_offset</td>\n",
       "      <td>base</td>\n",
       "      <td>[ser]</td>\n",
       "      <td>0</td>\n",
       "      <td>[[1.8333333333333333, 1.8333333333333333, 1.83...</td>\n",
       "      <td>None</td>\n",
       "    </tr>\n",
       "    <tr>\n",
       "      <th>2</th>\n",
       "      <td>mPFC</td>\n",
       "      <td>KO</td>\n",
       "      <td>wave_input</td>\n",
       "      <td>base</td>\n",
       "      <td>[ser]</td>\n",
       "      <td>1</td>\n",
       "      <td>[[0.6666666666666667, 0.6666666666666667, 0.73...</td>\n",
       "      <td>None</td>\n",
       "    </tr>\n",
       "    <tr>\n",
       "      <th>3</th>\n",
       "      <td>mPFC</td>\n",
       "      <td>KO</td>\n",
       "      <td>wave_input_baseline_offset</td>\n",
       "      <td>base</td>\n",
       "      <td>[ser]</td>\n",
       "      <td>1</td>\n",
       "      <td>[[1.3333333333333335, 1.3333333333333335, 1.33...</td>\n",
       "      <td>None</td>\n",
       "    </tr>\n",
       "    <tr>\n",
       "      <th>4</th>\n",
       "      <td>mPFC</td>\n",
       "      <td>KO</td>\n",
       "      <td>wave_input</td>\n",
       "      <td>base</td>\n",
       "      <td>[ser]</td>\n",
       "      <td>2</td>\n",
       "      <td>[[0.7666666666666667, 0.7666666666666667, 0.76...</td>\n",
       "      <td>None</td>\n",
       "    </tr>\n",
       "  </tbody>\n",
       "</table>\n",
       "</div>"
      ],
      "text/plain": [
       "  Circuit Condition                  Experiment Mod type  Model  Rep  \\\n",
       "0    mPFC        KO                  wave_input     base  [ser]    0   \n",
       "1    mPFC        KO  wave_input_baseline_offset     base  [ser]    0   \n",
       "2    mPFC        KO                  wave_input     base  [ser]    1   \n",
       "3    mPFC        KO  wave_input_baseline_offset     base  [ser]    1   \n",
       "4    mPFC        KO                  wave_input     base  [ser]    2   \n",
       "\n",
       "                                      Principal PSTH GABA PSTH  \n",
       "0  [[1.1333333333333335, 1.1333333333333335, 1.13...      None  \n",
       "1  [[1.8333333333333333, 1.8333333333333333, 1.83...      None  \n",
       "2  [[0.6666666666666667, 0.6666666666666667, 0.73...      None  \n",
       "3  [[1.3333333333333335, 1.3333333333333335, 1.33...      None  \n",
       "4  [[0.7666666666666667, 0.7666666666666667, 0.76...      None  "
      ]
     },
     "execution_count": 12,
     "metadata": {},
     "output_type": "execute_result"
    }
   ],
   "source": [
    "sim_df.head()"
   ]
  },
  {
   "cell_type": "code",
   "execution_count": 13,
   "metadata": {},
   "outputs": [],
   "source": [
    "psth_dict = {'Circuit': [], 'Mod type': [], 'Condition': [], 'Experiment': [], 'Principal PSTH': [], 'GABA PSTH': []}\n",
    "for experiment in sim_df['Experiment'].unique():\n",
    "    for circuit in sim_df['Circuit'].unique():\n",
    "        for modtype in sim_df.loc[sim_df['Circuit'] == circuit, 'Mod type'].unique():\n",
    "            for cond in sim_df.loc[(sim_df['Circuit'] == circuit) & (sim_df['Mod type'] == modtype), 'Condition'].unique():\n",
    "                psth_dict['Circuit'].append(circuit)\n",
    "                psth_dict['Mod type'].append(modtype)\n",
    "                psth_dict['Condition'].append(cond)\n",
    "                psth_dict['Experiment'].append(experiment)\n",
    "                psth_dict['Principal PSTH'].append(np.array(\n",
    "                    sim_df.loc[\n",
    "                        (sim_df['Circuit'] == circuit) \n",
    "                        & (sim_df['Condition'] == cond) \n",
    "                        & (sim_df['Mod type'] == modtype)\n",
    "                        & (sim_df['Experiment'] == experiment), \n",
    "                        'Principal PSTH'\n",
    "                    ].tolist()\n",
    "                ))\n",
    "                psth_dict['GABA PSTH'].append(np.array(\n",
    "                    sim_df.loc[\n",
    "                        (sim_df['Circuit'] == circuit) \n",
    "                        & (sim_df['Condition'] == cond) \n",
    "                        & (sim_df['Mod type'] == modtype)\n",
    "                        & (sim_df['Experiment'] == experiment), \n",
    "                        'GABA PSTH'\n",
    "                    ].tolist()\n",
    "                ))\n",
    "psth_df = pd.DataFrame(psth_dict)\n",
    "del psth_dict"
   ]
  },
  {
   "cell_type": "code",
   "execution_count": 14,
   "metadata": {},
   "outputs": [],
   "source": [
    "def get_spike_times(spike_trains, dt):\n",
    "    spike_trains = np.asarray(spike_trains)\n",
    "    \n",
    "    spike_times = []\n",
    "    for train_ind in range(spike_trains.shape[0]):\n",
    "        spk_indices = np.where(spike_trains[train_ind, :] > 0.5)[0]\n",
    "        spike_times.append(spk_indices * dt)\n",
    "    \n",
    "    return spike_times"
   ]
  },
  {
   "cell_type": "code",
   "execution_count": 15,
   "metadata": {},
   "outputs": [],
   "source": [
    "def set_spike_apex(voltage_traces, spike_apex):\n",
    "    voltage_traces[voltage_traces == 0.] = spike_apex\n",
    "    return voltage_traces"
   ]
  },
  {
   "cell_type": "code",
   "execution_count": 16,
   "metadata": {},
   "outputs": [],
   "source": [
    "num_sample_neurons = 20"
   ]
  },
  {
   "cell_type": "markdown",
   "metadata": {},
   "source": [
    "# PSTH overlay"
   ]
  },
  {
   "cell_type": "code",
   "execution_count": 17,
   "metadata": {},
   "outputs": [
    {
     "name": "stderr",
     "output_type": "stream",
     "text": [
      "/home/eharkin/miniconda3/envs/neopozz/lib/python2.7/site-packages/matplotlib/figure.py:2267: UserWarning: This figure includes Axes that are not compatible with tight_layout, so results might be incorrect.\n",
      "  warnings.warn(\"This figure includes Axes that are not compatible \"\n"
     ]
    },
    {
     "name": "stdout",
     "output_type": "stream",
     "text": [
      "Saving svg\n",
      "Saving png\n",
      "Done!\n"
     ]
    },
    {
     "data": {
      "image/png": "[encoded data removed]",
      "text/plain": [
       "<Figure size 360x180 with 2 Axes>"
      ]
     },
     "metadata": {
      "needs_background": "light"
     },
     "output_type": "display_data"
    }
   ],
   "source": [
    "dt=1e-4\n",
    "\n",
    "psth_by_celltype = {\n",
    "    'ser': select_PSTH_dataset(psth_df, 'DRN', 'KO', 'subsample_base', 'wave_input', 'Principal PSTH')[0, 0, :],\n",
    "    'som': select_PSTH_dataset(psth_df, 'DRN', 'base', 'subsample_base', 'wave_input', 'GABA PSTH')[0, 0, :],\n",
    "    'pyr': select_PSTH_dataset(psth_df, 'mPFC', 'KO', 'base', 'wave_input', 'Principal PSTH')[0, 0, :]\n",
    "}\n",
    "\n",
    "t_vec = np.arange(0, (len(psth_by_celltype['ser']) - 0.5) * dt, dt)\n",
    "\n",
    "spec = gs.GridSpec(2, 1, height_ratios=[0.1, 1], hspace=0.1, left=0.2, right=0.95, bottom=0.2, top=0.95)\n",
    "\n",
    "plt.figure(figsize=(3, 1.5))\n",
    "\n",
    "plt.subplot(spec[0, :])\n",
    "plt.plot(t_vec, model_input['baseline']['ser_input'][0, 0, :], color=colors['input'])\n",
    "plt.xlim(0, 14)\n",
    "pltools.hide_border('a')\n",
    "\n",
    "plt.subplot(spec[1, :])\n",
    "plt.ylabel('Normalized\\npop. firing rate')\n",
    "plt.xlabel('Time (s)')\n",
    "plt.axhline(1, color='k', ls='--', lw=0.5, dashes=(10, 10))\n",
    "for celltype in ['ser', 'som', 'pyr']:\n",
    "    plt.plot(\n",
    "        t_vec, \n",
    "        psth_by_celltype[celltype] / psth_by_celltype[celltype][39000:40000].mean(), \n",
    "        color=colors[celltype],\n",
    "        alpha=0.9\n",
    "    )\n",
    "    \n",
    "plt.xlim(0, 14)\n",
    "pltools.hide_border('tr', trim=True)\n",
    "\n",
    "plt.tight_layout()\n",
    "\n",
    "if IMG_PATH is not None:\n",
    "    savefig(os.path.join(IMG_PATH, 'pop_psth_overlay'))"
   ]
  },
  {
   "cell_type": "markdown",
   "metadata": {},
   "source": [
    "# Individual cell types"
   ]
  },
  {
   "cell_type": "code",
   "execution_count": 40,
   "metadata": {},
   "outputs": [],
   "source": [
    "def get_plot_components(sim_df, psth_df, selection, dt=1e-4):\n",
    "    if selection['cell_type'] not in ['som', 'ser', 'pyr']:\n",
    "        raise ValueError(\n",
    "            'Expected `cell_type` to be ser, som, or pyr, got '\n",
    "            '{}'.format(selection['cell_type'])\n",
    "        )\n",
    "    sample_attr_prefix = 'gaba' if selection['cell_type'] == 'som' else 'ser'\n",
    "    \n",
    "    sample_dataset = select_sample_dataset(\n",
    "        sim_df, \n",
    "        selection['circuit'], \n",
    "        selection['condition'], \n",
    "        selection['mod_type'], \n",
    "        selection['rep_num'], \n",
    "        selection['baseline_condition']\n",
    "    )\n",
    "    sample_v_trace = getattr(\n",
    "        sample_dataset,\n",
    "        sample_attr_prefix+'_examples'\n",
    "    )['V'][0, selection.get('v_trace_num', 1), :]\n",
    "    sample_v_trace = set_spike_apex(sample_v_trace, 40.)\n",
    "\n",
    "    t_vec = np.arange(0, (len(sample_v_trace) - 0.5) * dt, dt)\n",
    "\n",
    "    raster_dset = getattr(\n",
    "        sample_dataset,\n",
    "        sample_attr_prefix+'_spktrains'\n",
    "    )[0, :num_sample_neurons, :]\n",
    "    spk_times = get_spike_times(raster_dset, dt)\n",
    "\n",
    "    psth_dset = select_PSTH_dataset(\n",
    "        psth_df, \n",
    "        selection['circuit'],\n",
    "        selection['condition'],\n",
    "        selection['mod_type'], \n",
    "        selection['baseline_condition'], \n",
    "        'GABA PSTH' if selection['cell_type'] == 'som' else 'Principal PSTH'\n",
    "    )[0, 0, :]\n",
    "    \n",
    "    return {'time': t_vec, 'voltage': sample_v_trace, 'spk_times': spk_times, 'psth': psth_dset}"
   ]
  },
  {
   "cell_type": "code",
   "execution_count": 57,
   "metadata": {},
   "outputs": [],
   "source": [
    "def pop_sample_plot(\n",
    "    plot_components, color, ax=None, psth_ylim=None, xlim=None, xbar_size=1, draw_scales=True\n",
    "):\n",
    "    if ax is None:\n",
    "        ax = plt.gca()\n",
    "        \n",
    "    spec = gs.GridSpecFromSubplotSpec(\n",
    "        4, 1, ax, height_ratios=[0.2, 1, 0.5, 1], \n",
    "        hspace=0.05,\n",
    "    )\n",
    "    \n",
    "    I_ax = plt.subplot(spec[0, :])\n",
    "    plt.plot(\n",
    "        plot_components['time'], \n",
    "        model_input['baseline']['ser_input'][0, 0, :], \n",
    "        color=colors['input']\n",
    "    )\n",
    "    if xlim is not None:\n",
    "        plt.xlim(xlim)\n",
    "    if draw_scales:\n",
    "        pltools.add_scalebar(\n",
    "            y_units='nA', y_size=0.1, anchor=(0, 0.1), \n",
    "            round=False, omit_x=True, linewidth=sbarlw\n",
    "        )\n",
    "    else:\n",
    "        pltools.hide_border('a')\n",
    "        pltools.hide_ticks()\n",
    "\n",
    "    plt.subplot(spec[1, :])\n",
    "    plt.plot(plot_components['time'], plot_components['voltage'], color=color)\n",
    "    plt.xlim(I_ax.get_xlim())\n",
    "    if draw_scales:\n",
    "        pltools.add_scalebar(\n",
    "            's', 'mV', x_size=xbar_size, anchor=(0.1, 0.5), \n",
    "            bar_space=0, linewidth=sbarlw, round=False if xbar_size < 1 else True\n",
    "        )\n",
    "    else:\n",
    "        pltools.hide_border('a')\n",
    "        pltools.hide_ticks()\n",
    "\n",
    "    plt.subplot(spec[2, :])\n",
    "    plt.eventplot(plot_components['spk_times'], color=color)\n",
    "    plt.xlim(I_ax.get_xlim())\n",
    "    pltools.hide_border('a')\n",
    "    pltools.hide_ticks()\n",
    "\n",
    "    plt.subplot(spec[3, :])\n",
    "    plt.plot(plot_components['time'], plot_components['psth'], color=color)\n",
    "    plt.xlim(I_ax.get_xlim())\n",
    "    if psth_ylim is not None:\n",
    "        plt.ylim(psth_ylim)\n",
    "    if draw_scales:\n",
    "        plt.yticks([0, 15, 30, 45])\n",
    "        plt.ylabel('Pop. firing rate\\n(Hz/neuron)')\n",
    "        pltools.hide_border('trb', trim=True)\n",
    "    else:\n",
    "        pltools.hide_border('a')\n"
   ]
  },
  {
   "cell_type": "code",
   "execution_count": 45,
   "metadata": {},
   "outputs": [
    {
     "name": "stdout",
     "output_type": "stream",
     "text": [
      "Saving svg\n",
      "Saving png\n",
      "Done!\n"
     ]
    },
    {
     "data": {
      "image/png": "[encoded data removed]",
      "text/plain": [
       "<Figure size 240x180 with 4 Axes>"
      ]
     },
     "metadata": {
      "needs_background": "light"
     },
     "output_type": "display_data"
    }
   ],
   "source": [
    "plt.figure(figsize=(2, 1.5))\n",
    "\n",
    "ser_plot_components = get_plot_components(\n",
    "    sim_df, \n",
    "    psth_df, \n",
    "    {\n",
    "        'circuit': 'DRN', \n",
    "        'condition': 'KO', \n",
    "        'mod_type': 'subsample_base', \n",
    "        'rep_num': 0, \n",
    "        'cell_type': 'ser',\n",
    "        'baseline_condition': 'wave_input'\n",
    "    }\n",
    ")\n",
    "pop_sample_plot(ser_plot_components, colors['ser'], psth_ylim=(-3, 45))\n",
    "\n",
    "if IMG_PATH is not None:\n",
    "    savefig(os.path.join(IMG_PATH, 'ser_population_sample'))"
   ]
  },
  {
   "cell_type": "code",
   "execution_count": 50,
   "metadata": {},
   "outputs": [
    {
     "name": "stdout",
     "output_type": "stream",
     "text": [
      "Saving svg\n",
      "Saving png\n",
      "Done!\n"
     ]
    },
    {
     "data": {
      "image/png": "[encoded data removed]",
      "text/plain": [
       "<Figure size 240x180 with 4 Axes>"
      ]
     },
     "metadata": {
      "needs_background": "light"
     },
     "output_type": "display_data"
    }
   ],
   "source": [
    "plt.figure(figsize=(2, 1.5))\n",
    "\n",
    "ser_plot_components = get_plot_components(\n",
    "    sim_df, \n",
    "    psth_df, \n",
    "    {\n",
    "        'circuit': 'DRN', \n",
    "        'condition': 'KO', \n",
    "        'mod_type': 'subsample_base', \n",
    "        'rep_num': 0, \n",
    "        'cell_type': 'ser',\n",
    "        'baseline_condition': 'wave_input'\n",
    "    }\n",
    ")\n",
    "pop_sample_plot(\n",
    "    ser_plot_components, colors['ser'], psth_ylim=(-3, 45), xlim=(9.5, 13.5), xbar_size=0.5,\n",
    ")\n",
    "\n",
    "if IMG_PATH is not None:\n",
    "    savefig(os.path.join(IMG_PATH, 'ser_population_square_step_only'))"
   ]
  },
  {
   "cell_type": "code",
   "execution_count": 46,
   "metadata": {},
   "outputs": [
    {
     "name": "stdout",
     "output_type": "stream",
     "text": [
      "Saving svg\n",
      "Saving png\n",
      "Done!\n"
     ]
    },
    {
     "data": {
      "image/png": "[encoded data removed]",
      "text/plain": [
       "<Figure size 240x180 with 4 Axes>"
      ]
     },
     "metadata": {
      "needs_background": "light"
     },
     "output_type": "display_data"
    }
   ],
   "source": [
    "plt.figure(figsize=(2, 1.5))\n",
    "\n",
    "ser_plot_components = get_plot_components(\n",
    "    sim_df, \n",
    "    psth_df, \n",
    "    {\n",
    "        'circuit': 'DRN', \n",
    "        'condition': 'KO', \n",
    "        'mod_type': 'subsample_base', \n",
    "        'rep_num': 0, \n",
    "        'cell_type': 'ser',\n",
    "        'baseline_condition': 'wave_input_baseline_offset'\n",
    "    }\n",
    ")\n",
    "pop_sample_plot(ser_plot_components, colors['ser'])\n",
    "\n",
    "if IMG_PATH is not None:\n",
    "    savefig(os.path.join(IMG_PATH, 'ser_population_baseline_offset_sample'))"
   ]
  },
  {
   "cell_type": "markdown",
   "metadata": {},
   "source": [
    "# SOM"
   ]
  },
  {
   "cell_type": "code",
   "execution_count": 61,
   "metadata": {},
   "outputs": [
    {
     "name": "stdout",
     "output_type": "stream",
     "text": [
      "Saving svg\n",
      "Saving png\n",
      "Done!\n"
     ]
    },
    {
     "data": {
      "image/png": "[encoded data removed]",
      "text/plain": [
       "<Figure size 360x240 with 4 Axes>"
      ]
     },
     "metadata": {
      "needs_background": "light"
     },
     "output_type": "display_data"
    }
   ],
   "source": [
    "ser_plot_components = get_plot_components(\n",
    "    sim_df, \n",
    "    psth_df, \n",
    "    {\n",
    "        'circuit': 'DRN', \n",
    "        'condition': 'base', \n",
    "        'mod_type': 'subsample_base', \n",
    "        'rep_num': 0, \n",
    "        'cell_type': 'som',\n",
    "        'v_trace_num': 5,\n",
    "        'baseline_condition': 'wave_input',\n",
    "    }\n",
    ")\n",
    "pop_sample_plot(ser_plot_components, colors['som'], psth_ylim=(-3, 45))\n",
    "\n",
    "if IMG_PATH is not None:\n",
    "    savefig(os.path.join(IMG_PATH, 'som_population_sample'))"
   ]
  },
  {
   "cell_type": "code",
   "execution_count": 58,
   "metadata": {},
   "outputs": [
    {
     "name": "stdout",
     "output_type": "stream",
     "text": [
      "Saving svg\n",
      "Saving png\n",
      "Done!\n"
     ]
    },
    {
     "data": {
      "image/png": "[encoded data removed]",
      "text/plain": [
       "<Figure size 240x180 with 4 Axes>"
      ]
     },
     "metadata": {},
     "output_type": "display_data"
    }
   ],
   "source": [
    "plt.figure(figsize=(2, 1.5))\n",
    "\n",
    "ser_plot_components = get_plot_components(\n",
    "    sim_df, \n",
    "    psth_df, \n",
    "    {\n",
    "        'circuit': 'DRN', \n",
    "        'condition': 'base', \n",
    "        'mod_type': 'subsample_base', \n",
    "        'rep_num': 0, \n",
    "        'cell_type': 'som',\n",
    "        'baseline_condition': 'wave_input',\n",
    "        'v_trace_num': 5,\n",
    "    }\n",
    ")\n",
    "pop_sample_plot(\n",
    "    ser_plot_components, colors['som'], psth_ylim=(-3, 45), xlim=(9.5, 13.5), xbar_size=0.5,\n",
    "    draw_scales=False\n",
    ")\n",
    "\n",
    "if IMG_PATH is not None:\n",
    "    savefig(os.path.join(IMG_PATH, 'som_population_square_step_only'))"
   ]
  },
  {
   "cell_type": "code",
   "execution_count": 54,
   "metadata": {},
   "outputs": [
    {
     "name": "stdout",
     "output_type": "stream",
     "text": [
      "Saving svg\n",
      "Saving png\n",
      "Done!\n"
     ]
    },
    {
     "data": {
      "image/png": "[encoded data removed]",
      "text/plain": [
       "<Figure size 240x180 with 4 Axes>"
      ]
     },
     "metadata": {
      "needs_background": "light"
     },
     "output_type": "display_data"
    }
   ],
   "source": [
    "plt.figure(figsize=(2, 1.5))\n",
    "\n",
    "ser_plot_components = get_plot_components(\n",
    "    sim_df, \n",
    "    psth_df, \n",
    "    {\n",
    "        'circuit': 'DRN', \n",
    "        'condition': 'base', \n",
    "        'mod_type': 'subsample_base', \n",
    "        'rep_num': 0, \n",
    "        'cell_type': 'som',\n",
    "        'baseline_condition': 'wave_input_baseline_offset',\n",
    "        'v_trace_num': 5\n",
    "    }\n",
    ")\n",
    "pop_sample_plot(ser_plot_components, colors['som'])\n",
    "\n",
    "if IMG_PATH is not None:\n",
    "    savefig(os.path.join(IMG_PATH, 'som_population_baseline_offset_sample'))"
   ]
  },
  {
   "cell_type": "markdown",
   "metadata": {},
   "source": [
    "# mPFC"
   ]
  },
  {
   "cell_type": "code",
   "execution_count": 55,
   "metadata": {},
   "outputs": [
    {
     "data": {
      "image/png": "[encoded data removed]",
      "text/plain": [
       "<Figure size 360x240 with 4 Axes>"
      ]
     },
     "metadata": {
      "needs_background": "light"
     },
     "output_type": "display_data"
    }
   ],
   "source": [
    "ser_plot_components = get_plot_components(\n",
    "    sim_df, \n",
    "    psth_df, \n",
    "    {\n",
    "        'circuit': 'mPFC', \n",
    "        'condition': 'KO', \n",
    "        'mod_type': 'base', \n",
    "        'rep_num': 0, \n",
    "        'cell_type': 'pyr',\n",
    "        'baseline_condition': 'wave_input',\n",
    "    }\n",
    ")\n",
    "pop_sample_plot(ser_plot_components, colors['pyr'], psth_ylim=(-3, 45))\n",
    "\n",
    "if IMG_PATH is not None:\n",
    "    plt.savefig(os.path.join(IMG_PATH, 'mPFC_population_sample'))"
   ]
  },
  {
   "cell_type": "code",
   "execution_count": 59,
   "metadata": {},
   "outputs": [
    {
     "name": "stdout",
     "output_type": "stream",
     "text": [
      "Saving svg\n",
      "Saving png\n",
      "Done!\n"
     ]
    },
    {
     "data": {
      "image/png": "[encoded data removed]",
      "text/plain": [
       "<Figure size 240x180 with 4 Axes>"
      ]
     },
     "metadata": {},
     "output_type": "display_data"
    }
   ],
   "source": [
    "plt.figure(figsize=(2, 1.5))\n",
    "\n",
    "ser_plot_components = get_plot_components(\n",
    "    sim_df, \n",
    "    psth_df, \n",
    "    {\n",
    "        'circuit': 'mPFC', \n",
    "        'condition': 'KO', \n",
    "        'mod_type': 'base', \n",
    "        'rep_num': 0, \n",
    "        'cell_type': 'pyr',\n",
    "        'baseline_condition': 'wave_input'\n",
    "    }\n",
    ")\n",
    "pop_sample_plot(\n",
    "    ser_plot_components, \n",
    "    colors['pyr'], \n",
    "    psth_ylim=(-3, 45), \n",
    "    xlim=(9.5, 13.5), \n",
    "    xbar_size=0.5,\n",
    "    draw_scales=False,\n",
    ")\n",
    "\n",
    "if IMG_PATH is not None:\n",
    "    savefig(os.path.join(IMG_PATH, 'mPFC_population_square_step_only'))"
   ]
  },
  {
   "cell_type": "code",
   "execution_count": 60,
   "metadata": {},
   "outputs": [
    {
     "data": {
      "image/png": "[encoded data removed]",
      "text/plain": [
       "<Figure size 360x240 with 4 Axes>"
      ]
     },
     "metadata": {
      "needs_background": "light"
     },
     "output_type": "display_data"
    }
   ],
   "source": [
    "ser_plot_components = get_plot_components(\n",
    "    sim_df, \n",
    "    psth_df, \n",
    "    {\n",
    "        'circuit': 'mPFC', \n",
    "        'condition': 'KO', \n",
    "        'mod_type': 'base', \n",
    "        'rep_num': 0, \n",
    "        'cell_type': 'pyr',\n",
    "        'baseline_condition': 'wave_input_baseline_offset',\n",
    "    }\n",
    ")\n",
    "pop_sample_plot(ser_plot_components, colors['pyr'], psth_ylim=(-3, 45))\n",
    "\n",
    "if IMG_PATH is not None:\n",
    "    plt.savefig(os.path.join(IMG_PATH, 'mPFC_population_baseline_offset_sample'))"
   ]
  }
 ],
 "metadata": {
  "kernelspec": {
   "display_name": "Python 2",
   "language": "python",
   "name": "python2"
  },
  "language_info": {
   "codemirror_mode": {
    "name": "ipython",
    "version": 2
   },
   "file_extension": ".py",
   "mimetype": "text/x-python",
   "name": "python",
   "nbconvert_exporter": "python",
   "pygments_lexer": "ipython2",
   "version": "2.7.15"
  }
 },
 "nbformat": 4,
 "nbformat_minor": 2
}

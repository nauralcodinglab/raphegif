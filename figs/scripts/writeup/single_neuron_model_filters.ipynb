{
 "cells": [
  {
   "cell_type": "code",
   "execution_count": 1,
   "metadata": {},
   "outputs": [],
   "source": [
    "from colorscheme import colors"
   ]
  },
  {
   "cell_type": "code",
   "execution_count": 2,
   "metadata": {},
   "outputs": [
    {
     "name": "stdout",
     "output_type": "stream",
     "text": [
      "/Users/eharkin/Documents/projects/5HTGIF\n"
     ]
    }
   ],
   "source": [
    "import os\n",
    "os.chdir(os.path.join('..', '..', '..'))\n",
    "print(os.getcwd())"
   ]
  },
  {
   "cell_type": "code",
   "execution_count": 3,
   "metadata": {},
   "outputs": [],
   "source": [
    "import pickle\n",
    "\n",
    "import numpy as np\n",
    "import pandas as pd\n",
    "import matplotlib.pyplot as plt\n",
    "import matplotlib.gridspec as gs\n",
    "from mpl_toolkits.axes_grid1.inset_locator import inset_axes, mark_inset\n",
    "import seaborn as sns\n",
    "from ezephys import pltools\n",
    "\n",
    "from grr.ThresholdModel import constructMedianModel\n",
    "from grr.Tools import dashedBorder"
   ]
  },
  {
   "cell_type": "code",
   "execution_count": 4,
   "metadata": {},
   "outputs": [],
   "source": [
    "plt.style.use(os.path.join('figs', 'scripts', 'writeup', 'publication_figure_style.dms'))\n",
    "IMG_PATH = os.path.join('figs', 'ims', 'writeup', 'GIF_filters')"
   ]
  },
  {
   "cell_type": "code",
   "execution_count": 5,
   "metadata": {},
   "outputs": [],
   "source": [
    "MODEL_PATH = os.path.join('data', 'models')"
   ]
  },
  {
   "cell_type": "code",
   "execution_count": 6,
   "metadata": {},
   "outputs": [],
   "source": [
    "models = {}\n",
    "for celltype in ['GABA', '5HT', 'mPFC']:\n",
    "    models[celltype] = {}\n",
    "    for modtype in ['GIFs', 'AugmentedGIFs']:\n",
    "        with open(os.path.join(MODEL_PATH, celltype, '_'.join([celltype, modtype]) + '.lmod'), 'rb') as f:\n",
    "            models[celltype][modtype] = pickle.load(f)"
   ]
  },
  {
   "cell_type": "markdown",
   "metadata": {},
   "source": [
    "# Publication figures"
   ]
  },
  {
   "cell_type": "code",
   "execution_count": 7,
   "metadata": {},
   "outputs": [],
   "source": [
    "xlims = (0.8, 700)"
   ]
  },
  {
   "cell_type": "markdown",
   "metadata": {},
   "source": [
    "## 5HT"
   ]
  },
  {
   "cell_type": "code",
   "execution_count": 8,
   "metadata": {},
   "outputs": [],
   "source": [
    "medmod = constructMedianModel(type(models['5HT']['GIFs'][0]), models['5HT']['GIFs'])"
   ]
  },
  {
   "cell_type": "code",
   "execution_count": 9,
   "metadata": {},
   "outputs": [
    {
     "data": {
      "image/png": "[encoded data removed]",
      "text/plain": [
       "<Figure size 180x120 with 1 Axes>"
      ]
     },
     "metadata": {
      "needs_background": "light"
     },
     "output_type": "display_data"
    }
   ],
   "source": [
    "plt.figure(figsize=(1.5, 1))\n",
    "\n",
    "plt.subplot(111)\n",
    "for mod in models['5HT']['GIFs']:\n",
    "    t, filt = mod.getInterpolatedMembraneFilter(500, 0.5)\n",
    "    plt.semilogx(t, filt, '-', color='gray')\n",
    "    \n",
    "t, filt = medmod.getInterpolatedMembraneFilter(500, 0.5)\n",
    "plt.semilogx(t, filt, '-', color=colors['ser'], lw=2, label='Median')\n",
    "\n",
    "plt.xlim(xlims)\n",
    "plt.xlabel('Time (ms)')\n",
    "plt.ylabel('Membrane filter\\n(MOhm/ms)')\n",
    "plt.legend()\n",
    "\n",
    "plt.tight_layout()\n",
    "pltools.hide_border('tr')\n",
    "\n",
    "if IMG_PATH is not None:\n",
    "    plt.savefig(os.path.join(IMG_PATH, '5HT_membrane_filt.png'))\n",
    "    plt.savefig(os.path.join(IMG_PATH, '5HT_membrane_filt.svg'))"
   ]
  },
  {
   "cell_type": "code",
   "execution_count": 10,
   "metadata": {
    "lines_to_next_cell": 2
   },
   "outputs": [
    {
     "data": {
      "image/png": "[encoded data removed]",
      "text/plain": [
       "<Figure size 180x120 with 1 Axes>"
      ]
     },
     "metadata": {
      "needs_background": "light"
     },
     "output_type": "display_data"
    }
   ],
   "source": [
    "plt.figure(figsize=(1.5, 1))\n",
    "\n",
    "plt.subplot(111)\n",
    "for mod in models['5HT']['GIFs']:\n",
    "    t, filt = mod.eta.getInterpolatedFilter(0.5)\n",
    "    plt.semilogx(t, filt, '-', color='gray')\n",
    "    \n",
    "t, filt = medmod.eta.getInterpolatedFilter(0.5)\n",
    "plt.semilogx(t, filt, '-', color=colors['ser'], lw=2, label='Median')\n",
    "\n",
    "plt.xlim(xlims)\n",
    "plt.xlabel('Time (ms)')\n",
    "plt.ylabel('$\\eta$ (nA)')\n",
    "plt.legend()\n",
    "\n",
    "plt.tight_layout()\n",
    "pltools.hide_border('tr')\n",
    "\n",
    "if IMG_PATH is not None:\n",
    "    plt.savefig(os.path.join(IMG_PATH, '5HT_eta_filt.png'))\n",
    "    plt.savefig(os.path.join(IMG_PATH, '5HT_eta_filt.svg'))"
   ]
  },
  {
   "cell_type": "code",
   "execution_count": 11,
   "metadata": {},
   "outputs": [
    {
     "data": {
      "image/png": "[encoded data removed]",
      "text/plain": [
       "<Figure size 180x120 with 1 Axes>"
      ]
     },
     "metadata": {
      "needs_background": "light"
     },
     "output_type": "display_data"
    }
   ],
   "source": [
    "plt.figure(figsize=(1.5, 1))\n",
    "\n",
    "plt.subplot(111)\n",
    "for mod in models['5HT']['GIFs']:\n",
    "    t, filt = mod.gamma.getInterpolatedFilter(0.5)\n",
    "    plt.semilogx(t, filt, '-', color='gray')\n",
    "    \n",
    "t, filt = medmod.gamma.getInterpolatedFilter(0.5)\n",
    "plt.semilogx(t, filt, '-', color=colors['ser'], lw=2, label='Median')\n",
    "\n",
    "plt.xlim(xlims)\n",
    "plt.xlabel('Time (ms)')\n",
    "plt.ylabel('$\\gamma$ (mV)')\n",
    "plt.legend()\n",
    "\n",
    "plt.tight_layout()\n",
    "pltools.hide_border('tr')\n",
    "\n",
    "if IMG_PATH is not None:\n",
    "    plt.savefig(os.path.join(IMG_PATH, '5HT_gamma_filt.png'))\n",
    "    plt.savefig(os.path.join(IMG_PATH, '5HT_gamma_filt.svg'))\n"
   ]
  },
  {
   "cell_type": "markdown",
   "metadata": {},
   "source": [
    "# SOM"
   ]
  },
  {
   "cell_type": "code",
   "execution_count": 12,
   "metadata": {},
   "outputs": [],
   "source": [
    "medmod = constructMedianModel(type(models['GABA']['GIFs'][0]), models['GABA']['GIFs'])"
   ]
  },
  {
   "cell_type": "code",
   "execution_count": 13,
   "metadata": {
    "lines_to_next_cell": 2
   },
   "outputs": [
    {
     "data": {
      "image/png": "[encoded data removed]",
      "text/plain": [
       "<Figure size 180x120 with 1 Axes>"
      ]
     },
     "metadata": {
      "needs_background": "light"
     },
     "output_type": "display_data"
    }
   ],
   "source": [
    "plt.figure(figsize=(1.5, 1))\n",
    "\n",
    "plt.subplot(111)\n",
    "for mod in models['GABA']['GIFs']:\n",
    "    t, filt = mod.getInterpolatedMembraneFilter(500, 0.5)\n",
    "    plt.semilogx(t, filt, '-', color='gray')\n",
    "    \n",
    "t, filt = medmod.getInterpolatedMembraneFilter(500, 0.5)\n",
    "plt.semilogx(t, filt, '-', color=colors['som'], lw=2, label='Median')\n",
    "    \n",
    "plt.xlim(xlims)\n",
    "plt.xlabel('Time (ms)')\n",
    "plt.ylabel('Membrane filter\\n(MOhm/ms)')\n",
    "plt.legend()\n",
    "\n",
    "plt.tight_layout()\n",
    "pltools.hide_border('tr')\n",
    "\n",
    "if IMG_PATH is not None:\n",
    "    plt.savefig(os.path.join(IMG_PATH, 'GABA_membrane_filt.png'))\n",
    "    plt.savefig(os.path.join(IMG_PATH, 'GABA_membrane_filt.svg'))"
   ]
  },
  {
   "cell_type": "code",
   "execution_count": 14,
   "metadata": {
    "lines_to_next_cell": 2
   },
   "outputs": [
    {
     "data": {
      "image/png": "[encoded data removed]",
      "text/plain": [
       "<Figure size 180x120 with 1 Axes>"
      ]
     },
     "metadata": {
      "needs_background": "light"
     },
     "output_type": "display_data"
    }
   ],
   "source": [
    "plt.figure(figsize=(1.5, 1))\n",
    "\n",
    "plt.subplot(111)\n",
    "for mod in models['GABA']['GIFs']:\n",
    "    t, filt = mod.eta.getInterpolatedFilter(0.5)\n",
    "    plt.semilogx(t, filt, '-', color='gray')\n",
    "    \n",
    "t, filt = medmod.eta.getInterpolatedFilter(0.5)\n",
    "plt.semilogx(t, filt, '-', color=colors['som'], lw=2, label='Median')\n",
    "    \n",
    "plt.xlim(xlims)\n",
    "plt.xlabel('Time (ms)')\n",
    "plt.ylabel('$\\eta$ (nA)')\n",
    "plt.legend()\n",
    "\n",
    "plt.tight_layout()\n",
    "pltools.hide_border('tr')\n",
    "\n",
    "if IMG_PATH is not None:\n",
    "    plt.savefig(os.path.join(IMG_PATH, 'GABA_eta_filt.png'))\n",
    "    plt.savefig(os.path.join(IMG_PATH, 'GABA_eta_filt.svg'))"
   ]
  },
  {
   "cell_type": "code",
   "execution_count": 15,
   "metadata": {},
   "outputs": [
    {
     "data": {
      "image/png": "[encoded data removed]",
      "text/plain": [
       "<Figure size 180x120 with 1 Axes>"
      ]
     },
     "metadata": {
      "needs_background": "light"
     },
     "output_type": "display_data"
    }
   ],
   "source": [
    "plt.figure(figsize=(1.5, 1))\n",
    "\n",
    "plt.subplot(111)\n",
    "for mod in models['GABA']['GIFs']:\n",
    "    t, filt = mod.gamma.getInterpolatedFilter(0.5)\n",
    "    plt.semilogx(t, filt, '-', color='gray')\n",
    "    \n",
    "t, filt = medmod.gamma.getInterpolatedFilter(0.5)\n",
    "plt.semilogx(t, filt, '-', color=colors['som'], lw=2, label='Median')\n",
    "    \n",
    "plt.xlim(xlims)\n",
    "plt.xlabel('Time (ms)')\n",
    "plt.ylabel('$\\gamma$ (mV)')\n",
    "plt.legend()\n",
    "\n",
    "plt.tight_layout()\n",
    "pltools.hide_border('tr')\n",
    "\n",
    "if IMG_PATH is not None:\n",
    "    plt.savefig(os.path.join(IMG_PATH, 'GABA_gamma_filt.png'))\n",
    "    plt.savefig(os.path.join(IMG_PATH, 'GABA_gamma_filt.svg'))\n"
   ]
  },
  {
   "cell_type": "markdown",
   "metadata": {},
   "source": [
    "# mPFC"
   ]
  },
  {
   "cell_type": "code",
   "execution_count": 16,
   "metadata": {},
   "outputs": [],
   "source": [
    "medmod = constructMedianModel(type(models['mPFC']['GIFs'][0]), models['mPFC']['GIFs'])"
   ]
  },
  {
   "cell_type": "code",
   "execution_count": 17,
   "metadata": {
    "lines_to_next_cell": 2
   },
   "outputs": [
    {
     "data": {
      "image/png": "[encoded data removed]",
      "text/plain": [
       "<Figure size 180x120 with 1 Axes>"
      ]
     },
     "metadata": {
      "needs_background": "light"
     },
     "output_type": "display_data"
    }
   ],
   "source": [
    "\n",
    "plt.figure(figsize=(1.5, 1))\n",
    "\n",
    "plt.subplot(111)\n",
    "for mod in models['mPFC']['GIFs']:\n",
    "    t, filt = mod.getInterpolatedMembraneFilter(500, 0.5)\n",
    "    plt.semilogx(t, filt, '-', color='gray')\n",
    "    \n",
    "t, filt = medmod.getInterpolatedMembraneFilter(500, 0.5)\n",
    "plt.semilogx(t, filt, '-', color=colors['pyr'], lw=2, label='Median')\n",
    "    \n",
    "plt.xlim(xlims)\n",
    "plt.xlabel('Time (ms)')\n",
    "plt.ylabel('Membrane filter\\n(MOhm/ms)')\n",
    "plt.legend()\n",
    "\n",
    "plt.tight_layout()\n",
    "pltools.hide_border('tr')\n",
    "\n",
    "if IMG_PATH is not None:\n",
    "    plt.savefig(os.path.join(IMG_PATH, 'mPFC_membrane_filt.png'))\n",
    "    plt.savefig(os.path.join(IMG_PATH, 'mPFC_membrane_filt.svg'))"
   ]
  },
  {
   "cell_type": "code",
   "execution_count": 18,
   "metadata": {
    "lines_to_next_cell": 2
   },
   "outputs": [
    {
     "data": {
      "image/png": "[encoded data removed]",
      "text/plain": [
       "<Figure size 180x120 with 1 Axes>"
      ]
     },
     "metadata": {
      "needs_background": "light"
     },
     "output_type": "display_data"
    }
   ],
   "source": [
    "plt.figure(figsize=(1.5, 1))\n",
    "\n",
    "plt.subplot(111)\n",
    "for mod in models['mPFC']['GIFs']:\n",
    "    t, filt = mod.eta.getInterpolatedFilter(0.5)\n",
    "    plt.semilogx(t, filt, '-', color='gray')\n",
    "    \n",
    "t, filt = medmod.eta.getInterpolatedFilter(0.5)\n",
    "plt.semilogx(t, filt, '-', color=colors['pyr'], lw=2, label='Median')\n",
    "    \n",
    "plt.xlim(xlims)\n",
    "plt.xlabel('Time (ms)')\n",
    "plt.ylabel('$\\eta$ (nA)')\n",
    "plt.legend()\n",
    "\n",
    "plt.tight_layout()\n",
    "pltools.hide_border('tr')\n",
    "\n",
    "if IMG_PATH is not None:\n",
    "    plt.savefig(os.path.join(IMG_PATH, 'mPFC_eta_filt.png'))\n",
    "    plt.savefig(os.path.join(IMG_PATH, 'mPFC_eta_filt.svg'))"
   ]
  },
  {
   "cell_type": "code",
   "execution_count": 19,
   "metadata": {},
   "outputs": [
    {
     "data": {
      "image/png": "[encoded data removed]",
      "text/plain": [
       "<Figure size 180x120 with 1 Axes>"
      ]
     },
     "metadata": {
      "needs_background": "light"
     },
     "output_type": "display_data"
    }
   ],
   "source": [
    "plt.figure(figsize=(1.5, 1))\n",
    "\n",
    "plt.subplot(111)\n",
    "for mod in models['mPFC']['GIFs']:\n",
    "    t, filt = mod.gamma.getInterpolatedFilter(0.5)\n",
    "    plt.semilogx(t, filt, '-', color='gray')\n",
    "    \n",
    "t, filt = medmod.gamma.getInterpolatedFilter(0.5)\n",
    "plt.semilogx(t, filt, '-', color=colors['pyr'], lw=2, label='Median')\n",
    "    \n",
    "plt.xlim(xlims)\n",
    "plt.xlabel('Time (ms)')\n",
    "plt.ylabel('$\\gamma$ (mV)')\n",
    "plt.legend()\n",
    "\n",
    "plt.tight_layout()\n",
    "pltools.hide_border('tr')\n",
    "\n",
    "if IMG_PATH is not None:\n",
    "    plt.savefig(os.path.join(IMG_PATH, 'mPFC_gamma_filt.png'))\n",
    "    plt.savefig(os.path.join(IMG_PATH, 'mPFC_gamma_filt.svg'))"
   ]
  },
  {
   "cell_type": "markdown",
   "metadata": {},
   "source": [
    "# Compare median filters across cell types"
   ]
  },
  {
   "cell_type": "code",
   "execution_count": 20,
   "metadata": {},
   "outputs": [],
   "source": [
    "median_models = {\n",
    "    '5HT': constructMedianModel(type(models['5HT']['GIFs'][0]), models['5HT']['GIFs']),\n",
    "    'GABA': constructMedianModel(type(models['GABA']['GIFs'][0]), models['GABA']['GIFs']),\n",
    "    'mPFC': constructMedianModel(type(models['mPFC']['GIFs'][0]), models['mPFC']['GIFs'])\n",
    "}"
   ]
  },
  {
   "cell_type": "code",
   "execution_count": 21,
   "metadata": {},
   "outputs": [
    {
     "data": {
      "image/png": "[encoded data removed]",
      "text/plain": [
       "<Figure size 180x120 with 1 Axes>"
      ]
     },
     "metadata": {
      "needs_background": "light"
     },
     "output_type": "display_data"
    }
   ],
   "source": [
    "plt.figure(figsize=(1.5, 1))\n",
    "\n",
    "plt.subplot(111)\n",
    "for mod_name, color_name in zip(['5HT', 'GABA', 'mPFC'], ['ser', 'som', 'pyr']):\n",
    "    t, filt = median_models[mod_name].getInterpolatedMembraneFilter(500, 0.5)\n",
    "    plt.semilogx(t, filt, lw=2, color=colors[color_name], label=mod_name)\n",
    "    \n",
    "plt.xlim(xlims)\n",
    "plt.xlabel('Time (ms)')\n",
    "plt.ylabel('Membrane filter\\n(MOhm/ms)')\n",
    "\n",
    "plt.tight_layout()\n",
    "pltools.hide_border('tr')\n",
    "\n",
    "if IMG_PATH is not None:\n",
    "    plt.savefig(os.path.join(IMG_PATH, 'membrane_filter_celltype_comparison.png'))\n",
    "    plt.savefig(os.path.join(IMG_PATH, 'membrane_filter_celltype_comparison.svg'))"
   ]
  },
  {
   "cell_type": "code",
   "execution_count": 22,
   "metadata": {},
   "outputs": [
    {
     "data": {
      "image/png": "[encoded data removed]",
      "text/plain": [
       "<Figure size 180x120 with 1 Axes>"
      ]
     },
     "metadata": {
      "needs_background": "light"
     },
     "output_type": "display_data"
    }
   ],
   "source": [
    "plt.figure(figsize=(1.5, 1))\n",
    "\n",
    "plt.subplot(111)\n",
    "for mod_name, color_name in zip(['5HT', 'GABA', 'mPFC'], ['ser', 'som', 'pyr']):\n",
    "    t, filt = median_models[mod_name].eta.getInterpolatedFilter(0.5)\n",
    "    plt.semilogx(t, filt, lw=2, color=colors[color_name], label=mod_name)\n",
    "    \n",
    "plt.xlim(xlims)\n",
    "plt.xlabel('Time (ms)')\n",
    "plt.ylabel('$\\eta$ (nA)')\n",
    "\n",
    "plt.tight_layout()\n",
    "pltools.hide_border('tr')\n",
    "\n",
    "if IMG_PATH is not None:\n",
    "    plt.savefig(os.path.join(IMG_PATH, 'eta_filter_celltype_comparison.png'))\n",
    "    plt.savefig(os.path.join(IMG_PATH, 'eta_filter_celltype_comparison.svg'))"
   ]
  },
  {
   "cell_type": "code",
   "execution_count": 23,
   "metadata": {},
   "outputs": [
    {
     "name": "stderr",
     "output_type": "stream",
     "text": [
      "/miniconda3/envs/neopozz/lib/python2.7/site-packages/matplotlib/figure.py:2267: UserWarning: This figure includes Axes that are not compatible with tight_layout, so results might be incorrect.\n",
      "  warnings.warn(\"This figure includes Axes that are not compatible \"\n"
     ]
    },
    {
     "data": {
      "image/png": "[encoded data removed]",
      "text/plain": [
       "<Figure size 180x120 with 2 Axes>"
      ]
     },
     "metadata": {
      "needs_background": "light"
     },
     "output_type": "display_data"
    }
   ],
   "source": [
    "plt.figure(figsize=(1.5, 1))\n",
    "\n",
    "gamma_ax = plt.subplot(111)\n",
    "gamma_inset = inset_axes(gamma_ax, '60%', '60%', loc='upper right', borderpad=0.05)\n",
    "for mod_name, color_name in zip(['5HT', 'GABA', 'mPFC'], ['ser', 'som', 'pyr']):\n",
    "    t, filt = median_models[mod_name].gamma.getInterpolatedFilter(0.5)\n",
    "    gamma_ax.semilogx(t, filt, lw=2, color=colors[color_name], label=mod_name)\n",
    "    gamma_inset.semilogx(t, filt, lw=2, color=colors[color_name], label=mod_name)\n",
    "  \n",
    "gamma_ax.set_xlim(xlims)\n",
    "gamma_ax.set_xlabel('Time (ms)')\n",
    "gamma_ax.set_ylabel('$\\gamma$ (mV)')\n",
    "\n",
    "gamma_inset.set_xlim(0.8, 100)\n",
    "gamma_inset.set_ylim(-5, 50)\n",
    "mark_inset(gamma_ax, gamma_inset, 2, 4, ls='--', color='gray', lw=1.5)\n",
    "dashedBorder(gamma_inset, lw=1.5)\n",
    "pltools.hide_ticks(ax=gamma_inset)\n",
    "\n",
    "plt.tight_layout()\n",
    "pltools.hide_border('tr', ax=gamma_ax)\n",
    "\n",
    "if IMG_PATH is not None:\n",
    "    plt.savefig(os.path.join(IMG_PATH, 'gamma_filter_celltype_comparison.png'))\n",
    "    plt.savefig(os.path.join(IMG_PATH, 'gamma_filter_celltype_comparison.svg'))"
   ]
  }
 ],
 "metadata": {
  "kernelspec": {
   "display_name": "Python 2",
   "language": "python",
   "name": "python2"
  },
  "language_info": {
   "codemirror_mode": {
    "name": "ipython",
    "version": 2
   },
   "file_extension": ".py",
   "mimetype": "text/x-python",
   "name": "python",
   "nbconvert_exporter": "python",
   "pygments_lexer": "ipython2",
   "version": "2.7.15"
  }
 },
 "nbformat": 4,
 "nbformat_minor": 2
}

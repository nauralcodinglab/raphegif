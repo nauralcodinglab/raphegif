{
 "cells": [
  {
   "cell_type": "code",
   "execution_count": 1,
   "metadata": {},
   "outputs": [],
   "source": [
    "from common import colors, pvalue_thresholds, sbarlw, savefig"
   ]
  },
  {
   "cell_type": "code",
   "execution_count": 2,
   "metadata": {},
   "outputs": [
    {
     "name": "stdout",
     "output_type": "stream",
     "text": [
      "/home/eharkin/projects/5HTGIF-dev\n"
     ]
    }
   ],
   "source": [
    "from __future__ import division\n",
    "\n",
    "import os; os.chdir(os.path.join('..', '..', '..'))\n",
    "print os.getcwd()"
   ]
  },
  {
   "cell_type": "code",
   "execution_count": 3,
   "metadata": {},
   "outputs": [],
   "source": [
    "import warnings\n",
    "import re\n",
    "import copy\n",
    "import pickle\n",
    "\n",
    "import pandas as pd\n",
    "import matplotlib.pyplot as plt\n",
    "import matplotlib.gridspec as gs\n",
    "from mpl_toolkits.mplot3d import Axes3D\n",
    "import seaborn as sns\n",
    "import numpy as np\n",
    "from scipy import stats\n",
    "from scipy.interpolate import griddata\n",
    "from tqdm.notebook import tqdm, trange\n",
    "\n",
    "from ezephys import pltools\n",
    "from statannot import add_stat_annotation\n",
    "\n",
    "from grr.Simulation import GIFnet_Simulation\n",
    "from grr.GainEstimator import GainEstimator\n",
    "from grr.Tools import raiseExpectedGot, timeToIndex, reprint\n",
    "from grr.Spiketrain import PSTH\n",
    "from grr.CurveFit import plot_linear_fit"
   ]
  },
  {
   "cell_type": "code",
   "execution_count": 4,
   "metadata": {},
   "outputs": [],
   "source": [
    "plt.style.use(os.path.join('figs', 'scripts', 'writeup', 'publication_figure_style.dms'))\n",
    "IMG_PATH = os.path.join('figs', 'ims', 'writeup', 'GIF_network')"
   ]
  },
  {
   "cell_type": "code",
   "execution_count": 5,
   "metadata": {},
   "outputs": [
    {
     "data": {
      "text/html": [
       "<div>\n",
       "<style scoped>\n",
       "    .dataframe tbody tr th:only-of-type {\n",
       "        vertical-align: middle;\n",
       "    }\n",
       "\n",
       "    .dataframe tbody tr th {\n",
       "        vertical-align: top;\n",
       "    }\n",
       "\n",
       "    .dataframe thead th {\n",
       "        text-align: right;\n",
       "    }\n",
       "</style>\n",
       "<table border=\"1\" class=\"dataframe\">\n",
       "  <thead>\n",
       "    <tr style=\"text-align: right;\">\n",
       "      <th></th>\n",
       "      <th>Baseline level</th>\n",
       "      <th>Model</th>\n",
       "      <th>Rep</th>\n",
       "    </tr>\n",
       "  </thead>\n",
       "  <tbody>\n",
       "    <tr>\n",
       "      <th>0</th>\n",
       "      <td>-0.08</td>\n",
       "      <td>[connectivity_matrix, gaba, ser]</td>\n",
       "      <td>0</td>\n",
       "    </tr>\n",
       "    <tr>\n",
       "      <th>1</th>\n",
       "      <td>-0.06</td>\n",
       "      <td>[connectivity_matrix, gaba, ser]</td>\n",
       "      <td>0</td>\n",
       "    </tr>\n",
       "    <tr>\n",
       "      <th>2</th>\n",
       "      <td>0.02</td>\n",
       "      <td>[connectivity_matrix, gaba, ser]</td>\n",
       "      <td>0</td>\n",
       "    </tr>\n",
       "    <tr>\n",
       "      <th>3</th>\n",
       "      <td>0.04</td>\n",
       "      <td>[connectivity_matrix, gaba, ser]</td>\n",
       "      <td>0</td>\n",
       "    </tr>\n",
       "    <tr>\n",
       "      <th>4</th>\n",
       "      <td>0.06</td>\n",
       "      <td>[connectivity_matrix, gaba, ser]</td>\n",
       "      <td>0</td>\n",
       "    </tr>\n",
       "  </tbody>\n",
       "</table>\n",
       "</div>"
      ],
      "text/plain": [
       "   Baseline level                             Model  Rep\n",
       "0           -0.08  [connectivity_matrix, gaba, ser]    0\n",
       "1           -0.06  [connectivity_matrix, gaba, ser]    0\n",
       "2            0.02  [connectivity_matrix, gaba, ser]    0\n",
       "3            0.04  [connectivity_matrix, gaba, ser]    0\n",
       "4            0.06  [connectivity_matrix, gaba, ser]    0"
      ]
     },
     "execution_count": 5,
     "metadata": {},
     "output_type": "execute_result"
    }
   ],
   "source": [
    "DATA_PATH = os.path.join('data', 'simulations', 'GIF_network', 'deriv_input')\n",
    "\n",
    "sim_dict = {'Baseline level': [], 'Rep': [], 'Model': []}\n",
    "\n",
    "for baseline_level in ['-0.080', '-0.060', '-0.040', '-0.020', '0.000', '0.020', '0.040', '0.060', '0.080']:\n",
    "    for fname in os.listdir(os.path.join(DATA_PATH, '{}_baseline'.format(baseline_level))):\n",
    "        if fname.endswith(('hdf5', 'h5')):\n",
    "\n",
    "            try:\n",
    "                sim_dict['Model'].append(\n",
    "                    GIFnet_Simulation(\n",
    "                        os.path.join(DATA_PATH, '{}_baseline'.format(baseline_level), fname), \n",
    "                        mode = 'r'\n",
    "                    )\n",
    "                )\n",
    "                sim_dict['Baseline level'].append(float(baseline_level))\n",
    "                sim_dict['Rep'].append(\n",
    "                    int(re.search(r'rep([0-9]+)', fname).groups()[-1])\n",
    "                )\n",
    "            except IOError:\n",
    "                print('Problem with {} baseline {}'.format(baseline_level, fname))\n",
    "                continue\n",
    "            \n",
    "\n",
    "sim_df = pd.DataFrame(sim_dict).sort_values(['Rep'])\n",
    "sim_df.reset_index(inplace=True, drop=True)\n",
    "sim_df.head()"
   ]
  },
  {
   "cell_type": "code",
   "execution_count": 6,
   "metadata": {},
   "outputs": [],
   "source": [
    "sim_df['Principal PSTH'] = None\n",
    "sim_df['Principal PSTH'] = sim_df['Principal PSTH'].astype(object)\n",
    "sim_df['GABA PSTH'] = None\n",
    "sim_df['GABA PSTH'] = sim_df['GABA PSTH'].astype(object)"
   ]
  },
  {
   "cell_type": "code",
   "execution_count": 7,
   "metadata": {},
   "outputs": [],
   "source": [
    "sim_df = sim_df.loc[(sim_df['Baseline level'] == 0.04) & (sim_df['Rep'] == 0), :]\n",
    "sim_df.reset_index(inplace=True)"
   ]
  },
  {
   "cell_type": "code",
   "execution_count": 8,
   "metadata": {
    "scrolled": true
   },
   "outputs": [
    {
     "data": {
      "application/vnd.jupyter.widget-view+json": {
       "model_id": "8bc370a3eafe4ea3a914d0ab7c360049",
       "version_major": 2,
       "version_minor": 0
      },
      "text/plain": [
       "SEJveChjaGlsZHJlbj0oRmxvYXRQcm9ncmVzcyh2YWx1ZT0wLjAsIGRlc2NyaXB0aW9uPXUnTW9kZWwnLCBtYXg9MS4wLCBzdHlsZT1Qcm9ncmVzc1N0eWxlKGRlc2NyaXB0aW9uX3dpZHRoPXXigKY=\n"
      ]
     },
     "metadata": {},
     "output_type": "display_data"
    },
    {
     "data": {
      "application/vnd.jupyter.widget-view+json": {
       "model_id": "",
       "version_major": 2,
       "version_minor": 0
      },
      "text/plain": [
       "SEJveChjaGlsZHJlbj0oRmxvYXRQcm9ncmVzcyh2YWx1ZT0wLjAsIGRlc2NyaXB0aW9uPXUnNUhUIHN3ZWVwJywgbWF4PTIwLjAsIHN0eWxlPVByb2dyZXNzU3R5bGUoZGVzY3JpcHRpb25fd2nigKY=\n"
      ]
     },
     "metadata": {},
     "output_type": "display_data"
    },
    {
     "data": {
      "application/vnd.jupyter.widget-view+json": {
       "model_id": "",
       "version_major": 2,
       "version_minor": 0
      },
      "text/plain": [
       "SEJveChjaGlsZHJlbj0oRmxvYXRQcm9ncmVzcyh2YWx1ZT0wLjAsIGRlc2NyaXB0aW9uPXUnR0FCQSBzd2VlcCcsIG1heD0yMC4wLCBzdHlsZT1Qcm9ncmVzc1N0eWxlKGRlc2NyaXB0aW9uX3figKY=\n"
      ]
     },
     "metadata": {},
     "output_type": "display_data"
    },
    {
     "name": "stdout",
     "output_type": "stream",
     "text": [
      "\n",
      "\n",
      "Done!\n"
     ]
    }
   ],
   "source": [
    "PSTH_width = 50.\n",
    "\n",
    "for i in trange(sim_df.shape[0], desc='Model'):\n",
    "    \n",
    "    # Get PSTH from 5HT population.\n",
    "    sim_df.at[i, 'Principal PSTH'] = np.empty((\n",
    "        sim_df.loc[i, 'Model'].get_no_sweeps(), \n",
    "        sim_df.loc[i, 'Model'].get_no_timesteps()\n",
    "    ))\n",
    "    for sweep_no in trange(sim_df.loc[i, 'Model'].get_no_sweeps(), desc='5HT sweep', leave=False):\n",
    "        sim_df.loc[i, 'Principal PSTH'][sweep_no, :] = PSTH(\n",
    "            sim_df.loc[i, 'Model'].ser_spktrains[sweep_no, ...].sum(axis = 0),\n",
    "            PSTH_width,\n",
    "            sim_df.loc[i, 'Model'].get_no_ser_neurons()\n",
    "        )\n",
    "    \n",
    "    # Get PSTHs from GABA population.\n",
    "    sim_df.at[i, 'GABA PSTH'] = np.empty((\n",
    "        sim_df.loc[i, 'Model'].get_no_sweeps(), \n",
    "        sim_df.loc[i, 'Model'].get_no_timesteps()\n",
    "    ))\n",
    "    for sweep_no in trange(sim_df.loc[i, 'Model'].get_no_sweeps(), desc='GABA sweep', leave=False):\n",
    "        sim_df.loc[i, 'GABA PSTH'][sweep_no, :] = PSTH(\n",
    "            sim_df.loc[i, 'Model'].gaba_spktrains[sweep_no, ...].sum(axis = 0),\n",
    "            PSTH_width,\n",
    "            sim_df.loc[i, 'Model'].get_no_gaba_neurons()\n",
    "        )\n",
    "\n",
    "print('\\nDone!')"
   ]
  },
  {
   "cell_type": "code",
   "execution_count": 9,
   "metadata": {},
   "outputs": [
    {
     "data": {
      "text/html": [
       "<div>\n",
       "<style scoped>\n",
       "    .dataframe tbody tr th:only-of-type {\n",
       "        vertical-align: middle;\n",
       "    }\n",
       "\n",
       "    .dataframe tbody tr th {\n",
       "        vertical-align: top;\n",
       "    }\n",
       "\n",
       "    .dataframe thead th {\n",
       "        text-align: right;\n",
       "    }\n",
       "</style>\n",
       "<table border=\"1\" class=\"dataframe\">\n",
       "  <thead>\n",
       "    <tr style=\"text-align: right;\">\n",
       "      <th></th>\n",
       "      <th>index</th>\n",
       "      <th>Baseline level</th>\n",
       "      <th>Model</th>\n",
       "      <th>Rep</th>\n",
       "      <th>Principal PSTH</th>\n",
       "      <th>GABA PSTH</th>\n",
       "    </tr>\n",
       "  </thead>\n",
       "  <tbody>\n",
       "    <tr>\n",
       "      <th>0</th>\n",
       "      <td>3</td>\n",
       "      <td>0.04</td>\n",
       "      <td>[connectivity_matrix, gaba, ser]</td>\n",
       "      <td>0</td>\n",
       "      <td>[[1.7000001668930054, 1.7000001668930054, 1.73...</td>\n",
       "      <td>[[7.300006866455078, 7.300006866455078, 7.3500...</td>\n",
       "    </tr>\n",
       "  </tbody>\n",
       "</table>\n",
       "</div>"
      ],
      "text/plain": [
       "   index  Baseline level                             Model  Rep  \\\n",
       "0      3            0.04  [connectivity_matrix, gaba, ser]    0   \n",
       "\n",
       "                                      Principal PSTH  \\\n",
       "0  [[1.7000001668930054, 1.7000001668930054, 1.73...   \n",
       "\n",
       "                                           GABA PSTH  \n",
       "0  [[7.300006866455078, 7.300006866455078, 7.3500...  "
      ]
     },
     "execution_count": 9,
     "metadata": {},
     "output_type": "execute_result"
    }
   ],
   "source": [
    "sim_df.head()"
   ]
  },
  {
   "cell_type": "code",
   "execution_count": 10,
   "metadata": {},
   "outputs": [],
   "source": [
    "BASELINE_LEVELS = np.array([-0.080, -0.060, -0.040, -0.020, 0, 0.020, 0.040, 0.060, 0.080])\n",
    "deriv_in_pA_s = 100 / (np.logspace(np.log10(100), np.log10(1e4), 20) * 1e-3)\n",
    "sample_trace_model, sample_trace_ser_psth, sample_trace_som_psth = sim_df.loc[\n",
    "    (sim_df['Baseline level'] == BASELINE_LEVELS[6]) & (sim_df['Rep'] == 0), ['Model', 'Principal PSTH', 'GABA PSTH']\n",
    "].iloc[0, :]"
   ]
  },
  {
   "cell_type": "code",
   "execution_count": 11,
   "metadata": {},
   "outputs": [],
   "source": [
    "with open(os.path.join(DATA_PATH, '0.040_baseline', 'input.dat'), 'rb') as f:\n",
    "    input_arr = pickle.load(f)\n",
    "    f.close()"
   ]
  },
  {
   "cell_type": "code",
   "execution_count": 12,
   "metadata": {},
   "outputs": [],
   "source": [
    "SWEEPS_TO_SHOW = [10, 5, 0]\n",
    "TIME_SLICE = slice(19000, 35000)\n",
    "TIME_VEC = np.arange(0, TIME_SLICE.stop - TIME_SLICE.start) * input_arr['metaparams']['dt'] * 1e-3"
   ]
  },
  {
   "cell_type": "code",
   "execution_count": 14,
   "metadata": {},
   "outputs": [
    {
     "name": "stdout",
     "output_type": "stream",
     "text": [
      "Saving svg\n",
      "Saving png\n",
      "Done!\n"
     ]
    },
    {
     "data": {
      "image/png": "[encoded data removed]",
      "text/plain": [
       "<Figure size 720x240 with 15 Axes>"
      ]
     },
     "metadata": {
      "needs_background": "light"
     },
     "output_type": "display_data"
    }
   ],
   "source": [
    "fig = plt.figure(figsize=(6, 2))\n",
    "\n",
    "spec = gs.GridSpec(1, 3, hspace=0.6, wspace=0.6)\n",
    "\n",
    "for i, sweep in enumerate(SWEEPS_TO_SHOW):\n",
    "    ax = plt.subplot(spec[0, i])\n",
    "    \n",
    "    trace_spec = gs.GridSpecFromSubplotSpec(5, 3, spec[0, i], height_ratios=[0.5, 0.7, 1, 0.7, 1])\n",
    "    \n",
    "    plt.subplot(trace_spec[0, :])\n",
    "    plt.title('$dI/dt = {:.1f}$ pA/s'.format(1e3 * input_arr['metaparams']['deriv_in_nA_s'][sweep]))\n",
    "    plt.plot(TIME_VEC, input_arr['ser_input'][sweep, 0, TIME_SLICE].T, color=colors['input'])\n",
    "    plt.xlim(0, TIME_VEC[-1])\n",
    "    if i == 0:\n",
    "        pltools.add_scalebar(\n",
    "            y_size=0.1,\n",
    "            y_units='nA',\n",
    "            omit_x=True,\n",
    "            round=False,\n",
    "            anchor=(0.7, 0.1),\n",
    "            linewidth=sbarlw\n",
    "        )\n",
    "    else:\n",
    "        pltools.hide_border()\n",
    "        pltools.hide_ticks()\n",
    "    \n",
    "    plt.subplot(trace_spec[1, :])\n",
    "    plt.eventplot(\n",
    "        [np.where(sample_trace_model.gaba_spktrains[sweep, j, TIME_SLICE])[0] * 0.1 * 1e-3 for j in range(20)],\n",
    "        color=colors['som']\n",
    "    )\n",
    "    plt.xlim(0, TIME_VEC[-1])\n",
    "    pltools.hide_ticks()\n",
    "    pltools.hide_border('a')\n",
    "    \n",
    "    plt.subplot(trace_spec[2, :])\n",
    "    plt.plot(TIME_VEC, sample_trace_som_psth[sweep, TIME_SLICE].T, color=colors['som'])\n",
    "    plt.xlim(0, TIME_VEC[-1])\n",
    "    plt.ylim(-0.5, 40)\n",
    "    if i == 0:\n",
    "        plt.ylabel('Pop. firing rate\\n(Hz/neuron)')\n",
    "        pltools.add_scalebar(\n",
    "            x_size=0.5, \n",
    "            x_units='s', \n",
    "            anchor=(0.7, 0.5), \n",
    "            round=False, \n",
    "            omit_y=True, \n",
    "            remove_frame=False,\n",
    "            linewidth=sbarlw\n",
    "        )\n",
    "    pltools.hide_border('trb', trim=True)\n",
    "    \n",
    "    plt.subplot(trace_spec[3, :])\n",
    "    plt.eventplot(\n",
    "        [np.where(sample_trace_model.ser_spktrains[sweep, j, TIME_SLICE])[0] * 0.1 * 1e-3 for j in range(20)],\n",
    "        color=colors['ser']\n",
    "    )\n",
    "    plt.xlim(0, TIME_VEC[-1])\n",
    "    pltools.hide_ticks()\n",
    "    pltools.hide_border('a')\n",
    "    \n",
    "    plt.subplot(trace_spec[4, :])\n",
    "    plt.plot(TIME_VEC, sample_trace_ser_psth[sweep, TIME_SLICE].T, color=colors['ser'])\n",
    "    plt.xlim(0, TIME_VEC[-1])\n",
    "    plt.ylim(-0.5, 17)\n",
    "    plt.yticks([0, 5, 10, 15])\n",
    "    if i == 0:\n",
    "        plt.ylabel('Pop. firing rate\\n(Hz/neuron)')\n",
    "        pltools.add_scalebar(\n",
    "            x_size=0.5, \n",
    "            x_units='s', \n",
    "            anchor=(0.7, 0.5), \n",
    "            round=False, \n",
    "            omit_y=True, \n",
    "            remove_frame=False,\n",
    "            linewidth=sbarlw\n",
    "        )\n",
    "    pltools.hide_border('trb', trim=True)\n",
    "\n",
    "\n",
    "\n",
    "plt.tight_layout()\n",
    "\n",
    "if IMG_PATH is not None:\n",
    "    savefig(os.path.join(IMG_PATH, 'derivative_filter'))"
   ]
  },
  {
   "cell_type": "code",
   "execution_count": null,
   "metadata": {},
   "outputs": [],
   "source": []
  }
 ],
 "metadata": {
  "kernelspec": {
   "display_name": "Python 2",
   "language": "python",
   "name": "python2"
  },
  "language_info": {
   "codemirror_mode": {
    "name": "ipython",
    "version": 2
   },
   "file_extension": ".py",
   "mimetype": "text/x-python",
   "name": "python",
   "nbconvert_exporter": "python",
   "pygments_lexer": "ipython2",
   "version": "2.7.15"
  }
 },
 "nbformat": 4,
 "nbformat_minor": 2
}

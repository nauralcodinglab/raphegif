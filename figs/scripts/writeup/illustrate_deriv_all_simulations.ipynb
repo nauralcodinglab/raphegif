{
 "cells": [
  {
   "cell_type": "code",
   "execution_count": 1,
   "metadata": {},
   "outputs": [],
   "source": [
    "from common import colors, pvalue_thresholds, sbarlw, savefig"
   ]
  },
  {
   "cell_type": "code",
   "execution_count": 2,
   "metadata": {},
   "outputs": [
    {
     "name": "stdout",
     "output_type": "stream",
     "text": [
      "/home/eharkin/projects/5HTGIF-dev\n"
     ]
    }
   ],
   "source": [
    "from __future__ import division\n",
    "\n",
    "import os; os.chdir(os.path.join('..', '..', '..'))\n",
    "print os.getcwd()"
   ]
  },
  {
   "cell_type": "code",
   "execution_count": 3,
   "metadata": {},
   "outputs": [],
   "source": [
    "import warnings\n",
    "import re\n",
    "import copy\n",
    "import pickle\n",
    "\n",
    "import pandas as pd\n",
    "import matplotlib.pyplot as plt\n",
    "import matplotlib.gridspec as gs\n",
    "from mpl_toolkits.mplot3d import Axes3D\n",
    "import seaborn as sns\n",
    "import numpy as np\n",
    "from scipy import stats\n",
    "from scipy.interpolate import griddata\n",
    "from tqdm.notebook import tqdm, trange\n",
    "\n",
    "from ezephys import pltools\n",
    "from statannot import add_stat_annotation\n",
    "\n",
    "from grr.Simulation import GIFnet_Simulation\n",
    "from grr.GainEstimator import GainEstimator\n",
    "from grr.Tools import raiseExpectedGot, timeToIndex, reprint\n",
    "from grr.Spiketrain import PSTH\n",
    "from grr.CurveFit import plot_linear_fit"
   ]
  },
  {
   "cell_type": "code",
   "execution_count": 4,
   "metadata": {},
   "outputs": [],
   "source": [
    "plt.style.use(os.path.join('figs', 'scripts', 'writeup', 'publication_figure_style.dms'))\n",
    "IMG_PATH = os.path.join('figs', 'ims', 'writeup', 'GIF_network')\n",
    "BASELINE_LEVELS = np.array([-0.080, -0.060, -0.040, -0.020, 0, 0.020, 0.040, 0.060, 0.080])"
   ]
  },
  {
   "cell_type": "code",
   "execution_count": 6,
   "metadata": {},
   "outputs": [
    {
     "data": {
      "text/html": [
       "<div>\n",
       "<style scoped>\n",
       "    .dataframe tbody tr th:only-of-type {\n",
       "        vertical-align: middle;\n",
       "    }\n",
       "\n",
       "    .dataframe tbody tr th {\n",
       "        vertical-align: top;\n",
       "    }\n",
       "\n",
       "    .dataframe thead th {\n",
       "        text-align: right;\n",
       "    }\n",
       "</style>\n",
       "<table border=\"1\" class=\"dataframe\">\n",
       "  <thead>\n",
       "    <tr style=\"text-align: right;\">\n",
       "      <th></th>\n",
       "      <th>Adaptation</th>\n",
       "      <th>Baseline level</th>\n",
       "      <th>DV</th>\n",
       "      <th>IA</th>\n",
       "      <th>Model</th>\n",
       "      <th>Rep</th>\n",
       "    </tr>\n",
       "  </thead>\n",
       "  <tbody>\n",
       "    <tr>\n",
       "      <th>0</th>\n",
       "      <td>CTRL</td>\n",
       "      <td>-0.08</td>\n",
       "      <td>CTRL</td>\n",
       "      <td>CTRL</td>\n",
       "      <td>[connectivity_matrix, gaba, ser]</td>\n",
       "      <td>0</td>\n",
       "    </tr>\n",
       "    <tr>\n",
       "      <th>1</th>\n",
       "      <td>CTRL</td>\n",
       "      <td>-0.04</td>\n",
       "      <td>CTRL</td>\n",
       "      <td>KO</td>\n",
       "      <td>[connectivity_matrix, gaba, ser]</td>\n",
       "      <td>0</td>\n",
       "    </tr>\n",
       "    <tr>\n",
       "      <th>2</th>\n",
       "      <td>swap_ser_only</td>\n",
       "      <td>-0.04</td>\n",
       "      <td>CTRL</td>\n",
       "      <td>CTRL</td>\n",
       "      <td>[connectivity_matrix, gaba, ser]</td>\n",
       "      <td>0</td>\n",
       "    </tr>\n",
       "    <tr>\n",
       "      <th>3</th>\n",
       "      <td>CTRL</td>\n",
       "      <td>-0.02</td>\n",
       "      <td>CTRL</td>\n",
       "      <td>KO</td>\n",
       "      <td>[connectivity_matrix, gaba, ser]</td>\n",
       "      <td>0</td>\n",
       "    </tr>\n",
       "    <tr>\n",
       "      <th>4</th>\n",
       "      <td>CTRL</td>\n",
       "      <td>-0.06</td>\n",
       "      <td>swap_ser_only</td>\n",
       "      <td>CTRL</td>\n",
       "      <td>[connectivity_matrix, gaba, ser]</td>\n",
       "      <td>0</td>\n",
       "    </tr>\n",
       "  </tbody>\n",
       "</table>\n",
       "</div>"
      ],
      "text/plain": [
       "      Adaptation  Baseline level             DV    IA  \\\n",
       "0           CTRL           -0.08           CTRL  CTRL   \n",
       "1           CTRL           -0.04           CTRL    KO   \n",
       "2  swap_ser_only           -0.04           CTRL  CTRL   \n",
       "3           CTRL           -0.02           CTRL    KO   \n",
       "4           CTRL           -0.06  swap_ser_only  CTRL   \n",
       "\n",
       "                              Model  Rep  \n",
       "0  [connectivity_matrix, gaba, ser]    0  \n",
       "1  [connectivity_matrix, gaba, ser]    0  \n",
       "2  [connectivity_matrix, gaba, ser]    0  \n",
       "3  [connectivity_matrix, gaba, ser]    0  \n",
       "4  [connectivity_matrix, gaba, ser]    0  "
      ]
     },
     "execution_count": 6,
     "metadata": {},
     "output_type": "execute_result"
    }
   ],
   "source": [
    "DATA_PATH = os.path.join('data', 'simulations', 'GIF_network')\n",
    "\n",
    "sim_dict = {'Baseline level': [], 'Rep': [], 'Model': [], 'IA': [], 'Adaptation': [], 'DV': []}\n",
    "\n",
    "for condition in os.listdir(DATA_PATH):\n",
    "    if not condition.startswith('deriv_input'):\n",
    "        continue\n",
    "        \n",
    "    for baseline_level in ['-0.080', '-0.060', '-0.040', '-0.020', '0.000', '0.020', '0.040', '0.060', '0.080']:\n",
    "        for fname in os.listdir(os.path.join(DATA_PATH, condition, '{}_baseline'.format(baseline_level))):\n",
    "            if fname.endswith(('hdf5', 'h5')):\n",
    "\n",
    "                try:\n",
    "                    this_model = GIFnet_Simulation(\n",
    "                        os.path.join(DATA_PATH, condition, '{}_baseline'.format(baseline_level), fname), \n",
    "                        mode = 'r'\n",
    "                    ) \n",
    "\n",
    "                    sim_dict['Model'].append(this_model)\n",
    "                    sim_dict['Baseline level'].append(float(baseline_level))\n",
    "                    sim_dict['Rep'].append(\n",
    "                        int(re.search(r'rep([0-9]+)', fname).groups()[-1])\n",
    "                    )\n",
    "                    \n",
    "                    if 'ia_ko' in condition:\n",
    "                        sim_dict['IA'].append('KO')\n",
    "                    else:\n",
    "                        sim_dict['IA'].append('CTRL')\n",
    "                    if 'adaptation' in condition:\n",
    "                        sim_dict['Adaptation'].append('swap_ser_only')\n",
    "                    else:\n",
    "                        sim_dict['Adaptation'].append('CTRL')\n",
    "                    if 'dv' in condition:\n",
    "                        sim_dict['DV'].append('swap_ser_only')\n",
    "                    else:\n",
    "                        sim_dict['DV'].append('CTRL')\n",
    "                except IOError:\n",
    "                    print('Problem with {} baseline {}'.format(baseline_level, fname))\n",
    "                    continue\n",
    "            \n",
    "\n",
    "sim_df = pd.DataFrame(sim_dict).sort_values(['Rep'])\n",
    "sim_df.reset_index(inplace=True, drop=True)\n",
    "sim_df.head()"
   ]
  },
  {
   "cell_type": "code",
   "execution_count": 7,
   "metadata": {},
   "outputs": [],
   "source": [
    "sim_df['Principal PSTH'] = None\n",
    "sim_df['Principal PSTH'] = sim_df['Principal PSTH'].astype(object)\n",
    "sim_df['GABA PSTH'] = None\n",
    "sim_df['GABA PSTH'] = sim_df['GABA PSTH'].astype(object)"
   ]
  },
  {
   "cell_type": "code",
   "execution_count": null,
   "metadata": {
    "scrolled": true
   },
   "outputs": [
    {
     "data": {
      "application/vnd.jupyter.widget-view+json": {
       "model_id": "88647425acc442ca8313c2dfa3bb0d50",
       "version_major": 2,
       "version_minor": 0
      },
      "text/plain": [
       "SEJveChjaGlsZHJlbj0oRmxvYXRQcm9ncmVzcyh2YWx1ZT0wLjAsIGRlc2NyaXB0aW9uPXUnTW9kZWwnLCBtYXg9OTAwLjAsIHN0eWxlPVByb2dyZXNzU3R5bGUoZGVzY3JpcHRpb25fd2lkdGjigKY=\n"
      ]
     },
     "metadata": {},
     "output_type": "display_data"
    },
    {
     "data": {
      "application/vnd.jupyter.widget-view+json": {
       "model_id": "",
       "version_major": 2,
       "version_minor": 0
      },
      "text/plain": [
       "SEJveChjaGlsZHJlbj0oRmxvYXRQcm9ncmVzcyh2YWx1ZT0wLjAsIGRlc2NyaXB0aW9uPXUnNUhUIHN3ZWVwJywgbWF4PTIwLjAsIHN0eWxlPVByb2dyZXNzU3R5bGUoZGVzY3JpcHRpb25fd2nigKY=\n"
      ]
     },
     "metadata": {},
     "output_type": "display_data"
    },
    {
     "data": {
      "application/vnd.jupyter.widget-view+json": {
       "model_id": "",
       "version_major": 2,
       "version_minor": 0
      },
      "text/plain": [
       "SEJveChjaGlsZHJlbj0oRmxvYXRQcm9ncmVzcyh2YWx1ZT0wLjAsIGRlc2NyaXB0aW9uPXUnR0FCQSBzd2VlcCcsIG1heD0yMC4wLCBzdHlsZT1Qcm9ncmVzc1N0eWxlKGRlc2NyaXB0aW9uX3figKY=\n"
      ]
     },
     "metadata": {},
     "output_type": "display_data"
    },
    {
     "data": {
      "application/vnd.jupyter.widget-view+json": {
       "model_id": "",
       "version_major": 2,
       "version_minor": 0
      },
      "text/plain": [
       "SEJveChjaGlsZHJlbj0oRmxvYXRQcm9ncmVzcyh2YWx1ZT0wLjAsIGRlc2NyaXB0aW9uPXUnNUhUIHN3ZWVwJywgbWF4PTIwLjAsIHN0eWxlPVByb2dyZXNzU3R5bGUoZGVzY3JpcHRpb25fd2nigKY=\n"
      ]
     },
     "metadata": {},
     "output_type": "display_data"
    },
    {
     "data": {
      "application/vnd.jupyter.widget-view+json": {
       "model_id": "",
       "version_major": 2,
       "version_minor": 0
      },
      "text/plain": [
       "SEJveChjaGlsZHJlbj0oRmxvYXRQcm9ncmVzcyh2YWx1ZT0wLjAsIGRlc2NyaXB0aW9uPXUnR0FCQSBzd2VlcCcsIG1heD0yMC4wLCBzdHlsZT1Qcm9ncmVzc1N0eWxlKGRlc2NyaXB0aW9uX3figKY=\n"
      ]
     },
     "metadata": {},
     "output_type": "display_data"
    },
    {
     "data": {
      "application/vnd.jupyter.widget-view+json": {
       "model_id": "",
       "version_major": 2,
       "version_minor": 0
      },
      "text/plain": [
       "SEJveChjaGlsZHJlbj0oRmxvYXRQcm9ncmVzcyh2YWx1ZT0wLjAsIGRlc2NyaXB0aW9uPXUnNUhUIHN3ZWVwJywgbWF4PTIwLjAsIHN0eWxlPVByb2dyZXNzU3R5bGUoZGVzY3JpcHRpb25fd2nigKY=\n"
      ]
     },
     "metadata": {},
     "output_type": "display_data"
    },
    {
     "data": {
      "application/vnd.jupyter.widget-view+json": {
       "model_id": "",
       "version_major": 2,
       "version_minor": 0
      },
      "text/plain": [
       "SEJveChjaGlsZHJlbj0oRmxvYXRQcm9ncmVzcyh2YWx1ZT0wLjAsIGRlc2NyaXB0aW9uPXUnR0FCQSBzd2VlcCcsIG1heD0yMC4wLCBzdHlsZT1Qcm9ncmVzc1N0eWxlKGRlc2NyaXB0aW9uX3figKY=\n"
      ]
     },
     "metadata": {},
     "output_type": "display_data"
    },
    {
     "data": {
      "application/vnd.jupyter.widget-view+json": {
       "model_id": "",
       "version_major": 2,
       "version_minor": 0
      },
      "text/plain": [
       "SEJveChjaGlsZHJlbj0oRmxvYXRQcm9ncmVzcyh2YWx1ZT0wLjAsIGRlc2NyaXB0aW9uPXUnNUhUIHN3ZWVwJywgbWF4PTIwLjAsIHN0eWxlPVByb2dyZXNzU3R5bGUoZGVzY3JpcHRpb25fd2nigKY=\n"
      ]
     },
     "metadata": {},
     "output_type": "display_data"
    },
    {
     "data": {
      "application/vnd.jupyter.widget-view+json": {
       "model_id": "",
       "version_major": 2,
       "version_minor": 0
      },
      "text/plain": [
       "SEJveChjaGlsZHJlbj0oRmxvYXRQcm9ncmVzcyh2YWx1ZT0wLjAsIGRlc2NyaXB0aW9uPXUnR0FCQSBzd2VlcCcsIG1heD0yMC4wLCBzdHlsZT1Qcm9ncmVzc1N0eWxlKGRlc2NyaXB0aW9uX3figKY=\n"
      ]
     },
     "metadata": {},
     "output_type": "display_data"
    },
    {
     "data": {
      "application/vnd.jupyter.widget-view+json": {
       "model_id": "",
       "version_major": 2,
       "version_minor": 0
      },
      "text/plain": [
       "SEJveChjaGlsZHJlbj0oRmxvYXRQcm9ncmVzcyh2YWx1ZT0wLjAsIGRlc2NyaXB0aW9uPXUnNUhUIHN3ZWVwJywgbWF4PTIwLjAsIHN0eWxlPVByb2dyZXNzU3R5bGUoZGVzY3JpcHRpb25fd2nigKY=\n"
      ]
     },
     "metadata": {},
     "output_type": "display_data"
    },
    {
     "data": {
      "application/vnd.jupyter.widget-view+json": {
       "model_id": "",
       "version_major": 2,
       "version_minor": 0
      },
      "text/plain": [
       "SEJveChjaGlsZHJlbj0oRmxvYXRQcm9ncmVzcyh2YWx1ZT0wLjAsIGRlc2NyaXB0aW9uPXUnR0FCQSBzd2VlcCcsIG1heD0yMC4wLCBzdHlsZT1Qcm9ncmVzc1N0eWxlKGRlc2NyaXB0aW9uX3figKY=\n"
      ]
     },
     "metadata": {},
     "output_type": "display_data"
    },
    {
     "data": {
      "application/vnd.jupyter.widget-view+json": {
       "model_id": "",
       "version_major": 2,
       "version_minor": 0
      },
      "text/plain": [
       "SEJveChjaGlsZHJlbj0oRmxvYXRQcm9ncmVzcyh2YWx1ZT0wLjAsIGRlc2NyaXB0aW9uPXUnNUhUIHN3ZWVwJywgbWF4PTIwLjAsIHN0eWxlPVByb2dyZXNzU3R5bGUoZGVzY3JpcHRpb25fd2nigKY=\n"
      ]
     },
     "metadata": {},
     "output_type": "display_data"
    },
    {
     "data": {
      "application/vnd.jupyter.widget-view+json": {
       "model_id": "",
       "version_major": 2,
       "version_minor": 0
      },
      "text/plain": [
       "SEJveChjaGlsZHJlbj0oRmxvYXRQcm9ncmVzcyh2YWx1ZT0wLjAsIGRlc2NyaXB0aW9uPXUnR0FCQSBzd2VlcCcsIG1heD0yMC4wLCBzdHlsZT1Qcm9ncmVzc1N0eWxlKGRlc2NyaXB0aW9uX3figKY=\n"
      ]
     },
     "metadata": {},
     "output_type": "display_data"
    },
    {
     "data": {
      "application/vnd.jupyter.widget-view+json": {
       "model_id": "",
       "version_major": 2,
       "version_minor": 0
      },
      "text/plain": [
       "SEJveChjaGlsZHJlbj0oRmxvYXRQcm9ncmVzcyh2YWx1ZT0wLjAsIGRlc2NyaXB0aW9uPXUnNUhUIHN3ZWVwJywgbWF4PTIwLjAsIHN0eWxlPVByb2dyZXNzU3R5bGUoZGVzY3JpcHRpb25fd2nigKY=\n"
      ]
     },
     "metadata": {},
     "output_type": "display_data"
    },
    {
     "data": {
      "application/vnd.jupyter.widget-view+json": {
       "model_id": "",
       "version_major": 2,
       "version_minor": 0
      },
      "text/plain": [
       "SEJveChjaGlsZHJlbj0oRmxvYXRQcm9ncmVzcyh2YWx1ZT0wLjAsIGRlc2NyaXB0aW9uPXUnR0FCQSBzd2VlcCcsIG1heD0yMC4wLCBzdHlsZT1Qcm9ncmVzc1N0eWxlKGRlc2NyaXB0aW9uX3figKY=\n"
      ]
     },
     "metadata": {},
     "output_type": "display_data"
    },
    {
     "data": {
      "application/vnd.jupyter.widget-view+json": {
       "model_id": "",
       "version_major": 2,
       "version_minor": 0
      },
      "text/plain": [
       "SEJveChjaGlsZHJlbj0oRmxvYXRQcm9ncmVzcyh2YWx1ZT0wLjAsIGRlc2NyaXB0aW9uPXUnNUhUIHN3ZWVwJywgbWF4PTIwLjAsIHN0eWxlPVByb2dyZXNzU3R5bGUoZGVzY3JpcHRpb25fd2nigKY=\n"
      ]
     },
     "metadata": {},
     "output_type": "display_data"
    },
    {
     "data": {
      "application/vnd.jupyter.widget-view+json": {
       "model_id": "",
       "version_major": 2,
       "version_minor": 0
      },
      "text/plain": [
       "SEJveChjaGlsZHJlbj0oRmxvYXRQcm9ncmVzcyh2YWx1ZT0wLjAsIGRlc2NyaXB0aW9uPXUnR0FCQSBzd2VlcCcsIG1heD0yMC4wLCBzdHlsZT1Qcm9ncmVzc1N0eWxlKGRlc2NyaXB0aW9uX3figKY=\n"
      ]
     },
     "metadata": {},
     "output_type": "display_data"
    },
    {
     "data": {
      "application/vnd.jupyter.widget-view+json": {
       "model_id": "",
       "version_major": 2,
       "version_minor": 0
      },
      "text/plain": [
       "SEJveChjaGlsZHJlbj0oRmxvYXRQcm9ncmVzcyh2YWx1ZT0wLjAsIGRlc2NyaXB0aW9uPXUnNUhUIHN3ZWVwJywgbWF4PTIwLjAsIHN0eWxlPVByb2dyZXNzU3R5bGUoZGVzY3JpcHRpb25fd2nigKY=\n"
      ]
     },
     "metadata": {},
     "output_type": "display_data"
    },
    {
     "data": {
      "application/vnd.jupyter.widget-view+json": {
       "model_id": "",
       "version_major": 2,
       "version_minor": 0
      },
      "text/plain": [
       "SEJveChjaGlsZHJlbj0oRmxvYXRQcm9ncmVzcyh2YWx1ZT0wLjAsIGRlc2NyaXB0aW9uPXUnR0FCQSBzd2VlcCcsIG1heD0yMC4wLCBzdHlsZT1Qcm9ncmVzc1N0eWxlKGRlc2NyaXB0aW9uX3figKY=\n"
      ]
     },
     "metadata": {},
     "output_type": "display_data"
    },
    {
     "data": {
      "application/vnd.jupyter.widget-view+json": {
       "model_id": "",
       "version_major": 2,
       "version_minor": 0
      },
      "text/plain": [
       "SEJveChjaGlsZHJlbj0oRmxvYXRQcm9ncmVzcyh2YWx1ZT0wLjAsIGRlc2NyaXB0aW9uPXUnNUhUIHN3ZWVwJywgbWF4PTIwLjAsIHN0eWxlPVByb2dyZXNzU3R5bGUoZGVzY3JpcHRpb25fd2nigKY=\n"
      ]
     },
     "metadata": {},
     "output_type": "display_data"
    },
    {
     "data": {
      "application/vnd.jupyter.widget-view+json": {
       "model_id": "",
       "version_major": 2,
       "version_minor": 0
      },
      "text/plain": [
       "SEJveChjaGlsZHJlbj0oRmxvYXRQcm9ncmVzcyh2YWx1ZT0wLjAsIGRlc2NyaXB0aW9uPXUnR0FCQSBzd2VlcCcsIG1heD0yMC4wLCBzdHlsZT1Qcm9ncmVzc1N0eWxlKGRlc2NyaXB0aW9uX3figKY=\n"
      ]
     },
     "metadata": {},
     "output_type": "display_data"
    },
    {
     "data": {
      "application/vnd.jupyter.widget-view+json": {
       "model_id": "",
       "version_major": 2,
       "version_minor": 0
      },
      "text/plain": [
       "SEJveChjaGlsZHJlbj0oRmxvYXRQcm9ncmVzcyh2YWx1ZT0wLjAsIGRlc2NyaXB0aW9uPXUnNUhUIHN3ZWVwJywgbWF4PTIwLjAsIHN0eWxlPVByb2dyZXNzU3R5bGUoZGVzY3JpcHRpb25fd2nigKY=\n"
      ]
     },
     "metadata": {},
     "output_type": "display_data"
    },
    {
     "data": {
      "application/vnd.jupyter.widget-view+json": {
       "model_id": "",
       "version_major": 2,
       "version_minor": 0
      },
      "text/plain": [
       "SEJveChjaGlsZHJlbj0oRmxvYXRQcm9ncmVzcyh2YWx1ZT0wLjAsIGRlc2NyaXB0aW9uPXUnR0FCQSBzd2VlcCcsIG1heD0yMC4wLCBzdHlsZT1Qcm9ncmVzc1N0eWxlKGRlc2NyaXB0aW9uX3figKY=\n"
      ]
     },
     "metadata": {},
     "output_type": "display_data"
    },
    {
     "data": {
      "application/vnd.jupyter.widget-view+json": {
       "model_id": "",
       "version_major": 2,
       "version_minor": 0
      },
      "text/plain": [
       "SEJveChjaGlsZHJlbj0oRmxvYXRQcm9ncmVzcyh2YWx1ZT0wLjAsIGRlc2NyaXB0aW9uPXUnNUhUIHN3ZWVwJywgbWF4PTIwLjAsIHN0eWxlPVByb2dyZXNzU3R5bGUoZGVzY3JpcHRpb25fd2nigKY=\n"
      ]
     },
     "metadata": {},
     "output_type": "display_data"
    },
    {
     "data": {
      "application/vnd.jupyter.widget-view+json": {
       "model_id": "",
       "version_major": 2,
       "version_minor": 0
      },
      "text/plain": [
       "SEJveChjaGlsZHJlbj0oRmxvYXRQcm9ncmVzcyh2YWx1ZT0wLjAsIGRlc2NyaXB0aW9uPXUnR0FCQSBzd2VlcCcsIG1heD0yMC4wLCBzdHlsZT1Qcm9ncmVzc1N0eWxlKGRlc2NyaXB0aW9uX3figKY=\n"
      ]
     },
     "metadata": {},
     "output_type": "display_data"
    },
    {
     "data": {
      "application/vnd.jupyter.widget-view+json": {
       "model_id": "",
       "version_major": 2,
       "version_minor": 0
      },
      "text/plain": [
       "SEJveChjaGlsZHJlbj0oRmxvYXRQcm9ncmVzcyh2YWx1ZT0wLjAsIGRlc2NyaXB0aW9uPXUnNUhUIHN3ZWVwJywgbWF4PTIwLjAsIHN0eWxlPVByb2dyZXNzU3R5bGUoZGVzY3JpcHRpb25fd2nigKY=\n"
      ]
     },
     "metadata": {},
     "output_type": "display_data"
    },
    {
     "data": {
      "application/vnd.jupyter.widget-view+json": {
       "model_id": "",
       "version_major": 2,
       "version_minor": 0
      },
      "text/plain": [
       "SEJveChjaGlsZHJlbj0oRmxvYXRQcm9ncmVzcyh2YWx1ZT0wLjAsIGRlc2NyaXB0aW9uPXUnR0FCQSBzd2VlcCcsIG1heD0yMC4wLCBzdHlsZT1Qcm9ncmVzc1N0eWxlKGRlc2NyaXB0aW9uX3figKY=\n"
      ]
     },
     "metadata": {},
     "output_type": "display_data"
    },
    {
     "data": {
      "application/vnd.jupyter.widget-view+json": {
       "model_id": "",
       "version_major": 2,
       "version_minor": 0
      },
      "text/plain": [
       "SEJveChjaGlsZHJlbj0oRmxvYXRQcm9ncmVzcyh2YWx1ZT0wLjAsIGRlc2NyaXB0aW9uPXUnNUhUIHN3ZWVwJywgbWF4PTIwLjAsIHN0eWxlPVByb2dyZXNzU3R5bGUoZGVzY3JpcHRpb25fd2nigKY=\n"
      ]
     },
     "metadata": {},
     "output_type": "display_data"
    },
    {
     "data": {
      "application/vnd.jupyter.widget-view+json": {
       "model_id": "",
       "version_major": 2,
       "version_minor": 0
      },
      "text/plain": [
       "SEJveChjaGlsZHJlbj0oRmxvYXRQcm9ncmVzcyh2YWx1ZT0wLjAsIGRlc2NyaXB0aW9uPXUnR0FCQSBzd2VlcCcsIG1heD0yMC4wLCBzdHlsZT1Qcm9ncmVzc1N0eWxlKGRlc2NyaXB0aW9uX3figKY=\n"
      ]
     },
     "metadata": {},
     "output_type": "display_data"
    },
    {
     "data": {
      "application/vnd.jupyter.widget-view+json": {
       "model_id": "",
       "version_major": 2,
       "version_minor": 0
      },
      "text/plain": [
       "SEJveChjaGlsZHJlbj0oRmxvYXRQcm9ncmVzcyh2YWx1ZT0wLjAsIGRlc2NyaXB0aW9uPXUnNUhUIHN3ZWVwJywgbWF4PTIwLjAsIHN0eWxlPVByb2dyZXNzU3R5bGUoZGVzY3JpcHRpb25fd2nigKY=\n"
      ]
     },
     "metadata": {},
     "output_type": "display_data"
    },
    {
     "data": {
      "application/vnd.jupyter.widget-view+json": {
       "model_id": "",
       "version_major": 2,
       "version_minor": 0
      },
      "text/plain": [
       "SEJveChjaGlsZHJlbj0oRmxvYXRQcm9ncmVzcyh2YWx1ZT0wLjAsIGRlc2NyaXB0aW9uPXUnR0FCQSBzd2VlcCcsIG1heD0yMC4wLCBzdHlsZT1Qcm9ncmVzc1N0eWxlKGRlc2NyaXB0aW9uX3figKY=\n"
      ]
     },
     "metadata": {},
     "output_type": "display_data"
    },
    {
     "data": {
      "application/vnd.jupyter.widget-view+json": {
       "model_id": "",
       "version_major": 2,
       "version_minor": 0
      },
      "text/plain": [
       "SEJveChjaGlsZHJlbj0oRmxvYXRQcm9ncmVzcyh2YWx1ZT0wLjAsIGRlc2NyaXB0aW9uPXUnNUhUIHN3ZWVwJywgbWF4PTIwLjAsIHN0eWxlPVByb2dyZXNzU3R5bGUoZGVzY3JpcHRpb25fd2nigKY=\n"
      ]
     },
     "metadata": {},
     "output_type": "display_data"
    },
    {
     "data": {
      "application/vnd.jupyter.widget-view+json": {
       "model_id": "",
       "version_major": 2,
       "version_minor": 0
      },
      "text/plain": [
       "SEJveChjaGlsZHJlbj0oRmxvYXRQcm9ncmVzcyh2YWx1ZT0wLjAsIGRlc2NyaXB0aW9uPXUnR0FCQSBzd2VlcCcsIG1heD0yMC4wLCBzdHlsZT1Qcm9ncmVzc1N0eWxlKGRlc2NyaXB0aW9uX3figKY=\n"
      ]
     },
     "metadata": {},
     "output_type": "display_data"
    },
    {
     "data": {
      "application/vnd.jupyter.widget-view+json": {
       "model_id": "",
       "version_major": 2,
       "version_minor": 0
      },
      "text/plain": [
       "SEJveChjaGlsZHJlbj0oRmxvYXRQcm9ncmVzcyh2YWx1ZT0wLjAsIGRlc2NyaXB0aW9uPXUnNUhUIHN3ZWVwJywgbWF4PTIwLjAsIHN0eWxlPVByb2dyZXNzU3R5bGUoZGVzY3JpcHRpb25fd2nigKY=\n"
      ]
     },
     "metadata": {},
     "output_type": "display_data"
    },
    {
     "data": {
      "application/vnd.jupyter.widget-view+json": {
       "model_id": "",
       "version_major": 2,
       "version_minor": 0
      },
      "text/plain": [
       "SEJveChjaGlsZHJlbj0oRmxvYXRQcm9ncmVzcyh2YWx1ZT0wLjAsIGRlc2NyaXB0aW9uPXUnR0FCQSBzd2VlcCcsIG1heD0yMC4wLCBzdHlsZT1Qcm9ncmVzc1N0eWxlKGRlc2NyaXB0aW9uX3figKY=\n"
      ]
     },
     "metadata": {},
     "output_type": "display_data"
    },
    {
     "data": {
      "application/vnd.jupyter.widget-view+json": {
       "model_id": "",
       "version_major": 2,
       "version_minor": 0
      },
      "text/plain": [
       "SEJveChjaGlsZHJlbj0oRmxvYXRQcm9ncmVzcyh2YWx1ZT0wLjAsIGRlc2NyaXB0aW9uPXUnNUhUIHN3ZWVwJywgbWF4PTIwLjAsIHN0eWxlPVByb2dyZXNzU3R5bGUoZGVzY3JpcHRpb25fd2nigKY=\n"
      ]
     },
     "metadata": {},
     "output_type": "display_data"
    },
    {
     "data": {
      "application/vnd.jupyter.widget-view+json": {
       "model_id": "",
       "version_major": 2,
       "version_minor": 0
      },
      "text/plain": [
       "SEJveChjaGlsZHJlbj0oRmxvYXRQcm9ncmVzcyh2YWx1ZT0wLjAsIGRlc2NyaXB0aW9uPXUnR0FCQSBzd2VlcCcsIG1heD0yMC4wLCBzdHlsZT1Qcm9ncmVzc1N0eWxlKGRlc2NyaXB0aW9uX3figKY=\n"
      ]
     },
     "metadata": {},
     "output_type": "display_data"
    },
    {
     "data": {
      "application/vnd.jupyter.widget-view+json": {
       "model_id": "d04568cb75c94638ae329eb6b1ced14c",
       "version_major": 2,
       "version_minor": 0
      },
      "text/plain": [
       "SEJveChjaGlsZHJlbj0oRmxvYXRQcm9ncmVzcyh2YWx1ZT0wLjAsIGRlc2NyaXB0aW9uPXUnNUhUIHN3ZWVwJywgbWF4PTIwLjAsIHN0eWxlPVByb2dyZXNzU3R5bGUoZGVzY3JpcHRpb25fd2nigKY=\n"
      ]
     },
     "metadata": {},
     "output_type": "display_data"
    }
   ],
   "source": [
    "PSTH_width = 50.\n",
    "\n",
    "for i in trange(sim_df.shape[0], desc='Model'):\n",
    "    \n",
    "    # Get PSTH from 5HT population.\n",
    "    sim_df.at[i, 'Principal PSTH'] = np.empty((\n",
    "        sim_df.loc[i, 'Model'].get_no_sweeps(), \n",
    "        sim_df.loc[i, 'Model'].get_no_timesteps()\n",
    "    ))\n",
    "    for sweep_no in trange(sim_df.loc[i, 'Model'].get_no_sweeps(), desc='5HT sweep', leave=False):\n",
    "        sim_df.loc[i, 'Principal PSTH'][sweep_no, :] = PSTH(\n",
    "            sim_df.loc[i, 'Model'].ser_spktrains[sweep_no, ...].sum(axis = 0),\n",
    "            PSTH_width,\n",
    "            sim_df.loc[i, 'Model'].get_no_ser_neurons()\n",
    "        )\n",
    "    \n",
    "    # Get PSTHs from GABA population.\n",
    "    sim_df.at[i, 'GABA PSTH'] = np.empty((\n",
    "        sim_df.loc[i, 'Model'].get_no_sweeps(), \n",
    "        sim_df.loc[i, 'Model'].get_no_timesteps()\n",
    "    ))\n",
    "    for sweep_no in trange(sim_df.loc[i, 'Model'].get_no_sweeps(), desc='GABA sweep', leave=False):\n",
    "        sim_df.loc[i, 'GABA PSTH'][sweep_no, :] = PSTH(\n",
    "            sim_df.loc[i, 'Model'].gaba_spktrains[sweep_no, ...].sum(axis = 0),\n",
    "            PSTH_width,\n",
    "            sim_df.loc[i, 'Model'].get_no_gaba_neurons()\n",
    "        )\n",
    "\n",
    "print('\\nDone!')"
   ]
  },
  {
   "cell_type": "code",
   "execution_count": 9,
   "metadata": {},
   "outputs": [
    {
     "data": {
      "text/html": [
       "<div>\n",
       "<style scoped>\n",
       "    .dataframe tbody tr th:only-of-type {\n",
       "        vertical-align: middle;\n",
       "    }\n",
       "\n",
       "    .dataframe tbody tr th {\n",
       "        vertical-align: top;\n",
       "    }\n",
       "\n",
       "    .dataframe thead th {\n",
       "        text-align: right;\n",
       "    }\n",
       "</style>\n",
       "<table border=\"1\" class=\"dataframe\">\n",
       "  <thead>\n",
       "    <tr style=\"text-align: right;\">\n",
       "      <th></th>\n",
       "      <th>Adaptation</th>\n",
       "      <th>Baseline level</th>\n",
       "      <th>DV</th>\n",
       "      <th>IA</th>\n",
       "      <th>Model</th>\n",
       "      <th>Rep</th>\n",
       "      <th>Principal PSTH</th>\n",
       "      <th>GABA PSTH</th>\n",
       "    </tr>\n",
       "  </thead>\n",
       "  <tbody>\n",
       "    <tr>\n",
       "      <th>0</th>\n",
       "      <td>CTRL</td>\n",
       "      <td>-0.08</td>\n",
       "      <td>CTRL</td>\n",
       "      <td>CTRL</td>\n",
       "      <td>[connectivity_matrix, gaba, ser]</td>\n",
       "      <td>0</td>\n",
       "      <td>[[0.10000000894069672, 0.10000000894069672, 0....</td>\n",
       "      <td>[[0.25, 0.25, 0.25, 0.25, 0.25, 0.25, 0.25, 0....</td>\n",
       "    </tr>\n",
       "    <tr>\n",
       "      <th>1</th>\n",
       "      <td>CTRL</td>\n",
       "      <td>-0.04</td>\n",
       "      <td>CTRL</td>\n",
       "      <td>KO</td>\n",
       "      <td>[connectivity_matrix, gaba, ser]</td>\n",
       "      <td>0</td>\n",
       "      <td>[[0.1666666716337204, 0.1666666716337204, 0.16...</td>\n",
       "      <td>[[0.25, 0.25, 0.25, 0.25, 0.25, 0.25, 0.25, 0....</td>\n",
       "    </tr>\n",
       "    <tr>\n",
       "      <th>2</th>\n",
       "      <td>swap_ser_only</td>\n",
       "      <td>-0.04</td>\n",
       "      <td>CTRL</td>\n",
       "      <td>CTRL</td>\n",
       "      <td>[connectivity_matrix, gaba, ser]</td>\n",
       "      <td>0</td>\n",
       "      <td>[[0.13333334028720856, 0.13333334028720856, 0....</td>\n",
       "      <td>[[0.25, 0.25, 0.25, 0.25, 0.25, 0.25, 0.25, 0....</td>\n",
       "    </tr>\n",
       "    <tr>\n",
       "      <th>3</th>\n",
       "      <td>CTRL</td>\n",
       "      <td>-0.02</td>\n",
       "      <td>CTRL</td>\n",
       "      <td>KO</td>\n",
       "      <td>[connectivity_matrix, gaba, ser]</td>\n",
       "      <td>0</td>\n",
       "      <td>[[0.20000000298023224, 0.20000000298023224, 0....</td>\n",
       "      <td>[[0.8500000834465027, 0.8500000834465027, 0.85...</td>\n",
       "    </tr>\n",
       "    <tr>\n",
       "      <th>4</th>\n",
       "      <td>CTRL</td>\n",
       "      <td>-0.06</td>\n",
       "      <td>swap_ser_only</td>\n",
       "      <td>CTRL</td>\n",
       "      <td>[connectivity_matrix, gaba, ser]</td>\n",
       "      <td>0</td>\n",
       "      <td>[[1.333333134651184, 1.333333134651184, 1.3333...</td>\n",
       "      <td>[[0.30000001192092896, 0.30000001192092896, 0....</td>\n",
       "    </tr>\n",
       "  </tbody>\n",
       "</table>\n",
       "</div>"
      ],
      "text/plain": [
       "      Adaptation  Baseline level             DV    IA  \\\n",
       "0           CTRL           -0.08           CTRL  CTRL   \n",
       "1           CTRL           -0.04           CTRL    KO   \n",
       "2  swap_ser_only           -0.04           CTRL  CTRL   \n",
       "3           CTRL           -0.02           CTRL    KO   \n",
       "4           CTRL           -0.06  swap_ser_only  CTRL   \n",
       "\n",
       "                              Model  Rep  \\\n",
       "0  [connectivity_matrix, gaba, ser]    0   \n",
       "1  [connectivity_matrix, gaba, ser]    0   \n",
       "2  [connectivity_matrix, gaba, ser]    0   \n",
       "3  [connectivity_matrix, gaba, ser]    0   \n",
       "4  [connectivity_matrix, gaba, ser]    0   \n",
       "\n",
       "                                      Principal PSTH  \\\n",
       "0  [[0.10000000894069672, 0.10000000894069672, 0....   \n",
       "1  [[0.1666666716337204, 0.1666666716337204, 0.16...   \n",
       "2  [[0.13333334028720856, 0.13333334028720856, 0....   \n",
       "3  [[0.20000000298023224, 0.20000000298023224, 0....   \n",
       "4  [[1.333333134651184, 1.333333134651184, 1.3333...   \n",
       "\n",
       "                                           GABA PSTH  \n",
       "0  [[0.25, 0.25, 0.25, 0.25, 0.25, 0.25, 0.25, 0....  \n",
       "1  [[0.25, 0.25, 0.25, 0.25, 0.25, 0.25, 0.25, 0....  \n",
       "2  [[0.25, 0.25, 0.25, 0.25, 0.25, 0.25, 0.25, 0....  \n",
       "3  [[0.8500000834465027, 0.8500000834465027, 0.85...  \n",
       "4  [[0.30000001192092896, 0.30000001192092896, 0....  "
      ]
     },
     "execution_count": 9,
     "metadata": {},
     "output_type": "execute_result"
    }
   ],
   "source": [
    "sim_df.head()"
   ]
  },
  {
   "cell_type": "code",
   "execution_count": null,
   "metadata": {},
   "outputs": [
    {
     "data": {
      "text/plain": [
       "[<matplotlib.lines.Line2D at 0x7f0ec3d0b810>,\n",
       " <matplotlib.lines.Line2D at 0x7f0ec3d0b8d0>,\n",
       " <matplotlib.lines.Line2D at 0x7f0ec3d0b990>,\n",
       " <matplotlib.lines.Line2D at 0x7f0ec3d0ba50>,\n",
       " <matplotlib.lines.Line2D at 0x7f0ec3d0bb10>,\n",
       " <matplotlib.lines.Line2D at 0x7f0ec3d0bbd0>,\n",
       " <matplotlib.lines.Line2D at 0x7f0ec3d0bc90>,\n",
       " <matplotlib.lines.Line2D at 0x7f0ec3d0bd50>,\n",
       " <matplotlib.lines.Line2D at 0x7f0ec3d0be10>,\n",
       " <matplotlib.lines.Line2D at 0x7f0ec3d0bed0>,\n",
       " <matplotlib.lines.Line2D at 0x7f0ec3d0bf90>,\n",
       " <matplotlib.lines.Line2D at 0x7f0ec3d1c090>,\n",
       " <matplotlib.lines.Line2D at 0x7f0ec3d1c150>,\n",
       " <matplotlib.lines.Line2D at 0x7f0ec3d1c210>,\n",
       " <matplotlib.lines.Line2D at 0x7f0ec3d1c2d0>,\n",
       " <matplotlib.lines.Line2D at 0x7f0ec3d1c390>,\n",
       " <matplotlib.lines.Line2D at 0x7f0ec3d1c450>,\n",
       " <matplotlib.lines.Line2D at 0x7f0ec3d1c510>,\n",
       " <matplotlib.lines.Line2D at 0x7f0ec3d1c5d0>,\n",
       " <matplotlib.lines.Line2D at 0x7f0ec3d1c690>]"
      ]
     },
     "execution_count": 9,
     "metadata": {},
     "output_type": "execute_result"
    }
   ],
   "source": [
    "psths = []\n",
    "for i, row in sim_df.loc[sim_df['Baseline level'] == 0.040, ['Rep', 'Principal PSTH', 'GABA PSTH']].iterrows():\n",
    "    psths.append(row['Principal PSTH'].T)\n",
    "    \n",
    "psths = np.array(psths)\n",
    "\n",
    "plt.plot(psths.mean(axis=0))"
   ]
  },
  {
   "cell_type": "code",
   "execution_count": 10,
   "metadata": {},
   "outputs": [],
   "source": [
    "BASELINE_LEVELS = np.array([-0.080, -0.060, -0.040, -0.020, 0, 0.020, 0.040, 0.060, 0.080])\n",
    "\n",
    "def get_psth_max_by_celltype(df):\n",
    "    max_resp = {key: np.empty((20, len(BASELINE_LEVELS))) for key in ['ser', 'som']}\n",
    "    max_resp_std = {key: np.empty((20, len(BASELINE_LEVELS))) for key in ['ser', 'som']}\n",
    "    for i, baseline in enumerate(BASELINE_LEVELS):\n",
    "\n",
    "        psths = {key: [] for key in max_resp.keys()}\n",
    "        for _, row in df.loc[df['Baseline level'] == baseline, ['Rep', 'Principal PSTH', 'GABA PSTH']].iterrows():\n",
    "            psths['ser'].append(row['Principal PSTH'])\n",
    "            psths['som'].append(row['GABA PSTH'])\n",
    "\n",
    "        for key in max_resp:\n",
    "            max_resp[key][:, i] = np.asarray(psths[key])[:, :, 19000:].max(axis=2).mean(axis=0)\n",
    "            max_resp_std[key][:, i] = np.asarray(psths[key])[:, :, 19000:].max(axis=2).std(axis=0)\n",
    "\n",
    "    for key in max_resp:\n",
    "        max_resp[key] = max_resp[key].T\n",
    "        max_resp_std[key] = max_resp_std[key].T\n",
    "        \n",
    "    return {ct: {'mean': max_resp[ct], 'std': max_resp_std[ct]} for ct in ['ser', 'som']}"
   ]
  },
  {
   "cell_type": "code",
   "execution_count": 11,
   "metadata": {},
   "outputs": [],
   "source": [
    "max_resp = {\n",
    "    'ctrl': get_psth_max_by_celltype(\n",
    "        sim_df.query('(Adaptation == \"CTRL\") and (DV == \"CTRL\") and (IA == \"CTRL\")')\n",
    "    ),\n",
    "    'dv': get_psth_max_by_celltype(\n",
    "        sim_df.query('(Adaptation == \"CTRL\") and (DV == \"swap_ser_only\") and (IA == \"CTRL\")')\n",
    "    ),\n",
    "    'adaptation': get_psth_max_by_celltype(\n",
    "        sim_df.query('(Adaptation == \"swap_ser_only\") and (DV == \"CTRL\") and (IA == \"CTRL\")')\n",
    "    ),\n",
    "    'dv_adaptation': get_psth_max_by_celltype(\n",
    "        sim_df.query('(Adaptation == \"swap_ser_only\") and (DV == \"swap_ser_only\") and (IA == \"CTRL\")')\n",
    "    ),\n",
    "    'ia': get_psth_max_by_celltype(\n",
    "        sim_df.query('(Adaptation == \"CTRL\") and (DV == \"CTRL\") and (IA == \"KO\")')\n",
    "    ),\n",
    "}"
   ]
  },
  {
   "cell_type": "markdown",
   "metadata": {},
   "source": [
    "# Cache results"
   ]
  },
  {
   "cell_type": "code",
   "execution_count": 5,
   "metadata": {},
   "outputs": [
    {
     "name": "stdout",
     "output_type": "stream",
     "text": [
      "Loading.\n"
     ]
    }
   ],
   "source": [
    "cache_path = os.path.join('data', 'processed', 'simulations', 'max_deriv_response_all_conditions.dat')\n",
    "if os.path.exists(cache_path):\n",
    "    print('Loading.')\n",
    "    with open(cache_path, 'rb') as f:\n",
    "        max_resp = pickle.load(f)\n",
    "        f.close()\n",
    "else:\n",
    "    print('Saving.')\n",
    "    with open(cache_path, 'wb') as f:\n",
    "        pickle.dump(max_resp, f)\n",
    "        f.close()"
   ]
  },
  {
   "cell_type": "code",
   "execution_count": 6,
   "metadata": {},
   "outputs": [],
   "source": [
    "deriv_in_pA_s = 100 / (np.logspace(np.log10(100), np.log10(1e4), 20) * 1e-3)"
   ]
  },
  {
   "cell_type": "code",
   "execution_count": 7,
   "metadata": {},
   "outputs": [],
   "source": [
    "def get_contour_matrices(x, y, Z, clip=False):\n",
    "    X, Y = np.meshgrid(x, y)\n",
    "    X_interp, Y_interp = np.meshgrid(\n",
    "        np.linspace(x.min(), x.max(), 30), \n",
    "        np.linspace(y.min(), y.max(), 50),\n",
    "    )\n",
    "\n",
    "    Z_interp = griddata(\n",
    "        (X.flatten(), Y.flatten()), \n",
    "        Z.flatten(), \n",
    "        (X_interp.flatten(), Y_interp.flatten()),\n",
    "        method='cubic'\n",
    "    )\n",
    "    Z_interp = Z_interp.reshape(X_interp.shape)\n",
    "    \n",
    "    if clip:\n",
    "        Z_interp = np.clip(Z_interp, 0, np.inf)\n",
    "    \n",
    "    return X_interp, Y_interp, Z_interp"
   ]
  },
  {
   "cell_type": "code",
   "execution_count": 8,
   "metadata": {},
   "outputs": [],
   "source": [
    "def interpolated_contour(x, y, Z, ax=None, clip=False, **pltargs):\n",
    "    if ax is None:\n",
    "        ax = plt.gca()\n",
    "        \n",
    "    X_interp, Y_interp, Z_interp = get_contour_matrices(x, y, Z, clip)\n",
    "    \n",
    "    cmap = pltargs.pop('cmap', plt.cm.coolwarm)\n",
    "    return ax.contourf(X_interp, Y_interp, Z_interp, 4, cmap=cmap, **pltargs)"
   ]
  },
  {
   "cell_type": "code",
   "execution_count": 212,
   "metadata": {
    "collapsed": true
   },
   "outputs": [
    {
     "data": {
      "text/plain": [
       "<matplotlib.contour.QuadContourSet at 0x7f39f5345790>"
      ]
     },
     "execution_count": 212,
     "metadata": {},
     "output_type": "execute_result"
    },
    {
     "data": {
      "image/png": "[encoded data removed]",
      "text/plain": [
       "<Figure size 360x240 with 1 Axes>"
      ]
     },
     "metadata": {
      "needs_background": "light"
     },
     "output_type": "display_data"
    }
   ],
   "source": [
    "interpolated_contour(\n",
    "    deriv_in_pA_s, \n",
    "    1e3 * BASELINE_LEVELS, \n",
    "    max_resp['ctrl']['ser']['mean'], \n",
    "    levels=np.linspace(0, 20, 6)\n",
    ")"
   ]
  },
  {
   "cell_type": "code",
   "execution_count": 9,
   "metadata": {},
   "outputs": [],
   "source": [
    "def normalize_matrix(x):\n",
    "    return (x - x.min()) / (x.max() - x.min())"
   ]
  },
  {
   "cell_type": "code",
   "execution_count": 10,
   "metadata": {},
   "outputs": [],
   "source": [
    "def custom_cbar(x, colors, levels, width=1):\n",
    "    assert len(colors) == len(levels) - 1\n",
    "    for i, color in enumerate(colors):\n",
    "        plt.fill_between(\n",
    "            [x - width/2., x + width/2.], \n",
    "            [np.log10(levels[i])] * 2,\n",
    "            [np.log10(levels[i+1])] * 2,\n",
    "            color=color\n",
    "        )\n",
    "        \n",
    "    plt.yticks(np.log10(levels), levels)"
   ]
  },
  {
   "cell_type": "code",
   "execution_count": 215,
   "metadata": {},
   "outputs": [
    {
     "data": {
      "text/plain": [
       "Text(0,0.5,'Change in norm. pop. firing rate')"
      ]
     },
     "execution_count": 215,
     "metadata": {},
     "output_type": "execute_result"
    },
    {
     "data": {
      "image/png": "[encoded data removed]",
      "text/plain": [
       "<Figure size 360x240 with 2 Axes>"
      ]
     },
     "metadata": {
      "needs_background": "light"
     },
     "output_type": "display_data"
    }
   ],
   "source": [
    "fig = plt.figure()\n",
    "\n",
    "spec = gs.GridSpec(1, 2, width_ratios=[1, 0.1])\n",
    "ax = plt.subplot(spec[:, 0])\n",
    "ax.contour(\n",
    "    *get_contour_matrices(\n",
    "        deriv_in_pA_s, \n",
    "        1e3 * BASELINE_LEVELS, \n",
    "        (\n",
    "            normalize_matrix(max_resp['ia']['ser']['mean']) \n",
    "            - normalize_matrix(max_resp['ctrl']['ser']['mean'])\n",
    "        )\n",
    "    ),\n",
    "    levels=[0.05],\n",
    "    colors='k'\n",
    ")\n",
    "ia_fax = ax.contourf(\n",
    "    *get_contour_matrices(\n",
    "        deriv_in_pA_s,\n",
    "        1e3 * BASELINE_LEVELS, \n",
    "        (\n",
    "            normalize_matrix(max_resp['ia']['ser']['mean']) \n",
    "            - normalize_matrix(max_resp['ctrl']['ser']['mean'])\n",
    "        )\n",
    "    ),\n",
    "    levels=[0.05, 0.1, 0.2, 0.3, 1],\n",
    "    cmap=plt.get_cmap('Blues')\n",
    ")\n",
    "\n",
    "ax.contour(\n",
    "    *get_contour_matrices(\n",
    "        deriv_in_pA_s, \n",
    "        1e3 * BASELINE_LEVELS, \n",
    "        (\n",
    "            normalize_matrix(max_resp['adaptation']['ser']['mean']) \n",
    "            - normalize_matrix(max_resp['ctrl']['ser']['mean'])\n",
    "        )\n",
    "    ),\n",
    "    levels=[0.05],\n",
    "    colors='k'\n",
    ")\n",
    "ad_fax = ax.contourf(\n",
    "    *get_contour_matrices(\n",
    "        deriv_in_pA_s,\n",
    "        1e3 * BASELINE_LEVELS, \n",
    "        (\n",
    "            normalize_matrix(max_resp['adaptation']['ser']['mean']) \n",
    "            - normalize_matrix(max_resp['ctrl']['ser']['mean'])\n",
    "        )\n",
    "    ),\n",
    "    levels=[0.05, 0.1, 0.2, 0.3, 1],\n",
    "    cmap=plt.get_cmap('Reds')\n",
    ")\n",
    "\n",
    "annotation_box_style = dict(boxstyle=\"round, pad=0.25\", fc=\"w\", alpha=0.9)\n",
    "ax.annotate('Reduce adaptation', (100, 50), zorder=100, bbox=annotation_box_style)\n",
    "ax.annotate(\n",
    "    'Remove $I_A$', (500, -40), (950, -70), \n",
    "    ha='right', zorder=100, bbox=annotation_box_style,\n",
    "    arrowprops={'arrowstyle': '->'}\n",
    ")\n",
    "\n",
    "ax.set_ylabel('Baseline (pA)')\n",
    "ax.set_xlabel('$dI/dt$ (pA/s)')\n",
    "\n",
    "cbar_ax = plt.subplot(spec[:, 1])\n",
    "custom_cbar(0, ia_fax.tcolors, ia_fax.levels)\n",
    "custom_cbar(1, ad_fax.tcolors, ad_fax.levels)\n",
    "cbar_ax.yaxis.set_ticks_position('right')\n",
    "cbar_ax.yaxis.set_label_position('right')\n",
    "cbar_ax.set_ylim(np.log10([0.04, 1]))\n",
    "cbar_ax.set_xticks([])\n",
    "cbar_ax.set_ylabel('Change in norm. pop. firing rate')"
   ]
  },
  {
   "cell_type": "code",
   "execution_count": 11,
   "metadata": {},
   "outputs": [],
   "source": [
    "def get_normalizer(x):\n",
    "    def normalize(arr):\n",
    "        return (arr - x.min()) / (x.max() - x.min())\n",
    "    return normalize"
   ]
  },
  {
   "cell_type": "code",
   "execution_count": 19,
   "metadata": {},
   "outputs": [
    {
     "name": "stdout",
     "output_type": "stream",
     "text": [
      "Baseline: 0.06nA\n"
     ]
    },
    {
     "data": {
      "image/png": "[encoded data removed]",
      "text/plain": [
       "<Figure size 360x240 with 1 Axes>"
      ]
     },
     "metadata": {
      "needs_background": "light"
     },
     "output_type": "display_data"
    }
   ],
   "source": [
    "sweep_ = 7\n",
    "\n",
    "for i, (cond, ct, color, label) in enumerate(zip(\n",
    "    ['ctrl', 'ctrl', 'adaptation'], \n",
    "    ['som', 'ser', 'ser'],\n",
    "    [colors['som'], colors['ser'], sns.color_palette()[4]],\n",
    "    ['SOM', '5-HT', '5-HT with SOM adaptation']\n",
    ")):\n",
    "    norm = get_normalizer(max_resp[cond][ct]['mean'])\n",
    "    plt.fill_between(\n",
    "        deriv_in_pA_s,\n",
    "        norm(max_resp[cond][ct]['mean'][sweep_, :] - max_resp[cond][ct]['std'][sweep_, :]),\n",
    "        norm(max_resp[cond][ct]['mean'][sweep_, :] + max_resp[cond][ct]['std'][sweep_, :]),\n",
    "        color=color,\n",
    "        alpha=0.7,\n",
    "        zorder=i\n",
    "    )\n",
    "    plt.plot(\n",
    "        deriv_in_pA_s, \n",
    "        norm(max_resp[cond][ct]['mean'][sweep_, :]), \n",
    "        color=color, \n",
    "        label=label,\n",
    "        zorder=i\n",
    "    )\n",
    "    \n",
    "norm = get_normalizer(max_resp['ia']['ser']['mean'])\n",
    "plt.plot(\n",
    "    deriv_in_pA_s,\n",
    "    norm(max_resp['ia']['ser']['mean'][sweep_, :]),\n",
    "    'k--'\n",
    ")\n",
    "plt.legend()\n",
    "#plt.ylim(-0.05, 1.05)\n",
    "plt.xlabel('$dI/dt$ (pA/s)')\n",
    "plt.ylabel('Normalized peak firing rate')\n",
    "pltools.hide_border('tr', trim=True)\n",
    "\n",
    "print('Baseline: {}nA'.format(BASELINE_LEVELS[sweep_]))"
   ]
  },
  {
   "cell_type": "code",
   "execution_count": 20,
   "metadata": {},
   "outputs": [
    {
     "name": "stdout",
     "output_type": "stream",
     "text": [
      "Baseline: -0.04nA\n"
     ]
    },
    {
     "data": {
      "image/png": "[encoded data removed]",
      "text/plain": [
       "<Figure size 360x240 with 1 Axes>"
      ]
     },
     "metadata": {
      "needs_background": "light"
     },
     "output_type": "display_data"
    }
   ],
   "source": [
    "sweep_ = 2\n",
    "\n",
    "for i, (cond, ct, color, label) in enumerate(zip(\n",
    "    ['ctrl', 'ctrl', 'ia'], \n",
    "    ['som', 'ser', 'ser'],\n",
    "    [colors['som'], colors['ser'], sns.color_palette()[4]],\n",
    "    ['SOM', '5-HT', '5-HT with $I_A$ removed']\n",
    ")):\n",
    "    norm = get_normalizer(max_resp[cond][ct]['mean'])\n",
    "    plt.fill_between(\n",
    "        deriv_in_pA_s,\n",
    "        norm(max_resp[cond][ct]['mean'][sweep_, :] - max_resp[cond][ct]['std'][sweep_, :]),\n",
    "        norm(max_resp[cond][ct]['mean'][sweep_, :] + max_resp[cond][ct]['std'][sweep_, :]),\n",
    "        color=color,\n",
    "        alpha=0.7,\n",
    "        zorder=i\n",
    "    )\n",
    "    plt.plot(\n",
    "        deriv_in_pA_s, \n",
    "        norm(max_resp[cond][ct]['mean'][sweep_, :]), \n",
    "        color=color, \n",
    "        label=label,\n",
    "        zorder=i\n",
    "    )\n",
    "    \n",
    "norm = get_normalizer(max_resp['adaptation']['ser']['mean'])\n",
    "plt.plot(\n",
    "    deriv_in_pA_s,\n",
    "    norm(max_resp['adaptation']['ser']['mean'][sweep_, :]),\n",
    "    'k--'\n",
    ")\n",
    "plt.legend()\n",
    "#plt.ylim(-0.05, 1.05)\n",
    "plt.xlabel('$dI/dt$ (pA/s)')\n",
    "plt.ylabel('Normalized peak firing rate')\n",
    "pltools.hide_border('tr', trim=True)\n",
    "\n",
    "print('Baseline: {}nA'.format(BASELINE_LEVELS[sweep_]))"
   ]
  },
  {
   "cell_type": "code",
   "execution_count": 15,
   "metadata": {},
   "outputs": [
    {
     "data": {
      "image/png": "[encoded data removed]",
      "text/plain": [
       "<Figure size 360x240 with 2 Axes>"
      ]
     },
     "metadata": {
      "needs_background": "light"
     },
     "output_type": "display_data"
    }
   ],
   "source": [
    "fig = plt.figure()\n",
    "ax = plt.subplot(111)\n",
    "ax.set_title('5-HT')\n",
    "ax.set_ylabel('Baseline (pA)')\n",
    "ax.set_xlabel('$dI/dt$ (pA/s)')\n",
    "mappable = plt.pcolormesh(\n",
    "    np.concatenate([[1000], (deriv_in_pA_s[1:] + deriv_in_pA_s[:-1])/2., [9]]), \n",
    "    1e3 * np.linspace(BASELINE_LEVELS.min() - 0.01, BASELINE_LEVELS.max() + 0.01, len(BASELINE_LEVELS) + 1), \n",
    "    (max_resp['ctrl']['ser']['mean']),\n",
    "    cmap=plt.get_cmap('YlOrRd'),\n",
    "    vmin=0\n",
    ")\n",
    "plt.pcolormesh(\n",
    "    np.concatenate([[1000], (deriv_in_pA_s[1:] + deriv_in_pA_s[:-1])/2., [9]]), \n",
    "    1e3 * np.linspace(BASELINE_LEVELS.min() - 0.01, BASELINE_LEVELS.max() + 0.01, len(BASELINE_LEVELS) + 1), \n",
    "    1./(max_resp['ctrl']['ser']['mean']),\n",
    "    cmap=plt.get_cmap('Greys'),\n",
    "    vmin=0, vmax=0.01\n",
    ")\n",
    "cbar = fig.colorbar(mappable)\n",
    "cbar.set_label('Pop. firing rate\\n(Hz/neuron)')\n",
    "\n",
    "#savefig(os.path.join(IMG_PATH, 'scratch_ser_deriv'))"
   ]
  },
  {
   "cell_type": "code",
   "execution_count": 147,
   "metadata": {},
   "outputs": [
    {
     "name": "stdout",
     "output_type": "stream",
     "text": [
      "Saving svg\n",
      "Saving png\n",
      "Done!\n"
     ]
    },
    {
     "data": {
      "image/png": "[encoded data removed]",
      "text/plain": [
       "<Figure size 360x240 with 2 Axes>"
      ]
     },
     "metadata": {
      "needs_background": "light"
     },
     "output_type": "display_data"
    }
   ],
   "source": [
    "fig = plt.figure()\n",
    "ax = plt.subplot(111)\n",
    "ax.set_title('SOM')\n",
    "ax.set_ylabel('Baseline (pA)')\n",
    "ax.set_xlabel('$dI/dt$ (pA/s)')\n",
    "mappable = plt.pcolormesh(\n",
    "    np.concatenate([[1000], (deriv_in_pA_s[1:] + deriv_in_pA_s[:-1])/2., [9]]), \n",
    "    1e3 * np.linspace(BASELINE_LEVELS.min() - 0.01, BASELINE_LEVELS.max() + 0.01, len(BASELINE_LEVELS) + 1), \n",
    "    (max_resp['ctrl']['som']['mean']),\n",
    "    cmap=plt.get_cmap('YlOrRd'),\n",
    "    vmin=0\n",
    ")\n",
    "cbar = fig.colorbar(mappable)\n",
    "cbar.set_label('Pop. firing rate\\n(Hz/neuron)')\n",
    "\n",
    "savefig(os.path.join(IMG_PATH, 'scratch_som_deriv'))"
   ]
  },
  {
   "cell_type": "code",
   "execution_count": 148,
   "metadata": {},
   "outputs": [
    {
     "name": "stdout",
     "output_type": "stream",
     "text": [
      "Saving svg\n",
      "Saving png\n",
      "Done!\n"
     ]
    },
    {
     "data": {
      "image/png": "[encoded data removed]",
      "text/plain": [
       "<Figure size 360x240 with 2 Axes>"
      ]
     },
     "metadata": {
      "needs_background": "light"
     },
     "output_type": "display_data"
    }
   ],
   "source": [
    "fig = plt.figure()\n",
    "ax = plt.subplot(111)\n",
    "ax.set_title('5-HT: Reduce adaptation')\n",
    "ax.set_ylabel('Baseline (pA)')\n",
    "ax.set_xlabel('$dI/dt$ (pA/s)')\n",
    "mappable = plt.pcolormesh(\n",
    "    np.concatenate([[1000], (deriv_in_pA_s[1:] + deriv_in_pA_s[:-1])/2., [9]]), \n",
    "    1e3 * np.linspace(BASELINE_LEVELS.min() - 0.01, BASELINE_LEVELS.max() + 0.01, len(BASELINE_LEVELS) + 1), \n",
    "    ((max_resp['adaptation']['ser']['mean']) \n",
    "        - (max_resp['ctrl']['ser']['mean'])),\n",
    "    cmap=plt.get_cmap('YlOrRd'),\n",
    ")\n",
    "cbar = fig.colorbar(mappable)\n",
    "cbar.set_label('Change in pop. firing rate\\n(Hz/neuron)')\n",
    "\n",
    "savefig(os.path.join(IMG_PATH, 'scratch_ser_adaptation_deriv'))"
   ]
  },
  {
   "cell_type": "code",
   "execution_count": 149,
   "metadata": {},
   "outputs": [
    {
     "name": "stdout",
     "output_type": "stream",
     "text": [
      "Saving svg\n",
      "Saving png\n",
      "Done!\n"
     ]
    },
    {
     "data": {
      "image/png": "[encoded data removed]",
      "text/plain": [
       "<Figure size 360x240 with 2 Axes>"
      ]
     },
     "metadata": {
      "needs_background": "light"
     },
     "output_type": "display_data"
    }
   ],
   "source": [
    "fig = plt.figure()\n",
    "ax = plt.subplot(111)\n",
    "ax.set_title('5-HT: Reduce adaptation\\n(DV controlled)')\n",
    "ax.set_ylabel('Baseline (pA)')\n",
    "ax.set_xlabel('$dI/dt$ (pA/s)')\n",
    "mappable = plt.pcolormesh(\n",
    "    np.concatenate([[1000], (deriv_in_pA_s[1:] + deriv_in_pA_s[:-1])/2., [9]]), \n",
    "    1e3 * np.linspace(BASELINE_LEVELS.min() - 0.01, BASELINE_LEVELS.max() + 0.01, len(BASELINE_LEVELS) + 1), \n",
    "    ((max_resp['dv_adaptation']['ser']['mean']) \n",
    "        - (max_resp['dv']['ser']['mean'])),\n",
    "    cmap=plt.get_cmap('YlOrRd'),\n",
    ")\n",
    "cbar = fig.colorbar(mappable)\n",
    "cbar.set_label('Change in pop. firing rate\\n(Hz/neuron)')\n",
    "\n",
    "savefig(os.path.join(IMG_PATH, 'scratch_ser_dv_adaptation_deriv'))"
   ]
  },
  {
   "cell_type": "code",
   "execution_count": 150,
   "metadata": {},
   "outputs": [
    {
     "name": "stdout",
     "output_type": "stream",
     "text": [
      "Saving svg\n",
      "Saving png\n",
      "Done!\n"
     ]
    },
    {
     "data": {
      "image/png": "[encoded data removed]",
      "text/plain": [
       "<Figure size 360x240 with 2 Axes>"
      ]
     },
     "metadata": {
      "needs_background": "light"
     },
     "output_type": "display_data"
    }
   ],
   "source": [
    "fig = plt.figure()\n",
    "ax = plt.subplot(111)\n",
    "ax.set_title('5-HT: Remove $I_A$')\n",
    "ax.set_ylabel('Baseline (pA)')\n",
    "ax.set_xlabel('$dI/dt$ (pA/s)')\n",
    "mappable = plt.pcolormesh(\n",
    "    np.concatenate([[1000], (deriv_in_pA_s[1:] + deriv_in_pA_s[:-1])/2., [9]]), \n",
    "    1e3 * np.linspace(BASELINE_LEVELS.min() - 0.01, BASELINE_LEVELS.max() + 0.01, len(BASELINE_LEVELS) + 1), \n",
    "    ((max_resp['ia']['ser']['mean']) \n",
    "        - (max_resp['ctrl']['ser']['mean'])),\n",
    "    cmap=plt.get_cmap('coolwarm'),\n",
    "    vmin=-7, vmax=7\n",
    ")\n",
    "cbar = fig.colorbar(mappable)\n",
    "cbar.set_label('Change in pop. firing rate\\n(Hz/neuron)')\n",
    "\n",
    "savefig(os.path.join(IMG_PATH, 'scratch_ser_ia_deriv'))"
   ]
  },
  {
   "cell_type": "markdown",
   "metadata": {},
   "source": [
    "---"
   ]
  },
  {
   "cell_type": "code",
   "execution_count": 151,
   "metadata": {},
   "outputs": [],
   "source": [
    "def r_squared(x, y):\n",
    "    sum_sq_residuals = np.polyfit(x, y, 1, full=True)[1]\n",
    "    total_var = np.var(y) * len(y)\n",
    "    return 1 - sum_sq_residuals / total_var"
   ]
  },
  {
   "cell_type": "code",
   "execution_count": 166,
   "metadata": {},
   "outputs": [],
   "source": [
    "def plot_gain_and_uncertainty(x, y_arr, ax=None, **pltargs):\n",
    "    interp_x = np.linspace(10, 1000, 10)\n",
    "    interp_y = np.apply_along_axis(lambda vec: np.interp(interp_x, deriv_in_pA_s[::-1], vec[::-1]), 1, y_arr)\n",
    "    gain = np.apply_along_axis(lambda vec: np.polyfit(interp_x, vec, 1)[0], 1, interp_y)\n",
    "    rsq = np.apply_along_axis(lambda vec: r_squared(interp_x, vec), 1, interp_y)\n",
    "    \n",
    "    if ax is None:\n",
    "        ax= plt.gca()\n",
    "    \n",
    "    label = pltargs.pop('label', None)\n",
    "    ax.plot(x, gain, label=label, **pltargs)\n",
    "    for x_pt, gain_pt, rsq_pt in zip(x, gain, rsq):\n",
    "        ax.plot(x_pt, gain_pt, 'o', alpha=rsq_pt, **pltargs)"
   ]
  },
  {
   "cell_type": "code",
   "execution_count": 163,
   "metadata": {},
   "outputs": [
    {
     "data": {
      "text/plain": [
       "[<matplotlib.lines.Line2D at 0x7fc1e0689d10>]"
      ]
     },
     "execution_count": 163,
     "metadata": {},
     "output_type": "execute_result"
    },
    {
     "data": {
      "image/png": "[encoded data removed]",
      "text/plain": [
       "<Figure size 360x240 with 1 Axes>"
      ]
     },
     "metadata": {
      "needs_background": "light"
     },
     "output_type": "display_data"
    }
   ],
   "source": [
    "plt.plot(deriv_in_pA_s, max_resp['ctrl']['som']['mean'][0, :])\n",
    "plt.plot(np.linspace(10, 1000, 10), np.interp(np.linspace(10, 1000, 10), deriv_in_pA_s[::-1], max_resp['ctrl']['som']['mean'][0, ::-1]))"
   ]
  },
  {
   "cell_type": "code",
   "execution_count": 159,
   "metadata": {},
   "outputs": [
    {
     "data": {
      "text/plain": [
       "array([1000.        ,  784.75997035,  615.84821107,  483.29302386,\n",
       "        379.26901907,  297.63514416,  233.57214691,  183.29807108,\n",
       "        143.84498883,  112.88378917,   88.58667904,   69.51927962,\n",
       "         54.55594781,   42.81332399,   33.59818286,   26.36650899,\n",
       "         20.69138081,   16.23776739,   12.74274986,   10.        ])"
      ]
     },
     "execution_count": 159,
     "metadata": {},
     "output_type": "execute_result"
    }
   ],
   "source": [
    "deriv_in_pA_s"
   ]
  },
  {
   "cell_type": "code",
   "execution_count": 167,
   "metadata": {},
   "outputs": [
    {
     "data": {
      "image/png": "[encoded data removed]",
      "text/plain": [
       "<Figure size 360x240 with 1 Axes>"
      ]
     },
     "metadata": {
      "needs_background": "light"
     },
     "output_type": "display_data"
    }
   ],
   "source": [
    "plot_gain_and_uncertainty(BASELINE_LEVELS, max_resp['ctrl']['som']['mean'], color=colors['som'], markersize=10, label='SOM')\n",
    "plot_gain_and_uncertainty(BASELINE_LEVELS, max_resp['ctrl']['ser']['mean'], color=colors['ser'], markersize=10, label='5-HT')\n",
    "plot_gain_and_uncertainty(BASELINE_LEVELS, max_resp['ia']['ser']['mean'], color='green', markersize=10, label='Remove $I_A$')\n",
    "plot_gain_and_uncertainty(BASELINE_LEVELS, max_resp['adaptation']['ser']['mean'], color='red', markersize=10, label='Reduce adaptation')\n",
    "plt.legend()\n",
    "plt.xticks(rotation=45, ha='right')\n",
    "plt.xlabel('Baseline (nA)')\n",
    "plt.ylabel('Derivative sensitivity\\n(Hz/neuron per pA/s)')\n",
    "\n",
    "plt.savefig(os.path.join(IMG_PATH, 'scratch_deriv_lineplot.png'), dpi=600, bbox_inches='tight')"
   ]
  },
  {
   "cell_type": "markdown",
   "metadata": {},
   "source": [
    "---"
   ]
  },
  {
   "cell_type": "code",
   "execution_count": 42,
   "metadata": {},
   "outputs": [],
   "source": [
    "def max_norm(x):\n",
    "    return x / x.max()"
   ]
  },
  {
   "cell_type": "code",
   "execution_count": 78,
   "metadata": {},
   "outputs": [
    {
     "data": {
      "text/plain": [
       "<matplotlib.colorbar.Colorbar at 0x7fc1e12adfd0>"
      ]
     },
     "execution_count": 78,
     "metadata": {},
     "output_type": "execute_result"
    },
    {
     "data": {
      "image/png": "[encoded data removed]",
      "text/plain": [
       "<Figure size 360x240 with 2 Axes>"
      ]
     },
     "metadata": {
      "needs_background": "light"
     },
     "output_type": "display_data"
    }
   ],
   "source": [
    "fig = plt.figure()\n",
    "ax = plt.subplot(111)\n",
    "padded_x = np.concatenate([deriv_in_pA_s, [0]])\n",
    "mappable = plt.pcolormesh(\n",
    "    deriv_in_pA_s, \n",
    "    1e3 * np.linspace(BASELINE_LEVELS.min() - 0.01, BASELINE_LEVELS.max() + 0.01, len(BASELINE_LEVELS) + 1), \n",
    "    ((max_resp['adaptation']['ser']['mean']) \n",
    "        - (max_resp['ctrl']['ser']['mean'])),\n",
    "    cmap=plt.get_cmap('Reds'),\n",
    "    shading='nearest',\n",
    ")\n",
    "fig.colorbar(mappable)"
   ]
  },
  {
   "cell_type": "code",
   "execution_count": 50,
   "metadata": {},
   "outputs": [
    {
     "data": {
      "text/plain": [
       "<matplotlib.colorbar.Colorbar at 0x7fc1e1f7e350>"
      ]
     },
     "execution_count": 50,
     "metadata": {},
     "output_type": "execute_result"
    },
    {
     "data": {
      "image/png": "[encoded data removed]",
      "text/plain": [
       "<Figure size 360x240 with 2 Axes>"
      ]
     },
     "metadata": {
      "needs_background": "light"
     },
     "output_type": "display_data"
    }
   ],
   "source": [
    "fig = plt.figure()\n",
    "ax = plt.subplot(111)\n",
    "mappable = plt.pcolormesh(\n",
    "    deriv_in_pA_s, \n",
    "    1e3 * BASELINE_LEVELS, \n",
    "    ((max_resp['ia']['ser']['mean']) \n",
    "        - (max_resp['ctrl']['ser']['mean'])),\n",
    "    cmap=plt.get_cmap('coolwarm'),\n",
    "    vmin=-7, vmax=7\n",
    ")\n",
    "fig.colorbar(mappable)"
   ]
  },
  {
   "cell_type": "code",
   "execution_count": 58,
   "metadata": {},
   "outputs": [],
   "source": [
    "from matplotlib.colors import LinearSegmentedColormap"
   ]
  },
  {
   "cell_type": "code",
   "execution_count": 77,
   "metadata": {},
   "outputs": [
    {
     "data": {
      "image/png": "[encoded data removed]",
      "text/plain": [
       "<Figure size 360x240 with 1 Axes>"
      ]
     },
     "metadata": {
      "needs_background": "light"
     },
     "output_type": "display_data"
    }
   ],
   "source": [
    "fig = plt.figure()\n",
    "ax = plt.subplot(111)\n",
    "mappable = plt.pcolormesh(\n",
    "    deriv_in_pA_s, \n",
    "    1e3 * BASELINE_LEVELS, \n",
    "    np.abs((max_resp['ia']['ser']['mean']) \n",
    "        - (max_resp['ctrl']['ser']['mean'])),\n",
    "    cmap=LinearSegmentedColormap.from_list('my_map', [(1, 0, 0, 0), (1, 0, 0, 1)]),\n",
    "    edgecolors='none'\n",
    ")\n",
    "mappable = plt.pcolormesh(\n",
    "    deriv_in_pA_s, \n",
    "    1e3 * BASELINE_LEVELS, \n",
    "    np.abs((max_resp['adaptation']['ser']['mean']) \n",
    "        - (max_resp['ctrl']['ser']['mean'])),\n",
    "    cmap=LinearSegmentedColormap.from_list('my_other_map',[(0, 0, 1, 0), (0, 0, 1, 1)],),\n",
    ")\n",
    "mappable = plt.pcolormesh(\n",
    "    deriv_in_pA_s, \n",
    "    1e3 * BASELINE_LEVELS, \n",
    "    np.sqrt(np.abs(normalize_matrix(max_resp['ia']['ser']['mean']) \n",
    "        - normalize_matrix(max_resp['ctrl']['ser']['mean'])) * np.abs(normalize_matrix(max_resp['adaptation']['ser']['mean']) \n",
    "        - normalize_matrix(max_resp['ctrl']['ser']['mean']))),\n",
    "    cmap=LinearSegmentedColormap.from_list('my_map', [(0, 1, 0, 0), (0, 1, 0, 1)]),\n",
    ")\n",
    "#fig.colorbar(mappable)"
   ]
  },
  {
   "cell_type": "code",
   "execution_count": 73,
   "metadata": {},
   "outputs": [
    {
     "data": {
      "text/plain": [
       "<matplotlib.colorbar.Colorbar at 0x7fc1e1524f50>"
      ]
     },
     "execution_count": 73,
     "metadata": {},
     "output_type": "execute_result"
    },
    {
     "data": {
      "image/png": "[encoded data removed]",
      "text/plain": [
       "<Figure size 360x240 with 2 Axes>"
      ]
     },
     "metadata": {
      "needs_background": "light"
     },
     "output_type": "display_data"
    }
   ],
   "source": [
    "fig = plt.figure()\n",
    "ax = plt.subplot(111)\n",
    "mappable = plt.pcolormesh(\n",
    "    deriv_in_pA_s, \n",
    "    1e3 * BASELINE_LEVELS, \n",
    "    np.abs(normalize_matrix(max_resp['ia']['ser']['mean']) \n",
    "        - normalize_matrix(max_resp['ctrl']['ser']['mean'])) * np.abs(normalize_matrix(max_resp['adaptation']['ser']['mean']) \n",
    "        - normalize_matrix(max_resp['ctrl']['ser']['mean'])),\n",
    "    cmap=LinearSegmentedColormap.from_list('my_map', [(0, 1, 0, 0), (0, 1, 0, 1)]),\n",
    ")\n",
    "\n",
    "fig.colorbar(mappable)"
   ]
  },
  {
   "cell_type": "code",
   "execution_count": 162,
   "metadata": {},
   "outputs": [
    {
     "data": {
      "text/plain": [
       "array([24.56670437, 27.91671391, 30.14004765, 30.67671871, 30.05504942,\n",
       "       26.64171371, 24.68337507, 23.18503809, 21.52003841, 20.42337141,\n",
       "       19.72003765, 19.54337034, 19.20003676, 19.07503819, 19.14670448,\n",
       "       19.01336946, 18.73503404, 18.650035  , 18.33502857, 18.21667036])"
      ]
     },
     "execution_count": 162,
     "metadata": {},
     "output_type": "execute_result"
    }
   ],
   "source": [
    "max_resp[cond][ct]['mean'][5, :]"
   ]
  },
  {
   "cell_type": "code",
   "execution_count": 226,
   "metadata": {},
   "outputs": [
    {
     "data": {
      "image/png": "[encoded data removed]",
      "text/plain": [
       "<Figure size 360x240 with 2 Axes>"
      ]
     },
     "metadata": {
      "needs_background": "light"
     },
     "output_type": "display_data"
    }
   ],
   "source": [
    "norm = get_normalizer(max_resp['ctrl']['ser']['mean'])\n",
    "cbar = plt.figure().colorbar(interpolated_contour(\n",
    "    deriv_in_pA_s, \n",
    "    1e3 * BASELINE_LEVELS, \n",
    "    (\n",
    "        norm(max_resp['ia']['ser']['mean'])\n",
    "        - norm(max_resp['ctrl']['ser']['mean'])\n",
    "    ), \n",
    "    levels=np.array([-0.3, -0.2, -0.1, 0, 0.1, 0.2, 0.3]),\n",
    "    cmap=plt.get_cmap('coolwarm')\n",
    "))\n"
   ]
  },
  {
   "cell_type": "code",
   "execution_count": 235,
   "metadata": {},
   "outputs": [
    {
     "data": {
      "image/png": "[encoded data removed]",
      "text/plain": [
       "<Figure size 360x240 with 2 Axes>"
      ]
     },
     "metadata": {
      "needs_background": "light"
     },
     "output_type": "display_data"
    }
   ],
   "source": [
    "norm = get_normalizer(max_resp['ctrl']['ser']['mean'])\n",
    "cbar = plt.figure().colorbar(interpolated_contour(\n",
    "    deriv_in_pA_s, \n",
    "    1e3 * BASELINE_LEVELS, \n",
    "    (\n",
    "        norm(max_resp['adaptation']['ser']['mean'])\n",
    "        - norm(max_resp['ctrl']['ser']['mean'])\n",
    "    ), \n",
    "    levels=np.array([-2, -1.5, -1, -0.5, 0, 0.5, 1, 1.5, 2]),\n",
    "    cmap=plt.get_cmap('coolwarm')\n",
    "))\n"
   ]
  },
  {
   "cell_type": "code",
   "execution_count": 110,
   "metadata": {},
   "outputs": [
    {
     "data": {
      "image/png": "[encoded data removed]",
      "text/plain": [
       "<Figure size 360x240 with 2 Axes>"
      ]
     },
     "metadata": {
      "needs_background": "light"
     },
     "output_type": "display_data"
    }
   ],
   "source": [
    "cbar = plt.figure().colorbar(interpolated_contour(\n",
    "    deriv_in_pA_s, \n",
    "    1e3 * BASELINE_LEVELS, \n",
    "    (\n",
    "        normalize_matrix(max_resp['adaptation']['ser']['mean']) \n",
    "        - normalize_matrix(max_resp['ctrl']['ser']['mean'])\n",
    "    ), \n",
    "    levels=np.linspace(0, 1, 20)\n",
    "))\n",
    "cbar.set_ticks([-1, 0, 1])"
   ]
  },
  {
   "cell_type": "code",
   "execution_count": 30,
   "metadata": {},
   "outputs": [
    {
     "data": {
      "image/png": "[encoded data removed]",
      "text/plain": [
       "<Figure size 360x240 with 2 Axes>"
      ]
     },
     "metadata": {
      "needs_background": "light"
     },
     "output_type": "display_data"
    }
   ],
   "source": [
    "cbar = plt.figure().colorbar(interpolated_contour(\n",
    "    deriv_in_pA_s, \n",
    "    1e3 * BASELINE_LEVELS, \n",
    "    (\n",
    "        normalize_matrix(max_resp['dv_adaptation']['ser']['mean']) \n",
    "        - normalize_matrix(max_resp['dv']['ser']['mean'])\n",
    "    ), \n",
    "    levels=np.linspace(-1, 1, 20)\n",
    "))\n",
    "cbar.set_ticks([-1, 0, 1])"
   ]
  },
  {
   "cell_type": "markdown",
   "metadata": {},
   "source": [
    "---"
   ]
  },
  {
   "cell_type": "code",
   "execution_count": 13,
   "metadata": {},
   "outputs": [],
   "source": [
    "sample_trace_model, sample_trace_psth = sim_df.loc[\n",
    "    (sim_df['Baseline level'] == BASELINE_LEVELS[5]) & (sim_df['Rep'] == 0), ['Model', 'Principal PSTH']\n",
    "].iloc[0, :]"
   ]
  },
  {
   "cell_type": "code",
   "execution_count": 14,
   "metadata": {},
   "outputs": [],
   "source": [
    "with open(os.path.join(DATA_PATH, '0.020_baseline', 'input.dat'), 'rb') as f:\n",
    "    input_arr = pickle.load(f)\n",
    "    f.close()"
   ]
  },
  {
   "cell_type": "code",
   "execution_count": 15,
   "metadata": {},
   "outputs": [],
   "source": [
    "SWEEPS_TO_SHOW = [0, 5, 10]\n",
    "TIME_SLICE = slice(19000, 35000)\n",
    "TIME_VEC = np.arange(0, TIME_SLICE.stop - TIME_SLICE.start) * input_arr['metaparams']['dt'] * 1e-3"
   ]
  },
  {
   "cell_type": "code",
   "execution_count": 16,
   "metadata": {},
   "outputs": [
    {
     "name": "stderr",
     "output_type": "stream",
     "text": [
      "/home/eharkin/miniconda3/envs/neopozz/lib/python2.7/site-packages/matplotlib/figure.py:2267: UserWarning: This figure includes Axes that are not compatible with tight_layout, so results might be incorrect.\n",
      "  warnings.warn(\"This figure includes Axes that are not compatible \"\n"
     ]
    },
    {
     "name": "stdout",
     "output_type": "stream",
     "text": [
      "Saving svg\n",
      "Saving png\n",
      "Done!\n"
     ]
    },
    {
     "data": {
      "image/png": "[encoded data removed]",
      "text/plain": [
       "<Figure size 720x600 with 14 Axes>"
      ]
     },
     "metadata": {
      "needs_background": "light"
     },
     "output_type": "display_data"
    }
   ],
   "source": [
    "fig = plt.figure(figsize=(6, 5))\n",
    "\n",
    "spec = gs.GridSpec(2, 3, hspace=0.6, wspace=0.6)\n",
    "\n",
    "for i, sweep in enumerate(SWEEPS_TO_SHOW):\n",
    "    ax = plt.subplot(spec[0, i])\n",
    "    \n",
    "    trace_spec = gs.GridSpecFromSubplotSpec(3, 3, spec[0, i], height_ratios=[0.5, 1, 1])\n",
    "    \n",
    "    plt.subplot(trace_spec[0, :])\n",
    "    plt.title('$dI/dt = {:.1f}$ pA/s'.format(1e3 * input_arr['metaparams']['deriv_in_nA_s'][sweep]))\n",
    "    plt.plot(TIME_VEC, input_arr['ser_input'][sweep, 0, TIME_SLICE].T, color=colors['input'])\n",
    "    if i == 0:\n",
    "        pltools.add_scalebar(\n",
    "            y_size=0.1,\n",
    "            y_units='nA',\n",
    "            omit_x=True,\n",
    "            round=False,\n",
    "            anchor=(0.7, 0.1),\n",
    "            linewidth=sbarlw\n",
    "        )\n",
    "    else:\n",
    "        pltools.hide_border()\n",
    "        pltools.hide_ticks()\n",
    "    \n",
    "    plt.subplot(trace_spec[1, :])\n",
    "    plt.eventplot(\n",
    "        [np.where(sample_trace_model.ser_spktrains[sweep, j, TIME_SLICE])[0] * 0.1 * 1e-3 for j in range(20)],\n",
    "        color=colors['ser']\n",
    "    )\n",
    "    plt.xlim(0, TIME_VEC[-1])\n",
    "    pltools.hide_ticks()\n",
    "    pltools.hide_border('a')\n",
    "    \n",
    "    plt.subplot(trace_spec[2, :])\n",
    "    plt.plot(TIME_VEC, sample_trace_psth[sweep, TIME_SLICE].T, color=colors['ser'])\n",
    "    plt.ylim(-0.5, 17)\n",
    "    plt.yticks([0, 5, 10, 15])\n",
    "    if i == 0:\n",
    "        plt.ylabel('Pop. firing rate\\n(Hz/neuron)')\n",
    "        pltools.add_scalebar(\n",
    "            x_size=0.5, \n",
    "            x_units='s', \n",
    "            anchor=(0.7, 0.5), \n",
    "            round=False, \n",
    "            omit_y=True, \n",
    "            remove_frame=False,\n",
    "            linewidth=sbarlw\n",
    "        )\n",
    "    pltools.hide_border('trb', trim=True)\n",
    "\n",
    "\n",
    "\n",
    "plt.subplot(spec[1, 0])\n",
    "for i, (label, key) in enumerate(zip(['SOM', '5-HT'], ['som', 'ser'])):\n",
    "    def normalize(x):\n",
    "        return x / max_resp[key][5, :].max()\n",
    "    \n",
    "    plt.fill_between(\n",
    "        deriv_in_pA_s,\n",
    "        normalize(max_resp[key][5, :] - max_resp_std[key][5, :]),\n",
    "        normalize(max_resp[key][5, :] + max_resp_std[key][5, :]),\n",
    "        color=colors[key],\n",
    "        alpha=0.7,\n",
    "        zorder=i\n",
    "    )\n",
    "    plt.plot(\n",
    "        deriv_in_pA_s, \n",
    "        normalize(max_resp[key][5, :]), \n",
    "        color=colors[key], \n",
    "        label=label,\n",
    "        zorder=i\n",
    "    )\n",
    "plt.legend()\n",
    "plt.ylim(-0.05, 1.05)\n",
    "plt.xlabel('$dI/dt$ (pA/s)')\n",
    "plt.ylabel('Normalized peak firing rate')\n",
    "pltools.hide_border('tr', trim=True)\n",
    "\n",
    "\n",
    "som_ax = plt.subplot(spec[1, 1])\n",
    "som_cbar = fig.colorbar(\n",
    "    interpolated_contour(\n",
    "        deriv_in_pA_s, \n",
    "        1e3 * BASELINE_LEVELS, \n",
    "        max_resp['som'], \n",
    "        ax=som_ax,\n",
    "        levels=np.linspace(0, 40, 6)\n",
    "    )\n",
    ")\n",
    "som_cbar.ax.set_ylabel('SOM peak firing rate\\n(Hz/neuron)')\n",
    "som_ax.set_ylabel('Baseline (pA)')\n",
    "som_ax.set_xlabel('$dI/dt$ (pA/s)')\n",
    "\n",
    "\n",
    "raw_ax = plt.subplot(spec[1, 2])\n",
    "raw_cbar = fig.colorbar(\n",
    "    interpolated_contour(\n",
    "        deriv_in_pA_s, \n",
    "        1e3 * BASELINE_LEVELS, \n",
    "        max_resp['ser'], \n",
    "        ax=raw_ax, \n",
    "        levels=np.linspace(0, 20, 6)\n",
    "    )\n",
    ")\n",
    "raw_cbar.ax.set_ylabel('5-HT peak firing rate\\n(Hz/neuron)')\n",
    "#raw_ax.set_ylabel('Baseline (pA)')\n",
    "raw_ax.set_xlabel('$dI/dt$ (pA/s)')\n",
    "\n",
    "plt.tight_layout()\n",
    "\n",
    "if IMG_PATH is not None:\n",
    "    savefig(os.path.join(IMG_PATH, 'derivative_filter'))"
   ]
  },
  {
   "cell_type": "code",
   "execution_count": null,
   "metadata": {},
   "outputs": [],
   "source": []
  }
 ],
 "metadata": {
  "kernelspec": {
   "display_name": "Python 2",
   "language": "python",
   "name": "python2"
  },
  "language_info": {
   "codemirror_mode": {
    "name": "ipython",
    "version": 2
   },
   "file_extension": ".py",
   "mimetype": "text/x-python",
   "name": "python",
   "nbconvert_exporter": "python",
   "pygments_lexer": "ipython2",
   "version": "2.7.15"
  }
 },
 "nbformat": 4,
 "nbformat_minor": 2
}

{
 "cells": [
  {
   "cell_type": "code",
   "execution_count": 1,
   "metadata": {},
   "outputs": [],
   "source": [
    "from colorscheme import colors"
   ]
  },
  {
   "cell_type": "code",
   "execution_count": 2,
   "metadata": {},
   "outputs": [
    {
     "name": "stdout",
     "output_type": "stream",
     "text": [
      "/Users/eharkin/Documents/projects/5HTGIF\n"
     ]
    }
   ],
   "source": [
    "import os\n",
    "os.chdir(os.path.join('..', '..', '..'))\n",
    "print(os.getcwd())"
   ]
  },
  {
   "cell_type": "code",
   "execution_count": 3,
   "metadata": {},
   "outputs": [],
   "source": [
    "import pickle\n",
    "\n",
    "import numpy as np\n",
    "import matplotlib.pyplot as plt\n",
    "from matplotlib import cm\n",
    "import matplotlib.gridspec as gs\n",
    "import pandas as pd\n",
    "from ezephys import pltools\n",
    "\n",
    "import sys\n",
    "sys.path.append('./analysis/spk_timing/IA_mod')\n",
    "import IAmod\n",
    "\n",
    "from grr.Spiketrain import getSpikeLatency\n",
    "from grr.Tools import reprint"
   ]
  },
  {
   "cell_type": "code",
   "execution_count": 4,
   "metadata": {},
   "outputs": [],
   "source": [
    "IMG_PATH = os.path.join('figs', 'ims', 'writeup', 'fig1')\n",
    "NOTEBOOK_PATH = os.path.join('figs', 'scripts', 'writeup')\n",
    "\n",
    "plt.style.use(os.path.join(NOTEBOOK_PATH, 'publication_figure_style.dms'))"
   ]
  },
  {
   "cell_type": "markdown",
   "metadata": {},
   "source": [
    "# Create toy models"
   ]
  },
  {
   "cell_type": "code",
   "execution_count": 5,
   "metadata": {
    "lines_to_next_cell": 2,
    "title": "MAKE FIGURE"
   },
   "outputs": [],
   "source": [
    "ga = 10\n",
    "tau_h = 1.2\n",
    "input_strength = 60.2\n",
    "Vinput = np.empty((10000, 1))\n",
    "step_index = 3000\n",
    "burn_index = 2000  # Burn in period in indices\n",
    "Vinput[step_index:] = input_strength\n",
    "\n",
    "toy_IA_neuron = IAmod.IAmod(ga, tau_h, 0)\n",
    "toy_IA_neuron.vreset = -60.\n",
    "toy_knockdown_neuron = IAmod.IAmod(ga * 0.5, tau_h, 0)\n",
    "toy_knockdown_neuron.vreset = -60.\n",
    "toy_ohmic_neuron = IAmod.IAmod(0, tau_h, 0)\n",
    "toy_ohmic_neuron.vreset = -60."
   ]
  },
  {
   "cell_type": "code",
   "execution_count": 6,
   "metadata": {
    "lines_to_next_cell": 2
   },
   "outputs": [
    {
     "data": {
      "image/png": "[encoded data removed]",
      "text/plain": [
       "<Figure size 204x120 with 4 Axes>"
      ]
     },
     "metadata": {},
     "output_type": "display_data"
    }
   ],
   "source": [
    "pre_pulse = {\n",
    "    'lo': -70.,\n",
    "    'hi': -45.\n",
    "}\n",
    "\n",
    "spec_model = gs.GridSpec(2, 2, height_ratios = [1, 0.2], hspace = 0.1)\n",
    "\n",
    "fig = plt.figure(figsize = (1.7, 1))\n",
    "\n",
    "### A: simulated proof-of-principle\n",
    "\n",
    "V_ax_lo = plt.subplot(spec_model[0, 0])\n",
    "I_ax_lo = plt.subplot(spec_model[1, 0])\n",
    "\n",
    "# Simulations without depolarizing pre-pulse\n",
    "Vinput[:step_index] = toy_IA_neuron.ss_clamp(pre_pulse['lo'])\n",
    "\n",
    "V_mat_IA, spks_mat, _, _ = toy_IA_neuron.simulate(pre_pulse['lo'], Vinput)\n",
    "V_mat_IA[spks_mat] = 60\n",
    "V_ax_lo.plot(V_mat_IA[burn_index:], '-', color=colors['ser'])\n",
    "V_ax_lo.set_ylim(-100, 62)\n",
    "I_ax_lo.plot(Vinput[burn_index:], color=colors['input'])\n",
    "\n",
    "V_mat_ohmic, spks_mat, _, _ = toy_ohmic_neuron.simulate(pre_pulse['lo'], Vinput)\n",
    "V_mat_ohmic[spks_mat] = 60\n",
    "V_ax_lo.plot(V_mat_ohmic[burn_index:], '-', color=colors['4AP'])\n",
    "I_ax_lo.plot(Vinput[burn_index:], color = 'gray')\n",
    "\n",
    "V_ax_hi = plt.subplot(spec_model[0, 1])\n",
    "I_ax_hi = plt.subplot(spec_model[1, 1])\n",
    "\n",
    "# Simulations with depolarizing pre-pulse\n",
    "Vinput[:step_index] = toy_IA_neuron.ss_clamp(pre_pulse['hi'])\n",
    "\n",
    "V_mat_IA, spks_mat, _, _ = toy_IA_neuron.simulate(pre_pulse['hi'], Vinput)\n",
    "V_mat_IA[spks_mat] = 60\n",
    "V_ax_hi.plot(V_mat_IA[burn_index:], '-', color=colors['ser'])\n",
    "V_ax_hi.set_ylim(V_ax_lo.get_ylim())\n",
    "I_ax_hi.plot(Vinput[burn_index:], color = colors['input'])\n",
    "I_ax_hi.set_ylim(I_ax_lo.get_ylim())\n",
    "\n",
    "V_mat_ohmic, spks_mat, _, _ = toy_ohmic_neuron.simulate(pre_pulse['hi'], Vinput)\n",
    "V_mat_ohmic[spks_mat] = 60\n",
    "V_ax_hi.plot(V_mat_ohmic[burn_index:], '-', color=colors['4AP'])\n",
    "#I_ax_hi.plot(Vinput[burn_index:], color = colors['input'])\n",
    "\n",
    "V_ax_lo.axhline(-60, color = 'k', ls = '--', lw = 0.5, dashes = (10, 10))\n",
    "V_ax_lo.annotate('$-60$mV', (8000, -70), ha = 'right', va='top')\n",
    "\n",
    "V_ax_hi.axhline(-60, color = 'k', ls = '--', lw = 0.5, dashes = (10, 10))\n",
    "#V_ax_hi.annotate('$-60$mV', (5000, -68), ha = 'right')\n",
    "\n",
    "I_ax_lo.annotate('26mV', (8000, 24), ha = 'right', va = 'top')\n",
    "#I_ax_hi.annotate('26mV', (5000, 24), ha = 'right', va = 'top')\n",
    "\n",
    "pltools.add_scalebar(ax = V_ax_lo, y_units = 'mV', omit_x = True, anchor = (0, 0.2), y_label_space = (0.05))\n",
    "pltools.add_scalebar(ax = I_ax_lo, y_units = 'mV', omit_x = True, anchor = (0, 0.2), y_label_space = (0.05))\n",
    "pltools.hide_border(ax = V_ax_lo)\n",
    "pltools.hide_ticks(ax = V_ax_lo)\n",
    "pltools.hide_border(ax = I_ax_lo)\n",
    "pltools.hide_ticks(ax = I_ax_lo)\n",
    "\n",
    "#pltools.add_scalebar(ax = ax_ohmic, y_units = 'mV', omit_x = True, anchor = (-0.05, 0), y_label_space = (-0.05))\n",
    "pltools.hide_border(ax = V_ax_hi)\n",
    "pltools.hide_ticks(ax = V_ax_hi)\n",
    "pltools.hide_border(ax = I_ax_hi)\n",
    "pltools.hide_ticks(ax = I_ax_hi)\n",
    "\n",
    "plt.subplots_adjust(left=0.2, bottom=0.15, top=0.95, right=0.95)\n",
    "\n",
    "if IMG_PATH is not None:\n",
    "    plt.savefig(os.path.join(IMG_PATH, 'toy_IA_traces.png'))\n",
    "    plt.savefig(os.path.join(IMG_PATH, 'toy_IA_traces.svg'))"
   ]
  },
  {
   "cell_type": "code",
   "execution_count": 7,
   "metadata": {},
   "outputs": [
    {
     "name": "stdout",
     "output_type": "stream",
     "text": [
      "Running simulations for V0 = -21.075\r"
     ]
    }
   ],
   "source": [
    "input_strength = 60.2\n",
    "Vinput = np.empty((10000, 1))\n",
    "step_index = 0\n",
    "Vinput[step_index:] = input_strength\n",
    "dt = 1e-3\n",
    "\n",
    "latency_data = {\n",
    "    'IA_V0': [],\n",
    "    'IA_latency': [],\n",
    "    'knockdown_V0': [],\n",
    "    'knockdown_latency': [],\n",
    "    'ohmic_V0': [],\n",
    "    'ohmic_latency': []\n",
    "}\n",
    "for V0 in np.linspace(-90, -21, 25):\n",
    "    reprint('Running simulations for V0 = {}'.format(V0))\n",
    "    \n",
    "    for mod, latency_label, V0_label in zip(\n",
    "        [toy_IA_neuron, toy_knockdown_neuron, toy_ohmic_neuron], \n",
    "        ['IA_latency', 'knockdown_latency', 'ohmic_latency'], \n",
    "        ['IA_V0', 'knockdown_V0', 'ohmic_V0']\n",
    "    ):\n",
    "        Vinput[:step_index] = mod.ss_clamp(V0)\n",
    "        V_mat, spks_mat, _, _ = mod.simulate(V0, Vinput, dt=1e-3)\n",
    "        latency_data[latency_label].append(\n",
    "            getSpikeLatency(\n",
    "                spks_mat.flatten().astype(np.float16), step_index * 1e-3, threshold=0.5, dt=dt\n",
    "            )\n",
    "        )\n",
    "        latency_data[V0_label].append(V0)#V_mat.flatten()[(step_index - 100):(step_index-1)].mean())"
   ]
  },
  {
   "cell_type": "code",
   "execution_count": 10,
   "metadata": {},
   "outputs": [
    {
     "data": {
      "image/png": "[encoded data removed]",
      "text/plain": [
       "<Figure size 204x120 with 1 Axes>"
      ]
     },
     "metadata": {
      "needs_background": "light"
     },
     "output_type": "display_data"
    }
   ],
   "source": [
    "plt.figure(figsize=(1.7, 1))\n",
    "\n",
    "plt.plot(latency_data['IA_V0'], latency_data['IA_latency'], label= 'Bl.', color=colors['ser'])\n",
    "plt.plot(latency_data['knockdown_V0'], latency_data['knockdown_latency'], label='50\\% KD', color='green')\n",
    "plt.plot(latency_data['ohmic_V0'], latency_data['ohmic_latency'], label='KO', color=colors['4AP'])\n",
    "\n",
    "plt.xlabel('Initial voltage (mV)')\n",
    "plt.ylabel('Latency (AU)')\n",
    "plt.legend()\n",
    "pltools.hide_border('tr', trim=True)\n",
    "\n",
    "plt.subplots_adjust(left=0.2, bottom=0.25, top=0.95, right=0.95)\n",
    "\n",
    "if IMG_PATH is not None:\n",
    "    plt.savefig(os.path.join(IMG_PATH, 'toy_IA_absolute_latency.png'))\n",
    "    plt.savefig(os.path.join(IMG_PATH, 'toy_IA_absolute_latency.svg'))"
   ]
  },
  {
   "cell_type": "code",
   "execution_count": 12,
   "metadata": {},
   "outputs": [
    {
     "data": {
      "image/png": "[encoded data removed]",
      "text/plain": [
       "<Figure size 204x120 with 1 Axes>"
      ]
     },
     "metadata": {
      "needs_background": "light"
     },
     "output_type": "display_data"
    }
   ],
   "source": [
    "plt.figure(figsize=(1.7, 1))\n",
    "\n",
    "plt.plot(\n",
    "    latency_data['IA_V0'], \n",
    "    latency_data['IA_latency'] / np.nanmax(latency_data['IA_latency']), \n",
    "    label= 'Bl.', \n",
    "    color=colors['ser']\n",
    ")\n",
    "plt.plot(\n",
    "    latency_data['knockdown_V0'], \n",
    "    latency_data['knockdown_latency'] / np.nanmax(latency_data['knockdown_latency']), \n",
    "    label='50\\% KD', \n",
    "    color='green'\n",
    ")\n",
    "plt.plot(\n",
    "    latency_data['ohmic_V0'], \n",
    "    latency_data['ohmic_latency'] / np.nanmax(latency_data['ohmic_latency']), \n",
    "    label='KO', \n",
    "    color=colors['4AP']\n",
    ")\n",
    "\n",
    "plt.xlabel('Initial voltage (mV)')\n",
    "plt.ylabel('Norm. latency')\n",
    "plt.legend()\n",
    "pltools.hide_border('tr', trim=True)\n",
    "\n",
    "plt.subplots_adjust(left=0.2, bottom=0.25, top=0.95, right=0.95)\n",
    "\n",
    "if IMG_PATH is not None:\n",
    "    plt.savefig(os.path.join(IMG_PATH, 'toy_IA_relative_latency.png'))\n",
    "    plt.savefig(os.path.join(IMG_PATH, 'toy_IA_relative_latency.svg'))"
   ]
  }
 ],
 "metadata": {
  "jupytext": {
   "cell_metadata_filter": "title,-all",
   "main_language": "python",
   "notebook_metadata_filter": "-all"
  },
  "kernelspec": {
   "display_name": "Python 2",
   "language": "python",
   "name": "python2"
  },
  "language_info": {
   "codemirror_mode": {
    "name": "ipython",
    "version": 2
   },
   "file_extension": ".py",
   "mimetype": "text/x-python",
   "name": "python",
   "nbconvert_exporter": "python",
   "pygments_lexer": "ipython2",
   "version": "2.7.15"
  }
 },
 "nbformat": 4,
 "nbformat_minor": 2
}

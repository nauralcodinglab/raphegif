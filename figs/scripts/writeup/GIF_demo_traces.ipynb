{
 "cells": [
  {
   "cell_type": "code",
   "execution_count": 1,
   "metadata": {},
   "outputs": [],
   "source": [
    "from common import colors"
   ]
  },
  {
   "cell_type": "code",
   "execution_count": 2,
   "metadata": {},
   "outputs": [
    {
     "name": "stdout",
     "output_type": "stream",
     "text": [
      "/Users/eharkin/Documents/projects/5HTGIF\n"
     ]
    }
   ],
   "source": [
    "import os\n",
    "os.chdir(os.path.join('..', '..', '..'))\n",
    "print(os.getcwd())"
   ]
  },
  {
   "cell_type": "code",
   "execution_count": 3,
   "metadata": {},
   "outputs": [],
   "source": [
    "import pickle\n",
    "\n",
    "import numpy as np\n",
    "import matplotlib.pyplot as plt\n",
    "import matplotlib.gridspec as gs\n",
    "from ezephys import pltools\n",
    "import ezephys.stimtools as st\n",
    "\n",
    "from grr.AugmentedGIF import AugmentedGIF\n",
    "from grr.ThresholdModel import constructMedianModel"
   ]
  },
  {
   "cell_type": "code",
   "execution_count": 4,
   "metadata": {},
   "outputs": [],
   "source": [
    "plt.style.use(os.path.join('figs', 'scripts', 'writeup', 'publication_figure_style.dms'))\n",
    "IMG_PATH = os.path.join('figs', 'ims', 'writeup', 'GIF_demo_traces')"
   ]
  },
  {
   "cell_type": "code",
   "execution_count": 5,
   "metadata": {},
   "outputs": [],
   "source": [
    "MODEL_PATH = os.path.join('data', 'models', '5HT')"
   ]
  },
  {
   "cell_type": "code",
   "execution_count": 6,
   "metadata": {},
   "outputs": [],
   "source": [
    "with open(os.path.join(MODEL_PATH, '5HT_AugmentedGIFs.lmod'), 'rb') as f:\n",
    "    models = pickle.load(f)\n",
    "\n",
    "median_agif = constructMedianModel(type(models[0]), models)\n",
    "\n",
    "with open(os.path.join(MODEL_PATH, '5HT_GIFs.lmod'), 'rb') as f:\n",
    "    models = pickle.load(f)\n",
    "    \n",
    "median_gif = constructMedianModel(type(models[0]), models)\n",
    "\n",
    "del f, models"
   ]
  },
  {
   "cell_type": "code",
   "execution_count": 7,
   "metadata": {},
   "outputs": [],
   "source": [
    "step_input = st.StepStimulus([200, 500, 300], [0, 0.040, 0.070], dt=0.1)"
   ]
  },
  {
   "cell_type": "code",
   "execution_count": 8,
   "metadata": {},
   "outputs": [
    {
     "data": {
      "text/plain": [
       "Text(0,0.5,'$\\\\gamma$')"
      ]
     },
     "execution_count": 8,
     "metadata": {},
     "output_type": "execute_result"
    },
    {
     "data": {
      "image/png": "[encoded data removed]",
      "text/plain": [
       "<Figure size 360x240 with 4 Axes>"
      ]
     },
     "metadata": {},
     "output_type": "display_data"
    }
   ],
   "source": [
    "spec = gs.GridSpec(4, 1, height_ratios=(0.1, 1, 0.2, 0.2), hspace=0.05)\n",
    "\n",
    "plt.subplot(spec[0, :])\n",
    "step_input.plot(color=colors['input'], clip_on=False)\n",
    "pltools.hide_border('a')\n",
    "pltools.hide_ticks()\n",
    "plt.ylabel('I', rotation=0)\n",
    "plt.xlabel('')\n",
    "\n",
    "t, V, eta, threshold, _ = median_gif.simulate(step_input.command.flatten(), median_gif.El)\n",
    "\n",
    "plt.subplot(spec[1, :])\n",
    "plt.plot(t, V, color=colors['gif'])\n",
    "pltools.hide_border('a')\n",
    "pltools.hide_ticks()\n",
    "plt.ylabel('V', rotation=0)\n",
    "\n",
    "plt.subplot(spec[2, :])\n",
    "plt.plot(t, eta, color=colors['gif'], clip_on=True)\n",
    "pltools.hide_border('a')\n",
    "pltools.hide_ticks()\n",
    "plt.ylabel('$\\eta$', rotation=0)\n",
    "\n",
    "plt.subplot(spec[3, :])\n",
    "plt.plot(t, threshold, color=colors['gif'], clip_on=True)\n",
    "pltools.hide_border('a')\n",
    "pltools.hide_ticks()\n",
    "plt.ylabel('$\\gamma$', rotation=0)"
   ]
  },
  {
   "cell_type": "code",
   "execution_count": 9,
   "metadata": {},
   "outputs": [
    {
     "data": {
      "text/plain": [
       "Text(0,0.5,'')"
      ]
     },
     "execution_count": 9,
     "metadata": {},
     "output_type": "execute_result"
    },
    {
     "data": {
      "image/png": "[encoded data removed]",
      "text/plain": [
       "<Figure size 360x240 with 5 Axes>"
      ]
     },
     "metadata": {},
     "output_type": "display_data"
    }
   ],
   "source": [
    "spec = gs.GridSpec(5, 1, height_ratios=(0.1, 1, 0.2, 0.2, 0.2), hspace=0.05)\n",
    "\n",
    "plt.subplot(spec[0, :])\n",
    "step_input.plot(color=colors['input'], clip_on=False)\n",
    "pltools.hide_border('a')\n",
    "pltools.hide_ticks()\n",
    "plt.ylabel('I', rotation=0)\n",
    "plt.xlabel('')\n",
    "\n",
    "agif_sim = median_agif.simulate(step_input.command.flatten(), median_gif.El, return_dict=True)\n",
    "\n",
    "plt.subplot(spec[1, :])\n",
    "plt.plot(agif_sim['time'], agif_sim['V'], color=colors['gif'])\n",
    "pltools.hide_border('a')\n",
    "pltools.hide_ticks()\n",
    "plt.ylabel('V', rotation=0)\n",
    "\n",
    "plt.subplot(spec[2, :])\n",
    "plt.plot(agif_sim['time'], agif_sim['eta_sum'], color=colors['gif'], clip_on=True)\n",
    "pltools.hide_border('a')\n",
    "pltools.hide_ticks()\n",
    "plt.ylabel('$\\eta$', rotation=0)\n",
    "\n",
    "plt.subplot(spec[3, :])\n",
    "plt.plot(agif_sim['time'], agif_sim['V_T'], color=colors['gif'], clip_on=True)\n",
    "pltools.hide_border('a')\n",
    "pltools.hide_ticks()\n",
    "plt.ylabel('$\\gamma$', rotation=0)\n",
    "\n",
    "plt.subplot(spec[4, :])\n",
    "plt.plot(agif_sim['time'], agif_sim['Ik1'] + agif_sim['Ik2'], color=colors['gif'], clip_on=True)\n",
    "pltools.hide_border('a')\n",
    "pltools.hide_ticks()\n",
    "plt.ylabel('', rotation=0)"
   ]
  }
 ],
 "metadata": {
  "kernelspec": {
   "display_name": "Python 2",
   "language": "python",
   "name": "python2"
  },
  "language_info": {
   "codemirror_mode": {
    "name": "ipython",
    "version": 2
   },
   "file_extension": ".py",
   "mimetype": "text/x-python",
   "name": "python",
   "nbconvert_exporter": "python",
   "pygments_lexer": "ipython2",
   "version": "2.7.15"
  }
 },
 "nbformat": 4,
 "nbformat_minor": 2
}

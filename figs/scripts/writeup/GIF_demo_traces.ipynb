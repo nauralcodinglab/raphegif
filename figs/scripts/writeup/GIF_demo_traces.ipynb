{
 "cells": [
  {
   "cell_type": "code",
   "execution_count": 1,
   "metadata": {},
   "outputs": [],
   "source": [
    "from common import colors"
   ]
  },
  {
   "cell_type": "code",
   "execution_count": 2,
   "metadata": {},
   "outputs": [
    {
     "name": "stdout",
     "output_type": "stream",
     "text": [
      "/Users/eharkin/Documents/projects/5HTGIF\n"
     ]
    }
   ],
   "source": [
    "import os\n",
    "os.chdir(os.path.join('..', '..', '..'))\n",
    "print(os.getcwd())"
   ]
  },
  {
   "cell_type": "code",
   "execution_count": 3,
   "metadata": {},
   "outputs": [],
   "source": [
    "import pickle\n",
    "\n",
    "import numpy as np\n",
    "import matplotlib.pyplot as plt\n",
    "import matplotlib.gridspec as gs\n",
    "from ezephys import pltools\n",
    "import ezephys.stimtools as st\n",
    "\n",
    "from grr.iGIF import iGIF_NP\n",
    "from grr.ThresholdModel import constructMedianModel"
   ]
  },
  {
   "cell_type": "code",
   "execution_count": 4,
   "metadata": {},
   "outputs": [],
   "source": [
    "plt.style.use(os.path.join('figs', 'scripts', 'writeup', 'publication_figure_style.dms'))\n",
    "IMG_PATH = os.path.join('figs', 'ims', 'writeup', 'GIF_demo_traces')"
   ]
  },
  {
   "cell_type": "markdown",
   "metadata": {},
   "source": [
    "# Demo traces for models"
   ]
  },
  {
   "cell_type": "code",
   "execution_count": 5,
   "metadata": {},
   "outputs": [],
   "source": [
    "MODEL_PATH = os.path.join('data', 'models', '5HT')"
   ]
  },
  {
   "cell_type": "code",
   "execution_count": 6,
   "metadata": {},
   "outputs": [],
   "source": [
    "with open(os.path.join(MODEL_PATH, '5HT_AugmentedGIFs.lmod'), 'rb') as f:\n",
    "    models = pickle.load(f)\n",
    "\n",
    "median_agif = constructMedianModel(type(models[0]), models)\n",
    "\n",
    "with open(os.path.join(MODEL_PATH, '5HT_GIFs.lmod'), 'rb') as f:\n",
    "    models = pickle.load(f)\n",
    "    \n",
    "median_gif = constructMedianModel(type(models[0]), models)\n",
    "\n",
    "del models\n",
    "\n",
    "with open(os.path.join(MODEL_PATH, '5HT_iGIF_NPs.lmod'), 'rb') as f:\n",
    "    iGIFs = pickle.load(f)\n",
    "    \n",
    "del f"
   ]
  },
  {
   "cell_type": "code",
   "execution_count": 7,
   "metadata": {},
   "outputs": [],
   "source": [
    "step_input = st.StepStimulus([200, 500, 500], [0, 0.040, 0.080], dt=0.1)"
   ]
  },
  {
   "cell_type": "code",
   "execution_count": 8,
   "metadata": {},
   "outputs": [],
   "source": [
    "def replace_value(x, initial_value, replace_with):\n",
    "    arr = np.copy(x)\n",
    "    arr[arr == initial_value] = replace_with\n",
    "    return arr"
   ]
  },
  {
   "cell_type": "code",
   "execution_count": 9,
   "metadata": {},
   "outputs": [],
   "source": [
    "spec = gs.GridSpec(\n",
    "    8, \n",
    "    1, \n",
    "    height_ratios=(0.1, 0.7, 0.2, 0.2, 0.2, 0.1, 0.2, 0.2), \n",
    "    hspace=0.05,\n",
    "    left=0.25,\n",
    "    right=0.8,\n",
    "    bottom=0.05,\n",
    "    top=0.95\n",
    ")"
   ]
  },
  {
   "cell_type": "code",
   "execution_count": 10,
   "metadata": {},
   "outputs": [
    {
     "data": {
      "image/png": "[encoded data removed]",
      "text/plain": [
       "<Figure size 240x240 with 5 Axes>"
      ]
     },
     "metadata": {},
     "output_type": "display_data"
    }
   ],
   "source": [
    "plt.figure(figsize=(2, 2))\n",
    "\n",
    "plt.subplot(spec[0, :])\n",
    "step_input.plot(color=colors['input'], clip_on=False)\n",
    "pltools.hide_border('a')\n",
    "pltools.hide_ticks()\n",
    "plt.ylabel('I', rotation=0)\n",
    "plt.xlabel('')\n",
    "\n",
    "gif_sim = median_gif.simulate(step_input.command.flatten(), median_gif.El, return_dict=True)\n",
    "\n",
    "plt.subplot(spec[1, :])\n",
    "plt.plot(gif_sim['time'], replace_value(gif_sim['V'], 0., 40), color=colors['gif'])\n",
    "pltools.hide_border('a')\n",
    "pltools.hide_ticks()\n",
    "plt.ylabel('$V$', rotation=0)\n",
    "\n",
    "plt.subplot(spec[2, :])\n",
    "plt.plot(gif_sim['time'], replace_value(gif_sim['firing_intensity'], 0., np.nan), color=colors['gif'])\n",
    "pltools.hide_border('a')\n",
    "pltools.hide_ticks()\n",
    "plt.ylabel('$\\lambda$', rotation=0, va='center')\n",
    "\n",
    "plt.subplot(spec[3, :])\n",
    "plt.plot([0, gif_sim['time'][-1]], [0, 0], ls='--', lw=0.3, dashes=(15, 15), color='k', clip_on=False)\n",
    "plt.plot(gif_sim['time'], gif_sim['eta_sum'], color=colors['gif'], clip_on=True)\n",
    "pltools.hide_border('a')\n",
    "pltools.hide_ticks()\n",
    "plt.ylabel('$\\eta$', rotation=0, va='center')\n",
    "\n",
    "plt.subplot(spec[4, :])\n",
    "plt.plot([0, gif_sim['time'][-1]], [0, 0], ls='--', lw=0.3, dashes=(15, 15), color='k', clip_on=False)\n",
    "plt.plot(gif_sim['time'], gif_sim['gamma_sum'], color=colors['gif'], clip_on=True)\n",
    "pltools.hide_border('a')\n",
    "pltools.hide_ticks()\n",
    "plt.ylabel('$\\gamma$', rotation=0, va='center')\n",
    "\n",
    "if IMG_PATH is not None:\n",
    "    plt.savefig(os.path.join(IMG_PATH, 'GIF_demo.png'))"
   ]
  },
  {
   "cell_type": "code",
   "execution_count": 11,
   "metadata": {
    "scrolled": false
   },
   "outputs": [
    {
     "data": {
      "image/png": "[encoded data removed]",
      "text/plain": [
       "<Figure size 240x240 with 7 Axes>"
      ]
     },
     "metadata": {},
     "output_type": "display_data"
    }
   ],
   "source": [
    "plt.figure(figsize=(2, 2))\n",
    "\n",
    "plt.subplot(spec[0, :])\n",
    "step_input.plot(color=colors['input'], clip_on=False)\n",
    "pltools.hide_border('a')\n",
    "pltools.hide_ticks()\n",
    "plt.ylabel('I', rotation=0)\n",
    "plt.xlabel('')\n",
    "\n",
    "agif_sim = median_agif.simulate(step_input.command.flatten(), median_gif.El, return_dict=True)\n",
    "\n",
    "plt.subplot(spec[1, :])\n",
    "plt.plot(agif_sim['time'], replace_value(agif_sim['V'], 0., 40.), color=colors['agif'])\n",
    "pltools.hide_border('a')\n",
    "pltools.hide_ticks()\n",
    "plt.ylabel('$V$', rotation=0)\n",
    "\n",
    "plt.subplot(spec[2, :])\n",
    "plt.plot(agif_sim['time'], replace_value(agif_sim['firing_intensity'], 0., np.nan), color=colors['agif'])\n",
    "pltools.hide_border('a')\n",
    "pltools.hide_ticks()\n",
    "plt.ylabel('$\\lambda$', rotation=0, va='center')\n",
    "\n",
    "plt.subplot(spec[3, :])\n",
    "plt.plot([0, agif_sim['time'][-1]], [0, 0], ls='--', lw=0.3, dashes=(15, 15), color='k', clip_on=False)\n",
    "plt.plot(agif_sim['time'], agif_sim['eta_sum'], color=colors['agif'], clip_on=True)\n",
    "pltools.hide_border('a')\n",
    "pltools.hide_ticks()\n",
    "plt.ylabel('$\\eta$', rotation=0, va='center')\n",
    "\n",
    "plt.subplot(spec[4, :])\n",
    "plt.plot([0, agif_sim['time'][-1]], [0, 0], ls='--', lw=0.3, dashes=(15, 15), color='k', clip_on=False)\n",
    "plt.plot(agif_sim['time'], agif_sim['gamma_sum'], color=colors['agif'], clip_on=True)\n",
    "pltools.hide_border('a')\n",
    "pltools.hide_ticks()\n",
    "plt.ylabel('$\\gamma$', rotation=0, va='center')\n",
    "\n",
    "plt.subplot(spec[6, :])\n",
    "plt.plot(agif_sim['time'], -replace_value(agif_sim['Ik1'] + agif_sim['Ik2'], 0., np.nan), color=colors['agif'])\n",
    "pltools.hide_border('a')\n",
    "pltools.hide_ticks()\n",
    "plt.ylabel('$I_K$', rotation=0, va='center')\n",
    "\n",
    "plt.subplot(spec[7, :])\n",
    "plt.plot(agif_sim['time'], replace_value(agif_sim['m'], 0., np.nan), color=colors['m'], label='$m$')\n",
    "plt.plot(agif_sim['time'], replace_value(agif_sim['h'], 0., np.nan), color=colors['h'], label='$h$')\n",
    "plt.plot(agif_sim['time'], replace_value(agif_sim['n'], 0., np.nan), color=colors['n'], label='$n$')\n",
    "pltools.hide_border('a')\n",
    "pltools.hide_ticks()\n",
    "plt.legend(loc='lower left', bbox_to_anchor=(1, 0))\n",
    "plt.ylabel('Gating\\nvariables', ha='right', rotation=0, va='center')\n",
    "\n",
    "if IMG_PATH is not None:\n",
    "    plt.savefig(os.path.join(IMG_PATH, 'AugmentedGIF_demo.png'))"
   ]
  },
  {
   "cell_type": "code",
   "execution_count": 13,
   "metadata": {},
   "outputs": [
    {
     "data": {
      "image/png": "[encoded data removed]",
      "text/plain": [
       "<Figure size 240x240 with 6 Axes>"
      ]
     },
     "metadata": {},
     "output_type": "display_data"
    }
   ],
   "source": [
    "plt.figure(figsize=(2, 2))\n",
    "\n",
    "plt.subplot(spec[0, :])\n",
    "step_input.plot(color=colors['input'], clip_on=False)\n",
    "pltools.hide_border('a')\n",
    "pltools.hide_ticks()\n",
    "plt.ylabel('I', rotation=0)\n",
    "plt.xlabel('')\n",
    "\n",
    "igif_model = iGIF_NP()\n",
    "igif_model.copyParametersFrom(iGIFs[0])\n",
    "igif_model.theta_bins = np.array([-90, -70., -65., -60., -55., -50., -45., -40., -10.])\n",
    "igif_model.theta_i = np.array([-10, -5., -2.5, 0., 1., 2., 5., 10.])\n",
    "igif_model.theta_tau = 250.\n",
    "igif_model.DV = 2.\n",
    "\n",
    "igif_sim = igif_model.simulate(step_input.command.flatten(), median_gif.El, return_dict=True)\n",
    "\n",
    "plt.subplot(spec[1, :])\n",
    "plt.plot(igif_sim['time'], replace_value(igif_sim['V'], 0., 40.), color=colors['igif'])\n",
    "pltools.hide_border('a')\n",
    "pltools.hide_ticks()\n",
    "plt.ylabel('$V$', rotation=0)\n",
    "\n",
    "plt.subplot(spec[2, :])\n",
    "plt.plot(igif_sim['time'], replace_value(igif_sim['firing_intensity'], 0., np.nan), color=colors['igif'])\n",
    "pltools.hide_border('a')\n",
    "pltools.hide_ticks()\n",
    "plt.ylabel('$\\lambda$', rotation=0, va='center')\n",
    "\n",
    "plt.subplot(spec[3, :])\n",
    "plt.plot([0, igif_sim['time'][-1]], [0, 0], ls='--', lw=0.3, dashes=(15, 15), color='k', clip_on=False)\n",
    "plt.plot(igif_sim['time'], igif_sim['eta_sum'], color=colors['igif'], clip_on=True)\n",
    "pltools.hide_border('a')\n",
    "pltools.hide_ticks()\n",
    "plt.ylabel('$\\eta$', rotation=0, va='center')\n",
    "\n",
    "plt.subplot(spec[4, :])\n",
    "plt.plot([0, igif_sim['time'][-1]], [0, 0], ls='--', lw=0.3, dashes=(15, 15), color='k', clip_on=False)\n",
    "plt.plot(igif_sim['time'], igif_sim['gamma_sum'], color=colors['igif'], clip_on=True)\n",
    "pltools.hide_border('a')\n",
    "pltools.hide_ticks()\n",
    "plt.ylabel('$\\gamma$', rotation=0, va='center')\n",
    "\n",
    "plt.subplot(spec[6, :])\n",
    "plt.plot(igif_sim['time'], igif_sim['theta'], color=colors['igif'])\n",
    "pltools.hide_border('a')\n",
    "pltools.hide_ticks()\n",
    "plt.ylabel('$V$-threshold\\ncoupling', rotation=0, va='center', ha='right')\n",
    "\n",
    "if IMG_PATH is not None:\n",
    "    plt.savefig(os.path.join(IMG_PATH, 'iGIF_NP_demo.png'))\n",
    "    plt.savefig(os.path.join(IMG_PATH, 'iGIF_NP_demo.svg'))"
   ]
  },
  {
   "cell_type": "markdown",
   "metadata": {},
   "source": [
    "# Sample training/test set data"
   ]
  },
  {
   "cell_type": "code",
   "execution_count": 14,
   "metadata": {},
   "outputs": [],
   "source": [
    "EPHYS_PATH = os.path.join('data', 'processed')\n",
    "\n",
    "ephys = {}\n",
    "with open(os.path.join(EPHYS_PATH, '5HT_fastnoise', '5HT_goodcells.ldat'), 'rb') as f:\n",
    "    ephys['5HT'] = pickle.load(f)"
   ]
  },
  {
   "cell_type": "code",
   "execution_count": 50,
   "metadata": {},
   "outputs": [
    {
     "data": {
      "image/png": "[encoded data removed]",
      "text/plain": [
       "<Figure size 204x144 with 3 Axes>"
      ]
     },
     "metadata": {
      "needs_background": "light"
     },
     "output_type": "display_data"
    }
   ],
   "source": [
    "ephys_spec = gs.GridSpec(3, 1, height_ratios=[0.2, 1, 0.3], hspace=0.05, left=0.22, bottom=0.2, right=0.95, top=0.95)\n",
    "\n",
    "plt.figure(figsize=(1.7, 1.2))\n",
    "\n",
    "plt.subplot(ephys_spec[0, :])\n",
    "plt.plot(\n",
    "    ephys['5HT'][0].trainingset_traces[0].getTime() * 1e-3,\n",
    "    ephys['5HT'][0].trainingset_traces[0].I,\n",
    "    color=colors['input'],\n",
    "    lw=0.5\n",
    ")\n",
    "xlims = plt.xlim()\n",
    "pltools.hide_border('a')\n",
    "pltools.hide_ticks()\n",
    "\n",
    "plt.subplot(ephys_spec[1, :])\n",
    "plt.plot(\n",
    "    ephys['5HT'][0].trainingset_traces[0].getTime() * 1e-3,\n",
    "    ephys['5HT'][0].trainingset_traces[0].V,\n",
    "    color=colors['ser'],\n",
    "    lw=0.5\n",
    ")\n",
    "plt.xlim(xlims)\n",
    "pltools.hide_border('a')\n",
    "pltools.hide_ticks()\n",
    "\n",
    "plt.subplot(ephys_spec[2, :])\n",
    "plt.eventplot([tr.getSpikeTimes() * 1e-3 for tr in ephys['5HT'][0].trainingset_traces], color=colors['ser'])\n",
    "plt.xlim(xlims)\n",
    "plt.yticks([0, 2], [1, 3])\n",
    "plt.ylabel('Repeats')\n",
    "plt.xticks([0, 20, 40, 60])\n",
    "plt.xlabel('Time (s)')\n",
    "pltools.hide_border('tr', trim=True)\n",
    "\n",
    "if IMG_PATH is not None:\n",
    "    plt.savefig(os.path.join(IMG_PATH, 'sample_training_set.png'))"
   ]
  },
  {
   "cell_type": "code",
   "execution_count": 51,
   "metadata": {
    "lines_to_next_cell": 0
   },
   "outputs": [
    {
     "data": {
      "image/png": "[encoded data removed]",
      "text/plain": [
       "<Figure size 120x144 with 3 Axes>"
      ]
     },
     "metadata": {
      "needs_background": "light"
     },
     "output_type": "display_data"
    }
   ],
   "source": [
    "plt.figure(figsize=(1.0, 1.2))\n",
    "\n",
    "plt.subplot(ephys_spec[0, :])\n",
    "plt.plot(\n",
    "    ephys['5HT'][0].testset_traces[0].getTime() * 1e-3,\n",
    "    ephys['5HT'][0].testset_traces[0].I,\n",
    "    color=colors['input'],\n",
    "    lw=0.5\n",
    ")\n",
    "xlims = plt.xlim()\n",
    "pltools.hide_border('a')\n",
    "pltools.hide_ticks()\n",
    "\n",
    "plt.subplot(ephys_spec[1, :])\n",
    "plt.plot(\n",
    "    ephys['5HT'][0].testset_traces[0].getTime() * 1e-3,\n",
    "    ephys['5HT'][0].testset_traces[0].V,\n",
    "    color=colors['ser'],\n",
    "    lw=0.5\n",
    ")\n",
    "plt.xlim(xlims)\n",
    "pltools.hide_border('a')\n",
    "pltools.hide_ticks()\n",
    "\n",
    "plt.subplot(ephys_spec[2, :])\n",
    "plt.eventplot([tr.getSpikeTimes() * 1e-3 for tr in ephys['5HT'][0].testset_traces], color=colors['ser'])\n",
    "plt.xlim(xlims)\n",
    "plt.yticks([0, 8], [1, 9])\n",
    "plt.ylabel('Repeats')\n",
    "plt.xticks([0, 5, 10, 15])\n",
    "plt.xlabel('Time (s)')\n",
    "pltools.hide_border('tr', trim=True)\n",
    "\n",
    "if IMG_PATH is not None:\n",
    "    plt.savefig(os.path.join(IMG_PATH, 'sample_test_set.png'))"
   ]
  },
  {
   "cell_type": "code",
   "execution_count": null,
   "metadata": {
    "lines_to_next_cell": 2
   },
   "outputs": [],
   "source": []
  }
 ],
 "metadata": {
  "kernelspec": {
   "display_name": "Python 2",
   "language": "python",
   "name": "python2"
  },
  "language_info": {
   "codemirror_mode": {
    "name": "ipython",
    "version": 2
   },
   "file_extension": ".py",
   "mimetype": "text/x-python",
   "name": "python",
   "nbconvert_exporter": "python",
   "pygments_lexer": "ipython2",
   "version": "2.7.15"
  }
 },
 "nbformat": 4,
 "nbformat_minor": 2
}

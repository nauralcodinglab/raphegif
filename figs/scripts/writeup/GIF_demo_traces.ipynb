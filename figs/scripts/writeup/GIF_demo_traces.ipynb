{
 "cells": [
  {
   "cell_type": "code",
   "execution_count": 1,
   "metadata": {},
   "outputs": [],
   "source": [
    "from common import colors"
   ]
  },
  {
   "cell_type": "code",
   "execution_count": 2,
   "metadata": {},
   "outputs": [
    {
     "name": "stdout",
     "output_type": "stream",
     "text": [
      "/home/eharkin/projects/5HTGIF-dev\n"
     ]
    }
   ],
   "source": [
    "import os\n",
    "os.chdir(os.path.join('..', '..', '..'))\n",
    "print(os.getcwd())"
   ]
  },
  {
   "cell_type": "code",
   "execution_count": 3,
   "metadata": {},
   "outputs": [],
   "source": [
    "import pickle\n",
    "\n",
    "import numpy as np\n",
    "import matplotlib.pyplot as plt\n",
    "import matplotlib.gridspec as gs\n",
    "from ezephys import pltools\n",
    "import ezephys.stimtools as st\n",
    "\n",
    "from grr.iGIF import iGIF_NP\n",
    "from grr.ThresholdModel import constructMedianModel"
   ]
  },
  {
   "cell_type": "code",
   "execution_count": 4,
   "metadata": {},
   "outputs": [],
   "source": [
    "plt.style.use(os.path.join('figs', 'scripts', 'writeup', 'publication_figure_style.dms'))\n",
    "IMG_PATH = os.path.join('figs', 'ims', 'writeup', 'GIF_demo_traces')"
   ]
  },
  {
   "cell_type": "markdown",
   "metadata": {},
   "source": [
    "# Demo traces for models"
   ]
  },
  {
   "cell_type": "code",
   "execution_count": 5,
   "metadata": {},
   "outputs": [],
   "source": [
    "MODEL_PATH = os.path.join('data', 'models', '5HT')"
   ]
  },
  {
   "cell_type": "code",
   "execution_count": 6,
   "metadata": {},
   "outputs": [],
   "source": [
    "with open(os.path.join(MODEL_PATH, '5HT_AugmentedGIFs.lmod'), 'rb') as f:\n",
    "    models = pickle.load(f)\n",
    "\n",
    "median_agif = constructMedianModel(type(models[0]), models)\n",
    "\n",
    "with open(os.path.join(MODEL_PATH, '5HT_GIFs.lmod'), 'rb') as f:\n",
    "    models = pickle.load(f)\n",
    "    \n",
    "median_gif = constructMedianModel(type(models[0]), models)\n",
    "\n",
    "del models\n",
    "\n",
    "with open(os.path.join(MODEL_PATH, '5HT_iGIF_NPs.lmod'), 'rb') as f:\n",
    "    iGIFs = pickle.load(f)\n",
    "    \n",
    "del f"
   ]
  },
  {
   "cell_type": "code",
   "execution_count": 7,
   "metadata": {},
   "outputs": [],
   "source": [
    "step_input = st.StepStimulus([200, 500, 500], [0, 0.040, 0.080], dt=0.1)"
   ]
  },
  {
   "cell_type": "code",
   "execution_count": 8,
   "metadata": {},
   "outputs": [],
   "source": [
    "def replace_value(x, initial_value, replace_with):\n",
    "    arr = np.copy(x)\n",
    "    arr[arr == initial_value] = replace_with\n",
    "    return arr"
   ]
  },
  {
   "cell_type": "code",
   "execution_count": 9,
   "metadata": {},
   "outputs": [],
   "source": [
    "spec = gs.GridSpec(\n",
    "    8, \n",
    "    1, \n",
    "    height_ratios=(0.1, 0.7, 0.2, 0.2, 0.2, 0.1, 0.2, 0.2), \n",
    "    hspace=0.05,\n",
    "    left=0.25,\n",
    "    right=0.8,\n",
    "    bottom=0.05,\n",
    "    top=0.95\n",
    ")"
   ]
  },
  {
   "cell_type": "code",
   "execution_count": 10,
   "metadata": {},
   "outputs": [
    {
     "data": {
      "image/png": "[encoded data removed]",
      "text/plain": [
       "<Figure size 240x240 with 5 Axes>"
      ]
     },
     "metadata": {},
     "output_type": "display_data"
    }
   ],
   "source": [
    "plt.figure(figsize=(2, 2))\n",
    "\n",
    "plt.subplot(spec[0, :])\n",
    "step_input.plot(color=colors['input'], clip_on=False)\n",
    "pltools.hide_border('a')\n",
    "pltools.hide_ticks()\n",
    "plt.ylabel('I', rotation=0)\n",
    "plt.xlabel('')\n",
    "\n",
    "gif_sim = median_gif.simulate(step_input.command.flatten(), median_gif.El, return_dict=True)\n",
    "\n",
    "plt.subplot(spec[1, :])\n",
    "plt.plot(gif_sim['time'], replace_value(gif_sim['V'], 0., 40), color=colors['gif'])\n",
    "pltools.hide_border('a')\n",
    "pltools.hide_ticks()\n",
    "plt.ylabel('$V$', rotation=0)\n",
    "\n",
    "plt.subplot(spec[2, :])\n",
    "plt.plot(gif_sim['time'], replace_value(gif_sim['firing_intensity'], 0., np.nan), color=colors['gif'])\n",
    "pltools.hide_border('a')\n",
    "pltools.hide_ticks()\n",
    "plt.ylabel('$\\lambda$', rotation=0, va='center')\n",
    "\n",
    "plt.subplot(spec[3, :])\n",
    "plt.plot([0, gif_sim['time'][-1]], [0, 0], ls='--', lw=0.3, dashes=(15, 15), color='k', clip_on=False)\n",
    "plt.plot(gif_sim['time'], gif_sim['eta_sum'], color=colors['gif'], clip_on=True)\n",
    "pltools.hide_border('a')\n",
    "pltools.hide_ticks()\n",
    "plt.ylabel('$\\eta$', rotation=0, va='center')\n",
    "\n",
    "plt.subplot(spec[4, :])\n",
    "plt.plot([0, gif_sim['time'][-1]], [0, 0], ls='--', lw=0.3, dashes=(15, 15), color='k', clip_on=False)\n",
    "plt.plot(gif_sim['time'], gif_sim['gamma_sum'], color=colors['gif'], clip_on=True)\n",
    "pltools.hide_border('a')\n",
    "pltools.hide_ticks()\n",
    "plt.ylabel('$\\gamma$', rotation=0, va='center')\n",
    "\n",
    "if IMG_PATH is not None:\n",
    "    plt.savefig(os.path.join(IMG_PATH, 'GIF_demo.png'))"
   ]
  },
  {
   "cell_type": "code",
   "execution_count": 11,
   "metadata": {
    "scrolled": false
   },
   "outputs": [
    {
     "data": {
      "image/png": "[encoded data removed]",
      "text/plain": [
       "<Figure size 240x240 with 7 Axes>"
      ]
     },
     "metadata": {},
     "output_type": "display_data"
    }
   ],
   "source": [
    "plt.figure(figsize=(2, 2))\n",
    "\n",
    "plt.subplot(spec[0, :])\n",
    "step_input.plot(color=colors['input'], clip_on=False)\n",
    "pltools.hide_border('a')\n",
    "pltools.hide_ticks()\n",
    "plt.ylabel('I', rotation=0)\n",
    "plt.xlabel('')\n",
    "\n",
    "agif_sim = median_agif.simulate(step_input.command.flatten(), median_gif.El, return_dict=True)\n",
    "\n",
    "plt.subplot(spec[1, :])\n",
    "plt.plot(agif_sim['time'], replace_value(agif_sim['V'], 0., 40.), color=colors['agif'])\n",
    "pltools.hide_border('a')\n",
    "pltools.hide_ticks()\n",
    "plt.ylabel('$V$', rotation=0)\n",
    "\n",
    "plt.subplot(spec[2, :])\n",
    "plt.plot(agif_sim['time'], replace_value(agif_sim['firing_intensity'], 0., np.nan), color=colors['agif'])\n",
    "pltools.hide_border('a')\n",
    "pltools.hide_ticks()\n",
    "plt.ylabel('$\\lambda$', rotation=0, va='center')\n",
    "\n",
    "plt.subplot(spec[3, :])\n",
    "plt.plot([0, agif_sim['time'][-1]], [0, 0], ls='--', lw=0.3, dashes=(15, 15), color='k', clip_on=False)\n",
    "plt.plot(agif_sim['time'], agif_sim['eta_sum'], color=colors['agif'], clip_on=True)\n",
    "pltools.hide_border('a')\n",
    "pltools.hide_ticks()\n",
    "plt.ylabel('$\\eta$', rotation=0, va='center')\n",
    "\n",
    "plt.subplot(spec[4, :])\n",
    "plt.plot([0, agif_sim['time'][-1]], [0, 0], ls='--', lw=0.3, dashes=(15, 15), color='k', clip_on=False)\n",
    "plt.plot(agif_sim['time'], agif_sim['gamma_sum'], color=colors['agif'], clip_on=True)\n",
    "pltools.hide_border('a')\n",
    "pltools.hide_ticks()\n",
    "plt.ylabel('$\\gamma$', rotation=0, va='center')\n",
    "\n",
    "plt.subplot(spec[6, :])\n",
    "plt.plot(agif_sim['time'], -replace_value(agif_sim['Ik1'] + agif_sim['Ik2'], 0., np.nan), color=colors['agif'])\n",
    "pltools.hide_border('a')\n",
    "pltools.hide_ticks()\n",
    "plt.ylabel('$I_K$', rotation=0, va='center')\n",
    "\n",
    "plt.subplot(spec[7, :])\n",
    "plt.plot(agif_sim['time'], replace_value(agif_sim['m'], 0., np.nan), color=colors['m'], label='$m$')\n",
    "plt.plot(agif_sim['time'], replace_value(agif_sim['h'], 0., np.nan), color=colors['h'], label='$h$')\n",
    "plt.plot(agif_sim['time'], replace_value(agif_sim['n'], 0., np.nan), color=colors['n'], label='$n$')\n",
    "pltools.hide_border('a')\n",
    "pltools.hide_ticks()\n",
    "plt.legend(loc='lower left', bbox_to_anchor=(1, 0))\n",
    "plt.ylabel('Gating\\nvariables', ha='right', rotation=0, va='center')\n",
    "\n",
    "if IMG_PATH is not None:\n",
    "    plt.savefig(os.path.join(IMG_PATH, 'AugmentedGIF_demo.png'))"
   ]
  },
  {
   "cell_type": "code",
   "execution_count": 12,
   "metadata": {
    "scrolled": false
   },
   "outputs": [
    {
     "data": {
      "image/png": "[encoded data removed]",
      "text/plain": [
       "<Figure size 240x240 with 6 Axes>"
      ]
     },
     "metadata": {},
     "output_type": "display_data"
    }
   ],
   "source": [
    "plt.figure(figsize=(2, 2))\n",
    "\n",
    "plt.subplot(spec[0, :])\n",
    "step_input.plot(color=colors['input'], clip_on=False)\n",
    "pltools.hide_border('a')\n",
    "pltools.hide_ticks()\n",
    "plt.ylabel('I', rotation=0)\n",
    "plt.xlabel('')\n",
    "\n",
    "igif_model = iGIF_NP()\n",
    "igif_model.copyParametersFrom(iGIFs[0])\n",
    "igif_model.theta_bins = np.array([-90, -70., -65., -60., -55., -50., -45., -40., -10.])\n",
    "igif_model.theta_i = np.array([-10, -5., -2.5, 0., 1., 2., 5., 10.])\n",
    "igif_model.theta_tau = 250.\n",
    "igif_model.DV = 2.\n",
    "\n",
    "igif_sim = igif_model.simulate(step_input.command.flatten(), median_gif.El, return_dict=True)\n",
    "\n",
    "plt.subplot(spec[1, :])\n",
    "plt.plot(igif_sim['time'], replace_value(igif_sim['V'], 0., 40.), color=colors['igif'])\n",
    "pltools.hide_border('a')\n",
    "pltools.hide_ticks()\n",
    "plt.ylabel('$V$', rotation=0)\n",
    "\n",
    "plt.subplot(spec[2, :])\n",
    "plt.plot(igif_sim['time'], replace_value(igif_sim['firing_intensity'], 0., np.nan), color=colors['igif'])\n",
    "pltools.hide_border('a')\n",
    "pltools.hide_ticks()\n",
    "plt.ylabel('$\\lambda$', rotation=0, va='center')\n",
    "\n",
    "plt.subplot(spec[3, :])\n",
    "plt.plot([0, igif_sim['time'][-1]], [0, 0], ls='--', lw=0.3, dashes=(15, 15), color='k', clip_on=False)\n",
    "plt.plot(igif_sim['time'], igif_sim['eta_sum'], color=colors['igif'], clip_on=True)\n",
    "pltools.hide_border('a')\n",
    "pltools.hide_ticks()\n",
    "plt.ylabel('$\\eta$', rotation=0, va='center')\n",
    "\n",
    "plt.subplot(spec[4, :])\n",
    "plt.plot([0, igif_sim['time'][-1]], [0, 0], ls='--', lw=0.3, dashes=(15, 15), color='k', clip_on=False)\n",
    "plt.plot(igif_sim['time'], igif_sim['gamma_sum'], color=colors['igif'], clip_on=True)\n",
    "pltools.hide_border('a')\n",
    "pltools.hide_ticks()\n",
    "plt.ylabel('$\\gamma$', rotation=0, va='center')\n",
    "\n",
    "plt.subplot(spec[6, :])\n",
    "plt.plot(igif_sim['time'], igif_sim['theta'], color=colors['igif'])\n",
    "pltools.hide_border('a')\n",
    "pltools.hide_ticks()\n",
    "plt.ylabel('$V$-threshold\\ncoupling', rotation=0, va='center', ha='right')\n",
    "\n",
    "if IMG_PATH is not None:\n",
    "    plt.savefig(os.path.join(IMG_PATH, 'iGIF_NP_demo.png'))\n",
    "    plt.savefig(os.path.join(IMG_PATH, 'iGIF_NP_demo.svg'))"
   ]
  },
  {
   "cell_type": "markdown",
   "metadata": {},
   "source": [
    "# Sample training/test set data"
   ]
  },
  {
   "cell_type": "code",
   "execution_count": 13,
   "metadata": {},
   "outputs": [
    {
     "ename": "KeyboardInterrupt",
     "evalue": "",
     "output_type": "error",
     "traceback": [
      "\u001b[0;31m---------------------------------------------------------------------------\u001b[0m",
      "\u001b[0;31mKeyboardInterrupt\u001b[0m                         Traceback (most recent call last)",
      "\u001b[0;32m<ipython-input-13-e817151c2c20>\u001b[0m in \u001b[0;36m<module>\u001b[0;34m()\u001b[0m\n\u001b[1;32m      4\u001b[0m \u001b[0;32mfor\u001b[0m \u001b[0mcelltype\u001b[0m \u001b[0;32min\u001b[0m \u001b[0;34m[\u001b[0m\u001b[0;34m'5HT'\u001b[0m\u001b[0;34m,\u001b[0m \u001b[0;34m'GABA'\u001b[0m\u001b[0;34m,\u001b[0m \u001b[0;34m'mPFC'\u001b[0m\u001b[0;34m]\u001b[0m\u001b[0;34m:\u001b[0m\u001b[0;34m\u001b[0m\u001b[0m\n\u001b[1;32m      5\u001b[0m     \u001b[0;32mwith\u001b[0m \u001b[0mopen\u001b[0m\u001b[0;34m(\u001b[0m\u001b[0mos\u001b[0m\u001b[0;34m.\u001b[0m\u001b[0mpath\u001b[0m\u001b[0;34m.\u001b[0m\u001b[0mjoin\u001b[0m\u001b[0;34m(\u001b[0m\u001b[0mEPHYS_PATH\u001b[0m\u001b[0;34m,\u001b[0m \u001b[0;34m'{}_fastnoise'\u001b[0m\u001b[0;34m.\u001b[0m\u001b[0mformat\u001b[0m\u001b[0;34m(\u001b[0m\u001b[0mcelltype\u001b[0m\u001b[0;34m)\u001b[0m\u001b[0;34m,\u001b[0m \u001b[0;34m'{}_goodcells.ldat'\u001b[0m\u001b[0;34m.\u001b[0m\u001b[0mformat\u001b[0m\u001b[0;34m(\u001b[0m\u001b[0mcelltype\u001b[0m\u001b[0;34m)\u001b[0m\u001b[0;34m)\u001b[0m\u001b[0;34m,\u001b[0m \u001b[0;34m'rb'\u001b[0m\u001b[0;34m)\u001b[0m \u001b[0;32mas\u001b[0m \u001b[0mf\u001b[0m\u001b[0;34m:\u001b[0m\u001b[0;34m\u001b[0m\u001b[0m\n\u001b[0;32m----> 6\u001b[0;31m         \u001b[0mephys\u001b[0m\u001b[0;34m[\u001b[0m\u001b[0mcelltype\u001b[0m\u001b[0;34m]\u001b[0m \u001b[0;34m=\u001b[0m \u001b[0mpickle\u001b[0m\u001b[0;34m.\u001b[0m\u001b[0mload\u001b[0m\u001b[0;34m(\u001b[0m\u001b[0mf\u001b[0m\u001b[0;34m)\u001b[0m\u001b[0;34m\u001b[0m\u001b[0m\n\u001b[0m",
      "\u001b[0;32m/home/eharkin/miniconda3/envs/neopozz/lib/python2.7/pickle.pyc\u001b[0m in \u001b[0;36mload\u001b[0;34m(file)\u001b[0m\n\u001b[1;32m   1382\u001b[0m \u001b[0;34m\u001b[0m\u001b[0m\n\u001b[1;32m   1383\u001b[0m \u001b[0;32mdef\u001b[0m \u001b[0mload\u001b[0m\u001b[0;34m(\u001b[0m\u001b[0mfile\u001b[0m\u001b[0;34m)\u001b[0m\u001b[0;34m:\u001b[0m\u001b[0;34m\u001b[0m\u001b[0m\n\u001b[0;32m-> 1384\u001b[0;31m     \u001b[0;32mreturn\u001b[0m \u001b[0mUnpickler\u001b[0m\u001b[0;34m(\u001b[0m\u001b[0mfile\u001b[0m\u001b[0;34m)\u001b[0m\u001b[0;34m.\u001b[0m\u001b[0mload\u001b[0m\u001b[0;34m(\u001b[0m\u001b[0;34m)\u001b[0m\u001b[0;34m\u001b[0m\u001b[0m\n\u001b[0m\u001b[1;32m   1385\u001b[0m \u001b[0;34m\u001b[0m\u001b[0m\n\u001b[1;32m   1386\u001b[0m \u001b[0;32mdef\u001b[0m \u001b[0mloads\u001b[0m\u001b[0;34m(\u001b[0m\u001b[0mstr\u001b[0m\u001b[0;34m)\u001b[0m\u001b[0;34m:\u001b[0m\u001b[0;34m\u001b[0m\u001b[0m\n",
      "\u001b[0;32m/home/eharkin/miniconda3/envs/neopozz/lib/python2.7/pickle.pyc\u001b[0m in \u001b[0;36mload\u001b[0;34m(self)\u001b[0m\n\u001b[1;32m    862\u001b[0m             \u001b[0;32mwhile\u001b[0m \u001b[0;36m1\u001b[0m\u001b[0;34m:\u001b[0m\u001b[0;34m\u001b[0m\u001b[0m\n\u001b[1;32m    863\u001b[0m                 \u001b[0mkey\u001b[0m \u001b[0;34m=\u001b[0m \u001b[0mread\u001b[0m\u001b[0;34m(\u001b[0m\u001b[0;36m1\u001b[0m\u001b[0;34m)\u001b[0m\u001b[0;34m\u001b[0m\u001b[0m\n\u001b[0;32m--> 864\u001b[0;31m                 \u001b[0mdispatch\u001b[0m\u001b[0;34m[\u001b[0m\u001b[0mkey\u001b[0m\u001b[0;34m]\u001b[0m\u001b[0;34m(\u001b[0m\u001b[0mself\u001b[0m\u001b[0;34m)\u001b[0m\u001b[0;34m\u001b[0m\u001b[0m\n\u001b[0m\u001b[1;32m    865\u001b[0m         \u001b[0;32mexcept\u001b[0m \u001b[0m_Stop\u001b[0m\u001b[0;34m,\u001b[0m \u001b[0mstopinst\u001b[0m\u001b[0;34m:\u001b[0m\u001b[0;34m\u001b[0m\u001b[0m\n\u001b[1;32m    866\u001b[0m             \u001b[0;32mreturn\u001b[0m \u001b[0mstopinst\u001b[0m\u001b[0;34m.\u001b[0m\u001b[0mvalue\u001b[0m\u001b[0;34m\u001b[0m\u001b[0m\n",
      "\u001b[0;32m/home/eharkin/miniconda3/envs/neopozz/lib/python2.7/pickle.pyc\u001b[0m in \u001b[0;36mload_string\u001b[0;34m(self)\u001b[0m\n\u001b[1;32m    966\u001b[0m \u001b[0;34m\u001b[0m\u001b[0m\n\u001b[1;32m    967\u001b[0m     \u001b[0;32mdef\u001b[0m \u001b[0mload_string\u001b[0m\u001b[0;34m(\u001b[0m\u001b[0mself\u001b[0m\u001b[0;34m)\u001b[0m\u001b[0;34m:\u001b[0m\u001b[0;34m\u001b[0m\u001b[0m\n\u001b[0;32m--> 968\u001b[0;31m         \u001b[0mrep\u001b[0m \u001b[0;34m=\u001b[0m \u001b[0mself\u001b[0m\u001b[0;34m.\u001b[0m\u001b[0mreadline\u001b[0m\u001b[0;34m(\u001b[0m\u001b[0;34m)\u001b[0m\u001b[0;34m[\u001b[0m\u001b[0;34m:\u001b[0m\u001b[0;34m-\u001b[0m\u001b[0;36m1\u001b[0m\u001b[0;34m]\u001b[0m\u001b[0;34m\u001b[0m\u001b[0m\n\u001b[0m\u001b[1;32m    969\u001b[0m         \u001b[0;32mfor\u001b[0m \u001b[0mq\u001b[0m \u001b[0;32min\u001b[0m \u001b[0;34m\"\\\"'\"\u001b[0m\u001b[0;34m:\u001b[0m \u001b[0;31m# double or single quote\u001b[0m\u001b[0;34m\u001b[0m\u001b[0m\n\u001b[1;32m    970\u001b[0m             \u001b[0;32mif\u001b[0m \u001b[0mrep\u001b[0m\u001b[0;34m.\u001b[0m\u001b[0mstartswith\u001b[0m\u001b[0;34m(\u001b[0m\u001b[0mq\u001b[0m\u001b[0;34m)\u001b[0m\u001b[0;34m:\u001b[0m\u001b[0;34m\u001b[0m\u001b[0m\n",
      "\u001b[0;31mKeyboardInterrupt\u001b[0m: "
     ]
    }
   ],
   "source": [
    "EPHYS_PATH = os.path.join('data', 'processed')\n",
    "\n",
    "ephys = {}\n",
    "for celltype in ['5HT', 'GABA', 'mPFC']:\n",
    "    with open(os.path.join(EPHYS_PATH, '{}_fastnoise'.format(celltype), '{}_goodcells.ldat'.format(celltype)), 'rb') as f:\n",
    "        ephys[celltype] = pickle.load(f)"
   ]
  },
  {
   "cell_type": "code",
   "execution_count": null,
   "metadata": {},
   "outputs": [],
   "source": [
    "example_cell_ind = 1\n",
    "\n",
    "ephys_spec = gs.GridSpec(3, 1, height_ratios=[0.2, 1, 0.3], hspace=0.05, left=0.22, bottom=0.2, right=0.95, top=0.95)\n",
    "\n",
    "for celltype, color in zip(['5HT', 'GABA', 'mPFC'], ['ser', 'som', 'pyr']):\n",
    "    plt.figure(figsize=(2, 1.2))\n",
    "\n",
    "    plt.subplot(ephys_spec[0, :])\n",
    "    plt.plot(\n",
    "        ephys[celltype][example_cell_ind].trainingset_traces[0].getTime() * 1e-3,\n",
    "        ephys[celltype][example_cell_ind].trainingset_traces[0].I,\n",
    "        color=colors['input'],\n",
    "        lw=0.5\n",
    "    )\n",
    "    xlims = plt.xlim()\n",
    "    pltools.hide_border('a')\n",
    "    pltools.hide_ticks()\n",
    "\n",
    "    plt.subplot(ephys_spec[1, :])\n",
    "    plt.plot(\n",
    "        ephys[celltype][example_cell_ind].trainingset_traces[0].getTime() * 1e-3,\n",
    "        ephys[celltype][example_cell_ind].trainingset_traces[0].V,\n",
    "        color=colors[color],\n",
    "        lw=0.5\n",
    "    )\n",
    "    plt.xlim(xlims)\n",
    "    pltools.hide_border('a')\n",
    "    pltools.hide_ticks()\n",
    "\n",
    "    plt.subplot(ephys_spec[2, :])\n",
    "    plt.eventplot([tr.getSpikeTimes() * 1e-3 for tr in ephys[celltype][example_cell_ind].trainingset_traces], color=colors[color], lw=0.5)\n",
    "    plt.xlim(xlims)\n",
    "    plt.yticks([0, 2], [1, 3])\n",
    "    plt.ylabel('Repeats')\n",
    "    plt.xticks([0, 20, 40, 60])\n",
    "    plt.xlabel('Time (s)')\n",
    "    pltools.hide_border('tr', trim=True)\n",
    "\n",
    "    if IMG_PATH is not None:\n",
    "        plt.savefig(os.path.join(IMG_PATH, '{}_sample_training_set.png'.format(color)))"
   ]
  },
  {
   "cell_type": "code",
   "execution_count": null,
   "metadata": {
    "lines_to_next_cell": 0
   },
   "outputs": [],
   "source": [
    "for celltype, color in zip(['5HT', 'GABA', 'mPFC'], ['ser', 'som', 'pyr']):\n",
    "    \n",
    "    plt.figure(figsize=(1.0, 1.2))\n",
    "\n",
    "    plt.subplot(ephys_spec[0, :])\n",
    "    plt.plot(\n",
    "        ephys[celltype][example_cell_ind].testset_traces[0].getTime() * 1e-3,\n",
    "        ephys[celltype][example_cell_ind].testset_traces[0].I,\n",
    "        color=colors['input'],\n",
    "        lw=0.5\n",
    "    )\n",
    "    xlims = plt.xlim()\n",
    "    pltools.hide_border('a')\n",
    "    pltools.hide_ticks()\n",
    "\n",
    "    plt.subplot(ephys_spec[1, :])\n",
    "    plt.plot(\n",
    "        ephys[celltype][example_cell_ind].testset_traces[0].getTime() * 1e-3,\n",
    "        ephys[celltype][example_cell_ind].testset_traces[0].V,\n",
    "        color=colors[color],\n",
    "        lw=0.5\n",
    "    )\n",
    "    plt.xlim(xlims)\n",
    "    pltools.hide_border('a')\n",
    "    pltools.hide_ticks()\n",
    "\n",
    "    plt.subplot(ephys_spec[2, :])\n",
    "    plt.eventplot([tr.getSpikeTimes() * 1e-3 for tr in ephys[celltype][example_cell_ind].testset_traces], color=colors[color])\n",
    "    plt.xlim(xlims)\n",
    "    plt.xlabel('Time (s)')\n",
    "    plt.ylabel('Repeats')\n",
    "    \n",
    "    if celltype in ['5HT', 'GABA']:\n",
    "        plt.yticks([0, 8], [1, 9])\n",
    "        if celltype == '5HT':\n",
    "            plt.xticks([0, 5, 10, 15])\n",
    "        else:\n",
    "            plt.xticks([0, 5, 10])\n",
    "    else:\n",
    "        plt.yticks([0, 9], [1, 10])\n",
    "        plt.xticks([0, 5, 10])\n",
    "\n",
    "    pltools.hide_border('tr', trim=True)\n",
    "\n",
    "    if IMG_PATH is not None:\n",
    "        plt.savefig(os.path.join(IMG_PATH, '{}_sample_test_set.png'.format(celltype)))\n",
    "        plt.savefig(os.path.join(IMG_PATH, '{}_sample_test_set.png'.format(celltype)))"
   ]
  },
  {
   "cell_type": "code",
   "execution_count": null,
   "metadata": {
    "lines_to_next_cell": 2
   },
   "outputs": [],
   "source": []
  }
 ],
 "metadata": {
  "kernelspec": {
   "display_name": "Python 2",
   "language": "python",
   "name": "python2"
  },
  "language_info": {
   "codemirror_mode": {
    "name": "ipython",
    "version": 2
   },
   "file_extension": ".py",
   "mimetype": "text/x-python",
   "name": "python",
   "nbconvert_exporter": "python",
   "pygments_lexer": "ipython2",
   "version": "2.7.15"
  }
 },
 "nbformat": 4,
 "nbformat_minor": 2
}

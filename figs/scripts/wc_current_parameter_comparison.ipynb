{
 "cells": [
  {
   "cell_type": "markdown",
   "metadata": {},
   "source": [
    "Shown in fig. 1."
   ]
  },
  {
   "cell_type": "code",
   "execution_count": 1,
   "metadata": {},
   "outputs": [],
   "source": [
    "from common import colors, pvalue_thresholds, savefig"
   ]
  },
  {
   "cell_type": "code",
   "execution_count": 2,
   "metadata": {},
   "outputs": [
    {
     "name": "stdout",
     "output_type": "stream",
     "text": [
      "/home/eharkin/projects/5HTGIF-dev\n"
     ]
    }
   ],
   "source": [
    "import os\n",
    "os.chdir(os.path.join('..', '..'))\n",
    "print(os.getcwd())"
   ]
  },
  {
   "cell_type": "code",
   "execution_count": 3,
   "metadata": {},
   "outputs": [],
   "source": [
    "import pandas as pd\n",
    "import numpy as np\n",
    "import seaborn as sns\n",
    "import matplotlib.pyplot as plt\n",
    "from scipy import stats\n",
    "from ezephys import pltools\n",
    "from statannot import add_stat_annotation\n",
    "\n",
    "from grr.Tools import stripNan"
   ]
  },
  {
   "cell_type": "code",
   "execution_count": 4,
   "metadata": {},
   "outputs": [],
   "source": [
    "IMG_PATH = os.path.join('figs', 'ims', 'writeup', 'fig1')\n",
    "NOTEBOOK_PATH = os.path.join('figs', 'scripts')\n",
    "\n",
    "plt.style.use(os.path.join(NOTEBOOK_PATH, 'publication_figure_style.dms'))"
   ]
  },
  {
   "cell_type": "code",
   "execution_count": 5,
   "metadata": {},
   "outputs": [
    {
     "data": {
      "text/html": [
       "<div>\n",
       "<style scoped>\n",
       "    .dataframe tbody tr th:only-of-type {\n",
       "        vertical-align: middle;\n",
       "    }\n",
       "\n",
       "    .dataframe tbody tr th {\n",
       "        vertical-align: top;\n",
       "    }\n",
       "\n",
       "    .dataframe thead th {\n",
       "        text-align: right;\n",
       "    }\n",
       "</style>\n",
       "<table border=\"1\" class=\"dataframe\">\n",
       "  <thead>\n",
       "    <tr style=\"text-align: right;\">\n",
       "      <th></th>\n",
       "      <th>inactivation_taus</th>\n",
       "      <th>peak_amplitudes</th>\n",
       "      <th>peak_conductance</th>\n",
       "      <th>peak_exists</th>\n",
       "      <th>peak_latencies</th>\n",
       "      <th>steady_state_amplitudes</th>\n",
       "      <th>steady_state_conductance</th>\n",
       "      <th>cell_type</th>\n",
       "    </tr>\n",
       "  </thead>\n",
       "  <tbody>\n",
       "    <tr>\n",
       "      <th>0</th>\n",
       "      <td>39.280178</td>\n",
       "      <td>616.019392</td>\n",
       "      <td>12.320388</td>\n",
       "      <td>True</td>\n",
       "      <td>7.7</td>\n",
       "      <td>97.607349</td>\n",
       "      <td>1.952147</td>\n",
       "      <td>5HT</td>\n",
       "    </tr>\n",
       "    <tr>\n",
       "      <th>1</th>\n",
       "      <td>28.866688</td>\n",
       "      <td>921.168675</td>\n",
       "      <td>18.423373</td>\n",
       "      <td>True</td>\n",
       "      <td>6.3</td>\n",
       "      <td>107.386440</td>\n",
       "      <td>2.147729</td>\n",
       "      <td>5HT</td>\n",
       "    </tr>\n",
       "    <tr>\n",
       "      <th>2</th>\n",
       "      <td>32.445161</td>\n",
       "      <td>935.471419</td>\n",
       "      <td>18.709428</td>\n",
       "      <td>True</td>\n",
       "      <td>5.8</td>\n",
       "      <td>170.499481</td>\n",
       "      <td>3.409990</td>\n",
       "      <td>5HT</td>\n",
       "    </tr>\n",
       "    <tr>\n",
       "      <th>3</th>\n",
       "      <td>40.782865</td>\n",
       "      <td>855.081312</td>\n",
       "      <td>17.101626</td>\n",
       "      <td>True</td>\n",
       "      <td>8.3</td>\n",
       "      <td>220.519097</td>\n",
       "      <td>4.410382</td>\n",
       "      <td>5HT</td>\n",
       "    </tr>\n",
       "    <tr>\n",
       "      <th>4</th>\n",
       "      <td>57.185123</td>\n",
       "      <td>1287.397250</td>\n",
       "      <td>25.747945</td>\n",
       "      <td>True</td>\n",
       "      <td>7.9</td>\n",
       "      <td>155.052318</td>\n",
       "      <td>3.101046</td>\n",
       "      <td>5HT</td>\n",
       "    </tr>\n",
       "    <tr>\n",
       "      <th>5</th>\n",
       "      <td>44.690907</td>\n",
       "      <td>952.393451</td>\n",
       "      <td>19.047869</td>\n",
       "      <td>True</td>\n",
       "      <td>7.5</td>\n",
       "      <td>62.802801</td>\n",
       "      <td>1.256056</td>\n",
       "      <td>5HT</td>\n",
       "    </tr>\n",
       "    <tr>\n",
       "      <th>6</th>\n",
       "      <td>27.602526</td>\n",
       "      <td>749.077922</td>\n",
       "      <td>14.981558</td>\n",
       "      <td>True</td>\n",
       "      <td>7.8</td>\n",
       "      <td>151.887616</td>\n",
       "      <td>3.037752</td>\n",
       "      <td>5HT</td>\n",
       "    </tr>\n",
       "    <tr>\n",
       "      <th>7</th>\n",
       "      <td>37.392290</td>\n",
       "      <td>1076.172008</td>\n",
       "      <td>21.523440</td>\n",
       "      <td>True</td>\n",
       "      <td>8.0</td>\n",
       "      <td>160.327488</td>\n",
       "      <td>3.206550</td>\n",
       "      <td>5HT</td>\n",
       "    </tr>\n",
       "    <tr>\n",
       "      <th>8</th>\n",
       "      <td>49.518003</td>\n",
       "      <td>576.848941</td>\n",
       "      <td>11.536979</td>\n",
       "      <td>True</td>\n",
       "      <td>7.7</td>\n",
       "      <td>89.449190</td>\n",
       "      <td>1.788984</td>\n",
       "      <td>5HT</td>\n",
       "    </tr>\n",
       "    <tr>\n",
       "      <th>9</th>\n",
       "      <td>49.753422</td>\n",
       "      <td>1055.642518</td>\n",
       "      <td>21.112850</td>\n",
       "      <td>True</td>\n",
       "      <td>7.8</td>\n",
       "      <td>167.120445</td>\n",
       "      <td>3.342409</td>\n",
       "      <td>5HT</td>\n",
       "    </tr>\n",
       "    <tr>\n",
       "      <th>10</th>\n",
       "      <td>46.934444</td>\n",
       "      <td>1291.528419</td>\n",
       "      <td>25.830568</td>\n",
       "      <td>True</td>\n",
       "      <td>8.0</td>\n",
       "      <td>190.159522</td>\n",
       "      <td>3.803190</td>\n",
       "      <td>5HT</td>\n",
       "    </tr>\n",
       "    <tr>\n",
       "      <th>11</th>\n",
       "      <td>49.629096</td>\n",
       "      <td>578.376225</td>\n",
       "      <td>11.567524</td>\n",
       "      <td>True</td>\n",
       "      <td>6.6</td>\n",
       "      <td>166.533216</td>\n",
       "      <td>3.330664</td>\n",
       "      <td>5HT</td>\n",
       "    </tr>\n",
       "    <tr>\n",
       "      <th>12</th>\n",
       "      <td>53.203598</td>\n",
       "      <td>1178.113063</td>\n",
       "      <td>23.562261</td>\n",
       "      <td>True</td>\n",
       "      <td>7.6</td>\n",
       "      <td>103.943496</td>\n",
       "      <td>2.078870</td>\n",
       "      <td>5HT</td>\n",
       "    </tr>\n",
       "    <tr>\n",
       "      <th>13</th>\n",
       "      <td>NaN</td>\n",
       "      <td>NaN</td>\n",
       "      <td>NaN</td>\n",
       "      <td>False</td>\n",
       "      <td>NaN</td>\n",
       "      <td>151.655669</td>\n",
       "      <td>3.033113</td>\n",
       "      <td>GABA</td>\n",
       "    </tr>\n",
       "    <tr>\n",
       "      <th>14</th>\n",
       "      <td>464.036324</td>\n",
       "      <td>456.674992</td>\n",
       "      <td>9.133500</td>\n",
       "      <td>True</td>\n",
       "      <td>40.1</td>\n",
       "      <td>92.942349</td>\n",
       "      <td>1.858847</td>\n",
       "      <td>GABA</td>\n",
       "    </tr>\n",
       "    <tr>\n",
       "      <th>15</th>\n",
       "      <td>210.027287</td>\n",
       "      <td>384.497656</td>\n",
       "      <td>7.689953</td>\n",
       "      <td>True</td>\n",
       "      <td>27.7</td>\n",
       "      <td>53.716685</td>\n",
       "      <td>1.074334</td>\n",
       "      <td>GABA</td>\n",
       "    </tr>\n",
       "    <tr>\n",
       "      <th>16</th>\n",
       "      <td>NaN</td>\n",
       "      <td>NaN</td>\n",
       "      <td>NaN</td>\n",
       "      <td>False</td>\n",
       "      <td>NaN</td>\n",
       "      <td>79.775869</td>\n",
       "      <td>1.595517</td>\n",
       "      <td>GABA</td>\n",
       "    </tr>\n",
       "    <tr>\n",
       "      <th>17</th>\n",
       "      <td>NaN</td>\n",
       "      <td>NaN</td>\n",
       "      <td>NaN</td>\n",
       "      <td>False</td>\n",
       "      <td>NaN</td>\n",
       "      <td>228.903793</td>\n",
       "      <td>4.578076</td>\n",
       "      <td>GABA</td>\n",
       "    </tr>\n",
       "    <tr>\n",
       "      <th>18</th>\n",
       "      <td>28.294171</td>\n",
       "      <td>361.586037</td>\n",
       "      <td>7.231721</td>\n",
       "      <td>True</td>\n",
       "      <td>10.8</td>\n",
       "      <td>231.581185</td>\n",
       "      <td>4.631624</td>\n",
       "      <td>GABA</td>\n",
       "    </tr>\n",
       "    <tr>\n",
       "      <th>19</th>\n",
       "      <td>27.541058</td>\n",
       "      <td>407.665421</td>\n",
       "      <td>8.153308</td>\n",
       "      <td>True</td>\n",
       "      <td>6.7</td>\n",
       "      <td>286.250889</td>\n",
       "      <td>5.725018</td>\n",
       "      <td>GABA</td>\n",
       "    </tr>\n",
       "    <tr>\n",
       "      <th>20</th>\n",
       "      <td>605.888044</td>\n",
       "      <td>717.125597</td>\n",
       "      <td>14.342512</td>\n",
       "      <td>True</td>\n",
       "      <td>55.8</td>\n",
       "      <td>236.838729</td>\n",
       "      <td>4.736775</td>\n",
       "      <td>GABA</td>\n",
       "    </tr>\n",
       "    <tr>\n",
       "      <th>21</th>\n",
       "      <td>361.753412</td>\n",
       "      <td>906.475616</td>\n",
       "      <td>18.129512</td>\n",
       "      <td>True</td>\n",
       "      <td>35.9</td>\n",
       "      <td>231.494019</td>\n",
       "      <td>4.629880</td>\n",
       "      <td>GABA</td>\n",
       "    </tr>\n",
       "    <tr>\n",
       "      <th>22</th>\n",
       "      <td>53.673408</td>\n",
       "      <td>593.925207</td>\n",
       "      <td>11.878504</td>\n",
       "      <td>True</td>\n",
       "      <td>10.5</td>\n",
       "      <td>115.581109</td>\n",
       "      <td>2.311622</td>\n",
       "      <td>GABA</td>\n",
       "    </tr>\n",
       "    <tr>\n",
       "      <th>23</th>\n",
       "      <td>127.778882</td>\n",
       "      <td>463.166691</td>\n",
       "      <td>9.263334</td>\n",
       "      <td>True</td>\n",
       "      <td>30.1</td>\n",
       "      <td>103.821622</td>\n",
       "      <td>2.076432</td>\n",
       "      <td>GABA</td>\n",
       "    </tr>\n",
       "  </tbody>\n",
       "</table>\n",
       "</div>"
      ],
      "text/plain": [
       "    inactivation_taus  peak_amplitudes  peak_conductance  peak_exists  \\\n",
       "0           39.280178       616.019392         12.320388         True   \n",
       "1           28.866688       921.168675         18.423373         True   \n",
       "2           32.445161       935.471419         18.709428         True   \n",
       "3           40.782865       855.081312         17.101626         True   \n",
       "4           57.185123      1287.397250         25.747945         True   \n",
       "5           44.690907       952.393451         19.047869         True   \n",
       "6           27.602526       749.077922         14.981558         True   \n",
       "7           37.392290      1076.172008         21.523440         True   \n",
       "8           49.518003       576.848941         11.536979         True   \n",
       "9           49.753422      1055.642518         21.112850         True   \n",
       "10          46.934444      1291.528419         25.830568         True   \n",
       "11          49.629096       578.376225         11.567524         True   \n",
       "12          53.203598      1178.113063         23.562261         True   \n",
       "13                NaN              NaN               NaN        False   \n",
       "14         464.036324       456.674992          9.133500         True   \n",
       "15         210.027287       384.497656          7.689953         True   \n",
       "16                NaN              NaN               NaN        False   \n",
       "17                NaN              NaN               NaN        False   \n",
       "18          28.294171       361.586037          7.231721         True   \n",
       "19          27.541058       407.665421          8.153308         True   \n",
       "20         605.888044       717.125597         14.342512         True   \n",
       "21         361.753412       906.475616         18.129512         True   \n",
       "22          53.673408       593.925207         11.878504         True   \n",
       "23         127.778882       463.166691          9.263334         True   \n",
       "\n",
       "    peak_latencies  steady_state_amplitudes  steady_state_conductance  \\\n",
       "0              7.7                97.607349                  1.952147   \n",
       "1              6.3               107.386440                  2.147729   \n",
       "2              5.8               170.499481                  3.409990   \n",
       "3              8.3               220.519097                  4.410382   \n",
       "4              7.9               155.052318                  3.101046   \n",
       "5              7.5                62.802801                  1.256056   \n",
       "6              7.8               151.887616                  3.037752   \n",
       "7              8.0               160.327488                  3.206550   \n",
       "8              7.7                89.449190                  1.788984   \n",
       "9              7.8               167.120445                  3.342409   \n",
       "10             8.0               190.159522                  3.803190   \n",
       "11             6.6               166.533216                  3.330664   \n",
       "12             7.6               103.943496                  2.078870   \n",
       "13             NaN               151.655669                  3.033113   \n",
       "14            40.1                92.942349                  1.858847   \n",
       "15            27.7                53.716685                  1.074334   \n",
       "16             NaN                79.775869                  1.595517   \n",
       "17             NaN               228.903793                  4.578076   \n",
       "18            10.8               231.581185                  4.631624   \n",
       "19             6.7               286.250889                  5.725018   \n",
       "20            55.8               236.838729                  4.736775   \n",
       "21            35.9               231.494019                  4.629880   \n",
       "22            10.5               115.581109                  2.311622   \n",
       "23            30.1               103.821622                  2.076432   \n",
       "\n",
       "   cell_type  \n",
       "0        5HT  \n",
       "1        5HT  \n",
       "2        5HT  \n",
       "3        5HT  \n",
       "4        5HT  \n",
       "5        5HT  \n",
       "6        5HT  \n",
       "7        5HT  \n",
       "8        5HT  \n",
       "9        5HT  \n",
       "10       5HT  \n",
       "11       5HT  \n",
       "12       5HT  \n",
       "13      GABA  \n",
       "14      GABA  \n",
       "15      GABA  \n",
       "16      GABA  \n",
       "17      GABA  \n",
       "18      GABA  \n",
       "19      GABA  \n",
       "20      GABA  \n",
       "21      GABA  \n",
       "22      GABA  \n",
       "23      GABA  "
      ]
     },
     "execution_count": 5,
     "metadata": {},
     "output_type": "execute_result"
    }
   ],
   "source": [
    "data = {\n",
    "    celltype: pd.read_csv(os.path.join('data', 'processed', celltype, 'transient_current_parameters.csv'))\n",
    "    for celltype in ['5HT', 'GABA']\n",
    "}\n",
    "for celltype in data:\n",
    "    data[celltype]['cell_type'] = celltype\n",
    "param_df = pd.concat([data[celltype] for celltype in data], axis=0)\n",
    "param_df.reset_index(drop=True, inplace=True)\n",
    "\n",
    "param_df"
   ]
  },
  {
   "cell_type": "code",
   "execution_count": 6,
   "metadata": {},
   "outputs": [],
   "source": [
    "param_df['peak_amplitudes'] *= 1e-3\n",
    "param_df['steady_state_amplitudes'] *= 1e-3"
   ]
  },
  {
   "cell_type": "code",
   "execution_count": 7,
   "metadata": {},
   "outputs": [
    {
     "data": {
      "text/html": [
       "<div>\n",
       "<style scoped>\n",
       "    .dataframe tbody tr th:only-of-type {\n",
       "        vertical-align: middle;\n",
       "    }\n",
       "\n",
       "    .dataframe tbody tr th {\n",
       "        vertical-align: top;\n",
       "    }\n",
       "\n",
       "    .dataframe thead th {\n",
       "        text-align: right;\n",
       "    }\n",
       "</style>\n",
       "<table border=\"1\" class=\"dataframe\">\n",
       "  <thead>\n",
       "    <tr style=\"text-align: right;\">\n",
       "      <th></th>\n",
       "      <th>inactivation_taus</th>\n",
       "      <th>peak_amplitudes</th>\n",
       "      <th>peak_conductance</th>\n",
       "      <th>peak_exists</th>\n",
       "      <th>peak_latencies</th>\n",
       "      <th>steady_state_amplitudes</th>\n",
       "      <th>steady_state_conductance</th>\n",
       "    </tr>\n",
       "    <tr>\n",
       "      <th>cell_type</th>\n",
       "      <th></th>\n",
       "      <th></th>\n",
       "      <th></th>\n",
       "      <th></th>\n",
       "      <th></th>\n",
       "      <th></th>\n",
       "      <th></th>\n",
       "    </tr>\n",
       "  </thead>\n",
       "  <tbody>\n",
       "    <tr>\n",
       "      <th>5HT</th>\n",
       "      <td>42.868023</td>\n",
       "      <td>0.928715</td>\n",
       "      <td>18.574293</td>\n",
       "      <td>1.000000</td>\n",
       "      <td>7.461538</td>\n",
       "      <td>0.141791</td>\n",
       "      <td>2.835828</td>\n",
       "    </tr>\n",
       "    <tr>\n",
       "      <th>GABA</th>\n",
       "      <td>234.874073</td>\n",
       "      <td>0.536390</td>\n",
       "      <td>10.727793</td>\n",
       "      <td>0.727273</td>\n",
       "      <td>27.200000</td>\n",
       "      <td>0.164778</td>\n",
       "      <td>3.295567</td>\n",
       "    </tr>\n",
       "  </tbody>\n",
       "</table>\n",
       "</div>"
      ],
      "text/plain": [
       "           inactivation_taus  peak_amplitudes  peak_conductance  peak_exists  \\\n",
       "cell_type                                                                      \n",
       "5HT                42.868023         0.928715         18.574293     1.000000   \n",
       "GABA              234.874073         0.536390         10.727793     0.727273   \n",
       "\n",
       "           peak_latencies  steady_state_amplitudes  steady_state_conductance  \n",
       "cell_type                                                                     \n",
       "5HT              7.461538                 0.141791                  2.835828  \n",
       "GABA            27.200000                 0.164778                  3.295567  "
      ]
     },
     "execution_count": 7,
     "metadata": {},
     "output_type": "execute_result"
    }
   ],
   "source": [
    "param_df.groupby('cell_type').mean()"
   ]
  },
  {
   "cell_type": "code",
   "execution_count": 8,
   "metadata": {},
   "outputs": [
    {
     "data": {
      "text/html": [
       "<div>\n",
       "<style scoped>\n",
       "    .dataframe tbody tr th:only-of-type {\n",
       "        vertical-align: middle;\n",
       "    }\n",
       "\n",
       "    .dataframe tbody tr th {\n",
       "        vertical-align: top;\n",
       "    }\n",
       "\n",
       "    .dataframe thead th {\n",
       "        text-align: right;\n",
       "    }\n",
       "</style>\n",
       "<table border=\"1\" class=\"dataframe\">\n",
       "  <thead>\n",
       "    <tr style=\"text-align: right;\">\n",
       "      <th></th>\n",
       "      <th>inactivation_taus</th>\n",
       "      <th>peak_amplitudes</th>\n",
       "      <th>peak_conductance</th>\n",
       "      <th>peak_exists</th>\n",
       "      <th>peak_latencies</th>\n",
       "      <th>steady_state_amplitudes</th>\n",
       "      <th>steady_state_conductance</th>\n",
       "    </tr>\n",
       "    <tr>\n",
       "      <th>cell_type</th>\n",
       "      <th></th>\n",
       "      <th></th>\n",
       "      <th></th>\n",
       "      <th></th>\n",
       "      <th></th>\n",
       "      <th></th>\n",
       "      <th></th>\n",
       "    </tr>\n",
       "  </thead>\n",
       "  <tbody>\n",
       "    <tr>\n",
       "      <th>5HT</th>\n",
       "      <td>9.37158</td>\n",
       "      <td>0.248834</td>\n",
       "      <td>4.976680</td>\n",
       "      <td>0.000000</td>\n",
       "      <td>0.746702</td>\n",
       "      <td>0.045446</td>\n",
       "      <td>0.908920</td>\n",
       "    </tr>\n",
       "    <tr>\n",
       "      <th>GABA</th>\n",
       "      <td>219.36523</td>\n",
       "      <td>0.190808</td>\n",
       "      <td>3.816153</td>\n",
       "      <td>0.467099</td>\n",
       "      <td>17.057968</td>\n",
       "      <td>0.080002</td>\n",
       "      <td>1.600035</td>\n",
       "    </tr>\n",
       "  </tbody>\n",
       "</table>\n",
       "</div>"
      ],
      "text/plain": [
       "           inactivation_taus  peak_amplitudes  peak_conductance  peak_exists  \\\n",
       "cell_type                                                                      \n",
       "5HT                  9.37158         0.248834          4.976680     0.000000   \n",
       "GABA               219.36523         0.190808          3.816153     0.467099   \n",
       "\n",
       "           peak_latencies  steady_state_amplitudes  steady_state_conductance  \n",
       "cell_type                                                                     \n",
       "5HT              0.746702                 0.045446                  0.908920  \n",
       "GABA            17.057968                 0.080002                  1.600035  "
      ]
     },
     "execution_count": 8,
     "metadata": {},
     "output_type": "execute_result"
    }
   ],
   "source": [
    "param_df.groupby('cell_type').std()"
   ]
  },
  {
   "cell_type": "code",
   "execution_count": 9,
   "metadata": {},
   "outputs": [],
   "source": [
    "figsize=(0.7, 1)"
   ]
  },
  {
   "cell_type": "code",
   "execution_count": 10,
   "metadata": {},
   "outputs": [
    {
     "name": "stdout",
     "output_type": "stream",
     "text": [
      "p-value annotation legend:\n",
      "ns: 1.00e-01 < p <= 1.00e+00\n",
      "o: 5.00e-02 < p <= 1.00e-01\n",
      "*: 1.00e-02 < p <= 5.00e-02\n",
      "**: 1.00e-03 < p <= 1.00e-02\n",
      "***: 1.00e-04 < p <= 1.00e-03\n",
      "****: p <= 1.00e-04\n",
      "()\n",
      "5HT v.s. GABA: Mann-Whitney-Wilcoxon test two-sided with Bonferroni correction, P_val=2.652e-03 U_stat=9.400e+01\n",
      "Saving svg\n",
      "Saving png\n",
      "Done!\n"
     ]
    },
    {
     "data": {
      "image/png": "[encoded data removed]",
      "text/plain": [
       "<Figure size 84x120 with 1 Axes>"
      ]
     },
     "metadata": {
      "needs_background": "light"
     },
     "output_type": "display_data"
    }
   ],
   "source": [
    "plt.figure(figsize=figsize)\n",
    "\n",
    "plt.subplot(111)\n",
    "plt.subplots_adjust(left=0.4, right=0.95, top=0.8, bottom=0.05)\n",
    "ax = sns.boxplot(\n",
    "    'cell_type', \n",
    "    'peak_amplitudes', \n",
    "    order=['5HT', 'GABA'], \n",
    "    palette=[colors['ser'], colors['som']],\n",
    "    data=param_df\n",
    ")\n",
    "plt.xlabel('')\n",
    "plt.ylabel(r'$I_\\mathrm{max}$ (nA)')\n",
    "add_stat_annotation(\n",
    "    ax=ax,\n",
    "    x='cell_type', \n",
    "    y='peak_amplitudes', \n",
    "    order=['5HT', 'GABA'], \n",
    "    data=param_df,\n",
    "    comparisons_correction='bonferroni',\n",
    "    test='Mann-Whitney',\n",
    "    box_pairs=[('5HT', 'GABA')],\n",
    "    pvalue_thresholds=pvalue_thresholds,\n",
    "    loc='outside'\n",
    ")\n",
    "plt.yticks([0, 0.5, 1])\n",
    "plt.xticks([])\n",
    "pltools.hide_border('trb', trim=True)\n",
    "\n",
    "if IMG_PATH is not None:\n",
    "    savefig(os.path.join(IMG_PATH, 'peak_amplitude_comparison'))"
   ]
  },
  {
   "cell_type": "code",
   "execution_count": 11,
   "metadata": {},
   "outputs": [
    {
     "data": {
      "text/plain": [
       "LeveneResult(statistic=0.8942586064023157, pvalue=0.3561978469670596)"
      ]
     },
     "execution_count": 11,
     "metadata": {},
     "output_type": "execute_result"
    }
   ],
   "source": [
    "variable='peak_amplitudes'\n",
    "stats.levene(\n",
    "    stripNan(param_df.loc[param_df['cell_type'] == '5HT', variable]),\n",
    "    stripNan(param_df.loc[param_df['cell_type'] == 'GABA', variable]),\n",
    "    center='median'\n",
    ")"
   ]
  },
  {
   "cell_type": "code",
   "execution_count": 13,
   "metadata": {},
   "outputs": [
    {
     "name": "stdout",
     "output_type": "stream",
     "text": [
      "p-value annotation legend:\n",
      "ns: 1.00e-01 < p <= 1.00e+00\n",
      "o: 5.00e-02 < p <= 1.00e-01\n",
      "*: 1.00e-02 < p <= 5.00e-02\n",
      "**: 1.00e-03 < p <= 1.00e-02\n",
      "***: 1.00e-04 < p <= 1.00e-03\n",
      "****: p <= 1.00e-04\n",
      "()\n",
      "5HT v.s. GABA: Mann-Whitney-Wilcoxon test two-sided with Bonferroni correction, P_val=2.626e-03 U_stat=1.000e+01\n",
      "Saving svg\n",
      "Saving png\n",
      "Done!\n"
     ]
    },
    {
     "data": {
      "image/png": "[encoded data removed]",
      "text/plain": [
       "<Figure size 84x120 with 1 Axes>"
      ]
     },
     "metadata": {
      "needs_background": "light"
     },
     "output_type": "display_data"
    }
   ],
   "source": [
    "plt.figure(figsize=figsize)\n",
    "\n",
    "plt.subplot(111)\n",
    "plt.ylim(0, 59)\n",
    "plt.subplots_adjust(left=0.4, right=0.95, top=0.8, bottom=0.05)\n",
    "ax = sns.boxplot(\n",
    "    'cell_type', \n",
    "    'peak_latencies', \n",
    "    order=['5HT', 'GABA'], \n",
    "    palette=[colors['ser'], colors['som']],\n",
    "    data=param_df.loc[np.isfinite(param_df['peak_latencies']), :], \n",
    "    fliersize=2\n",
    ")\n",
    "plt.xlabel('')\n",
    "plt.ylabel('Time to peak (ms)')\n",
    "add_stat_annotation(\n",
    "    ax=ax,\n",
    "    x='cell_type', \n",
    "    y='peak_latencies', \n",
    "    order=['5HT', 'GABA'], \n",
    "    data=param_df.loc[np.isfinite(param_df['peak_latencies']), :],\n",
    "    comparisons_correction='bonferroni',\n",
    "    test='Mann-Whitney',\n",
    "    box_pairs=[('5HT', 'GABA')],\n",
    "    pvalue_thresholds=pvalue_thresholds,\n",
    "    loc='outside'\n",
    ")\n",
    "plt.xticks([])\n",
    "pltools.hide_border('trb', trim=True)\n",
    "\n",
    "if IMG_PATH is not None:\n",
    "    savefig(os.path.join(IMG_PATH, 'peak_latency_comparison'))"
   ]
  },
  {
   "cell_type": "code",
   "execution_count": 14,
   "metadata": {},
   "outputs": [
    {
     "data": {
      "text/plain": [
       "LeveneResult(statistic=23.518915487482428, pvalue=0.0001113287969289235)"
      ]
     },
     "execution_count": 14,
     "metadata": {},
     "output_type": "execute_result"
    }
   ],
   "source": [
    "variable='peak_latencies'\n",
    "stats.levene(\n",
    "    stripNan(param_df.loc[param_df['cell_type'] == '5HT', variable]),\n",
    "    stripNan(param_df.loc[param_df['cell_type'] == 'GABA', variable]),\n",
    "    center='median'\n",
    ")"
   ]
  },
  {
   "cell_type": "code",
   "execution_count": 16,
   "metadata": {},
   "outputs": [
    {
     "name": "stdout",
     "output_type": "stream",
     "text": [
      "p-value annotation legend:\n",
      "ns: 1.00e-01 < p <= 1.00e+00\n",
      "o: 5.00e-02 < p <= 1.00e-01\n",
      "*: 1.00e-02 < p <= 5.00e-02\n",
      "**: 1.00e-03 < p <= 1.00e-02\n",
      "***: 1.00e-04 < p <= 1.00e-03\n",
      "****: p <= 1.00e-04\n",
      "()\n",
      "5HT v.s. GABA: Mann-Whitney-Wilcoxon test two-sided with Bonferroni correction, P_val=6.479e-02 U_stat=2.600e+01\n",
      "Saving svg\n",
      "Saving png\n",
      "Done!\n"
     ]
    },
    {
     "data": {
      "image/png": "[encoded data removed]",
      "text/plain": [
       "<Figure size 84x120 with 1 Axes>"
      ]
     },
     "metadata": {
      "needs_background": "light"
     },
     "output_type": "display_data"
    }
   ],
   "source": [
    "plt.figure(figsize=figsize)\n",
    "\n",
    "plt.subplot(111)\n",
    "plt.subplots_adjust(left=0.5, right=0.95, top=0.8, bottom=0.05)\n",
    "plt.ylim(0, 620)\n",
    "ax = sns.boxplot(\n",
    "    'cell_type', \n",
    "    'inactivation_taus',\n",
    "    order=['5HT', 'GABA'], \n",
    "    palette=[colors['ser'], colors['som']],\n",
    "    data=param_df\n",
    ")\n",
    "plt.xlabel('')\n",
    "plt.ylabel(r'Inactivation $\\tau$ (ms)')\n",
    "add_stat_annotation(\n",
    "    ax=ax,\n",
    "    x='cell_type', \n",
    "    y='inactivation_taus', \n",
    "    order=['5HT', 'GABA'], \n",
    "    data=param_df.loc[np.isfinite(param_df['inactivation_taus']), :],\n",
    "    comparisons_correction='bonferroni',\n",
    "    test='Mann-Whitney',\n",
    "    box_pairs=[('5HT', 'GABA')],\n",
    "    pvalue_thresholds=pvalue_thresholds,\n",
    "    loc='outside'\n",
    ")\n",
    "plt.xticks([])\n",
    "pltools.hide_border('trb', trim=True)\n",
    "\n",
    "if IMG_PATH is not None:\n",
    "    savefig(os.path.join(IMG_PATH, 'inactivation_comparison'))"
   ]
  },
  {
   "cell_type": "code",
   "execution_count": 17,
   "metadata": {},
   "outputs": [
    {
     "data": {
      "text/plain": [
       "LeveneResult(statistic=21.13783713015973, pvalue=0.00019653251040635324)"
      ]
     },
     "execution_count": 17,
     "metadata": {},
     "output_type": "execute_result"
    }
   ],
   "source": [
    "variable='inactivation_taus'\n",
    "stats.levene(\n",
    "    stripNan(param_df.loc[param_df['cell_type'] == '5HT', variable]),\n",
    "    stripNan(param_df.loc[param_df['cell_type'] == 'GABA', variable]),\n",
    "    center='median'\n",
    ")"
   ]
  },
  {
   "cell_type": "code",
   "execution_count": 21,
   "metadata": {},
   "outputs": [
    {
     "name": "stdout",
     "output_type": "stream",
     "text": [
      "Saving svg\n",
      "Saving png\n",
      "Done!\n"
     ]
    },
    {
     "data": {
      "image/png": "[encoded data removed]",
      "text/plain": [
       "<Figure size 96x120 with 1 Axes>"
      ]
     },
     "metadata": {
      "needs_background": "light"
     },
     "output_type": "display_data"
    }
   ],
   "source": [
    "plt.figure(figsize=(0.8, 1))\n",
    "\n",
    "plt.subplot(111)\n",
    "plt.subplots_adjust(left=0.5, right=0.95, top=0.95, bottom=0.3)\n",
    "sns.barplot(\n",
    "    'cell_type', \n",
    "    'peak_exists', \n",
    "    order=['5HT', 'GABA'], \n",
    "    palette=[colors['ser'], colors['som']],\n",
    "    data=param_df, \n",
    "    ci=None\n",
    ")\n",
    "plt.xlabel('')\n",
    "plt.ylabel('Proportion\\nwith transient')\n",
    "plt.xticks(rotation=45, ha='right')\n",
    "plt.gca().set_xticklabels(['5-HT', 'SOM'])\n",
    "pltools.hide_border('tr', trim=True)\n",
    "\n",
    "if IMG_PATH is not None:\n",
    "    savefig(os.path.join(IMG_PATH, 'peak_proportion_comparison'))"
   ]
  },
  {
   "cell_type": "code",
   "execution_count": 17,
   "metadata": {},
   "outputs": [
    {
     "data": {
      "text/plain": [
       "(1.942057942057942, 0.16344526009542953, 1, array([[11.375,  1.625],\n",
       "        [ 9.625,  1.375]]))"
      ]
     },
     "execution_count": 17,
     "metadata": {},
     "output_type": "execute_result"
    }
   ],
   "source": [
    "contingency = [\n",
    "    [sum(param_df.loc[param_df['cell_type'] == '5HT', 'peak_exists']),\n",
    "    sum(~param_df.loc[param_df['cell_type'] == '5HT', 'peak_exists'])],\n",
    "    [sum(param_df.loc[param_df['cell_type'] == 'GABA', 'peak_exists']),\n",
    "    sum(~param_df.loc[param_df['cell_type'] == 'GABA', 'peak_exists'])],\n",
    "]\n",
    "stats.chi2_contingency(contingency)"
   ]
  },
  {
   "cell_type": "code",
   "execution_count": 18,
   "metadata": {},
   "outputs": [
    {
     "name": "stdout",
     "output_type": "stream",
     "text": [
      "p-value annotation legend:\n",
      "ns: 1.00e-01 < p <= 1.00e+00\n",
      "o: 5.00e-02 < p <= 1.00e-01\n",
      "*: 1.00e-02 < p <= 5.00e-02\n",
      "**: 1.00e-03 < p <= 1.00e-02\n",
      "***: 1.00e-04 < p <= 1.00e-03\n",
      "****: p <= 1.00e-04\n",
      "()\n",
      "5HT v.s. GABA: Mann-Whitney-Wilcoxon test two-sided with Bonferroni correction, P_val=6.021e-01 U_stat=6.200e+01\n"
     ]
    },
    {
     "data": {
      "image/png": "[encoded data removed]",
      "text/plain": [
       "<Figure size 84x120 with 1 Axes>"
      ]
     },
     "metadata": {
      "needs_background": "light"
     },
     "output_type": "display_data"
    }
   ],
   "source": [
    "plt.figure(figsize=figsize)\n",
    "\n",
    "plt.subplot(111)\n",
    "plt.subplots_adjust(left=0.4, right=0.95, top=0.6, bottom=0.05)\n",
    "ax = sns.boxplot(\n",
    "    'cell_type', \n",
    "    'steady_state_amplitudes',\n",
    "    order=['5HT', 'GABA'], \n",
    "    palette=[colors['ser'], colors['som']],\n",
    "    data=param_df\n",
    ")\n",
    "plt.xlabel('')\n",
    "plt.ylabel(r'$I_\\mathrm{ss}$ (nA)')\n",
    "add_stat_annotation(\n",
    "    ax=ax,\n",
    "    x='cell_type', \n",
    "    y='steady_state_amplitudes', \n",
    "    order=['5HT', 'GABA'], \n",
    "    data=param_df.loc[np.isfinite(param_df['steady_state_conductance']), :],\n",
    "    comparisons_correction='bonferroni',\n",
    "    test='Mann-Whitney',\n",
    "    box_pairs=[('5HT', 'GABA')],\n",
    "    pvalue_thresholds=pvalue_thresholds,\n",
    "    loc='outside'\n",
    ")\n",
    "plt.yticks([0, 0.1, 0.2, 0.3])\n",
    "plt.xticks([])\n",
    "pltools.hide_border('trb', trim=True)\n",
    "\n",
    "if IMG_PATH is not None:\n",
    "    plt.savefig(os.path.join(IMG_PATH, 'steady_state_comparison.png'))\n",
    "    plt.savefig(os.path.join(IMG_PATH, 'steady_state_comparison.svg'))"
   ]
  },
  {
   "cell_type": "code",
   "execution_count": 19,
   "metadata": {},
   "outputs": [
    {
     "data": {
      "text/plain": [
       "LeveneResult(statistic=6.8125340707405195, pvalue=0.01598425807224881)"
      ]
     },
     "execution_count": 19,
     "metadata": {},
     "output_type": "execute_result"
    }
   ],
   "source": [
    "variable='steady_state_amplitudes'\n",
    "stats.levene(\n",
    "    stripNan(param_df.loc[param_df['cell_type'] == '5HT', variable]),\n",
    "    stripNan(param_df.loc[param_df['cell_type'] == 'GABA', variable]),\n",
    "    center='median'\n",
    ")"
   ]
  }
 ],
 "metadata": {
  "kernelspec": {
   "display_name": "Python 2",
   "language": "python",
   "name": "python2"
  },
  "language_info": {
   "codemirror_mode": {
    "name": "ipython",
    "version": 2
   },
   "file_extension": ".py",
   "mimetype": "text/x-python",
   "name": "python",
   "nbconvert_exporter": "python",
   "pygments_lexer": "ipython2",
   "version": "2.7.15"
  }
 },
 "nbformat": 4,
 "nbformat_minor": 2
}

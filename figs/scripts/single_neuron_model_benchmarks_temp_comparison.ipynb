{
 "cells": [
  {
   "cell_type": "code",
   "execution_count": 1,
   "metadata": {},
   "outputs": [],
   "source": [
    "from common import colors, fliersize, savefig"
   ]
  },
  {
   "cell_type": "code",
   "execution_count": 2,
   "metadata": {},
   "outputs": [
    {
     "name": "stdout",
     "output_type": "stream",
     "text": [
      "/home/efharkin/projects/raphegif/raphegif\n"
     ]
    }
   ],
   "source": [
    "import os\n",
    "os.chdir(os.path.join('..', '..'))\n",
    "print(os.getcwd())"
   ]
  },
  {
   "cell_type": "code",
   "execution_count": 3,
   "metadata": {},
   "outputs": [],
   "source": [
    "import pandas as pd\n",
    "import matplotlib.pyplot as plt\n",
    "import seaborn as sns\n",
    "from scipy import stats\n",
    "from statannot import add_stat_annotation\n",
    "from ezephys import pltools"
   ]
  },
  {
   "cell_type": "code",
   "execution_count": 4,
   "metadata": {},
   "outputs": [],
   "source": [
    "plt.style.use(os.path.join('figs', 'scripts', 'publication_figure_style.dms'))"
   ]
  },
  {
   "cell_type": "code",
   "execution_count": 5,
   "metadata": {},
   "outputs": [
    {
     "data": {
      "text/html": [
       "<div>\n",
       "<style scoped>\n",
       "    .dataframe tbody tr th:only-of-type {\n",
       "        vertical-align: middle;\n",
       "    }\n",
       "\n",
       "    .dataframe tbody tr th {\n",
       "        vertical-align: top;\n",
       "    }\n",
       "\n",
       "    .dataframe thead th {\n",
       "        text-align: right;\n",
       "    }\n",
       "</style>\n",
       "<table border=\"1\" class=\"dataframe\">\n",
       "  <thead>\n",
       "    <tr style=\"text-align: right;\">\n",
       "      <th></th>\n",
       "      <th>temperature</th>\n",
       "      <th>benchmark_type</th>\n",
       "      <th>benchmark_label</th>\n",
       "      <th>cell_id</th>\n",
       "      <th>model_label</th>\n",
       "      <th>benchmark_value</th>\n",
       "    </tr>\n",
       "  </thead>\n",
       "  <tbody>\n",
       "    <tr>\n",
       "      <th>0</th>\n",
       "      <td>RT</td>\n",
       "      <td>R2_V</td>\n",
       "      <td>$R^2$ on $V$</td>\n",
       "      <td>DRN307</td>\n",
       "      <td>GIF</td>\n",
       "      <td>0.955310</td>\n",
       "    </tr>\n",
       "    <tr>\n",
       "      <th>1</th>\n",
       "      <td>RT</td>\n",
       "      <td>R2_V</td>\n",
       "      <td>$R^2$ on $V$</td>\n",
       "      <td>DRN308</td>\n",
       "      <td>GIF</td>\n",
       "      <td>0.905802</td>\n",
       "    </tr>\n",
       "    <tr>\n",
       "      <th>2</th>\n",
       "      <td>RT</td>\n",
       "      <td>R2_V</td>\n",
       "      <td>$R^2$ on $V$</td>\n",
       "      <td>DRN317</td>\n",
       "      <td>GIF</td>\n",
       "      <td>0.944195</td>\n",
       "    </tr>\n",
       "    <tr>\n",
       "      <th>3</th>\n",
       "      <td>RT</td>\n",
       "      <td>R2_V</td>\n",
       "      <td>$R^2$ on $V$</td>\n",
       "      <td>DRN318</td>\n",
       "      <td>GIF</td>\n",
       "      <td>0.925228</td>\n",
       "    </tr>\n",
       "    <tr>\n",
       "      <th>4</th>\n",
       "      <td>RT</td>\n",
       "      <td>R2_V</td>\n",
       "      <td>$R^2$ on $V$</td>\n",
       "      <td>DRN319</td>\n",
       "      <td>GIF</td>\n",
       "      <td>0.681506</td>\n",
       "    </tr>\n",
       "  </tbody>\n",
       "</table>\n",
       "</div>"
      ],
      "text/plain": [
       "  temperature benchmark_type benchmark_label cell_id model_label  \\\n",
       "0          RT           R2_V    $R^2$ on $V$  DRN307         GIF   \n",
       "1          RT           R2_V    $R^2$ on $V$  DRN308         GIF   \n",
       "2          RT           R2_V    $R^2$ on $V$  DRN317         GIF   \n",
       "3          RT           R2_V    $R^2$ on $V$  DRN318         GIF   \n",
       "4          RT           R2_V    $R^2$ on $V$  DRN319         GIF   \n",
       "\n",
       "   benchmark_value  \n",
       "0         0.955310  \n",
       "1         0.905802  \n",
       "2         0.944195  \n",
       "3         0.925228  \n",
       "4         0.681506  "
      ]
     },
     "execution_count": 5,
     "metadata": {},
     "output_type": "execute_result"
    }
   ],
   "source": [
    "_paths = {\n",
    "    'RT': os.path.join(os.getenv('DATA_PATH'), 'models', '5HT'),\n",
    "    '29C-30C': os.path.join(os.getenv('DATA_PATH'), 'models', '5HT_heated'),\n",
    "}\n",
    "_benchmark_labels = {\n",
    "    'Md_8': '$M_d^*$',\n",
    "    'R2_V': '$R^2$ on $V$',\n",
    "    'R2_dV': '$R^2$ on $dV/dt$',\n",
    "}\n",
    "_model_labels = {\n",
    "    '5HT_GIFs': 'GIF',\n",
    "    '5HT_AugmentedGIFs': 'aGIF',\n",
    "    '5HT_iGIF_VRs': 'iGIF VR',\n",
    "    '5HT_iGIF_NPs': 'iGIF NP',\n",
    "}\n",
    "_benchmark_tables = []\n",
    "for temperature in _paths:\n",
    "    for bench, label in _benchmark_labels.iteritems():\n",
    "        _table = pd.read_csv(\n",
    "            os.path.join(\n",
    "                _paths[temperature],\n",
    "                '5HT_goodcellsbenchmark_{}.csv'.format(bench),\n",
    "            )\n",
    "        )\n",
    "        _table['benchmark_type'] = bench\n",
    "        _table['benchmark_label'] = label\n",
    "        _table['temperature'] = temperature\n",
    "        _table.rename(_model_labels, inplace=True, axis='columns')\n",
    "        _benchmark_tables.append(_table)\n",
    "benchmarks = pd.concat(_benchmark_tables, ignore_index=True).melt(\n",
    "    value_vars=_model_labels.values(),\n",
    "    id_vars=['temperature', 'benchmark_type', 'benchmark_label', 'cell_id'],\n",
    "    var_name='model_label',\n",
    "    value_name='benchmark_value',\n",
    ")\n",
    "del (\n",
    "    _paths,\n",
    "    _benchmark_labels,\n",
    "    _benchmark_tables,\n",
    "    temperature,\n",
    "    bench,\n",
    "    label,\n",
    "    _table,\n",
    ")\n",
    "benchmarks.head()"
   ]
  },
  {
   "cell_type": "code",
   "execution_count": 6,
   "metadata": {},
   "outputs": [
    {
     "name": "stdout",
     "output_type": "stream",
     "text": [
      "p-value annotation legend:\n",
      "ns: 5.00e-02 < p <= 1.00e+00\n",
      "*: 1.00e-02 < p <= 5.00e-02\n",
      "**: 1.00e-03 < p <= 1.00e-02\n",
      "***: 1.00e-04 < p <= 1.00e-03\n",
      "****: p <= 1.00e-04\n",
      "()\n",
      "('Using zero_method ', 'pratt')\n",
      "GIF_29C-30C v.s. aGIF_29C-30C: Wilcoxon test (paired samples) with Bonferroni correction, P_val=9.331e-02 stat=3.600e+01\n",
      "('Using zero_method ', 'pratt')\n",
      "aGIF_29C-30C v.s. iGIF NP_29C-30C: Wilcoxon test (paired samples) with Bonferroni correction, P_val=9.331e-02 stat=3.600e+01\n",
      "('Using zero_method ', 'pratt')\n",
      "GIF_29C-30C v.s. iGIF NP_29C-30C: Wilcoxon test (paired samples) with Bonferroni correction, P_val=5.893e-04 stat=0.000e+00\n",
      "p-value annotation legend:\n",
      "ns: 5.00e-02 < p <= 1.00e+00\n",
      "*: 1.00e-02 < p <= 5.00e-02\n",
      "**: 1.00e-03 < p <= 1.00e-02\n",
      "***: 1.00e-04 < p <= 1.00e-03\n",
      "****: p <= 1.00e-04\n",
      "()\n",
      "('Using zero_method ', 'pratt')\n",
      "GIF_29C-30C v.s. aGIF_29C-30C: Wilcoxon test (paired samples) with Bonferroni correction, P_val=5.893e-04 stat=0.000e+00\n",
      "('Using zero_method ', 'pratt')\n",
      "aGIF_29C-30C v.s. iGIF NP_29C-30C: Wilcoxon test (paired samples) with Bonferroni correction, P_val=5.893e-04 stat=0.000e+00\n",
      "('Using zero_method ', 'pratt')\n",
      "GIF_29C-30C v.s. iGIF NP_29C-30C: Wilcoxon test (paired samples) with Bonferroni correction, P_val=5.893e-04 stat=0.000e+00\n",
      "p-value annotation legend:\n",
      "ns: 5.00e-02 < p <= 1.00e+00\n",
      "*: 1.00e-02 < p <= 5.00e-02\n",
      "**: 1.00e-03 < p <= 1.00e-02\n",
      "***: 1.00e-04 < p <= 1.00e-03\n",
      "****: p <= 1.00e-04\n",
      "()\n",
      "('Using zero_method ', 'pratt')\n",
      "GIF_29C-30C v.s. aGIF_29C-30C: Wilcoxon test (paired samples) with Bonferroni correction, P_val=9.810e-04 stat=3.000e+00\n",
      "('Using zero_method ', 'pratt')\n",
      "aGIF_29C-30C v.s. iGIF NP_29C-30C: Wilcoxon test (paired samples) with Bonferroni correction, P_val=2.808e-01 stat=4.700e+01\n",
      "('Using zero_method ', 'pratt')\n",
      "GIF_29C-30C v.s. iGIF NP_29C-30C: Wilcoxon test (paired samples) with Bonferroni correction, P_val=9.810e-04 stat=3.000e+00\n"
     ]
    },
    {
     "data": {
      "image/png": "[encoded data removed]",
      "text/plain": [
       "<Figure size 1920x480 with 3 Axes>"
      ]
     },
     "metadata": {
      "needs_background": "light"
     },
     "output_type": "display_data"
    },
    {
     "name": "stdout",
     "output_type": "stream",
     "text": [
      "Saving svg\n",
      "Saving png\n",
      "Done!\n"
     ]
    },
    {
     "data": {
      "text/plain": [
       "<Figure size 720x480 with 0 Axes>"
      ]
     },
     "metadata": {},
     "output_type": "display_data"
    }
   ],
   "source": [
    "_cell_ids = (\n",
    "    benchmarks.query('temperature == \"29C-30C\"')['cell_id']\n",
    "    .to_numpy()\n",
    "    .reshape((-1, 18))\n",
    ")\n",
    "assert (_cell_ids == _cell_ids[0, :]).all(), (\n",
    "    'cell_id is not consistently ordered across models, '\n",
    "    'results of paired statistical tests may be incorrect.'\n",
    ")\n",
    "\n",
    "fig, axes = plt.subplots(\n",
    "    1, len(benchmarks['benchmark_label'].unique()), figsize=(8, 2)\n",
    ")\n",
    "\n",
    "for ax, bench in zip(axes, benchmarks['benchmark_label'].unique()):\n",
    "    ax.set_ylim(-0.05, 1.05)\n",
    "    sns.boxplot(\n",
    "        x='model_label',\n",
    "        y='benchmark_value',\n",
    "        hue='temperature',\n",
    "        data=benchmarks.query('benchmark_label == @bench'),\n",
    "        ax=ax,\n",
    "        fliersize=fliersize,\n",
    "    )\n",
    "    add_stat_annotation(\n",
    "        ax,\n",
    "        'boxplot',\n",
    "        x='model_label',\n",
    "        y='benchmark_value',\n",
    "        hue='temperature',\n",
    "        data=benchmarks.query('benchmark_label == @bench'),\n",
    "        box_pairs=[\n",
    "            (('GIF', '29C-30C'), ('aGIF', '29C-30C')),\n",
    "            (('GIF', '29C-30C'), ('iGIF NP', '29C-30C')),\n",
    "            (('aGIF', '29C-30C'), ('iGIF NP', '29C-30C')),\n",
    "        ],\n",
    "        test='Wilcoxon',\n",
    "        linewidth=1,\n",
    "        fontsize=7,\n",
    "        loc='outside',\n",
    "    )\n",
    "    ax.set_ylabel(bench)\n",
    "    ax.set_xlabel('')\n",
    "    ax.legend().remove()\n",
    "    pltools.hide_border('tr', trim=True, ax=ax)\n",
    "ax.legend(loc='upper left', bbox_to_anchor=(1, 1))\n",
    "\n",
    "plt.show()\n",
    "\n",
    "try:\n",
    "    savefig(\n",
    "        os.path.join(\n",
    "            os.getenv('IMG_PATH'), 'ser_model_benchmark_temp_comparison'\n",
    "        )\n",
    "    )\n",
    "finally:\n",
    "    fig.clf()\n",
    "    plt.close(fig)"
   ]
  }
 ],
 "metadata": {
  "kernelspec": {
   "display_name": "Python 2",
   "language": "python",
   "name": "python2"
  },
  "language_info": {
   "codemirror_mode": {
    "name": "ipython",
    "version": 2
   },
   "file_extension": ".py",
   "mimetype": "text/x-python",
   "name": "python",
   "nbconvert_exporter": "python",
   "pygments_lexer": "ipython2",
   "version": "2.7.18"
  }
 },
 "nbformat": 4,
 "nbformat_minor": 2
}

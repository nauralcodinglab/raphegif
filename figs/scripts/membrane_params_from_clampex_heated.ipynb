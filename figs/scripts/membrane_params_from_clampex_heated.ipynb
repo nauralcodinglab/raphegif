{
 "cells": [
  {
   "cell_type": "markdown",
   "metadata": {},
   "source": [
    "# Passive membrane parameters\n",
    "\n",
    "Experiments carried out at 29C to 30C by Michael Lynn in spring 2022."
   ]
  },
  {
   "cell_type": "code",
   "execution_count": 1,
   "metadata": {},
   "outputs": [
    {
     "name": "stdout",
     "output_type": "stream",
     "text": [
      "/home/efharkin/projects/raphegif/raphegif\n"
     ]
    }
   ],
   "source": [
    "import os\n",
    "os.chdir(os.path.join('..', '..'))\n",
    "print(os.getcwd())"
   ]
  },
  {
   "cell_type": "code",
   "execution_count": 2,
   "metadata": {},
   "outputs": [],
   "source": [
    "import pandas as pd\n",
    "import numpy as np"
   ]
  },
  {
   "cell_type": "code",
   "execution_count": 3,
   "metadata": {},
   "outputs": [],
   "source": [
    "def get_membrane_params_from_all_csv_files(dir_to_search):\n",
    "    index_files = [\n",
    "        os.path.join(dirpath, filename)\n",
    "        for (dirpath, dirs, files) in os.walk(dir_to_search)\n",
    "        for filename in (dirs + files)\n",
    "        if filename.lower().endswith('.csv') and 'heated' in dirpath.lower()\n",
    "    ]\n",
    "    tables = [\n",
    "        pd.read_csv(path, comment='#').loc[\n",
    "            :,\n",
    "            [\n",
    "                'cell_id',\n",
    "                'membrane_resistance_megaohm',\n",
    "                'membrane_capacitance_picofarad',\n",
    "            ],\n",
    "        ]\n",
    "        for path in index_files\n",
    "    ]\n",
    "    master_table = pd.concat(tables, ignore_index=True)\n",
    "    return master_table"
   ]
  },
  {
   "cell_type": "code",
   "execution_count": 4,
   "metadata": {},
   "outputs": [
    {
     "data": {
      "text/html": [
       "<div>\n",
       "<style scoped>\n",
       "    .dataframe tbody tr th:only-of-type {\n",
       "        vertical-align: middle;\n",
       "    }\n",
       "\n",
       "    .dataframe tbody tr th {\n",
       "        vertical-align: top;\n",
       "    }\n",
       "\n",
       "    .dataframe thead th {\n",
       "        text-align: right;\n",
       "    }\n",
       "</style>\n",
       "<table border=\"1\" class=\"dataframe\">\n",
       "  <thead>\n",
       "    <tr style=\"text-align: right;\">\n",
       "      <th></th>\n",
       "      <th>membrane_resistance_megaohm</th>\n",
       "      <th>membrane_capacitance_picofarad</th>\n",
       "      <th>membrane_time_constant_millisecond</th>\n",
       "    </tr>\n",
       "    <tr>\n",
       "      <th>cell_id</th>\n",
       "      <th></th>\n",
       "      <th></th>\n",
       "      <th></th>\n",
       "    </tr>\n",
       "  </thead>\n",
       "  <tbody>\n",
       "    <tr>\n",
       "      <th>DRN1008</th>\n",
       "      <td>250.0</td>\n",
       "      <td>20.0</td>\n",
       "      <td>5.00</td>\n",
       "    </tr>\n",
       "    <tr>\n",
       "      <th>DRN1010</th>\n",
       "      <td>460.0</td>\n",
       "      <td>60.0</td>\n",
       "      <td>27.60</td>\n",
       "    </tr>\n",
       "    <tr>\n",
       "      <th>DRN1011</th>\n",
       "      <td>450.0</td>\n",
       "      <td>30.0</td>\n",
       "      <td>13.50</td>\n",
       "    </tr>\n",
       "    <tr>\n",
       "      <th>DRN1012</th>\n",
       "      <td>350.0</td>\n",
       "      <td>27.0</td>\n",
       "      <td>9.45</td>\n",
       "    </tr>\n",
       "    <tr>\n",
       "      <th>DRN1014</th>\n",
       "      <td>220.0</td>\n",
       "      <td>50.0</td>\n",
       "      <td>11.00</td>\n",
       "    </tr>\n",
       "    <tr>\n",
       "      <th>DRN1015</th>\n",
       "      <td>600.0</td>\n",
       "      <td>115.0</td>\n",
       "      <td>69.00</td>\n",
       "    </tr>\n",
       "    <tr>\n",
       "      <th>DRN1016</th>\n",
       "      <td>500.0</td>\n",
       "      <td>80.0</td>\n",
       "      <td>40.00</td>\n",
       "    </tr>\n",
       "    <tr>\n",
       "      <th>DRN1018</th>\n",
       "      <td>400.0</td>\n",
       "      <td>65.0</td>\n",
       "      <td>26.00</td>\n",
       "    </tr>\n",
       "    <tr>\n",
       "      <th>DRN1059</th>\n",
       "      <td>900.0</td>\n",
       "      <td>44.0</td>\n",
       "      <td>39.60</td>\n",
       "    </tr>\n",
       "    <tr>\n",
       "      <th>DRN1060</th>\n",
       "      <td>800.0</td>\n",
       "      <td>80.0</td>\n",
       "      <td>64.00</td>\n",
       "    </tr>\n",
       "    <tr>\n",
       "      <th>DRN1061</th>\n",
       "      <td>500.0</td>\n",
       "      <td>80.0</td>\n",
       "      <td>40.00</td>\n",
       "    </tr>\n",
       "    <tr>\n",
       "      <th>DRN1062</th>\n",
       "      <td>400.0</td>\n",
       "      <td>60.0</td>\n",
       "      <td>24.00</td>\n",
       "    </tr>\n",
       "    <tr>\n",
       "      <th>DRN1063</th>\n",
       "      <td>500.0</td>\n",
       "      <td>80.0</td>\n",
       "      <td>40.00</td>\n",
       "    </tr>\n",
       "    <tr>\n",
       "      <th>DRN1064</th>\n",
       "      <td>1000.0</td>\n",
       "      <td>50.0</td>\n",
       "      <td>50.00</td>\n",
       "    </tr>\n",
       "    <tr>\n",
       "      <th>DRN1065</th>\n",
       "      <td>1000.0</td>\n",
       "      <td>50.0</td>\n",
       "      <td>50.00</td>\n",
       "    </tr>\n",
       "    <tr>\n",
       "      <th>DRN1066</th>\n",
       "      <td>600.0</td>\n",
       "      <td>80.0</td>\n",
       "      <td>48.00</td>\n",
       "    </tr>\n",
       "    <tr>\n",
       "      <th>DRN1067</th>\n",
       "      <td>1000.0</td>\n",
       "      <td>50.0</td>\n",
       "      <td>50.00</td>\n",
       "    </tr>\n",
       "    <tr>\n",
       "      <th>DRN1068</th>\n",
       "      <td>1000.0</td>\n",
       "      <td>50.0</td>\n",
       "      <td>50.00</td>\n",
       "    </tr>\n",
       "    <tr>\n",
       "      <th>DRN1070</th>\n",
       "      <td>500.0</td>\n",
       "      <td>60.0</td>\n",
       "      <td>30.00</td>\n",
       "    </tr>\n",
       "    <tr>\n",
       "      <th>DRN1071</th>\n",
       "      <td>600.0</td>\n",
       "      <td>60.0</td>\n",
       "      <td>36.00</td>\n",
       "    </tr>\n",
       "    <tr>\n",
       "      <th>DRN1116</th>\n",
       "      <td>500.0</td>\n",
       "      <td>70.0</td>\n",
       "      <td>35.00</td>\n",
       "    </tr>\n",
       "    <tr>\n",
       "      <th>DRN1118</th>\n",
       "      <td>300.0</td>\n",
       "      <td>60.0</td>\n",
       "      <td>18.00</td>\n",
       "    </tr>\n",
       "    <tr>\n",
       "      <th>DRN1119</th>\n",
       "      <td>500.0</td>\n",
       "      <td>40.0</td>\n",
       "      <td>20.00</td>\n",
       "    </tr>\n",
       "    <tr>\n",
       "      <th>DRN1120</th>\n",
       "      <td>300.0</td>\n",
       "      <td>30.0</td>\n",
       "      <td>9.00</td>\n",
       "    </tr>\n",
       "    <tr>\n",
       "      <th>DRN1121</th>\n",
       "      <td>500.0</td>\n",
       "      <td>55.0</td>\n",
       "      <td>27.50</td>\n",
       "    </tr>\n",
       "    <tr>\n",
       "      <th>DRN1127</th>\n",
       "      <td>400.0</td>\n",
       "      <td>50.0</td>\n",
       "      <td>20.00</td>\n",
       "    </tr>\n",
       "    <tr>\n",
       "      <th>DRN1128</th>\n",
       "      <td>400.0</td>\n",
       "      <td>60.0</td>\n",
       "      <td>24.00</td>\n",
       "    </tr>\n",
       "  </tbody>\n",
       "</table>\n",
       "</div>"
      ],
      "text/plain": [
       "         membrane_resistance_megaohm  membrane_capacitance_picofarad  \\\n",
       "cell_id                                                                \n",
       "DRN1008                        250.0                            20.0   \n",
       "DRN1010                        460.0                            60.0   \n",
       "DRN1011                        450.0                            30.0   \n",
       "DRN1012                        350.0                            27.0   \n",
       "DRN1014                        220.0                            50.0   \n",
       "DRN1015                        600.0                           115.0   \n",
       "DRN1016                        500.0                            80.0   \n",
       "DRN1018                        400.0                            65.0   \n",
       "DRN1059                        900.0                            44.0   \n",
       "DRN1060                        800.0                            80.0   \n",
       "DRN1061                        500.0                            80.0   \n",
       "DRN1062                        400.0                            60.0   \n",
       "DRN1063                        500.0                            80.0   \n",
       "DRN1064                       1000.0                            50.0   \n",
       "DRN1065                       1000.0                            50.0   \n",
       "DRN1066                        600.0                            80.0   \n",
       "DRN1067                       1000.0                            50.0   \n",
       "DRN1068                       1000.0                            50.0   \n",
       "DRN1070                        500.0                            60.0   \n",
       "DRN1071                        600.0                            60.0   \n",
       "DRN1116                        500.0                            70.0   \n",
       "DRN1118                        300.0                            60.0   \n",
       "DRN1119                        500.0                            40.0   \n",
       "DRN1120                        300.0                            30.0   \n",
       "DRN1121                        500.0                            55.0   \n",
       "DRN1127                        400.0                            50.0   \n",
       "DRN1128                        400.0                            60.0   \n",
       "\n",
       "         membrane_time_constant_millisecond  \n",
       "cell_id                                      \n",
       "DRN1008                                5.00  \n",
       "DRN1010                               27.60  \n",
       "DRN1011                               13.50  \n",
       "DRN1012                                9.45  \n",
       "DRN1014                               11.00  \n",
       "DRN1015                               69.00  \n",
       "DRN1016                               40.00  \n",
       "DRN1018                               26.00  \n",
       "DRN1059                               39.60  \n",
       "DRN1060                               64.00  \n",
       "DRN1061                               40.00  \n",
       "DRN1062                               24.00  \n",
       "DRN1063                               40.00  \n",
       "DRN1064                               50.00  \n",
       "DRN1065                               50.00  \n",
       "DRN1066                               48.00  \n",
       "DRN1067                               50.00  \n",
       "DRN1068                               50.00  \n",
       "DRN1070                               30.00  \n",
       "DRN1071                               36.00  \n",
       "DRN1116                               35.00  \n",
       "DRN1118                               18.00  \n",
       "DRN1119                               20.00  \n",
       "DRN1120                                9.00  \n",
       "DRN1121                               27.50  \n",
       "DRN1127                               20.00  \n",
       "DRN1128                               24.00  "
      ]
     },
     "execution_count": 4,
     "metadata": {},
     "output_type": "execute_result"
    }
   ],
   "source": [
    "ser_master_table = get_membrane_params_from_all_csv_files(\n",
    "    os.path.join(os.getenv('DATA_PATH'), 'raw', '5HT')\n",
    ")\n",
    "\n",
    "# Remove duplicate cells.\n",
    "# First, find duplicate cells by ID, then check that each duplicate has exactly\n",
    "# the same values for membrane parameters, and finally average across\n",
    "# duplicates to arrive at a table with one set of parameters per cell ID.\n",
    "for col in ser_master_table:\n",
    "    if col == 'cell_id':\n",
    "        continue\n",
    "    __std = ser_master_table.groupby('cell_id').std()[col]\n",
    "    assert all(np.isclose(__std, 0.0) | np.isnan(__std)), '{}'.format(col)\n",
    "ser_master_table = ser_master_table.groupby(\n",
    "    'cell_id'\n",
    ").mean()  \n",
    "\n",
    "ser_master_table['membrane_time_constant_millisecond'] = (\n",
    "    ser_master_table['membrane_resistance_megaohm']\n",
    "    * ser_master_table['membrane_capacitance_picofarad']\n",
    "    * 1e-3  # Convert time constant to ms from s.\n",
    ")\n",
    "ser_master_table"
   ]
  },
  {
   "cell_type": "code",
   "execution_count": 5,
   "metadata": {},
   "outputs": [
    {
     "data": {
      "text/plain": [
       "membrane_resistance_megaohm           552.962963\n",
       "membrane_capacitance_picofarad         57.629630\n",
       "membrane_time_constant_millisecond     32.468519\n",
       "dtype: float64"
      ]
     },
     "execution_count": 5,
     "metadata": {},
     "output_type": "execute_result"
    }
   ],
   "source": [
    "ser_master_table.mean()"
   ]
  },
  {
   "cell_type": "code",
   "execution_count": 6,
   "metadata": {},
   "outputs": [
    {
     "data": {
      "text/plain": [
       "membrane_resistance_megaohm           46.097923\n",
       "membrane_capacitance_picofarad         3.916561\n",
       "membrane_time_constant_millisecond     3.258824\n",
       "dtype: float64"
      ]
     },
     "execution_count": 6,
     "metadata": {},
     "output_type": "execute_result"
    }
   ],
   "source": [
    "ser_master_table.sem()"
   ]
  },
  {
   "cell_type": "code",
   "execution_count": 7,
   "metadata": {},
   "outputs": [
    {
     "data": {
      "text/plain": [
       "membrane_resistance_megaohm           239.531832\n",
       "membrane_capacitance_picofarad         20.351050\n",
       "membrane_time_constant_millisecond     16.933349\n",
       "dtype: float64"
      ]
     },
     "execution_count": 7,
     "metadata": {},
     "output_type": "execute_result"
    }
   ],
   "source": [
    "ser_master_table.std()"
   ]
  },
  {
   "cell_type": "code",
   "execution_count": 8,
   "metadata": {},
   "outputs": [
    {
     "data": {
      "text/plain": [
       "(27, 3)"
      ]
     },
     "execution_count": 8,
     "metadata": {},
     "output_type": "execute_result"
    }
   ],
   "source": [
    "ser_master_table.shape"
   ]
  }
 ],
 "metadata": {
  "kernelspec": {
   "display_name": "Python 2",
   "language": "python",
   "name": "python2"
  },
  "language_info": {
   "codemirror_mode": {
    "name": "ipython",
    "version": 2
   },
   "file_extension": ".py",
   "mimetype": "text/x-python",
   "name": "python",
   "nbconvert_exporter": "python",
   "pygments_lexer": "ipython2",
   "version": "2.7.18"
  }
 },
 "nbformat": 4,
 "nbformat_minor": 2
}

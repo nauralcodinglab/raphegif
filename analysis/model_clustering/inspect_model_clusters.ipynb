{
 "cells": [
  {
   "cell_type": "code",
   "execution_count": 1,
   "metadata": {},
   "outputs": [],
   "source": [
    "import numpy as np\n",
    "import pandas as pd\n",
    "import matplotlib.pyplot as plt\n",
    "import seaborn as sns\n",
    "from sklearn.decomposition import PCA, FastICA\n",
    "from sklearn.manifold import TSNE\n",
    "from sklearn.svm import LinearSVC\n",
    "from sklearn.neighbors import LocalOutlierFactor"
   ]
  },
  {
   "cell_type": "markdown",
   "metadata": {},
   "source": [
    "# Load data"
   ]
  },
  {
   "cell_type": "code",
   "execution_count": 2,
   "metadata": {},
   "outputs": [
    {
     "name": "stdout",
     "output_type": "stream",
     "text": [
      "(156, 36)\n"
     ]
    }
   ],
   "source": [
    "params = pd.read_csv('model_params.csv')\n",
    "print(params.shape)"
   ]
  },
  {
   "cell_type": "code",
   "execution_count": 3,
   "metadata": {},
   "outputs": [
    {
     "data": {
      "text/html": [
       "<div>\n",
       "<style scoped>\n",
       "    .dataframe tbody tr th:only-of-type {\n",
       "        vertical-align: middle;\n",
       "    }\n",
       "\n",
       "    .dataframe tbody tr th {\n",
       "        vertical-align: top;\n",
       "    }\n",
       "\n",
       "    .dataframe thead th {\n",
       "        text-align: right;\n",
       "    }\n",
       "</style>\n",
       "<table border=\"1\" class=\"dataframe\">\n",
       "  <thead>\n",
       "    <tr style=\"text-align: right;\">\n",
       "      <th></th>\n",
       "      <th>C</th>\n",
       "      <th>DV</th>\n",
       "      <th>E_K</th>\n",
       "      <th>El</th>\n",
       "      <th>Tref</th>\n",
       "      <th>Vr</th>\n",
       "      <th>Vt_star</th>\n",
       "      <th>cell_type</th>\n",
       "      <th>dt</th>\n",
       "      <th>eta_10.0</th>\n",
       "      <th>...</th>\n",
       "      <th>h_tau</th>\n",
       "      <th>lambda0</th>\n",
       "      <th>m_A</th>\n",
       "      <th>m_Vhalf</th>\n",
       "      <th>m_k</th>\n",
       "      <th>n_A</th>\n",
       "      <th>n_Vhalf</th>\n",
       "      <th>n_k</th>\n",
       "      <th>name</th>\n",
       "      <th>type</th>\n",
       "    </tr>\n",
       "  </thead>\n",
       "  <tbody>\n",
       "    <tr>\n",
       "      <th>0</th>\n",
       "      <td>0.094361</td>\n",
       "      <td>5.151288</td>\n",
       "      <td>-101.0</td>\n",
       "      <td>-58.838751</td>\n",
       "      <td>6.5</td>\n",
       "      <td>-53.551984</td>\n",
       "      <td>-54.175906</td>\n",
       "      <td>5HT</td>\n",
       "      <td>0.1</td>\n",
       "      <td>0.017711</td>\n",
       "      <td>...</td>\n",
       "      <td>33.0</td>\n",
       "      <td>1.0</td>\n",
       "      <td>1.61</td>\n",
       "      <td>-23.7</td>\n",
       "      <td>0.0985</td>\n",
       "      <td>1.55</td>\n",
       "      <td>-24.3</td>\n",
       "      <td>0.216</td>\n",
       "      <td>DRN307</td>\n",
       "      <td>AugmentedGIF</td>\n",
       "    </tr>\n",
       "    <tr>\n",
       "      <th>1</th>\n",
       "      <td>0.114852</td>\n",
       "      <td>3.100761</td>\n",
       "      <td>-101.0</td>\n",
       "      <td>-78.706007</td>\n",
       "      <td>6.5</td>\n",
       "      <td>-54.555621</td>\n",
       "      <td>-52.020721</td>\n",
       "      <td>5HT</td>\n",
       "      <td>0.1</td>\n",
       "      <td>0.031279</td>\n",
       "      <td>...</td>\n",
       "      <td>33.0</td>\n",
       "      <td>1.0</td>\n",
       "      <td>1.61</td>\n",
       "      <td>-23.7</td>\n",
       "      <td>0.0985</td>\n",
       "      <td>1.55</td>\n",
       "      <td>-24.3</td>\n",
       "      <td>0.216</td>\n",
       "      <td>DRN308</td>\n",
       "      <td>AugmentedGIF</td>\n",
       "    </tr>\n",
       "    <tr>\n",
       "      <th>2</th>\n",
       "      <td>0.112754</td>\n",
       "      <td>1.247224</td>\n",
       "      <td>-101.0</td>\n",
       "      <td>-63.624398</td>\n",
       "      <td>6.5</td>\n",
       "      <td>-56.135385</td>\n",
       "      <td>-46.530925</td>\n",
       "      <td>5HT</td>\n",
       "      <td>0.1</td>\n",
       "      <td>0.070692</td>\n",
       "      <td>...</td>\n",
       "      <td>61.0</td>\n",
       "      <td>1.0</td>\n",
       "      <td>1.61</td>\n",
       "      <td>-23.7</td>\n",
       "      <td>0.0985</td>\n",
       "      <td>1.55</td>\n",
       "      <td>-24.3</td>\n",
       "      <td>0.216</td>\n",
       "      <td>DRN317</td>\n",
       "      <td>AugmentedGIF</td>\n",
       "    </tr>\n",
       "    <tr>\n",
       "      <th>3</th>\n",
       "      <td>0.087860</td>\n",
       "      <td>2.369712</td>\n",
       "      <td>-101.0</td>\n",
       "      <td>-59.121382</td>\n",
       "      <td>6.5</td>\n",
       "      <td>-55.919281</td>\n",
       "      <td>-44.936669</td>\n",
       "      <td>5HT</td>\n",
       "      <td>0.1</td>\n",
       "      <td>0.022100</td>\n",
       "      <td>...</td>\n",
       "      <td>82.0</td>\n",
       "      <td>1.0</td>\n",
       "      <td>1.61</td>\n",
       "      <td>-23.7</td>\n",
       "      <td>0.0985</td>\n",
       "      <td>1.55</td>\n",
       "      <td>-24.3</td>\n",
       "      <td>0.216</td>\n",
       "      <td>DRN318</td>\n",
       "      <td>AugmentedGIF</td>\n",
       "    </tr>\n",
       "    <tr>\n",
       "      <th>4</th>\n",
       "      <td>0.121158</td>\n",
       "      <td>4.977856</td>\n",
       "      <td>-101.0</td>\n",
       "      <td>-50.061295</td>\n",
       "      <td>6.5</td>\n",
       "      <td>-49.185461</td>\n",
       "      <td>-58.738916</td>\n",
       "      <td>5HT</td>\n",
       "      <td>0.1</td>\n",
       "      <td>0.048414</td>\n",
       "      <td>...</td>\n",
       "      <td>33.0</td>\n",
       "      <td>1.0</td>\n",
       "      <td>1.61</td>\n",
       "      <td>-23.7</td>\n",
       "      <td>0.0985</td>\n",
       "      <td>1.55</td>\n",
       "      <td>-24.3</td>\n",
       "      <td>0.216</td>\n",
       "      <td>DRN319</td>\n",
       "      <td>AugmentedGIF</td>\n",
       "    </tr>\n",
       "  </tbody>\n",
       "</table>\n",
       "<p>5 rows × 36 columns</p>\n",
       "</div>"
      ],
      "text/plain": [
       "          C        DV    E_K         El  Tref         Vr    Vt_star cell_type  \\\n",
       "0  0.094361  5.151288 -101.0 -58.838751   6.5 -53.551984 -54.175906       5HT   \n",
       "1  0.114852  3.100761 -101.0 -78.706007   6.5 -54.555621 -52.020721       5HT   \n",
       "2  0.112754  1.247224 -101.0 -63.624398   6.5 -56.135385 -46.530925       5HT   \n",
       "3  0.087860  2.369712 -101.0 -59.121382   6.5 -55.919281 -44.936669       5HT   \n",
       "4  0.121158  4.977856 -101.0 -50.061295   6.5 -49.185461 -58.738916       5HT   \n",
       "\n",
       "    dt  eta_10.0      ...       h_tau  lambda0   m_A  m_Vhalf     m_k   n_A  \\\n",
       "0  0.1  0.017711      ...        33.0      1.0  1.61    -23.7  0.0985  1.55   \n",
       "1  0.1  0.031279      ...        33.0      1.0  1.61    -23.7  0.0985  1.55   \n",
       "2  0.1  0.070692      ...        61.0      1.0  1.61    -23.7  0.0985  1.55   \n",
       "3  0.1  0.022100      ...        82.0      1.0  1.61    -23.7  0.0985  1.55   \n",
       "4  0.1  0.048414      ...        33.0      1.0  1.61    -23.7  0.0985  1.55   \n",
       "\n",
       "   n_Vhalf    n_k    name          type  \n",
       "0    -24.3  0.216  DRN307  AugmentedGIF  \n",
       "1    -24.3  0.216  DRN308  AugmentedGIF  \n",
       "2    -24.3  0.216  DRN317  AugmentedGIF  \n",
       "3    -24.3  0.216  DRN318  AugmentedGIF  \n",
       "4    -24.3  0.216  DRN319  AugmentedGIF  \n",
       "\n",
       "[5 rows x 36 columns]"
      ]
     },
     "execution_count": 3,
     "metadata": {},
     "output_type": "execute_result"
    }
   ],
   "source": [
    "params.head()"
   ]
  },
  {
   "cell_type": "code",
   "execution_count": 4,
   "metadata": {},
   "outputs": [
    {
     "data": {
      "text/plain": [
       "Index([u'C', u'DV', u'E_K', u'El', u'Tref', u'Vr', u'Vt_star', u'cell_type',\n",
       "       u'dt', u'eta_10.0', u'eta_100.0', u'eta_1000.0', u'eta_3.0',\n",
       "       u'eta_30.0', u'eta_300.0', u'eta_3000.0', u'gamma_3.0', u'gamma_30.0',\n",
       "       u'gamma_300.0', u'gamma_3000.0', u'gbar_K1', u'gbar_K2', u'gl', u'h_A',\n",
       "       u'h_Vhalf', u'h_k', u'h_tau', u'lambda0', u'm_A', u'm_Vhalf', u'm_k',\n",
       "       u'n_A', u'n_Vhalf', u'n_k', u'name', u'type'],\n",
       "      dtype='object')"
      ]
     },
     "execution_count": 4,
     "metadata": {},
     "output_type": "execute_result"
    }
   ],
   "source": [
    "params.columns"
   ]
  },
  {
   "cell_type": "markdown",
   "metadata": {},
   "source": [
    "# Select GIFs and remove unnecessary features"
   ]
  },
  {
   "cell_type": "code",
   "execution_count": 5,
   "metadata": {},
   "outputs": [
    {
     "data": {
      "text/html": [
       "<div>\n",
       "<style scoped>\n",
       "    .dataframe tbody tr th:only-of-type {\n",
       "        vertical-align: middle;\n",
       "    }\n",
       "\n",
       "    .dataframe tbody tr th {\n",
       "        vertical-align: top;\n",
       "    }\n",
       "\n",
       "    .dataframe thead th {\n",
       "        text-align: right;\n",
       "    }\n",
       "</style>\n",
       "<table border=\"1\" class=\"dataframe\">\n",
       "  <thead>\n",
       "    <tr style=\"text-align: right;\">\n",
       "      <th></th>\n",
       "      <th>C</th>\n",
       "      <th>DV</th>\n",
       "      <th>El</th>\n",
       "      <th>Vr</th>\n",
       "      <th>Vt_star</th>\n",
       "      <th>eta_10.0</th>\n",
       "      <th>eta_100.0</th>\n",
       "      <th>eta_1000.0</th>\n",
       "      <th>eta_3.0</th>\n",
       "      <th>eta_30.0</th>\n",
       "      <th>eta_300.0</th>\n",
       "      <th>eta_3000.0</th>\n",
       "      <th>gamma_3.0</th>\n",
       "      <th>gamma_30.0</th>\n",
       "      <th>gamma_300.0</th>\n",
       "      <th>gamma_3000.0</th>\n",
       "      <th>gl</th>\n",
       "    </tr>\n",
       "  </thead>\n",
       "  <tbody>\n",
       "    <tr>\n",
       "      <th>18</th>\n",
       "      <td>0.099165</td>\n",
       "      <td>6.537423</td>\n",
       "      <td>-64.456700</td>\n",
       "      <td>-53.551984</td>\n",
       "      <td>-55.723169</td>\n",
       "      <td>0.008590</td>\n",
       "      <td>0.028477</td>\n",
       "      <td>0.002652</td>\n",
       "      <td>0.055727</td>\n",
       "      <td>-0.003865</td>\n",
       "      <td>-0.000222</td>\n",
       "      <td>0.000670</td>\n",
       "      <td>68849.738479</td>\n",
       "      <td>-46.686658</td>\n",
       "      <td>6.983622</td>\n",
       "      <td>5.327227</td>\n",
       "      <td>0.001101</td>\n",
       "    </tr>\n",
       "    <tr>\n",
       "      <th>19</th>\n",
       "      <td>0.121812</td>\n",
       "      <td>4.442023</td>\n",
       "      <td>-80.402978</td>\n",
       "      <td>-54.555621</td>\n",
       "      <td>-54.317823</td>\n",
       "      <td>0.024262</td>\n",
       "      <td>0.038746</td>\n",
       "      <td>0.008135</td>\n",
       "      <td>0.079653</td>\n",
       "      <td>-0.013658</td>\n",
       "      <td>0.007560</td>\n",
       "      <td>-0.003254</td>\n",
       "      <td>-63.497849</td>\n",
       "      <td>60.990898</td>\n",
       "      <td>37.533114</td>\n",
       "      <td>2.546485</td>\n",
       "      <td>0.001341</td>\n",
       "    </tr>\n",
       "    <tr>\n",
       "      <th>20</th>\n",
       "      <td>0.115125</td>\n",
       "      <td>2.417979</td>\n",
       "      <td>-64.851407</td>\n",
       "      <td>-56.135385</td>\n",
       "      <td>-49.111013</td>\n",
       "      <td>0.068537</td>\n",
       "      <td>0.055866</td>\n",
       "      <td>0.002841</td>\n",
       "      <td>-0.025442</td>\n",
       "      <td>-0.022652</td>\n",
       "      <td>0.006485</td>\n",
       "      <td>-0.001052</td>\n",
       "      <td>-94.415131</td>\n",
       "      <td>91.663755</td>\n",
       "      <td>10.192265</td>\n",
       "      <td>0.146151</td>\n",
       "      <td>0.002272</td>\n",
       "    </tr>\n",
       "    <tr>\n",
       "      <th>21</th>\n",
       "      <td>0.094173</td>\n",
       "      <td>3.813900</td>\n",
       "      <td>-63.565351</td>\n",
       "      <td>-55.919281</td>\n",
       "      <td>-46.181507</td>\n",
       "      <td>0.017409</td>\n",
       "      <td>0.057299</td>\n",
       "      <td>0.003776</td>\n",
       "      <td>-0.016150</td>\n",
       "      <td>-0.002213</td>\n",
       "      <td>-0.003999</td>\n",
       "      <td>-0.000593</td>\n",
       "      <td>-176.953457</td>\n",
       "      <td>185.704229</td>\n",
       "      <td>6.839458</td>\n",
       "      <td>-0.171109</td>\n",
       "      <td>0.001654</td>\n",
       "    </tr>\n",
       "    <tr>\n",
       "      <th>22</th>\n",
       "      <td>0.105769</td>\n",
       "      <td>4.568117</td>\n",
       "      <td>-54.186544</td>\n",
       "      <td>-49.185461</td>\n",
       "      <td>-59.392968</td>\n",
       "      <td>0.030981</td>\n",
       "      <td>0.007375</td>\n",
       "      <td>0.007067</td>\n",
       "      <td>-0.067469</td>\n",
       "      <td>0.026209</td>\n",
       "      <td>0.000226</td>\n",
       "      <td>-0.006007</td>\n",
       "      <td>807.045568</td>\n",
       "      <td>-1.874450</td>\n",
       "      <td>0.443651</td>\n",
       "      <td>2.199422</td>\n",
       "      <td>0.001898</td>\n",
       "    </tr>\n",
       "  </tbody>\n",
       "</table>\n",
       "</div>"
      ],
      "text/plain": [
       "           C        DV         El         Vr    Vt_star  eta_10.0  eta_100.0  \\\n",
       "18  0.099165  6.537423 -64.456700 -53.551984 -55.723169  0.008590   0.028477   \n",
       "19  0.121812  4.442023 -80.402978 -54.555621 -54.317823  0.024262   0.038746   \n",
       "20  0.115125  2.417979 -64.851407 -56.135385 -49.111013  0.068537   0.055866   \n",
       "21  0.094173  3.813900 -63.565351 -55.919281 -46.181507  0.017409   0.057299   \n",
       "22  0.105769  4.568117 -54.186544 -49.185461 -59.392968  0.030981   0.007375   \n",
       "\n",
       "    eta_1000.0   eta_3.0  eta_30.0  eta_300.0  eta_3000.0     gamma_3.0  \\\n",
       "18    0.002652  0.055727 -0.003865  -0.000222    0.000670  68849.738479   \n",
       "19    0.008135  0.079653 -0.013658   0.007560   -0.003254    -63.497849   \n",
       "20    0.002841 -0.025442 -0.022652   0.006485   -0.001052    -94.415131   \n",
       "21    0.003776 -0.016150 -0.002213  -0.003999   -0.000593   -176.953457   \n",
       "22    0.007067 -0.067469  0.026209   0.000226   -0.006007    807.045568   \n",
       "\n",
       "    gamma_30.0  gamma_300.0  gamma_3000.0        gl  \n",
       "18  -46.686658     6.983622      5.327227  0.001101  \n",
       "19   60.990898    37.533114      2.546485  0.001341  \n",
       "20   91.663755    10.192265      0.146151  0.002272  \n",
       "21  185.704229     6.839458     -0.171109  0.001654  \n",
       "22   -1.874450     0.443651      2.199422  0.001898  "
      ]
     },
     "execution_count": 5,
     "metadata": {},
     "output_type": "execute_result"
    }
   ],
   "source": [
    "params_cleaned = params.copy()\n",
    "params_cleaned.drop(columns=['Tref', 'dt', 'E_K', 'gbar_K1', 'gbar_K2', 'h_A', 'h_Vhalf', 'h_k', 'lambda0', 'm_A', 'm_Vhalf', 'm_k', 'n_A', 'n_Vhalf', 'n_k', 'h_tau'], inplace=True)\n",
    "params_cleaned = params_cleaned.loc[params_cleaned['type'] == 'GIF', :]\n",
    "params_cleaned.drop(columns=['name', 'type'], inplace=True)\n",
    "\n",
    "cell_types = params_cleaned['cell_type']\n",
    "params_cleaned.drop(columns=['cell_type'], inplace=True)\n",
    "\n",
    "params_cleaned.head()"
   ]
  },
  {
   "cell_type": "code",
   "execution_count": 6,
   "metadata": {},
   "outputs": [
    {
     "name": "stdout",
     "output_type": "stream",
     "text": [
      "Index([u'C', u'DV', u'El', u'Vr', u'Vt_star', u'eta_10.0', u'eta_100.0',\n",
      "       u'eta_1000.0', u'eta_3.0', u'eta_30.0', u'eta_300.0', u'eta_3000.0',\n",
      "       u'gamma_3.0', u'gamma_30.0', u'gamma_300.0', u'gamma_3000.0', u'gl'],\n",
      "      dtype='object')\n"
     ]
    }
   ],
   "source": [
    "print(params_cleaned.columns)"
   ]
  },
  {
   "cell_type": "code",
   "execution_count": 7,
   "metadata": {},
   "outputs": [
    {
     "name": "stdout",
     "output_type": "stream",
     "text": [
      "(39, 17)\n"
     ]
    }
   ],
   "source": [
    "print(params_cleaned.shape)"
   ]
  },
  {
   "cell_type": "markdown",
   "metadata": {},
   "source": [
    "# Detect outliers"
   ]
  },
  {
   "cell_type": "code",
   "execution_count": 8,
   "metadata": {},
   "outputs": [
    {
     "name": "stderr",
     "output_type": "stream",
     "text": [
      "/miniconda3/envs/neopozz/lib/python2.7/site-packages/sklearn/neighbors/lof.py:236: FutureWarning: default contamination parameter 0.1 will change in version 0.22 to \"auto\". This will change the predict method behavior.\n",
      "  FutureWarning)\n"
     ]
    },
    {
     "data": {
      "text/plain": [
       "(array([26.,  7.,  2.,  0.,  1.,  1.,  0.,  0.,  1.,  1.]),\n",
       " array([-5.02640366e-03,  5.01821096e-01,  1.00866860e+00,  1.51551610e+00,\n",
       "         2.02236360e+00,  2.52921110e+00,  3.03605860e+00,  3.54290610e+00,\n",
       "         4.04975360e+00,  4.55660110e+00,  5.06344860e+00]),\n",
       " <a list of 10 Patch objects>)"
      ]
     },
     "execution_count": 8,
     "metadata": {},
     "output_type": "execute_result"
    },
    {
     "data": {
      "image/png": "[encoded data removed]",
      "text/plain": [
       "<Figure size 432x288 with 1 Axes>"
      ]
     },
     "metadata": {
      "needs_background": "light"
     },
     "output_type": "display_data"
    }
   ],
   "source": [
    "outlier_detector = LocalOutlierFactor(n_neighbors=20)\n",
    "outlier_detector.fit(params_cleaned)\n",
    "plt.hist(np.log10(-outlier_detector.negative_outlier_factor_))"
   ]
  },
  {
   "cell_type": "code",
   "execution_count": 9,
   "metadata": {},
   "outputs": [
    {
     "data": {
      "text/plain": [
       "28    5HT\n",
       "29    5HT\n",
       "Name: cell_type, dtype: object"
      ]
     },
     "execution_count": 9,
     "metadata": {},
     "output_type": "execute_result"
    }
   ],
   "source": [
    "cell_types[np.log10(-outlier_detector.negative_outlier_factor_) > 4.]"
   ]
  },
  {
   "cell_type": "code",
   "execution_count": 10,
   "metadata": {},
   "outputs": [],
   "source": [
    "params_cleaned.drop(\n",
    "    index=cell_types[np.log10(-outlier_detector.negative_outlier_factor_) > 4.].index,\n",
    "    inplace=True\n",
    ")\n",
    "cell_types.drop(\n",
    "    index=cell_types[np.log10(-outlier_detector.negative_outlier_factor_) > 4.].index, \n",
    "    inplace=True\n",
    ")"
   ]
  },
  {
   "cell_type": "code",
   "execution_count": 11,
   "metadata": {},
   "outputs": [
    {
     "data": {
      "text/plain": [
       "Index([u'C', u'DV', u'El', u'Vr', u'Vt_star', u'eta_10.0', u'eta_100.0',\n",
       "       u'eta_1000.0', u'eta_3.0', u'eta_30.0', u'eta_300.0', u'eta_3000.0',\n",
       "       u'gamma_3.0', u'gamma_30.0', u'gamma_300.0', u'gamma_3000.0', u'gl',\n",
       "       u'cell_type'],\n",
       "      dtype='object')"
      ]
     },
     "execution_count": 11,
     "metadata": {},
     "output_type": "execute_result"
    }
   ],
   "source": [
    "params_cleaned.columns"
   ]
  },
  {
   "cell_type": "code",
   "execution_count": 12,
   "metadata": {},
   "outputs": [],
   "source": [
    "params_cleaned.drop(columns='cell_type', inplace=True)"
   ]
  },
  {
   "cell_type": "markdown",
   "metadata": {},
   "source": [
    "Not sure why `cell_type` has to be dropped twice..."
   ]
  },
  {
   "cell_type": "markdown",
   "metadata": {},
   "source": [
    "# PCA"
   ]
  },
  {
   "cell_type": "code",
   "execution_count": 13,
   "metadata": {},
   "outputs": [],
   "source": [
    "def rescale_variables(x):\n",
    "    \"\"\"Subtract mean and normalize to SD for each column of a dataframe or array.\n",
    "    Returns a copy.\n",
    "    \"\"\"\n",
    "    output = x.copy()\n",
    "    \n",
    "    try:\n",
    "        # Method for pd.DataFrames\n",
    "        output.iloc # Test if x is DataFrame-like\n",
    "        \n",
    "        for colname in output:\n",
    "            output[colname] = output[colname] - np.mean(output[colname])\n",
    "            output[colname] = output[colname] / np.std(output[colname])\n",
    "    \n",
    "    except AttributeError:\n",
    "        # Method for np.arrays.\n",
    "        output[0, 0] # Test if x is array-like\n",
    "        \n",
    "        output -= output.mean(axis = 0)\n",
    "        output /= output.std(axis = 0)\n",
    "        \n",
    "    return output"
   ]
  },
  {
   "cell_type": "code",
   "execution_count": 14,
   "metadata": {},
   "outputs": [],
   "source": [
    "pca = PCA()\n",
    "transformed = pca.fit_transform(rescale_variables(params_cleaned))"
   ]
  },
  {
   "cell_type": "code",
   "execution_count": 15,
   "metadata": {},
   "outputs": [
    {
     "data": {
      "text/plain": [
       "[<matplotlib.lines.Line2D at 0x1a23957950>]"
      ]
     },
     "execution_count": 15,
     "metadata": {},
     "output_type": "execute_result"
    },
    {
     "data": {
      "image/png": "[encoded data removed]",
      "text/plain": [
       "<Figure size 432x288 with 1 Axes>"
      ]
     },
     "metadata": {
      "needs_background": "light"
     },
     "output_type": "display_data"
    }
   ],
   "source": [
    "plt.plot(pca.explained_variance_ratio_)\n",
    "plt.plot(np.cumsum(pca.explained_variance_ratio_))"
   ]
  },
  {
   "cell_type": "code",
   "execution_count": 16,
   "metadata": {},
   "outputs": [
    {
     "data": {
      "image/png": "[encoded data removed]",
      "text/plain": [
       "<Figure size 648x216 with 3 Axes>"
      ]
     },
     "metadata": {
      "needs_background": "light"
     },
     "output_type": "display_data"
    }
   ],
   "source": [
    "plt.figure(figsize=(9, 3))\n",
    "\n",
    "plt.subplot(131)\n",
    "sns.scatterplot(x=transformed[:, 0], y=transformed[:, 1], hue=cell_types)\n",
    "plt.xlabel('1st component')\n",
    "plt.ylabel('2nd component')\n",
    "\n",
    "plt.subplot(132)\n",
    "sns.scatterplot(x=transformed[:, 0], y=transformed[:, 2], hue=cell_types)\n",
    "plt.xlabel('1st component')\n",
    "plt.ylabel('3rd component')\n",
    "\n",
    "plt.subplot(133)\n",
    "sns.scatterplot(x=transformed[:, 1], y=transformed[:, 2], hue=cell_types)\n",
    "plt.xlabel('2nd component')\n",
    "plt.ylabel('3rd component')\n",
    "\n",
    "plt.tight_layout()\n",
    "plt.show()"
   ]
  },
  {
   "cell_type": "markdown",
   "metadata": {},
   "source": [
    "# ICA on whitened data"
   ]
  },
  {
   "cell_type": "code",
   "execution_count": 17,
   "metadata": {},
   "outputs": [
    {
     "data": {
      "text/plain": [
       "(37, 3)"
      ]
     },
     "execution_count": 17,
     "metadata": {},
     "output_type": "execute_result"
    }
   ],
   "source": [
    "ica = FastICA(n_components=3)\n",
    "ica_transformed = ica.fit_transform(transformed)\n",
    "ica_transformed.shape"
   ]
  },
  {
   "cell_type": "code",
   "execution_count": 18,
   "metadata": {},
   "outputs": [
    {
     "data": {
      "image/png": "[encoded data removed]",
      "text/plain": [
       "<Figure size 648x216 with 3 Axes>"
      ]
     },
     "metadata": {
      "needs_background": "light"
     },
     "output_type": "display_data"
    }
   ],
   "source": [
    "plt.figure(figsize=(9, 3))\n",
    "\n",
    "plt.subplot(131)\n",
    "sns.scatterplot(x=ica_transformed[:, 0], y=ica_transformed[:, 1], hue=cell_types)\n",
    "plt.xlabel('1st component')\n",
    "plt.ylabel('2nd component')\n",
    "\n",
    "plt.subplot(132)\n",
    "sns.scatterplot(x=ica_transformed[:, 0], y=ica_transformed[:, 2], hue=cell_types)\n",
    "plt.xlabel('1st component')\n",
    "plt.ylabel('3rd component')\n",
    "\n",
    "plt.subplot(133)\n",
    "sns.scatterplot(x=ica_transformed[:, 1], y=ica_transformed[:, 2], hue=cell_types)\n",
    "plt.xlabel('2nd component')\n",
    "plt.ylabel('3rd component')\n",
    "\n",
    "plt.tight_layout()\n",
    "plt.show()"
   ]
  },
  {
   "cell_type": "markdown",
   "metadata": {},
   "source": [
    "# Train a classifier on PCA components"
   ]
  },
  {
   "cell_type": "code",
   "execution_count": 19,
   "metadata": {},
   "outputs": [
    {
     "data": {
      "text/plain": [
       "LinearSVC(C=1.0, class_weight=None, dual=True, fit_intercept=False,\n",
       "     intercept_scaling=1, loss='squared_hinge', max_iter=1000,\n",
       "     multi_class='ovr', penalty='l2', random_state=None, tol=0.0001,\n",
       "     verbose=0)"
      ]
     },
     "execution_count": 19,
     "metadata": {},
     "output_type": "execute_result"
    }
   ],
   "source": [
    "centered_svm = LinearSVC(fit_intercept=False)\n",
    "centered_svm.fit(transformed[(cell_types != 'mPFC'), :], cell_types[(cell_types != 'mPFC')])"
   ]
  },
  {
   "cell_type": "code",
   "execution_count": 20,
   "metadata": {},
   "outputs": [
    {
     "data": {
      "text/plain": [
       "(1, 17)"
      ]
     },
     "execution_count": 20,
     "metadata": {},
     "output_type": "execute_result"
    }
   ],
   "source": [
    "centered_svm.coef_.shape"
   ]
  },
  {
   "cell_type": "code",
   "execution_count": 21,
   "metadata": {},
   "outputs": [
    {
     "data": {
      "text/plain": [
       "[<matplotlib.lines.Line2D at 0x1a23e89290>]"
      ]
     },
     "execution_count": 21,
     "metadata": {},
     "output_type": "execute_result"
    },
    {
     "data": {
      "image/png": "[encoded data removed]",
      "text/plain": [
       "<Figure size 432x288 with 1 Axes>"
      ]
     },
     "metadata": {
      "needs_background": "light"
     },
     "output_type": "display_data"
    }
   ],
   "source": [
    "plt.plot(np.abs(centered_svm.coef_.T))"
   ]
  },
  {
   "cell_type": "code",
   "execution_count": 22,
   "metadata": {},
   "outputs": [
    {
     "data": {
      "text/plain": [
       "array([12,  9, 13,  6, 16,  8, 14,  1,  7, 15, 11,  5,  4,  3,  0,  2, 10])"
      ]
     },
     "execution_count": 22,
     "metadata": {},
     "output_type": "execute_result"
    }
   ],
   "source": [
    "relative_importance = np.argsort(np.abs(centered_svm.coef_).flatten())\n",
    "relative_importance"
   ]
  },
  {
   "cell_type": "code",
   "execution_count": 23,
   "metadata": {},
   "outputs": [],
   "source": [
    "def iteratively_drop_features(classifier, x, y):\n",
    "    x = np.copy(x)\n",
    "    y = np.copy(y)\n",
    "    \n",
    "    scores = []\n",
    "    remaining_features = [i for i in range(x.shape[1])]\n",
    "    feature_drop_order = []  # Features in order of increasing importance.\n",
    "    for i in range(x.shape[1]):\n",
    "        classifier.fit(x[:, remaining_features], y)\n",
    "        scores.append(classifier.score(x[:, remaining_features], y))\n",
    "        \n",
    "        # Pop least important remaining feature.\n",
    "        feature_drop_order.append(\n",
    "            remaining_features.pop(np.argmin(np.abs(classifier.coef_)))\n",
    "        )\n",
    "    \n",
    "    return scores, feature_drop_order\n",
    "        "
   ]
  },
  {
   "cell_type": "code",
   "execution_count": 24,
   "metadata": {},
   "outputs": [
    {
     "data": {
      "text/plain": [
       "[1.0,\n",
       " 1.0,\n",
       " 1.0,\n",
       " 1.0,\n",
       " 1.0,\n",
       " 1.0,\n",
       " 1.0,\n",
       " 1.0,\n",
       " 1.0,\n",
       " 1.0,\n",
       " 1.0,\n",
       " 1.0,\n",
       " 1.0,\n",
       " 1.0,\n",
       " 1.0,\n",
       " 0.8,\n",
       " 0.7666666666666667]"
      ]
     },
     "execution_count": 24,
     "metadata": {},
     "output_type": "execute_result"
    }
   ],
   "source": [
    "scores, feature_drop_order = iteratively_drop_features(\n",
    "    centered_svm, \n",
    "    transformed[(cell_types != 'mPFC'), :], \n",
    "    cell_types[(cell_types != 'mPFC')]\n",
    ")\n",
    "scores"
   ]
  },
  {
   "cell_type": "markdown",
   "metadata": {},
   "source": [
    "We can separate 5HT and GABA cells perfectly using only three components."
   ]
  },
  {
   "cell_type": "code",
   "execution_count": 25,
   "metadata": {},
   "outputs": [
    {
     "name": "stdout",
     "output_type": "stream",
     "text": [
      "[12, 9, 13, 6, 8, 16, 1, 14, 7, 15, 5, 11, 4, 3, 2, 0, 10]\n"
     ]
    }
   ],
   "source": [
    "print(feature_drop_order)"
   ]
  },
  {
   "cell_type": "code",
   "execution_count": 26,
   "metadata": {},
   "outputs": [
    {
     "data": {
      "text/plain": [
       "([<matplotlib.axis.XTick at 0x1a23f81710>,\n",
       "  <matplotlib.axis.XTick at 0x1a23a78a50>,\n",
       "  <matplotlib.axis.XTick at 0x1a23ee3990>,\n",
       "  <matplotlib.axis.XTick at 0x1a23ee3dd0>,\n",
       "  <matplotlib.axis.XTick at 0x1a23ef13d0>,\n",
       "  <matplotlib.axis.XTick at 0x1a23ef1990>,\n",
       "  <matplotlib.axis.XTick at 0x1a23ef1f50>,\n",
       "  <matplotlib.axis.XTick at 0x1a23efb550>,\n",
       "  <matplotlib.axis.XTick at 0x1a23efbb10>,\n",
       "  <matplotlib.axis.XTick at 0x1a23f04110>,\n",
       "  <matplotlib.axis.XTick at 0x1a23f046d0>,\n",
       "  <matplotlib.axis.XTick at 0x1a23f04c90>,\n",
       "  <matplotlib.axis.XTick at 0x1a23ef1a10>,\n",
       "  <matplotlib.axis.XTick at 0x1a23f04290>,\n",
       "  <matplotlib.axis.XTick at 0x1a23fe6210>,\n",
       "  <matplotlib.axis.XTick at 0x1a23fe67d0>,\n",
       "  <matplotlib.axis.XTick at 0x1a23fe6d90>],\n",
       " <a list of 17 Text xticklabel objects>)"
      ]
     },
     "execution_count": 26,
     "metadata": {},
     "output_type": "execute_result"
    },
    {
     "data": {
      "image/png": "[encoded data removed]",
      "text/plain": [
       "<Figure size 576x576 with 1 Axes>"
      ]
     },
     "metadata": {
      "needs_background": "light"
     },
     "output_type": "display_data"
    }
   ],
   "source": [
    "plt.figure(figsize=(8, 8))\n",
    "plt.matshow(pca.components_[feature_drop_order[-1:-4:-1], :], fignum=False)\n",
    "plt.xticks(np.arange(0, pca.components_.shape[1]), params_cleaned.columns.tolist(), rotation=45, ha='left')"
   ]
  },
  {
   "cell_type": "markdown",
   "metadata": {},
   "source": [
    "# Train classifier on rescaled variables\n",
    "\n",
    "## 5HT vs SOM"
   ]
  },
  {
   "cell_type": "code",
   "execution_count": 27,
   "metadata": {},
   "outputs": [
    {
     "data": {
      "text/plain": [
       "[1.0,\n",
       " 1.0,\n",
       " 1.0,\n",
       " 1.0,\n",
       " 1.0,\n",
       " 1.0,\n",
       " 1.0,\n",
       " 1.0,\n",
       " 1.0,\n",
       " 1.0,\n",
       " 1.0,\n",
       " 1.0,\n",
       " 1.0,\n",
       " 1.0,\n",
       " 1.0,\n",
       " 0.9,\n",
       " 0.9333333333333333]"
      ]
     },
     "execution_count": 27,
     "metadata": {},
     "output_type": "execute_result"
    }
   ],
   "source": [
    "reduced_svm = LinearSVC(fit_intercept=False)\n",
    "rescaled = rescale_variables(params_cleaned)\n",
    "scores, feature_drop_order = iteratively_drop_features(\n",
    "    reduced_svm, \n",
    "    np.asarray(rescaled)[cell_types != 'mPFC', :], \n",
    "    cell_types[cell_types != 'mPFC']\n",
    ")\n",
    "scores"
   ]
  },
  {
   "cell_type": "code",
   "execution_count": 28,
   "metadata": {},
   "outputs": [
    {
     "data": {
      "text/plain": [
       "array(['gamma_30.0', 'El', 'eta_10.0', 'eta_30.0', 'C', 'gl', 'gamma_3.0',\n",
       "       'eta_3000.0', 'Vr', 'gamma_3000.0', 'gamma_300.0', 'eta_3.0', 'DV',\n",
       "       'Vt_star', 'eta_1000.0', 'eta_300.0', 'eta_100.0'], dtype='|S12')"
      ]
     },
     "execution_count": 28,
     "metadata": {},
     "output_type": "execute_result"
    }
   ],
   "source": [
    "features_in_increasing_importance = np.array(params_cleaned.columns.tolist())[feature_drop_order]\n",
    "features_in_increasing_importance"
   ]
  },
  {
   "cell_type": "markdown",
   "metadata": {},
   "source": [
    "Features in order of increasing importance."
   ]
  },
  {
   "cell_type": "code",
   "execution_count": 29,
   "metadata": {},
   "outputs": [
    {
     "data": {
      "image/png": "[encoded data removed]",
      "text/plain": [
       "<Figure size 648x360 with 1 Axes>"
      ]
     },
     "metadata": {
      "needs_background": "light"
     },
     "output_type": "display_data"
    }
   ],
   "source": [
    "plt.figure(figsize=(9, 5))\n",
    "sns.boxplot(\n",
    "    x='variable', y='value', hue='cell_type', \n",
    "    data=pd.concat([rescaled, cell_types], axis=1).melt(id_vars='cell_type'),\n",
    "    order = features_in_increasing_importance\n",
    ")\n",
    "plt.ylim(-3, 3)\n",
    "tick_locs, tick_labs = plt.xticks()\n",
    "plt.xticks(*plt.xticks(), rotation=45, ha='right')\n",
    "plt.ylabel('Z-score')\n",
    "plt.tight_layout()"
   ]
  },
  {
   "cell_type": "markdown",
   "metadata": {},
   "source": [
    "## 5HT vs. mPFC"
   ]
  },
  {
   "cell_type": "code",
   "execution_count": 30,
   "metadata": {},
   "outputs": [
    {
     "data": {
      "text/plain": [
       "[1.0,\n",
       " 1.0,\n",
       " 1.0,\n",
       " 1.0,\n",
       " 1.0,\n",
       " 1.0,\n",
       " 1.0,\n",
       " 1.0,\n",
       " 1.0,\n",
       " 1.0,\n",
       " 1.0,\n",
       " 1.0,\n",
       " 1.0,\n",
       " 1.0,\n",
       " 0.9565217391304348,\n",
       " 0.9565217391304348,\n",
       " 0.9565217391304348]"
      ]
     },
     "execution_count": 30,
     "metadata": {},
     "output_type": "execute_result"
    }
   ],
   "source": [
    "reduced_svm = LinearSVC(fit_intercept=False)\n",
    "scores, feature_drop_order = iteratively_drop_features(\n",
    "    reduced_svm, \n",
    "    np.asarray(rescaled)[cell_types != 'GABA', :], \n",
    "    cell_types[cell_types != 'GABA']\n",
    ")\n",
    "scores"
   ]
  },
  {
   "cell_type": "code",
   "execution_count": 31,
   "metadata": {},
   "outputs": [
    {
     "data": {
      "text/plain": [
       "array(['Vr', 'gamma_3.0', 'eta_3.0', 'gamma_30.0', 'eta_30.0', 'El',\n",
       "       'eta_1000.0', 'eta_300.0', 'gamma_3000.0', 'eta_3000.0',\n",
       "       'gamma_300.0', 'DV', 'eta_100.0', 'C', 'eta_10.0', 'Vt_star', 'gl'],\n",
       "      dtype='|S12')"
      ]
     },
     "execution_count": 31,
     "metadata": {},
     "output_type": "execute_result"
    }
   ],
   "source": [
    "features_in_increasing_importance = np.array(params_cleaned.columns.tolist())[feature_drop_order]\n",
    "features_in_increasing_importance"
   ]
  },
  {
   "cell_type": "markdown",
   "metadata": {},
   "source": [
    "Features in order of increasing importance."
   ]
  },
  {
   "cell_type": "code",
   "execution_count": 32,
   "metadata": {},
   "outputs": [
    {
     "data": {
      "text/plain": [
       "Text(55.25,0.5,'Z-score')"
      ]
     },
     "execution_count": 32,
     "metadata": {},
     "output_type": "execute_result"
    },
    {
     "data": {
      "image/png": "[encoded data removed]",
      "text/plain": [
       "<Figure size 648x360 with 1 Axes>"
      ]
     },
     "metadata": {
      "needs_background": "light"
     },
     "output_type": "display_data"
    }
   ],
   "source": [
    "plt.figure(figsize=(9, 5))\n",
    "sns.boxplot(\n",
    "    x='variable', y='value', hue='cell_type', \n",
    "    data=pd.concat([rescaled, cell_types], axis=1).melt(id_vars='cell_type'),\n",
    "    order = features_in_increasing_importance\n",
    ")\n",
    "plt.ylim(-3, 3)\n",
    "tick_locs, tick_labs = plt.xticks()\n",
    "plt.xticks(*plt.xticks(), rotation=45, ha='right')\n",
    "plt.tight_layout()\n",
    "plt.ylabel('Z-score')"
   ]
  }
 ],
 "metadata": {
  "kernelspec": {
   "display_name": "Python 2",
   "language": "python",
   "name": "python2"
  },
  "language_info": {
   "codemirror_mode": {
    "name": "ipython",
    "version": 2
   },
   "file_extension": ".py",
   "mimetype": "text/x-python",
   "name": "python",
   "nbconvert_exporter": "python",
   "pygments_lexer": "ipython2",
   "version": "2.7.15"
  }
 },
 "nbformat": 4,
 "nbformat_minor": 2
}

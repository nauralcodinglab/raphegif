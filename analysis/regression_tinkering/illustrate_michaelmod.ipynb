{
 "cells": [
  {
   "cell_type": "markdown",
   "metadata": {},
   "source": [
    "# Parameters for DRN network model GIF units\n",
    "\n",
    "This document summarizes parameters extracted from GIFs fitted to 12 identified DRN 5HT neurons injected with 50ms OU noise which passed quality control."
   ]
  },
  {
   "cell_type": "markdown",
   "metadata": {},
   "source": [
    "**Note:** Model file is to large to track with git, so run `analysis/regression_tinkering/fit_michaelmod.py` to re-generate model if needed."
   ]
  },
  {
   "cell_type": "markdown",
   "metadata": {},
   "source": [
    "## Model definition\n",
    "\n",
    "### Subthreshold dynamics\n",
    "$$ C \\frac{dV}{dt} = -g_l (V(t) - E_l) - I_{AHP}(t) + I_{inj}(t) $$\n",
    "\n",
    "### Spike-triggered filters\n",
    "Sum of $N$ exponentials of the form \n",
    "$$ \\kappa = \\sum_{i=1}^N A_i \\exp \\left[\\frac{-(t - t_{spk})}{\\tau_i} \\right], t > t_{spk}. $$\n",
    "We use a quadruple exponential for the AHP and a triple exponential for the threshold movement. In a typical implementation, each time a spike is fired a discretized version of $\\kappa$ of length $T$ is added to the vector of eg $I_{AHP}$ for a given neuron going forward from roughly $t$ to $t + T$.\n",
    "\n",
    "### Spiking process\n",
    "Inhomogenous Poisson process with rate parameter\n",
    "$$ \\lambda(t) = \\lambda_0 \\exp \\left[ \\frac{V(t) - V_T(t)}{\\Delta V} \\right], $$ where $\\lambda_0 = 10^{-4}$ spks/timestep (assuming $\\Delta t$ = 0.1ms). We can then find the probability of spiking at each timestep $P_{spk}(t) = 1 - e^{-\\lambda(t)}.$"
   ]
  },
  {
   "cell_type": "markdown",
   "metadata": {},
   "source": [
    "## Import modules"
   ]
  },
  {
   "cell_type": "code",
   "execution_count": 1,
   "metadata": {},
   "outputs": [
    {
     "name": "stdout",
     "output_type": "stream",
     "text": [
      "/Users/eharkin/Documents/School/Grad work/Thesis/Experiments/GIF fitting/GIF fitting project/GIFFittingToolbox\n"
     ]
    }
   ],
   "source": [
    "from __future__ import division\n",
    "\n",
    "import os; os.chdir(os.path.join('..', '..'))\n",
    "print os.getcwd()"
   ]
  },
  {
   "cell_type": "code",
   "execution_count": 2,
   "metadata": {},
   "outputs": [],
   "source": [
    "import pickle\n",
    "\n",
    "import numpy as np\n",
    "import matplotlib.pyplot as plt\n",
    "import pandas as pd\n",
    "\n",
    "%config InlineBackend.figure_format='retina'"
   ]
  },
  {
   "cell_type": "markdown",
   "metadata": {},
   "source": [
    "## Load pre-fitted models"
   ]
  },
  {
   "cell_type": "code",
   "execution_count": 3,
   "metadata": {},
   "outputs": [],
   "source": [
    "MOD_PATH = os.path.join('data', 'models', '5HT')\n",
    "\n",
    "with open(os.path.join(MOD_PATH, '5HT_michaelmod.mod'), 'rb') as f:\n",
    "    GIFs = pickle.load(f)\n",
    "    f.close()"
   ]
  },
  {
   "cell_type": "markdown",
   "metadata": {},
   "source": [
    "## Get model coefficients"
   ]
  },
  {
   "cell_type": "code",
   "execution_count": 4,
   "metadata": {},
   "outputs": [],
   "source": [
    "params = {\n",
    "    'gl': [],\n",
    "    'El': [],\n",
    "    'C': [],\n",
    "    'Tref': [],\n",
    "    'Vt_star': [],\n",
    "    'Vr': [],\n",
    "    'DV': [],\n",
    "    'eta_coeffs': [],\n",
    "    'eta_timescales': [],\n",
    "    'gamma_coeffs': [],\n",
    "    'gamma_timescales': []\n",
    "}\n",
    "\n",
    "for mod in GIFs:\n",
    "    \n",
    "    for attr_name in ['gl', 'El', 'C', 'Tref', 'Vt_star', 'Vr', 'DV']:\n",
    "        params[attr_name].append(getattr(mod, attr_name))\n",
    "    \n",
    "    params['eta_coeffs'].append(mod.eta.getCoefficients())\n",
    "    params['eta_timescales'].append(mod.eta.taus)\n",
    "    \n",
    "    params['gamma_coeffs'].append(mod.gamma.getCoefficients())\n",
    "    params['gamma_timescales'].append(mod.gamma.taus)\n",
    "    \n",
    "params = pd.DataFrame(params)"
   ]
  },
  {
   "cell_type": "code",
   "execution_count": 5,
   "metadata": {},
   "outputs": [
    {
     "data": {
      "text/html": [
       "<div>\n",
       "<style scoped>\n",
       "    .dataframe tbody tr th:only-of-type {\n",
       "        vertical-align: middle;\n",
       "    }\n",
       "\n",
       "    .dataframe tbody tr th {\n",
       "        vertical-align: top;\n",
       "    }\n",
       "\n",
       "    .dataframe thead th {\n",
       "        text-align: right;\n",
       "    }\n",
       "</style>\n",
       "<table border=\"1\" class=\"dataframe\">\n",
       "  <thead>\n",
       "    <tr style=\"text-align: right;\">\n",
       "      <th></th>\n",
       "      <th>C</th>\n",
       "      <th>DV</th>\n",
       "      <th>El</th>\n",
       "      <th>Tref</th>\n",
       "      <th>Vr</th>\n",
       "      <th>Vt_star</th>\n",
       "      <th>eta_coeffs</th>\n",
       "      <th>eta_timescales</th>\n",
       "      <th>gamma_coeffs</th>\n",
       "      <th>gamma_timescales</th>\n",
       "      <th>gl</th>\n",
       "    </tr>\n",
       "  </thead>\n",
       "  <tbody>\n",
       "    <tr>\n",
       "      <th>0</th>\n",
       "      <td>0.099399</td>\n",
       "      <td>6.401344</td>\n",
       "      <td>-64.679411</td>\n",
       "      <td>6.5</td>\n",
       "      <td>-53.578397</td>\n",
       "      <td>-56.237069</td>\n",
       "      <td>[0.04821677916338659, 0.02681994067994529, 0.0...</td>\n",
       "      <td>[3.0, 30.0, 300.0, 3000.0]</td>\n",
       "      <td>[-9.979617409427505, 2.7834032536599, 5.912647...</td>\n",
       "      <td>[30.0, 300.0, 3000.0]</td>\n",
       "      <td>0.001106</td>\n",
       "    </tr>\n",
       "    <tr>\n",
       "      <th>1</th>\n",
       "      <td>0.115566</td>\n",
       "      <td>2.354318</td>\n",
       "      <td>-65.183422</td>\n",
       "      <td>6.5</td>\n",
       "      <td>-56.140457</td>\n",
       "      <td>-49.298184</td>\n",
       "      <td>[0.004714849781462479, 0.05763395059684705, 0....</td>\n",
       "      <td>[3.0, 30.0, 300.0, 3000.0]</td>\n",
       "      <td>[150.06253817094915, 7.509245641252141, 0.3935...</td>\n",
       "      <td>[30.0, 300.0, 3000.0]</td>\n",
       "      <td>0.002279</td>\n",
       "    </tr>\n",
       "    <tr>\n",
       "      <th>2</th>\n",
       "      <td>0.094376</td>\n",
       "      <td>3.918827</td>\n",
       "      <td>-63.897835</td>\n",
       "      <td>6.5</td>\n",
       "      <td>-55.901602</td>\n",
       "      <td>-46.770601</td>\n",
       "      <td>[-0.031796695453305664, 0.059521968591513166, ...</td>\n",
       "      <td>[3.0, 30.0, 300.0, 3000.0]</td>\n",
       "      <td>[237.0377021396467, 5.629415212247567, 0.07121...</td>\n",
       "      <td>[30.0, 300.0, 3000.0]</td>\n",
       "      <td>0.001668</td>\n",
       "    </tr>\n",
       "    <tr>\n",
       "      <th>3</th>\n",
       "      <td>0.105813</td>\n",
       "      <td>3.676286</td>\n",
       "      <td>-78.017858</td>\n",
       "      <td>6.5</td>\n",
       "      <td>-55.912411</td>\n",
       "      <td>-54.438679</td>\n",
       "      <td>[0.09313386197424596, 0.01178096186742898, 0.0...</td>\n",
       "      <td>[3.0, 30.0, 300.0, 3000.0]</td>\n",
       "      <td>[143.02467160089816, 46.02837638174735, 0.5566...</td>\n",
       "      <td>[30.0, 300.0, 3000.0]</td>\n",
       "      <td>0.001483</td>\n",
       "    </tr>\n",
       "    <tr>\n",
       "      <th>4</th>\n",
       "      <td>0.057387</td>\n",
       "      <td>4.504267</td>\n",
       "      <td>-59.126747</td>\n",
       "      <td>6.5</td>\n",
       "      <td>-50.669208</td>\n",
       "      <td>-52.748465</td>\n",
       "      <td>[0.07263923239220263, 0.03241157139336846, 0.0...</td>\n",
       "      <td>[3.0, 30.0, 300.0, 3000.0]</td>\n",
       "      <td>[10.427579402857122, 6.590131098729741, 0.0336...</td>\n",
       "      <td>[30.0, 300.0, 3000.0]</td>\n",
       "      <td>0.001353</td>\n",
       "    </tr>\n",
       "  </tbody>\n",
       "</table>\n",
       "</div>"
      ],
      "text/plain": [
       "          C        DV         El  Tref         Vr    Vt_star  \\\n",
       "0  0.099399  6.401344 -64.679411   6.5 -53.578397 -56.237069   \n",
       "1  0.115566  2.354318 -65.183422   6.5 -56.140457 -49.298184   \n",
       "2  0.094376  3.918827 -63.897835   6.5 -55.901602 -46.770601   \n",
       "3  0.105813  3.676286 -78.017858   6.5 -55.912411 -54.438679   \n",
       "4  0.057387  4.504267 -59.126747   6.5 -50.669208 -52.748465   \n",
       "\n",
       "                                          eta_coeffs  \\\n",
       "0  [0.04821677916338659, 0.02681994067994529, 0.0...   \n",
       "1  [0.004714849781462479, 0.05763395059684705, 0....   \n",
       "2  [-0.031796695453305664, 0.059521968591513166, ...   \n",
       "3  [0.09313386197424596, 0.01178096186742898, 0.0...   \n",
       "4  [0.07263923239220263, 0.03241157139336846, 0.0...   \n",
       "\n",
       "               eta_timescales  \\\n",
       "0  [3.0, 30.0, 300.0, 3000.0]   \n",
       "1  [3.0, 30.0, 300.0, 3000.0]   \n",
       "2  [3.0, 30.0, 300.0, 3000.0]   \n",
       "3  [3.0, 30.0, 300.0, 3000.0]   \n",
       "4  [3.0, 30.0, 300.0, 3000.0]   \n",
       "\n",
       "                                        gamma_coeffs       gamma_timescales  \\\n",
       "0  [-9.979617409427505, 2.7834032536599, 5.912647...  [30.0, 300.0, 3000.0]   \n",
       "1  [150.06253817094915, 7.509245641252141, 0.3935...  [30.0, 300.0, 3000.0]   \n",
       "2  [237.0377021396467, 5.629415212247567, 0.07121...  [30.0, 300.0, 3000.0]   \n",
       "3  [143.02467160089816, 46.02837638174735, 0.5566...  [30.0, 300.0, 3000.0]   \n",
       "4  [10.427579402857122, 6.590131098729741, 0.0336...  [30.0, 300.0, 3000.0]   \n",
       "\n",
       "         gl  \n",
       "0  0.001106  \n",
       "1  0.002279  \n",
       "2  0.001668  \n",
       "3  0.001483  \n",
       "4  0.001353  "
      ]
     },
     "execution_count": 5,
     "metadata": {},
     "output_type": "execute_result"
    }
   ],
   "source": [
    "params.head()"
   ]
  },
  {
   "cell_type": "markdown",
   "metadata": {},
   "source": [
    "## Print parameter estimates\n",
    "\n",
    "I assume you'll just want to use the mean of each parameter estimate in your implementation, but in case you want to put in a bit of parameter noise to linearize things I'll print the SDs too."
   ]
  },
  {
   "cell_type": "markdown",
   "metadata": {},
   "source": [
    "### Scalar parameters\n",
    "\n",
    "- $C$ membrane capacitance (nF)\n",
    "- $g_l$ leak conductance (nS)\n",
    "- $E_l$ equilibrium potential of leak conductance (mV)\n",
    "- $T_{ref}$ length of refractory period (ms)\n",
    "- $V_T^*$ stochastic threshold (mV)\n",
    "- $V_r$ post-spike voltage reset (mV)"
   ]
  },
  {
   "cell_type": "code",
   "execution_count": 6,
   "metadata": {},
   "outputs": [
    {
     "name": "stdout",
     "output_type": "stream",
     "text": [
      " Parameter      Mean        SD\n",
      "\n",
      "         C    0.0876    0.0263\n",
      "        gl    0.0014    0.0004\n",
      "        El  -68.0652   10.1053\n",
      "      Tref    6.5000    0.0000\n",
      "   Vt_star  -52.3282    5.2972\n",
      "        Vr  -54.0248    2.6428\n",
      "        DV    4.3809    1.3601\n"
     ]
    }
   ],
   "source": [
    "print '{:>10}{:>10}{:>10}\\n'.format('Parameter', 'Mean', 'SD')\n",
    "for param_name in ['C', 'gl', 'El', 'Tref', 'Vt_star', 'Vr', 'DV']:\n",
    "    print '{:>10}{:>10.4f}{:>10.4f}'.format(\n",
    "        param_name, params[param_name].mean(), params[param_name].std()\n",
    "    )"
   ]
  },
  {
   "cell_type": "markdown",
   "metadata": {},
   "source": [
    "Membrane time constant is usually around 50ms.\n",
    "\n",
    "Note that $V_t^*$ is probably not a perfect estimate of the ideal static threshold. This is because $V_T$ is 'transiently' increased from $V_T^*$ by the spike-triggered threshold movement $\\gamma$ after each spike. $V_T^*$ is therefore probably best interpreted as a lower bound on a static threshold (if you want to implement your model that way)."
   ]
  },
  {
   "cell_type": "markdown",
   "metadata": {},
   "source": [
    "### Spike-triggered filters\n",
    "\n",
    "Recall: Spike-triggered filters are defined as sums of $N$ exponentials $$ \\sum_{i=1}^N A_i \\exp \\left[\\frac{-(t - t_{spk})}{\\tau_i} \\right]. $$ The timescale $\\tau_i$ of each exponential component $i$ is in ms and the amplitudes $A_i$ are given in **nA** or mV (this is to make more units cancel).\n",
    "\n",
    "- $\\eta$ spike triggered current (nA)\n",
    "- $\\gamma$ spike-triggered threshold movement (mV)"
   ]
  },
  {
   "cell_type": "code",
   "execution_count": 7,
   "metadata": {},
   "outputs": [],
   "source": [
    "def solve_multiexp(timescales, amplitudes, T, dt = 0.1):\n",
    "    \"\"\"Solve a sum-of-exponentials kernel.\n",
    "    \n",
    "    Inputs:\n",
    "        timescales (vector of floats)\n",
    "            -- Time constants to use for each exponential component.\n",
    "        amplitudes (vector of floats)\n",
    "            -- Amplitude of each exponential component.\n",
    "        T (float)\n",
    "            -- Length of time over which to solve multiexponential.\n",
    "        dt (float)\n",
    "            -- Time resolution for solved exponential.\n",
    "            \n",
    "    Returns:\n",
    "        t (vector of floats)\n",
    "            -- Support vector.\n",
    "        x (vector of floats)\n",
    "            -- Amplitude at each timepoint.\n",
    "    \"\"\"\n",
    "    \n",
    "    assert len(timescales) == len(amplitudes), 'timescales and amplitudes must have same number of entries'\n",
    "    \n",
    "    t_vec = np.arange(0, T, dt)\n",
    "    x = np.zeros_like(t_vec)\n",
    "    \n",
    "    for tau, A in zip(timescales, amplitudes):\n",
    "        x += A * np.exp(-t_vec/tau)\n",
    "        \n",
    "    return t_vec, x"
   ]
  },
  {
   "cell_type": "code",
   "execution_count": 8,
   "metadata": {},
   "outputs": [
    {
     "name": "stdout",
     "output_type": "stream",
     "text": [
      "       -- AHP COEFFS --       \n",
      "\n",
      "       Tau      Mean        SD\n",
      "\n",
      "    3.0000    0.0281    0.0619\n",
      "   30.0000    0.0333    0.0154\n",
      "  300.0000    0.0210    0.0066\n",
      " 3000.0000   -0.0002    0.0007\n"
     ]
    }
   ],
   "source": [
    "# Dict to hold mean coefficients.\n",
    "mean_eta = {\n",
    "    'taus': [],\n",
    "    'amplis': []\n",
    "}\n",
    "\n",
    "# Temporarily convert param dataframe entries to lists.\n",
    "eta_coeffs_tmp = np.array(params['eta_coeffs'].tolist())\n",
    "eta_taus_tmp = np.array(params['eta_timescales'].tolist())\n",
    "\n",
    "# Do the work.\n",
    "print '{:^30}\\n'.format('-- AHP COEFFS --')\n",
    "print '{:>10}{:>10}{:>10}\\n'.format('Tau', 'Mean', 'SD')\n",
    "for i in range(eta_coeffs_tmp.shape[1]):\n",
    "    \n",
    "    mean_eta['taus'].append(eta_taus_tmp[:, i].mean())\n",
    "    mean_eta['amplis'].append(eta_coeffs_tmp[:, i].mean())\n",
    "    \n",
    "    print '{:>10.4f}{:>10.4f}{:>10.4f}'.format(\n",
    "        eta_taus_tmp[:, i].mean(), \n",
    "        eta_coeffs_tmp[:, i].mean(),\n",
    "        eta_coeffs_tmp[:, i].std()\n",
    "    )\n",
    "    \n",
    "del eta_taus_tmp, eta_coeffs_tmp"
   ]
  },
  {
   "cell_type": "code",
   "execution_count": 9,
   "metadata": {},
   "outputs": [
    {
     "data": {
      "image/png": "[encoded data removed]",
      "text/plain": [
       "<Figure size 432x288 with 1 Axes>"
      ]
     },
     "metadata": {
      "image/png": {
       "height": 278,
       "width": 422
      },
      "needs_background": "light"
     },
     "output_type": "display_data"
    }
   ],
   "source": [
    "plt.plot(\n",
    "    *solve_multiexp(mean_eta['taus'], mean_eta['amplis'], 1000.), \n",
    "    lw = 2, clip_on = False, zorder = 10\n",
    ")\n",
    "plt.ylim(0, plt.ylim()[1])\n",
    "plt.xlim(0, plt.xlim()[1])\n",
    "plt.ylabel('Amplitude (nA)')\n",
    "plt.xlabel('Time (ms)')\n",
    "\n",
    "plt.tight_layout()\n",
    "plt.show()"
   ]
  },
  {
   "cell_type": "markdown",
   "metadata": {},
   "source": [
    "Looks like the AHP is almost gone by 1s. This might mean you could precompute a 1s kernel and add it to an $\\mathbf{I}_{AHP}$ matrix for the corresponding cell each time you get a spike. Could probably even drop the slowest exponential."
   ]
  },
  {
   "cell_type": "code",
   "execution_count": 10,
   "metadata": {},
   "outputs": [
    {
     "name": "stdout",
     "output_type": "stream",
     "text": [
      "   -- THRESH MVT. COEFFS --   \n",
      "\n",
      "       Tau      Mean        SD\n",
      "\n",
      "   30.0000   51.8540   84.4130\n",
      "  300.0000   13.3929   14.6552\n",
      " 3000.0000    2.2290    2.2679\n"
     ]
    }
   ],
   "source": [
    "# Dict to hold mean coefficients.\n",
    "mean_gamma = {\n",
    "    'taus': [],\n",
    "    'amplis': []\n",
    "}\n",
    "\n",
    "# Temporarily convert param dataframe entries to lists.\n",
    "gamma_coeffs_tmp = np.array(params['gamma_coeffs'].tolist())\n",
    "gamma_taus_tmp = np.array(params['gamma_timescales'].tolist())\n",
    "\n",
    "# Do the work.\n",
    "print '{:^30}\\n'.format('-- THRESH MVT. COEFFS --')\n",
    "print '{:>10}{:>10}{:>10}\\n'.format('Tau', 'Mean', 'SD')\n",
    "for i in range(gamma_coeffs_tmp.shape[1]):\n",
    "    \n",
    "    mean_gamma['taus'].append(gamma_taus_tmp[:, i].mean())\n",
    "    mean_gamma['amplis'].append(gamma_coeffs_tmp[:, i].mean())\n",
    "    \n",
    "    print '{:>10.4f}{:>10.4f}{:>10.4f}'.format(\n",
    "        gamma_taus_tmp[:, i].mean(), \n",
    "        gamma_coeffs_tmp[:, i].mean(),\n",
    "        gamma_coeffs_tmp[:, i].std()\n",
    "    )\n",
    "    \n",
    "del gamma_taus_tmp, gamma_coeffs_tmp"
   ]
  },
  {
   "cell_type": "code",
   "execution_count": 11,
   "metadata": {},
   "outputs": [
    {
     "data": {
      "image/png": "[encoded data removed]",
      "text/plain": [
       "<Figure size 432x288 with 1 Axes>"
      ]
     },
     "metadata": {
      "image/png": {
       "height": 278,
       "width": 422
      },
      "needs_background": "light"
     },
     "output_type": "display_data"
    }
   ],
   "source": [
    "plt.plot(\n",
    "    *solve_multiexp(mean_gamma['taus'], mean_gamma['amplis'], 1000.), \n",
    "    lw = 2, clip_on = False, zorder = 10\n",
    ")\n",
    "plt.ylim(0, plt.ylim()[1])\n",
    "plt.xlim(0, plt.xlim()[1])\n",
    "plt.ylabel('Amplitude (nA)')\n",
    "plt.xlabel('Time (ms)')\n",
    "\n",
    "plt.tight_layout()\n",
    "plt.show()"
   ]
  },
  {
   "cell_type": "markdown",
   "metadata": {},
   "source": [
    "The threshold movement is somewhat significant even after 1s."
   ]
  }
 ],
 "metadata": {
  "kernelspec": {
   "display_name": "Python 2",
   "language": "python",
   "name": "python2"
  },
  "language_info": {
   "codemirror_mode": {
    "name": "ipython",
    "version": 2
   },
   "file_extension": ".py",
   "mimetype": "text/x-python",
   "name": "python",
   "nbconvert_exporter": "python",
   "pygments_lexer": "ipython2",
   "version": "2.7.15"
  }
 },
 "nbformat": 4,
 "nbformat_minor": 2
}

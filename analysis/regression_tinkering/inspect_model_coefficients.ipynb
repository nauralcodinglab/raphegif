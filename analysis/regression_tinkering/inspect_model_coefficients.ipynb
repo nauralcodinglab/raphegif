{
 "cells": [
  {
   "cell_type": "markdown",
   "metadata": {},
   "source": [
    "# Import modules"
   ]
  },
  {
   "cell_type": "code",
   "execution_count": 1,
   "metadata": {},
   "outputs": [
    {
     "name": "stdout",
     "output_type": "stream",
     "text": [
      "/Users/eharkin/Documents/School/Grad work/5HTGIF\n"
     ]
    }
   ],
   "source": [
    "from __future__ import division\n",
    "\n",
    "import os; os.chdir(os.path.join('..', '..'))\n",
    "print os.getcwd()"
   ]
  },
  {
   "cell_type": "code",
   "execution_count": 2,
   "metadata": {},
   "outputs": [],
   "source": [
    "import pickle\n",
    "\n",
    "import pandas as pd\n",
    "import matplotlib.pyplot as plt\n",
    "import matplotlib.gridspec as gs"
   ]
  },
  {
   "cell_type": "markdown",
   "metadata": {},
   "source": [
    "# Load data"
   ]
  },
  {
   "cell_type": "code",
   "execution_count": 3,
   "metadata": {},
   "outputs": [],
   "source": [
    "MODEL_PATH = os.path.join('data', 'models', '5HT')\n",
    "\n",
    "models = {}\n",
    "\n",
    "with open(os.path.join(MODEL_PATH, 'sergifs.lmod'), 'rb') as f:\n",
    "    models['GIF'] = pickle.load(f)\n",
    "    f.close()\n",
    "    \n",
    "with open(os.path.join(MODEL_PATH, 'serkgifs.lmod'), 'rb') as f:\n",
    "    models['KGIF'] = pickle.load(f)\n",
    "    f.close()"
   ]
  },
  {
   "cell_type": "markdown",
   "metadata": {},
   "source": [
    "# Plot GIF parameters"
   ]
  },
  {
   "cell_type": "markdown",
   "metadata": {},
   "source": [
    "First, we have to pull the GIF coefficients out of the models and put them in a DataFrame."
   ]
  },
  {
   "cell_type": "code",
   "execution_count": 4,
   "metadata": {},
   "outputs": [],
   "source": [
    "gif_df = pd.DataFrame(\n",
    "    columns = ['name', 'gl', 'C', 'El', 'Vt_star', 'DV', 'Vr', 'Tref',\n",
    "              'eta_vals', 'eta_support', 'eta_coeffs', 'eta_timescales',\n",
    "              'gamma_vals', 'gamma_support', 'gamma_coeffs', 'gamma_timescales']\n",
    ")\n",
    "\n",
    "for mod in models['GIF']:\n",
    "    \n",
    "    mod.eta.computeInterpolatedFilter(0.1)\n",
    "    mod.gamma.computeInterpolatedFilter(0.1)\n",
    "    \n",
    "    row = pd.DataFrame({\n",
    "        'name': mod.name,\n",
    "        'gl': mod.gl,\n",
    "        'C': mod.C,\n",
    "        'El': mod.El,\n",
    "        'Vt_star': mod.Vt_star,\n",
    "        'DV': mod.DV,\n",
    "        'Vr': mod.Vr,\n",
    "        'Tref': mod.Tref,\n",
    "        'eta_vals': [mod.eta.filter],\n",
    "        'eta_support': [mod.eta.filtersupport],\n",
    "        'eta_coeffs': [mod.eta.getCoefficients()],\n",
    "        'eta_timescales': [mod.eta.taus],\n",
    "        'gamma_vals': [mod.gamma.filter],\n",
    "        'gamma_support': [mod.gamma.filtersupport],\n",
    "        'gamma_coeffs': [mod.gamma.getCoefficients()],\n",
    "        'gamma_timescales': [mod.gamma.taus]\n",
    "    })\n",
    "    \n",
    "    gif_df = gif_df.append(row)\n",
    "\n",
    "gif_df['tau'] = gif_df['C'] / gif_df['gl']\n",
    "gif_df.reset_index(inplace = True, drop = True)"
   ]
  },
  {
   "cell_type": "code",
   "execution_count": 5,
   "metadata": {},
   "outputs": [
    {
     "data": {
      "text/plain": [
       "Index([u'C', u'DV', u'El', u'Tref', u'Vr', u'Vt_star', u'eta_coeffs',\n",
       "       u'eta_support', u'eta_timescales', u'eta_vals', u'gamma_coeffs',\n",
       "       u'gamma_support', u'gamma_timescales', u'gamma_vals', u'gl', u'name',\n",
       "       u'tau'],\n",
       "      dtype='object')"
      ]
     },
     "execution_count": 5,
     "metadata": {},
     "output_type": "execute_result"
    }
   ],
   "source": [
    "gif_df.columns"
   ]
  },
  {
   "cell_type": "code",
   "execution_count": 6,
   "metadata": {},
   "outputs": [
    {
     "data": {
      "text/html": [
       "<div>\n",
       "<style scoped>\n",
       "    .dataframe tbody tr th:only-of-type {\n",
       "        vertical-align: middle;\n",
       "    }\n",
       "\n",
       "    .dataframe tbody tr th {\n",
       "        vertical-align: top;\n",
       "    }\n",
       "\n",
       "    .dataframe thead th {\n",
       "        text-align: right;\n",
       "    }\n",
       "</style>\n",
       "<table border=\"1\" class=\"dataframe\">\n",
       "  <thead>\n",
       "    <tr style=\"text-align: right;\">\n",
       "      <th></th>\n",
       "      <th>C</th>\n",
       "      <th>DV</th>\n",
       "      <th>El</th>\n",
       "      <th>Tref</th>\n",
       "      <th>Vr</th>\n",
       "      <th>Vt_star</th>\n",
       "      <th>eta_coeffs</th>\n",
       "      <th>eta_support</th>\n",
       "      <th>eta_timescales</th>\n",
       "      <th>eta_vals</th>\n",
       "      <th>gamma_coeffs</th>\n",
       "      <th>gamma_support</th>\n",
       "      <th>gamma_timescales</th>\n",
       "      <th>gamma_vals</th>\n",
       "      <th>gl</th>\n",
       "      <th>name</th>\n",
       "      <th>tau</th>\n",
       "    </tr>\n",
       "  </thead>\n",
       "  <tbody>\n",
       "    <tr>\n",
       "      <th>0</th>\n",
       "      <td>0.099283</td>\n",
       "      <td>6.586309</td>\n",
       "      <td>-64.764617</td>\n",
       "      <td>6.5</td>\n",
       "      <td>-53.563068</td>\n",
       "      <td>-56.745528</td>\n",
       "      <td>[0.05604362132348767, 0.008871992174767198, -0...</td>\n",
       "      <td>[0.0, 0.1, 0.2, 0.30000000000000004, 0.4, 0.5,...</td>\n",
       "      <td>[3, 10, 30, 100, 300, 1000, 3000]</td>\n",
       "      <td>[0.09225176057315923, 0.09031195120736106, 0.0...</td>\n",
       "      <td>[-9.22531153661392, 2.019013807156921, 6.40501...</td>\n",
       "      <td>[0.0, 0.1, 0.2, 0.30000000000000004, 0.4, 0.5,...</td>\n",
       "      <td>[30, 300, 3000]</td>\n",
       "      <td>[-0.8012787767243204, -0.7714653226216237, -0....</td>\n",
       "      <td>0.001102</td>\n",
       "      <td>DRN307</td>\n",
       "      <td>90.121867</td>\n",
       "    </tr>\n",
       "    <tr>\n",
       "      <th>1</th>\n",
       "      <td>0.115062</td>\n",
       "      <td>2.422584</td>\n",
       "      <td>-65.074797</td>\n",
       "      <td>6.5</td>\n",
       "      <td>-56.143612</td>\n",
       "      <td>-49.316295</td>\n",
       "      <td>[-0.025647336399395388, 0.06894395078046471, -...</td>\n",
       "      <td>[0.0, 0.1, 0.2, 0.30000000000000004, 0.4, 0.5,...</td>\n",
       "      <td>[3, 10, 30, 100, 300, 1000, 3000]</td>\n",
       "      <td>[0.08441429720483459, 0.08458764070941391, 0.0...</td>\n",
       "      <td>[93.47022240412502, 10.013206875071937, 0.2472...</td>\n",
       "      <td>[0.0, 0.1, 0.2, 0.30000000000000004, 0.4, 0.5,...</td>\n",
       "      <td>[30, 300, 3000]</td>\n",
       "      <td>[103.73065753922424, 103.41626341352544, 103.1...</td>\n",
       "      <td>0.002273</td>\n",
       "      <td>DRN317</td>\n",
       "      <td>50.627482</td>\n",
       "    </tr>\n",
       "    <tr>\n",
       "      <th>2</th>\n",
       "      <td>0.093779</td>\n",
       "      <td>3.833261</td>\n",
       "      <td>-63.829690</td>\n",
       "      <td>6.5</td>\n",
       "      <td>-55.896726</td>\n",
       "      <td>-46.503862</td>\n",
       "      <td>[-0.016252160987829858, 0.017645701866007352, ...</td>\n",
       "      <td>[0.0, 0.1, 0.2, 0.30000000000000004, 0.4, 0.5,...</td>\n",
       "      <td>[3, 10, 30, 100, 300, 1000, 3000]</td>\n",
       "      <td>[0.05534420529945827, 0.05565327723715501, 0.0...</td>\n",
       "      <td>[187.3354465044943, 6.630657851929903, -0.0257...</td>\n",
       "      <td>[0.0, 0.1, 0.2, 0.30000000000000004, 0.4, 0.5,...</td>\n",
       "      <td>[30, 300, 3000]</td>\n",
       "      <td>[193.94038126753412, 193.31476038270475, 192.6...</td>\n",
       "      <td>0.001659</td>\n",
       "      <td>DRN318</td>\n",
       "      <td>56.524782</td>\n",
       "    </tr>\n",
       "    <tr>\n",
       "      <th>3</th>\n",
       "      <td>0.106064</td>\n",
       "      <td>3.665950</td>\n",
       "      <td>-77.766587</td>\n",
       "      <td>6.5</td>\n",
       "      <td>-55.925081</td>\n",
       "      <td>-54.332855</td>\n",
       "      <td>[0.12237542480629224, -0.029385937341350313, 0...</td>\n",
       "      <td>[0.0, 0.1, 0.2, 0.30000000000000004, 0.4, 0.5,...</td>\n",
       "      <td>[3, 10, 30, 100, 300, 1000, 3000]</td>\n",
       "      <td>[0.14488753392782916, 0.141093414058785, 0.137...</td>\n",
       "      <td>[93.68587082442676, 47.57043892495727, 0.39453...</td>\n",
       "      <td>[0.0, 0.1, 0.2, 0.30000000000000004, 0.4, 0.5,...</td>\n",
       "      <td>[30, 300, 3000]</td>\n",
       "      <td>[141.6508437717761, 141.32321011354722, 140.99...</td>\n",
       "      <td>0.001480</td>\n",
       "      <td>DRN320</td>\n",
       "      <td>71.662466</td>\n",
       "    </tr>\n",
       "    <tr>\n",
       "      <th>4</th>\n",
       "      <td>0.057332</td>\n",
       "      <td>4.502793</td>\n",
       "      <td>-59.007351</td>\n",
       "      <td>6.5</td>\n",
       "      <td>-50.661982</td>\n",
       "      <td>-52.838575</td>\n",
       "      <td>[0.08995434561399508, -0.01010723669906919, 0....</td>\n",
       "      <td>[0.0, 0.1, 0.2, 0.30000000000000004, 0.4, 0.5,...</td>\n",
       "      <td>[3, 10, 30, 100, 300, 1000, 3000]</td>\n",
       "      <td>[0.12704752178093243, 0.12411013911132997, 0.1...</td>\n",
       "      <td>[8.589347966715538, 7.0046897566754, 0.0368107...</td>\n",
       "      <td>[0.0, 0.1, 0.2, 0.30000000000000004, 0.4, 0.5,...</td>\n",
       "      <td>[30, 300, 3000]</td>\n",
       "      <td>[15.63084846374337, 15.59992923499403, 15.5691...</td>\n",
       "      <td>0.001347</td>\n",
       "      <td>DRN324</td>\n",
       "      <td>42.552241</td>\n",
       "    </tr>\n",
       "  </tbody>\n",
       "</table>\n",
       "</div>"
      ],
      "text/plain": [
       "          C        DV         El  Tref         Vr    Vt_star  \\\n",
       "0  0.099283  6.586309 -64.764617   6.5 -53.563068 -56.745528   \n",
       "1  0.115062  2.422584 -65.074797   6.5 -56.143612 -49.316295   \n",
       "2  0.093779  3.833261 -63.829690   6.5 -55.896726 -46.503862   \n",
       "3  0.106064  3.665950 -77.766587   6.5 -55.925081 -54.332855   \n",
       "4  0.057332  4.502793 -59.007351   6.5 -50.661982 -52.838575   \n",
       "\n",
       "                                          eta_coeffs  \\\n",
       "0  [0.05604362132348767, 0.008871992174767198, -0...   \n",
       "1  [-0.025647336399395388, 0.06894395078046471, -...   \n",
       "2  [-0.016252160987829858, 0.017645701866007352, ...   \n",
       "3  [0.12237542480629224, -0.029385937341350313, 0...   \n",
       "4  [0.08995434561399508, -0.01010723669906919, 0....   \n",
       "\n",
       "                                         eta_support  \\\n",
       "0  [0.0, 0.1, 0.2, 0.30000000000000004, 0.4, 0.5,...   \n",
       "1  [0.0, 0.1, 0.2, 0.30000000000000004, 0.4, 0.5,...   \n",
       "2  [0.0, 0.1, 0.2, 0.30000000000000004, 0.4, 0.5,...   \n",
       "3  [0.0, 0.1, 0.2, 0.30000000000000004, 0.4, 0.5,...   \n",
       "4  [0.0, 0.1, 0.2, 0.30000000000000004, 0.4, 0.5,...   \n",
       "\n",
       "                      eta_timescales  \\\n",
       "0  [3, 10, 30, 100, 300, 1000, 3000]   \n",
       "1  [3, 10, 30, 100, 300, 1000, 3000]   \n",
       "2  [3, 10, 30, 100, 300, 1000, 3000]   \n",
       "3  [3, 10, 30, 100, 300, 1000, 3000]   \n",
       "4  [3, 10, 30, 100, 300, 1000, 3000]   \n",
       "\n",
       "                                            eta_vals  \\\n",
       "0  [0.09225176057315923, 0.09031195120736106, 0.0...   \n",
       "1  [0.08441429720483459, 0.08458764070941391, 0.0...   \n",
       "2  [0.05534420529945827, 0.05565327723715501, 0.0...   \n",
       "3  [0.14488753392782916, 0.141093414058785, 0.137...   \n",
       "4  [0.12704752178093243, 0.12411013911132997, 0.1...   \n",
       "\n",
       "                                        gamma_coeffs  \\\n",
       "0  [-9.22531153661392, 2.019013807156921, 6.40501...   \n",
       "1  [93.47022240412502, 10.013206875071937, 0.2472...   \n",
       "2  [187.3354465044943, 6.630657851929903, -0.0257...   \n",
       "3  [93.68587082442676, 47.57043892495727, 0.39453...   \n",
       "4  [8.589347966715538, 7.0046897566754, 0.0368107...   \n",
       "\n",
       "                                       gamma_support gamma_timescales  \\\n",
       "0  [0.0, 0.1, 0.2, 0.30000000000000004, 0.4, 0.5,...  [30, 300, 3000]   \n",
       "1  [0.0, 0.1, 0.2, 0.30000000000000004, 0.4, 0.5,...  [30, 300, 3000]   \n",
       "2  [0.0, 0.1, 0.2, 0.30000000000000004, 0.4, 0.5,...  [30, 300, 3000]   \n",
       "3  [0.0, 0.1, 0.2, 0.30000000000000004, 0.4, 0.5,...  [30, 300, 3000]   \n",
       "4  [0.0, 0.1, 0.2, 0.30000000000000004, 0.4, 0.5,...  [30, 300, 3000]   \n",
       "\n",
       "                                          gamma_vals        gl    name  \\\n",
       "0  [-0.8012787767243204, -0.7714653226216237, -0....  0.001102  DRN307   \n",
       "1  [103.73065753922424, 103.41626341352544, 103.1...  0.002273  DRN317   \n",
       "2  [193.94038126753412, 193.31476038270475, 192.6...  0.001659  DRN318   \n",
       "3  [141.6508437717761, 141.32321011354722, 140.99...  0.001480  DRN320   \n",
       "4  [15.63084846374337, 15.59992923499403, 15.5691...  0.001347  DRN324   \n",
       "\n",
       "         tau  \n",
       "0  90.121867  \n",
       "1  50.627482  \n",
       "2  56.524782  \n",
       "3  71.662466  \n",
       "4  42.552241  "
      ]
     },
     "execution_count": 6,
     "metadata": {},
     "output_type": "execute_result"
    }
   ],
   "source": [
    "gif_df.head()"
   ]
  },
  {
   "cell_type": "markdown",
   "metadata": {},
   "source": [
    "Here we can see how the data is laid out. Scalar parameters have their own cells, but the spike triggered filters are stored as lists. The ID of each cell is also stored."
   ]
  },
  {
   "cell_type": "code",
   "execution_count": 7,
   "metadata": {},
   "outputs": [
    {
     "data": {
      "image/png": "[encoded data removed]",
      "text/plain": [
       "<Figure size 432x432 with 6 Axes>"
      ]
     },
     "metadata": {
      "needs_background": "light"
     },
     "output_type": "display_data"
    }
   ],
   "source": [
    "plt.figure(figsize = (6, 6))\n",
    "\n",
    "spec_outer = gs.GridSpec(3, 2)\n",
    "\n",
    "plt.subplot(spec_outer[0, 0])\n",
    "plt.plot(gif_df['tau'], gif_df['C'], 'k.')\n",
    "plt.ylabel('C')\n",
    "plt.xlabel('tau')\n",
    "\n",
    "plt.subplot(spec_outer[0, 1])\n",
    "plt.plot(gif_df['tau'], gif_df['El'], 'k.')\n",
    "plt.ylabel('gl')\n",
    "plt.xlabel('tau')\n",
    "\n",
    "plt.subplot(spec_outer[1, 0])\n",
    "plt.plot(gif_df['DV'], gif_df['Vt_star'], 'k.')\n",
    "plt.ylabel('Vt_star')\n",
    "plt.xlabel('DV')\n",
    "\n",
    "plt.subplot(spec_outer[1, 1])\n",
    "plt.plot(gif_df['DV'], gif_df['Vr'], 'k.')\n",
    "plt.ylabel('Vr')\n",
    "plt.xlabel('DV')\n",
    "\n",
    "plt.subplot(spec_outer[2, 0])\n",
    "plt.title('eta')\n",
    "for i in range(gif_df.shape[0]):\n",
    "    plt.loglog(gif_df['eta_support'][i], gif_df['eta_vals'][i], 'k-')\n",
    "plt.xlabel('Time (ms)')\n",
    "\n",
    "plt.subplot(spec_outer[2, 1])\n",
    "plt.title('gamma')\n",
    "for i in range(gif_df.shape[0]):\n",
    "    plt.loglog(gif_df['gamma_support'][i], gif_df['gamma_vals'][i], 'k-')\n",
    "plt.xlabel('Time (ms)')\n",
    "\n",
    "plt.tight_layout()\n",
    "plt.show()"
   ]
  },
  {
   "cell_type": "markdown",
   "metadata": {},
   "source": [
    "# Plot KGIF parameters"
   ]
  },
  {
   "cell_type": "markdown",
   "metadata": {},
   "source": [
    "Pull out parameters and put them in a DataFrame. Few extra parameters for the K currents this time."
   ]
  },
  {
   "cell_type": "code",
   "execution_count": 8,
   "metadata": {},
   "outputs": [],
   "source": [
    "kgif_df = pd.DataFrame(\n",
    "    columns = ['name', 'gl', 'C', 'El', 'Vt_star', 'DV', 'Vr', 'Tref',\n",
    "              'eta_vals', 'eta_support', 'eta_coeffs', 'eta_timescales',\n",
    "              'gamma_vals', 'gamma_support', 'gamma_coeffs', 'gamma_timescales']\n",
    ")\n",
    "\n",
    "for mod in models['KGIF']:\n",
    "    \n",
    "    mod.eta.computeInterpolatedFilter(0.1)\n",
    "    mod.gamma.computeInterpolatedFilter(0.1)\n",
    "    \n",
    "    row = pd.DataFrame({\n",
    "        'name': mod.name,\n",
    "        'gl': mod.gl,\n",
    "        'C': mod.C,\n",
    "        'El': mod.El,\n",
    "        'Vt_star': mod.Vt_star,\n",
    "        'DV': mod.DV,\n",
    "        'Vr': mod.Vr,\n",
    "        'Tref': mod.Tref,\n",
    "        'gbar_K1': mod.gbar_K1,\n",
    "        'gbar_K2': mod.gbar_K2,\n",
    "        'h_tau': mod.h_tau,\n",
    "        'eta_vals': [mod.eta.filter],\n",
    "        'eta_support': [mod.eta.filtersupport],\n",
    "        'eta_coeffs': [mod.eta.getCoefficients()],\n",
    "        'eta_timescales': [mod.eta.taus],\n",
    "        'gamma_vals': [mod.gamma.filter],\n",
    "        'gamma_support': [mod.gamma.filtersupport],\n",
    "        'gamma_coeffs': [mod.gamma.getCoefficients()],\n",
    "        'gamma_timescales': [mod.gamma.taus]\n",
    "    })\n",
    "    \n",
    "    kgif_df = kgif_df.append(row)\n",
    "\n",
    "kgif_df['tau'] = kgif_df['C'] / kgif_df['gl']\n",
    "kgif_df.reset_index(inplace = True, drop = True)"
   ]
  },
  {
   "cell_type": "code",
   "execution_count": 9,
   "metadata": {},
   "outputs": [
    {
     "data": {
      "image/png": "[encoded data removed]",
      "text/plain": [
       "<Figure size 432x432 with 6 Axes>"
      ]
     },
     "metadata": {
      "needs_background": "light"
     },
     "output_type": "display_data"
    }
   ],
   "source": [
    "plt.figure(figsize = (6, 6))\n",
    "\n",
    "spec_outer = gs.GridSpec(3, 2)\n",
    "\n",
    "plt.subplot(spec_outer[0, 0])\n",
    "plt.plot(kgif_df['tau'], kgif_df['C'], 'k.')\n",
    "plt.ylabel('C')\n",
    "plt.xlabel('tau')\n",
    "\n",
    "plt.subplot(spec_outer[0, 1])\n",
    "plt.plot(kgif_df['tau'], kgif_df['El'], 'k.')\n",
    "plt.ylabel('gl')\n",
    "plt.xlabel('tau')\n",
    "\n",
    "plt.subplot(spec_outer[1, 0])\n",
    "plt.plot(kgif_df['DV'], kgif_df['Vt_star'], 'k.')\n",
    "plt.ylabel('Vt_star')\n",
    "plt.xlabel('DV')\n",
    "\n",
    "plt.subplot(spec_outer[1, 1])\n",
    "plt.plot(kgif_df['DV'], kgif_df['Vr'], 'k.')\n",
    "plt.ylabel('Vr')\n",
    "plt.xlabel('DV')\n",
    "\n",
    "plt.subplot(spec_outer[2, 0])\n",
    "plt.title('eta')\n",
    "for i in range(kgif_df.shape[0]):\n",
    "    plt.loglog(kgif_df['eta_support'][i], kgif_df['eta_vals'][i], 'k-')\n",
    "plt.xlabel('Time (ms)')\n",
    "\n",
    "plt.subplot(spec_outer[2, 1])\n",
    "plt.title('gamma')\n",
    "for i in range(kgif_df.shape[0]):\n",
    "    plt.loglog(kgif_df['gamma_support'][i], kgif_df['gamma_vals'][i], 'k-')\n",
    "plt.xlabel('Time (ms)')\n",
    "\n",
    "plt.tight_layout()\n",
    "plt.show()"
   ]
  },
  {
   "cell_type": "code",
   "execution_count": 10,
   "metadata": {},
   "outputs": [
    {
     "data": {
      "image/png": "[encoded data removed]",
      "text/plain": [
       "<Figure size 432x288 with 2 Axes>"
      ]
     },
     "metadata": {
      "needs_background": "light"
     },
     "output_type": "display_data"
    }
   ],
   "source": [
    "plt.figure()\n",
    "\n",
    "plt.subplot(121)\n",
    "plt.plot(kgif_df['gbar_K1'], kgif_df['gbar_K2'], 'k.')\n",
    "plt.xlabel('gk1')\n",
    "plt.ylabel('gk2')\n",
    "\n",
    "plt.subplot(122)\n",
    "plt.plot(kgif_df['gbar_K1'], kgif_df['h_tau'], 'k.')\n",
    "\n",
    "plt.show()"
   ]
  },
  {
   "cell_type": "markdown",
   "metadata": {},
   "source": [
    "Looks like the model does a decent job at estimating the parameters of the A-type K current. gk2 (Kslow) is almost always set to zero, probably because of a contaminating effect of Na near threshold."
   ]
  }
 ],
 "metadata": {
  "kernelspec": {
   "display_name": "Python 2",
   "language": "python",
   "name": "python2"
  },
  "language_info": {
   "codemirror_mode": {
    "name": "ipython",
    "version": 2
   },
   "file_extension": ".py",
   "mimetype": "text/x-python",
   "name": "python",
   "nbconvert_exporter": "python",
   "pygments_lexer": "ipython2",
   "version": "2.7.15"
  }
 },
 "nbformat": 4,
 "nbformat_minor": 2
}

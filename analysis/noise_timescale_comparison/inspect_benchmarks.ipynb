{
 "cells": [
  {
   "cell_type": "code",
   "execution_count": 1,
   "metadata": {},
   "outputs": [
    {
     "name": "stdout",
     "output_type": "stream",
     "text": [
      "/Users/eharkin/Documents/School/Grad work/5HTGIF\n"
     ]
    }
   ],
   "source": [
    "from __future__ import division\n",
    "\n",
    "import os; os.chdir(os.path.join('..', '..'))\n",
    "print(os.getcwd())"
   ]
  },
  {
   "cell_type": "code",
   "execution_count": 2,
   "metadata": {},
   "outputs": [],
   "source": [
    "import pickle\n",
    "\n",
    "import matplotlib.pyplot as plt\n",
    "import seaborn as sns\n",
    "import pandas as pd"
   ]
  },
  {
   "cell_type": "code",
   "execution_count": 3,
   "metadata": {},
   "outputs": [],
   "source": [
    "DATAPATH = os.path.join('data', 'processed', 'noise_comparison')\n",
    "\n",
    "md_vals = {}\n",
    "for timescale in ['3', '50']:\n",
    "    with open(os.path.join(DATAPATH, 'Md_{}ms.ldat'.format(timescale)), 'rb') as f:\n",
    "        md_vals[timescale] = pickle.load(f)\n",
    "        f.close()\n"
   ]
  },
  {
   "cell_type": "code",
   "execution_count": 4,
   "metadata": {},
   "outputs": [
    {
     "data": {
      "text/plain": [
       "{'3': {'Md_vals': [0.5111028352835842,\n",
       "   0.42846149093864455,\n",
       "   0.3487319861239801,\n",
       "   0.6064388100169623],\n",
       "  'names': ['DRN436', 'DRN438', 'DRN439', 'DRN440'],\n",
       "  'predictions': [<src.SpikeTrainComparator.SpikeTrainComparator instance at 0x1a15627998>,\n",
       "   <src.SpikeTrainComparator.SpikeTrainComparator instance at 0x1c15888518>,\n",
       "   <src.SpikeTrainComparator.SpikeTrainComparator instance at 0x1c158885f0>,\n",
       "   <src.SpikeTrainComparator.SpikeTrainComparator instance at 0x1c158887e8>]},\n",
       " '50': {'Md_vals': [0.22430292974463875,\n",
       "   0.09520993020903465,\n",
       "   0.281257964897928,\n",
       "   0.23965896992084532],\n",
       "  'names': ['DRN436', 'DRN438', 'DRN439', 'DRN440'],\n",
       "  'predictions': [<src.SpikeTrainComparator.SpikeTrainComparator instance at 0x1c15888680>,\n",
       "   <src.SpikeTrainComparator.SpikeTrainComparator instance at 0x1c15888950>,\n",
       "   <src.SpikeTrainComparator.SpikeTrainComparator instance at 0x1c1596a0e0>,\n",
       "   <src.SpikeTrainComparator.SpikeTrainComparator instance at 0x1c1596a1b8>]}}"
      ]
     },
     "execution_count": 4,
     "metadata": {},
     "output_type": "execute_result"
    }
   ],
   "source": [
    "md_vals"
   ]
  },
  {
   "cell_type": "code",
   "execution_count": 5,
   "metadata": {},
   "outputs": [],
   "source": [
    "md_df = pd.DataFrame()\n",
    "for timescale in md_vals:\n",
    "    tmp_df = pd.DataFrame(md_vals[timescale])\n",
    "    tmp_df['timescale'] = timescale\n",
    "    md_df = md_df.append(tmp_df)\n",
    "md_df.reset_index(inplace=True, drop=True)"
   ]
  },
  {
   "cell_type": "code",
   "execution_count": 6,
   "metadata": {},
   "outputs": [
    {
     "data": {
      "text/html": [
       "<div>\n",
       "<style scoped>\n",
       "    .dataframe tbody tr th:only-of-type {\n",
       "        vertical-align: middle;\n",
       "    }\n",
       "\n",
       "    .dataframe tbody tr th {\n",
       "        vertical-align: top;\n",
       "    }\n",
       "\n",
       "    .dataframe thead th {\n",
       "        text-align: right;\n",
       "    }\n",
       "</style>\n",
       "<table border=\"1\" class=\"dataframe\">\n",
       "  <thead>\n",
       "    <tr style=\"text-align: right;\">\n",
       "      <th></th>\n",
       "      <th>Md_vals</th>\n",
       "      <th>names</th>\n",
       "      <th>predictions</th>\n",
       "      <th>timescale</th>\n",
       "    </tr>\n",
       "  </thead>\n",
       "  <tbody>\n",
       "    <tr>\n",
       "      <th>0</th>\n",
       "      <td>0.511103</td>\n",
       "      <td>DRN436</td>\n",
       "      <td>&lt;src.SpikeTrainComparator.SpikeTrainComparator...</td>\n",
       "      <td>3</td>\n",
       "    </tr>\n",
       "    <tr>\n",
       "      <th>1</th>\n",
       "      <td>0.428461</td>\n",
       "      <td>DRN438</td>\n",
       "      <td>&lt;src.SpikeTrainComparator.SpikeTrainComparator...</td>\n",
       "      <td>3</td>\n",
       "    </tr>\n",
       "    <tr>\n",
       "      <th>2</th>\n",
       "      <td>0.348732</td>\n",
       "      <td>DRN439</td>\n",
       "      <td>&lt;src.SpikeTrainComparator.SpikeTrainComparator...</td>\n",
       "      <td>3</td>\n",
       "    </tr>\n",
       "    <tr>\n",
       "      <th>3</th>\n",
       "      <td>0.606439</td>\n",
       "      <td>DRN440</td>\n",
       "      <td>&lt;src.SpikeTrainComparator.SpikeTrainComparator...</td>\n",
       "      <td>3</td>\n",
       "    </tr>\n",
       "    <tr>\n",
       "      <th>4</th>\n",
       "      <td>0.224303</td>\n",
       "      <td>DRN436</td>\n",
       "      <td>&lt;src.SpikeTrainComparator.SpikeTrainComparator...</td>\n",
       "      <td>50</td>\n",
       "    </tr>\n",
       "    <tr>\n",
       "      <th>5</th>\n",
       "      <td>0.095210</td>\n",
       "      <td>DRN438</td>\n",
       "      <td>&lt;src.SpikeTrainComparator.SpikeTrainComparator...</td>\n",
       "      <td>50</td>\n",
       "    </tr>\n",
       "    <tr>\n",
       "      <th>6</th>\n",
       "      <td>0.281258</td>\n",
       "      <td>DRN439</td>\n",
       "      <td>&lt;src.SpikeTrainComparator.SpikeTrainComparator...</td>\n",
       "      <td>50</td>\n",
       "    </tr>\n",
       "    <tr>\n",
       "      <th>7</th>\n",
       "      <td>0.239659</td>\n",
       "      <td>DRN440</td>\n",
       "      <td>&lt;src.SpikeTrainComparator.SpikeTrainComparator...</td>\n",
       "      <td>50</td>\n",
       "    </tr>\n",
       "  </tbody>\n",
       "</table>\n",
       "</div>"
      ],
      "text/plain": [
       "    Md_vals   names                                        predictions  \\\n",
       "0  0.511103  DRN436  <src.SpikeTrainComparator.SpikeTrainComparator...   \n",
       "1  0.428461  DRN438  <src.SpikeTrainComparator.SpikeTrainComparator...   \n",
       "2  0.348732  DRN439  <src.SpikeTrainComparator.SpikeTrainComparator...   \n",
       "3  0.606439  DRN440  <src.SpikeTrainComparator.SpikeTrainComparator...   \n",
       "4  0.224303  DRN436  <src.SpikeTrainComparator.SpikeTrainComparator...   \n",
       "5  0.095210  DRN438  <src.SpikeTrainComparator.SpikeTrainComparator...   \n",
       "6  0.281258  DRN439  <src.SpikeTrainComparator.SpikeTrainComparator...   \n",
       "7  0.239659  DRN440  <src.SpikeTrainComparator.SpikeTrainComparator...   \n",
       "\n",
       "  timescale  \n",
       "0         3  \n",
       "1         3  \n",
       "2         3  \n",
       "3         3  \n",
       "4        50  \n",
       "5        50  \n",
       "6        50  \n",
       "7        50  "
      ]
     },
     "execution_count": 6,
     "metadata": {},
     "output_type": "execute_result"
    }
   ],
   "source": [
    "md_df"
   ]
  },
  {
   "cell_type": "code",
   "execution_count": 7,
   "metadata": {},
   "outputs": [
    {
     "data": {
      "text/html": [
       "<div>\n",
       "<style scoped>\n",
       "    .dataframe tbody tr th:only-of-type {\n",
       "        vertical-align: middle;\n",
       "    }\n",
       "\n",
       "    .dataframe tbody tr th {\n",
       "        vertical-align: top;\n",
       "    }\n",
       "\n",
       "    .dataframe thead th {\n",
       "        text-align: right;\n",
       "    }\n",
       "</style>\n",
       "<table border=\"1\" class=\"dataframe\">\n",
       "  <thead>\n",
       "    <tr style=\"text-align: right;\">\n",
       "      <th>names</th>\n",
       "      <th>DRN436</th>\n",
       "      <th>DRN438</th>\n",
       "      <th>DRN439</th>\n",
       "      <th>DRN440</th>\n",
       "    </tr>\n",
       "    <tr>\n",
       "      <th>timescale</th>\n",
       "      <th></th>\n",
       "      <th></th>\n",
       "      <th></th>\n",
       "      <th></th>\n",
       "    </tr>\n",
       "  </thead>\n",
       "  <tbody>\n",
       "    <tr>\n",
       "      <th>3</th>\n",
       "      <td>0.511103</td>\n",
       "      <td>0.428461</td>\n",
       "      <td>0.348732</td>\n",
       "      <td>0.606439</td>\n",
       "    </tr>\n",
       "    <tr>\n",
       "      <th>50</th>\n",
       "      <td>0.224303</td>\n",
       "      <td>0.095210</td>\n",
       "      <td>0.281258</td>\n",
       "      <td>0.239659</td>\n",
       "    </tr>\n",
       "  </tbody>\n",
       "</table>\n",
       "</div>"
      ],
      "text/plain": [
       "names        DRN436    DRN438    DRN439    DRN440\n",
       "timescale                                        \n",
       "3          0.511103  0.428461  0.348732  0.606439\n",
       "50         0.224303  0.095210  0.281258  0.239659"
      ]
     },
     "execution_count": 7,
     "metadata": {},
     "output_type": "execute_result"
    }
   ],
   "source": [
    "md_df.pivot(index='timescale', columns='names', values='Md_vals')"
   ]
  },
  {
   "cell_type": "code",
   "execution_count": 8,
   "metadata": {},
   "outputs": [
    {
     "data": {
      "image/png": "[encoded data removed]",
      "text/plain": [
       "<Figure size 432x288 with 1 Axes>"
      ]
     },
     "metadata": {
      "needs_background": "light"
     },
     "output_type": "display_data"
    }
   ],
   "source": [
    "plt.figure()\n",
    "\n",
    "plt.subplot(111)\n",
    "plt.title('Effect of varying OU timescale on Md*')\n",
    "plt.plot(md_df.pivot(index='timescale', columns='names', values='Md_vals').values, 'k')\n",
    "plt.xticks([0, 1], ['3', '50'])\n",
    "plt.xlabel(r'$\\tau$ (ms)')\n",
    "plt.ylim(0, 1)\n",
    "plt.ylabel('Md* (8ms)')\n",
    "\n",
    "plt.show()"
   ]
  },
  {
   "cell_type": "markdown",
   "metadata": {},
   "source": [
    "Looks like reducing the time constant of the OU noise to 3ms (what we used for SOM and pyr cells) improves Md* pretty significantly."
   ]
  },
  {
   "cell_type": "code",
   "execution_count": 18,
   "metadata": {},
   "outputs": [
    {
     "name": "stdout",
     "output_type": "stream",
     "text": [
      "Percentage of variance explained: 29.9\n"
     ]
    },
    {
     "data": {
      "image/png": "[encoded data removed]",
      "text/plain": [
       "<Figure size 1008x288 with 2 Axes>"
      ]
     },
     "metadata": {},
     "output_type": "display_data"
    }
   ],
   "source": [
    "md_df.loc[3, 'predictions'].plotRaster()"
   ]
  },
  {
   "cell_type": "code",
   "execution_count": 19,
   "metadata": {},
   "outputs": [
    {
     "name": "stdout",
     "output_type": "stream",
     "text": [
      "Percentage of variance explained: 3.4\n"
     ]
    },
    {
     "data": {
      "image/png": "[encoded data removed]",
      "text/plain": [
       "<Figure size 1008x288 with 2 Axes>"
      ]
     },
     "metadata": {},
     "output_type": "display_data"
    }
   ],
   "source": [
    "md_df.loc[7, 'predictions'].plotRaster()"
   ]
  },
  {
   "cell_type": "markdown",
   "metadata": {},
   "source": [
    "Upper plot is with $\\tau$ = 3ms, lower plot is with $\\tau$ = 50ms in same cell."
   ]
  }
 ],
 "metadata": {
  "kernelspec": {
   "display_name": "Python 2",
   "language": "python",
   "name": "python2"
  },
  "language_info": {
   "codemirror_mode": {
    "name": "ipython",
    "version": 2
   },
   "file_extension": ".py",
   "mimetype": "text/x-python",
   "name": "python",
   "nbconvert_exporter": "python",
   "pygments_lexer": "ipython2",
   "version": "2.7.15"
  }
 },
 "nbformat": 4,
 "nbformat_minor": 2
}

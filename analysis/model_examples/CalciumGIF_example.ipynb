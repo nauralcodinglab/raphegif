{
 "cells": [
  {
   "cell_type": "markdown",
   "metadata": {},
   "source": [
    "## Import modules"
   ]
  },
  {
   "cell_type": "code",
   "execution_count": 2,
   "metadata": {},
   "outputs": [
    {
     "name": "stdout",
     "output_type": "stream",
     "text": [
      "/Users/eharkin/Documents/School/Grad work/Thesis/Experiments/GIF fitting/GIF fitting project/GIFFittingToolbox\n"
     ]
    }
   ],
   "source": [
    "from __future__ import division\n",
    "\n",
    "import os; os.chdir(os.path.join('..', '..'))\n",
    "print os.getcwd()"
   ]
  },
  {
   "cell_type": "code",
   "execution_count": 12,
   "metadata": {},
   "outputs": [],
   "source": [
    "import numpy as np\n",
    "import matplotlib.pyplot as plt\n",
    "import matplotlib.gridspec as gs\n",
    "\n",
    "from grr.CalciumGIF import CalciumGIF"
   ]
  },
  {
   "cell_type": "markdown",
   "metadata": {},
   "source": [
    "## Run CaGIF out of the box\n",
    "\n",
    "`CalciumGIF` is an `AugmentedGIF`-based class with a T-type calcium conductance according to Alexandre's implementation from 2017. The Ca current has hard-coded voltage-dependent kinetics."
   ]
  },
  {
   "cell_type": "code",
   "execution_count": 5,
   "metadata": {},
   "outputs": [
    {
     "name": "stdout",
     "output_type": "stream",
     "text": [
      "Help on CalciumGIF in module src.CalciumGIF object:\n",
      "\n",
      "class CalciumGIF(src.AugmentedGIF.AugmentedGIF)\n",
      " |  Method resolution order:\n",
      " |      CalciumGIF\n",
      " |      src.AugmentedGIF.AugmentedGIF\n",
      " |      src.GIF.GIF\n",
      " |      src.ThresholdModel.ThresholdModel\n",
      " |      src.SpikingModel.SpikingModel\n",
      " |      __builtin__.object\n",
      " |  \n",
      " |  Methods defined here:\n",
      " |  \n",
      " |  __init__(self, dt=0.1)\n",
      " |  \n",
      " |  computeGating(self, V, inf_vec, tau)\n",
      " |      Compute the state of a gate over time.\n",
      " |      \n",
      " |      Wrapper for _computeGatingInternal, which is a nb.jit-accelerated static method.\n",
      " |      \n",
      " |      tau can be a function or float.\n",
      " |  \n",
      " |  getDF_Ca(self, V)\n",
      " |  \n",
      " |  hInf(self, V)\n",
      " |      Compute the equilibrium state of the inactivation gate of the calcium conductance.\n",
      " |  \n",
      " |  mInf(self, V)\n",
      " |      Compute the equilibrium activation gate state of the calcium conductance.\n",
      " |  \n",
      " |  simulate(self, I, V0)\n",
      " |      Simulate the spiking response of the GIF model to an input current I (nA) with time step dt.\n",
      " |      V0 indicate the initial condition V(0)=V0.\n",
      " |      The function returns:\n",
      " |      - time     : ms, support for V, eta_sum, V_T, spks\n",
      " |      - V        : mV, membrane potential\n",
      " |      - eta_sum  : nA, adaptation current\n",
      " |      - V_T      : mV, firing threshold\n",
      " |      - spks     : ms, list of spike times\n",
      " |  \n",
      " |  simulateDeterministic_forceSpikes(self, I, V0, spks)\n",
      " |      Simulate the spiking response of the GIF model to an input current I (nA) with time step dt.\n",
      " |      V0 indicate the initial condition V(0)=V0.\n",
      " |      The function returns:\n",
      " |      - time     : ms, support for V, eta_sum, V_T, spks\n",
      " |      - V        : mV, membrane potential\n",
      " |      - eta_sum  : nA, adaptation current\n",
      " |      - V_T      : mV, firing threshold\n",
      " |      - spks     : ms, list of spike times\n",
      " |  \n",
      " |  ----------------------------------------------------------------------\n",
      " |  Static methods defined here:\n",
      " |  \n",
      " |  h_tau(...)\n",
      " |      Compute the inactivation time of the calcium conductance.\n",
      " |  \n",
      " |  m_tau(...)\n",
      " |      Compute the activation time of the calcium conductance.\n",
      " |  \n",
      " |  ----------------------------------------------------------------------\n",
      " |  Data and other attributes defined here:\n",
      " |  \n",
      " |  __abstractmethods__ = frozenset([])\n",
      " |  \n",
      " |  ----------------------------------------------------------------------\n",
      " |  Methods inherited from src.AugmentedGIF.AugmentedGIF:\n",
      " |  \n",
      " |  fitSubthresholdDynamics(self, experiment, DT_beforeSpike=5.0)\n",
      " |      Implement Step 2 of the fitting procedure introduced in Pozzorini et al. PLOS Comb. Biol. 2015\n",
      " |      The voltage reset is estimated by computing the spike-triggered average of the voltage.\n",
      " |      experiment: Experiment object on which the model is fitted.\n",
      " |      DT_beforeSpike: in ms, data right before spikes are excluded from the fit. This parameter can be used to define that time interval.\n",
      " |  \n",
      " |  fitSubthresholdDynamics_Build_Xmatrix_Yvector(self, trace, DT_beforeSpike=5.0)\n",
      " |      Compute the X matrix and the Y vector (i.e. \\dot_V_data) used to perfomr the linear regression\n",
      " |      defined in Eq. 17-18 of Pozzorini et al. 2015 for an individual experimental trace provided as parameter.\n",
      " |      The input parameter trace is an ojbect of class Trace.\n",
      " |  \n",
      " |  getDF_K(self, V)\n",
      " |      Compute driving force on K based on SubthreshGIF_K.E_K and V.\n",
      " |  \n",
      " |  nInf(self, V)\n",
      " |      Compute the equilibrium state of the non-inactivating conductance.\n",
      " |  \n",
      " |  ----------------------------------------------------------------------\n",
      " |  Methods inherited from src.GIF.GIF:\n",
      " |  \n",
      " |  buildXmatrix_dynamicThreshold(self, tr, V_est)\n",
      " |      Use this function to fit a model in which the firing threshold dynamics is defined as:\n",
      " |      V_T(t) = Vt_star + sum_i gamma(t-\\hat t_i) (i.e., model with spike-triggered movement of the threshold)\n",
      " |      This function computes the matrix X made of vectors y defined as in Eq. 21 (Pozzorini et al. 2015).\n",
      " |  \n",
      " |  buildXmatrix_staticThreshold(self, tr, V_est)\n",
      " |      Use this function to fit a model in which the firing threshold dynamics is defined as:\n",
      " |      V_T(t) = Vt_star (i.e., no spike-triggered movement of the firing threshold).\n",
      " |      This function computes the matrix X made of vectors y simlar to the ones defined in Eq. 21 (Pozzorini et al. 2015).\n",
      " |      In contrast ot Eq. 21, the X matrix computed here does not include the columns related to the spike-triggered threshold movement.\n",
      " |  \n",
      " |  computeLikelihoodGradientHessian(self, beta, X, X_spikes, sum_X_spikes)\n",
      " |      Compute the log-likelihood, its gradient and hessian for a model whose \n",
      " |      log-likelihood has the same form as the one defined in Eq. 20 (Pozzorini et al. PLOS Comp. Biol. 2015)\n",
      " |  \n",
      " |  fit(self, experiment, DT_beforeSpike=5.0)\n",
      " |      Fit the GIF model on experimental data.\n",
      " |      The experimental data are stored in the object experiment provided as an input.\n",
      " |      The parameter DT_beforeSpike (in ms) defines the region that is cut before each spike when fitting the subthreshold dynamics of the membrane potential.\n",
      " |      Only training set traces in experiment are used to perform the fit.\n",
      " |  \n",
      " |  fitStaticThreshold(self, experiment)\n",
      " |      Implement Step 3 of the fitting procedure introduced in Pozzorini et al. PLOS Comb. Biol. 2015\n",
      " |      Instead of directly fitting a dynamic threshold, this function just fit a constant threshold.\n",
      " |      The output of this fit can be used as a smart initial condition to fit the full GIF model (i.e.,\n",
      " |      a model featuting a spike-triggered current gamma). See Pozzorini et al. PLOS Comp. Biol. 2015\n",
      " |      experiment: Experiment object on which the model is fitted.\n",
      " |  \n",
      " |  fitThresholdDynamics(self, experiment)\n",
      " |      Implement Step 3 of the fitting procedure introduced in Pozzorini et al. PLOS Comb. Biol. 2015\n",
      " |      Fit firing threshold dynamics by solving Eq. 20 using Newton method.\n",
      " |      \n",
      " |      experiment: Experiment object on which the model is fitted.\n",
      " |  \n",
      " |  fitVoltageReset(self, experiment, Tref, do_plot=False)\n",
      " |      Implement Step 1 of the fitting procedure introduced in Pozzorini et al. PLOS Comb. Biol. 2015\n",
      " |      experiment: Experiment object on which the model is fitted.\n",
      " |      Tref: ms, absolute refractory period. \n",
      " |      The voltage reset is estimated by computing the spike-triggered average of the voltage.\n",
      " |  \n",
      " |  maximizeLikelihood(self, experiment, beta0, buildXmatrix, maxIter=1000, stopCond=1e-06)\n",
      " |      Maximize likelihood. This function can be used to fit any model of the form lambda=exp(Xbeta).\n",
      " |      This function is used to fit both:\n",
      " |      - static threshold\n",
      " |      - dynamic threshold\n",
      " |      The difference between the two functions is in the size of beta0 and the returned beta, as well\n",
      " |      as the function buildXmatrix.\n",
      " |  \n",
      " |  plotParameters(self)\n",
      " |      Generate figure with model filters.\n",
      " |  \n",
      " |  printParameters(self)\n",
      " |      Print model parameters on terminal.\n",
      " |  \n",
      " |  setDt(self, dt)\n",
      " |      Define the time step used for numerical simulations. The filters eta and gamma are interpolated accordingly.\n",
      " |  \n",
      " |  simulateSpikingResponse(self, I, dt)\n",
      " |      Simulate the spiking response of the GIF model to an input current I (nA) with time step dt.\n",
      " |      Return a list of spike times (in ms).\n",
      " |      The initial conditions for the simulation is V(0)=El.\n",
      " |  \n",
      " |  simulateVoltageResponse(self, I, dt)\n",
      " |  \n",
      " |  ----------------------------------------------------------------------\n",
      " |  Class methods inherited from src.GIF.GIF:\n",
      " |  \n",
      " |  compareModels(cls, GIFs, labels=None) from abc.ABCMeta\n",
      " |      Given a list of GIF models, GIFs, the function produce a plot in which the model parameters are compared.\n",
      " |  \n",
      " |  plotAverageModel(cls, GIFs) from abc.ABCMeta\n",
      " |      Average model parameters and plot summary data.\n",
      " |  \n",
      " |  ----------------------------------------------------------------------\n",
      " |  Methods inherited from src.ThresholdModel.ThresholdModel:\n",
      " |  \n",
      " |  computeRateAndThreshold_vs_I(self, mu, sigma, tau, dt, T, ROI, nbRep=10)\n",
      " |      Compute standard FI curve using multiple OU processes with means mu (list), standard deviations sigma (list)\n",
      " |      temporal correlation tau (in ms) and of duration T.\n",
      " |      Use ROI to define the region of interest over which to compute the average firing rate. ROI can be usful when\n",
      " |      one wants to evaluate the transient or the steady state FI.\n",
      " |      This function also compute the theta-I curve, that the average value of the firing threshold as a function of the\n",
      " |      input statistics.\n",
      " |  \n",
      " |  ----------------------------------------------------------------------\n",
      " |  Data and other attributes inherited from src.ThresholdModel.ThresholdModel:\n",
      " |  \n",
      " |  __metaclass__ = <class 'abc.ABCMeta'>\n",
      " |      Metaclass for defining Abstract Base Classes (ABCs).\n",
      " |      \n",
      " |      Use this metaclass to create an ABC.  An ABC can be subclassed\n",
      " |      directly, and then acts as a mix-in class.  You can also register\n",
      " |      unrelated concrete classes (even built-in classes) and unrelated\n",
      " |      ABCs as 'virtual subclasses' -- these and their descendants will\n",
      " |      be considered subclasses of the registering ABC by the built-in\n",
      " |      issubclass() function, but the registering ABC won't show up in\n",
      " |      their MRO (Method Resolution Order) nor will method\n",
      " |      implementations defined by the registering ABC be callable (not\n",
      " |      even via super()).\n",
      " |  \n",
      " |  ----------------------------------------------------------------------\n",
      " |  Methods inherited from src.SpikingModel.SpikingModel:\n",
      " |  \n",
      " |  computeFIcurve(self, mu, sigma, tau, dt, T, ROI, nbRep=10)\n",
      " |      Compute standard FI curve using multiple OU processes with means mu (list), standard deviations sigma (list)\n",
      " |      temporal correlation tau (in ms) and of duration T.\n",
      " |      Use ROI to define the region of interest over which to compute the average firing rate. ROI can be usful when\n",
      " |      one wants to evaluate the transient or the steady state FI.\n",
      " |  \n",
      " |  save(self, path)\n",
      " |      ############################################################################################\n",
      " |      # FUNCTIONS FOR SAVING AND LOADING AN EXPERIMENT\n",
      " |      ############################################################################################\n",
      " |  \n",
      " |  ----------------------------------------------------------------------\n",
      " |  Class methods inherited from src.SpikingModel.SpikingModel:\n",
      " |  \n",
      " |  load(cls, path) from abc.ABCMeta\n",
      " |  \n",
      " |  ----------------------------------------------------------------------\n",
      " |  Data descriptors inherited from src.SpikingModel.SpikingModel:\n",
      " |  \n",
      " |  __dict__\n",
      " |      dictionary for instance variables (if defined)\n",
      " |  \n",
      " |  __weakref__\n",
      " |      list of weak references to the object (if defined)\n",
      "\n"
     ]
    }
   ],
   "source": [
    "cagif = CalciumGIF(0.1)\n",
    "help(cagif)"
   ]
  },
  {
   "cell_type": "code",
   "execution_count": 28,
   "metadata": {},
   "outputs": [
    {
     "data": {
      "image/png": "[encoded data removed]",
      "text/plain": [
       "<Figure size 432x288 with 2 Axes>"
      ]
     },
     "metadata": {
      "needs_background": "light"
     },
     "output_type": "display_data"
    }
   ],
   "source": [
    "current_step = np.concatenate([\n",
    "    -0.03 * np.ones(5000), 0.3 * np.ones(5000)\n",
    "])\n",
    "\n",
    "t, V, eta, V_T, spks = cagif.simulate(current_step, cagif.El)\n",
    "\n",
    "spec = gs.GridSpec(2, 1, height_ratios = (0.2, 1), hspace = 0)\n",
    "\n",
    "plt.figure()\n",
    "plt.subplot(spec[0, :])\n",
    "plt.plot(t, current_step, '-', color = 'gray', lw = 0.5)\n",
    "plt.ylabel('I (nA)')\n",
    "plt.subplot(spec[1, :])\n",
    "plt.plot(t, V, 'k-', lw = 0.5)\n",
    "plt.ylabel('V (mV)')\n",
    "plt.xlabel('Time (ms)')\n",
    "plt.show()"
   ]
  },
  {
   "cell_type": "markdown",
   "metadata": {},
   "source": [
    "## Effect of varying Ca conductance magnitude\n",
    "\n",
    "'Large', 'medium', and 'small' are somewhat arbitrary, since we don't actually have estimates for the magnitude of the conductance."
   ]
  },
  {
   "cell_type": "code",
   "execution_count": 20,
   "metadata": {},
   "outputs": [],
   "source": [
    "smallca = CalciumGIF(0.1)\n",
    "smallca.gbar_K1 = 0.001\n",
    "\n",
    "medca = CalciumGIF(0.1)\n",
    "medca.gbar_K1 = 0.007\n",
    "\n",
    "largeca = CalciumGIF(0.1)\n",
    "largeca.gbar_K1 = 0.015\n",
    "\n",
    "CaGIFs = [smallca, medca, largeca]"
   ]
  },
  {
   "cell_type": "code",
   "execution_count": 27,
   "metadata": {},
   "outputs": [
    {
     "data": {
      "image/png": "[encoded data removed]",
      "text/plain": [
       "<Figure size 576x288 with 3 Axes>"
      ]
     },
     "metadata": {
      "needs_background": "light"
     },
     "output_type": "display_data"
    }
   ],
   "source": [
    "plt.figure(figsize = (8, 4))\n",
    "for i, CaGIF_ in enumerate(CaGIFs):\n",
    "    \n",
    "    t, V, eta, V_T, spks = CaGIF_.simulate(current_step, CaGIF_.El)\n",
    "    \n",
    "    plt.subplot(1, len(CaGIFs), i + 1)\n",
    "    plt.title('gCa = {:.3f}'.format(CaGIF_.gbar_K1))\n",
    "    plt.plot(t, V, 'k-', lw = 0.5)\n",
    "\n",
    "plt.tight_layout()\n",
    "plt.show()"
   ]
  },
  {
   "cell_type": "code",
   "execution_count": null,
   "metadata": {},
   "outputs": [],
   "source": []
  }
 ],
 "metadata": {
  "kernelspec": {
   "display_name": "Python 2",
   "language": "python",
   "name": "python2"
  },
  "language_info": {
   "codemirror_mode": {
    "name": "ipython",
    "version": 2
   },
   "file_extension": ".py",
   "mimetype": "text/x-python",
   "name": "python",
   "nbconvert_exporter": "python",
   "pygments_lexer": "ipython2",
   "version": "2.7.15"
  }
 },
 "nbformat": 4,
 "nbformat_minor": 2
}
